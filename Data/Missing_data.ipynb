{
 "cells": [
  {
   "cell_type": "code",
   "execution_count": 1,
   "id": "c17a6462",
   "metadata": {},
   "outputs": [],
   "source": [
    "import pandas as pd"
   ]
  },
  {
   "cell_type": "code",
   "execution_count": 2,
   "id": "66ecdc24",
   "metadata": {},
   "outputs": [],
   "source": [
    "train = pd.read_csv('./0/X_train_0_WELL.csv')\n",
    "test = pd.read_csv('./0/X_test_0_WELL.csv')"
   ]
  },
  {
   "cell_type": "code",
   "execution_count": 4,
   "id": "6f16d347",
   "metadata": {},
   "outputs": [
    {
     "data": {
      "text/plain": [
       "0           1\n",
       "1           1\n",
       "2           1\n",
       "3           1\n",
       "4           1\n",
       "           ..\n",
       "1170506    98\n",
       "1170507    98\n",
       "1170508    98\n",
       "1170509    98\n",
       "1170510    98\n",
       "Name: WELL, Length: 1170511, dtype: int64"
      ]
     },
     "execution_count": 4,
     "metadata": {},
     "output_type": "execute_result"
    }
   ],
   "source": [
    "train['WELL']"
   ]
  },
  {
   "cell_type": "code",
   "execution_count": 5,
   "id": "5e09a5be",
   "metadata": {},
   "outputs": [
    {
     "data": {
      "text/plain": [
       "0          99\n",
       "1          99\n",
       "2          99\n",
       "3          99\n",
       "4          99\n",
       "         ... \n",
       "136781    108\n",
       "136782    108\n",
       "136783    108\n",
       "136784    108\n",
       "136785    108\n",
       "Name: WELL, Length: 136786, dtype: int64"
      ]
     },
     "execution_count": 5,
     "metadata": {},
     "output_type": "execute_result"
    }
   ],
   "source": [
    "test['WELL']"
   ]
  },
  {
   "cell_type": "code",
   "execution_count": 6,
   "id": "481dbc1a",
   "metadata": {},
   "outputs": [],
   "source": [
    "k1 = pd.read_csv('./Missing_KNN/X_train_50_well.csv')\n",
    "k2 = pd.read_csv('./Missing_KNN/X_test_50_C_well.csv')"
   ]
  },
  {
   "cell_type": "code",
   "execution_count": 15,
   "id": "a720e73a",
   "metadata": {},
   "outputs": [],
   "source": [
    "k1 = k1.merge(train['WELL'].to_frame(), left_index=True, right_index=True)"
   ]
  },
  {
   "cell_type": "code",
   "execution_count": 16,
   "id": "aaefb92a",
   "metadata": {},
   "outputs": [],
   "source": [
    "k2 = k2.merge(test['WELL'].to_frame(), left_index=True, right_index=True)"
   ]
  },
  {
   "cell_type": "code",
   "execution_count": 17,
   "id": "ab6655bb",
   "metadata": {},
   "outputs": [],
   "source": [
    "k1.to_csv(\"./Missing_KNN/X_train_50_well.csv\", index = False)\n",
    "k2.to_csv(\"./Missing_KNN/X_test_50_C_well.csv\", index = False)\n"
   ]
  },
  {
   "cell_type": "code",
   "execution_count": 18,
   "id": "18ac4022",
   "metadata": {},
   "outputs": [],
   "source": [
    "m1 = pd.read_csv('./Missing_mean/X_train_well.csv')\n",
    "m2 = pd.read_csv('./Missing_mean/X_test_well.csv')"
   ]
  },
  {
   "cell_type": "code",
   "execution_count": 19,
   "id": "9df5ff99",
   "metadata": {},
   "outputs": [],
   "source": [
    "m1 = m1.merge(train['WELL'].to_frame(), left_index=True, right_index=True)\n",
    "m2 = m2.merge(test['WELL'].to_frame(), left_index=True, right_index=True)"
   ]
  },
  {
   "cell_type": "code",
   "execution_count": 21,
   "id": "89f3b209",
   "metadata": {},
   "outputs": [],
   "source": [
    "m1.to_csv(\"./Missing_mean/X_train_well.csv\", index = False)\n",
    "m2.to_csv(\"./Missing_mean/X_test_well.csv\", index = False)\n"
   ]
  },
  {
   "cell_type": "code",
   "execution_count": 22,
   "id": "c2de8031",
   "metadata": {},
   "outputs": [],
   "source": [
    "mi1 = pd.read_csv('./Missing_MICE/X_train_preTrain_well.csv')\n",
    "mi2 = pd.read_csv('./Missing_MICE/X_test_preTrain_well.csv')"
   ]
  },
  {
   "cell_type": "code",
   "execution_count": 23,
   "id": "68eb6334",
   "metadata": {},
   "outputs": [],
   "source": [
    "mi1 = mi1.merge(train['WELL'].to_frame(), left_index=True, right_index=True)\n",
    "mi2 = mi2.merge(test['WELL'].to_frame(), left_index=True, right_index=True)"
   ]
  },
  {
   "cell_type": "code",
   "execution_count": 24,
   "id": "50496ce9",
   "metadata": {},
   "outputs": [],
   "source": [
    "mi1.to_csv(\"./Missing_MICE/X_train_preTrain_well.csv\", index = False)\n",
    "mi2.to_csv(\"./Missing_MICE/X_test_preTrain_well.csv\", index = False)\n"
   ]
  },
  {
   "cell_type": "code",
   "execution_count": null,
   "id": "0b594041",
   "metadata": {},
   "outputs": [],
   "source": []
  }
 ],
 "metadata": {
  "kernelspec": {
   "display_name": "Python 3",
   "language": "python",
   "name": "python3"
  },
  "language_info": {
   "codemirror_mode": {
    "name": "ipython",
    "version": 3
   },
   "file_extension": ".py",
   "mimetype": "text/x-python",
   "name": "python",
   "nbconvert_exporter": "python",
   "pygments_lexer": "ipython3",
   "version": "3.8.8"
  }
 },
 "nbformat": 4,
 "nbformat_minor": 5
}
