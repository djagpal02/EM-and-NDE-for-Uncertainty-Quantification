{
 "cells": [
  {
   "cell_type": "code",
   "execution_count": 23,
   "id": "d064b4e4",
   "metadata": {},
   "outputs": [],
   "source": [
    "from pytorch_tabnet.tab_model import TabNetClassifier\n",
    "import pandas as pd\n",
    "from matplotlib import pyplot as plt\n",
    "import torch\n",
    "import numpy as np"
   ]
  },
  {
   "cell_type": "code",
   "execution_count": 24,
   "id": "ce366be8",
   "metadata": {},
   "outputs": [],
   "source": [
    "A = np.load('../../Utils/penalty_matrix.npy')"
   ]
  },
  {
   "cell_type": "code",
   "execution_count": 25,
   "id": "9d21128a",
   "metadata": {},
   "outputs": [],
   "source": [
    "def score(y_test, y_pred):\n",
    "    S = 0.0\n",
    "    for i in range(0, y_test.shape[0]):\n",
    "        S -= A[y_test[i], y_pred[i]]\n",
    "    return S/y_test.shape[0]"
   ]
  },
  {
   "cell_type": "code",
   "execution_count": 26,
   "id": "576aa2ff",
   "metadata": {},
   "outputs": [],
   "source": [
    "x = pd.read_csv('../../Data/Missing_0_Mask/X_train_0.csv').to_numpy()\n",
    "y = pd.read_csv('../../Data/Y_train.csv').to_numpy().reshape(-1)\n",
    "xt = pd.read_csv('../../Data/Missing_0_Mask/X_test_0.csv').to_numpy()\n",
    "yt = pd.read_csv('../../Data/Y_test.csv').to_numpy().reshape(-1)\n",
    "xht = pd.read_csv('../../Data/Missing_0_Mask/X_hidden_0.csv').to_numpy()\n",
    "yht = pd.read_csv('../../Data/Y_hidden.csv').to_numpy().reshape(-1)"
   ]
  },
  {
   "cell_type": "code",
   "execution_count": 27,
   "id": "db4ca52a",
   "metadata": {},
   "outputs": [
    {
     "data": {
      "text/plain": [
       "(1170511, 26)"
      ]
     },
     "execution_count": 27,
     "metadata": {},
     "output_type": "execute_result"
    }
   ],
   "source": [
    "x.shape"
   ]
  },
  {
   "cell_type": "code",
   "execution_count": 28,
   "id": "9b9c92fb",
   "metadata": {},
   "outputs": [
    {
     "name": "stdout",
     "output_type": "stream",
     "text": [
      "Device used : cuda\n",
      "epoch 0  | loss: 0.77011 | val_0_accuracy: 0.78105 | val_1_accuracy: 0.69955 |  0:00:57s\n",
      "epoch 1  | loss: 0.60364 | val_0_accuracy: 0.81183 | val_1_accuracy: 0.72423 |  0:01:56s\n",
      "epoch 2  | loss: 0.52842 | val_0_accuracy: 0.83693 | val_1_accuracy: 0.75113 |  0:02:53s\n",
      "epoch 3  | loss: 0.46264 | val_0_accuracy: 0.85164 | val_1_accuracy: 0.7637  |  0:03:50s\n",
      "epoch 4  | loss: 0.42765 | val_0_accuracy: 0.85754 | val_1_accuracy: 0.75859 |  0:04:47s\n",
      "epoch 5  | loss: 0.40564 | val_0_accuracy: 0.87155 | val_1_accuracy: 0.75019 |  0:05:44s\n",
      "epoch 6  | loss: 0.40552 | val_0_accuracy: 0.85772 | val_1_accuracy: 0.75393 |  0:06:42s\n",
      "epoch 7  | loss: 0.40535 | val_0_accuracy: 0.86869 | val_1_accuracy: 0.76166 |  0:07:39s\n",
      "epoch 8  | loss: 0.37346 | val_0_accuracy: 0.88083 | val_1_accuracy: 0.76222 |  0:08:36s\n",
      "epoch 9  | loss: 0.36495 | val_0_accuracy: 0.87845 | val_1_accuracy: 0.76784 |  0:09:33s\n",
      "epoch 10 | loss: 0.34578 | val_0_accuracy: 0.87927 | val_1_accuracy: 0.77788 |  0:10:30s\n",
      "epoch 11 | loss: 0.33528 | val_0_accuracy: 0.88723 | val_1_accuracy: 0.75521 |  0:11:27s\n",
      "epoch 12 | loss: 0.33172 | val_0_accuracy: 0.87751 | val_1_accuracy: 0.74309 |  0:12:24s\n",
      "epoch 13 | loss: 0.33215 | val_0_accuracy: 0.88463 | val_1_accuracy: 0.74363 |  0:13:21s\n",
      "epoch 14 | loss: 0.33687 | val_0_accuracy: 0.88154 | val_1_accuracy: 0.76358 |  0:14:18s\n",
      "epoch 15 | loss: 0.33628 | val_0_accuracy: 0.8817  | val_1_accuracy: 0.73195 |  0:15:15s\n",
      "epoch 16 | loss: 0.32754 | val_0_accuracy: 0.88979 | val_1_accuracy: 0.75026 |  0:16:12s\n",
      "epoch 17 | loss: 0.32205 | val_0_accuracy: 0.88585 | val_1_accuracy: 0.76643 |  0:17:09s\n",
      "epoch 18 | loss: 0.32824 | val_0_accuracy: 0.89062 | val_1_accuracy: 0.76242 |  0:18:06s\n",
      "epoch 19 | loss: 0.31456 | val_0_accuracy: 0.89425 | val_1_accuracy: 0.76547 |  0:19:03s\n",
      "epoch 20 | loss: 0.31418 | val_0_accuracy: 0.88587 | val_1_accuracy: 0.7329  |  0:20:00s\n",
      "\n",
      "Early stopping occurred at epoch 20 with best_epoch = 10 and best_val_1_accuracy = 0.77788\n",
      "Best weights from best epoch are automatically used!\n"
     ]
    }
   ],
   "source": [
    "# 3- F1 Score - Unbalanced\n",
    "n_d = 8+47\n",
    "n_a = n_d\n",
    "n_steps=3+1\n",
    "lr=0.01\n",
    "gamma=1+0.7399990400995684\n",
    "n_independent=1+1\n",
    "n_shared =1+1\n",
    "momentum=0.34076354946098486\n",
    "\n",
    "clf2 = TabNetClassifier(n_d =n_d, n_a = n_d, n_steps=n_steps,  cat_idxs = [24,25], optimizer_params=dict(lr=lr), gamma=1+gamma, n_independent=n_independent, n_shared = n_shared, momentum= momentum)\n",
    "clf2.fit(x,y, eval_set=[(x,y),(xt, yt)], max_epochs = 100)  "
   ]
  },
  {
   "cell_type": "code",
   "execution_count": null,
   "id": "5c3c771f",
   "metadata": {},
   "outputs": [],
   "source": [
    "saving_path_name = \"./tabnet_model_test_1\"\n",
    "saved_filepath = clf2.save_model(saving_path_name)"
   ]
  },
  {
   "cell_type": "code",
   "execution_count": 6,
   "id": "c1b8293b",
   "metadata": {},
   "outputs": [
    {
     "name": "stdout",
     "output_type": "stream",
     "text": [
      "Device used : cuda\n",
      "Device used : cuda\n"
     ]
    }
   ],
   "source": [
    "n_d = 8+47\n",
    "n_a = n_d\n",
    "n_steps=3+1\n",
    "lr=0.01\n",
    "gamma=1+0.7399990400995684\n",
    "n_independent=1+1\n",
    "n_shared =1+1\n",
    "momentum=0.34076354946098486\n",
    "\n",
    "clf2 = TabNetClassifier(n_d =n_d, n_a = n_d, n_steps=n_steps,  cat_idxs = [24,25], optimizer_params=dict(lr=lr), gamma=1+gamma, n_independent=n_independent, n_shared = n_shared, momentum= momentum)\n",
    "clf2.load_model('tabnet_model_test_1.zip')"
   ]
  },
  {
   "cell_type": "code",
   "execution_count": 7,
   "id": "17ba43a6",
   "metadata": {},
   "outputs": [
    {
     "data": {
      "text/plain": [
       "0.8792749491461421"
      ]
     },
     "execution_count": 7,
     "metadata": {},
     "output_type": "execute_result"
    }
   ],
   "source": [
    "# Training Accuracy\n",
    "pred = clf2.predict(x)\n",
    "np.mean(y == pred)"
   ]
  },
  {
   "cell_type": "code",
   "execution_count": 8,
   "id": "66cabcf0",
   "metadata": {},
   "outputs": [
    {
     "data": {
      "text/plain": [
       "-0.3135305862140552"
      ]
     },
     "execution_count": 8,
     "metadata": {},
     "output_type": "execute_result"
    }
   ],
   "source": [
    "# Training Score\n",
    "score(y, pred)"
   ]
  },
  {
   "cell_type": "code",
   "execution_count": 9,
   "id": "250e0b50",
   "metadata": {},
   "outputs": [
    {
     "data": {
      "text/plain": [
       "0.7778793151345897"
      ]
     },
     "execution_count": 9,
     "metadata": {},
     "output_type": "execute_result"
    }
   ],
   "source": [
    "# Test Accuracy\n",
    "predt = clf2.predict(xt)\n",
    "np.mean(yt == predt)"
   ]
  },
  {
   "cell_type": "code",
   "execution_count": 10,
   "id": "f186458c",
   "metadata": {},
   "outputs": [
    {
     "data": {
      "text/plain": [
       "-0.581412754229234"
      ]
     },
     "execution_count": 10,
     "metadata": {},
     "output_type": "execute_result"
    }
   ],
   "source": [
    "# Test Score\n",
    "score(yt, predt)"
   ]
  },
  {
   "cell_type": "code",
   "execution_count": 11,
   "id": "f8021345",
   "metadata": {},
   "outputs": [
    {
     "data": {
      "text/plain": [
       "0.8792749491461421"
      ]
     },
     "execution_count": 11,
     "metadata": {},
     "output_type": "execute_result"
    }
   ],
   "source": [
    "# Hidden Accuracy\n",
    "pred = clf2.predict(x)\n",
    "np.mean(y == pred)"
   ]
  },
  {
   "cell_type": "code",
   "execution_count": 12,
   "id": "009fe313",
   "metadata": {},
   "outputs": [
    {
     "data": {
      "text/plain": [
       "-0.3135305862140552"
      ]
     },
     "execution_count": 12,
     "metadata": {},
     "output_type": "execute_result"
    }
   ],
   "source": [
    "# Hidden Score\n",
    "score(y, pred)"
   ]
  },
  {
   "cell_type": "code",
   "execution_count": 17,
   "id": "7352fdd5",
   "metadata": {},
   "outputs": [],
   "source": [
    "labels = ['DEPTH_MD', 'X_LOC', 'Y_LOC', 'Z_LOC', 'CALI', 'RSHA', 'RMED', 'RDEP',\n",
    "       'RHOB', 'GR', 'SGR', 'NPHI', 'PEF', 'DTC', 'SP', 'BS', 'ROP', 'DTS',\n",
    "       'DCAL', 'DRHO', 'MUDWEIGHT', 'RMIC', 'ROPA', 'RXO', 'GROUP',\n",
    "       'FORMATION']"
   ]
  },
  {
   "cell_type": "code",
   "execution_count": 30,
   "id": "b257de0c",
   "metadata": {
    "scrolled": true
   },
   "outputs": [
    {
     "data": {
      "text/plain": [
       "Text(0, 0.5, 'Importance')"
      ]
     },
     "execution_count": 30,
     "metadata": {},
     "output_type": "execute_result"
    },
    {
     "data": {
      "image/png": "[encoded data removed]",
      "text/plain": [
       "<Figure size 432x288 with 1 Axes>"
      ]
     },
     "metadata": {
      "needs_background": "light"
     },
     "output_type": "display_data"
    }
   ],
   "source": [
    "# Feature Imporatnce\n",
    "plt.bar(labels, clf2.feature_importances_)\n",
    "plt.xticks(rotation='vertical')\n",
    "plt.title('Feature Importance')\n",
    "plt.xlabel('Feature')\n",
    "plt.ylabel('Importance')"
   ]
  },
  {
   "cell_type": "code",
   "execution_count": 10,
   "id": "514da1bc",
   "metadata": {},
   "outputs": [
    {
     "data": {
      "text/plain": [
       "[<matplotlib.lines.Line2D at 0x7f1ff27efeb0>]"
      ]
     },
     "execution_count": 10,
     "metadata": {},
     "output_type": "execute_result"
    },
    {
     "data": {
      "image/png": "[encoded data removed]",
      "text/plain": [
       "<Figure size 432x288 with 1 Axes>"
      ]
     },
     "metadata": {
      "needs_background": "light"
     },
     "output_type": "display_data"
    }
   ],
   "source": [
    "plt.plot(clf2.history['loss'])"
   ]
  },
  {
   "cell_type": "code",
   "execution_count": 34,
   "id": "427b682f",
   "metadata": {},
   "outputs": [
    {
     "data": {
      "text/plain": [
       "Text(0, 0.5, 'Accuracy')"
      ]
     },
     "execution_count": 34,
     "metadata": {},
     "output_type": "execute_result"
    },
    {
     "data": {
      "image/png": "[encoded data removed]",
      "text/plain": [
       "<Figure size 432x288 with 1 Axes>"
      ]
     },
     "metadata": {
      "needs_background": "light"
     },
     "output_type": "display_data"
    }
   ],
   "source": [
    "plt.plot(clf2.history['val_0_accuracy'])\n",
    "plt.plot(clf2.history['val_1_accuracy'])\n",
    "plt.legend(['Training', 'Validation'])\n",
    "plt.title('Accuracy')\n",
    "plt.xlabel('Epochs')\n",
    "plt.ylabel('Accuracy')"
   ]
  },
  {
   "cell_type": "code",
   "execution_count": null,
   "id": "6a50a247",
   "metadata": {},
   "outputs": [],
   "source": []
  },
  {
   "cell_type": "code",
   "execution_count": null,
   "id": "21a8ea2b",
   "metadata": {},
   "outputs": [],
   "source": []
  }
 ],
 "metadata": {
  "kernelspec": {
   "display_name": "Python 3 (ipykernel)",
   "language": "python",
   "name": "python3"
  },
  "language_info": {
   "codemirror_mode": {
    "name": "ipython",
    "version": 3
   },
   "file_extension": ".py",
   "mimetype": "text/x-python",
   "name": "python",
   "nbconvert_exporter": "python",
   "pygments_lexer": "ipython3",
   "version": "3.9.12"
  }
 },
 "nbformat": 4,
 "nbformat_minor": 5
}
