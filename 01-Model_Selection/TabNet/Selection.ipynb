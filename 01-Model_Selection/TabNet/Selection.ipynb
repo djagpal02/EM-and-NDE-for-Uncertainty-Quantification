{
 "cells": [
  {
   "cell_type": "code",
   "execution_count": 2,
   "id": "763047b0",
   "metadata": {},
   "outputs": [],
   "source": [
    "from pytorch_tabnet.tab_model import TabNetClassifier\n",
    "import pandas as pd"
   ]
  },
  {
   "cell_type": "code",
   "execution_count": 3,
   "id": "1811cbdc",
   "metadata": {},
   "outputs": [],
   "source": [
    "x = pd.read_csv('../../Data/Missing_0_Mask/X_train_0.csv').to_numpy()\n",
    "y = pd.read_csv('../../Data/Y_train.csv').to_numpy().reshape(-1)\n",
    "xt = pd.read_csv('../../Data/Missing_0_Mask/X_test_0.csv').to_numpy()\n",
    "yt = pd.read_csv('../../Data/Y_test.csv').to_numpy().reshape(-1)"
   ]
  },
  {
   "cell_type": "code",
   "execution_count": null,
   "id": "463d5903",
   "metadata": {},
   "outputs": [],
   "source": []
  },
  {
   "cell_type": "code",
   "execution_count": null,
   "id": "a7f137b0",
   "metadata": {},
   "outputs": [],
   "source": []
  },
  {
   "cell_type": "code",
   "execution_count": 4,
   "id": "1eaf1bfe",
   "metadata": {},
   "outputs": [
    {
     "name": "stdout",
     "output_type": "stream",
     "text": [
      "Device used : cuda\n",
      "epoch 0  | loss: 1.0038  | val_0_accuracy: 0.46292 | val_1_accuracy: 0.37033 |  0:01:11s\n",
      "epoch 1  | loss: 0.64621 | val_0_accuracy: 0.6112  | val_1_accuracy: 0.56799 |  0:02:24s\n",
      "epoch 2  | loss: 0.51184 | val_0_accuracy: 0.71216 | val_1_accuracy: 0.6333  |  0:03:36s\n",
      "epoch 3  | loss: 0.42629 | val_0_accuracy: 0.7009  | val_1_accuracy: 0.59206 |  0:04:47s\n",
      "epoch 4  | loss: 0.39316 | val_0_accuracy: 0.69681 | val_1_accuracy: 0.56536 |  0:06:00s\n",
      "epoch 5  | loss: 0.36257 | val_0_accuracy: 0.74426 | val_1_accuracy: 0.59213 |  0:07:12s\n",
      "epoch 6  | loss: 0.34288 | val_0_accuracy: 0.74097 | val_1_accuracy: 0.62349 |  0:08:23s\n",
      "epoch 7  | loss: 0.33261 | val_0_accuracy: 0.72786 | val_1_accuracy: 0.55356 |  0:09:34s\n",
      "epoch 8  | loss: 0.32385 | val_0_accuracy: 0.77832 | val_1_accuracy: 0.59891 |  0:10:46s\n",
      "epoch 9  | loss: 0.314   | val_0_accuracy: 0.74884 | val_1_accuracy: 0.60489 |  0:11:59s\n",
      "Stop training because you reached max_epochs = 10 with best_epoch = 2 and best_val_1_accuracy = 0.6333\n",
      "Best weights from best epoch are automatically used!\n"
     ]
    }
   ],
   "source": [
    "# Top F1 Score\n",
    "n_d = 8+8\n",
    "n_a = n_d\n",
    "n_steps=3+1\n",
    "lr=0.01\n",
    "gamma=1+0.5448238063032632\n",
    "n_independent=1+1\n",
    "n_shared =1+3\n",
    "momentum=0.261249838793264\n",
    "\n",
    "\n",
    "\n",
    "clf = TabNetClassifier(n_d =n_d, n_a = n_d, n_steps=n_steps,  cat_idxs = [24,25], optimizer_params=dict(lr=lr), gamma=1+gamma, n_independent=n_independent, n_shared = n_shared, momentum= momentum)\n",
    "clf.fit(x,y, eval_set=[(x,y),(xt, yt)], weights = 1, max_epochs = 10)  "
   ]
  },
  {
   "cell_type": "code",
   "execution_count": 4,
   "id": "7ad04b64",
   "metadata": {},
   "outputs": [
    {
     "name": "stdout",
     "output_type": "stream",
     "text": [
      "Device used : cuda\n",
      "epoch 0  | loss: 0.8791  | val_0_accuracy: 0.76668 | val_1_accuracy: 0.74138 |  0:01:12s\n",
      "epoch 1  | loss: 0.63716 | val_0_accuracy: 0.80747 | val_1_accuracy: 0.75128 |  0:02:23s\n",
      "epoch 2  | loss: 0.54149 | val_0_accuracy: 0.82858 | val_1_accuracy: 0.75968 |  0:03:35s\n",
      "epoch 3  | loss: 0.49242 | val_0_accuracy: 0.84968 | val_1_accuracy: 0.74556 |  0:04:46s\n",
      "epoch 4  | loss: 0.45581 | val_0_accuracy: 0.84301 | val_1_accuracy: 0.72619 |  0:05:58s\n",
      "epoch 5  | loss: 0.43514 | val_0_accuracy: 0.85088 | val_1_accuracy: 0.74557 |  0:07:09s\n",
      "epoch 6  | loss: 0.42096 | val_0_accuracy: 0.85476 | val_1_accuracy: 0.74388 |  0:08:20s\n",
      "epoch 7  | loss: 0.40398 | val_0_accuracy: 0.86905 | val_1_accuracy: 0.73523 |  0:09:32s\n",
      "epoch 8  | loss: 0.40515 | val_0_accuracy: 0.86641 | val_1_accuracy: 0.7413  |  0:10:43s\n",
      "epoch 9  | loss: 0.3972  | val_0_accuracy: 0.86324 | val_1_accuracy: 0.73226 |  0:11:54s\n",
      "Stop training because you reached max_epochs = 10 with best_epoch = 2 and best_val_1_accuracy = 0.75968\n",
      "Best weights from best epoch are automatically used!\n"
     ]
    }
   ],
   "source": [
    "# Top F1 Score - Unbalanced\n",
    "n_d = 8+8\n",
    "n_a = n_d\n",
    "n_steps=3+1\n",
    "lr=0.01\n",
    "gamma=1+0.5448238063032632\n",
    "n_independent=1+1\n",
    "n_shared =1+3\n",
    "momentum=0.261249838793264\n",
    "\n",
    "\n",
    "\n",
    "clf = TabNetClassifier(n_d =n_d, n_a = n_d, n_steps=n_steps,  cat_idxs = [24,25], optimizer_params=dict(lr=lr), gamma=1+gamma, n_independent=n_independent, n_shared = n_shared, momentum= momentum)\n",
    "clf.fit(x,y, eval_set=[(x,y),(xt, yt)], max_epochs = 10)  "
   ]
  },
  {
   "cell_type": "code",
   "execution_count": 5,
   "id": "731495f3",
   "metadata": {},
   "outputs": [
    {
     "name": "stdout",
     "output_type": "stream",
     "text": [
      "Device used : cuda\n",
      "epoch 0  | loss: 1.03448 | val_0_accuracy: 0.5374  | val_1_accuracy: 0.51043 |  0:02:05s\n",
      "epoch 1  | loss: 0.61952 | val_0_accuracy: 0.62738 | val_1_accuracy: 0.53123 |  0:04:11s\n",
      "epoch 2  | loss: 0.52768 | val_0_accuracy: 0.64338 | val_1_accuracy: 0.57882 |  0:06:17s\n",
      "epoch 3  | loss: 0.44505 | val_0_accuracy: 0.70647 | val_1_accuracy: 0.58467 |  0:08:22s\n",
      "epoch 4  | loss: 0.37751 | val_0_accuracy: 0.73456 | val_1_accuracy: 0.58091 |  0:10:28s\n",
      "epoch 5  | loss: 0.35154 | val_0_accuracy: 0.75562 | val_1_accuracy: 0.61653 |  0:12:34s\n",
      "epoch 6  | loss: 0.33728 | val_0_accuracy: 0.77715 | val_1_accuracy: 0.61076 |  0:14:40s\n",
      "epoch 7  | loss: 0.29558 | val_0_accuracy: 0.7785  | val_1_accuracy: 0.60295 |  0:16:46s\n",
      "epoch 8  | loss: 0.27974 | val_0_accuracy: 0.76916 | val_1_accuracy: 0.61218 |  0:18:52s\n",
      "epoch 9  | loss: 0.27563 | val_0_accuracy: 0.73127 | val_1_accuracy: 0.51931 |  0:20:58s\n",
      "Stop training because you reached max_epochs = 10 with best_epoch = 5 and best_val_1_accuracy = 0.61653\n",
      "Best weights from best epoch are automatically used!\n"
     ]
    }
   ],
   "source": [
    "# 2- F1 Score\n",
    "n_d = 8+34\n",
    "n_a = n_d\n",
    "n_steps=3+5\n",
    "lr=0.01\n",
    "gamma=1+0.5383383891114126\n",
    "n_independent=1+1\n",
    "n_shared =1+3\n",
    "momentum=0.07157340950018959\n",
    "\n",
    "\n",
    "\n",
    "clf = TabNetClassifier(n_d =n_d, n_a = n_d, n_steps=n_steps,  cat_idxs = [24,25], optimizer_params=dict(lr=lr), gamma=1+gamma, n_independent=n_independent, n_shared = n_shared, momentum= momentum)\n",
    "clf.fit(x,y, eval_set=[(x,y),(xt, yt)], weights = 1, max_epochs = 10)  "
   ]
  },
  {
   "cell_type": "code",
   "execution_count": 5,
   "id": "8369e444",
   "metadata": {},
   "outputs": [
    {
     "name": "stdout",
     "output_type": "stream",
     "text": [
      "Device used : cuda\n",
      "epoch 0  | loss: 0.91481 | val_0_accuracy: 0.75709 | val_1_accuracy: 0.71939 |  0:02:04s\n",
      "epoch 1  | loss: 0.68043 | val_0_accuracy: 0.77479 | val_1_accuracy: 0.72544 |  0:04:09s\n",
      "epoch 2  | loss: 0.63237 | val_0_accuracy: 0.79664 | val_1_accuracy: 0.75362 |  0:06:14s\n",
      "epoch 3  | loss: 0.59102 | val_0_accuracy: 0.80881 | val_1_accuracy: 0.73847 |  0:08:21s\n",
      "epoch 4  | loss: 0.55282 | val_0_accuracy: 0.82227 | val_1_accuracy: 0.73842 |  0:10:26s\n",
      "epoch 5  | loss: 0.49119 | val_0_accuracy: 0.80852 | val_1_accuracy: 0.7215  |  0:12:31s\n",
      "epoch 6  | loss: 0.44034 | val_0_accuracy: 0.85679 | val_1_accuracy: 0.73586 |  0:14:37s\n",
      "epoch 7  | loss: 0.41637 | val_0_accuracy: 0.86589 | val_1_accuracy: 0.74921 |  0:16:43s\n",
      "epoch 8  | loss: 0.39681 | val_0_accuracy: 0.87053 | val_1_accuracy: 0.74309 |  0:18:49s\n",
      "epoch 9  | loss: 0.37456 | val_0_accuracy: 0.87425 | val_1_accuracy: 0.76258 |  0:20:55s\n",
      "Stop training because you reached max_epochs = 10 with best_epoch = 9 and best_val_1_accuracy = 0.76258\n",
      "Best weights from best epoch are automatically used!\n"
     ]
    }
   ],
   "source": [
    "# 2- F1 Score - Unbalanced\n",
    "n_d = 8+34\n",
    "n_a = n_d\n",
    "n_steps=3+5\n",
    "lr=0.01\n",
    "gamma=1+0.5383383891114126\n",
    "n_independent=1+1\n",
    "n_shared =1+3\n",
    "momentum=0.07157340950018959\n",
    "\n",
    "\n",
    "\n",
    "clf = TabNetClassifier(n_d =n_d, n_a = n_d, n_steps=n_steps,  cat_idxs = [24,25], optimizer_params=dict(lr=lr), gamma=1+gamma, n_independent=n_independent, n_shared = n_shared, momentum= momentum)\n",
    "clf.fit(x,y, eval_set=[(x,y),(xt, yt)], max_epochs = 10)  "
   ]
  },
  {
   "cell_type": "code",
   "execution_count": 6,
   "id": "cc6d1e81",
   "metadata": {},
   "outputs": [
    {
     "name": "stdout",
     "output_type": "stream",
     "text": [
      "Device used : cuda\n",
      "epoch 0  | loss: 0.80553 | val_0_accuracy: 0.61758 | val_1_accuracy: 0.55868 |  0:00:55s\n",
      "epoch 1  | loss: 0.47418 | val_0_accuracy: 0.71758 | val_1_accuracy: 0.64605 |  0:01:50s\n",
      "epoch 2  | loss: 0.37543 | val_0_accuracy: 0.74477 | val_1_accuracy: 0.63629 |  0:02:46s\n",
      "epoch 3  | loss: 0.32967 | val_0_accuracy: 0.75523 | val_1_accuracy: 0.60446 |  0:03:41s\n",
      "epoch 4  | loss: 0.30164 | val_0_accuracy: 0.75135 | val_1_accuracy: 0.62373 |  0:04:38s\n",
      "epoch 5  | loss: 0.27843 | val_0_accuracy: 0.80029 | val_1_accuracy: 0.64794 |  0:05:35s\n",
      "epoch 6  | loss: 0.26486 | val_0_accuracy: 0.8229  | val_1_accuracy: 0.67371 |  0:06:31s\n",
      "epoch 7  | loss: 0.25457 | val_0_accuracy: 0.8198  | val_1_accuracy: 0.65494 |  0:07:28s\n",
      "epoch 8  | loss: 0.24582 | val_0_accuracy: 0.80837 | val_1_accuracy: 0.63358 |  0:08:24s\n",
      "epoch 9  | loss: 0.23823 | val_0_accuracy: 0.82101 | val_1_accuracy: 0.61709 |  0:09:21s\n",
      "Stop training because you reached max_epochs = 10 with best_epoch = 6 and best_val_1_accuracy = 0.67371\n",
      "Best weights from best epoch are automatically used!\n"
     ]
    }
   ],
   "source": [
    "# 3- F1 Score\n",
    "n_d = 8+47\n",
    "n_a = n_d\n",
    "n_steps=3+1\n",
    "lr=0.01\n",
    "gamma=1+0.7399990400995684\n",
    "n_independent=1+1\n",
    "n_shared =1+1\n",
    "momentum=0.34076354946098486\n",
    "\n",
    "\n",
    "\n",
    "clf = TabNetClassifier(n_d =n_d, n_a = n_d, n_steps=n_steps,  cat_idxs = [24,25], optimizer_params=dict(lr=lr), gamma=1+gamma, n_independent=n_independent, n_shared = n_shared, momentum= momentum)\n",
    "clf.fit(x,y, eval_set=[(x,y),(xt, yt)], weights = 1, max_epochs = 10)  "
   ]
  },
  {
   "cell_type": "code",
   "execution_count": 7,
   "id": "17939371",
   "metadata": {},
   "outputs": [
    {
     "name": "stdout",
     "output_type": "stream",
     "text": [
      "Device used : cuda\n",
      "epoch 0  | loss: 0.77011 | val_0_accuracy: 0.78105 | val_1_accuracy: 0.69955 |  0:00:56s\n",
      "epoch 1  | loss: 0.60364 | val_0_accuracy: 0.81183 | val_1_accuracy: 0.72423 |  0:01:51s\n",
      "epoch 2  | loss: 0.52842 | val_0_accuracy: 0.83693 | val_1_accuracy: 0.75113 |  0:02:47s\n",
      "epoch 3  | loss: 0.46264 | val_0_accuracy: 0.85164 | val_1_accuracy: 0.7637  |  0:03:42s\n",
      "epoch 4  | loss: 0.42765 | val_0_accuracy: 0.85754 | val_1_accuracy: 0.75859 |  0:04:37s\n",
      "epoch 5  | loss: 0.40564 | val_0_accuracy: 0.87155 | val_1_accuracy: 0.75019 |  0:05:33s\n",
      "epoch 6  | loss: 0.40552 | val_0_accuracy: 0.85772 | val_1_accuracy: 0.75393 |  0:06:29s\n",
      "epoch 7  | loss: 0.40535 | val_0_accuracy: 0.86869 | val_1_accuracy: 0.76166 |  0:07:24s\n",
      "epoch 8  | loss: 0.37346 | val_0_accuracy: 0.88083 | val_1_accuracy: 0.76222 |  0:08:19s\n",
      "epoch 9  | loss: 0.36495 | val_0_accuracy: 0.87845 | val_1_accuracy: 0.76784 |  0:09:15s\n",
      "Stop training because you reached max_epochs = 10 with best_epoch = 9 and best_val_1_accuracy = 0.76784\n",
      "Best weights from best epoch are automatically used!\n"
     ]
    }
   ],
   "source": [
    "# 3- F1 Score - Unbalanced\n",
    "n_d = 8+47\n",
    "n_a = n_d\n",
    "n_steps=3+1\n",
    "lr=0.01\n",
    "gamma=1+0.7399990400995684\n",
    "n_independent=1+1\n",
    "n_shared =1+1\n",
    "momentum=0.34076354946098486\n",
    "\n",
    "\n",
    "\n",
    "clf = TabNetClassifier(n_d =n_d, n_a = n_d, n_steps=n_steps,  cat_idxs = [24,25], optimizer_params=dict(lr=lr), gamma=1+gamma, n_independent=n_independent, n_shared = n_shared, momentum= momentum)\n",
    "clf.fit(x,y, eval_set=[(x,y),(xt, yt)], max_epochs = 10)  "
   ]
  },
  {
   "cell_type": "code",
   "execution_count": 8,
   "id": "6a177bfc",
   "metadata": {},
   "outputs": [
    {
     "name": "stdout",
     "output_type": "stream",
     "text": [
      "Device used : cuda\n",
      "epoch 0  | loss: 1.06309 | val_0_accuracy: 0.55501 | val_1_accuracy: 0.56604 |  0:02:04s\n",
      "epoch 1  | loss: 0.6548  | val_0_accuracy: 0.57853 | val_1_accuracy: 0.53409 |  0:04:08s\n",
      "epoch 2  | loss: 0.56325 | val_0_accuracy: 0.5637  | val_1_accuracy: 0.44053 |  0:06:12s\n",
      "epoch 3  | loss: 0.5148  | val_0_accuracy: 0.59949 | val_1_accuracy: 0.46715 |  0:08:16s\n",
      "epoch 4  | loss: 0.47806 | val_0_accuracy: 0.68537 | val_1_accuracy: 0.56783 |  0:10:20s\n",
      "epoch 5  | loss: 0.41283 | val_0_accuracy: 0.70193 | val_1_accuracy: 0.54895 |  0:12:24s\n",
      "epoch 6  | loss: 0.3758  | val_0_accuracy: 0.72799 | val_1_accuracy: 0.59701 |  0:14:28s\n",
      "epoch 7  | loss: 0.35157 | val_0_accuracy: 0.71107 | val_1_accuracy: 0.58481 |  0:16:32s\n",
      "epoch 8  | loss: 0.33055 | val_0_accuracy: 0.73863 | val_1_accuracy: 0.58922 |  0:18:37s\n",
      "epoch 9  | loss: 0.30642 | val_0_accuracy: 0.74743 | val_1_accuracy: 0.60008 |  0:20:40s\n",
      "Stop training because you reached max_epochs = 10 with best_epoch = 9 and best_val_1_accuracy = 0.60008\n",
      "Best weights from best epoch are automatically used!\n"
     ]
    }
   ],
   "source": [
    "# 4- F1 Score\n",
    "n_d = 8+34\n",
    "n_a = n_d\n",
    "n_steps=3+5\n",
    "lr=0.01\n",
    "gamma=1+0.7400089202733505\n",
    "n_independent=1+1\n",
    "n_shared =1+3\n",
    "momentum=0.3958466892286841\n",
    "\n",
    "\n",
    "\n",
    "clf = TabNetClassifier(n_d =n_d, n_a = n_d, n_steps=n_steps,  cat_idxs = [24,25], optimizer_params=dict(lr=lr), gamma=1+gamma, n_independent=n_independent, n_shared = n_shared, momentum= momentum)\n",
    "clf.fit(x,y, eval_set=[(x,y),(xt, yt)], weights = 1, max_epochs = 10)  "
   ]
  },
  {
   "cell_type": "code",
   "execution_count": 9,
   "id": "4094c811",
   "metadata": {},
   "outputs": [
    {
     "name": "stdout",
     "output_type": "stream",
     "text": [
      "Device used : cuda\n",
      "epoch 0  | loss: 0.89946 | val_0_accuracy: 0.76085 | val_1_accuracy: 0.75958 |  0:02:04s\n",
      "epoch 1  | loss: 0.61111 | val_0_accuracy: 0.7862  | val_1_accuracy: 0.74519 |  0:04:08s\n",
      "epoch 2  | loss: 0.57424 | val_0_accuracy: 0.77554 | val_1_accuracy: 0.73314 |  0:06:12s\n",
      "epoch 3  | loss: 0.56453 | val_0_accuracy: 0.81865 | val_1_accuracy: 0.73544 |  0:08:18s\n",
      "epoch 4  | loss: 0.52243 | val_0_accuracy: 0.81503 | val_1_accuracy: 0.74666 |  0:10:23s\n",
      "epoch 5  | loss: 0.48294 | val_0_accuracy: 0.84839 | val_1_accuracy: 0.76958 |  0:12:30s\n",
      "epoch 6  | loss: 0.45784 | val_0_accuracy: 0.84077 | val_1_accuracy: 0.75448 |  0:14:36s\n",
      "epoch 7  | loss: 0.46319 | val_0_accuracy: 0.84663 | val_1_accuracy: 0.73268 |  0:16:42s\n",
      "epoch 8  | loss: 0.43839 | val_0_accuracy: 0.83553 | val_1_accuracy: 0.7015  |  0:18:47s\n",
      "epoch 9  | loss: 0.42465 | val_0_accuracy: 0.85405 | val_1_accuracy: 0.74542 |  0:20:51s\n",
      "Stop training because you reached max_epochs = 10 with best_epoch = 5 and best_val_1_accuracy = 0.76958\n",
      "Best weights from best epoch are automatically used!\n"
     ]
    }
   ],
   "source": [
    "# 4- F1 Score - Unbalanced\n",
    "n_d = 8+34\n",
    "n_a = n_d\n",
    "n_steps=3+5\n",
    "lr=0.01\n",
    "gamma=1+0.7400089202733505\n",
    "n_independent=1+1\n",
    "n_shared =1+3\n",
    "momentum=0.3958466892286841\n",
    "\n",
    "\n",
    "\n",
    "clf = TabNetClassifier(n_d =n_d, n_a = n_d, n_steps=n_steps,  cat_idxs = [24,25], optimizer_params=dict(lr=lr), gamma=1+gamma, n_independent=n_independent, n_shared = n_shared, momentum= momentum)\n",
    "clf.fit(x,y, eval_set=[(x,y),(xt, yt)], max_epochs = 10)  "
   ]
  },
  {
   "cell_type": "code",
   "execution_count": 10,
   "id": "985482e4",
   "metadata": {},
   "outputs": [
    {
     "name": "stdout",
     "output_type": "stream",
     "text": [
      "Device used : cuda\n",
      "epoch 0  | loss: 0.90343 | val_0_accuracy: 0.42257 | val_1_accuracy: 0.36129 |  0:01:14s\n",
      "epoch 1  | loss: 0.54952 | val_0_accuracy: 0.718   | val_1_accuracy: 0.61174 |  0:02:29s\n",
      "epoch 2  | loss: 0.41875 | val_0_accuracy: 0.72951 | val_1_accuracy: 0.60219 |  0:03:44s\n",
      "epoch 3  | loss: 0.36654 | val_0_accuracy: 0.72919 | val_1_accuracy: 0.57607 |  0:04:58s\n",
      "epoch 4  | loss: 0.3662  | val_0_accuracy: 0.74036 | val_1_accuracy: 0.63452 |  0:06:15s\n",
      "epoch 5  | loss: 0.3155  | val_0_accuracy: 0.77756 | val_1_accuracy: 0.64196 |  0:07:31s\n",
      "epoch 6  | loss: 0.29328 | val_0_accuracy: 0.77759 | val_1_accuracy: 0.60757 |  0:08:47s\n",
      "epoch 7  | loss: 0.27887 | val_0_accuracy: 0.79776 | val_1_accuracy: 0.6056  |  0:10:03s\n",
      "epoch 8  | loss: 0.26417 | val_0_accuracy: 0.8188  | val_1_accuracy: 0.62881 |  0:11:19s\n",
      "epoch 9  | loss: 0.25868 | val_0_accuracy: 0.79764 | val_1_accuracy: 0.5954  |  0:12:34s\n",
      "Stop training because you reached max_epochs = 10 with best_epoch = 5 and best_val_1_accuracy = 0.64196\n",
      "Best weights from best epoch are automatically used!\n"
     ]
    }
   ],
   "source": [
    "# 5 - F1 Score\n",
    "n_d = 8+49\n",
    "n_a = n_d\n",
    "n_steps=3+2\n",
    "lr=0.01\n",
    "gamma=1+0.5184860127652607\n",
    "n_independent=1+0\n",
    "n_shared =1+3\n",
    "momentum=0.09657918664343902\n",
    "\n",
    "\n",
    "\n",
    "clf = TabNetClassifier(n_d =n_d, n_a = n_d, n_steps=n_steps,  cat_idxs = [24,25], optimizer_params=dict(lr=lr), gamma=1+gamma, n_independent=n_independent, n_shared = n_shared, momentum= momentum)\n",
    "clf.fit(x,y, eval_set=[(x,y),(xt, yt)], weights = 1, max_epochs = 10)  "
   ]
  },
  {
   "cell_type": "code",
   "execution_count": 11,
   "id": "d28051e5",
   "metadata": {},
   "outputs": [
    {
     "name": "stdout",
     "output_type": "stream",
     "text": [
      "Device used : cuda\n",
      "epoch 0  | loss: 0.85928 | val_0_accuracy: 0.74692 | val_1_accuracy: 0.72494 |  0:01:14s\n",
      "epoch 1  | loss: 0.68604 | val_0_accuracy: 0.7766  | val_1_accuracy: 0.75103 |  0:02:29s\n",
      "epoch 2  | loss: 0.62081 | val_0_accuracy: 0.80666 | val_1_accuracy: 0.73728 |  0:03:43s\n",
      "epoch 3  | loss: 0.54224 | val_0_accuracy: 0.8285  | val_1_accuracy: 0.73045 |  0:04:58s\n",
      "epoch 4  | loss: 0.48863 | val_0_accuracy: 0.85362 | val_1_accuracy: 0.73682 |  0:06:13s\n",
      "epoch 5  | loss: 0.44169 | val_0_accuracy: 0.85825 | val_1_accuracy: 0.73016 |  0:07:28s\n",
      "epoch 6  | loss: 0.41859 | val_0_accuracy: 0.85964 | val_1_accuracy: 0.72161 |  0:08:42s\n",
      "epoch 7  | loss: 0.40602 | val_0_accuracy: 0.86972 | val_1_accuracy: 0.74357 |  0:09:57s\n",
      "epoch 8  | loss: 0.37502 | val_0_accuracy: 0.8764  | val_1_accuracy: 0.74212 |  0:11:11s\n",
      "epoch 9  | loss: 0.35902 | val_0_accuracy: 0.87519 | val_1_accuracy: 0.72948 |  0:12:26s\n",
      "Stop training because you reached max_epochs = 10 with best_epoch = 1 and best_val_1_accuracy = 0.75103\n",
      "Best weights from best epoch are automatically used!\n"
     ]
    }
   ],
   "source": [
    "# 5 - F1 Score - Unbalanced\n",
    "n_d = 8+49\n",
    "n_a = n_d\n",
    "n_steps=3+2\n",
    "lr=0.01\n",
    "gamma=1+0.5184860127652607\n",
    "n_independent=1+0\n",
    "n_shared =1+3\n",
    "momentum=0.09657918664343902\n",
    "\n",
    "\n",
    "\n",
    "clf = TabNetClassifier(n_d =n_d, n_a = n_d, n_steps=n_steps,  cat_idxs = [24,25], optimizer_params=dict(lr=lr), gamma=1+gamma, n_independent=n_independent, n_shared = n_shared, momentum= momentum)\n",
    "clf.fit(x,y, eval_set=[(x,y),(xt, yt)], max_epochs = 10)  "
   ]
  },
  {
   "cell_type": "code",
   "execution_count": null,
   "id": "6ef66466",
   "metadata": {},
   "outputs": [],
   "source": []
  },
  {
   "cell_type": "code",
   "execution_count": null,
   "id": "4ed81036",
   "metadata": {},
   "outputs": [],
   "source": []
  }
 ],
 "metadata": {
  "kernelspec": {
   "display_name": "Python 3 (ipykernel)",
   "language": "python",
   "name": "python3"
  },
  "language_info": {
   "codemirror_mode": {
    "name": "ipython",
    "version": 3
   },
   "file_extension": ".py",
   "mimetype": "text/x-python",
   "name": "python",
   "nbconvert_exporter": "python",
   "pygments_lexer": "ipython3",
   "version": "3.9.12"
  }
 },
 "nbformat": 4,
 "nbformat_minor": 5
}
