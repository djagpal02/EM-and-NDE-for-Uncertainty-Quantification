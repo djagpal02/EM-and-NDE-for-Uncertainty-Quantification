{
 "cells": [
  {
   "cell_type": "code",
   "execution_count": 1,
   "id": "f13664ae",
   "metadata": {},
   "outputs": [],
   "source": [
    "import sys\n",
    "sys.path.insert(0, '../../Models/LSTM')\n",
    "\n",
    "from LSTM import LSTM\n",
    "import pandas as pd\n",
    "import torch\n",
    "import utils\n",
    "import numpy as np"
   ]
  },
  {
   "cell_type": "code",
   "execution_count": 2,
   "id": "c246754f",
   "metadata": {},
   "outputs": [],
   "source": [
    "A = np.load('../../Utils/penalty_matrix.npy')"
   ]
  },
  {
   "cell_type": "code",
   "execution_count": 5,
   "id": "b91b7649",
   "metadata": {},
   "outputs": [],
   "source": [
    "x = pd.read_csv('../../Data/Missing_0_Mask/X_train_0_WELL.csv')\n",
    "y = pd.read_csv('../../Data/Y_train.csv')\n",
    "xt = pd.read_csv('../../Data/Missing_0_Mask/X_test_0_WELL.csv')\n",
    "yt = pd.read_csv('../../Data/Y_test.csv')\n",
    "xht = pd.read_csv(\"../../Data/Missing_0_Mask/X_hidden_0_WELL.csv\")\n",
    "yht = pd.read_csv(\"../../Data/Y_hidden.csv\")"
   ]
  },
  {
   "cell_type": "code",
   "execution_count": 3,
   "id": "08eaba26",
   "metadata": {
    "scrolled": true
   },
   "outputs": [
    {
     "name": "stdout",
     "output_type": "stream",
     "text": [
      "Device is cuda:0.\n",
      "\n"
     ]
    },
    {
     "name": "stderr",
     "output_type": "stream",
     "text": [
      "\u001b[34m\u001b[1mwandb\u001b[0m: Currently logged in as: \u001b[33m2djagpal\u001b[0m (use `wandb login --relogin` to force relogin)\n"
     ]
    },
    {
     "data": {
      "text/html": [
       "\n",
       "                    Syncing run <strong><a href=\"https://wandb.ai/2djagpal/Lithology-LSTM_Best-2/runs/1avcz612\" target=\"_blank\">desert-snowball-1</a></strong> to <a href=\"https://wandb.ai/2djagpal/Lithology-LSTM_Best-2\" target=\"_blank\">Weights & Biases</a> (<a href=\"https://docs.wandb.com/integrations/jupyter.html\" target=\"_blank\">docs</a>).<br/>\n",
       "\n",
       "                "
      ],
      "text/plain": [
       "<IPython.core.display.HTML object>"
      ]
     },
     "metadata": {},
     "output_type": "display_data"
    },
    {
     "name": "stdout",
     "output_type": "stream",
     "text": [
      "Loading Data ...\n",
      "\n",
      "Starting training...\n",
      "\n",
      "Training:\n",
      "Epoch: 1 ... Accuracy: 0.5485416198566267 ... Score: -1.1960879692715405\n",
      "\n",
      "Validation:\n",
      "Epoch: 1 ... Accuracy: 0.4907958416797041 ... Score: -1.3309247656923955\n",
      "\n",
      "Training:\n",
      "Epoch: 2 ... Accuracy: 0.6911724879133985 ... Score: -0.8666787411651834\n",
      "\n",
      "Validation:\n",
      "Epoch: 2 ... Accuracy: 0.670704604272367 ... Score: -0.9441243986957729\n",
      "\n",
      "Training:\n",
      "Epoch: 3 ... Accuracy: 0.7126092791951549 ... Score: -0.7881052591560438\n",
      "\n",
      "Validation:\n",
      "Epoch: 3 ... Accuracy: 0.7119807582647347 ... Score: -0.8093655417952129\n",
      "\n",
      "Training:\n",
      "Epoch: 4 ... Accuracy: 0.7008827768384919 ... Score: -0.8246869316050853\n",
      "\n",
      "Validation:\n",
      "Epoch: 4 ... Accuracy: 0.6741333177371953 ... Score: -0.928577303232787\n",
      "\n",
      "Training:\n",
      "Epoch: 5 ... Accuracy: 0.6972108762754045 ... Score: -0.8273272314399438\n",
      "\n",
      "Validation:\n",
      "Epoch: 5 ... Accuracy: 0.6404675917126021 ... Score: -1.0218507376485897\n",
      "\n",
      "Training:\n",
      "Epoch: 6 ... Accuracy: 0.7272686886325715 ... Score: -0.7300282739760668\n",
      "\n",
      "Validation:\n",
      "Epoch: 6 ... Accuracy: 0.7146199172429927 ... Score: -0.7821514994224555\n",
      "\n",
      "Training:\n",
      "Epoch: 7 ... Accuracy: 0.7363792394945455 ... Score: -0.7007477930579038\n",
      "\n",
      "Validation:\n",
      "Epoch: 7 ... Accuracy: 0.7168423669088941 ... Score: -0.7514520857397687\n",
      "\n",
      "Training:\n",
      "Epoch: 8 ... Accuracy: 0.7361075632779188 ... Score: -0.7094828668846341\n",
      "\n",
      "Validation:\n",
      "Epoch: 8 ... Accuracy: 0.7404705159884784 ... Score: -0.689377019578027\n",
      "\n",
      "Training:\n",
      "Epoch: 9 ... Accuracy: 0.7436991194444136 ... Score: -0.6819376323674019\n",
      "\n",
      "Validation:\n",
      "Epoch: 9 ... Accuracy: 0.7171128624274414 ... Score: -0.7426856549646894\n",
      "\n",
      "Training:\n",
      "Epoch: 10 ... Accuracy: 0.7479835729864991 ... Score: -0.6736342076238497\n",
      "\n",
      "Validation:\n",
      "Epoch: 10 ... Accuracy: 0.7453540567017093 ... Score: -0.6790981898732327\n",
      "\n",
      "Training:\n",
      "Epoch: 11 ... Accuracy: 0.7299307738244237 ... Score: -0.7048258196633778\n",
      "\n",
      "Validation:\n",
      "Epoch: 11 ... Accuracy: 0.6347140789262059 ... Score: -0.9520382202857017\n",
      "\n",
      "Training:\n",
      "Epoch: 12 ... Accuracy: 0.68386884019031 ... Score: -0.8035525723380643\n",
      "\n",
      "Validation:\n",
      "Epoch: 12 ... Accuracy: 0.6033073560159665 ... Score: -0.9715970567163306\n",
      "\n",
      "Training:\n",
      "Epoch: 13 ... Accuracy: 0.7339922478302212 ... Score: -0.7221638668923231\n",
      "\n",
      "Validation:\n",
      "Epoch: 13 ... Accuracy: 0.7362156945886275 ... Score: -0.7091889886391882\n",
      "\n",
      "Training:\n",
      "Epoch: 14 ... Accuracy: 0.7560518440236785 ... Score: -0.642158211242782\n",
      "\n",
      "Validation:\n",
      "Epoch: 14 ... Accuracy: 0.7363253549339844 ... Score: -0.6902597853581507\n",
      "\n",
      "Training:\n",
      "Epoch: 15 ... Accuracy: 0.7499006844019407 ... Score: -0.6577976413720161\n",
      "\n",
      "Validation:\n",
      "Epoch: 15 ... Accuracy: 0.6918178760984312 ... Score: -0.8176074305850014\n",
      "\n",
      "Training:\n",
      "Epoch: 16 ... Accuracy: 0.7251807116720816 ... Score: -0.7356365083284139\n",
      "\n",
      "Validation:\n",
      "Epoch: 16 ... Accuracy: 0.6398608044682935 ... Score: -0.9776749813577413\n",
      "\n",
      "Training:\n",
      "Epoch: 17 ... Accuracy: 0.7602987071458533 ... Score: -0.6230227652708945\n",
      "\n",
      "Validation:\n",
      "Epoch: 17 ... Accuracy: 0.6941792288684514 ... Score: -0.7906282441185501\n",
      "\n",
      "Training:\n",
      "Epoch: 18 ... Accuracy: 0.7682858170491349 ... Score: -0.6075774811172214\n",
      "\n",
      "Validation:\n",
      "Epoch: 18 ... Accuracy: 0.7528840670828886 ... Score: -0.6570400114046759\n",
      "\n",
      "Training:\n",
      "Epoch: 19 ... Accuracy: 0.7554982396577221 ... Score: -0.65328486874536\n",
      "\n",
      "Validation:\n",
      "Epoch: 19 ... Accuracy: 0.7576287046920006 ... Score: -0.6464130101033732\n",
      "\n",
      "Training:\n",
      "Epoch: 20 ... Accuracy: 0.772607861011131 ... Score: -0.5925802918554375\n",
      "\n",
      "Validation:\n",
      "Epoch: 20 ... Accuracy: 0.7244674162560496 ... Score: -0.743983302384747\n",
      "\n",
      "Training:\n",
      "Epoch: 21 ... Accuracy: 0.773287051552698 ... Score: -0.5939393136843653\n",
      "\n",
      "Validation:\n",
      "Epoch: 21 ... Accuracy: 0.7136768382729227 ... Score: -0.7611944935885251\n",
      "\n",
      "Training:\n",
      "Epoch: 22 ... Accuracy: 0.7566985701116863 ... Score: -0.6456618092439969\n",
      "\n",
      "Validation:\n",
      "Epoch: 22 ... Accuracy: 0.6382597634260816 ... Score: -0.9590153597590396\n",
      "\n",
      "Training:\n",
      "Epoch: 23 ... Accuracy: 0.7509916609070739 ... Score: -0.6294293688824796\n",
      "\n",
      "Validation:\n",
      "Epoch: 23 ... Accuracy: 0.6326817071922565 ... Score: -0.8897593686488383\n",
      "\n",
      "Training:\n",
      "Epoch: 24 ... Accuracy: 0.7774783833727321 ... Score: -0.580666584935981\n",
      "\n",
      "Validation:\n",
      "Epoch: 24 ... Accuracy: 0.723326948664337 ... Score: -0.7064822057812934\n",
      "\n",
      "Training:\n",
      "Epoch: 25 ... Accuracy: 0.7773527971971216 ... Score: -0.5745650831132727\n",
      "\n",
      "Validation:\n",
      "Epoch: 25 ... Accuracy: 0.7392203880514088 ... Score: -0.6629726360884886\n",
      "\n",
      "Training:\n",
      "Epoch: 26 ... Accuracy: 0.776494197833254 ... Score: -0.5831362328077224\n",
      "\n",
      "Validation:\n",
      "Epoch: 26 ... Accuracy: 0.7412600704750486 ... Score: -0.6576449709765619\n",
      "\n",
      "Training:\n",
      "Epoch: 27 ... Accuracy: 0.7823736812383651 ... Score: -0.5705545483980928\n",
      "\n",
      "Validation:\n",
      "Epoch: 27 ... Accuracy: 0.7332914187124413 ... Score: -0.7128461611568435\n",
      "\n",
      "Training:\n",
      "Epoch: 28 ... Accuracy: 0.7752562769593793 ... Score: -0.5733195800808365\n",
      "\n",
      "Validation:\n",
      "Epoch: 28 ... Accuracy: 0.6827599315719445 ... Score: -0.8020749565013964\n",
      "\n",
      "Training:\n",
      "Epoch: 29 ... Accuracy: 0.798148842684947 ... Score: -0.525016638032449\n",
      "\n",
      "Validation:\n",
      "Epoch: 29 ... Accuracy: 0.7554135657157897 ... Score: -0.6401185062798824\n",
      "\n",
      "Training:\n",
      "Epoch: 30 ... Accuracy: 0.7718124818989314 ... Score: -0.6029132789012662\n",
      "\n",
      "Validation:\n",
      "Epoch: 30 ... Accuracy: 0.7583451522816662 ... Score: -0.6420768572807158\n",
      "\n",
      "Training:\n",
      "Epoch: 31 ... Accuracy: 0.793331288642311 ... Score: -0.538980090746691\n",
      "\n",
      "Validation:\n",
      "Epoch: 31 ... Accuracy: 0.7507712777623441 ... Score: -0.6554645577763806\n",
      "\n",
      "Training:\n",
      "Epoch: 32 ... Accuracy: 0.7888836585047043 ... Score: -0.5545586500255016\n",
      "\n",
      "Validation:\n",
      "Epoch: 32 ... Accuracy: 0.7671179799102247 ... Score: -0.6173338280233357\n",
      "\n",
      "Training:\n",
      "Epoch: 33 ... Accuracy: 0.7419793577335028 ... Score: -0.661545897475547\n",
      "\n",
      "Validation:\n",
      "Epoch: 33 ... Accuracy: 0.6015820332490167 ... Score: -1.0237972087786762\n",
      "\n",
      "Training:\n",
      "Epoch: 34 ... Accuracy: 0.7816381050669323 ... Score: -0.5763224352440942\n",
      "\n",
      "Validation:\n",
      "Epoch: 34 ... Accuracy: 0.7079745003143597 ... Score: -0.7828295658912462\n",
      "\n",
      "Training:\n",
      "Epoch: 35 ... Accuracy: 0.7966247220231164 ... Score: -0.5302891215887762\n",
      "\n",
      "Validation:\n",
      "Epoch: 35 ... Accuracy: 0.7590908426300937 ... Score: -0.643236515432866\n",
      "\n",
      "Training:\n",
      "Epoch: 36 ... Accuracy: 0.752864347280803 ... Score: -0.6625883908822728\n",
      "\n",
      "Validation:\n",
      "Epoch: 36 ... Accuracy: 0.7428757328966414 ... Score: -0.688478718582311\n",
      "\n",
      "Training:\n",
      "Epoch: 37 ... Accuracy: 0.7905658297957047 ... Score: -0.5394985608849469\n",
      "\n",
      "Validation:\n",
      "Epoch: 37 ... Accuracy: 0.7378459783896013 ... Score: -0.6677721038702791\n",
      "\n",
      "Training:\n",
      "Epoch: 38 ... Accuracy: 0.8001325916629575 ... Score: -0.5216964001192641\n",
      "\n",
      "Validation:\n",
      "Epoch: 38 ... Accuracy: 0.7388694749462664 ... Score: -0.6822664600178381\n",
      "\n",
      "Training:\n",
      "Epoch: 39 ... Accuracy: 0.8039232437798535 ... Score: -0.5178099565061756\n",
      "\n",
      "Validation:\n",
      "Epoch: 39 ... Accuracy: 0.7513634436272718 ... Score: -0.6641505709648649\n",
      "\n",
      "Training:\n",
      "Epoch: 40 ... Accuracy: 0.7900216230347259 ... Score: -0.5593370117837423\n",
      "\n",
      "Validation:\n",
      "Epoch: 40 ... Accuracy: 0.7581185209012619 ... Score: -0.6400865220124866\n",
      "\n",
      "Training:\n",
      "Epoch: 41 ... Accuracy: 0.7991501147789298 ... Score: -0.5239114583288838\n",
      "\n",
      "Validation:\n",
      "Epoch: 41 ... Accuracy: 0.7293582676589709 ... Score: -0.7294012179609024\n",
      "\n"
     ]
    },
    {
     "ename": "KeyboardInterrupt",
     "evalue": "",
     "output_type": "error",
     "traceback": [
      "\u001b[0;31m---------------------------------------------------------------------------\u001b[0m",
      "\u001b[0;31mKeyboardInterrupt\u001b[0m                         Traceback (most recent call last)",
      "\u001b[0;32m<ipython-input-3-6715f10dfd65>\u001b[0m in \u001b[0;36m<module>\u001b[0;34m\u001b[0m\n\u001b[1;32m      1\u001b[0m \u001b[0;31m# 2 Accuracy  unbalanced\u001b[0m\u001b[0;34m\u001b[0m\u001b[0;34m\u001b[0m\u001b[0;34m\u001b[0m\u001b[0m\n\u001b[1;32m      2\u001b[0m \u001b[0mModel\u001b[0m \u001b[0;34m=\u001b[0m \u001b[0mLSTM\u001b[0m\u001b[0;34m(\u001b[0m\u001b[0;36m9\u001b[0m\u001b[0;34m,\u001b[0m \u001b[0;36m26\u001b[0m\u001b[0;34m,\u001b[0m \u001b[0;36m12\u001b[0m\u001b[0;34m,\u001b[0m \u001b[0;36m317\u001b[0m\u001b[0;34m,\u001b[0m \u001b[0;36m1\u001b[0m\u001b[0;34m)\u001b[0m\u001b[0;34m\u001b[0m\u001b[0;34m\u001b[0m\u001b[0m\n\u001b[0;32m----> 3\u001b[0;31m \u001b[0mModel\u001b[0m\u001b[0;34m.\u001b[0m\u001b[0mfit\u001b[0m\u001b[0;34m(\u001b[0m \u001b[0mx\u001b[0m\u001b[0;34m=\u001b[0m\u001b[0mx\u001b[0m\u001b[0;34m,\u001b[0m \u001b[0my\u001b[0m\u001b[0;34m=\u001b[0m\u001b[0my\u001b[0m\u001b[0;34m,\u001b[0m \u001b[0mxt\u001b[0m \u001b[0;34m=\u001b[0m \u001b[0mxt\u001b[0m\u001b[0;34m,\u001b[0m \u001b[0myt\u001b[0m \u001b[0;34m=\u001b[0m \u001b[0myt\u001b[0m\u001b[0;34m,\u001b[0m \u001b[0moptim\u001b[0m \u001b[0;34m=\u001b[0m \u001b[0;34m'adamw'\u001b[0m\u001b[0;34m,\u001b[0m\u001b[0mclass_weights\u001b[0m \u001b[0;34m=\u001b[0m \u001b[0;34m'unbal'\u001b[0m\u001b[0;34m,\u001b[0m \u001b[0mlr\u001b[0m \u001b[0;34m=\u001b[0m \u001b[0;36m0.00001\u001b[0m\u001b[0;34m,\u001b[0m \u001b[0mweight_decay\u001b[0m \u001b[0;34m=\u001b[0m \u001b[0;36m0.1\u001b[0m\u001b[0;34m,\u001b[0m \u001b[0mn_epoch\u001b[0m \u001b[0;34m=\u001b[0m \u001b[0;36m50\u001b[0m\u001b[0;34m,\u001b[0m \u001b[0mbatchsize\u001b[0m \u001b[0;34m=\u001b[0m \u001b[0;36m128\u001b[0m\u001b[0;34m,\u001b[0m \u001b[0mmomentum\u001b[0m \u001b[0;34m=\u001b[0m \u001b[0;32mNone\u001b[0m\u001b[0;34m,\u001b[0m \u001b[0mrun_name\u001b[0m \u001b[0;34m=\u001b[0m \u001b[0;34m'LSTM_Best-2'\u001b[0m\u001b[0;34m)\u001b[0m\u001b[0;34m\u001b[0m\u001b[0;34m\u001b[0m\u001b[0m\n\u001b[0m",
      "\u001b[0;32m~/Desktop/Force/LSTM/LSTM.py\u001b[0m in \u001b[0;36mfit\u001b[0;34m(self, x, y, xt, yt, optim, milestones, class_weights, lr, weight_decay, n_epoch, batchsize, momentum, savemodel, savemodelroot, run_name, active_log)\u001b[0m\n\u001b[1;32m     41\u001b[0m     \u001b[0;32mdef\u001b[0m \u001b[0mfit\u001b[0m\u001b[0;34m(\u001b[0m\u001b[0mself\u001b[0m\u001b[0;34m,\u001b[0m \u001b[0mx\u001b[0m\u001b[0;34m,\u001b[0m \u001b[0my\u001b[0m\u001b[0;34m,\u001b[0m \u001b[0mxt\u001b[0m \u001b[0;34m=\u001b[0m \u001b[0;32mNone\u001b[0m\u001b[0;34m,\u001b[0m \u001b[0myt\u001b[0m \u001b[0;34m=\u001b[0m \u001b[0;32mNone\u001b[0m\u001b[0;34m,\u001b[0m \u001b[0moptim\u001b[0m \u001b[0;34m=\u001b[0m \u001b[0;34m'adamw'\u001b[0m\u001b[0;34m,\u001b[0m \u001b[0mmilestones\u001b[0m \u001b[0;34m=\u001b[0m \u001b[0;34m[\u001b[0m\u001b[0;34m]\u001b[0m\u001b[0;34m,\u001b[0m \u001b[0mclass_weights\u001b[0m \u001b[0;34m=\u001b[0m \u001b[0;34m'bal'\u001b[0m\u001b[0;34m,\u001b[0m \u001b[0mlr\u001b[0m \u001b[0;34m=\u001b[0m \u001b[0;36m0.001\u001b[0m\u001b[0;34m,\u001b[0m \u001b[0mweight_decay\u001b[0m \u001b[0;34m=\u001b[0m \u001b[0;36m0.1\u001b[0m\u001b[0;34m,\u001b[0m \u001b[0mn_epoch\u001b[0m \u001b[0;34m=\u001b[0m \u001b[0;36m100\u001b[0m\u001b[0;34m,\u001b[0m \u001b[0mbatchsize\u001b[0m \u001b[0;34m=\u001b[0m \u001b[0;36m128\u001b[0m\u001b[0;34m,\u001b[0m \u001b[0mmomentum\u001b[0m \u001b[0;34m=\u001b[0m \u001b[0;36m0.1\u001b[0m\u001b[0;34m,\u001b[0m \u001b[0msavemodel\u001b[0m \u001b[0;34m=\u001b[0m \u001b[0;32mTrue\u001b[0m\u001b[0;34m,\u001b[0m \u001b[0msavemodelroot\u001b[0m \u001b[0;34m=\u001b[0m \u001b[0;34m'./bestmodels/RNN'\u001b[0m\u001b[0;34m,\u001b[0m \u001b[0mrun_name\u001b[0m \u001b[0;34m=\u001b[0m \u001b[0;34m'testrun'\u001b[0m\u001b[0;34m,\u001b[0m \u001b[0mactive_log\u001b[0m \u001b[0;34m=\u001b[0m \u001b[0;32mTrue\u001b[0m\u001b[0;34m)\u001b[0m\u001b[0;34m:\u001b[0m\u001b[0;34m\u001b[0m\u001b[0;34m\u001b[0m\u001b[0m\n\u001b[1;32m     42\u001b[0m         \u001b[0mopt\u001b[0m \u001b[0;34m=\u001b[0m \u001b[0mdummy_args\u001b[0m\u001b[0;34m(\u001b[0m\u001b[0mself\u001b[0m\u001b[0;34m.\u001b[0m\u001b[0mwindow_size\u001b[0m\u001b[0;34m,\u001b[0m \u001b[0mself\u001b[0m\u001b[0;34m.\u001b[0m\u001b[0minput_size\u001b[0m\u001b[0;34m,\u001b[0m \u001b[0mself\u001b[0m\u001b[0;34m.\u001b[0m\u001b[0moutput_size\u001b[0m\u001b[0;34m,\u001b[0m \u001b[0mself\u001b[0m\u001b[0;34m.\u001b[0m\u001b[0mhidden_dim\u001b[0m\u001b[0;34m,\u001b[0m \u001b[0mself\u001b[0m\u001b[0;34m.\u001b[0m\u001b[0mn_layers\u001b[0m\u001b[0;34m,\u001b[0m \u001b[0moptim\u001b[0m\u001b[0;34m,\u001b[0m \u001b[0mmilestones\u001b[0m\u001b[0;34m,\u001b[0m \u001b[0mclass_weights\u001b[0m\u001b[0;34m,\u001b[0m \u001b[0mlr\u001b[0m\u001b[0;34m,\u001b[0m \u001b[0mweight_decay\u001b[0m\u001b[0;34m,\u001b[0m \u001b[0mn_epoch\u001b[0m\u001b[0;34m,\u001b[0m \u001b[0mbatchsize\u001b[0m\u001b[0;34m,\u001b[0m \u001b[0mmomentum\u001b[0m\u001b[0;34m,\u001b[0m \u001b[0msavemodel\u001b[0m\u001b[0;34m,\u001b[0m \u001b[0msavemodelroot\u001b[0m\u001b[0;34m,\u001b[0m \u001b[0mrun_name\u001b[0m\u001b[0;34m,\u001b[0m \u001b[0mactive_log\u001b[0m \u001b[0;34m)\u001b[0m\u001b[0;34m\u001b[0m\u001b[0;34m\u001b[0m\u001b[0m\n\u001b[0;32m---> 43\u001b[0;31m         \u001b[0mself\u001b[0m\u001b[0;34m.\u001b[0m\u001b[0mmodel\u001b[0m \u001b[0;34m=\u001b[0m \u001b[0mtrain\u001b[0m\u001b[0;34m(\u001b[0m\u001b[0mself\u001b[0m\u001b[0;34m.\u001b[0m\u001b[0m__model\u001b[0m\u001b[0;34m,\u001b[0m \u001b[0mopt\u001b[0m\u001b[0;34m,\u001b[0m \u001b[0mself\u001b[0m\u001b[0;34m.\u001b[0m\u001b[0mdevice\u001b[0m\u001b[0;34m,\u001b[0m \u001b[0mx\u001b[0m\u001b[0;34m,\u001b[0m \u001b[0my\u001b[0m\u001b[0;34m,\u001b[0m \u001b[0mxt\u001b[0m\u001b[0;34m,\u001b[0m \u001b[0myt\u001b[0m\u001b[0;34m)\u001b[0m\u001b[0;34m\u001b[0m\u001b[0;34m\u001b[0m\u001b[0m\n\u001b[0m\u001b[1;32m     44\u001b[0m         \u001b[0mprint\u001b[0m\u001b[0;34m(\u001b[0m\u001b[0;34m'Model Fitting Complete'\u001b[0m\u001b[0;34m)\u001b[0m\u001b[0;34m\u001b[0m\u001b[0;34m\u001b[0m\u001b[0m\n\u001b[1;32m     45\u001b[0m \u001b[0;34m\u001b[0m\u001b[0m\n",
      "\u001b[0;32m~/Desktop/Force/LSTM/train.py\u001b[0m in \u001b[0;36mtrain\u001b[0;34m(model, opt, device, x, y, xt, yt)\u001b[0m\n\u001b[1;32m     76\u001b[0m             \u001b[0;32mfor\u001b[0m \u001b[0mx\u001b[0m\u001b[0;34m,\u001b[0m\u001b[0my\u001b[0m \u001b[0;32min\u001b[0m \u001b[0mdl\u001b[0m\u001b[0;34m:\u001b[0m\u001b[0;34m\u001b[0m\u001b[0;34m\u001b[0m\u001b[0m\n\u001b[1;32m     77\u001b[0m                 \u001b[0moptimizer\u001b[0m\u001b[0;34m.\u001b[0m\u001b[0mzero_grad\u001b[0m\u001b[0;34m(\u001b[0m\u001b[0;34m)\u001b[0m \u001b[0;31m# Clears existing gradients from previous epoch\u001b[0m\u001b[0;34m\u001b[0m\u001b[0;34m\u001b[0m\u001b[0m\n\u001b[0;32m---> 78\u001b[0;31m                 \u001b[0moutput\u001b[0m\u001b[0;34m,\u001b[0m \u001b[0mhidden\u001b[0m \u001b[0;34m=\u001b[0m \u001b[0mmodel\u001b[0m\u001b[0;34m(\u001b[0m\u001b[0mx\u001b[0m\u001b[0;34m.\u001b[0m\u001b[0munsqueeze\u001b[0m\u001b[0;34m(\u001b[0m\u001b[0;34m-\u001b[0m\u001b[0;36m1\u001b[0m\u001b[0;34m)\u001b[0m\u001b[0;34m.\u001b[0m\u001b[0mpermute\u001b[0m\u001b[0;34m(\u001b[0m\u001b[0;36m2\u001b[0m\u001b[0;34m,\u001b[0m\u001b[0;36m0\u001b[0m\u001b[0;34m,\u001b[0m\u001b[0;36m1\u001b[0m\u001b[0;34m)\u001b[0m\u001b[0;34m)\u001b[0m\u001b[0;34m\u001b[0m\u001b[0;34m\u001b[0m\u001b[0m\n\u001b[0m\u001b[1;32m     79\u001b[0m                 \u001b[0mloss\u001b[0m \u001b[0;34m=\u001b[0m \u001b[0mCriterion\u001b[0m\u001b[0;34m(\u001b[0m\u001b[0moutput\u001b[0m\u001b[0;34m,\u001b[0m \u001b[0my\u001b[0m\u001b[0;34m.\u001b[0m\u001b[0mview\u001b[0m\u001b[0;34m(\u001b[0m\u001b[0;34m-\u001b[0m\u001b[0;36m1\u001b[0m\u001b[0;34m)\u001b[0m\u001b[0;34m.\u001b[0m\u001b[0mlong\u001b[0m\u001b[0;34m(\u001b[0m\u001b[0;34m)\u001b[0m\u001b[0;34m)\u001b[0m\u001b[0;34m\u001b[0m\u001b[0;34m\u001b[0m\u001b[0m\n\u001b[1;32m     80\u001b[0m                 \u001b[0mloss\u001b[0m\u001b[0;34m.\u001b[0m\u001b[0mbackward\u001b[0m\u001b[0;34m(\u001b[0m\u001b[0;34m)\u001b[0m \u001b[0;31m# Does backpropagation and calculates gradients\u001b[0m\u001b[0;34m\u001b[0m\u001b[0;34m\u001b[0m\u001b[0m\n",
      "\u001b[0;32m~/.local/lib/python3.8/site-packages/torch/nn/modules/module.py\u001b[0m in \u001b[0;36m_call_impl\u001b[0;34m(self, *input, **kwargs)\u001b[0m\n\u001b[1;32m   1100\u001b[0m         if not (self._backward_hooks or self._forward_hooks or self._forward_pre_hooks or _global_backward_hooks\n\u001b[1;32m   1101\u001b[0m                 or _global_forward_hooks or _global_forward_pre_hooks):\n\u001b[0;32m-> 1102\u001b[0;31m             \u001b[0;32mreturn\u001b[0m \u001b[0mforward_call\u001b[0m\u001b[0;34m(\u001b[0m\u001b[0;34m*\u001b[0m\u001b[0minput\u001b[0m\u001b[0;34m,\u001b[0m \u001b[0;34m**\u001b[0m\u001b[0mkwargs\u001b[0m\u001b[0;34m)\u001b[0m\u001b[0;34m\u001b[0m\u001b[0;34m\u001b[0m\u001b[0m\n\u001b[0m\u001b[1;32m   1103\u001b[0m         \u001b[0;31m# Do not call functions when jit is used\u001b[0m\u001b[0;34m\u001b[0m\u001b[0;34m\u001b[0m\u001b[0;34m\u001b[0m\u001b[0m\n\u001b[1;32m   1104\u001b[0m         \u001b[0mfull_backward_hooks\u001b[0m\u001b[0;34m,\u001b[0m \u001b[0mnon_full_backward_hooks\u001b[0m \u001b[0;34m=\u001b[0m \u001b[0;34m[\u001b[0m\u001b[0;34m]\u001b[0m\u001b[0;34m,\u001b[0m \u001b[0;34m[\u001b[0m\u001b[0;34m]\u001b[0m\u001b[0;34m\u001b[0m\u001b[0;34m\u001b[0m\u001b[0m\n",
      "\u001b[0;32m~/Desktop/Force/LSTM/Modules.py\u001b[0m in \u001b[0;36mforward\u001b[0;34m(self, x)\u001b[0m\n\u001b[1;32m     23\u001b[0m     \u001b[0;31m# Prediction\u001b[0m\u001b[0;34m\u001b[0m\u001b[0;34m\u001b[0m\u001b[0;34m\u001b[0m\u001b[0m\n\u001b[1;32m     24\u001b[0m     \u001b[0;32mdef\u001b[0m \u001b[0mforward\u001b[0m\u001b[0;34m(\u001b[0m\u001b[0mself\u001b[0m\u001b[0;34m,\u001b[0m \u001b[0mx\u001b[0m\u001b[0;34m)\u001b[0m\u001b[0;34m:\u001b[0m\u001b[0;34m\u001b[0m\u001b[0;34m\u001b[0m\u001b[0m\n\u001b[0;32m---> 25\u001b[0;31m         \u001b[0mwindows\u001b[0m \u001b[0;34m=\u001b[0m \u001b[0mutils\u001b[0m\u001b[0;34m.\u001b[0m\u001b[0mget_windows\u001b[0m\u001b[0;34m(\u001b[0m\u001b[0mself\u001b[0m\u001b[0;34m.\u001b[0m\u001b[0mwindow_size\u001b[0m\u001b[0;34m,\u001b[0m \u001b[0mx\u001b[0m\u001b[0;34m)\u001b[0m\u001b[0;34m.\u001b[0m\u001b[0mto\u001b[0m\u001b[0;34m(\u001b[0m\u001b[0mself\u001b[0m\u001b[0;34m.\u001b[0m\u001b[0mdevice\u001b[0m\u001b[0;34m)\u001b[0m\u001b[0;34m\u001b[0m\u001b[0;34m\u001b[0m\u001b[0m\n\u001b[0m\u001b[1;32m     26\u001b[0m \u001b[0;34m\u001b[0m\u001b[0m\n\u001b[1;32m     27\u001b[0m         \u001b[0mbatch_size\u001b[0m \u001b[0;34m=\u001b[0m \u001b[0mwindows\u001b[0m\u001b[0;34m.\u001b[0m\u001b[0msize\u001b[0m\u001b[0;34m(\u001b[0m\u001b[0;36m0\u001b[0m\u001b[0;34m)\u001b[0m\u001b[0;34m\u001b[0m\u001b[0;34m\u001b[0m\u001b[0m\n",
      "\u001b[0;32m~/Desktop/Force/LSTM/utils.py\u001b[0m in \u001b[0;36mget_windows\u001b[0;34m(num, inp)\u001b[0m\n\u001b[1;32m    107\u001b[0m \u001b[0;34m\u001b[0m\u001b[0m\n\u001b[1;32m    108\u001b[0m     \u001b[0;32mfor\u001b[0m \u001b[0mi\u001b[0m \u001b[0;32min\u001b[0m \u001b[0mrange\u001b[0m\u001b[0;34m(\u001b[0m\u001b[0msamples\u001b[0m\u001b[0;34m-\u001b[0m\u001b[0;34m(\u001b[0m\u001b[0mnum\u001b[0m\u001b[0;34m-\u001b[0m\u001b[0;36m1\u001b[0m\u001b[0;34m)\u001b[0m\u001b[0;34m)\u001b[0m\u001b[0;34m:\u001b[0m\u001b[0;34m\u001b[0m\u001b[0;34m\u001b[0m\u001b[0m\n\u001b[0;32m--> 109\u001b[0;31m             \u001b[0mmatrix\u001b[0m\u001b[0;34m[\u001b[0m\u001b[0mi\u001b[0m\u001b[0;34m+\u001b[0m\u001b[0;34m(\u001b[0m\u001b[0mnum\u001b[0m\u001b[0;34m-\u001b[0m\u001b[0;36m1\u001b[0m\u001b[0;34m)\u001b[0m\u001b[0;34m]\u001b[0m \u001b[0;34m=\u001b[0m \u001b[0minp\u001b[0m\u001b[0;34m[\u001b[0m\u001b[0;36m0\u001b[0m\u001b[0;34m]\u001b[0m\u001b[0;34m[\u001b[0m\u001b[0mi\u001b[0m\u001b[0;34m:\u001b[0m\u001b[0mi\u001b[0m\u001b[0;34m+\u001b[0m\u001b[0mnum\u001b[0m\u001b[0;34m,\u001b[0m\u001b[0;34m:\u001b[0m\u001b[0;34m]\u001b[0m\u001b[0;34m\u001b[0m\u001b[0;34m\u001b[0m\u001b[0m\n\u001b[0m\u001b[1;32m    110\u001b[0m \u001b[0;34m\u001b[0m\u001b[0m\n\u001b[1;32m    111\u001b[0m     \u001b[0;32mreturn\u001b[0m \u001b[0mmatrix\u001b[0m\u001b[0;34m\u001b[0m\u001b[0;34m\u001b[0m\u001b[0m\n",
      "\u001b[0;31mKeyboardInterrupt\u001b[0m: "
     ]
    }
   ],
   "source": [
    "# 2 Accuracy  unbalanced\n",
    "Model = LSTM(9, 26, 12, 317, 1)\n",
    "Model.fit( x=x, y=y, xt = xt, yt = yt, optim = 'adamw',class_weights = 'unbal', lr = 0.00001, weight_decay = 0.1, n_epoch = 50, batchsize = 128, momentum = None, run_name = 'LSTM_Best-2')"
   ]
  },
  {
   "cell_type": "code",
   "execution_count": 6,
   "id": "647f5b36",
   "metadata": {},
   "outputs": [],
   "source": [
    "params = torch.load('./bestmodels/RNN/LSTM_Best-2/bestmodel.pth')"
   ]
  },
  {
   "cell_type": "code",
   "execution_count": 7,
   "id": "4dfb04e9",
   "metadata": {},
   "outputs": [
    {
     "name": "stdout",
     "output_type": "stream",
     "text": [
      "Parameters Loaded\n"
     ]
    }
   ],
   "source": [
    "Model = LSTM(9, 26, 12, 317, 1)\n",
    "Model.set_params(params)"
   ]
  },
  {
   "cell_type": "code",
   "execution_count": 8,
   "id": "b9edc1e0",
   "metadata": {},
   "outputs": [
    {
     "data": {
      "text/plain": [
       "0.7888836585047043"
      ]
     },
     "execution_count": 8,
     "metadata": {},
     "output_type": "execute_result"
    }
   ],
   "source": [
    "# Training Accuracy\n",
    "Model.score(x,y)"
   ]
  },
  {
   "cell_type": "code",
   "execution_count": 16,
   "id": "f89b0862",
   "metadata": {},
   "outputs": [
    {
     "data": {
      "text/plain": [
       "-0.5545586500255016"
      ]
     },
     "execution_count": 16,
     "metadata": {},
     "output_type": "execute_result"
    }
   ],
   "source": [
    "# Training Score\n",
    "utils.score(torch.Tensor(y.to_numpy()), Model.predict(x, y), A)"
   ]
  },
  {
   "cell_type": "code",
   "execution_count": 17,
   "id": "1ff5e65e",
   "metadata": {},
   "outputs": [
    {
     "data": {
      "text/plain": [
       "0.7671179799102247"
      ]
     },
     "execution_count": 17,
     "metadata": {},
     "output_type": "execute_result"
    }
   ],
   "source": [
    "# Test Accuracy\n",
    "Model.score(xt,yt)"
   ]
  },
  {
   "cell_type": "code",
   "execution_count": 18,
   "id": "4f142a82",
   "metadata": {},
   "outputs": [
    {
     "data": {
      "text/plain": [
       "-0.6173338280233357"
      ]
     },
     "execution_count": 18,
     "metadata": {},
     "output_type": "execute_result"
    }
   ],
   "source": [
    "# Test Score\n",
    "utils.score(torch.Tensor(yt.to_numpy()), Model.predict(xt, yt), A)"
   ]
  },
  {
   "cell_type": "code",
   "execution_count": 21,
   "id": "9d13e6c7",
   "metadata": {},
   "outputs": [
    {
     "data": {
      "text/plain": [
       "0.7824783287172071"
      ]
     },
     "execution_count": 21,
     "metadata": {},
     "output_type": "execute_result"
    }
   ],
   "source": [
    "# Hidden Test Accuracy\n",
    "Model.score(xht,yht)"
   ]
  },
  {
   "cell_type": "code",
   "execution_count": 22,
   "id": "e02a6144",
   "metadata": {},
   "outputs": [
    {
     "data": {
      "text/plain": [
       "-0.5670635309688963"
      ]
     },
     "execution_count": 22,
     "metadata": {},
     "output_type": "execute_result"
    }
   ],
   "source": [
    "# Hidden Test Score\n",
    "utils.score(torch.Tensor(yht.to_numpy()), Model.predict(xht, yht), A)"
   ]
  },
  {
   "cell_type": "code",
   "execution_count": null,
   "id": "60c732e8",
   "metadata": {},
   "outputs": [],
   "source": []
  }
 ],
 "metadata": {
  "kernelspec": {
   "display_name": "Python 3 (ipykernel)",
   "language": "python",
   "name": "python3"
  },
  "language_info": {
   "codemirror_mode": {
    "name": "ipython",
    "version": 3
   },
   "file_extension": ".py",
   "mimetype": "text/x-python",
   "name": "python",
   "nbconvert_exporter": "python",
   "pygments_lexer": "ipython3",
   "version": "3.9.12"
  }
 },
 "nbformat": 4,
 "nbformat_minor": 5
}
