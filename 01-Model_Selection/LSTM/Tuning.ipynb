{
 "cells": [
  {
   "cell_type": "code",
   "execution_count": null,
   "id": "a6167ca3",
   "metadata": {},
   "outputs": [],
   "source": [
    "import sys\n",
    "sys.path.insert(0, '../../Models/LSTM')"
   ]
  },
  {
   "cell_type": "code",
   "execution_count": 1,
   "id": "a7cac5ab",
   "metadata": {},
   "outputs": [],
   "source": [
    "# Import libraries\n",
    "from sklearn.model_selection import StratifiedKFold\n",
    "from sklearn.metrics import f1_score\n",
    "from LSTM import LSTM\n",
    "import pandas as pd\n",
    "import hyperopt\n",
    "from hyperopt import fmin, tpe, Trials, hp\n",
    "import hyperopt.pyll.stochastic\n",
    "from hyperopt import pyll\n",
    "\n",
    "# Hyperopt function\n",
    "def search_reg(space, max_eval, output_path):\n",
    "    T = Trials()\n",
    "    best = fmin(optimiser, space, algo=tpe.suggest, max_evals=max_eval, trials=T, pass_expr_memo_ctrl=True)\n",
    "    \n",
    "    logs = []\n",
    "    results = []\n",
    "    \n",
    "    T.trials\n",
    "    for i in T.trials:\n",
    "        logs.append(i['misc']['vals'])\n",
    "        results.append(i['result']['loss'])\n",
    "    \n",
    "    trial_data = pd.DataFrame(logs)\n",
    "    trial_data['F1'] = results\n",
    "    trial_data.to_csv(output_path)\n",
    "    \n",
    "    return hyperopt.space_eval(space, best)"
   ]
  },
  {
   "cell_type": "code",
   "execution_count": 2,
   "id": "e6b0440a",
   "metadata": {},
   "outputs": [],
   "source": [
    "x = pd.read_csv('../../Data/Missing_0_Mask/X_train_0_WELL.csv')\n",
    "y = pd.read_csv('../../Data/Y_train.csv')\n",
    "xt = pd.read_csv('../../Data/Missing_0_Mask/X_test_0_WELL.csv')\n",
    "yt = pd.read_csv('../../Data/Y_test.csv')"
   ]
  },
  {
   "cell_type": "code",
   "execution_count": 3,
   "id": "9d91f7d5",
   "metadata": {},
   "outputs": [],
   "source": [
    "def Kfold(data, labels, window_size = 1, hidden_dim = 16, n_layers = 1, optim = 'adamw', lr = 0.0001, weight_decay = 0.1, n_epoch = 100, batchsize = 1024, momentum = None, run_name = 'testrun', best = None):\n",
    "    \n",
    "    kf = StratifiedKFold(n_splits = 5, shuffle = True)\n",
    "    kf.get_n_splits(data, labels)\n",
    "    \n",
    "    VS_arr = []\n",
    "    \n",
    "    for fold, (train_index, test_index) in enumerate(kf.split(data, labels)):\n",
    "        print('--------------------------------')\n",
    "        print(f'FOLD {fold}')\n",
    "        print('--------------------------------')\n",
    "        \n",
    "        x_train, x_test = data.iloc[train_index], data.iloc[test_index]\n",
    "        y_train, y_test = labels.iloc[train_index], labels.iloc[test_index]\n",
    "\n",
    "        Model = LSTM(window_size, 26, 12, hidden_dim, n_layers)\n",
    "        Model.fit( x=x_train, y=y_train, xt = x_test, yt = y_test, optim = optim, lr = lr, weight_decay = weight_decay, n_epoch = n_epoch, batchsize = batchsize, momentum = momentum, run_name = run_name)\n",
    "        f1 = f1_score(yt,Model.predict(xt, yt).cpu().numpy(),average='macro')\n",
    "        VS_arr.append(f1)\n",
    "        \n",
    "        print(f'Fold {fold} Validation Score: {f1}')\n",
    "        \n",
    "        # Early Stopping\n",
    "        if best != None:\n",
    "            if f1 < best:\n",
    "                print('********************************')\n",
    "                print('F1 Score too low ... stopped early.')\n",
    "                print('********************************')\n",
    "                return f1\n",
    "\n",
    "    \n",
    "    final_F1 = min(VS_arr)\n",
    "    print('--------------------------------')\n",
    "    print(f'\\n\\nMinimum Validation Score: {final_F1}')\n",
    "    print('--------------------------------')\n",
    "    \n",
    "    return final_F1"
   ]
  },
  {
   "cell_type": "code",
   "execution_count": 4,
   "id": "cf5a19c4",
   "metadata": {},
   "outputs": [],
   "source": [
    "def optimiser(expr, memo, ctrl):\n",
    "    try:\n",
    "        config = pyll.rec_eval(expr, memo=memo)\n",
    "        print(config)\n",
    "        if len(ctrl.trials.losses()) > 1:\n",
    "            best_score = -min(value for value in ctrl.trials.losses() if value is not None)\n",
    "        else:\n",
    "            best_score = -5\n",
    "\n",
    "        return -Kfold(x, y, window_size = config['window_size'], hidden_dim = config['hidden_dim'], n_layers = config['n_layers'], optim = 'adamw', lr = 0.0001, weight_decay = 0.1, n_epoch = 5, batchsize = 256, momentum = None, run_name = 'LSTM_search_new', best = best_score)\n",
    "    \n",
    "    except:\n",
    "        return 99"
   ]
  },
  {
   "cell_type": "code",
   "execution_count": 5,
   "id": "a3bad754",
   "metadata": {},
   "outputs": [],
   "source": [
    "space = {'window_size':hp.randint('window_size', 10),\n",
    "         'hidden_dim':hp.randint('hidden_dim',500),\n",
    "         'n_layers':hp.choice('n_layers',[1,2,3])}"
   ]
  },
  {
   "cell_type": "code",
   "execution_count": 6,
   "id": "128daa96",
   "metadata": {
    "scrolled": true
   },
   "outputs": [
    {
     "name": "stdout",
     "output_type": "stream",
     "text": [
      "{'hidden_dim': 399, 'n_layers': 3, 'window_size': 8}\n",
      "--------------------------------                    \n",
      "FOLD 0                                              \n",
      "--------------------------------                    \n",
      "Device is cuda:0.                                   \n",
      "\n",
      "  0%|          | 0/50 [00:03<?, ?it/s, best loss: ?]"
     ]
    },
    {
     "name": "stderr",
     "output_type": "stream",
     "text": [
      "wandb: Currently logged in as: 2djagpal (use `wandb login --relogin` to force relogin)\n",
      "\n"
     ]
    },
    {
     "data": {
      "text/html": [
       "\n",
       "                    Syncing run <strong><a href=\"https://wandb.ai/2djagpal/Lithology-LSTM_search_new/runs/1535yyzl\" target=\"_blank\">polar-durian-10</a></strong> to <a href=\"https://wandb.ai/2djagpal/Lithology-LSTM_search_new\" target=\"_blank\">Weights & Biases</a> (<a href=\"https://docs.wandb.com/integrations/jupyter.html\" target=\"_blank\">docs</a>).<br/>\n",
       "\n",
       "                "
      ],
      "text/plain": [
       "<IPython.core.display.HTML object>"
      ]
     },
     "metadata": {},
     "output_type": "display_data"
    },
    {
     "name": "stdout",
     "output_type": "stream",
     "text": [
      "Loading Data ...                                    \n",
      "\n",
      "Starting training...                                \n",
      "\n",
      "Training:                                           \n",
      "Epoch: 1 ... Accuracy: 0.6209451435698968 ... Score: -1.1412694840283295\n",
      "\n",
      "Validation:                                         \n",
      "Epoch: 1 ... Accuracy: 0.6199279804188754 ... Score: -1.1451898309718371\n",
      "\n",
      "Training:                                           \n",
      "Epoch: 2 ... Accuracy: 0.5573211676961325 ... Score: -1.153152258417271\n",
      "\n",
      "Validation:                                         \n",
      "Epoch: 2 ... Accuracy: 0.549740926002657 ... Score: -1.1781566233666378\n",
      "\n",
      "Training:                                           \n",
      "Epoch: 3 ... Accuracy: 0.6620671758464259 ... Score: -0.8759111946929117\n",
      "\n",
      "Validation:                                         \n",
      "Epoch: 3 ... Accuracy: 0.6418456833103378 ... Score: -0.9345635254567434\n",
      "\n",
      "Training:                                           \n",
      "Epoch: 4 ... Accuracy: 0.6860289531913439 ... Score: -0.829305575133916\n",
      "\n",
      "Validation:                                         \n",
      "Epoch: 4 ... Accuracy: 0.6706919603764155 ... Score: -0.880011148938715\n",
      "\n",
      "Training:                                           \n",
      "Epoch: 5 ... Accuracy: 0.679372666615407 ... Score: -0.8631596750561721\n",
      "\n",
      "Validation:                                         \n",
      "Epoch: 5 ... Accuracy: 0.663468644143817 ... Score: -0.9116350495294806\n",
      "\n",
      "Class F1 Scores                                     \n",
      "Training:                                           \n",
      "[0.59617669 0.26617772 0.83415106 0.23522926 0.         0.55156163\n",
      " 0.00734423 0.616811   0.66473318 0.40943416 0.16909683 0.        ]\n",
      "\n",
      "Validation:                                         \n",
      "[0.55909852 0.25460495 0.82421718 0.22248451 0.         0.52843426\n",
      " 0.00852676 0.57881568 0.64       0.39569536 0.14488636 0.        ]\n",
      "\n",
      "Training Runtime: 482.57121562957764                \n",
      "\n",
      "Model Fitting Complete                              \n",
      "Fold 0 Validation Score: 0.29618144186374673        \n",
      "--------------------------------                    \n",
      "FOLD 1                                              \n",
      "--------------------------------                    \n",
      "Device is cuda:0.                                   \n",
      "\n",
      "  0%|          | 0/50 [08:09<?, ?it/s, best loss: ?]"
     ]
    },
    {
     "data": {
      "text/html": [
       "Finishing last run (ID:1535yyzl) before initializing another..."
      ],
      "text/plain": [
       "<IPython.core.display.HTML object>"
      ]
     },
     "metadata": {},
     "output_type": "display_data"
    },
    {
     "data": {
      "text/html": [
       "<br/>Waiting for W&B process to finish, PID 54777... <strong style=\"color:green\">(success).</strong>"
      ],
      "text/plain": [
       "<IPython.core.display.HTML object>"
      ]
     },
     "metadata": {},
     "output_type": "display_data"
    },
    {
     "data": {
      "application/vnd.jupyter.widget-view+json": {
       "model_id": "",
       "version_major": 2,
       "version_minor": 0
      },
      "text/plain": [
       "VBox(children=(Label(value=' 0.00MB of 0.00MB uploaded (0.00MB deduped)\\r'), FloatProgress(value=1.0, max=1.0)…"
      ]
     },
     "metadata": {},
     "output_type": "display_data"
    },
    {
     "data": {
      "text/html": [
       "<style>\n",
       "    table.wandb td:nth-child(1) { padding: 0 10px; text-align: right }\n",
       "    .wandb-row { display: flex; flex-direction: row; flex-wrap: wrap; width: 100% }\n",
       "    .wandb-col { display: flex; flex-direction: column; flex-basis: 100%; flex: 1; padding: 10px; }\n",
       "    </style>\n",
       "<div class=\"wandb-row\"><div class=\"wandb-col\">\n",
       "</div><div class=\"wandb-col\">\n",
       "<h3>Run summary:</h3><br/><table class=\"wandb\"><tr><td>train_accuracy</td><td>0.67937</td></tr><tr><td>train_batch_loss</td><td>1.11437</td></tr><tr><td>train_epoch_loss</td><td>1.53426</td></tr><tr><td>train_score</td><td>-0.86316</td></tr><tr><td>valid_accuracy</td><td>0.66347</td></tr><tr><td>valid_epoch_loss</td><td>1.60934</td></tr><tr><td>valid_score</td><td>-0.91164</td></tr></table>\n",
       "</div></div>\n",
       "Synced 6 W&B file(s), 0 media file(s), 0 artifact file(s) and 0 other file(s)\n",
       "<br/>Synced <strong style=\"color:#cdcd00\">polar-durian-10</strong>: <a href=\"https://wandb.ai/2djagpal/Lithology-LSTM_search_new/runs/1535yyzl\" target=\"_blank\">https://wandb.ai/2djagpal/Lithology-LSTM_search_new/runs/1535yyzl</a><br/>\n",
       "Find logs at: <code>./wandb/run-20211205_152306-1535yyzl/logs</code><br/>\n"
      ],
      "text/plain": [
       "<IPython.core.display.HTML object>"
      ]
     },
     "metadata": {},
     "output_type": "display_data"
    },
    {
     "data": {
      "text/html": [
       "Successfully finished last run (ID:1535yyzl). Initializing new run:<br/>"
      ],
      "text/plain": [
       "<IPython.core.display.HTML object>"
      ]
     },
     "metadata": {},
     "output_type": "display_data"
    },
    {
     "data": {
      "text/html": [
       "\n",
       "                    Syncing run <strong><a href=\"https://wandb.ai/2djagpal/Lithology-LSTM_search_new/runs/q4h9qabf\" target=\"_blank\">silver-capybara-11</a></strong> to <a href=\"https://wandb.ai/2djagpal/Lithology-LSTM_search_new\" target=\"_blank\">Weights & Biases</a> (<a href=\"https://docs.wandb.com/integrations/jupyter.html\" target=\"_blank\">docs</a>).<br/>\n",
       "\n",
       "                "
      ],
      "text/plain": [
       "<IPython.core.display.HTML object>"
      ]
     },
     "metadata": {},
     "output_type": "display_data"
    },
    {
     "name": "stdout",
     "output_type": "stream",
     "text": [
      "Loading Data ...                                    \n",
      "\n",
      "Starting training...                                \n",
      "\n",
      "Training:                                           \n",
      "Epoch: 1 ... Accuracy: 0.58665711243698 ... Score: -1.2050817271085605\n",
      "\n",
      "Validation:                                         \n",
      "Epoch: 1 ... Accuracy: 0.5739079546522456 ... Score: -1.245885874533323\n",
      "\n",
      "Training:                                           \n",
      "Epoch: 2 ... Accuracy: 0.6368125466542932 ... Score: -1.0100563695991815\n",
      "\n",
      "Validation:                                         \n",
      "Epoch: 2 ... Accuracy: 0.6279655876498279 ... Score: -1.0401288754474545\n",
      "\n",
      "Training:                                           \n",
      "Epoch: 3 ... Accuracy: 0.6660102583379698 ... Score: -0.9425675639597655\n",
      "\n",
      "Validation:                                         \n",
      "Epoch: 3 ... Accuracy: 0.6508786768160887 ... Score: -0.9924423969039137\n",
      "\n",
      "Training:                                           \n",
      "Epoch: 4 ... Accuracy: 0.4561692593727741 ... Score: -1.3286599391932372\n",
      "\n",
      "Validation:                                         \n",
      "Epoch: 4 ... Accuracy: 0.44037641711732495 ... Score: -1.3691062015702558\n",
      "\n",
      "Training:                                           \n",
      "Epoch: 5 ... Accuracy: 0.6437657049430324 ... Score: -0.984852372200609\n",
      "\n",
      "Validation:                                         \n",
      "Epoch: 5 ... Accuracy: 0.6301654834217564 ... Score: -1.035590255529641\n",
      "\n",
      "Class F1 Scores                                     \n",
      "Training:                                           \n",
      "[0.57672473 0.15421987 0.79945443 0.13692237 0.         0.39668376\n",
      " 0.5432768  0.60024727 0.05160281 0.41695516 0.48505063 0.        ]\n",
      "\n",
      "Validation:                                         \n",
      "[0.55714895 0.15641235 0.78955933 0.12079947 0.         0.36593891\n",
      " 0.54992104 0.6119951  0.02068966 0.39784828 0.34474328 0.        ]\n",
      "\n",
      "Training Runtime: 500.0140359401703                 \n",
      "\n",
      "Model Fitting Complete                              \n",
      "Fold 1 Validation Score: 0.3232623152386476         \n",
      "--------------------------------                    \n",
      "FOLD 2                                              \n",
      "--------------------------------                    \n",
      "Device is cuda:0.                                   \n",
      "\n",
      "  0%|          | 0/50 [16:33<?, ?it/s, best loss: ?]"
     ]
    },
    {
     "data": {
      "text/html": [
       "Finishing last run (ID:q4h9qabf) before initializing another..."
      ],
      "text/plain": [
       "<IPython.core.display.HTML object>"
      ]
     },
     "metadata": {},
     "output_type": "display_data"
    },
    {
     "data": {
      "text/html": [
       "<br/>Waiting for W&B process to finish, PID 57565... <strong style=\"color:green\">(success).</strong>"
      ],
      "text/plain": [
       "<IPython.core.display.HTML object>"
      ]
     },
     "metadata": {},
     "output_type": "display_data"
    },
    {
     "data": {
      "application/vnd.jupyter.widget-view+json": {
       "model_id": "",
       "version_major": 2,
       "version_minor": 0
      },
      "text/plain": [
       "VBox(children=(Label(value=' 0.00MB of 0.00MB uploaded (0.00MB deduped)\\r'), FloatProgress(value=1.0, max=1.0)…"
      ]
     },
     "metadata": {},
     "output_type": "display_data"
    },
    {
     "data": {
      "text/html": [
       "<style>\n",
       "    table.wandb td:nth-child(1) { padding: 0 10px; text-align: right }\n",
       "    .wandb-row { display: flex; flex-direction: row; flex-wrap: wrap; width: 100% }\n",
       "    .wandb-col { display: flex; flex-direction: column; flex-basis: 100%; flex: 1; padding: 10px; }\n",
       "    </style>\n",
       "<div class=\"wandb-row\"><div class=\"wandb-col\">\n",
       "</div><div class=\"wandb-col\">\n",
       "<h3>Run summary:</h3><br/><table class=\"wandb\"><tr><td>train_accuracy</td><td>0.64377</td></tr><tr><td>train_batch_loss</td><td>1.06786</td></tr><tr><td>train_epoch_loss</td><td>1.46407</td></tr><tr><td>train_score</td><td>-0.98485</td></tr><tr><td>valid_accuracy</td><td>0.63017</td></tr><tr><td>valid_epoch_loss</td><td>1.54351</td></tr><tr><td>valid_score</td><td>-1.03559</td></tr></table>\n",
       "</div></div>\n",
       "Synced 6 W&B file(s), 0 media file(s), 0 artifact file(s) and 0 other file(s)\n",
       "<br/>Synced <strong style=\"color:#cdcd00\">silver-capybara-11</strong>: <a href=\"https://wandb.ai/2djagpal/Lithology-LSTM_search_new/runs/q4h9qabf\" target=\"_blank\">https://wandb.ai/2djagpal/Lithology-LSTM_search_new/runs/q4h9qabf</a><br/>\n",
       "Find logs at: <code>./wandb/run-20211205_153112-q4h9qabf/logs</code><br/>\n"
      ],
      "text/plain": [
       "<IPython.core.display.HTML object>"
      ]
     },
     "metadata": {},
     "output_type": "display_data"
    },
    {
     "data": {
      "text/html": [
       "Successfully finished last run (ID:q4h9qabf). Initializing new run:<br/>"
      ],
      "text/plain": [
       "<IPython.core.display.HTML object>"
      ]
     },
     "metadata": {},
     "output_type": "display_data"
    },
    {
     "data": {
      "text/html": [
       "\n",
       "                    Syncing run <strong><a href=\"https://wandb.ai/2djagpal/Lithology-LSTM_search_new/runs/1oohpmvo\" target=\"_blank\">eager-butterfly-12</a></strong> to <a href=\"https://wandb.ai/2djagpal/Lithology-LSTM_search_new\" target=\"_blank\">Weights & Biases</a> (<a href=\"https://docs.wandb.com/integrations/jupyter.html\" target=\"_blank\">docs</a>).<br/>\n",
       "\n",
       "                "
      ],
      "text/plain": [
       "<IPython.core.display.HTML object>"
      ]
     },
     "metadata": {},
     "output_type": "display_data"
    },
    {
     "name": "stdout",
     "output_type": "stream",
     "text": [
      "Loading Data ...                                    \n",
      "\n",
      "Starting training...                                \n",
      "\n",
      "Training:                                           \n",
      "Epoch: 1 ... Accuracy: 0.5843589713469222 ... Score: -1.1511433572295866\n",
      "\n",
      "Validation:                                         \n",
      "Epoch: 1 ... Accuracy: 0.5764837549444259 ... Score: -1.1730954882914286\n",
      "\n",
      "Training:                                           \n",
      "Epoch: 2 ... Accuracy: 0.49646895747477865 ... Score: -1.2156847328464377\n",
      "\n",
      "Validation:                                         \n",
      "Epoch: 2 ... Accuracy: 0.4816917412068244 ... Score: -1.2577573023724702\n",
      "\n",
      "Training:                                           \n",
      "Epoch: 3 ... Accuracy: 0.6946921697676977 ... Score: -0.8498534027332074\n",
      "\n",
      "Validation:                                         \n",
      "Epoch: 3 ... Accuracy: 0.680391453298135 ... Score: -0.89808822649956\n",
      "\n",
      "Training:                                           \n",
      "Epoch: 4 ... Accuracy: 0.5651355337251137 ... Score: -1.1361085273635771\n",
      "\n",
      "Validation:                                         \n",
      "Epoch: 4 ... Accuracy: 0.5464669246738602 ... Score: -1.1887713475322723\n",
      "\n",
      "Training:                                           \n",
      "Epoch: 5 ... Accuracy: 0.6961317116772693 ... Score: -0.7989652491592883\n",
      "\n",
      "Validation:                                         \n",
      "Epoch: 5 ... Accuracy: 0.6765811483883094 ... Score: -0.85937860419817\n",
      "\n",
      "Class F1 Scores                                     \n",
      "Training:                                           \n",
      "[0.63041256 0.25036754 0.84190321 0.21723623 0.         0.5465813\n",
      " 0.         0.60202547 0.09185804 0.0121694  0.48325135 0.        ]\n",
      "\n",
      "Validation:                                         \n",
      "[0.58451642 0.24152087 0.83069911 0.20352993 0.         0.5073685\n",
      " 0.         0.6103324  0.04484305 0.01552393 0.37192982 0.        ]\n",
      "\n",
      "Training Runtime: 484.5765371322632                 \n",
      "\n",
      "Model Fitting Complete                              \n",
      "Fold 2 Validation Score: 0.24710986053366343        \n",
      "--------------------------------                    \n",
      "FOLD 3                                              \n",
      "--------------------------------                    \n",
      "Device is cuda:0.                                   \n",
      "\n",
      "  0%|          | 0/50 [24:41<?, ?it/s, best loss: ?]"
     ]
    },
    {
     "data": {
      "text/html": [
       "Finishing last run (ID:1oohpmvo) before initializing another..."
      ],
      "text/plain": [
       "<IPython.core.display.HTML object>"
      ]
     },
     "metadata": {},
     "output_type": "display_data"
    },
    {
     "data": {
      "text/html": [
       "<br/>Waiting for W&B process to finish, PID 60228... <strong style=\"color:green\">(success).</strong>"
      ],
      "text/plain": [
       "<IPython.core.display.HTML object>"
      ]
     },
     "metadata": {},
     "output_type": "display_data"
    },
    {
     "data": {
      "application/vnd.jupyter.widget-view+json": {
       "model_id": "",
       "version_major": 2,
       "version_minor": 0
      },
      "text/plain": [
       "VBox(children=(Label(value=' 0.00MB of 0.00MB uploaded (0.00MB deduped)\\r'), FloatProgress(value=1.0, max=1.0)…"
      ]
     },
     "metadata": {},
     "output_type": "display_data"
    },
    {
     "data": {
      "text/html": [
       "<style>\n",
       "    table.wandb td:nth-child(1) { padding: 0 10px; text-align: right }\n",
       "    .wandb-row { display: flex; flex-direction: row; flex-wrap: wrap; width: 100% }\n",
       "    .wandb-col { display: flex; flex-direction: column; flex-basis: 100%; flex: 1; padding: 10px; }\n",
       "    </style>\n",
       "<div class=\"wandb-row\"><div class=\"wandb-col\">\n",
       "</div><div class=\"wandb-col\">\n",
       "<h3>Run summary:</h3><br/><table class=\"wandb\"><tr><td>train_accuracy</td><td>0.69613</td></tr><tr><td>train_batch_loss</td><td>1.58704</td></tr><tr><td>train_epoch_loss</td><td>1.73676</td></tr><tr><td>train_score</td><td>-0.79897</td></tr><tr><td>valid_accuracy</td><td>0.67658</td></tr><tr><td>valid_epoch_loss</td><td>1.82257</td></tr><tr><td>valid_score</td><td>-0.85938</td></tr></table>\n",
       "</div></div>\n",
       "Synced 6 W&B file(s), 0 media file(s), 0 artifact file(s) and 0 other file(s)\n",
       "<br/>Synced <strong style=\"color:#cdcd00\">eager-butterfly-12</strong>: <a href=\"https://wandb.ai/2djagpal/Lithology-LSTM_search_new/runs/1oohpmvo\" target=\"_blank\">https://wandb.ai/2djagpal/Lithology-LSTM_search_new/runs/1oohpmvo</a><br/>\n",
       "Find logs at: <code>./wandb/run-20211205_153936-1oohpmvo/logs</code><br/>\n"
      ],
      "text/plain": [
       "<IPython.core.display.HTML object>"
      ]
     },
     "metadata": {},
     "output_type": "display_data"
    },
    {
     "data": {
      "text/html": [
       "Successfully finished last run (ID:1oohpmvo). Initializing new run:<br/>"
      ],
      "text/plain": [
       "<IPython.core.display.HTML object>"
      ]
     },
     "metadata": {},
     "output_type": "display_data"
    },
    {
     "data": {
      "text/html": [
       "\n",
       "                    Syncing run <strong><a href=\"https://wandb.ai/2djagpal/Lithology-LSTM_search_new/runs/3qjwyx9w\" target=\"_blank\">bright-yogurt-13</a></strong> to <a href=\"https://wandb.ai/2djagpal/Lithology-LSTM_search_new\" target=\"_blank\">Weights & Biases</a> (<a href=\"https://docs.wandb.com/integrations/jupyter.html\" target=\"_blank\">docs</a>).<br/>\n",
       "\n",
       "                "
      ],
      "text/plain": [
       "<IPython.core.display.HTML object>"
      ]
     },
     "metadata": {},
     "output_type": "display_data"
    },
    {
     "name": "stdout",
     "output_type": "stream",
     "text": [
      "Loading Data ...                                    \n",
      "\n",
      "Starting training...                                \n",
      "\n",
      "Training:                                           \n",
      "Epoch: 1 ... Accuracy: 0.5751877651752599 ... Score: -1.253468302846299\n",
      "\n",
      "Validation:                                         \n",
      "Epoch: 1 ... Accuracy: 0.5646641207678704 ... Score: -1.2929588384550323\n",
      "\n",
      "Training:                                           \n",
      "Epoch: 2 ... Accuracy: 0.46786713925218576 ... Score: -1.5578083401590543\n",
      "\n",
      "Validation:                                         \n",
      "Epoch: 2 ... Accuracy: 0.46331513613723935 ... Score: -1.5718004331445268\n",
      "\n",
      "Training:                                           \n",
      "Epoch: 3 ... Accuracy: 0.6239271514904278 ... Score: -1.0176367911884656\n",
      "\n",
      "Validation:                                         \n",
      "Epoch: 3 ... Accuracy: 0.6090208541575894 ... Score: -1.068287541328139\n",
      "\n",
      "Training:                                           \n",
      "Epoch: 4 ... Accuracy: 0.664285584610998 ... Score: -0.8894187796144634\n",
      "\n",
      "Validation:                                         \n",
      "Epoch: 4 ... Accuracy: 0.6475083510606487 ... Score: -0.942335499055967\n",
      "\n",
      "Training:                                           \n",
      "Epoch: 5 ... Accuracy: 0.5391725197002591 ... Score: -1.1349418363129786\n",
      "\n",
      "Validation:                                         \n",
      "Epoch: 5 ... Accuracy: 0.5224175786622925 ... Score: -1.1814871295418237\n",
      "\n",
      "Class F1 Scores                                     \n",
      "Training:                                           \n",
      "[0.603561   0.31979627 0.67543729 0.23632427 0.         0.56769478\n",
      " 0.         0.614205   0.11       0.28977989 0.46779747 0.        ]\n",
      "\n",
      "Validation:                                         \n",
      "[0.55106857 0.30759065 0.66795953 0.23256862 0.         0.53514087\n",
      " 0.         0.60956976 0.06722689 0.28408443 0.35986914 0.        ]\n",
      "\n",
      "Training Runtime: 474.02002596855164                \n",
      "\n",
      "Model Fitting Complete                              \n",
      "Fold 3 Validation Score: 0.24866260016599542        \n",
      "--------------------------------                    \n",
      "FOLD 4                                              \n",
      "--------------------------------                    \n",
      "Device is cuda:0.                                   \n",
      "\n",
      "  0%|          | 0/50 [32:39<?, ?it/s, best loss: ?]"
     ]
    },
    {
     "data": {
      "text/html": [
       "Finishing last run (ID:3qjwyx9w) before initializing another..."
      ],
      "text/plain": [
       "<IPython.core.display.HTML object>"
      ]
     },
     "metadata": {},
     "output_type": "display_data"
    },
    {
     "data": {
      "text/html": [
       "<br/>Waiting for W&B process to finish, PID 62486... <strong style=\"color:green\">(success).</strong>"
      ],
      "text/plain": [
       "<IPython.core.display.HTML object>"
      ]
     },
     "metadata": {},
     "output_type": "display_data"
    },
    {
     "data": {
      "application/vnd.jupyter.widget-view+json": {
       "model_id": "",
       "version_major": 2,
       "version_minor": 0
      },
      "text/plain": [
       "VBox(children=(Label(value=' 0.00MB of 0.00MB uploaded (0.00MB deduped)\\r'), FloatProgress(value=1.0, max=1.0)…"
      ]
     },
     "metadata": {},
     "output_type": "display_data"
    },
    {
     "data": {
      "text/html": [
       "<style>\n",
       "    table.wandb td:nth-child(1) { padding: 0 10px; text-align: right }\n",
       "    .wandb-row { display: flex; flex-direction: row; flex-wrap: wrap; width: 100% }\n",
       "    .wandb-col { display: flex; flex-direction: column; flex-basis: 100%; flex: 1; padding: 10px; }\n",
       "    </style>\n",
       "<div class=\"wandb-row\"><div class=\"wandb-col\">\n",
       "</div><div class=\"wandb-col\">\n",
       "<h3>Run summary:</h3><br/><table class=\"wandb\"><tr><td>train_accuracy</td><td>0.53917</td></tr><tr><td>train_batch_loss</td><td>3.51391</td></tr><tr><td>train_epoch_loss</td><td>1.45394</td></tr><tr><td>train_score</td><td>-1.13494</td></tr><tr><td>valid_accuracy</td><td>0.52242</td></tr><tr><td>valid_epoch_loss</td><td>1.53851</td></tr><tr><td>valid_score</td><td>-1.18149</td></tr></table>\n",
       "</div></div>\n",
       "Synced 6 W&B file(s), 0 media file(s), 0 artifact file(s) and 0 other file(s)\n",
       "<br/>Synced <strong style=\"color:#cdcd00\">bright-yogurt-13</strong>: <a href=\"https://wandb.ai/2djagpal/Lithology-LSTM_search_new/runs/3qjwyx9w\" target=\"_blank\">https://wandb.ai/2djagpal/Lithology-LSTM_search_new/runs/3qjwyx9w</a><br/>\n",
       "Find logs at: <code>./wandb/run-20211205_154744-3qjwyx9w/logs</code><br/>\n"
      ],
      "text/plain": [
       "<IPython.core.display.HTML object>"
      ]
     },
     "metadata": {},
     "output_type": "display_data"
    },
    {
     "data": {
      "text/html": [
       "Successfully finished last run (ID:3qjwyx9w). Initializing new run:<br/>"
      ],
      "text/plain": [
       "<IPython.core.display.HTML object>"
      ]
     },
     "metadata": {},
     "output_type": "display_data"
    },
    {
     "data": {
      "text/html": [
       "\n",
       "                    Syncing run <strong><a href=\"https://wandb.ai/2djagpal/Lithology-LSTM_search_new/runs/3k1j4wna\" target=\"_blank\">lemon-armadillo-14</a></strong> to <a href=\"https://wandb.ai/2djagpal/Lithology-LSTM_search_new\" target=\"_blank\">Weights & Biases</a> (<a href=\"https://docs.wandb.com/integrations/jupyter.html\" target=\"_blank\">docs</a>).<br/>\n",
       "\n",
       "                "
      ],
      "text/plain": [
       "<IPython.core.display.HTML object>"
      ]
     },
     "metadata": {},
     "output_type": "display_data"
    },
    {
     "name": "stdout",
     "output_type": "stream",
     "text": [
      "Loading Data ...                                    \n",
      "\n",
      "Starting training...                                \n",
      "\n",
      "Training:                                           \n",
      "Epoch: 1 ... Accuracy: 0.620803516412166 ... Score: -1.1327051000150574\n",
      "\n",
      "Validation:                                         \n",
      "Epoch: 1 ... Accuracy: 0.6203577927570033 ... Score: -1.1342812107542866\n",
      "\n",
      "Training:                                           \n",
      "Epoch: 2 ... Accuracy: 0.5576922050087088 ... Score: -1.3397959652245974\n",
      "\n",
      "Validation:                                         \n",
      "Epoch: 2 ... Accuracy: 0.5501661668845205 ... Score: -1.366093091900112\n",
      "\n",
      "Training:                                           \n",
      "Epoch: 3 ... Accuracy: 0.6308621553188831 ... Score: -1.0133185659257866\n",
      "\n",
      "Validation:                                         \n",
      "Epoch: 3 ... Accuracy: 0.6197597628384208 ... Score: -1.051168934908715\n",
      "\n",
      "Training:                                           \n",
      "Epoch: 4 ... Accuracy: 0.6648376937855147 ... Score: -0.9019828675290391\n",
      "\n",
      "Validation:                                         \n",
      "Epoch: 4 ... Accuracy: 0.6475211659874756 ... Score: -0.9503095872739233\n",
      "\n",
      "Training:                                           \n",
      "Epoch: 5 ... Accuracy: 0.6266674070838704 ... Score: -1.0198174622413925\n",
      "\n",
      "Validation:                                         \n",
      "Epoch: 5 ... Accuracy: 0.6148260160101152 ... Score: -1.0569249728750716\n",
      "\n",
      "Class F1 Scores                                     \n",
      "Training:                                           \n",
      "[6.10217994e-01 2.79461812e-01 7.75617560e-01 2.26024254e-01\n",
      " 0.00000000e+00 4.95653317e-01 0.00000000e+00 9.57554170e-01\n",
      " 7.43982495e-02 8.16193275e-04 9.40825089e-02 0.00000000e+00]\n",
      "\n",
      "Validation:                                         \n",
      "[5.81641182e-01 2.71790460e-01 7.68247505e-01 2.21572069e-01\n",
      " 0.00000000e+00 4.81624822e-01 0.00000000e+00 9.57604506e-01\n",
      " 6.25000000e-02 6.54878847e-04 7.56588008e-02 0.00000000e+00]\n",
      "\n",
      "Training Runtime: 470.1730201244354                 \n",
      "\n",
      "Model Fitting Complete                              \n",
      "Fold 4 Validation Score: 0.21242091336143645        \n",
      "--------------------------------                    \n",
      "                                                    \n",
      "\n",
      "Minimum Validation Score: 0.21242091336143645\n",
      "--------------------------------                    \n",
      "{'hidden_dim': 425, 'n_layers': 3, 'window_size': 5}                                \n",
      "--------------------------------                                                    \n",
      "FOLD 0                                                                              \n",
      "--------------------------------                                                    \n",
      "Device is cuda:0.                                                                   \n",
      "\n",
      "  2%|▏         | 1/50 [40:33<33:07:24, 2433.57s/it, best loss: -0.21242091336143645]"
     ]
    },
    {
     "data": {
      "text/html": [
       "Finishing last run (ID:3k1j4wna) before initializing another..."
      ],
      "text/plain": [
       "<IPython.core.display.HTML object>"
      ]
     },
     "metadata": {},
     "output_type": "display_data"
    },
    {
     "data": {
      "text/html": [
       "<br/>Waiting for W&B process to finish, PID 64662... <strong style=\"color:green\">(success).</strong>"
      ],
      "text/plain": [
       "<IPython.core.display.HTML object>"
      ]
     },
     "metadata": {},
     "output_type": "display_data"
    },
    {
     "data": {
      "application/vnd.jupyter.widget-view+json": {
       "model_id": "",
       "version_major": 2,
       "version_minor": 0
      },
      "text/plain": [
       "VBox(children=(Label(value=' 0.00MB of 0.00MB uploaded (0.00MB deduped)\\r'), FloatProgress(value=1.0, max=1.0)…"
      ]
     },
     "metadata": {},
     "output_type": "display_data"
    },
    {
     "data": {
      "text/html": [
       "<style>\n",
       "    table.wandb td:nth-child(1) { padding: 0 10px; text-align: right }\n",
       "    .wandb-row { display: flex; flex-direction: row; flex-wrap: wrap; width: 100% }\n",
       "    .wandb-col { display: flex; flex-direction: column; flex-basis: 100%; flex: 1; padding: 10px; }\n",
       "    </style>\n",
       "<div class=\"wandb-row\"><div class=\"wandb-col\">\n",
       "</div><div class=\"wandb-col\">\n",
       "<h3>Run summary:</h3><br/><table class=\"wandb\"><tr><td>train_accuracy</td><td>0.62667</td></tr><tr><td>train_batch_loss</td><td>1.26119</td></tr><tr><td>train_epoch_loss</td><td>1.53865</td></tr><tr><td>train_score</td><td>-1.01982</td></tr><tr><td>valid_accuracy</td><td>0.61483</td></tr><tr><td>valid_epoch_loss</td><td>1.59623</td></tr><tr><td>valid_score</td><td>-1.05692</td></tr></table>\n",
       "</div></div>\n",
       "Synced 6 W&B file(s), 0 media file(s), 0 artifact file(s) and 0 other file(s)\n",
       "<br/>Synced <strong style=\"color:#cdcd00\">lemon-armadillo-14</strong>: <a href=\"https://wandb.ai/2djagpal/Lithology-LSTM_search_new/runs/3k1j4wna\" target=\"_blank\">https://wandb.ai/2djagpal/Lithology-LSTM_search_new/runs/3k1j4wna</a><br/>\n",
       "Find logs at: <code>./wandb/run-20211205_155542-3k1j4wna/logs</code><br/>\n"
      ],
      "text/plain": [
       "<IPython.core.display.HTML object>"
      ]
     },
     "metadata": {},
     "output_type": "display_data"
    },
    {
     "data": {
      "text/html": [
       "Successfully finished last run (ID:3k1j4wna). Initializing new run:<br/>"
      ],
      "text/plain": [
       "<IPython.core.display.HTML object>"
      ]
     },
     "metadata": {},
     "output_type": "display_data"
    },
    {
     "data": {
      "text/html": [
       "\n",
       "                    Syncing run <strong><a href=\"https://wandb.ai/2djagpal/Lithology-LSTM_search_new/runs/kvz1m3al\" target=\"_blank\">distinctive-deluge-15</a></strong> to <a href=\"https://wandb.ai/2djagpal/Lithology-LSTM_search_new\" target=\"_blank\">Weights & Biases</a> (<a href=\"https://docs.wandb.com/integrations/jupyter.html\" target=\"_blank\">docs</a>).<br/>\n",
       "\n",
       "                "
      ],
      "text/plain": [
       "<IPython.core.display.HTML object>"
      ]
     },
     "metadata": {},
     "output_type": "display_data"
    },
    {
     "name": "stdout",
     "output_type": "stream",
     "text": [
      "Loading Data ...                                                                    \n",
      "\n",
      "Starting training...                                                                \n",
      "\n",
      "Training:                                                                           \n",
      "Epoch: 1 ... Accuracy: 0.5323907954652246 ... Score: -1.4022565484276084            \n",
      "\n",
      "Validation:                                                                         \n",
      "Epoch: 1 ... Accuracy: 0.5221206050328274 ... Score: -1.429997159370021             \n",
      "\n",
      "Training:                                                                           \n",
      "Epoch: 2 ... Accuracy: 0.6776341082092421 ... Score: -0.9011157529623839            \n",
      "\n",
      "Validation:                                                                         \n",
      "Epoch: 2 ... Accuracy: 0.6640794863799268 ... Score: -0.9487175516759717            \n",
      "\n",
      "Training:                                                                           \n",
      "Epoch: 3 ... Accuracy: 0.6084783555885895 ... Score: -1.0538650086287173            \n",
      "\n",
      "Validation:                                                                         \n",
      "Epoch: 3 ... Accuracy: 0.5985015142907182 ... Score: -1.0868132830420798            \n",
      "\n",
      "Training:                                                                           \n",
      "Epoch: 4 ... Accuracy: 0.5870464583813894 ... Score: -1.1146546163638071            \n",
      "\n",
      "Validation:                                                                         \n",
      "Epoch: 4 ... Accuracy: 0.571530480173257 ... Score: -1.1643069503594572             \n",
      "\n",
      "Training:                                                                           \n",
      "Epoch: 5 ... Accuracy: 0.6586851030747282 ... Score: -0.923479268652126             \n",
      "\n",
      "Validation:                                                                         \n",
      "Epoch: 5 ... Accuracy: 0.6410084450007049 ... Score: -0.977202876511621             \n",
      "\n",
      "Class F1 Scores                                                                     \n",
      "Training:                                                                           \n",
      "[0.61802966 0.19308472 0.81857248 0.33196432 0.         0.58529367\n",
      " 0.26571767 0.12432218 0.22207622 0.23680469 0.12523283 0.        ]\n",
      "\n",
      "Validation:                                                                         \n",
      "[0.57915539 0.18209954 0.806341   0.31078275 0.         0.55574139\n",
      " 0.28628073 0.12439678 0.22398589 0.23313094 0.10494505 0.        ]\n",
      "\n",
      "Training Runtime: 475.1793031692505                                                 \n",
      "\n",
      "Model Fitting Complete                                                              \n",
      "Fold 0 Validation Score: 0.2687348312911271                                         \n",
      "--------------------------------                                                    \n",
      "FOLD 1                                                                              \n",
      "--------------------------------                                                    \n",
      "Device is cuda:0.                                                                   \n",
      "\n",
      "  2%|▏         | 1/50 [48:32<33:07:24, 2433.57s/it, best loss: -0.21242091336143645]"
     ]
    },
    {
     "data": {
      "text/html": [
       "Finishing last run (ID:kvz1m3al) before initializing another..."
      ],
      "text/plain": [
       "<IPython.core.display.HTML object>"
      ]
     },
     "metadata": {},
     "output_type": "display_data"
    },
    {
     "data": {
      "text/html": [
       "<br/>Waiting for W&B process to finish, PID 66907... <strong style=\"color:green\">(success).</strong>"
      ],
      "text/plain": [
       "<IPython.core.display.HTML object>"
      ]
     },
     "metadata": {},
     "output_type": "display_data"
    },
    {
     "data": {
      "application/vnd.jupyter.widget-view+json": {
       "model_id": "",
       "version_major": 2,
       "version_minor": 0
      },
      "text/plain": [
       "VBox(children=(Label(value=' 0.00MB of 0.00MB uploaded (0.00MB deduped)\\r'), FloatProgress(value=1.0, max=1.0)…"
      ]
     },
     "metadata": {},
     "output_type": "display_data"
    },
    {
     "data": {
      "text/html": [
       "<style>\n",
       "    table.wandb td:nth-child(1) { padding: 0 10px; text-align: right }\n",
       "    .wandb-row { display: flex; flex-direction: row; flex-wrap: wrap; width: 100% }\n",
       "    .wandb-col { display: flex; flex-direction: column; flex-basis: 100%; flex: 1; padding: 10px; }\n",
       "    </style>\n",
       "<div class=\"wandb-row\"><div class=\"wandb-col\">\n",
       "</div><div class=\"wandb-col\">\n",
       "<h3>Run summary:</h3><br/><table class=\"wandb\"><tr><td>train_accuracy</td><td>0.65869</td></tr><tr><td>train_batch_loss</td><td>1.4912</td></tr><tr><td>train_epoch_loss</td><td>1.4212</td></tr><tr><td>train_score</td><td>-0.92348</td></tr><tr><td>valid_accuracy</td><td>0.64101</td></tr><tr><td>valid_epoch_loss</td><td>1.49471</td></tr><tr><td>valid_score</td><td>-0.9772</td></tr></table>\n",
       "</div></div>\n",
       "Synced 6 W&B file(s), 0 media file(s), 0 artifact file(s) and 0 other file(s)\n",
       "<br/>Synced <strong style=\"color:#cdcd00\">distinctive-deluge-15</strong>: <a href=\"https://wandb.ai/2djagpal/Lithology-LSTM_search_new/runs/kvz1m3al\" target=\"_blank\">https://wandb.ai/2djagpal/Lithology-LSTM_search_new/runs/kvz1m3al</a><br/>\n",
       "Find logs at: <code>./wandb/run-20211205_160336-kvz1m3al/logs</code><br/>\n"
      ],
      "text/plain": [
       "<IPython.core.display.HTML object>"
      ]
     },
     "metadata": {},
     "output_type": "display_data"
    },
    {
     "data": {
      "text/html": [
       "Successfully finished last run (ID:kvz1m3al). Initializing new run:<br/>"
      ],
      "text/plain": [
       "<IPython.core.display.HTML object>"
      ]
     },
     "metadata": {},
     "output_type": "display_data"
    },
    {
     "data": {
      "text/html": [
       "\n",
       "                    Syncing run <strong><a href=\"https://wandb.ai/2djagpal/Lithology-LSTM_search_new/runs/x91cobpg\" target=\"_blank\">graceful-field-16</a></strong> to <a href=\"https://wandb.ai/2djagpal/Lithology-LSTM_search_new\" target=\"_blank\">Weights & Biases</a> (<a href=\"https://docs.wandb.com/integrations/jupyter.html\" target=\"_blank\">docs</a>).<br/>\n",
       "\n",
       "                "
      ],
      "text/plain": [
       "<IPython.core.display.HTML object>"
      ]
     },
     "metadata": {},
     "output_type": "display_data"
    },
    {
     "name": "stdout",
     "output_type": "stream",
     "text": [
      "Loading Data ...                                                                    \n",
      "\n",
      "Starting training...                                                                \n",
      "\n",
      "Training:                                                                           \n",
      "Epoch: 1 ... Accuracy: 0.5564256644265486 ... Score: -1.348509572206162             \n",
      "\n",
      "Validation:                                                                         \n",
      "Epoch: 1 ... Accuracy: 0.5504609102015361 ... Score: -1.3696663206636424            \n",
      "\n",
      "Training:                                                                           \n",
      "Epoch: 2 ... Accuracy: 0.6801440396237114 ... Score: -0.8986489877820483            \n",
      "\n",
      "Validation:                                                                         \n",
      "Epoch: 2 ... Accuracy: 0.6627239408462978 ... Score: -0.9576989944554083            \n",
      "\n",
      "Training:                                                                           \n",
      "Epoch: 3 ... Accuracy: 0.5010086404551857 ... Score: -1.3253655720950994            \n",
      "\n",
      "Validation:                                                                         \n",
      "Epoch: 3 ... Accuracy: 0.48609153275068134 ... Score: -1.3719516492810826           \n",
      "\n",
      "Training:                                                                           \n",
      "Epoch: 4 ... Accuracy: 0.6663979094605028 ... Score: -0.8667253037935346            \n",
      "\n",
      "Validation:                                                                         \n",
      "Epoch: 4 ... Accuracy: 0.6448343029961299 ... Score: -0.9281525787904418            \n",
      "\n",
      "Training:                                                                           \n",
      "Epoch: 5 ... Accuracy: 0.6161506350323417 ... Score: -0.950803815426806             \n",
      "\n",
      "Validation:                                                                         \n",
      "Epoch: 5 ... Accuracy: 0.5963597064527428 ... Score: -1.0067465250190089            \n",
      "\n",
      "Class F1 Scores                                                                     \n",
      "Training:                                                                           \n",
      "[0.46266858 0.3678751  0.78159774 0.20750204 0.         0.48491106\n",
      " 0.51687279 0.91840959 0.1825641  0.32832168 0.32287359 0.        ]\n",
      "\n",
      "Validation:                                                                         \n",
      "[0.42146359 0.34893179 0.76703634 0.2072486  0.         0.45183136\n",
      " 0.51587585 0.92030848 0.17213115 0.3386559  0.2165088  0.        ]\n",
      "\n",
      "Training Runtime: 493.25216150283813                                                \n",
      "\n",
      "Model Fitting Complete                                                              \n",
      "Fold 1 Validation Score: 0.2885286001273761                                         \n",
      "--------------------------------                                                    \n",
      "FOLD 2                                                                              \n",
      "--------------------------------                                                    \n",
      "Device is cuda:0.                                                                   \n",
      "\n",
      "  2%|▏         | 1/50 [56:50<33:07:24, 2433.57s/it, best loss: -0.21242091336143645]"
     ]
    },
    {
     "data": {
      "text/html": [
       "Finishing last run (ID:x91cobpg) before initializing another..."
      ],
      "text/plain": [
       "<IPython.core.display.HTML object>"
      ]
     },
     "metadata": {},
     "output_type": "display_data"
    },
    {
     "data": {
      "text/html": [
       "<br/>Waiting for W&B process to finish, PID 69246... <strong style=\"color:green\">(success).</strong>"
      ],
      "text/plain": [
       "<IPython.core.display.HTML object>"
      ]
     },
     "metadata": {},
     "output_type": "display_data"
    },
    {
     "data": {
      "application/vnd.jupyter.widget-view+json": {
       "model_id": "",
       "version_major": 2,
       "version_minor": 0
      },
      "text/plain": [
       "VBox(children=(Label(value=' 0.00MB of 0.00MB uploaded (0.00MB deduped)\\r'), FloatProgress(value=1.0, max=1.0)…"
      ]
     },
     "metadata": {},
     "output_type": "display_data"
    },
    {
     "data": {
      "text/html": [
       "<style>\n",
       "    table.wandb td:nth-child(1) { padding: 0 10px; text-align: right }\n",
       "    .wandb-row { display: flex; flex-direction: row; flex-wrap: wrap; width: 100% }\n",
       "    .wandb-col { display: flex; flex-direction: column; flex-basis: 100%; flex: 1; padding: 10px; }\n",
       "    </style>\n",
       "<div class=\"wandb-row\"><div class=\"wandb-col\">\n",
       "</div><div class=\"wandb-col\">\n",
       "<h3>Run summary:</h3><br/><table class=\"wandb\"><tr><td>train_accuracy</td><td>0.61615</td></tr><tr><td>train_batch_loss</td><td>1.30594</td></tr><tr><td>train_epoch_loss</td><td>1.54013</td></tr><tr><td>train_score</td><td>-0.9508</td></tr><tr><td>valid_accuracy</td><td>0.59636</td></tr><tr><td>valid_epoch_loss</td><td>1.6388</td></tr><tr><td>valid_score</td><td>-1.00675</td></tr></table>\n",
       "</div></div>\n",
       "Synced 6 W&B file(s), 0 media file(s), 0 artifact file(s) and 0 other file(s)\n",
       "<br/>Synced <strong style=\"color:#cdcd00\">graceful-field-16</strong>: <a href=\"https://wandb.ai/2djagpal/Lithology-LSTM_search_new/runs/x91cobpg\" target=\"_blank\">https://wandb.ai/2djagpal/Lithology-LSTM_search_new/runs/x91cobpg</a><br/>\n",
       "Find logs at: <code>./wandb/run-20211205_161135-x91cobpg/logs</code><br/>\n"
      ],
      "text/plain": [
       "<IPython.core.display.HTML object>"
      ]
     },
     "metadata": {},
     "output_type": "display_data"
    },
    {
     "data": {
      "text/html": [
       "Successfully finished last run (ID:x91cobpg). Initializing new run:<br/>"
      ],
      "text/plain": [
       "<IPython.core.display.HTML object>"
      ]
     },
     "metadata": {},
     "output_type": "display_data"
    },
    {
     "data": {
      "text/html": [
       "\n",
       "                    Syncing run <strong><a href=\"https://wandb.ai/2djagpal/Lithology-LSTM_search_new/runs/1qlisrsi\" target=\"_blank\">astral-grass-17</a></strong> to <a href=\"https://wandb.ai/2djagpal/Lithology-LSTM_search_new\" target=\"_blank\">Weights & Biases</a> (<a href=\"https://docs.wandb.com/integrations/jupyter.html\" target=\"_blank\">docs</a>).<br/>\n",
       "\n",
       "                "
      ],
      "text/plain": [
       "<IPython.core.display.HTML object>"
      ]
     },
     "metadata": {},
     "output_type": "display_data"
    },
    {
     "name": "stdout",
     "output_type": "stream",
     "text": [
      "Loading Data ...                                                                    \n",
      "\n",
      "Starting training...                                                                \n",
      "\n",
      "Training:                                                                           \n",
      "Epoch: 1 ... Accuracy: 0.5396530789430687 ... Score: -1.2831376300313218            \n",
      "\n",
      "Validation:                                                                         \n",
      "Epoch: 1 ... Accuracy: 0.5296750988885187 ... Score: -1.314424374845153             \n",
      "\n",
      "Training:                                                                           \n",
      "Epoch: 2 ... Accuracy: 0.6233462087613425 ... Score: -1.0644967903982128              \n",
      "\n",
      "Validation:                                                                           \n",
      "Epoch: 2 ... Accuracy: 0.6164364251480124 ... Score: -1.0916416775593545              \n",
      "\n",
      "Training:                                                                             \n",
      "Epoch: 3 ... Accuracy: 0.6674957203529654 ... Score: -0.9244512814379187              \n",
      "\n",
      "Validation:                                                                           \n",
      "Epoch: 3 ... Accuracy: 0.6507761574014745 ... Score: -0.976308404029013               \n",
      "\n",
      "Training:                                                                             \n",
      "Epoch: 4 ... Accuracy: 0.5828297250453595 ... Score: -1.1232618439164939              \n",
      "\n",
      "Validation:                                                                           \n",
      "Epoch: 4 ... Accuracy: 0.5693543839864674 ... Score: -1.1659687871098923              \n",
      "\n",
      "Training:                                                                             \n",
      "Epoch: 5 ... Accuracy: 0.6637067777007697 ... Score: -0.9155419800535877              \n",
      "\n",
      "Validation:                                                                           \n",
      "Epoch: 5 ... Accuracy: 0.648285789954806 ... Score: -0.9600099529265022               \n",
      "\n",
      "Class F1 Scores                                                                       \n",
      "Training:                                                                             \n",
      "[0.50247035 0.28327484 0.80571578 0.21102447 0.         0.57318735\n",
      " 0.02343842 0.51951754 0.53515215 0.38169087 0.5205321  0.        ]\n",
      "\n",
      "Validation:                                                                           \n",
      "[0.46935302 0.2683999  0.79647862 0.19909987 0.         0.54883034\n",
      " 0.02903981 0.52426343 0.50968703 0.371783   0.29119442 0.        ]\n",
      "\n",
      "Training Runtime: 504.9874656200409                                                   \n",
      "\n",
      "Model Fitting Complete                                                                \n",
      "Fold 2 Validation Score: 0.3639305406804051                                           \n",
      "--------------------------------                                                      \n",
      "FOLD 3                                                                                \n",
      "--------------------------------                                                      \n",
      "Device is cuda:0.                                                                     \n",
      "\n",
      "  2%|▏         | 1/50 [1:05:19<33:07:24, 2433.57s/it, best loss: -0.21242091336143645]"
     ]
    },
    {
     "data": {
      "text/html": [
       "Finishing last run (ID:1qlisrsi) before initializing another..."
      ],
      "text/plain": [
       "<IPython.core.display.HTML object>"
      ]
     },
     "metadata": {},
     "output_type": "display_data"
    },
    {
     "data": {
      "text/html": [
       "<br/>Waiting for W&B process to finish, PID 71786... <strong style=\"color:green\">(success).</strong>"
      ],
      "text/plain": [
       "<IPython.core.display.HTML object>"
      ]
     },
     "metadata": {},
     "output_type": "display_data"
    },
    {
     "data": {
      "application/vnd.jupyter.widget-view+json": {
       "model_id": "",
       "version_major": 2,
       "version_minor": 0
      },
      "text/plain": [
       "VBox(children=(Label(value=' 0.00MB of 0.00MB uploaded (0.00MB deduped)\\r'), FloatProgress(value=1.0, max=1.0)…"
      ]
     },
     "metadata": {},
     "output_type": "display_data"
    },
    {
     "data": {
      "text/html": [
       "<style>\n",
       "    table.wandb td:nth-child(1) { padding: 0 10px; text-align: right }\n",
       "    .wandb-row { display: flex; flex-direction: row; flex-wrap: wrap; width: 100% }\n",
       "    .wandb-col { display: flex; flex-direction: column; flex-basis: 100%; flex: 1; padding: 10px; }\n",
       "    </style>\n",
       "<div class=\"wandb-row\"><div class=\"wandb-col\">\n",
       "</div><div class=\"wandb-col\">\n",
       "<h3>Run summary:</h3><br/><table class=\"wandb\"><tr><td>train_accuracy</td><td>0.66371</td></tr><tr><td>train_batch_loss</td><td>1.76312</td></tr><tr><td>train_epoch_loss</td><td>1.65469</td></tr><tr><td>train_score</td><td>-0.91554</td></tr><tr><td>valid_accuracy</td><td>0.64829</td></tr><tr><td>valid_epoch_loss</td><td>1.779</td></tr><tr><td>valid_score</td><td>-0.96001</td></tr></table>\n",
       "</div></div>\n",
       "Synced 6 W&B file(s), 0 media file(s), 0 artifact file(s) and 0 other file(s)\n",
       "<br/>Synced <strong style=\"color:#cdcd00\">astral-grass-17</strong>: <a href=\"https://wandb.ai/2djagpal/Lithology-LSTM_search_new/runs/1qlisrsi\" target=\"_blank\">https://wandb.ai/2djagpal/Lithology-LSTM_search_new/runs/1qlisrsi</a><br/>\n",
       "Find logs at: <code>./wandb/run-20211205_161953-1qlisrsi/logs</code><br/>\n"
      ],
      "text/plain": [
       "<IPython.core.display.HTML object>"
      ]
     },
     "metadata": {},
     "output_type": "display_data"
    },
    {
     "data": {
      "text/html": [
       "Successfully finished last run (ID:1qlisrsi). Initializing new run:<br/>"
      ],
      "text/plain": [
       "<IPython.core.display.HTML object>"
      ]
     },
     "metadata": {},
     "output_type": "display_data"
    },
    {
     "data": {
      "text/html": [
       "\n",
       "                    Syncing run <strong><a href=\"https://wandb.ai/2djagpal/Lithology-LSTM_search_new/runs/gzem9yw9\" target=\"_blank\">wobbly-wind-18</a></strong> to <a href=\"https://wandb.ai/2djagpal/Lithology-LSTM_search_new\" target=\"_blank\">Weights & Biases</a> (<a href=\"https://docs.wandb.com/integrations/jupyter.html\" target=\"_blank\">docs</a>).<br/>\n",
       "\n",
       "                "
      ],
      "text/plain": [
       "<IPython.core.display.HTML object>"
      ]
     },
     "metadata": {},
     "output_type": "display_data"
    },
    {
     "name": "stdout",
     "output_type": "stream",
     "text": [
      "Loading Data ...                                                                      \n",
      "\n",
      "Starting training...                                                                  \n",
      "\n",
      "Training:                                                                             \n",
      "Epoch: 1 ... Accuracy: 0.6581483091256064 ... Score: -0.9997605213106666              \n",
      "\n",
      "Validation:                                                                           \n",
      "Epoch: 1 ... Accuracy: 0.6486745094018846 ... Score: -1.0328286387984724              \n",
      "\n",
      "Training:                                                                             \n",
      "Epoch: 2 ... Accuracy: 0.4633060980832094 ... Score: -1.4374302521654534              \n",
      "\n",
      "Validation:                                                                           \n",
      "Epoch: 2 ... Accuracy: 0.45030798540807 ... Score: -1.477374712732057                 \n",
      "\n",
      "Training:                                                                             \n",
      "Epoch: 3 ... Accuracy: 0.47589141069767593 ... Score: -1.5738708993612833             \n",
      "\n",
      "Validation:                                                                           \n",
      "Epoch: 3 ... Accuracy: 0.4674543575022853 ... Score: -1.6046082476869057              \n",
      "\n",
      "Training:                                                                             \n",
      "Epoch: 4 ... Accuracy: 0.5841710192875121 ... Score: -1.0362847591170097              \n",
      "\n",
      "Validation:                                                                           \n",
      "Epoch: 4 ... Accuracy: 0.5714987484088132 ... Score: -1.0736196187986433              \n",
      "\n",
      "Training:                                                                             \n",
      "Epoch: 5 ... Accuracy: 0.7096663957736417 ... Score: -0.7887928778984397              \n",
      "\n",
      "Validation:                                                                           \n",
      "Epoch: 5 ... Accuracy: 0.6952866699131148 ... Score: -0.8360276716986612              \n",
      "\n",
      "Class F1 Scores                                                                       \n",
      "Training:                                                                             \n",
      "[0.58702116 0.11392606 0.84651407 0.12377548 0.         0.55422943\n",
      " 0.01532838 0.95825399 0.6223565  0.         0.19949519 0.        ]\n",
      "\n",
      "Validation:                                                                           \n",
      "[0.54197887 0.10539895 0.83706649 0.11214333 0.         0.53098975\n",
      " 0.02535211 0.95764706 0.59857482 0.         0.1579253  0.        ]\n",
      "\n",
      "Training Runtime: 463.6916069984436                                                   \n",
      "\n",
      "Model Fitting Complete                                                                \n",
      "Fold 3 Validation Score: 0.2589407656662339                                           \n",
      "--------------------------------                                                      \n",
      "FOLD 4                                                                                \n",
      "--------------------------------                                                      \n",
      "Device is cuda:0.                                                                     \n",
      "\n",
      "  2%|▏         | 1/50 [1:13:09<33:07:24, 2433.57s/it, best loss: -0.21242091336143645]"
     ]
    },
    {
     "data": {
      "text/html": [
       "Finishing last run (ID:gzem9yw9) before initializing another..."
      ],
      "text/plain": [
       "<IPython.core.display.HTML object>"
      ]
     },
     "metadata": {},
     "output_type": "display_data"
    },
    {
     "data": {
      "text/html": [
       "<br/>Waiting for W&B process to finish, PID 74177... <strong style=\"color:green\">(success).</strong>"
      ],
      "text/plain": [
       "<IPython.core.display.HTML object>"
      ]
     },
     "metadata": {},
     "output_type": "display_data"
    },
    {
     "data": {
      "application/vnd.jupyter.widget-view+json": {
       "model_id": "",
       "version_major": 2,
       "version_minor": 0
      },
      "text/plain": [
       "VBox(children=(Label(value=' 0.00MB of 0.00MB uploaded (0.00MB deduped)\\r'), FloatProgress(value=1.0, max=1.0)…"
      ]
     },
     "metadata": {},
     "output_type": "display_data"
    },
    {
     "data": {
      "text/html": [
       "<style>\n",
       "    table.wandb td:nth-child(1) { padding: 0 10px; text-align: right }\n",
       "    .wandb-row { display: flex; flex-direction: row; flex-wrap: wrap; width: 100% }\n",
       "    .wandb-col { display: flex; flex-direction: column; flex-basis: 100%; flex: 1; padding: 10px; }\n",
       "    </style>\n",
       "<div class=\"wandb-row\"><div class=\"wandb-col\">\n",
       "</div><div class=\"wandb-col\">\n",
       "<h3>Run summary:</h3><br/><table class=\"wandb\"><tr><td>train_accuracy</td><td>0.70967</td></tr><tr><td>train_batch_loss</td><td>1.27623</td></tr><tr><td>train_epoch_loss</td><td>1.55334</td></tr><tr><td>train_score</td><td>-0.78879</td></tr><tr><td>valid_accuracy</td><td>0.69529</td></tr><tr><td>valid_epoch_loss</td><td>1.64071</td></tr><tr><td>valid_score</td><td>-0.83603</td></tr></table>\n",
       "</div></div>\n",
       "Synced 6 W&B file(s), 0 media file(s), 0 artifact file(s) and 0 other file(s)\n",
       "<br/>Synced <strong style=\"color:#cdcd00\">wobbly-wind-18</strong>: <a href=\"https://wandb.ai/2djagpal/Lithology-LSTM_search_new/runs/gzem9yw9\" target=\"_blank\">https://wandb.ai/2djagpal/Lithology-LSTM_search_new/runs/gzem9yw9</a><br/>\n",
       "Find logs at: <code>./wandb/run-20211205_162822-gzem9yw9/logs</code><br/>\n"
      ],
      "text/plain": [
       "<IPython.core.display.HTML object>"
      ]
     },
     "metadata": {},
     "output_type": "display_data"
    },
    {
     "data": {
      "text/html": [
       "Successfully finished last run (ID:gzem9yw9). Initializing new run:<br/>"
      ],
      "text/plain": [
       "<IPython.core.display.HTML object>"
      ]
     },
     "metadata": {},
     "output_type": "display_data"
    },
    {
     "data": {
      "text/html": [
       "\n",
       "                    Syncing run <strong><a href=\"https://wandb.ai/2djagpal/Lithology-LSTM_search_new/runs/2qtz0al9\" target=\"_blank\">young-waterfall-19</a></strong> to <a href=\"https://wandb.ai/2djagpal/Lithology-LSTM_search_new\" target=\"_blank\">Weights & Biases</a> (<a href=\"https://docs.wandb.com/integrations/jupyter.html\" target=\"_blank\">docs</a>).<br/>\n",
       "\n",
       "                "
      ],
      "text/plain": [
       "<IPython.core.display.HTML object>"
      ]
     },
     "metadata": {},
     "output_type": "display_data"
    },
    {
     "name": "stdout",
     "output_type": "stream",
     "text": [
      "Loading Data ...                                                                      \n",
      "\n",
      "Starting training...                                                                  \n",
      "\n",
      "Training:                                                                             \n",
      "Epoch: 1 ... Accuracy: 0.6711575817831738 ... Score: -0.9329715968129311              \n",
      "\n",
      "Validation:                                                                           \n",
      "Epoch: 1 ... Accuracy: 0.6632536244884708 ... Score: -0.961212954182365               \n",
      "\n",
      "Training:                                                                             \n",
      "Epoch: 2 ... Accuracy: 0.7071450616130345 ... Score: -0.7830772931486135              \n",
      "\n",
      "Validation:                                                                           \n",
      "Epoch: 2 ... Accuracy: 0.6879864332641328 ... Score: -0.843715559884153               \n",
      "\n",
      "Training:                                                                             \n",
      "Epoch: 3 ... Accuracy: 0.5851438847768443 ... Score: -1.1702228940559094              \n",
      "\n",
      "Validation:                                                                           \n",
      "Epoch: 3 ... Accuracy: 0.5751168294162373 ... Score: -1.2068815089149174              \n",
      "\n",
      "Training:                                                                             \n",
      "Epoch: 4 ... Accuracy: 0.6904664521592595 ... Score: -0.8358278807657765              \n",
      "\n",
      "Validation:                                                                           \n",
      "Epoch: 4 ... Accuracy: 0.672642694210216 ... Score: -0.888348348155932                \n",
      "\n",
      "Training:                                                                             \n",
      "Epoch: 5 ... Accuracy: 0.6762739358549523 ... Score: -0.8644515911316529              \n",
      "\n",
      "Validation:                                                                           \n",
      "Epoch: 5 ... Accuracy: 0.6663804666342021 ... Score: -0.8987289728408984              \n",
      "\n",
      "Class F1 Scores                                                                       \n",
      "Training:                                                                             \n",
      "[0.58028591 0.19366013 0.81958993 0.10307834 0.         0.42433751\n",
      " 0.51897641 0.90842315 0.53582774 0.03847372 0.38248525 0.        ]\n",
      "\n",
      "Validation:                                                                           \n",
      "[0.55688061 0.19883218 0.81344045 0.09279268 0.         0.39675652\n",
      " 0.51947694 0.90716351 0.46327684 0.03289058 0.27120103 0.        ]\n",
      "\n",
      "Training Runtime: 462.96116733551025                                                  \n",
      "\n",
      "Model Fitting Complete                                                                \n",
      "Fold 4 Validation Score: 0.32449485701447645                                          \n",
      "--------------------------------                                                      \n",
      "                                                                                      \n",
      "\n",
      "Minimum Validation Score: 0.2589407656662339\n",
      "--------------------------------                                                      \n",
      "{'hidden_dim': 103, 'n_layers': 2, 'window_size': 8}                                  \n",
      "--------------------------------                                                     \n",
      "FOLD 0                                                                               \n",
      "--------------------------------                                                     \n",
      "Device is cuda:0.                                                                    \n",
      "\n",
      "  4%|▍         | 2/50 [1:20:55<32:21:26, 2426.81s/it, best loss: -0.2589407656662339]"
     ]
    },
    {
     "data": {
      "text/html": [
       "Finishing last run (ID:2qtz0al9) before initializing another..."
      ],
      "text/plain": [
       "<IPython.core.display.HTML object>"
      ]
     },
     "metadata": {},
     "output_type": "display_data"
    },
    {
     "data": {
      "text/html": [
       "<br/>Waiting for W&B process to finish, PID 76387... <strong style=\"color:green\">(success).</strong>"
      ],
      "text/plain": [
       "<IPython.core.display.HTML object>"
      ]
     },
     "metadata": {},
     "output_type": "display_data"
    },
    {
     "data": {
      "application/vnd.jupyter.widget-view+json": {
       "model_id": "",
       "version_major": 2,
       "version_minor": 0
      },
      "text/plain": [
       "VBox(children=(Label(value=' 0.00MB of 0.00MB uploaded (0.00MB deduped)\\r'), FloatProgress(value=1.0, max=1.0)…"
      ]
     },
     "metadata": {},
     "output_type": "display_data"
    },
    {
     "data": {
      "text/html": [
       "<style>\n",
       "    table.wandb td:nth-child(1) { padding: 0 10px; text-align: right }\n",
       "    .wandb-row { display: flex; flex-direction: row; flex-wrap: wrap; width: 100% }\n",
       "    .wandb-col { display: flex; flex-direction: column; flex-basis: 100%; flex: 1; padding: 10px; }\n",
       "    </style>\n",
       "<div class=\"wandb-row\"><div class=\"wandb-col\">\n",
       "</div><div class=\"wandb-col\">\n",
       "<h3>Run summary:</h3><br/><table class=\"wandb\"><tr><td>train_accuracy</td><td>0.67627</td></tr><tr><td>train_batch_loss</td><td>1.31313</td></tr><tr><td>train_epoch_loss</td><td>1.49483</td></tr><tr><td>train_score</td><td>-0.86445</td></tr><tr><td>valid_accuracy</td><td>0.66638</td></tr><tr><td>valid_epoch_loss</td><td>1.58696</td></tr><tr><td>valid_score</td><td>-0.89873</td></tr></table>\n",
       "</div></div>\n",
       "Synced 6 W&B file(s), 0 media file(s), 0 artifact file(s) and 0 other file(s)\n",
       "<br/>Synced <strong style=\"color:#cdcd00\">young-waterfall-19</strong>: <a href=\"https://wandb.ai/2djagpal/Lithology-LSTM_search_new/runs/2qtz0al9\" target=\"_blank\">https://wandb.ai/2djagpal/Lithology-LSTM_search_new/runs/2qtz0al9</a><br/>\n",
       "Find logs at: <code>./wandb/run-20211205_163611-2qtz0al9/logs</code><br/>\n"
      ],
      "text/plain": [
       "<IPython.core.display.HTML object>"
      ]
     },
     "metadata": {},
     "output_type": "display_data"
    },
    {
     "data": {
      "text/html": [
       "Successfully finished last run (ID:2qtz0al9). Initializing new run:<br/>"
      ],
      "text/plain": [
       "<IPython.core.display.HTML object>"
      ]
     },
     "metadata": {},
     "output_type": "display_data"
    },
    {
     "data": {
      "text/html": [
       "\n",
       "                    Syncing run <strong><a href=\"https://wandb.ai/2djagpal/Lithology-LSTM_search_new/runs/31d6stsg\" target=\"_blank\">classic-sound-20</a></strong> to <a href=\"https://wandb.ai/2djagpal/Lithology-LSTM_search_new\" target=\"_blank\">Weights & Biases</a> (<a href=\"https://docs.wandb.com/integrations/jupyter.html\" target=\"_blank\">docs</a>).<br/>\n",
       "\n",
       "                "
      ],
      "text/plain": [
       "<IPython.core.display.HTML object>"
      ]
     },
     "metadata": {},
     "output_type": "display_data"
    },
    {
     "name": "stdout",
     "output_type": "stream",
     "text": [
      "Loading Data ...                                                                     \n",
      "\n",
      "Starting training...                                                                 \n",
      "\n",
      "Training:                                                                            \n",
      "Epoch: 1 ... Accuracy: 0.6391006911517202 ... Score: -1.0012869657243424             \n",
      "\n",
      "Validation:                                                                          \n",
      "Epoch: 1 ... Accuracy: 0.622576387316694 ... Score: -1.0488209249774672              \n",
      "\n",
      "Training:                                                                            \n",
      "Epoch: 2 ... Accuracy: 0.6757481781445694 ... Score: -0.9006347927399168             \n",
      "\n",
      "Validation:                                                                          \n",
      "Epoch: 2 ... Accuracy: 0.663665138849139 ... Score: -0.9423117174918733              \n",
      "\n",
      "Training:                                                                            \n",
      "Epoch: 3 ... Accuracy: 0.6552944870184791 ... Score: -0.9218956907672724             \n",
      "\n",
      "Validation:                                                                          \n",
      "Epoch: 3 ... Accuracy: 0.636429264041896 ... Score: -0.9770661845427013              \n",
      "\n",
      "Training:                                                                            \n",
      "Epoch: 4 ... Accuracy: 0.6280520884059085 ... Score: -0.9854319644855661             \n",
      "\n",
      "Validation:                                                                          \n",
      "Epoch: 4 ... Accuracy: 0.6112822133847068 ... Score: -1.0342573568044835             \n",
      "\n",
      "Training:                                                                            \n",
      "Epoch: 5 ... Accuracy: 0.7076317160895678 ... Score: -0.7767890705760737             \n",
      "\n",
      "Validation:                                                                          \n",
      "Epoch: 5 ... Accuracy: 0.6888420908745296 ... Score: -0.833510249761857              \n",
      "\n",
      "Class F1 Scores                                                                      \n",
      "Training:                                                                            \n",
      "[0.64917606 0.24965051 0.84552614 0.22940806 0.         0.49662414\n",
      " 0.54197349 0.60373796 0.4349345  0.48451722 0.45728477 0.        ]\n",
      "\n",
      "Validation:                                                                          \n",
      "[0.60688281 0.24142717 0.83282673 0.2241851  0.         0.47761765\n",
      " 0.53456033 0.61065266 0.3269962  0.46079855 0.26696495 0.        ]\n",
      "\n",
      "Training Runtime: 404.1551442146301                                                  \n",
      "\n",
      "Model Fitting Complete                                                               \n",
      "Fold 0 Validation Score: 0.30035569506615006                                         \n",
      "--------------------------------                                                     \n",
      "FOLD 1                                                                               \n",
      "--------------------------------                                                     \n",
      "Device is cuda:0.                                                                    \n",
      "\n",
      "  4%|▍         | 2/50 [1:27:43<32:21:26, 2426.81s/it, best loss: -0.2589407656662339]"
     ]
    },
    {
     "data": {
      "text/html": [
       "Finishing last run (ID:31d6stsg) before initializing another..."
      ],
      "text/plain": [
       "<IPython.core.display.HTML object>"
      ]
     },
     "metadata": {},
     "output_type": "display_data"
    },
    {
     "data": {
      "text/html": [
       "<br/>Waiting for W&B process to finish, PID 78779... <strong style=\"color:green\">(success).</strong>"
      ],
      "text/plain": [
       "<IPython.core.display.HTML object>"
      ]
     },
     "metadata": {},
     "output_type": "display_data"
    },
    {
     "data": {
      "application/vnd.jupyter.widget-view+json": {
       "model_id": "",
       "version_major": 2,
       "version_minor": 0
      },
      "text/plain": [
       "VBox(children=(Label(value=' 0.00MB of 0.00MB uploaded (0.00MB deduped)\\r'), FloatProgress(value=1.0, max=1.0)…"
      ]
     },
     "metadata": {},
     "output_type": "display_data"
    },
    {
     "data": {
      "text/html": [
       "<style>\n",
       "    table.wandb td:nth-child(1) { padding: 0 10px; text-align: right }\n",
       "    .wandb-row { display: flex; flex-direction: row; flex-wrap: wrap; width: 100% }\n",
       "    .wandb-col { display: flex; flex-direction: column; flex-basis: 100%; flex: 1; padding: 10px; }\n",
       "    </style>\n",
       "<div class=\"wandb-row\"><div class=\"wandb-col\">\n",
       "</div><div class=\"wandb-col\">\n",
       "<h3>Run summary:</h3><br/><table class=\"wandb\"><tr><td>train_accuracy</td><td>0.70763</td></tr><tr><td>train_batch_loss</td><td>1.54934</td></tr><tr><td>train_epoch_loss</td><td>1.42122</td></tr><tr><td>train_score</td><td>-0.77679</td></tr><tr><td>valid_accuracy</td><td>0.68884</td></tr><tr><td>valid_epoch_loss</td><td>1.5259</td></tr><tr><td>valid_score</td><td>-0.83351</td></tr></table>\n",
       "</div></div>\n",
       "Synced 6 W&B file(s), 0 media file(s), 0 artifact file(s) and 0 other file(s)\n",
       "<br/>Synced <strong style=\"color:#cdcd00\">classic-sound-20</strong>: <a href=\"https://wandb.ai/2djagpal/Lithology-LSTM_search_new/runs/31d6stsg\" target=\"_blank\">https://wandb.ai/2djagpal/Lithology-LSTM_search_new/runs/31d6stsg</a><br/>\n",
       "Find logs at: <code>./wandb/run-20211205_164358-31d6stsg/logs</code><br/>\n"
      ],
      "text/plain": [
       "<IPython.core.display.HTML object>"
      ]
     },
     "metadata": {},
     "output_type": "display_data"
    },
    {
     "data": {
      "text/html": [
       "Successfully finished last run (ID:31d6stsg). Initializing new run:<br/>"
      ],
      "text/plain": [
       "<IPython.core.display.HTML object>"
      ]
     },
     "metadata": {},
     "output_type": "display_data"
    },
    {
     "data": {
      "text/html": [
       "\n",
       "                    Syncing run <strong><a href=\"https://wandb.ai/2djagpal/Lithology-LSTM_search_new/runs/1u45816v\" target=\"_blank\">super-dawn-21</a></strong> to <a href=\"https://wandb.ai/2djagpal/Lithology-LSTM_search_new\" target=\"_blank\">Weights & Biases</a> (<a href=\"https://docs.wandb.com/integrations/jupyter.html\" target=\"_blank\">docs</a>).<br/>\n",
       "\n",
       "                "
      ],
      "text/plain": [
       "<IPython.core.display.HTML object>"
      ]
     },
     "metadata": {},
     "output_type": "display_data"
    },
    {
     "name": "stdout",
     "output_type": "stream",
     "text": [
      "Loading Data ...                                                                     \n",
      "\n",
      "Starting training...                                                                 \n",
      "\n",
      "Training:                                                                            \n",
      "Epoch: 1 ... Accuracy: 0.6407616757207588 ... Score: -1.052317283366563              \n",
      "\n",
      "Validation:                                                                          \n",
      "Epoch: 1 ... Accuracy: 0.626850689015899 ... Score: -1.1015529555492904              \n",
      "\n",
      "Training:                                                                            \n",
      "Epoch: 2 ... Accuracy: 0.6345133376548068 ... Score: -1.0057843314192836             \n",
      "\n",
      "Validation:                                                                          \n",
      "Epoch: 2 ... Accuracy: 0.620746512204082 ... Score: -1.0465566291616475              \n",
      "\n",
      "Training:                                                                            \n",
      "Epoch: 3 ... Accuracy: 0.6885314002748799 ... Score: -0.8180682799930372             \n",
      "\n",
      "Validation:                                                                          \n",
      "Epoch: 3 ... Accuracy: 0.6703317357391223 ... Score: -0.8734323072848588             \n",
      "\n",
      "Training:                                                                            \n",
      "Epoch: 4 ... Accuracy: 0.7164978123875357 ... Score: -0.7389632895454871             \n",
      "\n",
      "Validation:                                                                          \n",
      "Epoch: 4 ... Accuracy: 0.6961025535877523 ... Score: -0.8004747930389318             \n",
      "\n",
      "Training:                                                                            \n",
      "Epoch: 5 ... Accuracy: 0.668483536574296 ... Score: -0.9076216962886944              \n",
      "\n",
      "Validation:                                                                          \n",
      "Epoch: 5 ... Accuracy: 0.6505882051413486 ... Score: -0.9634400816738004             \n",
      "\n",
      "Class F1 Scores                                                                      \n",
      "Training:                                                                            \n",
      "[0.59627003 0.31406561 0.81798843 0.02585813 0.         0.45408713\n",
      " 0.35333913 0.60328929 0.         0.45620862 0.44758364 0.        ]\n",
      "\n",
      "Validation:                                                                          \n",
      "[0.55705547 0.29963595 0.80576907 0.02331201 0.         0.43569385\n",
      " 0.34843206 0.61754652 0.         0.44665872 0.27700831 0.        ]\n",
      "\n",
      "Training Runtime: 397.11679339408875                                                 \n",
      "\n",
      "Model Fitting Complete                                                               \n",
      "Fold 1 Validation Score: 0.24125112862084644                                         \n",
      "********************************                                                     \n",
      "F1 Score too low ... stopped early.                                                  \n",
      "********************************                                                     \n",
      "{'hidden_dim': 485, 'n_layers': 3, 'window_size': 4}                                 \n",
      "--------------------------------                                                     \n",
      "FOLD 0                                                                               \n",
      "--------------------------------                                                     \n",
      "Device is cuda:0.                                                                    \n",
      "\n",
      "  6%|▌         | 3/50 [1:34:23<22:01:55, 1687.57s/it, best loss: -0.2589407656662339]"
     ]
    },
    {
     "data": {
      "text/html": [
       "Finishing last run (ID:1u45816v) before initializing another..."
      ],
      "text/plain": [
       "<IPython.core.display.HTML object>"
      ]
     },
     "metadata": {},
     "output_type": "display_data"
    },
    {
     "data": {
      "text/html": [
       "<br/>Waiting for W&B process to finish, PID 80631... <strong style=\"color:green\">(success).</strong>"
      ],
      "text/plain": [
       "<IPython.core.display.HTML object>"
      ]
     },
     "metadata": {},
     "output_type": "display_data"
    },
    {
     "data": {
      "application/vnd.jupyter.widget-view+json": {
       "model_id": "",
       "version_major": 2,
       "version_minor": 0
      },
      "text/plain": [
       "VBox(children=(Label(value=' 0.00MB of 0.00MB uploaded (0.00MB deduped)\\r'), FloatProgress(value=1.0, max=1.0)…"
      ]
     },
     "metadata": {},
     "output_type": "display_data"
    },
    {
     "data": {
      "text/html": [
       "<style>\n",
       "    table.wandb td:nth-child(1) { padding: 0 10px; text-align: right }\n",
       "    .wandb-row { display: flex; flex-direction: row; flex-wrap: wrap; width: 100% }\n",
       "    .wandb-col { display: flex; flex-direction: column; flex-basis: 100%; flex: 1; padding: 10px; }\n",
       "    </style>\n",
       "<div class=\"wandb-row\"><div class=\"wandb-col\">\n",
       "</div><div class=\"wandb-col\">\n",
       "<h3>Run summary:</h3><br/><table class=\"wandb\"><tr><td>train_accuracy</td><td>0.66848</td></tr><tr><td>train_batch_loss</td><td>1.29653</td></tr><tr><td>train_epoch_loss</td><td>1.51372</td></tr><tr><td>train_score</td><td>-0.90762</td></tr><tr><td>valid_accuracy</td><td>0.65059</td></tr><tr><td>valid_epoch_loss</td><td>1.61473</td></tr><tr><td>valid_score</td><td>-0.96344</td></tr></table>\n",
       "</div></div>\n",
       "Synced 6 W&B file(s), 0 media file(s), 0 artifact file(s) and 0 other file(s)\n",
       "<br/>Synced <strong style=\"color:#cdcd00\">super-dawn-21</strong>: <a href=\"https://wandb.ai/2djagpal/Lithology-LSTM_search_new/runs/1u45816v\" target=\"_blank\">https://wandb.ai/2djagpal/Lithology-LSTM_search_new/runs/1u45816v</a><br/>\n",
       "Find logs at: <code>./wandb/run-20211205_165046-1u45816v/logs</code><br/>\n"
      ],
      "text/plain": [
       "<IPython.core.display.HTML object>"
      ]
     },
     "metadata": {},
     "output_type": "display_data"
    },
    {
     "data": {
      "text/html": [
       "Successfully finished last run (ID:1u45816v). Initializing new run:<br/>"
      ],
      "text/plain": [
       "<IPython.core.display.HTML object>"
      ]
     },
     "metadata": {},
     "output_type": "display_data"
    },
    {
     "data": {
      "text/html": [
       "\n",
       "                    Syncing run <strong><a href=\"https://wandb.ai/2djagpal/Lithology-LSTM_search_new/runs/353a502y\" target=\"_blank\">rare-dawn-22</a></strong> to <a href=\"https://wandb.ai/2djagpal/Lithology-LSTM_search_new\" target=\"_blank\">Weights & Biases</a> (<a href=\"https://docs.wandb.com/integrations/jupyter.html\" target=\"_blank\">docs</a>).<br/>\n",
       "\n",
       "                "
      ],
      "text/plain": [
       "<IPython.core.display.HTML object>"
      ]
     },
     "metadata": {},
     "output_type": "display_data"
    },
    {
     "name": "stdout",
     "output_type": "stream",
     "text": [
      "Loading Data ...                                                                     \n",
      "\n",
      "Starting training...                                                                 \n",
      "\n",
      "Training:                                                                            \n",
      "Epoch: 1 ... Accuracy: 0.676782983485831 ... Score: -0.9058603461311736              \n",
      "\n",
      "Validation:                                                                          \n",
      "Epoch: 1 ... Accuracy: 0.6650363301623644 ... Score: -0.947387474744023              \n",
      "\n",
      "Training:                                                                            \n",
      "Epoch: 2 ... Accuracy: 0.6265538098777456 ... Score: -1.1329556667606429             \n",
      "\n",
      "Validation:                                                                          \n",
      "Epoch: 2 ... Accuracy: 0.6126149600816735 ... Score: -1.1783328278578233             \n",
      "\n",
      "Training:                                                                            \n",
      "Epoch: 3 ... Accuracy: 0.34682531546078205 ... Score: -1.6051588890739934            \n",
      "\n",
      "Validation:                                                                          \n",
      "Epoch: 3 ... Accuracy: 0.3338957638304507 ... Score: -1.6415215738371571             \n",
      "\n",
      "Training:                                                                            \n",
      "Epoch: 4 ... Accuracy: 0.7032778447001734 ... Score: -0.7955610695337929             \n",
      "\n",
      "Validation:                                                                          \n",
      "Epoch: 4 ... Accuracy: 0.6858476824303832 ... Score: -0.8523069973473215             \n",
      "\n",
      "Training:                                                                            \n",
      "Epoch: 5 ... Accuracy: 0.6602378450419049 ... Score: -0.8846310849544216             \n",
      "\n",
      "Validation:                                                                          \n",
      "Epoch: 5 ... Accuracy: 0.6428110703408328 ... Score: -0.9356228882158708             \n",
      "\n",
      "Class F1 Scores                                                                      \n",
      "Training:                                                                            \n",
      "[0.63017146 0.38213037 0.80349272 0.24069714 0.         0.50844398\n",
      " 0.01252363 0.20390572 0.68684517 0.37987464 0.45872431 0.        ]\n",
      "\n",
      "Validation:                                                                          \n",
      "[0.58647027 0.36847967 0.79280154 0.23081069 0.         0.49720776\n",
      " 0.00946074 0.1712404  0.7037037  0.36758547 0.32560484 0.        ]\n",
      "\n",
      "Training Runtime: 455.3968176841736                                                  \n",
      "\n",
      "Model Fitting Complete                                                               \n",
      "Fold 0 Validation Score: 0.32754389738664463                                         \n",
      "--------------------------------                                                     \n",
      "FOLD 1                                                                               \n",
      "--------------------------------                                                     \n",
      "Device is cuda:0.                                                                    \n",
      "\n",
      "  6%|▌         | 3/50 [1:42:02<22:01:55, 1687.57s/it, best loss: -0.2589407656662339]"
     ]
    },
    {
     "data": {
      "text/html": [
       "Finishing last run (ID:353a502y) before initializing another..."
      ],
      "text/plain": [
       "<IPython.core.display.HTML object>"
      ]
     },
     "metadata": {},
     "output_type": "display_data"
    },
    {
     "data": {
      "text/html": [
       "<br/>Waiting for W&B process to finish, PID 82487... <strong style=\"color:green\">(success).</strong>"
      ],
      "text/plain": [
       "<IPython.core.display.HTML object>"
      ]
     },
     "metadata": {},
     "output_type": "display_data"
    },
    {
     "data": {
      "application/vnd.jupyter.widget-view+json": {
       "model_id": "",
       "version_major": 2,
       "version_minor": 0
      },
      "text/plain": [
       "VBox(children=(Label(value=' 0.00MB of 0.00MB uploaded (0.00MB deduped)\\r'), FloatProgress(value=1.0, max=1.0)…"
      ]
     },
     "metadata": {},
     "output_type": "display_data"
    },
    {
     "data": {
      "text/html": [
       "<style>\n",
       "    table.wandb td:nth-child(1) { padding: 0 10px; text-align: right }\n",
       "    .wandb-row { display: flex; flex-direction: row; flex-wrap: wrap; width: 100% }\n",
       "    .wandb-col { display: flex; flex-direction: column; flex-basis: 100%; flex: 1; padding: 10px; }\n",
       "    </style>\n",
       "<div class=\"wandb-row\"><div class=\"wandb-col\">\n",
       "</div><div class=\"wandb-col\">\n",
       "<h3>Run summary:</h3><br/><table class=\"wandb\"><tr><td>train_accuracy</td><td>0.66024</td></tr><tr><td>train_batch_loss</td><td>1.2701</td></tr><tr><td>train_epoch_loss</td><td>1.50216</td></tr><tr><td>train_score</td><td>-0.88463</td></tr><tr><td>valid_accuracy</td><td>0.64281</td></tr><tr><td>valid_epoch_loss</td><td>1.60921</td></tr><tr><td>valid_score</td><td>-0.93562</td></tr></table>\n",
       "</div></div>\n",
       "Synced 6 W&B file(s), 0 media file(s), 0 artifact file(s) and 0 other file(s)\n",
       "<br/>Synced <strong style=\"color:#cdcd00\">rare-dawn-22</strong>: <a href=\"https://wandb.ai/2djagpal/Lithology-LSTM_search_new/runs/353a502y\" target=\"_blank\">https://wandb.ai/2djagpal/Lithology-LSTM_search_new/runs/353a502y</a><br/>\n",
       "Find logs at: <code>./wandb/run-20211205_165726-353a502y/logs</code><br/>\n"
      ],
      "text/plain": [
       "<IPython.core.display.HTML object>"
      ]
     },
     "metadata": {},
     "output_type": "display_data"
    },
    {
     "data": {
      "text/html": [
       "Successfully finished last run (ID:353a502y). Initializing new run:<br/>"
      ],
      "text/plain": [
       "<IPython.core.display.HTML object>"
      ]
     },
     "metadata": {},
     "output_type": "display_data"
    },
    {
     "data": {
      "text/html": [
       "\n",
       "                    Syncing run <strong><a href=\"https://wandb.ai/2djagpal/Lithology-LSTM_search_new/runs/2ae5t4ga\" target=\"_blank\">good-shape-23</a></strong> to <a href=\"https://wandb.ai/2djagpal/Lithology-LSTM_search_new\" target=\"_blank\">Weights & Biases</a> (<a href=\"https://docs.wandb.com/integrations/jupyter.html\" target=\"_blank\">docs</a>).<br/>\n",
       "\n",
       "                "
      ],
      "text/plain": [
       "<IPython.core.display.HTML object>"
      ]
     },
     "metadata": {},
     "output_type": "display_data"
    },
    {
     "name": "stdout",
     "output_type": "stream",
     "text": [
      "Loading Data ...                                                                     \n",
      "\n",
      "Starting training...                                                                 \n",
      "\n",
      "Training:                                                                            \n",
      "Epoch: 1 ... Accuracy: 0.6008592399261434 ... Score: -1.1194646249662275             \n",
      "\n",
      "Validation:                                                                          \n",
      "Epoch: 1 ... Accuracy: 0.5919129268438544 ... Score: -1.1481165261296358             \n",
      "\n",
      "Training:                                                                            \n",
      "Epoch: 2 ... Accuracy: 0.6383268422238573 ... Score: -0.9330347369578891             \n",
      "\n",
      "Validation:                                                                          \n",
      "Epoch: 2 ... Accuracy: 0.6190378552938463 ... Score: -0.9918256785503755             \n",
      "\n",
      "Training:                                                                            \n",
      "Epoch: 3 ... Accuracy: 0.6680563728029099 ... Score: -0.8620620102967828             \n",
      "\n",
      "Validation:                                                                          \n",
      "Epoch: 3 ... Accuracy: 0.6487599422473964 ... Score: -0.9207113779463653             \n",
      "\n",
      "Training:                                                                            \n",
      "Epoch: 4 ... Accuracy: 0.415574818268513 ... Score: -1.5908295680626734              \n",
      "\n",
      "Validation:                                                                          \n",
      "Epoch: 4 ... Accuracy: 0.40501149071772136 ... Score: -1.6268394759549256            \n",
      "\n",
      "Training:                                                                            \n",
      "Epoch: 5 ... Accuracy: 0.6792971874469382 ... Score: -0.851626799827853              \n",
      "\n",
      "Validation:                                                                          \n",
      "Epoch: 5 ... Accuracy: 0.6597295196111097 ... Score: -0.9133363875575604             \n",
      "\n",
      "Class F1 Scores                                                                      \n",
      "Training:                                                                            \n",
      "[0.61519152 0.19924428 0.83200505 0.18831827 0.         0.42540071\n",
      " 0.48851039 0.63417085 0.75516529 0.38533723 0.52394273 0.        ]\n",
      "\n",
      "Validation:                                                                          \n",
      "[0.57593493 0.18484288 0.81870712 0.18056075 0.         0.38607208\n",
      " 0.47687564 0.63145258 0.67982456 0.37648411 0.33888889 0.        ]\n",
      "\n",
      "Training Runtime: 456.51197052001953                                                 \n",
      "\n",
      "Model Fitting Complete                                                               \n",
      "Fold 1 Validation Score: 0.32916628945900134                                         \n",
      "--------------------------------                                                     \n",
      "FOLD 2                                                                               \n",
      "--------------------------------                                                     \n",
      "Device is cuda:0.                                                                    \n",
      "\n",
      "  6%|▌         | 3/50 [1:49:43<22:01:55, 1687.57s/it, best loss: -0.2589407656662339]"
     ]
    },
    {
     "data": {
      "text/html": [
       "Finishing last run (ID:2ae5t4ga) before initializing another..."
      ],
      "text/plain": [
       "<IPython.core.display.HTML object>"
      ]
     },
     "metadata": {},
     "output_type": "display_data"
    },
    {
     "data": {
      "text/html": [
       "<br/>Waiting for W&B process to finish, PID 84662... <strong style=\"color:green\">(success).</strong>"
      ],
      "text/plain": [
       "<IPython.core.display.HTML object>"
      ]
     },
     "metadata": {},
     "output_type": "display_data"
    },
    {
     "data": {
      "application/vnd.jupyter.widget-view+json": {
       "model_id": "",
       "version_major": 2,
       "version_minor": 0
      },
      "text/plain": [
       "VBox(children=(Label(value=' 0.00MB of 0.00MB uploaded (0.00MB deduped)\\r'), FloatProgress(value=1.0, max=1.0)…"
      ]
     },
     "metadata": {},
     "output_type": "display_data"
    },
    {
     "data": {
      "text/html": [
       "<style>\n",
       "    table.wandb td:nth-child(1) { padding: 0 10px; text-align: right }\n",
       "    .wandb-row { display: flex; flex-direction: row; flex-wrap: wrap; width: 100% }\n",
       "    .wandb-col { display: flex; flex-direction: column; flex-basis: 100%; flex: 1; padding: 10px; }\n",
       "    </style>\n",
       "<div class=\"wandb-row\"><div class=\"wandb-col\">\n",
       "</div><div class=\"wandb-col\">\n",
       "<h3>Run summary:</h3><br/><table class=\"wandb\"><tr><td>train_accuracy</td><td>0.6793</td></tr><tr><td>train_batch_loss</td><td>5.83637</td></tr><tr><td>train_epoch_loss</td><td>1.44953</td></tr><tr><td>train_score</td><td>-0.85163</td></tr><tr><td>valid_accuracy</td><td>0.65973</td></tr><tr><td>valid_epoch_loss</td><td>1.57631</td></tr><tr><td>valid_score</td><td>-0.91334</td></tr></table>\n",
       "</div></div>\n",
       "Synced 6 W&B file(s), 0 media file(s), 0 artifact file(s) and 0 other file(s)\n",
       "<br/>Synced <strong style=\"color:#cdcd00\">good-shape-23</strong>: <a href=\"https://wandb.ai/2djagpal/Lithology-LSTM_search_new/runs/2ae5t4ga\" target=\"_blank\">https://wandb.ai/2djagpal/Lithology-LSTM_search_new/runs/2ae5t4ga</a><br/>\n",
       "Find logs at: <code>./wandb/run-20211205_170505-2ae5t4ga/logs</code><br/>\n"
      ],
      "text/plain": [
       "<IPython.core.display.HTML object>"
      ]
     },
     "metadata": {},
     "output_type": "display_data"
    },
    {
     "data": {
      "text/html": [
       "Successfully finished last run (ID:2ae5t4ga). Initializing new run:<br/>"
      ],
      "text/plain": [
       "<IPython.core.display.HTML object>"
      ]
     },
     "metadata": {},
     "output_type": "display_data"
    },
    {
     "data": {
      "text/html": [
       "\n",
       "                    Syncing run <strong><a href=\"https://wandb.ai/2djagpal/Lithology-LSTM_search_new/runs/13397ef5\" target=\"_blank\">fiery-bird-24</a></strong> to <a href=\"https://wandb.ai/2djagpal/Lithology-LSTM_search_new\" target=\"_blank\">Weights & Biases</a> (<a href=\"https://docs.wandb.com/integrations/jupyter.html\" target=\"_blank\">docs</a>).<br/>\n",
       "\n",
       "                "
      ],
      "text/plain": [
       "<IPython.core.display.HTML object>"
      ]
     },
     "metadata": {},
     "output_type": "display_data"
    },
    {
     "name": "stdout",
     "output_type": "stream",
     "text": [
      "Loading Data ...                                                                     \n",
      "\n",
      "Starting training...                                                                 \n",
      "\n",
      "Training:                                                                            \n",
      "Epoch: 1 ... Accuracy: 0.6475738699649405 ... Score: -1.0246652370919118             \n",
      "\n",
      "Validation:                                                                          \n",
      "Epoch: 1 ... Accuracy: 0.6396399859890133 ... Score: -1.052988654518116              \n",
      "\n",
      "Training:                                                                            \n",
      "Epoch: 2 ... Accuracy: 0.7086102333488892 ... Score: -0.7876567557552309             \n",
      "\n",
      "Validation:                                                                          \n",
      "Epoch: 2 ... Accuracy: 0.6927621293282415 ... Score: -0.8387839488769853             \n",
      "\n",
      "Training:                                                                            \n",
      "Epoch: 3 ... Accuracy: 0.6619020107666629 ... Score: -0.9264845809897171             \n",
      "\n",
      "Validation:                                                                          \n",
      "Epoch: 3 ... Accuracy: 0.6465429599063656 ... Score: -0.9745276631553768             \n",
      "\n",
      "Training:                                                                            \n",
      "Epoch: 4 ... Accuracy: 0.687659986181252 ... Score: -0.8174705176904536              \n",
      "\n",
      "Validation:                                                                          \n",
      "Epoch: 4 ... Accuracy: 0.6722881479013422 ... Score: -0.8667866998146108             \n",
      "\n",
      "Training:                                                                            \n",
      "Epoch: 5 ... Accuracy: 0.6102621824437826 ... Score: -1.0893148720270736             \n",
      "\n",
      "Validation:                                                                          \n",
      "Epoch: 5 ... Accuracy: 0.599862453118726 ... Score: -1.1269884494792868              \n",
      "\n",
      "Class F1 Scores                                                                      \n",
      "Training:                                                                            \n",
      "[0.5525383  0.16092714 0.77603759 0.18149335 0.         0.30264188\n",
      " 0.47495179 0.89973393 0.68811881 0.10928344 0.43388235 0.        ]\n",
      "\n",
      "Validation:                                                                          \n",
      "[0.53276772 0.15866442 0.7687133  0.16774691 0.         0.28396655\n",
      " 0.48143236 0.9035533  0.64563107 0.106092   0.23452441 0.        ]\n",
      "\n",
      "Training Runtime: 455.49972224235535                                                 \n",
      "\n",
      "Model Fitting Complete                                                               \n",
      "Fold 2 Validation Score: 0.26058090392036826                                         \n",
      "--------------------------------                                                     \n",
      "FOLD 3                                                                               \n",
      "--------------------------------                                                     \n",
      "Device is cuda:0.                                                                    \n",
      "\n",
      "  6%|▌         | 3/50 [1:57:22<22:01:55, 1687.57s/it, best loss: -0.2589407656662339]"
     ]
    },
    {
     "data": {
      "text/html": [
       "Finishing last run (ID:13397ef5) before initializing another..."
      ],
      "text/plain": [
       "<IPython.core.display.HTML object>"
      ]
     },
     "metadata": {},
     "output_type": "display_data"
    },
    {
     "data": {
      "text/html": [
       "<br/>Waiting for W&B process to finish, PID 86870... <strong style=\"color:green\">(success).</strong>"
      ],
      "text/plain": [
       "<IPython.core.display.HTML object>"
      ]
     },
     "metadata": {},
     "output_type": "display_data"
    },
    {
     "data": {
      "application/vnd.jupyter.widget-view+json": {
       "model_id": "",
       "version_major": 2,
       "version_minor": 0
      },
      "text/plain": [
       "VBox(children=(Label(value=' 0.00MB of 0.00MB uploaded (0.00MB deduped)\\r'), FloatProgress(value=1.0, max=1.0)…"
      ]
     },
     "metadata": {},
     "output_type": "display_data"
    },
    {
     "data": {
      "text/html": [
       "<style>\n",
       "    table.wandb td:nth-child(1) { padding: 0 10px; text-align: right }\n",
       "    .wandb-row { display: flex; flex-direction: row; flex-wrap: wrap; width: 100% }\n",
       "    .wandb-col { display: flex; flex-direction: column; flex-basis: 100%; flex: 1; padding: 10px; }\n",
       "    </style>\n",
       "<div class=\"wandb-row\"><div class=\"wandb-col\">\n",
       "</div><div class=\"wandb-col\">\n",
       "<h3>Run summary:</h3><br/><table class=\"wandb\"><tr><td>train_accuracy</td><td>0.61026</td></tr><tr><td>train_batch_loss</td><td>1.16027</td></tr><tr><td>train_epoch_loss</td><td>1.54322</td></tr><tr><td>train_score</td><td>-1.08931</td></tr><tr><td>valid_accuracy</td><td>0.59986</td></tr><tr><td>valid_epoch_loss</td><td>1.67786</td></tr><tr><td>valid_score</td><td>-1.12699</td></tr></table>\n",
       "</div></div>\n",
       "Synced 6 W&B file(s), 0 media file(s), 0 artifact file(s) and 0 other file(s)\n",
       "<br/>Synced <strong style=\"color:#cdcd00\">fiery-bird-24</strong>: <a href=\"https://wandb.ai/2djagpal/Lithology-LSTM_search_new/runs/13397ef5\" target=\"_blank\">https://wandb.ai/2djagpal/Lithology-LSTM_search_new/runs/13397ef5</a><br/>\n",
       "Find logs at: <code>./wandb/run-20211205_171245-13397ef5/logs</code><br/>\n"
      ],
      "text/plain": [
       "<IPython.core.display.HTML object>"
      ]
     },
     "metadata": {},
     "output_type": "display_data"
    },
    {
     "data": {
      "text/html": [
       "Successfully finished last run (ID:13397ef5). Initializing new run:<br/>"
      ],
      "text/plain": [
       "<IPython.core.display.HTML object>"
      ]
     },
     "metadata": {},
     "output_type": "display_data"
    },
    {
     "data": {
      "text/html": [
       "\n",
       "                    Syncing run <strong><a href=\"https://wandb.ai/2djagpal/Lithology-LSTM_search_new/runs/2ub0kkj1\" target=\"_blank\">glad-water-25</a></strong> to <a href=\"https://wandb.ai/2djagpal/Lithology-LSTM_search_new\" target=\"_blank\">Weights & Biases</a> (<a href=\"https://docs.wandb.com/integrations/jupyter.html\" target=\"_blank\">docs</a>).<br/>\n",
       "\n",
       "                "
      ],
      "text/plain": [
       "<IPython.core.display.HTML object>"
      ]
     },
     "metadata": {},
     "output_type": "display_data"
    },
    {
     "name": "stdout",
     "output_type": "stream",
     "text": [
      "Loading Data ...                                                                     \n",
      "\n",
      "Starting training...                                                                 \n",
      "\n",
      "Training:                                                                            \n",
      "Epoch: 1 ... Accuracy: 0.6021364596025882 ... Score: -1.179246461749086              \n",
      "\n",
      "Validation:                                                                          \n",
      "Epoch: 1 ... Accuracy: 0.5972994677533725 ... Score: -1.196190122254402              \n",
      "\n",
      "Training:                                                                            \n",
      "Epoch: 2 ... Accuracy: 0.621443194159817 ... Score: -1.0572566314505734              \n",
      "\n",
      "Validation:                                                                          \n",
      "Epoch: 2 ... Accuracy: 0.6067355255401492 ... Score: -1.105916438133805              \n",
      "\n",
      "Training:                                                                            \n",
      "Epoch: 3 ... Accuracy: 0.6723878134447662 ... Score: -0.8728420220224282             \n",
      "\n",
      "Validation:                                                                          \n",
      "Epoch: 3 ... Accuracy: 0.6569230506360475 ... Score: -0.9228247729622131             \n",
      "\n",
      "Training:                                                                            \n",
      "Epoch: 4 ... Accuracy: 0.6744456749134192 ... Score: -0.8427120254077011             \n",
      "\n",
      "Validation:                                                                          \n",
      "Epoch: 4 ... Accuracy: 0.6572946835140238 ... Score: -0.892045988500739              \n",
      "\n",
      "Training:                                                                            \n",
      "Epoch: 5 ... Accuracy: 0.6893675733573684 ... Score: -0.8197558438673699             \n",
      "\n",
      "Validation:                                                                          \n",
      "Epoch: 5 ... Accuracy: 0.6742103869253573 ... Score: -0.8676031174445328             \n",
      "\n",
      "Class F1 Scores                                                                      \n",
      "Training:                                                                            \n",
      "[6.41479198e-01 2.23425208e-01 8.30969272e-01 3.90164302e-01\n",
      " 0.00000000e+00 5.58258921e-01 2.37783854e-04 5.91484943e-01\n",
      " 4.67261905e-01 3.30299007e-01 2.34620578e-01 0.00000000e+00]\n",
      "\n",
      "Validation:                                                                          \n",
      "[0.60021461 0.21560779 0.82141905 0.37747414 0.         0.52714459\n",
      " 0.00095057 0.59966777 0.36423841 0.32834094 0.183337   0.        ]\n",
      "\n",
      "Training Runtime: 457.2715280056                                                     \n",
      "\n",
      "Model Fitting Complete                                                               \n",
      "Fold 3 Validation Score: 0.3088821380738472                                          \n",
      "--------------------------------                                                     \n",
      "FOLD 4                                                                               \n",
      "--------------------------------                                                     \n",
      "Device is cuda:0.                                                                    \n",
      "\n",
      "  6%|▌         | 3/50 [2:05:03<22:01:55, 1687.57s/it, best loss: -0.2589407656662339]"
     ]
    },
    {
     "data": {
      "text/html": [
       "Finishing last run (ID:2ub0kkj1) before initializing another..."
      ],
      "text/plain": [
       "<IPython.core.display.HTML object>"
      ]
     },
     "metadata": {},
     "output_type": "display_data"
    },
    {
     "data": {
      "text/html": [
       "<br/>Waiting for W&B process to finish, PID 89004... <strong style=\"color:green\">(success).</strong>"
      ],
      "text/plain": [
       "<IPython.core.display.HTML object>"
      ]
     },
     "metadata": {},
     "output_type": "display_data"
    },
    {
     "data": {
      "application/vnd.jupyter.widget-view+json": {
       "model_id": "",
       "version_major": 2,
       "version_minor": 0
      },
      "text/plain": [
       "VBox(children=(Label(value=' 0.00MB of 0.00MB uploaded (0.00MB deduped)\\r'), FloatProgress(value=1.0, max=1.0)…"
      ]
     },
     "metadata": {},
     "output_type": "display_data"
    },
    {
     "data": {
      "text/html": [
       "<style>\n",
       "    table.wandb td:nth-child(1) { padding: 0 10px; text-align: right }\n",
       "    .wandb-row { display: flex; flex-direction: row; flex-wrap: wrap; width: 100% }\n",
       "    .wandb-col { display: flex; flex-direction: column; flex-basis: 100%; flex: 1; padding: 10px; }\n",
       "    </style>\n",
       "<div class=\"wandb-row\"><div class=\"wandb-col\">\n",
       "</div><div class=\"wandb-col\">\n",
       "<h3>Run summary:</h3><br/><table class=\"wandb\"><tr><td>train_accuracy</td><td>0.68937</td></tr><tr><td>train_batch_loss</td><td>1.08038</td></tr><tr><td>train_epoch_loss</td><td>1.52647</td></tr><tr><td>train_score</td><td>-0.81976</td></tr><tr><td>valid_accuracy</td><td>0.67421</td></tr><tr><td>valid_epoch_loss</td><td>1.65246</td></tr><tr><td>valid_score</td><td>-0.8676</td></tr></table>\n",
       "</div></div>\n",
       "Synced 6 W&B file(s), 0 media file(s), 0 artifact file(s) and 0 other file(s)\n",
       "<br/>Synced <strong style=\"color:#cdcd00\">glad-water-25</strong>: <a href=\"https://wandb.ai/2djagpal/Lithology-LSTM_search_new/runs/2ub0kkj1\" target=\"_blank\">https://wandb.ai/2djagpal/Lithology-LSTM_search_new/runs/2ub0kkj1</a><br/>\n",
       "Find logs at: <code>./wandb/run-20211205_172025-2ub0kkj1/logs</code><br/>\n"
      ],
      "text/plain": [
       "<IPython.core.display.HTML object>"
      ]
     },
     "metadata": {},
     "output_type": "display_data"
    },
    {
     "data": {
      "text/html": [
       "Successfully finished last run (ID:2ub0kkj1). Initializing new run:<br/>"
      ],
      "text/plain": [
       "<IPython.core.display.HTML object>"
      ]
     },
     "metadata": {},
     "output_type": "display_data"
    },
    {
     "data": {
      "text/html": [
       "\n",
       "                    Syncing run <strong><a href=\"https://wandb.ai/2djagpal/Lithology-LSTM_search_new/runs/lij4de5h\" target=\"_blank\">comic-silence-26</a></strong> to <a href=\"https://wandb.ai/2djagpal/Lithology-LSTM_search_new\" target=\"_blank\">Weights & Biases</a> (<a href=\"https://docs.wandb.com/integrations/jupyter.html\" target=\"_blank\">docs</a>).<br/>\n",
       "\n",
       "                "
      ],
      "text/plain": [
       "<IPython.core.display.HTML object>"
      ]
     },
     "metadata": {},
     "output_type": "display_data"
    },
    {
     "name": "stdout",
     "output_type": "stream",
     "text": [
      "Loading Data ...                                                                     \n",
      "\n",
      "Starting training...                                                                 \n",
      "\n",
      "Training:                                                                            \n",
      "Epoch: 1 ... Accuracy: 0.651607363876255 ... Score: -0.992152734542278               \n",
      "\n",
      "Validation:                                                                          \n",
      "Epoch: 1 ... Accuracy: 0.6422926758421543 ... Score: -1.0255497603608683             \n",
      "\n",
      "Training:                                                                            \n",
      "Epoch: 2 ... Accuracy: 0.585526196352235 ... Score: -1.0777428719715423              \n",
      "\n",
      "Validation:                                                                          \n",
      "Epoch: 2 ... Accuracy: 0.5719600857745769 ... Score: -1.1186192343508385             \n",
      "\n",
      "Training:                                                                            \n",
      "Epoch: 3 ... Accuracy: 0.7070510855833295 ... Score: -0.7684592149370627             \n",
      "\n",
      "Validation:                                                                          \n",
      "Epoch: 3 ... Accuracy: 0.6886229079631956 ... Score: -0.8240291625018155             \n",
      "\n",
      "Training:                                                                            \n",
      "Epoch: 4 ... Accuracy: 0.4641326599808417 ... Score: -1.3354833464864178             \n",
      "\n",
      "Validation:                                                                          \n",
      "Epoch: 4 ... Accuracy: 0.4498893644650622 ... Score: -1.377271979735329              \n",
      "\n",
      "Training:                                                                            \n",
      "Epoch: 5 ... Accuracy: 0.7198467763552038 ... Score: -0.7393980621715511             \n",
      "\n",
      "Validation:                                                                          \n",
      "Epoch: 5 ... Accuracy: 0.7026381662694039 ... Score: -0.7902116385165441             \n",
      "\n",
      "Class F1 Scores                                                                      \n",
      "Training:                                                                            \n",
      "[0.62606494 0.29771027 0.85414293 0.22789632 0.         0.55584488\n",
      " 0.26714286 0.62342124 0.52879944 0.45803631 0.32870119 0.        ]\n",
      "\n",
      "Validation:                                                                          \n",
      "[0.58180986 0.27455117 0.84386951 0.22188264 0.         0.53466762\n",
      " 0.27513228 0.64426877 0.4301676  0.44918645 0.2379231  0.        ]\n",
      "\n",
      "Training Runtime: 455.7170271873474                                                  \n",
      "\n",
      "Model Fitting Complete                                                               \n",
      "Fold 4 Validation Score: 0.3372824626123557                                          \n",
      "--------------------------------                                                     \n",
      "                                                                                     \n",
      "\n",
      "Minimum Validation Score: 0.26058090392036826\n",
      "--------------------------------                                                     \n",
      "{'hidden_dim': 498, 'n_layers': 1, 'window_size': 5}                                  \n",
      "--------------------------------                                                      \n",
      "FOLD 0                                                                                \n",
      "--------------------------------                                                      \n",
      "Device is cuda:0.                                                                     \n",
      "\n",
      "  8%|▊         | 4/50 [2:12:42<24:38:52, 1928.97s/it, best loss: -0.26058090392036826]"
     ]
    },
    {
     "data": {
      "text/html": [
       "Finishing last run (ID:lij4de5h) before initializing another..."
      ],
      "text/plain": [
       "<IPython.core.display.HTML object>"
      ]
     },
     "metadata": {},
     "output_type": "display_data"
    },
    {
     "data": {
      "text/html": [
       "<br/>Waiting for W&B process to finish, PID 91201... <strong style=\"color:green\">(success).</strong>"
      ],
      "text/plain": [
       "<IPython.core.display.HTML object>"
      ]
     },
     "metadata": {},
     "output_type": "display_data"
    },
    {
     "data": {
      "application/vnd.jupyter.widget-view+json": {
       "model_id": "",
       "version_major": 2,
       "version_minor": 0
      },
      "text/plain": [
       "VBox(children=(Label(value=' 0.00MB of 0.00MB uploaded (0.00MB deduped)\\r'), FloatProgress(value=1.0, max=1.0)…"
      ]
     },
     "metadata": {},
     "output_type": "display_data"
    },
    {
     "data": {
      "text/html": [
       "<style>\n",
       "    table.wandb td:nth-child(1) { padding: 0 10px; text-align: right }\n",
       "    .wandb-row { display: flex; flex-direction: row; flex-wrap: wrap; width: 100% }\n",
       "    .wandb-col { display: flex; flex-direction: column; flex-basis: 100%; flex: 1; padding: 10px; }\n",
       "    </style>\n",
       "<div class=\"wandb-row\"><div class=\"wandb-col\">\n",
       "</div><div class=\"wandb-col\">\n",
       "<h3>Run summary:</h3><br/><table class=\"wandb\"><tr><td>train_accuracy</td><td>0.71985</td></tr><tr><td>train_batch_loss</td><td>1.53861</td></tr><tr><td>train_epoch_loss</td><td>1.41737</td></tr><tr><td>train_score</td><td>-0.7394</td></tr><tr><td>valid_accuracy</td><td>0.70264</td></tr><tr><td>valid_epoch_loss</td><td>1.52323</td></tr><tr><td>valid_score</td><td>-0.79021</td></tr></table>\n",
       "</div></div>\n",
       "Synced 6 W&B file(s), 0 media file(s), 0 artifact file(s) and 0 other file(s)\n",
       "<br/>Synced <strong style=\"color:#cdcd00\">comic-silence-26</strong>: <a href=\"https://wandb.ai/2djagpal/Lithology-LSTM_search_new/runs/lij4de5h\" target=\"_blank\">https://wandb.ai/2djagpal/Lithology-LSTM_search_new/runs/lij4de5h</a><br/>\n",
       "Find logs at: <code>./wandb/run-20211205_172806-lij4de5h/logs</code><br/>\n"
      ],
      "text/plain": [
       "<IPython.core.display.HTML object>"
      ]
     },
     "metadata": {},
     "output_type": "display_data"
    },
    {
     "data": {
      "text/html": [
       "Successfully finished last run (ID:lij4de5h). Initializing new run:<br/>"
      ],
      "text/plain": [
       "<IPython.core.display.HTML object>"
      ]
     },
     "metadata": {},
     "output_type": "display_data"
    },
    {
     "data": {
      "text/html": [
       "\n",
       "                    Syncing run <strong><a href=\"https://wandb.ai/2djagpal/Lithology-LSTM_search_new/runs/2agupaeo\" target=\"_blank\">denim-lake-27</a></strong> to <a href=\"https://wandb.ai/2djagpal/Lithology-LSTM_search_new\" target=\"_blank\">Weights & Biases</a> (<a href=\"https://docs.wandb.com/integrations/jupyter.html\" target=\"_blank\">docs</a>).<br/>\n",
       "\n",
       "                "
      ],
      "text/plain": [
       "<IPython.core.display.HTML object>"
      ]
     },
     "metadata": {},
     "output_type": "display_data"
    },
    {
     "name": "stdout",
     "output_type": "stream",
     "text": [
      "Loading Data ...                                                                      \n",
      "\n",
      "Starting training...                                                                  \n",
      "\n",
      "Training:                                                                             \n",
      "Epoch: 1 ... Accuracy: 0.6474699062801684 ... Score: -0.9970292062861488              \n",
      "\n",
      "Validation:                                                                           \n",
      "Epoch: 1 ... Accuracy: 0.6396628834316519 ... Score: -1.0220586664844107              \n",
      "\n",
      "Training:                                                                             \n",
      "Epoch: 2 ... Accuracy: 0.6234792953498902 ... Score: -1.0121410752577935              \n",
      "\n",
      "Validation:                                                                           \n",
      "Epoch: 2 ... Accuracy: 0.6129438751318864 ... Score: -1.0475965707402297              \n",
      "\n",
      "Training:                                                                             \n",
      "Epoch: 3 ... Accuracy: 0.6240474237725436 ... Score: -1.094849680908322               \n",
      "\n",
      "Validation:                                                                           \n",
      "Epoch: 3 ... Accuracy: 0.6115086094582299 ... Score: -1.1347045958402926              \n",
      "\n",
      "Training:                                                                             \n",
      "Epoch: 4 ... Accuracy: 0.7132788271778968 ... Score: -0.7577544991072268              \n",
      "\n",
      "Validation:                                                                           \n",
      "Epoch: 4 ... Accuracy: 0.6972956348274051 ... Score: -0.8088490963379367              \n",
      "\n",
      "Training:                                                                             \n",
      "Epoch: 5 ... Accuracy: 0.6462279262885409 ... Score: -0.9338610947364824              \n",
      "\n",
      "Validation:                                                                           \n",
      "Epoch: 5 ... Accuracy: 0.6332426325164564 ... Score: -0.9724950128789465              \n",
      "\n",
      "Class F1 Scores                                                                       \n",
      "Training:                                                                             \n",
      "[0.60402715 0.25627554 0.78246517 0.3780343  0.         0.60767213\n",
      " 0.37651708 0.94335832 0.67468431 0.39324882 0.30298903 0.13483146]\n",
      "\n",
      "Validation:                                                                           \n",
      "[0.58000966 0.2524455  0.77323898 0.3510231  0.         0.58330843\n",
      " 0.3687997  0.94594595 0.68       0.38642639 0.24615385 0.17391304]\n",
      "\n",
      "Training Runtime: 395.5954051017761                                                   \n",
      "\n",
      "Model Fitting Complete                                                                \n",
      "Fold 0 Validation Score: 0.32630651204901656                                          \n",
      "--------------------------------                                                      \n",
      "FOLD 1                                                                                \n",
      "--------------------------------                                                      \n",
      "Device is cuda:0.                                                                     \n",
      "\n",
      "  8%|▊         | 4/50 [2:19:21<24:38:52, 1928.97s/it, best loss: -0.26058090392036826]"
     ]
    },
    {
     "data": {
      "text/html": [
       "Finishing last run (ID:2agupaeo) before initializing another..."
      ],
      "text/plain": [
       "<IPython.core.display.HTML object>"
      ]
     },
     "metadata": {},
     "output_type": "display_data"
    },
    {
     "data": {
      "text/html": [
       "<br/>Waiting for W&B process to finish, PID 93392... <strong style=\"color:green\">(success).</strong>"
      ],
      "text/plain": [
       "<IPython.core.display.HTML object>"
      ]
     },
     "metadata": {},
     "output_type": "display_data"
    },
    {
     "data": {
      "application/vnd.jupyter.widget-view+json": {
       "model_id": "",
       "version_major": 2,
       "version_minor": 0
      },
      "text/plain": [
       "VBox(children=(Label(value=' 0.00MB of 0.00MB uploaded (0.00MB deduped)\\r'), FloatProgress(value=1.0, max=1.0)…"
      ]
     },
     "metadata": {},
     "output_type": "display_data"
    },
    {
     "data": {
      "text/html": [
       "<style>\n",
       "    table.wandb td:nth-child(1) { padding: 0 10px; text-align: right }\n",
       "    .wandb-row { display: flex; flex-direction: row; flex-wrap: wrap; width: 100% }\n",
       "    .wandb-col { display: flex; flex-direction: column; flex-basis: 100%; flex: 1; padding: 10px; }\n",
       "    </style>\n",
       "<div class=\"wandb-row\"><div class=\"wandb-col\">\n",
       "</div><div class=\"wandb-col\">\n",
       "<h3>Run summary:</h3><br/><table class=\"wandb\"><tr><td>train_accuracy</td><td>0.64623</td></tr><tr><td>train_batch_loss</td><td>0.68849</td></tr><tr><td>train_epoch_loss</td><td>1.2555</td></tr><tr><td>train_score</td><td>-0.93386</td></tr><tr><td>valid_accuracy</td><td>0.63324</td></tr><tr><td>valid_epoch_loss</td><td>1.34764</td></tr><tr><td>valid_score</td><td>-0.9725</td></tr></table>\n",
       "</div></div>\n",
       "Synced 6 W&B file(s), 0 media file(s), 0 artifact file(s) and 0 other file(s)\n",
       "<br/>Synced <strong style=\"color:#cdcd00\">denim-lake-27</strong>: <a href=\"https://wandb.ai/2djagpal/Lithology-LSTM_search_new/runs/2agupaeo\" target=\"_blank\">https://wandb.ai/2djagpal/Lithology-LSTM_search_new/runs/2agupaeo</a><br/>\n",
       "Find logs at: <code>./wandb/run-20211205_173545-2agupaeo/logs</code><br/>\n"
      ],
      "text/plain": [
       "<IPython.core.display.HTML object>"
      ]
     },
     "metadata": {},
     "output_type": "display_data"
    },
    {
     "data": {
      "text/html": [
       "Successfully finished last run (ID:2agupaeo). Initializing new run:<br/>"
      ],
      "text/plain": [
       "<IPython.core.display.HTML object>"
      ]
     },
     "metadata": {},
     "output_type": "display_data"
    },
    {
     "data": {
      "text/html": [
       "\n",
       "                    Syncing run <strong><a href=\"https://wandb.ai/2djagpal/Lithology-LSTM_search_new/runs/1sy1euxw\" target=\"_blank\">playful-water-28</a></strong> to <a href=\"https://wandb.ai/2djagpal/Lithology-LSTM_search_new\" target=\"_blank\">Weights & Biases</a> (<a href=\"https://docs.wandb.com/integrations/jupyter.html\" target=\"_blank\">docs</a>).<br/>\n",
       "\n",
       "                "
      ],
      "text/plain": [
       "<IPython.core.display.HTML object>"
      ]
     },
     "metadata": {},
     "output_type": "display_data"
    },
    {
     "name": "stdout",
     "output_type": "stream",
     "text": [
      "Loading Data ...                                                                      \n",
      "\n",
      "Starting training...                                                                  \n",
      "\n",
      "Training:                                                                             \n",
      "Epoch: 1 ... Accuracy: 0.592671578338098 ... Score: -1.2263717029631283               \n",
      "\n",
      "Validation:                                                                           \n",
      "Epoch: 1 ... Accuracy: 0.584074463268148 ... Score: -1.2564010559499705               \n",
      "\n",
      "Training:                                                                             \n",
      "Epoch: 2 ... Accuracy: 0.6402885918439485 ... Score: -1.0350977777872703              \n",
      "\n",
      "Validation:                                                                           \n",
      "Epoch: 2 ... Accuracy: 0.6246038051789391 ... Score: -1.087937629751134               \n",
      "\n",
      "Training:                                                                             \n",
      "Epoch: 3 ... Accuracy: 0.6981447209499267 ... Score: -0.7830676819637573              \n",
      "\n",
      "Validation:                                                                           \n",
      "Epoch: 3 ... Accuracy: 0.6822923341107723 ... Score: -0.8313139144475485              \n",
      "\n",
      "Training:                                                                             \n",
      "Epoch: 4 ... Accuracy: 0.683735419031641 ... Score: -0.8813914379293664               \n",
      "\n",
      "Validation:                                                                           \n",
      "Epoch: 4 ... Accuracy: 0.6676576876746034 ... Score: -0.9355158221629888              \n",
      "\n",
      "Training:                                                                             \n",
      "Epoch: 5 ... Accuracy: 0.6976054266885517 ... Score: -0.8177444364588551              \n",
      "\n",
      "Validation:                                                                           \n",
      "Epoch: 5 ... Accuracy: 0.6823948535253864 ... Score: -0.8678919872534194              \n",
      "\n",
      "Class F1 Scores                                                                       \n",
      "Training:                                                                             \n",
      "[0.61784189 0.23771271 0.8398237  0.27897298 0.         0.52070435\n",
      " 0.13303867 0.62170324 0.62728249 0.54036114 0.43036895 0.17391304]\n",
      "\n",
      "Validation:                                                                           \n",
      "[0.58702464 0.23774167 0.82875154 0.27347877 0.         0.49482381\n",
      " 0.1286031  0.60989457 0.60633484 0.52617989 0.32962138 0.        ]\n",
      "\n",
      "Training Runtime: 397.82093715667725                                                  \n",
      "\n",
      "Model Fitting Complete                                                                \n",
      "Fold 1 Validation Score: 0.33014530469096626                                          \n",
      "--------------------------------                                                      \n",
      "FOLD 2                                                                                \n",
      "--------------------------------                                                      \n",
      "Device is cuda:0.                                                                     \n",
      "\n",
      "  8%|▊         | 4/50 [2:26:02<24:38:52, 1928.97s/it, best loss: -0.26058090392036826]"
     ]
    },
    {
     "data": {
      "text/html": [
       "Finishing last run (ID:1sy1euxw) before initializing another..."
      ],
      "text/plain": [
       "<IPython.core.display.HTML object>"
      ]
     },
     "metadata": {},
     "output_type": "display_data"
    },
    {
     "data": {
      "text/html": [
       "<br/>Waiting for W&B process to finish, PID 95132... <strong style=\"color:green\">(success).</strong>"
      ],
      "text/plain": [
       "<IPython.core.display.HTML object>"
      ]
     },
     "metadata": {},
     "output_type": "display_data"
    },
    {
     "data": {
      "application/vnd.jupyter.widget-view+json": {
       "model_id": "",
       "version_major": 2,
       "version_minor": 0
      },
      "text/plain": [
       "VBox(children=(Label(value=' 0.00MB of 0.00MB uploaded (0.00MB deduped)\\r'), FloatProgress(value=1.0, max=1.0)…"
      ]
     },
     "metadata": {},
     "output_type": "display_data"
    },
    {
     "data": {
      "text/html": [
       "<style>\n",
       "    table.wandb td:nth-child(1) { padding: 0 10px; text-align: right }\n",
       "    .wandb-row { display: flex; flex-direction: row; flex-wrap: wrap; width: 100% }\n",
       "    .wandb-col { display: flex; flex-direction: column; flex-basis: 100%; flex: 1; padding: 10px; }\n",
       "    </style>\n",
       "<div class=\"wandb-row\"><div class=\"wandb-col\">\n",
       "</div><div class=\"wandb-col\">\n",
       "<h3>Run summary:</h3><br/><table class=\"wandb\"><tr><td>train_accuracy</td><td>0.69761</td></tr><tr><td>train_batch_loss</td><td>2.54397</td></tr><tr><td>train_epoch_loss</td><td>1.31409</td></tr><tr><td>train_score</td><td>-0.81774</td></tr><tr><td>valid_accuracy</td><td>0.68239</td></tr><tr><td>valid_epoch_loss</td><td>1.43221</td></tr><tr><td>valid_score</td><td>-0.86789</td></tr></table>\n",
       "</div></div>\n",
       "Synced 6 W&B file(s), 0 media file(s), 0 artifact file(s) and 0 other file(s)\n",
       "<br/>Synced <strong style=\"color:#cdcd00\">playful-water-28</strong>: <a href=\"https://wandb.ai/2djagpal/Lithology-LSTM_search_new/runs/1sy1euxw\" target=\"_blank\">https://wandb.ai/2djagpal/Lithology-LSTM_search_new/runs/1sy1euxw</a><br/>\n",
       "Find logs at: <code>./wandb/run-20211205_174224-1sy1euxw/logs</code><br/>\n"
      ],
      "text/plain": [
       "<IPython.core.display.HTML object>"
      ]
     },
     "metadata": {},
     "output_type": "display_data"
    },
    {
     "data": {
      "text/html": [
       "Successfully finished last run (ID:1sy1euxw). Initializing new run:<br/>"
      ],
      "text/plain": [
       "<IPython.core.display.HTML object>"
      ]
     },
     "metadata": {},
     "output_type": "display_data"
    },
    {
     "data": {
      "text/html": [
       "\n",
       "                    Syncing run <strong><a href=\"https://wandb.ai/2djagpal/Lithology-LSTM_search_new/runs/2c59iks6\" target=\"_blank\">bumbling-frost-29</a></strong> to <a href=\"https://wandb.ai/2djagpal/Lithology-LSTM_search_new\" target=\"_blank\">Weights & Biases</a> (<a href=\"https://docs.wandb.com/integrations/jupyter.html\" target=\"_blank\">docs</a>).<br/>\n",
       "\n",
       "                "
      ],
      "text/plain": [
       "<IPython.core.display.HTML object>"
      ]
     },
     "metadata": {},
     "output_type": "display_data"
    },
    {
     "name": "stdout",
     "output_type": "stream",
     "text": [
      "Loading Data ...                                                                      \n",
      "\n",
      "Starting training...                                                                  \n",
      "\n",
      "Training:                                                                             \n",
      "Epoch: 1 ... Accuracy: 0.6817149343929843 ... Score: -0.8863654930698017              \n",
      "\n",
      "Validation:                                                                           \n",
      "Epoch: 1 ... Accuracy: 0.6692510102433982 ... Score: -0.9286192557090499              \n",
      "\n",
      "Training:                                                                             \n",
      "Epoch: 2 ... Accuracy: 0.636784781009153 ... Score: -0.987091511294744                \n",
      "\n",
      "Validation:                                                                           \n",
      "Epoch: 2 ... Accuracy: 0.6261074232599465 ... Score: -1.0254467069909698              \n",
      "\n",
      "Training:                                                                             \n",
      "Epoch: 3 ... Accuracy: 0.6587719682318304 ... Score: -0.9392537075145583              \n",
      "\n",
      "Validation:                                                                           \n",
      "Epoch: 3 ... Accuracy: 0.6444840283295316 ... Score: -0.9885076804128116              \n",
      "\n",
      "Training:                                                                             \n",
      "Epoch: 4 ... Accuracy: 0.6812749557084564 ... Score: -0.818350875525545               \n",
      "\n",
      "Validation:                                                                           \n",
      "Epoch: 4 ... Accuracy: 0.6650776157401475 ... Score: -0.8643764256606095              \n",
      "\n",
      "Training:                                                                             \n",
      "Epoch: 5 ... Accuracy: 0.6794573738612081 ... Score: -0.8259422431864709              \n",
      "\n",
      "Validation:                                                                           \n",
      "Epoch: 5 ... Accuracy: 0.6648042306345098 ... Score: -0.8663563318553451              \n",
      "\n",
      "Class F1 Scores                                                                       \n",
      "Training:                                                                             \n",
      "[0.58977916 0.41201307 0.81746258 0.29601627 0.         0.41486011\n",
      " 0.53183196 0.96116719 0.7050592  0.4455974  0.37238063 0.17582418]\n",
      "\n",
      "Validation:                                                                           \n",
      "[0.54264784 0.39397745 0.81053942 0.28655863 0.         0.38729594\n",
      " 0.53013777 0.95427902 0.69230769 0.44249764 0.31383538 0.        ]\n",
      "\n",
      "Training Runtime: 397.253634929657                                                    \n",
      "\n",
      "Model Fitting Complete                                                                \n",
      "Fold 2 Validation Score: 0.41694727690485467                                          \n",
      "--------------------------------                                                      \n",
      "FOLD 3                                                                                \n",
      "--------------------------------                                                      \n",
      "Device is cuda:0.                                                                     \n",
      "\n",
      "  8%|▊         | 4/50 [2:32:43<24:38:52, 1928.97s/it, best loss: -0.26058090392036826]"
     ]
    },
    {
     "data": {
      "text/html": [
       "Finishing last run (ID:2c59iks6) before initializing another..."
      ],
      "text/plain": [
       "<IPython.core.display.HTML object>"
      ]
     },
     "metadata": {},
     "output_type": "display_data"
    },
    {
     "data": {
      "text/html": [
       "<br/>Waiting for W&B process to finish, PID 96856... <strong style=\"color:green\">(success).</strong>"
      ],
      "text/plain": [
       "<IPython.core.display.HTML object>"
      ]
     },
     "metadata": {},
     "output_type": "display_data"
    },
    {
     "data": {
      "application/vnd.jupyter.widget-view+json": {
       "model_id": "",
       "version_major": 2,
       "version_minor": 0
      },
      "text/plain": [
       "VBox(children=(Label(value=' 0.00MB of 0.00MB uploaded (0.00MB deduped)\\r'), FloatProgress(value=1.0, max=1.0)…"
      ]
     },
     "metadata": {},
     "output_type": "display_data"
    },
    {
     "data": {
      "text/html": [
       "<style>\n",
       "    table.wandb td:nth-child(1) { padding: 0 10px; text-align: right }\n",
       "    .wandb-row { display: flex; flex-direction: row; flex-wrap: wrap; width: 100% }\n",
       "    .wandb-col { display: flex; flex-direction: column; flex-basis: 100%; flex: 1; padding: 10px; }\n",
       "    </style>\n",
       "<div class=\"wandb-row\"><div class=\"wandb-col\">\n",
       "</div><div class=\"wandb-col\">\n",
       "<h3>Run summary:</h3><br/><table class=\"wandb\"><tr><td>train_accuracy</td><td>0.67946</td></tr><tr><td>train_batch_loss</td><td>2.93172</td></tr><tr><td>train_epoch_loss</td><td>1.28141</td></tr><tr><td>train_score</td><td>-0.82594</td></tr><tr><td>valid_accuracy</td><td>0.6648</td></tr><tr><td>valid_epoch_loss</td><td>1.34785</td></tr><tr><td>valid_score</td><td>-0.86636</td></tr></table>\n",
       "</div></div>\n",
       "Synced 6 W&B file(s), 0 media file(s), 0 artifact file(s) and 0 other file(s)\n",
       "<br/>Synced <strong style=\"color:#cdcd00\">bumbling-frost-29</strong>: <a href=\"https://wandb.ai/2djagpal/Lithology-LSTM_search_new/runs/2c59iks6\" target=\"_blank\">https://wandb.ai/2djagpal/Lithology-LSTM_search_new/runs/2c59iks6</a><br/>\n",
       "Find logs at: <code>./wandb/run-20211205_174905-2c59iks6/logs</code><br/>\n"
      ],
      "text/plain": [
       "<IPython.core.display.HTML object>"
      ]
     },
     "metadata": {},
     "output_type": "display_data"
    },
    {
     "data": {
      "text/html": [
       "Successfully finished last run (ID:2c59iks6). Initializing new run:<br/>"
      ],
      "text/plain": [
       "<IPython.core.display.HTML object>"
      ]
     },
     "metadata": {},
     "output_type": "display_data"
    },
    {
     "data": {
      "text/html": [
       "\n",
       "                    Syncing run <strong><a href=\"https://wandb.ai/2djagpal/Lithology-LSTM_search_new/runs/3mq43auo\" target=\"_blank\">wise-yogurt-30</a></strong> to <a href=\"https://wandb.ai/2djagpal/Lithology-LSTM_search_new\" target=\"_blank\">Weights & Biases</a> (<a href=\"https://docs.wandb.com/integrations/jupyter.html\" target=\"_blank\">docs</a>).<br/>\n",
       "\n",
       "                "
      ],
      "text/plain": [
       "<IPython.core.display.HTML object>"
      ]
     },
     "metadata": {},
     "output_type": "display_data"
    },
    {
     "name": "stdout",
     "output_type": "stream",
     "text": [
      "Loading Data ...                                                                      \n",
      "\n",
      "Starting training...                                                                  \n",
      "\n",
      "Training:                                                                             \n",
      "Epoch: 1 ... Accuracy: 0.6571604929042758 ... Score: -0.991698606057823               \n",
      "\n",
      "Validation:                                                                           \n",
      "Epoch: 1 ... Accuracy: 0.6451803060204526 ... Score: -1.0317468453921794              \n",
      "\n",
      "Training:                                                                             \n",
      "Epoch: 2 ... Accuracy: 0.6657902689957059 ... Score: -0.9507178487178145              \n",
      "\n",
      "Validation:                                                                           \n",
      "Epoch: 2 ... Accuracy: 0.6505796618567975 ... Score: -1.0015057539021452              \n",
      "\n",
      "Training:                                                                             \n",
      "Epoch: 3 ... Accuracy: 0.7068738126182043 ... Score: -0.7952834979159747              \n",
      "\n",
      "Validation:                                                                           \n",
      "Epoch: 3 ... Accuracy: 0.6927151412632101 ... Score: -0.8404306669742249              \n",
      "\n",
      "Training:                                                                             \n",
      "Epoch: 4 ... Accuracy: 0.6185352767861052 ... Score: -1.052494022376974               \n",
      "\n",
      "Validation:                                                                           \n",
      "Epoch: 4 ... Accuracy: 0.6108021289865102 ... Score: -1.0783291044074805              \n",
      "\n",
      "Training:                                                                             \n",
      "Epoch: 5 ... Accuracy: 0.6618635660272381 ... Score: -0.9273519904229882              \n",
      "\n",
      "Validation:                                                                           \n",
      "Epoch: 5 ... Accuracy: 0.6489820676457271 ... Score: -0.9683994583557595              \n",
      "\n",
      "Class F1 Scores                                                                       \n",
      "Training:                                                                             \n",
      "[0.59713962 0.30505184 0.80919144 0.35393319 0.         0.5257673\n",
      " 0.61271458 0.66403238 0.74626866 0.42562046 0.14932429 0.11363636]\n",
      "\n",
      "Validation:                                                                           \n",
      "[0.5703902  0.29723278 0.7996081  0.35417021 0.         0.50619374\n",
      " 0.62032885 0.64680851 0.66828087 0.43238866 0.1335464  0.25      ]\n",
      "\n",
      "Training Runtime: 395.29662322998047                                                  \n",
      "\n",
      "Model Fitting Complete                                                                \n",
      "Fold 3 Validation Score: 0.3416846009951014                                           \n",
      "--------------------------------                                                      \n",
      "FOLD 4                                                                                \n",
      "--------------------------------                                                      \n",
      "Device is cuda:0.                                                                     \n",
      "\n",
      "  8%|▊         | 4/50 [2:39:22<24:38:52, 1928.97s/it, best loss: -0.26058090392036826]"
     ]
    },
    {
     "data": {
      "text/html": [
       "Finishing last run (ID:3mq43auo) before initializing another..."
      ],
      "text/plain": [
       "<IPython.core.display.HTML object>"
      ]
     },
     "metadata": {},
     "output_type": "display_data"
    },
    {
     "data": {
      "text/html": [
       "<br/>Waiting for W&B process to finish, PID 98594... <strong style=\"color:green\">(success).</strong>"
      ],
      "text/plain": [
       "<IPython.core.display.HTML object>"
      ]
     },
     "metadata": {},
     "output_type": "display_data"
    },
    {
     "data": {
      "application/vnd.jupyter.widget-view+json": {
       "model_id": "",
       "version_major": 2,
       "version_minor": 0
      },
      "text/plain": [
       "VBox(children=(Label(value=' 0.00MB of 0.00MB uploaded (0.00MB deduped)\\r'), FloatProgress(value=1.0, max=1.0)…"
      ]
     },
     "metadata": {},
     "output_type": "display_data"
    },
    {
     "data": {
      "text/html": [
       "<style>\n",
       "    table.wandb td:nth-child(1) { padding: 0 10px; text-align: right }\n",
       "    .wandb-row { display: flex; flex-direction: row; flex-wrap: wrap; width: 100% }\n",
       "    .wandb-col { display: flex; flex-direction: column; flex-basis: 100%; flex: 1; padding: 10px; }\n",
       "    </style>\n",
       "<div class=\"wandb-row\"><div class=\"wandb-col\">\n",
       "</div><div class=\"wandb-col\">\n",
       "<h3>Run summary:</h3><br/><table class=\"wandb\"><tr><td>train_accuracy</td><td>0.66186</td></tr><tr><td>train_batch_loss</td><td>1.13047</td></tr><tr><td>train_epoch_loss</td><td>1.30868</td></tr><tr><td>train_score</td><td>-0.92735</td></tr><tr><td>valid_accuracy</td><td>0.64898</td></tr><tr><td>valid_epoch_loss</td><td>1.37735</td></tr><tr><td>valid_score</td><td>-0.9684</td></tr></table>\n",
       "</div></div>\n",
       "Synced 6 W&B file(s), 0 media file(s), 0 artifact file(s) and 0 other file(s)\n",
       "<br/>Synced <strong style=\"color:#cdcd00\">wise-yogurt-30</strong>: <a href=\"https://wandb.ai/2djagpal/Lithology-LSTM_search_new/runs/3mq43auo\" target=\"_blank\">https://wandb.ai/2djagpal/Lithology-LSTM_search_new/runs/3mq43auo</a><br/>\n",
       "Find logs at: <code>./wandb/run-20211205_175546-3mq43auo/logs</code><br/>\n"
      ],
      "text/plain": [
       "<IPython.core.display.HTML object>"
      ]
     },
     "metadata": {},
     "output_type": "display_data"
    },
    {
     "data": {
      "text/html": [
       "Successfully finished last run (ID:3mq43auo). Initializing new run:<br/>"
      ],
      "text/plain": [
       "<IPython.core.display.HTML object>"
      ]
     },
     "metadata": {},
     "output_type": "display_data"
    },
    {
     "data": {
      "text/html": [
       "\n",
       "                    Syncing run <strong><a href=\"https://wandb.ai/2djagpal/Lithology-LSTM_search_new/runs/3sgbplip\" target=\"_blank\">denim-sponge-31</a></strong> to <a href=\"https://wandb.ai/2djagpal/Lithology-LSTM_search_new\" target=\"_blank\">Weights & Biases</a> (<a href=\"https://docs.wandb.com/integrations/jupyter.html\" target=\"_blank\">docs</a>).<br/>\n",
       "\n",
       "                "
      ],
      "text/plain": [
       "<IPython.core.display.HTML object>"
      ]
     },
     "metadata": {},
     "output_type": "display_data"
    },
    {
     "name": "stdout",
     "output_type": "stream",
     "text": [
      "Loading Data ...                                                                      \n",
      "\n",
      "Starting training...                                                                  \n",
      "\n",
      "Training:                                                                             \n",
      "Epoch: 1 ... Accuracy: 0.5661884924215808 ... Score: -1.293943672049286               \n",
      "\n",
      "Validation:                                                                           \n",
      "Epoch: 1 ... Accuracy: 0.5580302603138803 ... Score: -1.3246143774935712              \n",
      "\n",
      "Training:                                                                             \n",
      "Epoch: 2 ... Accuracy: 0.6696283354816112 ... Score: -0.869163207530043               \n",
      "\n",
      "Validation:                                                                           \n",
      "Epoch: 2 ... Accuracy: 0.6538816413358279 ... Score: -0.9160382012968706              \n",
      "\n",
      "Training:                                                                             \n",
      "Epoch: 3 ... Accuracy: 0.6867693497179117 ... Score: -0.8462598875064208              \n",
      "\n",
      "Validation:                                                                           \n",
      "Epoch: 3 ... Accuracy: 0.6689605385686581 ... Score: -0.9009662454827383              \n",
      "\n",
      "Training:                                                                             \n",
      "Epoch: 4 ... Accuracy: 0.6992318527481047 ... Score: -0.7790866491031163              \n",
      "\n",
      "Validation:                                                                           \n",
      "Epoch: 4 ... Accuracy: 0.6818608982409378 ... Score: -0.8303597363542388              \n",
      "\n",
      "Training:                                                                             \n",
      "Epoch: 5 ... Accuracy: 0.4338542239555579 ... Score: -1.3814683274082158              \n",
      "\n",
      "Validation:                                                                           \n",
      "Epoch: 5 ... Accuracy: 0.41803572801599304 ... Score: -1.4225439124825932             \n",
      "\n",
      "Class F1 Scores                                                                       \n",
      "Training:                                                                             \n",
      "[0.65268511 0.30491304 0.45633037 0.25736492 0.         0.59644939\n",
      " 0.42887356 0.96264643 0.70197905 0.40241    0.38019114 0.09302326]\n",
      "\n",
      "Validation:                                                                           \n",
      "[0.60390027 0.29584408 0.44732447 0.24847861 0.         0.57445916\n",
      " 0.44921733 0.96106195 0.69483568 0.40406918 0.3159824  0.17391304]\n",
      "\n",
      "Training Runtime: 397.6895217895508                                                   \n",
      "\n",
      "Model Fitting Complete                                                                \n",
      "Fold 4 Validation Score: 0.28712234017121024                                          \n",
      "--------------------------------                                                      \n",
      "                                                                                      \n",
      "\n",
      "Minimum Validation Score: 0.28712234017121024\n",
      "--------------------------------                                                      \n",
      "{'hidden_dim': 278, 'n_layers': 1, 'window_size': 4}                                  \n",
      "--------------------------------                                                      \n",
      "FOLD 0                                                                                \n",
      "--------------------------------                                                      \n",
      "Device is cuda:0.                                                                     \n",
      "\n",
      " 10%|█         | 5/50 [2:46:03<24:26:03, 1954.74s/it, best loss: -0.28712234017121024]"
     ]
    },
    {
     "data": {
      "text/html": [
       "Finishing last run (ID:3sgbplip) before initializing another..."
      ],
      "text/plain": [
       "<IPython.core.display.HTML object>"
      ]
     },
     "metadata": {},
     "output_type": "display_data"
    },
    {
     "data": {
      "text/html": [
       "<br/>Waiting for W&B process to finish, PID 100385... <strong style=\"color:green\">(success).</strong>"
      ],
      "text/plain": [
       "<IPython.core.display.HTML object>"
      ]
     },
     "metadata": {},
     "output_type": "display_data"
    },
    {
     "data": {
      "application/vnd.jupyter.widget-view+json": {
       "model_id": "",
       "version_major": 2,
       "version_minor": 0
      },
      "text/plain": [
       "VBox(children=(Label(value=' 0.00MB of 0.00MB uploaded (0.00MB deduped)\\r'), FloatProgress(value=1.0, max=1.0)…"
      ]
     },
     "metadata": {},
     "output_type": "display_data"
    },
    {
     "data": {
      "text/html": [
       "<style>\n",
       "    table.wandb td:nth-child(1) { padding: 0 10px; text-align: right }\n",
       "    .wandb-row { display: flex; flex-direction: row; flex-wrap: wrap; width: 100% }\n",
       "    .wandb-col { display: flex; flex-direction: column; flex-basis: 100%; flex: 1; padding: 10px; }\n",
       "    </style>\n",
       "<div class=\"wandb-row\"><div class=\"wandb-col\">\n",
       "</div><div class=\"wandb-col\">\n",
       "<h3>Run summary:</h3><br/><table class=\"wandb\"><tr><td>train_accuracy</td><td>0.43385</td></tr><tr><td>train_batch_loss</td><td>0.94462</td></tr><tr><td>train_epoch_loss</td><td>1.41616</td></tr><tr><td>train_score</td><td>-1.38147</td></tr><tr><td>valid_accuracy</td><td>0.41804</td></tr><tr><td>valid_epoch_loss</td><td>1.50343</td></tr><tr><td>valid_score</td><td>-1.42254</td></tr></table>\n",
       "</div></div>\n",
       "Synced 6 W&B file(s), 0 media file(s), 0 artifact file(s) and 0 other file(s)\n",
       "<br/>Synced <strong style=\"color:#cdcd00\">denim-sponge-31</strong>: <a href=\"https://wandb.ai/2djagpal/Lithology-LSTM_search_new/runs/3sgbplip\" target=\"_blank\">https://wandb.ai/2djagpal/Lithology-LSTM_search_new/runs/3sgbplip</a><br/>\n",
       "Find logs at: <code>./wandb/run-20211205_180224-3sgbplip/logs</code><br/>\n"
      ],
      "text/plain": [
       "<IPython.core.display.HTML object>"
      ]
     },
     "metadata": {},
     "output_type": "display_data"
    },
    {
     "data": {
      "text/html": [
       "Successfully finished last run (ID:3sgbplip). Initializing new run:<br/>"
      ],
      "text/plain": [
       "<IPython.core.display.HTML object>"
      ]
     },
     "metadata": {},
     "output_type": "display_data"
    },
    {
     "data": {
      "text/html": [
       "\n",
       "                    Syncing run <strong><a href=\"https://wandb.ai/2djagpal/Lithology-LSTM_search_new/runs/37ynq065\" target=\"_blank\">glamorous-wave-32</a></strong> to <a href=\"https://wandb.ai/2djagpal/Lithology-LSTM_search_new\" target=\"_blank\">Weights & Biases</a> (<a href=\"https://docs.wandb.com/integrations/jupyter.html\" target=\"_blank\">docs</a>).<br/>\n",
       "\n",
       "                "
      ],
      "text/plain": [
       "<IPython.core.display.HTML object>"
      ]
     },
     "metadata": {},
     "output_type": "display_data"
    },
    {
     "name": "stdout",
     "output_type": "stream",
     "text": [
      "Loading Data ...                                                                      \n",
      "\n",
      "Starting training...                                                                  \n",
      "\n",
      "Training:                                                                             \n",
      "Epoch: 1 ... Accuracy: 0.677135393973567 ... Score: -0.8817921781958292               \n",
      "\n",
      "Validation:                                                                           \n",
      "Epoch: 1 ... Accuracy: 0.6648868233213585 ... Score: -0.9195370200296451              \n",
      "\n",
      "Training:                                                                             \n",
      "Epoch: 2 ... Accuracy: 0.5767913131882684 ... Score: -1.0312673535467445              \n",
      "\n",
      "Validation:                                                                           \n",
      "Epoch: 2 ... Accuracy: 0.5609582107021268 ... Score: -1.0745478485965578              \n",
      "\n",
      "Training:                                                                             \n",
      "Epoch: 3 ... Accuracy: 0.7093435767315102 ... Score: -0.7666822314632084              \n",
      "\n",
      "Validation:                                                                           \n",
      "Epoch: 3 ... Accuracy: 0.6924644280509007 ... Score: -0.816651751579433               \n",
      "\n",
      "Training:                                                                             \n",
      "Epoch: 4 ... Accuracy: 0.705498030772911 ... Score: -0.7989730438014199               \n",
      "\n",
      "Validation:                                                                           \n",
      "Epoch: 4 ... Accuracy: 0.6911444962260201 ... Score: -0.8440467443817465              \n",
      "\n",
      "Training:                                                                             \n",
      "Epoch: 5 ... Accuracy: 0.7116150225115548 ... Score: -0.7572289536185082              \n",
      "\n",
      "Validation:                                                                           \n",
      "Epoch: 5 ... Accuracy: 0.6951769093091502 ... Score: -0.806930603196029               \n",
      "\n",
      "Class F1 Scores                                                                       \n",
      "Training:                                                                             \n",
      "[0.65342652 0.38960522 0.84154549 0.1068463  0.         0.50242588\n",
      " 0.57803095 0.94297897 0.64752333 0.40781697 0.35980191 0.15555556]\n",
      "\n",
      "Validation:                                                                           \n",
      "[0.6168596  0.37825311 0.83038806 0.10164504 0.         0.47722552\n",
      " 0.5722355  0.94721578 0.67806268 0.39046711 0.27182472 0.09090909]\n",
      "\n",
      "Training Runtime: 385.29773473739624                                                  \n",
      "\n",
      "Model Fitting Complete                                                                \n",
      "Fold 0 Validation Score: 0.2676390267848528                                           \n",
      "********************************                                                      \n",
      "F1 Score too low ... stopped early.                                                   \n",
      "********************************                                                      \n",
      "{'hidden_dim': 221, 'n_layers': 2, 'window_size': 8}                                  \n",
      "--------------------------------                                                      \n",
      "FOLD 0                                                                                \n",
      "--------------------------------                                                      \n",
      "Device is cuda:0.                                                                     \n",
      "\n",
      " 12%|█▏        | 6/50 [2:52:31<17:22:59, 1422.26s/it, best loss: -0.28712234017121024]"
     ]
    },
    {
     "data": {
      "text/html": [
       "Finishing last run (ID:37ynq065) before initializing another..."
      ],
      "text/plain": [
       "<IPython.core.display.HTML object>"
      ]
     },
     "metadata": {},
     "output_type": "display_data"
    },
    {
     "data": {
      "text/html": [
       "<br/>Waiting for W&B process to finish, PID 102337... <strong style=\"color:green\">(success).</strong>"
      ],
      "text/plain": [
       "<IPython.core.display.HTML object>"
      ]
     },
     "metadata": {},
     "output_type": "display_data"
    },
    {
     "data": {
      "application/vnd.jupyter.widget-view+json": {
       "model_id": "",
       "version_major": 2,
       "version_minor": 0
      },
      "text/plain": [
       "VBox(children=(Label(value=' 0.00MB of 0.00MB uploaded (0.00MB deduped)\\r'), FloatProgress(value=1.0, max=1.0)…"
      ]
     },
     "metadata": {},
     "output_type": "display_data"
    },
    {
     "data": {
      "text/html": [
       "<style>\n",
       "    table.wandb td:nth-child(1) { padding: 0 10px; text-align: right }\n",
       "    .wandb-row { display: flex; flex-direction: row; flex-wrap: wrap; width: 100% }\n",
       "    .wandb-col { display: flex; flex-direction: column; flex-basis: 100%; flex: 1; padding: 10px; }\n",
       "    </style>\n",
       "<div class=\"wandb-row\"><div class=\"wandb-col\">\n",
       "</div><div class=\"wandb-col\">\n",
       "<h3>Run summary:</h3><br/><table class=\"wandb\"><tr><td>train_accuracy</td><td>0.71162</td></tr><tr><td>train_batch_loss</td><td>0.67705</td></tr><tr><td>train_epoch_loss</td><td>1.40922</td></tr><tr><td>train_score</td><td>-0.75723</td></tr><tr><td>valid_accuracy</td><td>0.69518</td></tr><tr><td>valid_epoch_loss</td><td>1.51727</td></tr><tr><td>valid_score</td><td>-0.80693</td></tr></table>\n",
       "</div></div>\n",
       "Synced 6 W&B file(s), 0 media file(s), 0 artifact file(s) and 0 other file(s)\n",
       "<br/>Synced <strong style=\"color:#cdcd00\">glamorous-wave-32</strong>: <a href=\"https://wandb.ai/2djagpal/Lithology-LSTM_search_new/runs/37ynq065\" target=\"_blank\">https://wandb.ai/2djagpal/Lithology-LSTM_search_new/runs/37ynq065</a><br/>\n",
       "Find logs at: <code>./wandb/run-20211205_180905-37ynq065/logs</code><br/>\n"
      ],
      "text/plain": [
       "<IPython.core.display.HTML object>"
      ]
     },
     "metadata": {},
     "output_type": "display_data"
    },
    {
     "data": {
      "text/html": [
       "Successfully finished last run (ID:37ynq065). Initializing new run:<br/>"
      ],
      "text/plain": [
       "<IPython.core.display.HTML object>"
      ]
     },
     "metadata": {},
     "output_type": "display_data"
    },
    {
     "data": {
      "text/html": [
       "\n",
       "                    Syncing run <strong><a href=\"https://wandb.ai/2djagpal/Lithology-LSTM_search_new/runs/2yourrop\" target=\"_blank\">confused-lion-33</a></strong> to <a href=\"https://wandb.ai/2djagpal/Lithology-LSTM_search_new\" target=\"_blank\">Weights & Biases</a> (<a href=\"https://docs.wandb.com/integrations/jupyter.html\" target=\"_blank\">docs</a>).<br/>\n",
       "\n",
       "                "
      ],
      "text/plain": [
       "<IPython.core.display.HTML object>"
      ]
     },
     "metadata": {},
     "output_type": "display_data"
    },
    {
     "name": "stdout",
     "output_type": "stream",
     "text": [
      "Loading Data ...                                                                      \n",
      "\n",
      "Starting training...                                                                  \n",
      "\n",
      "Training:                                                                             \n",
      "Epoch: 1 ... Accuracy: 0.5516932789980435 ... Score: -1.1700795753560413              \n",
      "\n",
      "Validation:                                                                           \n",
      "Epoch: 1 ... Accuracy: 0.5501082856691285 ... Score: -1.1750741126768987              \n",
      "\n",
      "Training:                                                                             \n",
      "Epoch: 2 ... Accuracy: 0.7051926083502064 ... Score: -0.7763034382448676              \n",
      "\n",
      "Validation:                                                                           \n",
      "Epoch: 2 ... Accuracy: 0.685817781062182 ... Score: -0.8345322358107329               \n",
      "\n",
      "Training:                                                                             \n",
      "Epoch: 3 ... Accuracy: 0.6792381098837259 ... Score: -0.8429630833995437              \n",
      "\n",
      "Validation:                                                                           \n",
      "Epoch: 3 ... Accuracy: 0.6641521039884154 ... Score: -0.8888859818114249              \n",
      "\n",
      "Training:                                                                             \n",
      "Epoch: 4 ... Accuracy: 0.6613046877002332 ... Score: -0.9057487494767238              \n",
      "\n",
      "Validation:                                                                           \n",
      "Epoch: 4 ... Accuracy: 0.6493979145931492 ... Score: -0.9469127905238293              \n",
      "\n",
      "Training:                                                                             \n",
      "Epoch: 5 ... Accuracy: 0.714203637730562 ... Score: -0.7420126963887537               \n",
      "\n",
      "Validation:                                                                           \n",
      "Epoch: 5 ... Accuracy: 0.6943140412553449 ... Score: -0.8038000367359667              \n",
      "\n",
      "Class F1 Scores                                                                       \n",
      "Training:                                                                             \n",
      "[0.65985238 0.3686539  0.84120305 0.29632931 0.         0.54760254\n",
      " 0.11122278 0.96255098 0.65960452 0.50675347 0.54121965 0.04761905]\n",
      "\n",
      "Validation:                                                                           \n",
      "[0.61125723 0.34838479 0.83119656 0.29261886 0.         0.500686\n",
      " 0.1025641  0.95760451 0.63387978 0.48384322 0.4376392  0.        ]\n",
      "\n",
      "Training Runtime: 405.85027599334717                                                  \n",
      "\n",
      "Model Fitting Complete                                                                \n",
      "Fold 0 Validation Score: 0.32810728861087973                                          \n",
      "--------------------------------                                                      \n",
      "FOLD 1                                                                                \n",
      "--------------------------------                                                      \n",
      "Device is cuda:0.                                                                     \n",
      "\n",
      " 12%|█▏        | 6/50 [2:59:20<17:22:59, 1422.26s/it, best loss: -0.28712234017121024]"
     ]
    },
    {
     "data": {
      "text/html": [
       "Finishing last run (ID:2yourrop) before initializing another..."
      ],
      "text/plain": [
       "<IPython.core.display.HTML object>"
      ]
     },
     "metadata": {},
     "output_type": "display_data"
    },
    {
     "data": {
      "text/html": [
       "<br/>Waiting for W&B process to finish, PID 104132... <strong style=\"color:green\">(success).</strong>"
      ],
      "text/plain": [
       "<IPython.core.display.HTML object>"
      ]
     },
     "metadata": {},
     "output_type": "display_data"
    },
    {
     "data": {
      "application/vnd.jupyter.widget-view+json": {
       "model_id": "",
       "version_major": 2,
       "version_minor": 0
      },
      "text/plain": [
       "VBox(children=(Label(value=' 0.00MB of 0.00MB uploaded (0.00MB deduped)\\r'), FloatProgress(value=1.0, max=1.0)…"
      ]
     },
     "metadata": {},
     "output_type": "display_data"
    },
    {
     "data": {
      "text/html": [
       "<style>\n",
       "    table.wandb td:nth-child(1) { padding: 0 10px; text-align: right }\n",
       "    .wandb-row { display: flex; flex-direction: row; flex-wrap: wrap; width: 100% }\n",
       "    .wandb-col { display: flex; flex-direction: column; flex-basis: 100%; flex: 1; padding: 10px; }\n",
       "    </style>\n",
       "<div class=\"wandb-row\"><div class=\"wandb-col\">\n",
       "</div><div class=\"wandb-col\">\n",
       "<h3>Run summary:</h3><br/><table class=\"wandb\"><tr><td>train_accuracy</td><td>0.7142</td></tr><tr><td>train_batch_loss</td><td>1.68464</td></tr><tr><td>train_epoch_loss</td><td>1.30445</td></tr><tr><td>train_score</td><td>-0.74201</td></tr><tr><td>valid_accuracy</td><td>0.69431</td></tr><tr><td>valid_epoch_loss</td><td>1.4367</td></tr><tr><td>valid_score</td><td>-0.8038</td></tr></table>\n",
       "</div></div>\n",
       "Synced 6 W&B file(s), 0 media file(s), 0 artifact file(s) and 0 other file(s)\n",
       "<br/>Synced <strong style=\"color:#cdcd00\">confused-lion-33</strong>: <a href=\"https://wandb.ai/2djagpal/Lithology-LSTM_search_new/runs/2yourrop\" target=\"_blank\">https://wandb.ai/2djagpal/Lithology-LSTM_search_new/runs/2yourrop</a><br/>\n",
       "Find logs at: <code>./wandb/run-20211205_181534-2yourrop/logs</code><br/>\n"
      ],
      "text/plain": [
       "<IPython.core.display.HTML object>"
      ]
     },
     "metadata": {},
     "output_type": "display_data"
    },
    {
     "data": {
      "text/html": [
       "Successfully finished last run (ID:2yourrop). Initializing new run:<br/>"
      ],
      "text/plain": [
       "<IPython.core.display.HTML object>"
      ]
     },
     "metadata": {},
     "output_type": "display_data"
    },
    {
     "data": {
      "text/html": [
       "\n",
       "                    Syncing run <strong><a href=\"https://wandb.ai/2djagpal/Lithology-LSTM_search_new/runs/11hpyl60\" target=\"_blank\">fresh-pine-34</a></strong> to <a href=\"https://wandb.ai/2djagpal/Lithology-LSTM_search_new\" target=\"_blank\">Weights & Biases</a> (<a href=\"https://docs.wandb.com/integrations/jupyter.html\" target=\"_blank\">docs</a>).<br/>\n",
       "\n",
       "                "
      ],
      "text/plain": [
       "<IPython.core.display.HTML object>"
      ]
     },
     "metadata": {},
     "output_type": "display_data"
    },
    {
     "name": "stdout",
     "output_type": "stream",
     "text": [
      "Loading Data ...                                                                      \n",
      "\n",
      "Starting training...                                                                  \n",
      "\n",
      "Training:                                                                             \n",
      "Epoch: 1 ... Accuracy: 0.5724688677703866 ... Score: -1.165861551950056               \n",
      "\n",
      "Validation:                                                                           \n",
      "Epoch: 1 ... Accuracy: 0.5639849296460517 ... Score: -1.193980081332069               \n",
      "\n",
      "Training:                                                                             \n",
      "Epoch: 2 ... Accuracy: 0.6598665753960075 ... Score: -0.9196886723643194              \n",
      "\n",
      "Validation:                                                                           \n",
      "Epoch: 2 ... Accuracy: 0.6420705504438237 ... Score: -0.9759848271266371              \n",
      "\n",
      "Training:                                                                             \n",
      "Epoch: 3 ... Accuracy: 0.6279147252963182 ... Score: -0.9886852326280503              \n",
      "\n",
      "Validation:                                                                           \n",
      "Epoch: 3 ... Accuracy: 0.6121904127260767 ... Score: -1.0353478398305012              \n",
      "\n",
      "Training:                                                                             \n",
      "Epoch: 4 ... Accuracy: 0.6363480060529106 ... Score: -0.9066492312653979              \n",
      "\n",
      "Validation:                                                                           \n",
      "Epoch: 4 ... Accuracy: 0.6167311684650281 ... Score: -0.9597445771501312              \n",
      "\n",
      "Training:                                                                             \n",
      "Epoch: 5 ... Accuracy: 0.6552222372916108 ... Score: -0.9520098856375793              \n",
      "\n",
      "Validation:                                                                           \n",
      "Epoch: 5 ... Accuracy: 0.6382559738917224 ... Score: -1.0043538713893945              \n",
      "\n",
      "Class F1 Scores                                                                       \n",
      "Training:                                                                             \n",
      "[0.58654794 0.3091355  0.79836111 0.32725529 0.         0.53669799\n",
      " 0.30956653 0.94388238 0.39897113 0.45777041 0.17126005 0.        ]\n",
      "\n",
      "Validation:                                                                           \n",
      "[0.55778305 0.29555209 0.78604568 0.31007352 0.         0.51610029\n",
      " 0.29438893 0.94904271 0.41900122 0.43996394 0.15058179 0.        ]\n",
      "\n",
      "Training Runtime: 406.6513481140137                                                   \n",
      "\n",
      "Model Fitting Complete                                                                \n",
      "Fold 1 Validation Score: 0.2949221688814545                                           \n",
      "--------------------------------                                                      \n",
      "FOLD 2                                                                                \n",
      "--------------------------------                                                      \n",
      "Device is cuda:0.                                                                     \n",
      "\n",
      " 12%|█▏        | 6/50 [3:06:10<17:22:59, 1422.26s/it, best loss: -0.28712234017121024]"
     ]
    },
    {
     "data": {
      "text/html": [
       "Finishing last run (ID:11hpyl60) before initializing another..."
      ],
      "text/plain": [
       "<IPython.core.display.HTML object>"
      ]
     },
     "metadata": {},
     "output_type": "display_data"
    },
    {
     "data": {
      "text/html": [
       "<br/>Waiting for W&B process to finish, PID 106036... <strong style=\"color:green\">(success).</strong>"
      ],
      "text/plain": [
       "<IPython.core.display.HTML object>"
      ]
     },
     "metadata": {},
     "output_type": "display_data"
    },
    {
     "data": {
      "application/vnd.jupyter.widget-view+json": {
       "model_id": "",
       "version_major": 2,
       "version_minor": 0
      },
      "text/plain": [
       "VBox(children=(Label(value=' 0.00MB of 0.00MB uploaded (0.00MB deduped)\\r'), FloatProgress(value=1.0, max=1.0)…"
      ]
     },
     "metadata": {},
     "output_type": "display_data"
    },
    {
     "data": {
      "text/html": [
       "<style>\n",
       "    table.wandb td:nth-child(1) { padding: 0 10px; text-align: right }\n",
       "    .wandb-row { display: flex; flex-direction: row; flex-wrap: wrap; width: 100% }\n",
       "    .wandb-col { display: flex; flex-direction: column; flex-basis: 100%; flex: 1; padding: 10px; }\n",
       "    </style>\n",
       "<div class=\"wandb-row\"><div class=\"wandb-col\">\n",
       "</div><div class=\"wandb-col\">\n",
       "<h3>Run summary:</h3><br/><table class=\"wandb\"><tr><td>train_accuracy</td><td>0.65522</td></tr><tr><td>train_batch_loss</td><td>2.8576</td></tr><tr><td>train_epoch_loss</td><td>1.24167</td></tr><tr><td>train_score</td><td>-0.95201</td></tr><tr><td>valid_accuracy</td><td>0.63826</td></tr><tr><td>valid_epoch_loss</td><td>1.32019</td></tr><tr><td>valid_score</td><td>-1.00435</td></tr></table>\n",
       "</div></div>\n",
       "Synced 6 W&B file(s), 0 media file(s), 0 artifact file(s) and 0 other file(s)\n",
       "<br/>Synced <strong style=\"color:#cdcd00\">fresh-pine-34</strong>: <a href=\"https://wandb.ai/2djagpal/Lithology-LSTM_search_new/runs/11hpyl60\" target=\"_blank\">https://wandb.ai/2djagpal/Lithology-LSTM_search_new/runs/11hpyl60</a><br/>\n",
       "Find logs at: <code>./wandb/run-20211205_182223-11hpyl60/logs</code><br/>\n"
      ],
      "text/plain": [
       "<IPython.core.display.HTML object>"
      ]
     },
     "metadata": {},
     "output_type": "display_data"
    },
    {
     "data": {
      "text/html": [
       "Successfully finished last run (ID:11hpyl60). Initializing new run:<br/>"
      ],
      "text/plain": [
       "<IPython.core.display.HTML object>"
      ]
     },
     "metadata": {},
     "output_type": "display_data"
    },
    {
     "data": {
      "text/html": [
       "\n",
       "                    Syncing run <strong><a href=\"https://wandb.ai/2djagpal/Lithology-LSTM_search_new/runs/1mop4rnc\" target=\"_blank\">silver-sunset-35</a></strong> to <a href=\"https://wandb.ai/2djagpal/Lithology-LSTM_search_new\" target=\"_blank\">Weights & Biases</a> (<a href=\"https://docs.wandb.com/integrations/jupyter.html\" target=\"_blank\">docs</a>).<br/>\n",
       "\n",
       "                "
      ],
      "text/plain": [
       "<IPython.core.display.HTML object>"
      ]
     },
     "metadata": {},
     "output_type": "display_data"
    },
    {
     "name": "stdout",
     "output_type": "stream",
     "text": [
      "Loading Data ...                                                                      \n",
      "\n",
      "Starting training...                                                                  \n",
      "\n",
      "Training:                                                                             \n",
      "Epoch: 1 ... Accuracy: 0.608047338289145 ... Score: -1.1669916671027296               \n",
      "\n",
      "Validation:                                                                           \n",
      "Epoch: 1 ... Accuracy: 0.5934336314939642 ... Score: -1.2141016522712322              \n",
      "\n",
      "Training:                                                                             \n",
      "Epoch: 2 ... Accuracy: 0.5248379714419661 ... Score: -1.3263457794617524              \n",
      "\n",
      "Validation:                                                                           \n",
      "Epoch: 2 ... Accuracy: 0.5137504164851219 ... Score: -1.3655714175872056              \n",
      "\n",
      "Training:                                                                             \n",
      "Epoch: 3 ... Accuracy: 0.6996931896212019 ... Score: -0.8048535682591688              \n",
      "\n",
      "Validation:                                                                           \n",
      "Epoch: 3 ... Accuracy: 0.678477757558671 ... Score: -0.8695680728913038               \n",
      "\n",
      "Training:                                                                             \n",
      "Epoch: 4 ... Accuracy: 0.7190276898235707 ... Score: -0.7356781331661699              \n",
      "\n",
      "Validation:                                                                           \n",
      "Epoch: 4 ... Accuracy: 0.7003015779446566 ... Score: -0.7925161895242245              \n",
      "\n",
      "Training:                                                                             \n",
      "Epoch: 5 ... Accuracy: 0.714972837723687 ... Score: -0.7594329774703148               \n",
      "\n",
      "Validation:                                                                           \n",
      "Epoch: 5 ... Accuracy: 0.6988748494246098 ... Score: -0.8102365635492221              \n",
      "\n",
      "Class F1 Scores                                                                       \n",
      "Training:                                                                             \n",
      "[0.63220965 0.1640364  0.84449708 0.29176765 0.         0.55529555\n",
      " 0.01600377 0.63532224 0.69032627 0.4550749  0.29612078 0.        ]\n",
      "\n",
      "Validation:                                                                           \n",
      "[0.58796129 0.15714286 0.83430159 0.28419738 0.         0.5282853\n",
      " 0.0262541  0.63045202 0.65491184 0.41873331 0.24822881 0.        ]\n",
      "\n",
      "Training Runtime: 404.3269896507263                                                   \n",
      "\n",
      "Model Fitting Complete                                                                \n",
      "Fold 2 Validation Score: 0.37003042246697687                                          \n",
      "--------------------------------                                                      \n",
      "FOLD 3                                                                                \n",
      "--------------------------------                                                      \n",
      "Device is cuda:0.                                                                     \n",
      "\n",
      " 12%|█▏        | 6/50 [3:12:58<17:22:59, 1422.26s/it, best loss: -0.28712234017121024]"
     ]
    },
    {
     "data": {
      "text/html": [
       "Finishing last run (ID:1mop4rnc) before initializing another..."
      ],
      "text/plain": [
       "<IPython.core.display.HTML object>"
      ]
     },
     "metadata": {},
     "output_type": "display_data"
    },
    {
     "data": {
      "text/html": [
       "<br/>Waiting for W&B process to finish, PID 107930... <strong style=\"color:green\">(success).</strong>"
      ],
      "text/plain": [
       "<IPython.core.display.HTML object>"
      ]
     },
     "metadata": {},
     "output_type": "display_data"
    },
    {
     "data": {
      "application/vnd.jupyter.widget-view+json": {
       "model_id": "",
       "version_major": 2,
       "version_minor": 0
      },
      "text/plain": [
       "VBox(children=(Label(value=' 0.00MB of 0.00MB uploaded (0.00MB deduped)\\r'), FloatProgress(value=1.0, max=1.0)…"
      ]
     },
     "metadata": {},
     "output_type": "display_data"
    },
    {
     "data": {
      "text/html": [
       "<style>\n",
       "    table.wandb td:nth-child(1) { padding: 0 10px; text-align: right }\n",
       "    .wandb-row { display: flex; flex-direction: row; flex-wrap: wrap; width: 100% }\n",
       "    .wandb-col { display: flex; flex-direction: column; flex-basis: 100%; flex: 1; padding: 10px; }\n",
       "    </style>\n",
       "<div class=\"wandb-row\"><div class=\"wandb-col\">\n",
       "</div><div class=\"wandb-col\">\n",
       "<h3>Run summary:</h3><br/><table class=\"wandb\"><tr><td>train_accuracy</td><td>0.71497</td></tr><tr><td>train_batch_loss</td><td>0.48753</td></tr><tr><td>train_epoch_loss</td><td>1.39308</td></tr><tr><td>train_score</td><td>-0.75943</td></tr><tr><td>valid_accuracy</td><td>0.69887</td></tr><tr><td>valid_epoch_loss</td><td>1.45891</td></tr><tr><td>valid_score</td><td>-0.81024</td></tr></table>\n",
       "</div></div>\n",
       "Synced 6 W&B file(s), 0 media file(s), 0 artifact file(s) and 0 other file(s)\n",
       "<br/>Synced <strong style=\"color:#cdcd00\">silver-sunset-35</strong>: <a href=\"https://wandb.ai/2djagpal/Lithology-LSTM_search_new/runs/1mop4rnc\" target=\"_blank\">https://wandb.ai/2djagpal/Lithology-LSTM_search_new/runs/1mop4rnc</a><br/>\n",
       "Find logs at: <code>./wandb/run-20211205_182913-1mop4rnc/logs</code><br/>\n"
      ],
      "text/plain": [
       "<IPython.core.display.HTML object>"
      ]
     },
     "metadata": {},
     "output_type": "display_data"
    },
    {
     "data": {
      "text/html": [
       "Successfully finished last run (ID:1mop4rnc). Initializing new run:<br/>"
      ],
      "text/plain": [
       "<IPython.core.display.HTML object>"
      ]
     },
     "metadata": {},
     "output_type": "display_data"
    },
    {
     "data": {
      "text/html": [
       "\n",
       "                    Syncing run <strong><a href=\"https://wandb.ai/2djagpal/Lithology-LSTM_search_new/runs/1v7qauwm\" target=\"_blank\">tough-thunder-36</a></strong> to <a href=\"https://wandb.ai/2djagpal/Lithology-LSTM_search_new\" target=\"_blank\">Weights & Biases</a> (<a href=\"https://docs.wandb.com/integrations/jupyter.html\" target=\"_blank\">docs</a>).<br/>\n",
       "\n",
       "                "
      ],
      "text/plain": [
       "<IPython.core.display.HTML object>"
      ]
     },
     "metadata": {},
     "output_type": "display_data"
    },
    {
     "name": "stdout",
     "output_type": "stream",
     "text": [
      "Loading Data ...                                                                      \n",
      "\n",
      "Starting training...                                                                  \n",
      "\n",
      "Training:                                                                             \n",
      "Epoch: 1 ... Accuracy: 0.5656855070807735 ... Score: -1.2308482457985774              \n",
      "\n",
      "Validation:                                                                           \n",
      "Epoch: 1 ... Accuracy: 0.557252821419723 ... Score: -1.2630301108064006               \n",
      "\n",
      "Training:                                                                             \n",
      "Epoch: 2 ... Accuracy: 0.6317068716767994 ... Score: -1.0104526974858208              \n",
      "\n",
      "Validation:                                                                           \n",
      "Epoch: 2 ... Accuracy: 0.6177008312615868 ... Score: -1.0541660259203254              \n",
      "\n",
      "Training:                                                                             \n",
      "Epoch: 3 ... Accuracy: 0.7065331495105237 ... Score: -0.7854859628645176              \n",
      "\n",
      "Validation:                                                                           \n",
      "Epoch: 3 ... Accuracy: 0.6892337528086048 ... Score: -0.8405572143766392              \n",
      "\n",
      "Training:                                                                             \n",
      "Epoch: 4 ... Accuracy: 0.4974471625112531 ... Score: -1.2372235315978382              \n",
      "\n",
      "Validation:                                                                           \n",
      "Epoch: 4 ... Accuracy: 0.47508778224876336 ... Score: -1.2943145509222476             \n",
      "\n",
      "Training:                                                                             \n",
      "Epoch: 5 ... Accuracy: 0.6246543978112128 ... Score: -0.9680430773305254              \n",
      "\n",
      "Validation:                                                                           \n",
      "Epoch: 5 ... Accuracy: 0.6107594125637542 ... Score: -1.011013361697038               \n",
      "\n",
      "Class F1 Scores                                                                       \n",
      "Training:                                                                             \n",
      "[0.59204899 0.31726832 0.76435189 0.25774138 0.         0.5872964\n",
      " 0.36122331 0.65692589 0.64118896 0.49613574 0.45324675 0.        ]\n",
      "\n",
      "Validation:                                                                           \n",
      "[0.57109687 0.30255859 0.75481695 0.25094028 0.         0.56014407\n",
      " 0.37590545 0.6501713  0.61802575 0.48444806 0.3147884  0.        ]\n",
      "\n",
      "Training Runtime: 405.5976541042328                                                   \n",
      "\n",
      "Model Fitting Complete                                                                \n",
      "Fold 3 Validation Score: 0.3262466965757676                                           \n",
      "--------------------------------                                                      \n",
      "FOLD 4                                                                                \n",
      "--------------------------------                                                      \n",
      "Device is cuda:0.                                                                     \n",
      "\n",
      " 12%|█▏        | 6/50 [3:19:47<17:22:59, 1422.26s/it, best loss: -0.28712234017121024]"
     ]
    },
    {
     "data": {
      "text/html": [
       "Finishing last run (ID:1v7qauwm) before initializing another..."
      ],
      "text/plain": [
       "<IPython.core.display.HTML object>"
      ]
     },
     "metadata": {},
     "output_type": "display_data"
    },
    {
     "data": {
      "text/html": [
       "<br/>Waiting for W&B process to finish, PID 109799... <strong style=\"color:green\">(success).</strong>"
      ],
      "text/plain": [
       "<IPython.core.display.HTML object>"
      ]
     },
     "metadata": {},
     "output_type": "display_data"
    },
    {
     "data": {
      "application/vnd.jupyter.widget-view+json": {
       "model_id": "",
       "version_major": 2,
       "version_minor": 0
      },
      "text/plain": [
       "VBox(children=(Label(value=' 0.00MB of 0.00MB uploaded (0.00MB deduped)\\r'), FloatProgress(value=1.0, max=1.0)…"
      ]
     },
     "metadata": {},
     "output_type": "display_data"
    },
    {
     "data": {
      "text/html": [
       "<style>\n",
       "    table.wandb td:nth-child(1) { padding: 0 10px; text-align: right }\n",
       "    .wandb-row { display: flex; flex-direction: row; flex-wrap: wrap; width: 100% }\n",
       "    .wandb-col { display: flex; flex-direction: column; flex-basis: 100%; flex: 1; padding: 10px; }\n",
       "    </style>\n",
       "<div class=\"wandb-row\"><div class=\"wandb-col\">\n",
       "</div><div class=\"wandb-col\">\n",
       "<h3>Run summary:</h3><br/><table class=\"wandb\"><tr><td>train_accuracy</td><td>0.62465</td></tr><tr><td>train_batch_loss</td><td>1.52441</td></tr><tr><td>train_epoch_loss</td><td>1.29166</td></tr><tr><td>train_score</td><td>-0.96804</td></tr><tr><td>valid_accuracy</td><td>0.61076</td></tr><tr><td>valid_epoch_loss</td><td>1.40363</td></tr><tr><td>valid_score</td><td>-1.01101</td></tr></table>\n",
       "</div></div>\n",
       "Synced 6 W&B file(s), 0 media file(s), 0 artifact file(s) and 0 other file(s)\n",
       "<br/>Synced <strong style=\"color:#cdcd00\">tough-thunder-36</strong>: <a href=\"https://wandb.ai/2djagpal/Lithology-LSTM_search_new/runs/1v7qauwm\" target=\"_blank\">https://wandb.ai/2djagpal/Lithology-LSTM_search_new/runs/1v7qauwm</a><br/>\n",
       "Find logs at: <code>./wandb/run-20211205_183601-1v7qauwm/logs</code><br/>\n"
      ],
      "text/plain": [
       "<IPython.core.display.HTML object>"
      ]
     },
     "metadata": {},
     "output_type": "display_data"
    },
    {
     "data": {
      "text/html": [
       "Successfully finished last run (ID:1v7qauwm). Initializing new run:<br/>"
      ],
      "text/plain": [
       "<IPython.core.display.HTML object>"
      ]
     },
     "metadata": {},
     "output_type": "display_data"
    },
    {
     "data": {
      "text/html": [
       "\n",
       "                    Syncing run <strong><a href=\"https://wandb.ai/2djagpal/Lithology-LSTM_search_new/runs/3gp7030e\" target=\"_blank\">dazzling-cloud-37</a></strong> to <a href=\"https://wandb.ai/2djagpal/Lithology-LSTM_search_new\" target=\"_blank\">Weights & Biases</a> (<a href=\"https://docs.wandb.com/integrations/jupyter.html\" target=\"_blank\">docs</a>).<br/>\n",
       "\n",
       "                "
      ],
      "text/plain": [
       "<IPython.core.display.HTML object>"
      ]
     },
     "metadata": {},
     "output_type": "display_data"
    },
    {
     "name": "stdout",
     "output_type": "stream",
     "text": [
      "Loading Data ...                                                                      \n",
      "\n",
      "Starting training...                                                                  \n",
      "\n",
      "Training:                                                                             \n",
      "Epoch: 1 ... Accuracy: 0.6369150659594258 ... Score: -0.9527173756339378              \n",
      "\n",
      "Validation:                                                                           \n",
      "Epoch: 1 ... Accuracy: 0.6260433486258127 ... Score: -0.9870377015147244              \n",
      "\n",
      "Training:                                                                             \n",
      "Epoch: 2 ... Accuracy: 0.6963175279178222 ... Score: -0.803292017697395               \n",
      "\n",
      "Validation:                                                                           \n",
      "Epoch: 2 ... Accuracy: 0.676845990209396 ... Score: -0.8637436886485378               \n",
      "\n",
      "Training:                                                                             \n",
      "Epoch: 3 ... Accuracy: 0.6888539089222765 ... Score: -0.8294810280550486              \n",
      "\n",
      "Validation:                                                                           \n",
      "Epoch: 3 ... Accuracy: 0.6693407147311855 ... Score: -0.8878410906357058              \n",
      "\n",
      "Training:                                                                             \n",
      "Epoch: 4 ... Accuracy: 0.6619895793397971 ... Score: -0.9011481628220147              \n",
      "\n",
      "Validation:                                                                           \n",
      "Epoch: 4 ... Accuracy: 0.6450564283944605 ... Score: -0.9525698199929945              \n",
      "\n",
      "Training:                                                                             \n",
      "Epoch: 5 ... Accuracy: 0.7067114903850774 ... Score: -0.7571577964329689              \n",
      "\n",
      "Validation:                                                                           \n",
      "Epoch: 5 ... Accuracy: 0.6907886305969193 ... Score: -0.8043710647495537              \n",
      "\n",
      "Class F1 Scores                                                                       \n",
      "Training:                                                                             \n",
      "[0.53610325 0.22633126 0.84793667 0.34605677 0.         0.3980917\n",
      " 0.5409107  0.71939943 0.60970874 0.25774736 0.55071552 0.        ]\n",
      "\n",
      "Validation:                                                                           \n",
      "[0.48065724 0.21645366 0.83909772 0.34043417 0.         0.35353603\n",
      " 0.53905919 0.71022518 0.6281407  0.25894632 0.42950392 0.        ]\n",
      "\n",
      "Training Runtime: 406.81285548210144                                                  \n",
      "\n",
      "Model Fitting Complete                                                                \n",
      "Fold 4 Validation Score: 0.3618740406933099                                           \n",
      "--------------------------------                                                      \n",
      "                                                                                      \n",
      "\n",
      "Minimum Validation Score: 0.2949221688814545\n",
      "--------------------------------                                                      \n",
      "{'hidden_dim': 0, 'n_layers': 1, 'window_size': 4}                                    \n",
      "--------------------------------                                                     \n",
      "FOLD 0                                                                               \n",
      "--------------------------------                                                     \n",
      "{'hidden_dim': 461, 'n_layers': 2, 'window_size': 1}                                 \n",
      "--------------------------------                                                     \n",
      "FOLD 0                                                                               \n",
      "--------------------------------                                                     \n",
      "Device is cuda:0.                                                                    \n",
      "\n",
      " 16%|█▌        | 8/50 [3:26:37<12:55:58, 1108.53s/it, best loss: -0.2949221688814545]"
     ]
    },
    {
     "data": {
      "text/html": [
       "Finishing last run (ID:3gp7030e) before initializing another..."
      ],
      "text/plain": [
       "<IPython.core.display.HTML object>"
      ]
     },
     "metadata": {},
     "output_type": "display_data"
    },
    {
     "data": {
      "text/html": [
       "<br/>Waiting for W&B process to finish, PID 111707... <strong style=\"color:green\">(success).</strong>"
      ],
      "text/plain": [
       "<IPython.core.display.HTML object>"
      ]
     },
     "metadata": {},
     "output_type": "display_data"
    },
    {
     "data": {
      "application/vnd.jupyter.widget-view+json": {
       "model_id": "",
       "version_major": 2,
       "version_minor": 0
      },
      "text/plain": [
       "VBox(children=(Label(value=' 0.00MB of 0.00MB uploaded (0.00MB deduped)\\r'), FloatProgress(value=1.0, max=1.0)…"
      ]
     },
     "metadata": {},
     "output_type": "display_data"
    },
    {
     "data": {
      "text/html": [
       "<style>\n",
       "    table.wandb td:nth-child(1) { padding: 0 10px; text-align: right }\n",
       "    .wandb-row { display: flex; flex-direction: row; flex-wrap: wrap; width: 100% }\n",
       "    .wandb-col { display: flex; flex-direction: column; flex-basis: 100%; flex: 1; padding: 10px; }\n",
       "    </style>\n",
       "<div class=\"wandb-row\"><div class=\"wandb-col\">\n",
       "</div><div class=\"wandb-col\">\n",
       "<h3>Run summary:</h3><br/><table class=\"wandb\"><tr><td>train_accuracy</td><td>0.70671</td></tr><tr><td>train_batch_loss</td><td>1.0906</td></tr><tr><td>train_epoch_loss</td><td>1.50078</td></tr><tr><td>train_score</td><td>-0.75716</td></tr><tr><td>valid_accuracy</td><td>0.69079</td></tr><tr><td>valid_epoch_loss</td><td>1.59672</td></tr><tr><td>valid_score</td><td>-0.80437</td></tr></table>\n",
       "</div></div>\n",
       "Synced 6 W&B file(s), 0 media file(s), 0 artifact file(s) and 0 other file(s)\n",
       "<br/>Synced <strong style=\"color:#cdcd00\">dazzling-cloud-37</strong>: <a href=\"https://wandb.ai/2djagpal/Lithology-LSTM_search_new/runs/3gp7030e\" target=\"_blank\">https://wandb.ai/2djagpal/Lithology-LSTM_search_new/runs/3gp7030e</a><br/>\n",
       "Find logs at: <code>./wandb/run-20211205_184250-3gp7030e/logs</code><br/>\n"
      ],
      "text/plain": [
       "<IPython.core.display.HTML object>"
      ]
     },
     "metadata": {},
     "output_type": "display_data"
    },
    {
     "data": {
      "text/html": [
       "Successfully finished last run (ID:3gp7030e). Initializing new run:<br/>"
      ],
      "text/plain": [
       "<IPython.core.display.HTML object>"
      ]
     },
     "metadata": {},
     "output_type": "display_data"
    },
    {
     "data": {
      "text/html": [
       "\n",
       "                    Syncing run <strong><a href=\"https://wandb.ai/2djagpal/Lithology-LSTM_search_new/runs/g74mqduv\" target=\"_blank\">serene-cosmos-38</a></strong> to <a href=\"https://wandb.ai/2djagpal/Lithology-LSTM_search_new\" target=\"_blank\">Weights & Biases</a> (<a href=\"https://docs.wandb.com/integrations/jupyter.html\" target=\"_blank\">docs</a>).<br/>\n",
       "\n",
       "                "
      ],
      "text/plain": [
       "<IPython.core.display.HTML object>"
      ]
     },
     "metadata": {},
     "output_type": "display_data"
    },
    {
     "name": "stdout",
     "output_type": "stream",
     "text": [
      "Loading Data ...                                                                     \n",
      "\n",
      "Starting training...                                                                 \n",
      "\n",
      "Training:                                                                            \n",
      "Epoch: 1 ... Accuracy: 0.6606009346353299 ... Score: -0.9810196249925246             \n",
      "\n",
      "Validation:                                                                          \n",
      "Epoch: 1 ... Accuracy: 0.6594960337970893 ... Score: -0.9845148289428157             \n",
      "\n",
      "Training:                                                                            \n",
      "Epoch: 2 ... Accuracy: 0.6872292846707845 ... Score: -0.8792064997308865             \n",
      "\n",
      "Validation:                                                                          \n",
      "Epoch: 2 ... Accuracy: 0.6866891923640449 ... Score: -0.8811789041575717             \n",
      "\n",
      "Training:                                                                            \n",
      "Epoch: 3 ... Accuracy: 0.7091566923819531 ... Score: -0.7719045811227585             \n",
      "\n",
      "Validation:                                                                          \n",
      "Epoch: 3 ... Accuracy: 0.7079148921628514 ... Score: -0.7767083292396937             \n",
      "\n",
      "Training:                                                                            \n",
      "Epoch: 4 ... Accuracy: 0.7156143475920752 ... Score: -0.7537316799941906             \n",
      "\n",
      "Validation:                                                                          \n",
      "Epoch: 4 ... Accuracy: 0.7149929731784728 ... Score: -0.7556049046787098             \n",
      "\n",
      "Training:                                                                            \n",
      "Epoch: 5 ... Accuracy: 0.7033269685863427 ... Score: -0.8193342271744795             \n",
      "\n",
      "Validation:                                                                          \n",
      "Epoch: 5 ... Accuracy: 0.7008239962751438 ... Score: -0.8280388333340453             \n",
      "\n",
      "Class F1 Scores                                                                      \n",
      "Training:                                                                            \n",
      "[0.59443088 0.06161474 0.84881963 0.11753933 0.         0.5716288\n",
      " 0.50620868 0.62200393 0.60614525 0.21774889 0.27293507 0.09195402]\n",
      "\n",
      "Validation:                                                                          \n",
      "[0.59113158 0.06058733 0.84641093 0.12235847 0.         0.56438356\n",
      " 0.51500484 0.62765122 0.58100559 0.2094193  0.27655311 0.32      ]\n",
      "\n",
      "Training Runtime: 406.2225580215454                                                  \n",
      "\n",
      "Model Fitting Complete                                                               \n",
      "Fold 0 Validation Score: 0.2538855052483876                                          \n",
      "********************************                                                     \n",
      "F1 Score too low ... stopped early.                                                  \n",
      "********************************                                                     \n",
      "{'hidden_dim': 220, 'n_layers': 1, 'window_size': 1}                                 \n",
      "--------------------------------                                                    \n",
      "FOLD 0                                                                              \n",
      "--------------------------------                                                    \n",
      "Device is cuda:0.                                                                   \n",
      "\n",
      " 18%|█▊        | 9/50 [3:33:27<10:08:12, 890.07s/it, best loss: -0.2949221688814545]"
     ]
    },
    {
     "data": {
      "text/html": [
       "Finishing last run (ID:g74mqduv) before initializing another..."
      ],
      "text/plain": [
       "<IPython.core.display.HTML object>"
      ]
     },
     "metadata": {},
     "output_type": "display_data"
    },
    {
     "data": {
      "text/html": [
       "<br/>Waiting for W&B process to finish, PID 113550... <strong style=\"color:green\">(success).</strong>"
      ],
      "text/plain": [
       "<IPython.core.display.HTML object>"
      ]
     },
     "metadata": {},
     "output_type": "display_data"
    },
    {
     "data": {
      "application/vnd.jupyter.widget-view+json": {
       "model_id": "",
       "version_major": 2,
       "version_minor": 0
      },
      "text/plain": [
       "VBox(children=(Label(value=' 0.00MB of 0.00MB uploaded (0.00MB deduped)\\r'), FloatProgress(value=1.0, max=1.0)…"
      ]
     },
     "metadata": {},
     "output_type": "display_data"
    },
    {
     "data": {
      "text/html": [
       "<style>\n",
       "    table.wandb td:nth-child(1) { padding: 0 10px; text-align: right }\n",
       "    .wandb-row { display: flex; flex-direction: row; flex-wrap: wrap; width: 100% }\n",
       "    .wandb-col { display: flex; flex-direction: column; flex-basis: 100%; flex: 1; padding: 10px; }\n",
       "    </style>\n",
       "<div class=\"wandb-row\"><div class=\"wandb-col\">\n",
       "</div><div class=\"wandb-col\">\n",
       "<h3>Run summary:</h3><br/><table class=\"wandb\"><tr><td>train_accuracy</td><td>0.70333</td></tr><tr><td>train_batch_loss</td><td>0.40976</td></tr><tr><td>train_epoch_loss</td><td>1.52413</td></tr><tr><td>train_score</td><td>-0.81933</td></tr><tr><td>valid_accuracy</td><td>0.70082</td></tr><tr><td>valid_epoch_loss</td><td>1.50997</td></tr><tr><td>valid_score</td><td>-0.82804</td></tr></table>\n",
       "</div></div>\n",
       "Synced 6 W&B file(s), 0 media file(s), 0 artifact file(s) and 0 other file(s)\n",
       "<br/>Synced <strong style=\"color:#cdcd00\">serene-cosmos-38</strong>: <a href=\"https://wandb.ai/2djagpal/Lithology-LSTM_search_new/runs/g74mqduv\" target=\"_blank\">https://wandb.ai/2djagpal/Lithology-LSTM_search_new/runs/g74mqduv</a><br/>\n",
       "Find logs at: <code>./wandb/run-20211205_184940-g74mqduv/logs</code><br/>\n"
      ],
      "text/plain": [
       "<IPython.core.display.HTML object>"
      ]
     },
     "metadata": {},
     "output_type": "display_data"
    },
    {
     "data": {
      "text/html": [
       "Successfully finished last run (ID:g74mqduv). Initializing new run:<br/>"
      ],
      "text/plain": [
       "<IPython.core.display.HTML object>"
      ]
     },
     "metadata": {},
     "output_type": "display_data"
    },
    {
     "data": {
      "text/html": [
       "\n",
       "                    Syncing run <strong><a href=\"https://wandb.ai/2djagpal/Lithology-LSTM_search_new/runs/2ai05zgj\" target=\"_blank\">spring-lake-39</a></strong> to <a href=\"https://wandb.ai/2djagpal/Lithology-LSTM_search_new\" target=\"_blank\">Weights & Biases</a> (<a href=\"https://docs.wandb.com/integrations/jupyter.html\" target=\"_blank\">docs</a>).<br/>\n",
       "\n",
       "                "
      ],
      "text/plain": [
       "<IPython.core.display.HTML object>"
      ]
     },
     "metadata": {},
     "output_type": "display_data"
    },
    {
     "name": "stdout",
     "output_type": "stream",
     "text": [
      "Loading Data ...                                                                    \n",
      "\n",
      "Starting training...                                                                \n",
      "\n",
      "Training:                                                                           \n",
      "Epoch: 1 ... Accuracy: 0.6336575509820506 ... Score: -0.9849145618149354            \n",
      "\n",
      "Validation:                                                                         \n",
      "Epoch: 1 ... Accuracy: 0.6343404398918425 ... Score: -0.9818819066821015            \n",
      "\n",
      "Training:                                                                           \n",
      "Epoch: 2 ... Accuracy: 0.6513805947834704 ... Score: -0.9808479583685744            \n",
      "\n",
      "Validation:                                                                         \n",
      "Epoch: 2 ... Accuracy: 0.6521787418358586 ... Score: -0.977792360627587             \n",
      "\n",
      "Training:                                                                           \n",
      "Epoch: 3 ... Accuracy: 0.7091823222356067 ... Score: -0.7824224323158282            \n",
      "\n",
      "Validation:                                                                         \n",
      "Epoch: 3 ... Accuracy: 0.7101660380259971 ... Score: -0.7787816687526431            \n",
      "\n",
      "Training:                                                                           \n",
      "Epoch: 4 ... Accuracy: 0.7003549734731015 ... Score: -0.8352862747862043            \n",
      "\n",
      "Validation:                                                                         \n",
      "Epoch: 4 ... Accuracy: 0.7015672588561446 ... Score: -0.8306733574537704            \n",
      "\n",
      "Training:                                                                           \n",
      "Epoch: 5 ... Accuracy: 0.617886647700575 ... Score: -0.9789329277408992             \n",
      "\n",
      "Validation:                                                                         \n",
      "Epoch: 5 ... Accuracy: 0.6190864704852138 ... Score: -0.9739014450904089            \n",
      "\n",
      "Class F1 Scores                                                                     \n",
      "Training:                                                                           \n",
      "[5.50138911e-01 3.57397982e-01 7.66462438e-01 1.34739309e-02\n",
      " 0.00000000e+00 5.09877137e-01 4.34299714e-01 6.03061022e-01\n",
      " 5.12857143e-01 6.03682463e-04 5.20668129e-01 1.55555556e-01]\n",
      "\n",
      "Validation:                                                                         \n",
      "[0.55138388 0.35821358 0.76795882 0.01203758 0.         0.51364586\n",
      " 0.41886544 0.61428571 0.49390244 0.         0.52875083 0.09090909]\n",
      "\n",
      "Training Runtime: 381.5331823825836                                                 \n",
      "\n",
      "Model Fitting Complete                                                              \n",
      "Fold 0 Validation Score: 0.28922029571005453                                        \n",
      "********************************                                                    \n",
      "F1 Score too low ... stopped early.                                                 \n",
      "********************************                                                    \n",
      "{'hidden_dim': 474, 'n_layers': 1, 'window_size': 7}                                \n",
      "--------------------------------                                                    \n",
      "FOLD 0                                                                              \n",
      "--------------------------------                                                    \n",
      "Device is cuda:0.                                                                   \n",
      "\n",
      " 20%|██        | 10/50 [3:39:52<8:09:24, 734.10s/it, best loss: -0.2949221688814545]"
     ]
    },
    {
     "data": {
      "text/html": [
       "Finishing last run (ID:2ai05zgj) before initializing another..."
      ],
      "text/plain": [
       "<IPython.core.display.HTML object>"
      ]
     },
     "metadata": {},
     "output_type": "display_data"
    },
    {
     "data": {
      "text/html": [
       "<br/>Waiting for W&B process to finish, PID 115413... <strong style=\"color:green\">(success).</strong>"
      ],
      "text/plain": [
       "<IPython.core.display.HTML object>"
      ]
     },
     "metadata": {},
     "output_type": "display_data"
    },
    {
     "data": {
      "application/vnd.jupyter.widget-view+json": {
       "model_id": "",
       "version_major": 2,
       "version_minor": 0
      },
      "text/plain": [
       "VBox(children=(Label(value=' 0.00MB of 0.00MB uploaded (0.00MB deduped)\\r'), FloatProgress(value=1.0, max=1.0)…"
      ]
     },
     "metadata": {},
     "output_type": "display_data"
    },
    {
     "data": {
      "text/html": [
       "<style>\n",
       "    table.wandb td:nth-child(1) { padding: 0 10px; text-align: right }\n",
       "    .wandb-row { display: flex; flex-direction: row; flex-wrap: wrap; width: 100% }\n",
       "    .wandb-col { display: flex; flex-direction: column; flex-basis: 100%; flex: 1; padding: 10px; }\n",
       "    </style>\n",
       "<div class=\"wandb-row\"><div class=\"wandb-col\">\n",
       "</div><div class=\"wandb-col\">\n",
       "<h3>Run summary:</h3><br/><table class=\"wandb\"><tr><td>train_accuracy</td><td>0.61789</td></tr><tr><td>train_batch_loss</td><td>1.53555</td></tr><tr><td>train_epoch_loss</td><td>1.64123</td></tr><tr><td>train_score</td><td>-0.97893</td></tr><tr><td>valid_accuracy</td><td>0.61909</td></tr><tr><td>valid_epoch_loss</td><td>1.62737</td></tr><tr><td>valid_score</td><td>-0.9739</td></tr></table>\n",
       "</div></div>\n",
       "Synced 6 W&B file(s), 0 media file(s), 0 artifact file(s) and 0 other file(s)\n",
       "<br/>Synced <strong style=\"color:#cdcd00\">spring-lake-39</strong>: <a href=\"https://wandb.ai/2djagpal/Lithology-LSTM_search_new/runs/2ai05zgj\" target=\"_blank\">https://wandb.ai/2djagpal/Lithology-LSTM_search_new/runs/2ai05zgj</a><br/>\n",
       "Find logs at: <code>./wandb/run-20211205_185630-2ai05zgj/logs</code><br/>\n"
      ],
      "text/plain": [
       "<IPython.core.display.HTML object>"
      ]
     },
     "metadata": {},
     "output_type": "display_data"
    },
    {
     "data": {
      "text/html": [
       "Successfully finished last run (ID:2ai05zgj). Initializing new run:<br/>"
      ],
      "text/plain": [
       "<IPython.core.display.HTML object>"
      ]
     },
     "metadata": {},
     "output_type": "display_data"
    },
    {
     "data": {
      "text/html": [
       "\n",
       "                    Syncing run <strong><a href=\"https://wandb.ai/2djagpal/Lithology-LSTM_search_new/runs/1dboo4pw\" target=\"_blank\">hopeful-river-40</a></strong> to <a href=\"https://wandb.ai/2djagpal/Lithology-LSTM_search_new\" target=\"_blank\">Weights & Biases</a> (<a href=\"https://docs.wandb.com/integrations/jupyter.html\" target=\"_blank\">docs</a>).<br/>\n",
       "\n",
       "                "
      ],
      "text/plain": [
       "<IPython.core.display.HTML object>"
      ]
     },
     "metadata": {},
     "output_type": "display_data"
    },
    {
     "name": "stdout",
     "output_type": "stream",
     "text": [
      "Loading Data ...                                                                    \n",
      "\n",
      "Starting training...                                                                \n",
      "\n",
      "Training:                                                                           \n",
      "Epoch: 1 ... Accuracy: 0.6878251787682292 ... Score: -0.8663357745768938            \n",
      "\n",
      "Validation:                                                                         \n",
      "Epoch: 1 ... Accuracy: 0.6766551475205358 ... Score: -0.9009591931756534            \n",
      "\n",
      "Training:                                                                           \n",
      "Epoch: 2 ... Accuracy: 0.6681788280322253 ... Score: -0.8808287893738627            \n",
      "\n",
      "Validation:                                                                         \n",
      "Epoch: 2 ... Accuracy: 0.6567621944186961 ... Score: -0.9220791702797486            \n",
      "\n",
      "Training:                                                                           \n",
      "Epoch: 3 ... Accuracy: 0.7039057761146851 ... Score: -0.7935574023288994            \n",
      "\n",
      "Validation:                                                                         \n",
      "Epoch: 3 ... Accuracy: 0.6863560056898033 ... Score: -0.848922269257549             \n",
      "\n",
      "Training:                                                                           \n",
      "Epoch: 4 ... Accuracy: 0.7055567658542004 ... Score: -0.7813563905904264            \n",
      "\n",
      "Validation:                                                                         \n",
      "Epoch: 4 ... Accuracy: 0.689786119784881 ... Score: -0.8301687718653755             \n",
      "\n",
      "Training:                                                                           \n",
      "Epoch: 5 ... Accuracy: 0.7321413315563301 ... Score: -0.6921799845793714            \n",
      "\n",
      "Validation:                                                                         \n",
      "Epoch: 5 ... Accuracy: 0.7165393010768765 ... Score: -0.7395190364924841            \n",
      "\n",
      "Class F1 Scores                                                                     \n",
      "Training:                                                                           \n",
      "[0.62635223 0.27654621 0.856572   0.40927221 0.         0.44966921\n",
      " 0.58041784 0.94257683 0.63670412 0.4819407  0.56173633 0.11363636]\n",
      "\n",
      "Validation:                                                                         \n",
      "[0.58012312 0.26260444 0.84728368 0.40040146 0.         0.42290951\n",
      " 0.57076796 0.93789534 0.66530612 0.45836576 0.39944521 0.17391304]\n",
      "\n",
      "Training Runtime: 401.1063950061798                                                 \n",
      "\n",
      "Model Fitting Complete                                                              \n",
      "Fold 0 Validation Score: 0.45036132847720756                                        \n",
      "--------------------------------                                                    \n",
      "FOLD 1                                                                              \n",
      "--------------------------------                                                    \n",
      "Device is cuda:0.                                                                   \n",
      "\n",
      " 20%|██        | 10/50 [3:46:36<8:09:24, 734.10s/it, best loss: -0.2949221688814545]"
     ]
    },
    {
     "data": {
      "text/html": [
       "Finishing last run (ID:1dboo4pw) before initializing another..."
      ],
      "text/plain": [
       "<IPython.core.display.HTML object>"
      ]
     },
     "metadata": {},
     "output_type": "display_data"
    },
    {
     "data": {
      "text/html": [
       "<br/>Waiting for W&B process to finish, PID 117126... <strong style=\"color:green\">(success).</strong>"
      ],
      "text/plain": [
       "<IPython.core.display.HTML object>"
      ]
     },
     "metadata": {},
     "output_type": "display_data"
    },
    {
     "data": {
      "application/vnd.jupyter.widget-view+json": {
       "model_id": "",
       "version_major": 2,
       "version_minor": 0
      },
      "text/plain": [
       "VBox(children=(Label(value=' 0.00MB of 0.00MB uploaded (0.00MB deduped)\\r'), FloatProgress(value=1.0, max=1.0)…"
      ]
     },
     "metadata": {},
     "output_type": "display_data"
    },
    {
     "data": {
      "text/html": [
       "<style>\n",
       "    table.wandb td:nth-child(1) { padding: 0 10px; text-align: right }\n",
       "    .wandb-row { display: flex; flex-direction: row; flex-wrap: wrap; width: 100% }\n",
       "    .wandb-col { display: flex; flex-direction: column; flex-basis: 100%; flex: 1; padding: 10px; }\n",
       "    </style>\n",
       "<div class=\"wandb-row\"><div class=\"wandb-col\">\n",
       "</div><div class=\"wandb-col\">\n",
       "<h3>Run summary:</h3><br/><table class=\"wandb\"><tr><td>train_accuracy</td><td>0.73214</td></tr><tr><td>train_batch_loss</td><td>1.18127</td></tr><tr><td>train_epoch_loss</td><td>1.44293</td></tr><tr><td>train_score</td><td>-0.69218</td></tr><tr><td>valid_accuracy</td><td>0.71654</td></tr><tr><td>valid_epoch_loss</td><td>1.56067</td></tr><tr><td>valid_score</td><td>-0.73952</td></tr></table>\n",
       "</div></div>\n",
       "Synced 6 W&B file(s), 0 media file(s), 0 artifact file(s) and 0 other file(s)\n",
       "<br/>Synced <strong style=\"color:#cdcd00\">hopeful-river-40</strong>: <a href=\"https://wandb.ai/2djagpal/Lithology-LSTM_search_new/runs/1dboo4pw\" target=\"_blank\">https://wandb.ai/2djagpal/Lithology-LSTM_search_new/runs/1dboo4pw</a><br/>\n",
       "Find logs at: <code>./wandb/run-20211205_190255-1dboo4pw/logs</code><br/>\n"
      ],
      "text/plain": [
       "<IPython.core.display.HTML object>"
      ]
     },
     "metadata": {},
     "output_type": "display_data"
    },
    {
     "data": {
      "text/html": [
       "Successfully finished last run (ID:1dboo4pw). Initializing new run:<br/>"
      ],
      "text/plain": [
       "<IPython.core.display.HTML object>"
      ]
     },
     "metadata": {},
     "output_type": "display_data"
    },
    {
     "data": {
      "text/html": [
       "\n",
       "                    Syncing run <strong><a href=\"https://wandb.ai/2djagpal/Lithology-LSTM_search_new/runs/3j8ys4i2\" target=\"_blank\">young-donkey-41</a></strong> to <a href=\"https://wandb.ai/2djagpal/Lithology-LSTM_search_new\" target=\"_blank\">Weights & Biases</a> (<a href=\"https://docs.wandb.com/integrations/jupyter.html\" target=\"_blank\">docs</a>).<br/>\n",
       "\n",
       "                "
      ],
      "text/plain": [
       "<IPython.core.display.HTML object>"
      ]
     },
     "metadata": {},
     "output_type": "display_data"
    },
    {
     "name": "stdout",
     "output_type": "stream",
     "text": [
      "Loading Data ...                                                                    \n",
      "\n",
      "Starting training...                                                                \n",
      "\n",
      "Training:                                                                           \n",
      "Epoch: 1 ... Accuracy: 0.6566799336614663 ... Score: -0.9313195409270949            \n",
      "\n",
      "Validation:                                                                         \n",
      "Epoch: 1 ... Accuracy: 0.6472734107354914 ... Score: -0.9612065467189516            \n",
      "\n",
      "Training:                                                                           \n",
      "Epoch: 2 ... Accuracy: 0.6784802367341621 ... Score: -0.8736633778615968            \n",
      "\n",
      "Validation:                                                                         \n",
      "Epoch: 2 ... Accuracy: 0.6633006125535024 ... Score: -0.922404550153352             \n",
      "\n",
      "Training:                                                                           \n",
      "Epoch: 3 ... Accuracy: 0.6477959951260613 ... Score: -0.9183603265239868            \n",
      "\n",
      "Validation:                                                                         \n",
      "Epoch: 3 ... Accuracy: 0.6316733731450394 ... Score: -0.9643098948321672            \n",
      "\n",
      "Training:                                                                           \n",
      "Epoch: 4 ... Accuracy: 0.7260257003083055 ... Score: -0.7423456256827946            \n",
      "\n",
      "Validation:                                                                         \n",
      "Epoch: 4 ... Accuracy: 0.709720549162331 ... Score: -0.7937928766093413             \n",
      "\n",
      "Training:                                                                           \n",
      "Epoch: 5 ... Accuracy: 0.7113077725651932 ... Score: -0.7452081569057966            \n",
      "\n",
      "Validation:                                                                         \n",
      "Epoch: 5 ... Accuracy: 0.6956284012951619 ... Score: -0.7879423285576372            \n",
      "\n",
      "Class F1 Scores                                                                     \n",
      "Training:                                                                           \n",
      "[0.57738201 0.42514894 0.84175243 0.36386235 0.         0.60908886\n",
      " 0.43851235 0.95268372 0.66835957 0.58042105 0.31625919 0.09090909]\n",
      "\n",
      "Validation:                                                                         \n",
      "[0.52726925 0.41075357 0.83324907 0.3599704  0.         0.58671283\n",
      " 0.43752264 0.95173231 0.63694268 0.56662261 0.26727411 0.33333333]\n",
      "\n",
      "Training Runtime: 401.5373532772064                                                 \n",
      "\n",
      "Model Fitting Complete                                                              \n",
      "Fold 1 Validation Score: 0.352691566326805                                          \n",
      "--------------------------------                                                    \n",
      "FOLD 2                                                                              \n",
      "--------------------------------                                                    \n",
      "Device is cuda:0.                                                                   \n",
      "\n",
      " 20%|██        | 10/50 [3:53:21<8:09:24, 734.10s/it, best loss: -0.2949221688814545]"
     ]
    },
    {
     "data": {
      "text/html": [
       "Finishing last run (ID:3j8ys4i2) before initializing another..."
      ],
      "text/plain": [
       "<IPython.core.display.HTML object>"
      ]
     },
     "metadata": {},
     "output_type": "display_data"
    },
    {
     "data": {
      "text/html": [
       "<br/>Waiting for W&B process to finish, PID 118889... <strong style=\"color:green\">(success).</strong>"
      ],
      "text/plain": [
       "<IPython.core.display.HTML object>"
      ]
     },
     "metadata": {},
     "output_type": "display_data"
    },
    {
     "data": {
      "application/vnd.jupyter.widget-view+json": {
       "model_id": "",
       "version_major": 2,
       "version_minor": 0
      },
      "text/plain": [
       "VBox(children=(Label(value=' 0.00MB of 0.00MB uploaded (0.00MB deduped)\\r'), FloatProgress(value=1.0, max=1.0)…"
      ]
     },
     "metadata": {},
     "output_type": "display_data"
    },
    {
     "data": {
      "text/html": [
       "<style>\n",
       "    table.wandb td:nth-child(1) { padding: 0 10px; text-align: right }\n",
       "    .wandb-row { display: flex; flex-direction: row; flex-wrap: wrap; width: 100% }\n",
       "    .wandb-col { display: flex; flex-direction: column; flex-basis: 100%; flex: 1; padding: 10px; }\n",
       "    </style>\n",
       "<div class=\"wandb-row\"><div class=\"wandb-col\">\n",
       "</div><div class=\"wandb-col\">\n",
       "<h3>Run summary:</h3><br/><table class=\"wandb\"><tr><td>train_accuracy</td><td>0.71131</td></tr><tr><td>train_batch_loss</td><td>1.57279</td></tr><tr><td>train_epoch_loss</td><td>1.29129</td></tr><tr><td>train_score</td><td>-0.74521</td></tr><tr><td>valid_accuracy</td><td>0.69563</td></tr><tr><td>valid_epoch_loss</td><td>1.38154</td></tr><tr><td>valid_score</td><td>-0.78794</td></tr></table>\n",
       "</div></div>\n",
       "Synced 6 W&B file(s), 0 media file(s), 0 artifact file(s) and 0 other file(s)\n",
       "<br/>Synced <strong style=\"color:#cdcd00\">young-donkey-41</strong>: <a href=\"https://wandb.ai/2djagpal/Lithology-LSTM_search_new/runs/3j8ys4i2\" target=\"_blank\">https://wandb.ai/2djagpal/Lithology-LSTM_search_new/runs/3j8ys4i2</a><br/>\n",
       "Find logs at: <code>./wandb/run-20211205_190939-3j8ys4i2/logs</code><br/>\n"
      ],
      "text/plain": [
       "<IPython.core.display.HTML object>"
      ]
     },
     "metadata": {},
     "output_type": "display_data"
    },
    {
     "data": {
      "text/html": [
       "Successfully finished last run (ID:3j8ys4i2). Initializing new run:<br/>"
      ],
      "text/plain": [
       "<IPython.core.display.HTML object>"
      ]
     },
     "metadata": {},
     "output_type": "display_data"
    },
    {
     "data": {
      "text/html": [
       "\n",
       "                    Syncing run <strong><a href=\"https://wandb.ai/2djagpal/Lithology-LSTM_search_new/runs/y3w6g1kb\" target=\"_blank\">smooth-waterfall-42</a></strong> to <a href=\"https://wandb.ai/2djagpal/Lithology-LSTM_search_new\" target=\"_blank\">Weights & Biases</a> (<a href=\"https://docs.wandb.com/integrations/jupyter.html\" target=\"_blank\">docs</a>).<br/>\n",
       "\n",
       "                "
      ],
      "text/plain": [
       "<IPython.core.display.HTML object>"
      ]
     },
     "metadata": {},
     "output_type": "display_data"
    },
    {
     "name": "stdout",
     "output_type": "stream",
     "text": [
      "Loading Data ...                                                                    \n",
      "\n",
      "Starting training...                                                                \n",
      "\n",
      "Training:                                                                           \n",
      "Epoch: 1 ... Accuracy: 0.1893723789497965 ... Score: -1.9530131865456226            \n",
      "\n",
      "Validation:                                                                         \n",
      "Epoch: 1 ... Accuracy: 0.1836208148584805 ... Score: -1.969110686794645             \n",
      "\n",
      "Training:                                                                           \n",
      "Epoch: 2 ... Accuracy: 0.7205761584948457 ... Score: -0.7600998869083915            \n",
      "\n",
      "Validation:                                                                         \n",
      "Epoch: 2 ... Accuracy: 0.7020529512776482 ... Score: -0.8233382243637389            \n",
      "\n",
      "Training:                                                                           \n",
      "Epoch: 3 ... Accuracy: 0.619486784086868 ... Score: -1.0110796938090088             \n",
      "\n",
      "Validation:                                                                         \n",
      "Epoch: 3 ... Accuracy: 0.6046595073942128 ... Score: -1.0586912969560278            \n",
      "\n",
      "Training:                                                                           \n",
      "Epoch: 4 ... Accuracy: 0.6307233270931826 ... Score: -1.0458767216034874            \n",
      "\n",
      "Validation:                                                                         \n",
      "Epoch: 4 ... Accuracy: 0.6152147354571939 ... Score: -1.0929108892704889            \n",
      "\n",
      "Training:                                                                           \n",
      "Epoch: 5 ... Accuracy: 0.5910003000825494 ... Score: -1.0209866895768835            \n",
      "\n",
      "Validation:                                                                         \n",
      "Epoch: 5 ... Accuracy: 0.5744333666521431 ... Score: -1.0668875105723146            \n",
      "\n",
      "Class F1 Scores                                                                     \n",
      "Training:                                                                           \n",
      "[0.63812498 0.38304064 0.70855929 0.28426911 0.00294118 0.51077818\n",
      " 0.57743725 0.81785469 0.64257812 0.43912928 0.51132686 0.08938547]\n",
      "\n",
      "Validation:                                                                         \n",
      "[0.5902496  0.37288704 0.70004445 0.27401454 0.         0.483672\n",
      " 0.58803419 0.81805651 0.59677419 0.41628281 0.43104352 0.        ]\n",
      "\n",
      "Training Runtime: 402.8565239906311                                                 \n",
      "\n",
      "Model Fitting Complete                                                              \n",
      "Fold 2 Validation Score: 0.4278326983660626                                         \n",
      "--------------------------------                                                    \n",
      "FOLD 3                                                                              \n",
      "--------------------------------                                                    \n",
      "Device is cuda:0.                                                                   \n",
      "\n",
      " 20%|██        | 10/50 [4:00:08<8:09:24, 734.10s/it, best loss: -0.2949221688814545]"
     ]
    },
    {
     "data": {
      "text/html": [
       "Finishing last run (ID:y3w6g1kb) before initializing another..."
      ],
      "text/plain": [
       "<IPython.core.display.HTML object>"
      ]
     },
     "metadata": {},
     "output_type": "display_data"
    },
    {
     "data": {
      "text/html": [
       "<br/>Waiting for W&B process to finish, PID 120619... <strong style=\"color:green\">(success).</strong>"
      ],
      "text/plain": [
       "<IPython.core.display.HTML object>"
      ]
     },
     "metadata": {},
     "output_type": "display_data"
    },
    {
     "data": {
      "application/vnd.jupyter.widget-view+json": {
       "model_id": "",
       "version_major": 2,
       "version_minor": 0
      },
      "text/plain": [
       "VBox(children=(Label(value=' 0.00MB of 0.00MB uploaded (0.00MB deduped)\\r'), FloatProgress(value=1.0, max=1.0)…"
      ]
     },
     "metadata": {},
     "output_type": "display_data"
    },
    {
     "data": {
      "text/html": [
       "<style>\n",
       "    table.wandb td:nth-child(1) { padding: 0 10px; text-align: right }\n",
       "    .wandb-row { display: flex; flex-direction: row; flex-wrap: wrap; width: 100% }\n",
       "    .wandb-col { display: flex; flex-direction: column; flex-basis: 100%; flex: 1; padding: 10px; }\n",
       "    </style>\n",
       "<div class=\"wandb-row\"><div class=\"wandb-col\">\n",
       "</div><div class=\"wandb-col\">\n",
       "<h3>Run summary:</h3><br/><table class=\"wandb\"><tr><td>train_accuracy</td><td>0.591</td></tr><tr><td>train_batch_loss</td><td>1.27836</td></tr><tr><td>train_epoch_loss</td><td>1.28397</td></tr><tr><td>train_score</td><td>-1.02099</td></tr><tr><td>valid_accuracy</td><td>0.57443</td></tr><tr><td>valid_epoch_loss</td><td>1.35904</td></tr><tr><td>valid_score</td><td>-1.06689</td></tr></table>\n",
       "</div></div>\n",
       "Synced 6 W&B file(s), 0 media file(s), 0 artifact file(s) and 0 other file(s)\n",
       "<br/>Synced <strong style=\"color:#cdcd00\">smooth-waterfall-42</strong>: <a href=\"https://wandb.ai/2djagpal/Lithology-LSTM_search_new/runs/y3w6g1kb\" target=\"_blank\">https://wandb.ai/2djagpal/Lithology-LSTM_search_new/runs/y3w6g1kb</a><br/>\n",
       "Find logs at: <code>./wandb/run-20211205_191624-y3w6g1kb/logs</code><br/>\n"
      ],
      "text/plain": [
       "<IPython.core.display.HTML object>"
      ]
     },
     "metadata": {},
     "output_type": "display_data"
    },
    {
     "data": {
      "text/html": [
       "Successfully finished last run (ID:y3w6g1kb). Initializing new run:<br/>"
      ],
      "text/plain": [
       "<IPython.core.display.HTML object>"
      ]
     },
     "metadata": {},
     "output_type": "display_data"
    },
    {
     "data": {
      "text/html": [
       "\n",
       "                    Syncing run <strong><a href=\"https://wandb.ai/2djagpal/Lithology-LSTM_search_new/runs/s5xhyixt\" target=\"_blank\">lucky-waterfall-43</a></strong> to <a href=\"https://wandb.ai/2djagpal/Lithology-LSTM_search_new\" target=\"_blank\">Weights & Biases</a> (<a href=\"https://docs.wandb.com/integrations/jupyter.html\" target=\"_blank\">docs</a>).<br/>\n",
       "\n",
       "                "
      ],
      "text/plain": [
       "<IPython.core.display.HTML object>"
      ]
     },
     "metadata": {},
     "output_type": "display_data"
    },
    {
     "name": "stdout",
     "output_type": "stream",
     "text": [
      "Loading Data ...                                                                    \n",
      "\n",
      "Starting training...                                                                \n",
      "\n",
      "Training:                                                                           \n",
      "Epoch: 1 ... Accuracy: 0.5880667528825545 ... Score: -1.2134859073332274            \n",
      "\n",
      "Validation:                                                                         \n",
      "Epoch: 1 ... Accuracy: 0.5783889073993388 ... Score: -1.2485428360287396            \n",
      "\n",
      "Training:                                                                           \n",
      "Epoch: 2 ... Accuracy: 0.6582348097893121 ... Score: -0.9178144913173624            \n",
      "\n",
      "Validation:                                                                         \n",
      "Epoch: 2 ... Accuracy: 0.6427796430615714 ... Score: -0.9635783760924725            \n",
      "\n",
      "Training:                                                                           \n",
      "Epoch: 3 ... Accuracy: 0.693874151145493 ... Score: -0.8057219121131899             \n",
      "\n",
      "Validation:                                                                         \n",
      "Epoch: 3 ... Accuracy: 0.677448291770254 ... Score: -0.8559965314264723             \n",
      "\n",
      "Training:                                                                           \n",
      "Epoch: 4 ... Accuracy: 0.7252322436029556 ... Score: -0.7152284685431259            \n",
      "\n",
      "Validation:                                                                         \n",
      "Epoch: 4 ... Accuracy: 0.705030285943734 ... Score: -0.7721404558696636             \n",
      "\n",
      "Training:                                                                           \n",
      "Epoch: 5 ... Accuracy: 0.6912962177851772 ... Score: -0.8446518828845088            \n",
      "\n",
      "Validation:                                                                         \n",
      "Epoch: 5 ... Accuracy: 0.6751117034455066 ... Score: -0.8906715875985681            \n",
      "\n",
      "Class F1 Scores                                                                     \n",
      "Training:                                                                           \n",
      "[0.5987256  0.33015145 0.83668543 0.271922   0.         0.5382811\n",
      " 0.14162008 0.64245311 0.67339218 0.55513355 0.14281192 0.15555556]\n",
      "\n",
      "Validation:                                                                         \n",
      "[0.56053958 0.3108386  0.82643151 0.27517877 0.         0.5214359\n",
      " 0.11884701 0.64826498 0.66019417 0.53908158 0.13459322 0.09090909]\n",
      "\n",
      "Training Runtime: 400.68965196609497                                                \n",
      "\n",
      "Model Fitting Complete                                                              \n",
      "Fold 3 Validation Score: 0.3646452377207715                                         \n",
      "--------------------------------                                                    \n",
      "FOLD 4                                                                              \n",
      "--------------------------------                                                    \n",
      "Device is cuda:0.                                                                   \n",
      "\n",
      " 20%|██        | 10/50 [4:06:52<8:09:24, 734.10s/it, best loss: -0.2949221688814545]"
     ]
    },
    {
     "data": {
      "text/html": [
       "Finishing last run (ID:s5xhyixt) before initializing another..."
      ],
      "text/plain": [
       "<IPython.core.display.HTML object>"
      ]
     },
     "metadata": {},
     "output_type": "display_data"
    },
    {
     "data": {
      "text/html": [
       "<br/>Waiting for W&B process to finish, PID 122507... <strong style=\"color:green\">(success).</strong>"
      ],
      "text/plain": [
       "<IPython.core.display.HTML object>"
      ]
     },
     "metadata": {},
     "output_type": "display_data"
    },
    {
     "data": {
      "application/vnd.jupyter.widget-view+json": {
       "model_id": "",
       "version_major": 2,
       "version_minor": 0
      },
      "text/plain": [
       "VBox(children=(Label(value=' 0.00MB of 0.00MB uploaded (0.00MB deduped)\\r'), FloatProgress(value=1.0, max=1.0)…"
      ]
     },
     "metadata": {},
     "output_type": "display_data"
    },
    {
     "data": {
      "text/html": [
       "<style>\n",
       "    table.wandb td:nth-child(1) { padding: 0 10px; text-align: right }\n",
       "    .wandb-row { display: flex; flex-direction: row; flex-wrap: wrap; width: 100% }\n",
       "    .wandb-col { display: flex; flex-direction: column; flex-basis: 100%; flex: 1; padding: 10px; }\n",
       "    </style>\n",
       "<div class=\"wandb-row\"><div class=\"wandb-col\">\n",
       "</div><div class=\"wandb-col\">\n",
       "<h3>Run summary:</h3><br/><table class=\"wandb\"><tr><td>train_accuracy</td><td>0.6913</td></tr><tr><td>train_batch_loss</td><td>0.96485</td></tr><tr><td>train_epoch_loss</td><td>1.31918</td></tr><tr><td>train_score</td><td>-0.84465</td></tr><tr><td>valid_accuracy</td><td>0.67511</td></tr><tr><td>valid_epoch_loss</td><td>1.37598</td></tr><tr><td>valid_score</td><td>-0.89067</td></tr></table>\n",
       "</div></div>\n",
       "Synced 6 W&B file(s), 0 media file(s), 0 artifact file(s) and 0 other file(s)\n",
       "<br/>Synced <strong style=\"color:#cdcd00\">lucky-waterfall-43</strong>: <a href=\"https://wandb.ai/2djagpal/Lithology-LSTM_search_new/runs/s5xhyixt\" target=\"_blank\">https://wandb.ai/2djagpal/Lithology-LSTM_search_new/runs/s5xhyixt</a><br/>\n",
       "Find logs at: <code>./wandb/run-20211205_192310-s5xhyixt/logs</code><br/>\n"
      ],
      "text/plain": [
       "<IPython.core.display.HTML object>"
      ]
     },
     "metadata": {},
     "output_type": "display_data"
    },
    {
     "data": {
      "text/html": [
       "Successfully finished last run (ID:s5xhyixt). Initializing new run:<br/>"
      ],
      "text/plain": [
       "<IPython.core.display.HTML object>"
      ]
     },
     "metadata": {},
     "output_type": "display_data"
    },
    {
     "data": {
      "text/html": [
       "\n",
       "                    Syncing run <strong><a href=\"https://wandb.ai/2djagpal/Lithology-LSTM_search_new/runs/hkvvkzzh\" target=\"_blank\">misty-vortex-44</a></strong> to <a href=\"https://wandb.ai/2djagpal/Lithology-LSTM_search_new\" target=\"_blank\">Weights & Biases</a> (<a href=\"https://docs.wandb.com/integrations/jupyter.html\" target=\"_blank\">docs</a>).<br/>\n",
       "\n",
       "                "
      ],
      "text/plain": [
       "<IPython.core.display.HTML object>"
      ]
     },
     "metadata": {},
     "output_type": "display_data"
    },
    {
     "name": "stdout",
     "output_type": "stream",
     "text": [
      "Loading Data ...                                                                    \n",
      "\n",
      "Starting training...                                                                \n",
      "\n",
      "Training:                                                                           \n",
      "Epoch: 1 ... Accuracy: 0.6963324786498207 ... Score: -0.8420728816147645            \n",
      "\n",
      "Validation:                                                                         \n",
      "Epoch: 1 ... Accuracy: 0.6838472118990867 ... Score: -0.8839912730348309            \n",
      "\n",
      "Training:                                                                           \n",
      "Epoch: 2 ... Accuracy: 0.5065404112946372 ... Score: -1.1872499089607211            \n",
      "\n",
      "Validation:                                                                         \n",
      "Epoch: 2 ... Accuracy: 0.4871808015309566 ... Score: -1.2375828698601465            \n",
      "\n",
      "Training:                                                                           \n",
      "Epoch: 3 ... Accuracy: 0.5527734141811964 ... Score: -1.26932235273262              \n",
      "\n",
      "Validation:                                                                         \n",
      "Epoch: 3 ... Accuracy: 0.5459244261048602 ... Score: -1.297696089738661             \n",
      "\n",
      "Training:                                                                           \n",
      "Epoch: 4 ... Accuracy: 0.6765323699366409 ... Score: -0.8449746585092626            \n",
      "\n",
      "Validation:                                                                         \n",
      "Epoch: 4 ... Accuracy: 0.6631425617893055 ... Score: -0.8831550990593844            \n",
      "\n",
      "Training:                                                                           \n",
      "Epoch: 5 ... Accuracy: 0.6472737874155418 ... Score: -0.8979341559083691            \n",
      "\n",
      "Validation:                                                                         \n",
      "Epoch: 5 ... Accuracy: 0.6283927518773867 ... Score: -0.9506700070909262            \n",
      "\n",
      "Class F1 Scores                                                                     \n",
      "Training:                                                                           \n",
      "[0.60335987 0.37099744 0.79198969 0.2485916  0.         0.58721966\n",
      " 0.54971151 0.61627201 0.56302521 0.48742167 0.48608137 0.15730337]\n",
      "\n",
      "Validation:                                                                         \n",
      "[0.56136249 0.35129734 0.78075457 0.2400301  0.         0.56163176\n",
      " 0.5460659  0.60551948 0.51150895 0.47305936 0.4015748  0.08695652]\n",
      "\n",
      "Training Runtime: 400.35567116737366                                                \n",
      "\n",
      "Model Fitting Complete                                                              \n",
      "Fold 4 Validation Score: 0.3772500201035402                                         \n",
      "--------------------------------                                                    \n",
      "                                                                                    \n",
      "\n",
      "Minimum Validation Score: 0.352691566326805\n",
      "--------------------------------                                                    \n",
      "{'hidden_dim': 461, 'n_layers': 3, 'window_size': 2}                                 \n",
      "--------------------------------                                                     \n",
      "FOLD 0                                                                               \n",
      "--------------------------------                                                     \n",
      "Device is cuda:0.                                                                    \n",
      "\n",
      " 22%|██▏       | 11/50 [4:13:35<12:13:39, 1128.70s/it, best loss: -0.352691566326805]"
     ]
    },
    {
     "data": {
      "text/html": [
       "Finishing last run (ID:hkvvkzzh) before initializing another..."
      ],
      "text/plain": [
       "<IPython.core.display.HTML object>"
      ]
     },
     "metadata": {},
     "output_type": "display_data"
    },
    {
     "data": {
      "text/html": [
       "<br/>Waiting for W&B process to finish, PID 124298... <strong style=\"color:green\">(success).</strong>"
      ],
      "text/plain": [
       "<IPython.core.display.HTML object>"
      ]
     },
     "metadata": {},
     "output_type": "display_data"
    },
    {
     "data": {
      "application/vnd.jupyter.widget-view+json": {
       "model_id": "",
       "version_major": 2,
       "version_minor": 0
      },
      "text/plain": [
       "VBox(children=(Label(value=' 0.00MB of 0.00MB uploaded (0.00MB deduped)\\r'), FloatProgress(value=1.0, max=1.0)…"
      ]
     },
     "metadata": {},
     "output_type": "display_data"
    },
    {
     "data": {
      "text/html": [
       "<style>\n",
       "    table.wandb td:nth-child(1) { padding: 0 10px; text-align: right }\n",
       "    .wandb-row { display: flex; flex-direction: row; flex-wrap: wrap; width: 100% }\n",
       "    .wandb-col { display: flex; flex-direction: column; flex-basis: 100%; flex: 1; padding: 10px; }\n",
       "    </style>\n",
       "<div class=\"wandb-row\"><div class=\"wandb-col\">\n",
       "</div><div class=\"wandb-col\">\n",
       "<h3>Run summary:</h3><br/><table class=\"wandb\"><tr><td>train_accuracy</td><td>0.64727</td></tr><tr><td>train_batch_loss</td><td>0.77471</td></tr><tr><td>train_epoch_loss</td><td>1.37378</td></tr><tr><td>train_score</td><td>-0.89793</td></tr><tr><td>valid_accuracy</td><td>0.62839</td></tr><tr><td>valid_epoch_loss</td><td>1.4636</td></tr><tr><td>valid_score</td><td>-0.95067</td></tr></table>\n",
       "</div></div>\n",
       "Synced 6 W&B file(s), 0 media file(s), 0 artifact file(s) and 0 other file(s)\n",
       "<br/>Synced <strong style=\"color:#cdcd00\">misty-vortex-44</strong>: <a href=\"https://wandb.ai/2djagpal/Lithology-LSTM_search_new/runs/hkvvkzzh\" target=\"_blank\">https://wandb.ai/2djagpal/Lithology-LSTM_search_new/runs/hkvvkzzh</a><br/>\n",
       "Find logs at: <code>./wandb/run-20211205_192954-hkvvkzzh/logs</code><br/>\n"
      ],
      "text/plain": [
       "<IPython.core.display.HTML object>"
      ]
     },
     "metadata": {},
     "output_type": "display_data"
    },
    {
     "data": {
      "text/html": [
       "Successfully finished last run (ID:hkvvkzzh). Initializing new run:<br/>"
      ],
      "text/plain": [
       "<IPython.core.display.HTML object>"
      ]
     },
     "metadata": {},
     "output_type": "display_data"
    },
    {
     "data": {
      "text/html": [
       "\n",
       "                    Syncing run <strong><a href=\"https://wandb.ai/2djagpal/Lithology-LSTM_search_new/runs/1rjmbxur\" target=\"_blank\">wild-paper-45</a></strong> to <a href=\"https://wandb.ai/2djagpal/Lithology-LSTM_search_new\" target=\"_blank\">Weights & Biases</a> (<a href=\"https://docs.wandb.com/integrations/jupyter.html\" target=\"_blank\">docs</a>).<br/>\n",
       "\n",
       "                "
      ],
      "text/plain": [
       "<IPython.core.display.HTML object>"
      ]
     },
     "metadata": {},
     "output_type": "display_data"
    },
    {
     "name": "stdout",
     "output_type": "stream",
     "text": [
      "Loading Data ...                                                                     \n",
      "\n",
      "Starting training...                                                                 \n",
      "\n",
      "Training:                                                                            \n",
      "Epoch: 1 ... Accuracy: 0.5509564207055044 ... Score: -1.2729809014873859             \n",
      "\n",
      "Validation:                                                                          \n",
      "Epoch: 1 ... Accuracy: 0.5493052203517256 ... Score: -1.2795580364198664             \n",
      "\n",
      "Training:                                                                            \n",
      "Epoch: 2 ... Accuracy: 0.5234363653450206 ... Score: -1.2166328672971611             \n",
      "\n",
      "Validation:                                                                          \n",
      "Epoch: 2 ... Accuracy: 0.5182633285348757 ... Score: -1.2323181462860364             \n",
      "\n",
      "Training:                                                                            \n",
      "Epoch: 3 ... Accuracy: 0.6613121630742155 ... Score: -0.8896184942888142             \n",
      "\n",
      "Validation:                                                                          \n",
      "Epoch: 3 ... Accuracy: 0.6524521257736979 ... Score: -0.9156359593853988             \n",
      "\n",
      "Training:                                                                            \n",
      "Epoch: 4 ... Accuracy: 0.6979906194735628 ... Score: -0.8206038393520773             \n",
      "\n",
      "Validation:                                                                          \n",
      "Epoch: 4 ... Accuracy: 0.6888890787388458 ... Score: -0.8479114962217486             \n",
      "\n",
      "Training:                                                                            \n",
      "Epoch: 5 ... Accuracy: 0.718435767315102 ... Score: -0.7476971843469941              \n",
      "\n",
      "Validation:                                                                          \n",
      "Epoch: 5 ... Accuracy: 0.7096363566464334 ... Score: -0.7748079904999081             \n",
      "\n",
      "Class F1 Scores                                                                      \n",
      "Training:                                                                            \n",
      "[0.64873072 0.21492091 0.85593698 0.28545342 0.         0.54005606\n",
      " 0.00568923 0.62521312 0.65972222 0.06191483 0.24063612 0.        ]\n",
      "\n",
      "Validation:                                                                          \n",
      "[0.62689146 0.20420807 0.85047238 0.2803298  0.         0.51885085\n",
      " 0.00474608 0.62324085 0.65181058 0.07627628 0.21715251 0.        ]\n",
      "\n",
      "Training Runtime: 436.54717469215393                                                 \n",
      "\n",
      "Model Fitting Complete                                                               \n",
      "Fold 0 Validation Score: 0.2967951109743818                                          \n",
      "********************************                                                     \n",
      "F1 Score too low ... stopped early.                                                  \n",
      "********************************                                                     \n",
      "{'hidden_dim': 351, 'n_layers': 2, 'window_size': 5}                                 \n",
      "--------------------------------                                                   \n",
      "FOLD 0                                                                             \n",
      "--------------------------------                                                   \n",
      "Device is cuda:0.                                                                  \n",
      "\n",
      " 24%|██▍       | 12/50 [4:20:56<9:42:11, 919.25s/it, best loss: -0.352691566326805]"
     ]
    },
    {
     "data": {
      "text/html": [
       "Finishing last run (ID:1rjmbxur) before initializing another..."
      ],
      "text/plain": [
       "<IPython.core.display.HTML object>"
      ]
     },
     "metadata": {},
     "output_type": "display_data"
    },
    {
     "data": {
      "text/html": [
       "<br/>Waiting for W&B process to finish, PID 126119... <strong style=\"color:green\">(success).</strong>"
      ],
      "text/plain": [
       "<IPython.core.display.HTML object>"
      ]
     },
     "metadata": {},
     "output_type": "display_data"
    },
    {
     "data": {
      "application/vnd.jupyter.widget-view+json": {
       "model_id": "",
       "version_major": 2,
       "version_minor": 0
      },
      "text/plain": [
       "VBox(children=(Label(value=' 0.00MB of 0.00MB uploaded (0.00MB deduped)\\r'), FloatProgress(value=1.0, max=1.0)…"
      ]
     },
     "metadata": {},
     "output_type": "display_data"
    },
    {
     "data": {
      "text/html": [
       "<style>\n",
       "    table.wandb td:nth-child(1) { padding: 0 10px; text-align: right }\n",
       "    .wandb-row { display: flex; flex-direction: row; flex-wrap: wrap; width: 100% }\n",
       "    .wandb-col { display: flex; flex-direction: column; flex-basis: 100%; flex: 1; padding: 10px; }\n",
       "    </style>\n",
       "<div class=\"wandb-row\"><div class=\"wandb-col\">\n",
       "</div><div class=\"wandb-col\">\n",
       "<h3>Run summary:</h3><br/><table class=\"wandb\"><tr><td>train_accuracy</td><td>0.71844</td></tr><tr><td>train_batch_loss</td><td>0.8578</td></tr><tr><td>train_epoch_loss</td><td>1.52487</td></tr><tr><td>train_score</td><td>-0.7477</td></tr><tr><td>valid_accuracy</td><td>0.70964</td></tr><tr><td>valid_epoch_loss</td><td>1.58929</td></tr><tr><td>valid_score</td><td>-0.77481</td></tr></table>\n",
       "</div></div>\n",
       "Synced 6 W&B file(s), 0 media file(s), 0 artifact file(s) and 0 other file(s)\n",
       "<br/>Synced <strong style=\"color:#cdcd00\">wild-paper-45</strong>: <a href=\"https://wandb.ai/2djagpal/Lithology-LSTM_search_new/runs/1rjmbxur\" target=\"_blank\">https://wandb.ai/2djagpal/Lithology-LSTM_search_new/runs/1rjmbxur</a><br/>\n",
       "Find logs at: <code>./wandb/run-20211205_193638-1rjmbxur/logs</code><br/>\n"
      ],
      "text/plain": [
       "<IPython.core.display.HTML object>"
      ]
     },
     "metadata": {},
     "output_type": "display_data"
    },
    {
     "data": {
      "text/html": [
       "Successfully finished last run (ID:1rjmbxur). Initializing new run:<br/>"
      ],
      "text/plain": [
       "<IPython.core.display.HTML object>"
      ]
     },
     "metadata": {},
     "output_type": "display_data"
    },
    {
     "data": {
      "text/html": [
       "\n",
       "                    Syncing run <strong><a href=\"https://wandb.ai/2djagpal/Lithology-LSTM_search_new/runs/qxyztgww\" target=\"_blank\">lilac-microwave-46</a></strong> to <a href=\"https://wandb.ai/2djagpal/Lithology-LSTM_search_new\" target=\"_blank\">Weights & Biases</a> (<a href=\"https://docs.wandb.com/integrations/jupyter.html\" target=\"_blank\">docs</a>).<br/>\n",
       "\n",
       "                "
      ],
      "text/plain": [
       "<IPython.core.display.HTML object>"
      ]
     },
     "metadata": {},
     "output_type": "display_data"
    },
    {
     "name": "stdout",
     "output_type": "stream",
     "text": [
      "Loading Data ...                                                                   \n",
      "\n",
      "Starting training...                                                               \n",
      "\n",
      "Training:                                                                          \n",
      "Epoch: 1 ... Accuracy: 0.5379759677405576 ... Score: -1.1670194776208662           \n",
      "\n",
      "Validation:                                                                        \n",
      "Epoch: 1 ... Accuracy: 0.5259180787943768 ... Score: -1.19900268257989             \n",
      "\n",
      "Training:                                                                          \n",
      "Epoch: 2 ... Accuracy: 0.6789850150788972 ... Score: -0.8493026010029816           \n",
      "\n",
      "Validation:                                                                        \n",
      "Epoch: 2 ... Accuracy: 0.662584417969868 ... Score: -0.9009672024707074            \n",
      "\n",
      "Training:                                                                          \n",
      "Epoch: 3 ... Accuracy: 0.6839871081836123 ... Score: -0.8290135015933225           \n",
      "\n",
      "Validation:                                                                        \n",
      "Epoch: 3 ... Accuracy: 0.6681588873273729 ... Score: -0.8795327270474962           \n",
      "\n",
      "Training:                                                                          \n",
      "Epoch: 4 ... Accuracy: 0.5939793337946707 ... Score: -1.1667547692886007           \n",
      "\n",
      "Validation:                                                                        \n",
      "Epoch: 4 ... Accuracy: 0.5808426205559092 ... Score: -1.205766799229399            \n",
      "\n",
      "Training:                                                                          \n",
      "Epoch: 5 ... Accuracy: 0.7202394682659695 ... Score: -0.7442387559696201           \n",
      "\n",
      "Validation:                                                                        \n",
      "Epoch: 5 ... Accuracy: 0.7048521377342452 ... Score: -0.7907406141741029           \n",
      "\n",
      "Class F1 Scores                                                                    \n",
      "Training:                                                                          \n",
      "[0.59899866 0.23886381 0.84583752 0.09481011 0.         0.43531576\n",
      " 0.5244587  0.95166582 0.73469388 0.12524044 0.52153735 0.13636364]\n",
      "\n",
      "Validation:                                                                        \n",
      "[0.5451706  0.22188828 0.83747645 0.08975054 0.         0.41737825\n",
      " 0.52181138 0.94746009 0.66090713 0.10763381 0.40574506 0.        ]\n",
      "\n",
      "Training Runtime: 412.4982500076294                                                \n",
      "\n",
      "Model Fitting Complete                                                             \n",
      "Fold 0 Validation Score: 0.2915756462039554                                        \n",
      "********************************                                                   \n",
      "F1 Score too low ... stopped early.                                                \n",
      "********************************                                                   \n",
      "{'hidden_dim': 163, 'n_layers': 1, 'window_size': 9}                               \n",
      "--------------------------------                                                   \n",
      "FOLD 0                                                                             \n",
      "--------------------------------                                                   \n",
      "Device is cuda:0.                                                                  \n",
      "\n",
      " 26%|██▌       | 13/50 [4:27:52<7:52:52, 766.81s/it, best loss: -0.352691566326805]"
     ]
    },
    {
     "data": {
      "text/html": [
       "Finishing last run (ID:qxyztgww) before initializing another..."
      ],
      "text/plain": [
       "<IPython.core.display.HTML object>"
      ]
     },
     "metadata": {},
     "output_type": "display_data"
    },
    {
     "data": {
      "text/html": [
       "<br/>Waiting for W&B process to finish, PID 128145... <strong style=\"color:green\">(success).</strong>"
      ],
      "text/plain": [
       "<IPython.core.display.HTML object>"
      ]
     },
     "metadata": {},
     "output_type": "display_data"
    },
    {
     "data": {
      "application/vnd.jupyter.widget-view+json": {
       "model_id": "",
       "version_major": 2,
       "version_minor": 0
      },
      "text/plain": [
       "VBox(children=(Label(value=' 0.00MB of 0.00MB uploaded (0.00MB deduped)\\r'), FloatProgress(value=1.0, max=1.0)…"
      ]
     },
     "metadata": {},
     "output_type": "display_data"
    },
    {
     "data": {
      "text/html": [
       "<style>\n",
       "    table.wandb td:nth-child(1) { padding: 0 10px; text-align: right }\n",
       "    .wandb-row { display: flex; flex-direction: row; flex-wrap: wrap; width: 100% }\n",
       "    .wandb-col { display: flex; flex-direction: column; flex-basis: 100%; flex: 1; padding: 10px; }\n",
       "    </style>\n",
       "<div class=\"wandb-row\"><div class=\"wandb-col\">\n",
       "</div><div class=\"wandb-col\">\n",
       "<h3>Run summary:</h3><br/><table class=\"wandb\"><tr><td>train_accuracy</td><td>0.72024</td></tr><tr><td>train_batch_loss</td><td>0.76058</td></tr><tr><td>train_epoch_loss</td><td>1.53893</td></tr><tr><td>train_score</td><td>-0.74424</td></tr><tr><td>valid_accuracy</td><td>0.70485</td></tr><tr><td>valid_epoch_loss</td><td>1.62904</td></tr><tr><td>valid_score</td><td>-0.79074</td></tr></table>\n",
       "</div></div>\n",
       "Synced 6 W&B file(s), 0 media file(s), 0 artifact file(s) and 0 other file(s)\n",
       "<br/>Synced <strong style=\"color:#cdcd00\">lilac-microwave-46</strong>: <a href=\"https://wandb.ai/2djagpal/Lithology-LSTM_search_new/runs/qxyztgww\" target=\"_blank\">https://wandb.ai/2djagpal/Lithology-LSTM_search_new/runs/qxyztgww</a><br/>\n",
       "Find logs at: <code>./wandb/run-20211205_194358-qxyztgww/logs</code><br/>\n"
      ],
      "text/plain": [
       "<IPython.core.display.HTML object>"
      ]
     },
     "metadata": {},
     "output_type": "display_data"
    },
    {
     "data": {
      "text/html": [
       "Successfully finished last run (ID:qxyztgww). Initializing new run:<br/>"
      ],
      "text/plain": [
       "<IPython.core.display.HTML object>"
      ]
     },
     "metadata": {},
     "output_type": "display_data"
    },
    {
     "data": {
      "text/html": [
       "\n",
       "                    Syncing run <strong><a href=\"https://wandb.ai/2djagpal/Lithology-LSTM_search_new/runs/38qwdd2y\" target=\"_blank\">curious-plasma-47</a></strong> to <a href=\"https://wandb.ai/2djagpal/Lithology-LSTM_search_new\" target=\"_blank\">Weights & Biases</a> (<a href=\"https://docs.wandb.com/integrations/jupyter.html\" target=\"_blank\">docs</a>).<br/>\n",
       "\n",
       "                "
      ],
      "text/plain": [
       "<IPython.core.display.HTML object>"
      ]
     },
     "metadata": {},
     "output_type": "display_data"
    },
    {
     "name": "stdout",
     "output_type": "stream",
     "text": [
      "Loading Data ...                                                                   \n",
      "\n",
      "Starting training...                                                               \n",
      "\n",
      "Training:                                                                          \n",
      "Epoch: 1 ... Accuracy: 0.6719175829339348 ... Score: -0.8923468723035258           \n",
      "\n",
      "Validation:                                                                        \n",
      "Epoch: 1 ... Accuracy: 0.6595387500373767 ... Score: -0.9304371366449811           \n",
      "\n",
      "Training:                                                                          \n",
      "Epoch: 2 ... Accuracy: 0.6411446719805897 ... Score: -0.9743402448505353           \n",
      "\n",
      "Validation:                                                                        \n",
      "Epoch: 2 ... Accuracy: 0.6250539292533628 ... Score: -1.0227576109661132           \n",
      "\n",
      "Training:                                                                          \n",
      "Epoch: 3 ... Accuracy: 0.6702164013976813 ... Score: -0.8928748205910244           \n",
      "\n",
      "Validation:                                                                        \n",
      "Epoch: 3 ... Accuracy: 0.6494833470737239 ... Score: -0.9515293481928895           \n",
      "\n",
      "Training:                                                                          \n",
      "Epoch: 4 ... Accuracy: 0.7069503891466113 ... Score: -0.7596786069747375           \n",
      "\n",
      "Validation:                                                                        \n",
      "Epoch: 4 ... Accuracy: 0.6841262179468012 ... Score: -0.823597946203167            \n",
      "\n",
      "Training:                                                                          \n",
      "Epoch: 5 ... Accuracy: 0.6585249164893935 ... Score: -0.9394588149609999           \n",
      "\n",
      "Validation:                                                                        \n",
      "Epoch: 5 ... Accuracy: 0.644186533278087 ... Score: -0.9853744932785996            \n",
      "\n",
      "Class F1 Scores                                                                    \n",
      "Training:                                                                          \n",
      "[0.59737215 0.2839439  0.79901509 0.08770551 0.         0.50367299\n",
      " 0.60934104 0.83990749 0.09791667 0.57551474 0.19684764 0.11494253]\n",
      "\n",
      "Validation:                                                                        \n",
      "[0.57196074 0.27544252 0.78797557 0.08116972 0.         0.48597675\n",
      " 0.61655727 0.84928664 0.05333333 0.5491453  0.17959745 0.        ]\n",
      "\n",
      "Training Runtime: 388.0509352684021                                                \n",
      "\n",
      "Model Fitting Complete                                                             \n",
      "Fold 0 Validation Score: 0.26624780844743196                                       \n",
      "********************************                                                   \n",
      "F1 Score too low ... stopped early.                                                \n",
      "********************************                                                   \n",
      "{'hidden_dim': 112, 'n_layers': 2, 'window_size': 5}                               \n",
      "--------------------------------                                                   \n",
      "FOLD 0                                                                             \n",
      "--------------------------------                                                   \n",
      "Device is cuda:0.                                                                  \n",
      "\n",
      " 28%|██▊       | 14/50 [4:34:23<6:32:02, 653.41s/it, best loss: -0.352691566326805]"
     ]
    },
    {
     "data": {
      "text/html": [
       "Finishing last run (ID:38qwdd2y) before initializing another..."
      ],
      "text/plain": [
       "<IPython.core.display.HTML object>"
      ]
     },
     "metadata": {},
     "output_type": "display_data"
    },
    {
     "data": {
      "text/html": [
       "<br/>Waiting for W&B process to finish, PID 129964... <strong style=\"color:green\">(success).</strong>"
      ],
      "text/plain": [
       "<IPython.core.display.HTML object>"
      ]
     },
     "metadata": {},
     "output_type": "display_data"
    },
    {
     "data": {
      "application/vnd.jupyter.widget-view+json": {
       "model_id": "",
       "version_major": 2,
       "version_minor": 0
      },
      "text/plain": [
       "VBox(children=(Label(value=' 0.00MB of 0.00MB uploaded (0.00MB deduped)\\r'), FloatProgress(value=1.0, max=1.0)…"
      ]
     },
     "metadata": {},
     "output_type": "display_data"
    },
    {
     "data": {
      "text/html": [
       "<style>\n",
       "    table.wandb td:nth-child(1) { padding: 0 10px; text-align: right }\n",
       "    .wandb-row { display: flex; flex-direction: row; flex-wrap: wrap; width: 100% }\n",
       "    .wandb-col { display: flex; flex-direction: column; flex-basis: 100%; flex: 1; padding: 10px; }\n",
       "    </style>\n",
       "<div class=\"wandb-row\"><div class=\"wandb-col\">\n",
       "</div><div class=\"wandb-col\">\n",
       "<h3>Run summary:</h3><br/><table class=\"wandb\"><tr><td>train_accuracy</td><td>0.65852</td></tr><tr><td>train_batch_loss</td><td>1.26679</td></tr><tr><td>train_epoch_loss</td><td>1.37888</td></tr><tr><td>train_score</td><td>-0.93946</td></tr><tr><td>valid_accuracy</td><td>0.64419</td></tr><tr><td>valid_epoch_loss</td><td>1.44043</td></tr><tr><td>valid_score</td><td>-0.98537</td></tr></table>\n",
       "</div></div>\n",
       "Synced 6 W&B file(s), 0 media file(s), 0 artifact file(s) and 0 other file(s)\n",
       "<br/>Synced <strong style=\"color:#cdcd00\">curious-plasma-47</strong>: <a href=\"https://wandb.ai/2djagpal/Lithology-LSTM_search_new/runs/38qwdd2y\" target=\"_blank\">https://wandb.ai/2djagpal/Lithology-LSTM_search_new/runs/38qwdd2y</a><br/>\n",
       "Find logs at: <code>./wandb/run-20211205_195055-38qwdd2y/logs</code><br/>\n"
      ],
      "text/plain": [
       "<IPython.core.display.HTML object>"
      ]
     },
     "metadata": {},
     "output_type": "display_data"
    },
    {
     "data": {
      "text/html": [
       "Successfully finished last run (ID:38qwdd2y). Initializing new run:<br/>"
      ],
      "text/plain": [
       "<IPython.core.display.HTML object>"
      ]
     },
     "metadata": {},
     "output_type": "display_data"
    },
    {
     "data": {
      "text/html": [
       "\n",
       "                    Syncing run <strong><a href=\"https://wandb.ai/2djagpal/Lithology-LSTM_search_new/runs/rkzfqob4\" target=\"_blank\">glorious-star-48</a></strong> to <a href=\"https://wandb.ai/2djagpal/Lithology-LSTM_search_new\" target=\"_blank\">Weights & Biases</a> (<a href=\"https://docs.wandb.com/integrations/jupyter.html\" target=\"_blank\">docs</a>).<br/>\n",
       "\n",
       "                "
      ],
      "text/plain": [
       "<IPython.core.display.HTML object>"
      ]
     },
     "metadata": {},
     "output_type": "display_data"
    },
    {
     "name": "stdout",
     "output_type": "stream",
     "text": [
      "Loading Data ...                                                                   \n",
      "\n",
      "Starting training...                                                               \n",
      "\n",
      "Training:                                                                          \n",
      "Epoch: 1 ... Accuracy: 0.6782428172335137 ... Score: -0.8934580332504635           \n",
      "\n",
      "Validation:                                                                        \n",
      "Epoch: 1 ... Accuracy: 0.6603418153547798 ... Score: -0.9496786670824381           \n",
      "\n",
      "Training:                                                                          \n",
      "Epoch: 2 ... Accuracy: 0.67497287507155 ... Score: -0.8665497571571367             \n",
      "\n",
      "Validation:                                                                        \n",
      "Epoch: 2 ... Accuracy: 0.6610167319513206 ... Score: -0.9089674203235328           \n",
      "\n",
      "Training:                                                                          \n",
      "Epoch: 3 ... Accuracy: 0.6519871679866042 ... Score: -0.9463057235734851           \n",
      "\n",
      "Validation:                                                                        \n",
      "Epoch: 3 ... Accuracy: 0.6363267450652064 ... Score: -0.996254319679799            \n",
      "\n",
      "Training:                                                                          \n",
      "Epoch: 4 ... Accuracy: 0.7113213471051081 ... Score: -0.7499448691168806           \n",
      "\n",
      "Validation:                                                                        \n",
      "Epoch: 4 ... Accuracy: 0.691622918117239 ... Score: -0.8076573132339184            \n",
      "\n",
      "Training:                                                                          \n",
      "Epoch: 5 ... Accuracy: 0.7265743137606684 ... Score: -0.7136635419603421           \n",
      "\n",
      "Validation:                                                                        \n",
      "Epoch: 5 ... Accuracy: 0.7069665916284712 ... Score: -0.7732931658287164           \n",
      "\n",
      "Class F1 Scores                                                                    \n",
      "Training:                                                                          \n",
      "[0.65689815 0.30815334 0.8579018  0.21726165 0.         0.4396396\n",
      " 0.52996939 0.58886628 0.06638116 0.41966474 0.43379924 0.        ]\n",
      "\n",
      "Validation:                                                                        \n",
      "[0.60151927 0.28369654 0.8460149  0.19845569 0.         0.41510522\n",
      " 0.5463254  0.59897361 0.04405286 0.4037568  0.28478261 0.        ]\n",
      "\n",
      "Training Runtime: 393.5999848842621                                                \n",
      "\n",
      "Model Fitting Complete                                                             \n",
      "Fold 0 Validation Score: 0.3289789503247535                                        \n",
      "********************************                                                   \n",
      "F1 Score too low ... stopped early.                                                \n",
      "********************************                                                   \n",
      "{'hidden_dim': 2, 'n_layers': 1, 'window_size': 1}                                 \n",
      "--------------------------------                                                   \n",
      "FOLD 0                                                                             \n",
      "--------------------------------                                                   \n",
      "Device is cuda:0.                                                                  \n",
      "\n",
      " 30%|███       | 15/50 [4:41:00<5:36:03, 576.09s/it, best loss: -0.352691566326805]"
     ]
    },
    {
     "data": {
      "text/html": [
       "Finishing last run (ID:rkzfqob4) before initializing another..."
      ],
      "text/plain": [
       "<IPython.core.display.HTML object>"
      ]
     },
     "metadata": {},
     "output_type": "display_data"
    },
    {
     "data": {
      "text/html": [
       "<br/>Waiting for W&B process to finish, PID 131716... <strong style=\"color:green\">(success).</strong>"
      ],
      "text/plain": [
       "<IPython.core.display.HTML object>"
      ]
     },
     "metadata": {},
     "output_type": "display_data"
    },
    {
     "data": {
      "application/vnd.jupyter.widget-view+json": {
       "model_id": "",
       "version_major": 2,
       "version_minor": 0
      },
      "text/plain": [
       "VBox(children=(Label(value=' 0.00MB of 0.00MB uploaded (0.00MB deduped)\\r'), FloatProgress(value=1.0, max=1.0)…"
      ]
     },
     "metadata": {},
     "output_type": "display_data"
    },
    {
     "data": {
      "text/html": [
       "<style>\n",
       "    table.wandb td:nth-child(1) { padding: 0 10px; text-align: right }\n",
       "    .wandb-row { display: flex; flex-direction: row; flex-wrap: wrap; width: 100% }\n",
       "    .wandb-col { display: flex; flex-direction: column; flex-basis: 100%; flex: 1; padding: 10px; }\n",
       "    </style>\n",
       "<div class=\"wandb-row\"><div class=\"wandb-col\">\n",
       "</div><div class=\"wandb-col\">\n",
       "<h3>Run summary:</h3><br/><table class=\"wandb\"><tr><td>train_accuracy</td><td>0.72657</td></tr><tr><td>train_batch_loss</td><td>0.86706</td></tr><tr><td>train_epoch_loss</td><td>1.44777</td></tr><tr><td>train_score</td><td>-0.71366</td></tr><tr><td>valid_accuracy</td><td>0.70697</td></tr><tr><td>valid_epoch_loss</td><td>1.56888</td></tr><tr><td>valid_score</td><td>-0.77329</td></tr></table>\n",
       "</div></div>\n",
       "Synced 6 W&B file(s), 0 media file(s), 0 artifact file(s) and 0 other file(s)\n",
       "<br/>Synced <strong style=\"color:#cdcd00\">glorious-star-48</strong>: <a href=\"https://wandb.ai/2djagpal/Lithology-LSTM_search_new/runs/rkzfqob4\" target=\"_blank\">https://wandb.ai/2djagpal/Lithology-LSTM_search_new/runs/rkzfqob4</a><br/>\n",
       "Find logs at: <code>./wandb/run-20211205_195726-rkzfqob4/logs</code><br/>\n"
      ],
      "text/plain": [
       "<IPython.core.display.HTML object>"
      ]
     },
     "metadata": {},
     "output_type": "display_data"
    },
    {
     "data": {
      "text/html": [
       "Successfully finished last run (ID:rkzfqob4). Initializing new run:<br/>"
      ],
      "text/plain": [
       "<IPython.core.display.HTML object>"
      ]
     },
     "metadata": {},
     "output_type": "display_data"
    },
    {
     "data": {
      "text/html": [
       "\n",
       "                    Syncing run <strong><a href=\"https://wandb.ai/2djagpal/Lithology-LSTM_search_new/runs/1niho88u\" target=\"_blank\">easy-mountain-49</a></strong> to <a href=\"https://wandb.ai/2djagpal/Lithology-LSTM_search_new\" target=\"_blank\">Weights & Biases</a> (<a href=\"https://docs.wandb.com/integrations/jupyter.html\" target=\"_blank\">docs</a>).<br/>\n",
       "\n",
       "                "
      ],
      "text/plain": [
       "<IPython.core.display.HTML object>"
      ]
     },
     "metadata": {},
     "output_type": "display_data"
    },
    {
     "name": "stdout",
     "output_type": "stream",
     "text": [
      "Loading Data ...                                                                   \n",
      "\n",
      "Starting training...                                                               \n",
      "\n",
      "Training:                                                                          \n",
      "Epoch: 1 ... Accuracy: 0.3490017172001948 ... Score: -2.203530539038539            \n",
      "\n",
      "Validation:                                                                        \n",
      "Epoch: 1 ... Accuracy: 0.34970504436081556 ... Score: -2.20104345095962            \n",
      "\n",
      "Training:                                                                          \n",
      "Epoch: 2 ... Accuracy: 0.5919983596893662 ... Score: -1.237299339604104            \n",
      "\n",
      "Validation:                                                                        \n",
      "Epoch: 2 ... Accuracy: 0.5918762254221432 ... Score: -1.2378952854085594           \n",
      "\n",
      "Training:                                                                          \n",
      "Epoch: 3 ... Accuracy: 0.6113617141246124 ... Score: -1.1677320409479628           \n",
      "\n",
      "Validation:                                                                        \n",
      "Epoch: 3 ... Accuracy: 0.6115983135628335 ... Score: -1.167126756171429            \n",
      "\n",
      "Training:                                                                          \n",
      "Epoch: 4 ... Accuracy: 0.6144127346199519 ... Score: -1.1568991561370685           \n",
      "\n",
      "Validation:                                                                        \n",
      "Epoch: 4 ... Accuracy: 0.6145841787589224 ... Score: -1.1563804180211275           \n",
      "\n",
      "Training:                                                                          \n",
      "Epoch: 5 ... Accuracy: 0.6148196085467018 ... Score: -1.1553127749869714           \n",
      "\n",
      "Validation:                                                                        \n",
      "Epoch: 5 ... Accuracy: 0.6150070695377675 ... Score: -1.1547038055898473           \n",
      "\n",
      "Class F1 Scores                                                                    \n",
      "Training:                                                                          \n",
      "[0.00651048 0.         0.76805376 0.         0.         0.\n",
      " 0.         0.         0.         0.         0.         0.        ]\n",
      "\n",
      "Validation:                                                                        \n",
      "[0.00667159 0.         0.76805574 0.         0.         0.\n",
      " 0.         0.         0.         0.         0.         0.        ]\n",
      "\n",
      "Training Runtime: 371.443883895874                                                 \n",
      "\n",
      "Model Fitting Complete                                                             \n",
      "Fold 0 Validation Score: 0.07335269426621262                                       \n",
      "********************************                                                   \n",
      "F1 Score too low ... stopped early.                                                \n",
      "********************************                                                   \n",
      "{'hidden_dim': 353, 'n_layers': 2, 'window_size': 1}                               \n",
      "--------------------------------                                                   \n",
      "FOLD 0                                                                             \n",
      "--------------------------------                                                   \n",
      "Device is cuda:0.                                                                  \n",
      "\n",
      " 32%|███▏      | 16/50 [4:47:15<4:52:06, 515.48s/it, best loss: -0.352691566326805]"
     ]
    },
    {
     "data": {
      "text/html": [
       "Finishing last run (ID:1niho88u) before initializing another..."
      ],
      "text/plain": [
       "<IPython.core.display.HTML object>"
      ]
     },
     "metadata": {},
     "output_type": "display_data"
    },
    {
     "data": {
      "text/html": [
       "<br/>Waiting for W&B process to finish, PID 133505... <strong style=\"color:green\">(success).</strong>"
      ],
      "text/plain": [
       "<IPython.core.display.HTML object>"
      ]
     },
     "metadata": {},
     "output_type": "display_data"
    },
    {
     "data": {
      "application/vnd.jupyter.widget-view+json": {
       "model_id": "",
       "version_major": 2,
       "version_minor": 0
      },
      "text/plain": [
       "VBox(children=(Label(value=' 0.00MB of 0.00MB uploaded (0.00MB deduped)\\r'), FloatProgress(value=1.0, max=1.0)…"
      ]
     },
     "metadata": {},
     "output_type": "display_data"
    },
    {
     "data": {
      "text/html": [
       "<style>\n",
       "    table.wandb td:nth-child(1) { padding: 0 10px; text-align: right }\n",
       "    .wandb-row { display: flex; flex-direction: row; flex-wrap: wrap; width: 100% }\n",
       "    .wandb-col { display: flex; flex-direction: column; flex-basis: 100%; flex: 1; padding: 10px; }\n",
       "    </style>\n",
       "<div class=\"wandb-row\"><div class=\"wandb-col\">\n",
       "</div><div class=\"wandb-col\">\n",
       "<h3>Run summary:</h3><br/><table class=\"wandb\"><tr><td>train_accuracy</td><td>0.61482</td></tr><tr><td>train_batch_loss</td><td>1.96756</td></tr><tr><td>train_epoch_loss</td><td>2.3291</td></tr><tr><td>train_score</td><td>-1.15531</td></tr><tr><td>valid_accuracy</td><td>0.61501</td></tr><tr><td>valid_epoch_loss</td><td>2.3293</td></tr><tr><td>valid_score</td><td>-1.1547</td></tr></table>\n",
       "</div></div>\n",
       "Synced 6 W&B file(s), 0 media file(s), 0 artifact file(s) and 0 other file(s)\n",
       "<br/>Synced <strong style=\"color:#cdcd00\">easy-mountain-49</strong>: <a href=\"https://wandb.ai/2djagpal/Lithology-LSTM_search_new/runs/1niho88u\" target=\"_blank\">https://wandb.ai/2djagpal/Lithology-LSTM_search_new/runs/1niho88u</a><br/>\n",
       "Find logs at: <code>./wandb/run-20211205_200403-1niho88u/logs</code><br/>\n"
      ],
      "text/plain": [
       "<IPython.core.display.HTML object>"
      ]
     },
     "metadata": {},
     "output_type": "display_data"
    },
    {
     "data": {
      "text/html": [
       "Successfully finished last run (ID:1niho88u). Initializing new run:<br/>"
      ],
      "text/plain": [
       "<IPython.core.display.HTML object>"
      ]
     },
     "metadata": {},
     "output_type": "display_data"
    },
    {
     "data": {
      "text/html": [
       "\n",
       "                    Syncing run <strong><a href=\"https://wandb.ai/2djagpal/Lithology-LSTM_search_new/runs/2b6q8f2w\" target=\"_blank\">prime-sea-50</a></strong> to <a href=\"https://wandb.ai/2djagpal/Lithology-LSTM_search_new\" target=\"_blank\">Weights & Biases</a> (<a href=\"https://docs.wandb.com/integrations/jupyter.html\" target=\"_blank\">docs</a>).<br/>\n",
       "\n",
       "                "
      ],
      "text/plain": [
       "<IPython.core.display.HTML object>"
      ]
     },
     "metadata": {},
     "output_type": "display_data"
    },
    {
     "name": "stdout",
     "output_type": "stream",
     "text": [
      "Loading Data ...                                                                   \n",
      "\n",
      "Starting training...                                                               \n",
      "\n",
      "Training:                                                                          \n",
      "Epoch: 1 ... Accuracy: 0.6830847237528941 ... Score: -0.9036481693877028           \n",
      "\n",
      "Validation:                                                                        \n",
      "Epoch: 1 ... Accuracy: 0.6830668551876738 ... Score: -0.903316595686514            \n",
      "\n",
      "Training:                                                                          \n",
      "Epoch: 2 ... Accuracy: 0.7195933823717866 ... Score: -0.7575543993643796           \n",
      "\n",
      "Validation:                                                                        \n",
      "Epoch: 2 ... Accuracy: 0.7196362284977126 ... Score: -0.7572921961700619           \n",
      "\n",
      "Training:                                                                          \n",
      "Epoch: 3 ... Accuracy: 0.7213383482413649 ... Score: -0.7566875229600772           \n",
      "\n",
      "Validation:                                                                        \n",
      "Epoch: 3 ... Accuracy: 0.7209775184427367 ... Score: -0.7574603913661935           \n",
      "\n",
      "Training:                                                                          \n",
      "Epoch: 4 ... Accuracy: 0.6867209592399894 ... Score: -0.8218630394016283           \n",
      "\n",
      "Validation:                                                                        \n",
      "Epoch: 4 ... Accuracy: 0.6882526067585636 ... Score: -0.8177858677590634           \n",
      "\n",
      "Training:                                                                          \n",
      "Epoch: 5 ... Accuracy: 0.7066438988133378 ... Score: -0.7955579992909074           \n",
      "\n",
      "Validation:                                                                        \n",
      "Epoch: 5 ... Accuracy: 0.7077098542094719 ... Score: -0.7911544277518869           \n",
      "\n",
      "Class F1 Scores                                                                    \n",
      "Training:                                                                          \n",
      "[0.62025226 0.2314532  0.84195182 0.02360391 0.         0.43110754\n",
      " 0.55991148 0.94591468 0.67697799 0.08426928 0.32846493 0.02409639]\n",
      "\n",
      "Validation:                                                                        \n",
      "[0.62336671 0.23404805 0.84242006 0.02363453 0.         0.43143407\n",
      " 0.55672699 0.95190906 0.67120181 0.08319559 0.34226933 0.        ]\n",
      "\n",
      "Training Runtime: 400.2336881160736                                                \n",
      "\n",
      "Model Fitting Complete                                                             \n",
      "Fold 0 Validation Score: 0.3209040393641759                                        \n",
      "********************************                                                   \n",
      "F1 Score too low ... stopped early.                                                \n",
      "********************************                                                   \n",
      "{'hidden_dim': 389, 'n_layers': 1, 'window_size': 7}                               \n",
      "--------------------------------                                                   \n",
      "FOLD 0                                                                             \n",
      "--------------------------------                                                   \n",
      "Device is cuda:0.                                                                  \n",
      "\n",
      " 34%|███▍      | 17/50 [4:53:58<4:25:01, 481.85s/it, best loss: -0.352691566326805]"
     ]
    },
    {
     "data": {
      "text/html": [
       "Finishing last run (ID:2b6q8f2w) before initializing another..."
      ],
      "text/plain": [
       "<IPython.core.display.HTML object>"
      ]
     },
     "metadata": {},
     "output_type": "display_data"
    },
    {
     "data": {
      "text/html": [
       "<br/>Waiting for W&B process to finish, PID 135124... <strong style=\"color:green\">(success).</strong>"
      ],
      "text/plain": [
       "<IPython.core.display.HTML object>"
      ]
     },
     "metadata": {},
     "output_type": "display_data"
    },
    {
     "data": {
      "application/vnd.jupyter.widget-view+json": {
       "model_id": "",
       "version_major": 2,
       "version_minor": 0
      },
      "text/plain": [
       "VBox(children=(Label(value=' 0.00MB of 0.00MB uploaded (0.00MB deduped)\\r'), FloatProgress(value=1.0, max=1.0)…"
      ]
     },
     "metadata": {},
     "output_type": "display_data"
    },
    {
     "data": {
      "text/html": [
       "<style>\n",
       "    table.wandb td:nth-child(1) { padding: 0 10px; text-align: right }\n",
       "    .wandb-row { display: flex; flex-direction: row; flex-wrap: wrap; width: 100% }\n",
       "    .wandb-col { display: flex; flex-direction: column; flex-basis: 100%; flex: 1; padding: 10px; }\n",
       "    </style>\n",
       "<div class=\"wandb-row\"><div class=\"wandb-col\">\n",
       "</div><div class=\"wandb-col\">\n",
       "<h3>Run summary:</h3><br/><table class=\"wandb\"><tr><td>train_accuracy</td><td>0.70664</td></tr><tr><td>train_batch_loss</td><td>1.36026</td></tr><tr><td>train_epoch_loss</td><td>1.55465</td></tr><tr><td>train_score</td><td>-0.79556</td></tr><tr><td>valid_accuracy</td><td>0.70771</td></tr><tr><td>valid_epoch_loss</td><td>1.54604</td></tr><tr><td>valid_score</td><td>-0.79115</td></tr></table>\n",
       "</div></div>\n",
       "Synced 6 W&B file(s), 0 media file(s), 0 artifact file(s) and 0 other file(s)\n",
       "<br/>Synced <strong style=\"color:#cdcd00\">prime-sea-50</strong>: <a href=\"https://wandb.ai/2djagpal/Lithology-LSTM_search_new/runs/2b6q8f2w\" target=\"_blank\">https://wandb.ai/2djagpal/Lithology-LSTM_search_new/runs/2b6q8f2w</a><br/>\n",
       "Find logs at: <code>./wandb/run-20211205_201018-2b6q8f2w/logs</code><br/>\n"
      ],
      "text/plain": [
       "<IPython.core.display.HTML object>"
      ]
     },
     "metadata": {},
     "output_type": "display_data"
    },
    {
     "data": {
      "text/html": [
       "Successfully finished last run (ID:2b6q8f2w). Initializing new run:<br/>"
      ],
      "text/plain": [
       "<IPython.core.display.HTML object>"
      ]
     },
     "metadata": {},
     "output_type": "display_data"
    },
    {
     "data": {
      "text/html": [
       "\n",
       "                    Syncing run <strong><a href=\"https://wandb.ai/2djagpal/Lithology-LSTM_search_new/runs/3dhv4j64\" target=\"_blank\">sparkling-darkness-51</a></strong> to <a href=\"https://wandb.ai/2djagpal/Lithology-LSTM_search_new\" target=\"_blank\">Weights & Biases</a> (<a href=\"https://docs.wandb.com/integrations/jupyter.html\" target=\"_blank\">docs</a>).<br/>\n",
       "\n",
       "                "
      ],
      "text/plain": [
       "<IPython.core.display.HTML object>"
      ]
     },
     "metadata": {},
     "output_type": "display_data"
    },
    {
     "name": "stdout",
     "output_type": "stream",
     "text": [
      "Loading Data ...                                                                   \n",
      "\n",
      "Starting training...                                                               \n",
      "\n",
      "Training:                                                                          \n",
      "Epoch: 1 ... Accuracy: 0.5980811782898053 ... Score: -1.2124379810937114           \n",
      "\n",
      "Validation:                                                                        \n",
      "Epoch: 1 ... Accuracy: 0.5888220142415945 ... Score: -1.2450646723877952           \n",
      "\n",
      "Training:                                                                          \n",
      "Epoch: 2 ... Accuracy: 0.6723490188037693 ... Score: -0.8809528004886759           \n",
      "\n",
      "Validation:                                                                        \n",
      "Epoch: 2 ... Accuracy: 0.6632294331982076 ... Score: -0.9162104928172642           \n",
      "\n",
      "Training:                                                                          \n",
      "Epoch: 3 ... Accuracy: 0.5848049140972739 ... Score: -1.050314472964776            \n",
      "\n",
      "Validation:                                                                        \n",
      "Epoch: 3 ... Accuracy: 0.5664899638193445 ... Score: -1.100513983161258            \n",
      "\n",
      "Training:                                                                          \n",
      "Epoch: 4 ... Accuracy: 0.5795539978300057 ... Score: -1.054808107149875            \n",
      "\n",
      "Validation:                                                                        \n",
      "Epoch: 4 ... Accuracy: 0.5622439695347774 ... Score: -1.1043354848079692           \n",
      "\n",
      "Training:                                                                          \n",
      "Epoch: 5 ... Accuracy: 0.7120945143569897 ... Score: -0.7501827461961026           \n",
      "\n",
      "Validation:                                                                        \n",
      "Epoch: 5 ... Accuracy: 0.6950872052045467 ... Score: -0.7994189523414907           \n",
      "\n",
      "Class F1 Scores                                                                    \n",
      "Training:                                                                          \n",
      "[0.64506719 0.37892901 0.842078   0.1497963  0.         0.58498568\n",
      " 0.06438309 0.61488673 0.61576971 0.41086995 0.45778976 0.15555556]\n",
      "\n",
      "Validation:                                                                        \n",
      "[0.60276717 0.36270459 0.83179834 0.15409429 0.         0.5624901\n",
      " 0.04366001 0.6368     0.61097852 0.38490566 0.38701068 0.09090909]\n",
      "\n",
      "Training Runtime: 394.86575269699097                                               \n",
      "\n",
      "Model Fitting Complete                                                             \n",
      "Fold 0 Validation Score: 0.3742269635953985                                        \n",
      "--------------------------------                                                   \n",
      "FOLD 1                                                                             \n",
      "--------------------------------                                                   \n",
      "Device is cuda:0.                                                                  \n",
      "\n",
      " 34%|███▍      | 17/50 [5:00:37<4:25:01, 481.85s/it, best loss: -0.352691566326805]"
     ]
    },
    {
     "data": {
      "text/html": [
       "Finishing last run (ID:3dhv4j64) before initializing another..."
      ],
      "text/plain": [
       "<IPython.core.display.HTML object>"
      ]
     },
     "metadata": {},
     "output_type": "display_data"
    },
    {
     "data": {
      "text/html": [
       "<br/>Waiting for W&B process to finish, PID 136961... <strong style=\"color:green\">(success).</strong>"
      ],
      "text/plain": [
       "<IPython.core.display.HTML object>"
      ]
     },
     "metadata": {},
     "output_type": "display_data"
    },
    {
     "data": {
      "application/vnd.jupyter.widget-view+json": {
       "model_id": "",
       "version_major": 2,
       "version_minor": 0
      },
      "text/plain": [
       "VBox(children=(Label(value=' 0.00MB of 0.00MB uploaded (0.00MB deduped)\\r'), FloatProgress(value=1.0, max=1.0)…"
      ]
     },
     "metadata": {},
     "output_type": "display_data"
    },
    {
     "data": {
      "text/html": [
       "<style>\n",
       "    table.wandb td:nth-child(1) { padding: 0 10px; text-align: right }\n",
       "    .wandb-row { display: flex; flex-direction: row; flex-wrap: wrap; width: 100% }\n",
       "    .wandb-col { display: flex; flex-direction: column; flex-basis: 100%; flex: 1; padding: 10px; }\n",
       "    </style>\n",
       "<div class=\"wandb-row\"><div class=\"wandb-col\">\n",
       "</div><div class=\"wandb-col\">\n",
       "<h3>Run summary:</h3><br/><table class=\"wandb\"><tr><td>train_accuracy</td><td>0.71209</td></tr><tr><td>train_batch_loss</td><td>0.79699</td></tr><tr><td>train_epoch_loss</td><td>1.38718</td></tr><tr><td>train_score</td><td>-0.75018</td></tr><tr><td>valid_accuracy</td><td>0.69509</td></tr><tr><td>valid_epoch_loss</td><td>1.45284</td></tr><tr><td>valid_score</td><td>-0.79942</td></tr></table>\n",
       "</div></div>\n",
       "Synced 6 W&B file(s), 0 media file(s), 0 artifact file(s) and 0 other file(s)\n",
       "<br/>Synced <strong style=\"color:#cdcd00\">sparkling-darkness-51</strong>: <a href=\"https://wandb.ai/2djagpal/Lithology-LSTM_search_new/runs/3dhv4j64\" target=\"_blank\">https://wandb.ai/2djagpal/Lithology-LSTM_search_new/runs/3dhv4j64</a><br/>\n",
       "Find logs at: <code>./wandb/run-20211205_201701-3dhv4j64/logs</code><br/>\n"
      ],
      "text/plain": [
       "<IPython.core.display.HTML object>"
      ]
     },
     "metadata": {},
     "output_type": "display_data"
    },
    {
     "data": {
      "text/html": [
       "Successfully finished last run (ID:3dhv4j64). Initializing new run:<br/>"
      ],
      "text/plain": [
       "<IPython.core.display.HTML object>"
      ]
     },
     "metadata": {},
     "output_type": "display_data"
    },
    {
     "data": {
      "text/html": [
       "\n",
       "                    Syncing run <strong><a href=\"https://wandb.ai/2djagpal/Lithology-LSTM_search_new/runs/3m4a53q9\" target=\"_blank\">resilient-breeze-52</a></strong> to <a href=\"https://wandb.ai/2djagpal/Lithology-LSTM_search_new\" target=\"_blank\">Weights & Biases</a> (<a href=\"https://docs.wandb.com/integrations/jupyter.html\" target=\"_blank\">docs</a>).<br/>\n",
       "\n",
       "                "
      ],
      "text/plain": [
       "<IPython.core.display.HTML object>"
      ]
     },
     "metadata": {},
     "output_type": "display_data"
    },
    {
     "name": "stdout",
     "output_type": "stream",
     "text": [
      "Loading Data ...                                                                   \n",
      "\n",
      "Starting training...                                                               \n",
      "\n",
      "Training:                                                                          \n",
      "Epoch: 1 ... Accuracy: 0.41456884758689844 ... Score: -1.5404434654088117          \n",
      "\n",
      "Validation:                                                                        \n",
      "Epoch: 1 ... Accuracy: 0.4100990166679482 ... Score: -1.5506301740267063           \n",
      "\n",
      "Training:                                                                          \n",
      "Epoch: 2 ... Accuracy: 0.6578813317684901 ... Score: -0.91357342251089             \n",
      "\n",
      "Validation:                                                                        \n",
      "Epoch: 2 ... Accuracy: 0.6416262996471623 ... Score: -0.9632804290437501           \n",
      "\n",
      "Training:                                                                          \n",
      "Epoch: 3 ... Accuracy: 0.6906522683998125 ... Score: -0.8450136372034015           \n",
      "\n",
      "Validation:                                                                        \n",
      "Epoch: 3 ... Accuracy: 0.6720788374298383 ... Score: -0.9018793090191455           \n",
      "\n",
      "Training:                                                                          \n",
      "Epoch: 4 ... Accuracy: 0.6266909010912967 ... Score: -1.0664804321615875           \n",
      "\n",
      "Validation:                                                                        \n",
      "Epoch: 4 ... Accuracy: 0.6187730134727597 ... Score: -1.091235337587889            \n",
      "\n",
      "Training:                                                                          \n",
      "Epoch: 5 ... Accuracy: 0.7272580677887547 ... Score: -0.7142701533197566           \n",
      "\n",
      "Validation:                                                                        \n",
      "Epoch: 5 ... Accuracy: 0.710562062690622 ... Score: -0.7638919146355008            \n",
      "\n",
      "Class F1 Scores                                                                    \n",
      "Training:                                                                          \n",
      "[0.64931708 0.24800616 0.85541464 0.36037747 0.         0.58379974\n",
      " 0.40142162 0.96576763 0.70261067 0.49276375 0.40212124 0.13333333]\n",
      "\n",
      "Validation:                                                                        \n",
      "[0.61355025 0.2421585  0.84450143 0.34023652 0.         0.56028763\n",
      " 0.40314136 0.95790403 0.66210046 0.46691685 0.33185663 0.18181818]\n",
      "\n",
      "Training Runtime: 397.0572609901428                                                \n",
      "\n",
      "Model Fitting Complete                                                             \n",
      "Fold 1 Validation Score: 0.37281920632001386                                       \n",
      "--------------------------------                                                   \n",
      "FOLD 2                                                                             \n",
      "--------------------------------                                                   \n",
      "Device is cuda:0.                                                                  \n",
      "\n",
      " 34%|███▍      | 17/50 [5:07:17<4:25:01, 481.85s/it, best loss: -0.352691566326805]"
     ]
    },
    {
     "data": {
      "text/html": [
       "Finishing last run (ID:3m4a53q9) before initializing another..."
      ],
      "text/plain": [
       "<IPython.core.display.HTML object>"
      ]
     },
     "metadata": {},
     "output_type": "display_data"
    },
    {
     "data": {
      "text/html": [
       "<br/>Waiting for W&B process to finish, PID 138858... <strong style=\"color:green\">(success).</strong>"
      ],
      "text/plain": [
       "<IPython.core.display.HTML object>"
      ]
     },
     "metadata": {},
     "output_type": "display_data"
    },
    {
     "data": {
      "application/vnd.jupyter.widget-view+json": {
       "model_id": "",
       "version_major": 2,
       "version_minor": 0
      },
      "text/plain": [
       "VBox(children=(Label(value=' 0.00MB of 0.00MB uploaded (0.00MB deduped)\\r'), FloatProgress(value=1.0, max=1.0)…"
      ]
     },
     "metadata": {},
     "output_type": "display_data"
    },
    {
     "data": {
      "text/html": [
       "<style>\n",
       "    table.wandb td:nth-child(1) { padding: 0 10px; text-align: right }\n",
       "    .wandb-row { display: flex; flex-direction: row; flex-wrap: wrap; width: 100% }\n",
       "    .wandb-col { display: flex; flex-direction: column; flex-basis: 100%; flex: 1; padding: 10px; }\n",
       "    </style>\n",
       "<div class=\"wandb-row\"><div class=\"wandb-col\">\n",
       "</div><div class=\"wandb-col\">\n",
       "<h3>Run summary:</h3><br/><table class=\"wandb\"><tr><td>train_accuracy</td><td>0.72726</td></tr><tr><td>train_batch_loss</td><td>1.53316</td></tr><tr><td>train_epoch_loss</td><td>1.36745</td></tr><tr><td>train_score</td><td>-0.71427</td></tr><tr><td>valid_accuracy</td><td>0.71056</td></tr><tr><td>valid_epoch_loss</td><td>1.46082</td></tr><tr><td>valid_score</td><td>-0.76389</td></tr></table>\n",
       "</div></div>\n",
       "Synced 6 W&B file(s), 0 media file(s), 0 artifact file(s) and 0 other file(s)\n",
       "<br/>Synced <strong style=\"color:#cdcd00\">resilient-breeze-52</strong>: <a href=\"https://wandb.ai/2djagpal/Lithology-LSTM_search_new/runs/3m4a53q9\" target=\"_blank\">https://wandb.ai/2djagpal/Lithology-LSTM_search_new/runs/3m4a53q9</a><br/>\n",
       "Find logs at: <code>./wandb/run-20211205_202339-3m4a53q9/logs</code><br/>\n"
      ],
      "text/plain": [
       "<IPython.core.display.HTML object>"
      ]
     },
     "metadata": {},
     "output_type": "display_data"
    },
    {
     "data": {
      "text/html": [
       "Successfully finished last run (ID:3m4a53q9). Initializing new run:<br/>"
      ],
      "text/plain": [
       "<IPython.core.display.HTML object>"
      ]
     },
     "metadata": {},
     "output_type": "display_data"
    },
    {
     "data": {
      "text/html": [
       "\n",
       "                    Syncing run <strong><a href=\"https://wandb.ai/2djagpal/Lithology-LSTM_search_new/runs/38usc55b\" target=\"_blank\">sage-sun-53</a></strong> to <a href=\"https://wandb.ai/2djagpal/Lithology-LSTM_search_new\" target=\"_blank\">Weights & Biases</a> (<a href=\"https://docs.wandb.com/integrations/jupyter.html\" target=\"_blank\">docs</a>).<br/>\n",
       "\n",
       "                "
      ],
      "text/plain": [
       "<IPython.core.display.HTML object>"
      ]
     },
     "metadata": {},
     "output_type": "display_data"
    },
    {
     "name": "stdout",
     "output_type": "stream",
     "text": [
      "Loading Data ...                                                                   \n",
      "\n",
      "Starting training...                                                               \n",
      "\n",
      "Training:                                                                          \n",
      "Epoch: 1 ... Accuracy: 0.5223721685716392 ... Score: -1.2272367096001855           \n",
      "\n",
      "Validation:                                                                        \n",
      "Epoch: 1 ... Accuracy: 0.5101280638354222 ... Score: -1.2614677576441038           \n",
      "\n",
      "Training:                                                                          \n",
      "Epoch: 2 ... Accuracy: 0.7180035646816723 ... Score: -0.7511864473750253           \n",
      "\n",
      "Validation:                                                                        \n",
      "Epoch: 2 ... Accuracy: 0.6999256734244047 ... Score: -0.8100624941264919           \n",
      "\n",
      "Training:                                                                          \n",
      "Epoch: 3 ... Accuracy: 0.5830486464781949 ... Score: -1.171932216584847            \n",
      "\n",
      "Validation:                                                                        \n",
      "Epoch: 3 ... Accuracy: 0.5696833004416878 ... Score: -1.2143365925963896           \n",
      "\n",
      "Training:                                                                          \n",
      "Epoch: 4 ... Accuracy: 0.6939595838997703 ... Score: -0.8163835193809542           \n",
      "\n",
      "Validation:                                                                        \n",
      "Epoch: 4 ... Accuracy: 0.6782086440953089 ... Score: -0.864943486172694            \n",
      "\n",
      "Training:                                                                          \n",
      "Epoch: 5 ... Accuracy: 0.6936616371692284 ... Score: -0.8130915550790306           \n",
      "\n",
      "Validation:                                                                        \n",
      "Epoch: 5 ... Accuracy: 0.6803102920948988 ... Score: -0.8564653441662181           \n",
      "\n",
      "Class F1 Scores                                                                    \n",
      "Training:                                                                          \n",
      "[0.59937559 0.14033889 0.84674055 0.26963533 0.         0.47056991\n",
      " 0.41617357 0.63273083 0.61643836 0.30777531 0.53413841 0.11235955]\n",
      "\n",
      "Validation:                                                                        \n",
      "[0.56544016 0.13764386 0.83819511 0.26072135 0.         0.45327176\n",
      " 0.4090412  0.62044653 0.56842105 0.31514856 0.43766938 0.0952381 ]\n",
      "\n",
      "Training Runtime: 396.72348499298096                                               \n",
      "\n",
      "Model Fitting Complete                                                             \n",
      "Fold 2 Validation Score: 0.3501795474918857                                        \n",
      "********************************                                                   \n",
      "F1 Score too low ... stopped early.                                                \n",
      "********************************                                                   \n",
      "{'hidden_dim': 258, 'n_layers': 3, 'window_size': 4}                               \n",
      "--------------------------------                                                   \n",
      "FOLD 0                                                                             \n",
      "--------------------------------                                                   \n",
      "Device is cuda:0.                                                                  \n",
      "\n",
      " 36%|███▌      | 18/50 [5:13:57<6:11:52, 697.25s/it, best loss: -0.352691566326805]"
     ]
    },
    {
     "data": {
      "text/html": [
       "Finishing last run (ID:38usc55b) before initializing another..."
      ],
      "text/plain": [
       "<IPython.core.display.HTML object>"
      ]
     },
     "metadata": {},
     "output_type": "display_data"
    },
    {
     "data": {
      "text/html": [
       "<br/>Waiting for W&B process to finish, PID 140663... <strong style=\"color:green\">(success).</strong>"
      ],
      "text/plain": [
       "<IPython.core.display.HTML object>"
      ]
     },
     "metadata": {},
     "output_type": "display_data"
    },
    {
     "data": {
      "application/vnd.jupyter.widget-view+json": {
       "model_id": "",
       "version_major": 2,
       "version_minor": 0
      },
      "text/plain": [
       "VBox(children=(Label(value=' 0.00MB of 0.00MB uploaded (0.00MB deduped)\\r'), FloatProgress(value=1.0, max=1.0)…"
      ]
     },
     "metadata": {},
     "output_type": "display_data"
    },
    {
     "data": {
      "text/html": [
       "<style>\n",
       "    table.wandb td:nth-child(1) { padding: 0 10px; text-align: right }\n",
       "    .wandb-row { display: flex; flex-direction: row; flex-wrap: wrap; width: 100% }\n",
       "    .wandb-col { display: flex; flex-direction: column; flex-basis: 100%; flex: 1; padding: 10px; }\n",
       "    </style>\n",
       "<div class=\"wandb-row\"><div class=\"wandb-col\">\n",
       "</div><div class=\"wandb-col\">\n",
       "<h3>Run summary:</h3><br/><table class=\"wandb\"><tr><td>train_accuracy</td><td>0.69366</td></tr><tr><td>train_batch_loss</td><td>2.39406</td></tr><tr><td>train_epoch_loss</td><td>1.59059</td></tr><tr><td>train_score</td><td>-0.81309</td></tr><tr><td>valid_accuracy</td><td>0.68031</td></tr><tr><td>valid_epoch_loss</td><td>1.6717</td></tr><tr><td>valid_score</td><td>-0.85647</td></tr></table>\n",
       "</div></div>\n",
       "Synced 6 W&B file(s), 0 media file(s), 0 artifact file(s) and 0 other file(s)\n",
       "<br/>Synced <strong style=\"color:#cdcd00\">sage-sun-53</strong>: <a href=\"https://wandb.ai/2djagpal/Lithology-LSTM_search_new/runs/38usc55b\" target=\"_blank\">https://wandb.ai/2djagpal/Lithology-LSTM_search_new/runs/38usc55b</a><br/>\n",
       "Find logs at: <code>./wandb/run-20211205_203020-38usc55b/logs</code><br/>\n"
      ],
      "text/plain": [
       "<IPython.core.display.HTML object>"
      ]
     },
     "metadata": {},
     "output_type": "display_data"
    },
    {
     "data": {
      "text/html": [
       "Successfully finished last run (ID:38usc55b). Initializing new run:<br/>"
      ],
      "text/plain": [
       "<IPython.core.display.HTML object>"
      ]
     },
     "metadata": {},
     "output_type": "display_data"
    },
    {
     "data": {
      "text/html": [
       "\n",
       "                    Syncing run <strong><a href=\"https://wandb.ai/2djagpal/Lithology-LSTM_search_new/runs/3dlh6ayv\" target=\"_blank\">helpful-valley-54</a></strong> to <a href=\"https://wandb.ai/2djagpal/Lithology-LSTM_search_new\" target=\"_blank\">Weights & Biases</a> (<a href=\"https://docs.wandb.com/integrations/jupyter.html\" target=\"_blank\">docs</a>).<br/>\n",
       "\n",
       "                "
      ],
      "text/plain": [
       "<IPython.core.display.HTML object>"
      ]
     },
     "metadata": {},
     "output_type": "display_data"
    },
    {
     "name": "stdout",
     "output_type": "stream",
     "text": [
      "Loading Data ...                                                                   \n",
      "\n",
      "Starting training...                                                               \n",
      "\n",
      "Training:                                                                          \n",
      "Epoch: 1 ... Accuracy: 0.5577953199887229 ... Score: -1.2159376575168088           \n",
      "\n",
      "Validation:                                                                        \n",
      "Epoch: 1 ... Accuracy: 0.5497964571150306 ... Score: -1.2414588877545354           \n",
      "\n",
      "Training:                                                                          \n",
      "Epoch: 2 ... Accuracy: 0.6321496612587676 ... Score: -1.1096264929389754           \n",
      "\n",
      "Validation:                                                                        \n",
      "Epoch: 2 ... Accuracy: 0.6193384963029094 ... Score: -1.1535365843239942           \n",
      "\n",
      "Training:                                                                          \n",
      "Epoch: 3 ... Accuracy: 0.7002278921154027 ... Score: -0.803477757558671            \n",
      "\n",
      "Validation:                                                                        \n",
      "Epoch: 3 ... Accuracy: 0.6841561193150024 ... Score: -0.8548710396705723           \n",
      "\n",
      "Training:                                                                          \n",
      "Epoch: 4 ... Accuracy: 0.5367275802855166 ... Score: -1.3486752035437544           \n",
      "\n",
      "Validation:                                                                        \n",
      "Epoch: 4 ... Accuracy: 0.5266784278714924 ... Score: -1.3839084719119361           \n",
      "\n",
      "Training:                                                                          \n",
      "Epoch: 5 ... Accuracy: 0.7202405361765384 ... Score: -0.733876285764325            \n",
      "\n",
      "Validation:                                                                        \n",
      "Epoch: 5 ... Accuracy: 0.7017082224490929 ... Score: -0.7904170386539259           \n",
      "\n",
      "Class F1 Scores                                                                    \n",
      "Training:                                                                          \n",
      "[0.6393807  0.24276873 0.8551281  0.40630583 0.         0.4482612\n",
      " 0.55171889 0.59105676 0.47019868 0.41582815 0.33240671 0.        ]\n",
      "\n",
      "Validation:                                                                        \n",
      "[0.59596425 0.22327183 0.84308039 0.38634297 0.         0.40969138\n",
      " 0.55331589 0.60700685 0.53291536 0.39574908 0.23157163 0.        ]\n",
      "\n",
      "Training Runtime: 416.6125087738037                                                \n",
      "\n",
      "Model Fitting Complete                                                             \n",
      "Fold 0 Validation Score: 0.3238008486300137                                        \n",
      "********************************                                                   \n",
      "F1 Score too low ... stopped early.                                                \n",
      "********************************                                                   \n",
      "{'hidden_dim': 232, 'n_layers': 3, 'window_size': 6}                               \n",
      "--------------------------------                                                   \n",
      "FOLD 0                                                                             \n",
      "--------------------------------                                                   \n",
      "Device is cuda:0.                                                                  \n",
      "\n",
      " 38%|███▊      | 19/50 [5:20:57<5:17:14, 614.02s/it, best loss: -0.352691566326805]"
     ]
    },
    {
     "data": {
      "text/html": [
       "Finishing last run (ID:3dlh6ayv) before initializing another..."
      ],
      "text/plain": [
       "<IPython.core.display.HTML object>"
      ]
     },
     "metadata": {},
     "output_type": "display_data"
    },
    {
     "data": {
      "text/html": [
       "<br/>Waiting for W&B process to finish, PID 142478... <strong style=\"color:green\">(success).</strong>"
      ],
      "text/plain": [
       "<IPython.core.display.HTML object>"
      ]
     },
     "metadata": {},
     "output_type": "display_data"
    },
    {
     "data": {
      "application/vnd.jupyter.widget-view+json": {
       "model_id": "",
       "version_major": 2,
       "version_minor": 0
      },
      "text/plain": [
       "VBox(children=(Label(value=' 0.00MB of 0.00MB uploaded (0.00MB deduped)\\r'), FloatProgress(value=1.0, max=1.0)…"
      ]
     },
     "metadata": {},
     "output_type": "display_data"
    },
    {
     "data": {
      "text/html": [
       "<style>\n",
       "    table.wandb td:nth-child(1) { padding: 0 10px; text-align: right }\n",
       "    .wandb-row { display: flex; flex-direction: row; flex-wrap: wrap; width: 100% }\n",
       "    .wandb-col { display: flex; flex-direction: column; flex-basis: 100%; flex: 1; padding: 10px; }\n",
       "    </style>\n",
       "<div class=\"wandb-row\"><div class=\"wandb-col\">\n",
       "</div><div class=\"wandb-col\">\n",
       "<h3>Run summary:</h3><br/><table class=\"wandb\"><tr><td>train_accuracy</td><td>0.72024</td></tr><tr><td>train_batch_loss</td><td>1.03531</td></tr><tr><td>train_epoch_loss</td><td>1.38331</td></tr><tr><td>train_score</td><td>-0.73388</td></tr><tr><td>valid_accuracy</td><td>0.70171</td></tr><tr><td>valid_epoch_loss</td><td>1.50032</td></tr><tr><td>valid_score</td><td>-0.79042</td></tr></table>\n",
       "</div></div>\n",
       "Synced 6 W&B file(s), 0 media file(s), 0 artifact file(s) and 0 other file(s)\n",
       "<br/>Synced <strong style=\"color:#cdcd00\">helpful-valley-54</strong>: <a href=\"https://wandb.ai/2djagpal/Lithology-LSTM_search_new/runs/3dlh6ayv\" target=\"_blank\">https://wandb.ai/2djagpal/Lithology-LSTM_search_new/runs/3dlh6ayv</a><br/>\n",
       "Find logs at: <code>./wandb/run-20211205_203700-3dlh6ayv/logs</code><br/>\n"
      ],
      "text/plain": [
       "<IPython.core.display.HTML object>"
      ]
     },
     "metadata": {},
     "output_type": "display_data"
    },
    {
     "data": {
      "text/html": [
       "Successfully finished last run (ID:3dlh6ayv). Initializing new run:<br/>"
      ],
      "text/plain": [
       "<IPython.core.display.HTML object>"
      ]
     },
     "metadata": {},
     "output_type": "display_data"
    },
    {
     "data": {
      "text/html": [
       "\n",
       "                    Syncing run <strong><a href=\"https://wandb.ai/2djagpal/Lithology-LSTM_search_new/runs/2xfyll99\" target=\"_blank\">woven-silence-55</a></strong> to <a href=\"https://wandb.ai/2djagpal/Lithology-LSTM_search_new\" target=\"_blank\">Weights & Biases</a> (<a href=\"https://docs.wandb.com/integrations/jupyter.html\" target=\"_blank\">docs</a>).<br/>\n",
       "\n",
       "                "
      ],
      "text/plain": [
       "<IPython.core.display.HTML object>"
      ]
     },
     "metadata": {},
     "output_type": "display_data"
    },
    {
     "name": "stdout",
     "output_type": "stream",
     "text": [
      "Loading Data ...                                                                   \n",
      "\n",
      "Starting training...                                                               \n",
      "\n",
      "Training:                                                                          \n",
      "Epoch: 1 ... Accuracy: 0.5576009602651836 ... Score: -1.1314463086603275           \n",
      "\n",
      "Validation:                                                                        \n",
      "Epoch: 1 ... Accuracy: 0.5491557135107197 ... Score: -1.159058726287147            \n",
      "\n",
      "Training:                                                                          \n",
      "Epoch: 2 ... Accuracy: 0.6919120725153993 ... Score: -0.8381613570153181           \n",
      "\n",
      "Validation:                                                                        \n",
      "Epoch: 2 ... Accuracy: 0.6720759665617271 ... Score: -0.9038676351862215           \n",
      "\n",
      "Training:                                                                          \n",
      "Epoch: 3 ... Accuracy: 0.6695938095360142 ... Score: -0.8862065200211874           \n",
      "\n",
      "Validation:                                                                        \n",
      "Epoch: 3 ... Accuracy: 0.6510382182201851 ... Score: -0.939266049559382            \n",
      "\n",
      "Training:                                                                          \n",
      "Epoch: 4 ... Accuracy: 0.6658497150814602 ... Score: -0.8984529179588384           \n",
      "\n",
      "Validation:                                                                        \n",
      "Epoch: 4 ... Accuracy: 0.6489066778298441 ... Score: -0.9553428405445467           \n",
      "\n",
      "Training:                                                                          \n",
      "Epoch: 5 ... Accuracy: 0.6313999880394017 ... Score: -0.9559270638439654           \n",
      "\n",
      "Validation:                                                                        \n",
      "Epoch: 5 ... Accuracy: 0.6184884431211902 ... Score: -0.9935220821604166           \n",
      "\n",
      "Class F1 Scores                                                                    \n",
      "Training:                                                                          \n",
      "[0.55237808 0.3064427  0.7966428  0.19988046 0.         0.31975096\n",
      " 0.38356759 0.72045729 0.40207972 0.26413582 0.42397033 0.        ]\n",
      "\n",
      "Validation:                                                                        \n",
      "[0.5084637  0.29628646 0.78973729 0.18637688 0.         0.30025715\n",
      " 0.39281839 0.73774565 0.42611684 0.24381694 0.23339318 0.        ]\n",
      "\n",
      "Training Runtime: 421.2118730545044                                                \n",
      "\n",
      "Model Fitting Complete                                                             \n",
      "Fold 0 Validation Score: 0.2625106435245874                                        \n",
      "********************************                                                   \n",
      "F1 Score too low ... stopped early.                                                \n",
      "********************************                                                   \n",
      "{'hidden_dim': 206, 'n_layers': 1, 'window_size': 7}                               \n",
      "--------------------------------                                                   \n",
      "FOLD 0                                                                             \n",
      "--------------------------------                                                   \n",
      "Device is cuda:0.                                                                  \n",
      "\n",
      " 40%|████      | 20/50 [5:28:02<4:38:35, 557.19s/it, best loss: -0.352691566326805]"
     ]
    },
    {
     "data": {
      "text/html": [
       "Finishing last run (ID:2xfyll99) before initializing another..."
      ],
      "text/plain": [
       "<IPython.core.display.HTML object>"
      ]
     },
     "metadata": {},
     "output_type": "display_data"
    },
    {
     "data": {
      "text/html": [
       "<br/>Waiting for W&B process to finish, PID 144475... <strong style=\"color:green\">(success).</strong>"
      ],
      "text/plain": [
       "<IPython.core.display.HTML object>"
      ]
     },
     "metadata": {},
     "output_type": "display_data"
    },
    {
     "data": {
      "application/vnd.jupyter.widget-view+json": {
       "model_id": "",
       "version_major": 2,
       "version_minor": 0
      },
      "text/plain": [
       "VBox(children=(Label(value=' 0.00MB of 0.00MB uploaded (0.00MB deduped)\\r'), FloatProgress(value=1.0, max=1.0)…"
      ]
     },
     "metadata": {},
     "output_type": "display_data"
    },
    {
     "data": {
      "text/html": [
       "<style>\n",
       "    table.wandb td:nth-child(1) { padding: 0 10px; text-align: right }\n",
       "    .wandb-row { display: flex; flex-direction: row; flex-wrap: wrap; width: 100% }\n",
       "    .wandb-col { display: flex; flex-direction: column; flex-basis: 100%; flex: 1; padding: 10px; }\n",
       "    </style>\n",
       "<div class=\"wandb-row\"><div class=\"wandb-col\">\n",
       "</div><div class=\"wandb-col\">\n",
       "<h3>Run summary:</h3><br/><table class=\"wandb\"><tr><td>train_accuracy</td><td>0.6314</td></tr><tr><td>train_batch_loss</td><td>2.18169</td></tr><tr><td>train_epoch_loss</td><td>1.51794</td></tr><tr><td>train_score</td><td>-0.95593</td></tr><tr><td>valid_accuracy</td><td>0.61849</td></tr><tr><td>valid_epoch_loss</td><td>1.62918</td></tr><tr><td>valid_score</td><td>-0.99352</td></tr></table>\n",
       "</div></div>\n",
       "Synced 6 W&B file(s), 0 media file(s), 0 artifact file(s) and 0 other file(s)\n",
       "<br/>Synced <strong style=\"color:#cdcd00\">woven-silence-55</strong>: <a href=\"https://wandb.ai/2djagpal/Lithology-LSTM_search_new/runs/2xfyll99\" target=\"_blank\">https://wandb.ai/2djagpal/Lithology-LSTM_search_new/runs/2xfyll99</a><br/>\n",
       "Find logs at: <code>./wandb/run-20211205_204400-2xfyll99/logs</code><br/>\n"
      ],
      "text/plain": [
       "<IPython.core.display.HTML object>"
      ]
     },
     "metadata": {},
     "output_type": "display_data"
    },
    {
     "data": {
      "text/html": [
       "Successfully finished last run (ID:2xfyll99). Initializing new run:<br/>"
      ],
      "text/plain": [
       "<IPython.core.display.HTML object>"
      ]
     },
     "metadata": {},
     "output_type": "display_data"
    },
    {
     "data": {
      "text/html": [
       "\n",
       "                    Syncing run <strong><a href=\"https://wandb.ai/2djagpal/Lithology-LSTM_search_new/runs/3k715eru\" target=\"_blank\">wobbly-firefly-56</a></strong> to <a href=\"https://wandb.ai/2djagpal/Lithology-LSTM_search_new\" target=\"_blank\">Weights & Biases</a> (<a href=\"https://docs.wandb.com/integrations/jupyter.html\" target=\"_blank\">docs</a>).<br/>\n",
       "\n",
       "                "
      ],
      "text/plain": [
       "<IPython.core.display.HTML object>"
      ]
     },
     "metadata": {},
     "output_type": "display_data"
    },
    {
     "name": "stdout",
     "output_type": "stream",
     "text": [
      "Loading Data ...                                                                   \n",
      "\n",
      "Starting training...                                                               \n",
      "\n",
      "Training:                                                                          \n",
      "Epoch: 1 ... Accuracy: 0.48918740548991463 ... Score: -1.5183553803470282          \n",
      "\n",
      "Validation:                                                                        \n",
      "Epoch: 1 ... Accuracy: 0.4814547442792275 ... Score: -1.5485907912329189           \n",
      "\n",
      "Training:                                                                          \n",
      "Epoch: 2 ... Accuracy: 0.6871716175000641 ... Score: -0.8385267159187021           \n",
      "\n",
      "Validation:                                                                        \n",
      "Epoch: 2 ... Accuracy: 0.6709610726902261 ... Score: -0.8884812454347019           \n",
      "\n",
      "Training:                                                                          \n",
      "Epoch: 3 ... Accuracy: 0.715233103518979 ... Score: -0.7345281116778156            \n",
      "\n",
      "Validation:                                                                        \n",
      "Epoch: 3 ... Accuracy: 0.6971076833701405 ... Score: -0.7865576263439598           \n",
      "\n",
      "Training:                                                                          \n",
      "Epoch: 4 ... Accuracy: 0.6496078632391009 ... Score: -0.8964839578474341           \n",
      "\n",
      "Validation:                                                                        \n",
      "Epoch: 4 ... Accuracy: 0.6365061532744134 ... Score: -0.9372567844068637           \n",
      "\n",
      "Training:                                                                          \n",
      "Epoch: 5 ... Accuracy: 0.696043818506463 ... Score: -0.8292858187883914            \n",
      "\n",
      "Validation:                                                                        \n",
      "Epoch: 5 ... Accuracy: 0.6814607245528678 ... Score: -0.872635122147089            \n",
      "\n",
      "Class F1 Scores                                                                    \n",
      "Training:                                                                          \n",
      "[0.59764907 0.30549231 0.85433334 0.28979507 0.         0.31128043\n",
      " 0.35527673 0.36466207 0.44883159 0.51106626 0.40926944 0.11494253]\n",
      "\n",
      "Validation:                                                                        \n",
      "[0.56588247 0.29094287 0.84254895 0.27433693 0.         0.30177652\n",
      " 0.36079049 0.38513116 0.48214286 0.49821454 0.32739862 0.09090909]\n",
      "\n",
      "Training Runtime: 386.8462190628052                                                \n",
      "\n",
      "Model Fitting Complete                                                             \n",
      "Fold 0 Validation Score: 0.35978355960353964                                       \n",
      "--------------------------------                                                   \n",
      "FOLD 1                                                                             \n",
      "--------------------------------                                                   \n",
      "Device is cuda:0.                                                                  \n",
      "\n",
      " 40%|████      | 20/50 [5:34:32<4:38:35, 557.19s/it, best loss: -0.352691566326805]"
     ]
    },
    {
     "data": {
      "text/html": [
       "Finishing last run (ID:3k715eru) before initializing another..."
      ],
      "text/plain": [
       "<IPython.core.display.HTML object>"
      ]
     },
     "metadata": {},
     "output_type": "display_data"
    },
    {
     "data": {
      "text/html": [
       "<br/>Waiting for W&B process to finish, PID 146403... <strong style=\"color:green\">(success).</strong>"
      ],
      "text/plain": [
       "<IPython.core.display.HTML object>"
      ]
     },
     "metadata": {},
     "output_type": "display_data"
    },
    {
     "data": {
      "application/vnd.jupyter.widget-view+json": {
       "model_id": "",
       "version_major": 2,
       "version_minor": 0
      },
      "text/plain": [
       "VBox(children=(Label(value=' 0.00MB of 0.00MB uploaded (0.00MB deduped)\\r'), FloatProgress(value=1.0, max=1.0)…"
      ]
     },
     "metadata": {},
     "output_type": "display_data"
    },
    {
     "data": {
      "text/html": [
       "<style>\n",
       "    table.wandb td:nth-child(1) { padding: 0 10px; text-align: right }\n",
       "    .wandb-row { display: flex; flex-direction: row; flex-wrap: wrap; width: 100% }\n",
       "    .wandb-col { display: flex; flex-direction: column; flex-basis: 100%; flex: 1; padding: 10px; }\n",
       "    </style>\n",
       "<div class=\"wandb-row\"><div class=\"wandb-col\">\n",
       "</div><div class=\"wandb-col\">\n",
       "<h3>Run summary:</h3><br/><table class=\"wandb\"><tr><td>train_accuracy</td><td>0.69604</td></tr><tr><td>train_batch_loss</td><td>1.52329</td></tr><tr><td>train_epoch_loss</td><td>1.48099</td></tr><tr><td>train_score</td><td>-0.82929</td></tr><tr><td>valid_accuracy</td><td>0.68146</td></tr><tr><td>valid_epoch_loss</td><td>1.56875</td></tr><tr><td>valid_score</td><td>-0.87264</td></tr></table>\n",
       "</div></div>\n",
       "Synced 6 W&B file(s), 0 media file(s), 0 artifact file(s) and 0 other file(s)\n",
       "<br/>Synced <strong style=\"color:#cdcd00\">wobbly-firefly-56</strong>: <a href=\"https://wandb.ai/2djagpal/Lithology-LSTM_search_new/runs/3k715eru\" target=\"_blank\">https://wandb.ai/2djagpal/Lithology-LSTM_search_new/runs/3k715eru</a><br/>\n",
       "Find logs at: <code>./wandb/run-20211205_205105-3k715eru/logs</code><br/>\n"
      ],
      "text/plain": [
       "<IPython.core.display.HTML object>"
      ]
     },
     "metadata": {},
     "output_type": "display_data"
    },
    {
     "data": {
      "text/html": [
       "Successfully finished last run (ID:3k715eru). Initializing new run:<br/>"
      ],
      "text/plain": [
       "<IPython.core.display.HTML object>"
      ]
     },
     "metadata": {},
     "output_type": "display_data"
    },
    {
     "data": {
      "text/html": [
       "\n",
       "                    Syncing run <strong><a href=\"https://wandb.ai/2djagpal/Lithology-LSTM_search_new/runs/nexhodtf\" target=\"_blank\">peachy-yogurt-57</a></strong> to <a href=\"https://wandb.ai/2djagpal/Lithology-LSTM_search_new\" target=\"_blank\">Weights & Biases</a> (<a href=\"https://docs.wandb.com/integrations/jupyter.html\" target=\"_blank\">docs</a>).<br/>\n",
       "\n",
       "                "
      ],
      "text/plain": [
       "<IPython.core.display.HTML object>"
      ]
     },
     "metadata": {},
     "output_type": "display_data"
    },
    {
     "name": "stdout",
     "output_type": "stream",
     "text": [
      "Loading Data ...                                                                   \n",
      "\n",
      "Starting training...                                                               \n",
      "\n",
      "Training:                                                                          \n",
      "Epoch: 1 ... Accuracy: 0.6772158319708589 ... Score: -0.8828610147916135           \n",
      "\n",
      "Validation:                                                                        \n",
      "Epoch: 1 ... Accuracy: 0.6611007167815739 ... Score: -0.9332326293666863           \n",
      "\n",
      "Training:                                                                          \n",
      "Epoch: 2 ... Accuracy: 0.6731428254106913 ... Score: -0.8833800187738478           \n",
      "\n",
      "Validation:                                                                        \n",
      "Epoch: 2 ... Accuracy: 0.657730391026134 ... Score: -0.9309216708955925            \n",
      "\n",
      "Training:                                                                          \n",
      "Epoch: 3 ... Accuracy: 0.720056086603183 ... Score: -0.729017048106116             \n",
      "\n",
      "Validation:                                                                        \n",
      "Epoch: 3 ... Accuracy: 0.6997334495220032 ... Score: -0.7884890987689127           \n",
      "\n",
      "Training:                                                                          \n",
      "Epoch: 4 ... Accuracy: 0.6749433207070842 ... Score: -0.8930245757996773           \n",
      "\n",
      "Validation:                                                                        \n",
      "Epoch: 4 ... Accuracy: 0.658072122408181 ... Score: -0.9434215641045356            \n",
      "\n",
      "Training:                                                                          \n",
      "Epoch: 5 ... Accuracy: 0.6731930171538292 ... Score: -0.8536996120285046           \n",
      "\n",
      "Validation:                                                                        \n",
      "Epoch: 5 ... Accuracy: 0.6559918326199691 ... Score: -0.9036669913114797           \n",
      "\n",
      "Class F1 Scores                                                                    \n",
      "Training:                                                                          \n",
      "[0.60292456 0.32227485 0.80932227 0.14286939 0.         0.58012679\n",
      " 0.54308891 0.62788845 0.60661765 0.45273174 0.50205501 0.13483146]\n",
      "\n",
      "Validation:                                                                        \n",
      "[0.55198069 0.30924561 0.80043919 0.13240418 0.         0.55359948\n",
      " 0.54736152 0.62190813 0.61306533 0.43386672 0.34745763 0.        ]\n",
      "\n",
      "Training Runtime: 387.95569491386414                                               \n",
      "\n",
      "Model Fitting Complete                                                             \n",
      "Fold 1 Validation Score: 0.3538508147902765                                        \n",
      "--------------------------------                                                   \n",
      "FOLD 2                                                                             \n",
      "--------------------------------                                                   \n",
      "Device is cuda:0.                                                                  \n",
      "\n",
      " 40%|████      | 20/50 [5:41:03<4:38:35, 557.19s/it, best loss: -0.352691566326805]"
     ]
    },
    {
     "data": {
      "text/html": [
       "Finishing last run (ID:nexhodtf) before initializing another..."
      ],
      "text/plain": [
       "<IPython.core.display.HTML object>"
      ]
     },
     "metadata": {},
     "output_type": "display_data"
    },
    {
     "data": {
      "text/html": [
       "<br/>Waiting for W&B process to finish, PID 148202... <strong style=\"color:green\">(success).</strong>"
      ],
      "text/plain": [
       "<IPython.core.display.HTML object>"
      ]
     },
     "metadata": {},
     "output_type": "display_data"
    },
    {
     "data": {
      "application/vnd.jupyter.widget-view+json": {
       "model_id": "",
       "version_major": 2,
       "version_minor": 0
      },
      "text/plain": [
       "VBox(children=(Label(value=' 0.00MB of 0.00MB uploaded (0.00MB deduped)\\r'), FloatProgress(value=1.0, max=1.0)…"
      ]
     },
     "metadata": {},
     "output_type": "display_data"
    },
    {
     "data": {
      "text/html": [
       "<style>\n",
       "    table.wandb td:nth-child(1) { padding: 0 10px; text-align: right }\n",
       "    .wandb-row { display: flex; flex-direction: row; flex-wrap: wrap; width: 100% }\n",
       "    .wandb-col { display: flex; flex-direction: column; flex-basis: 100%; flex: 1; padding: 10px; }\n",
       "    </style>\n",
       "<div class=\"wandb-row\"><div class=\"wandb-col\">\n",
       "</div><div class=\"wandb-col\">\n",
       "<h3>Run summary:</h3><br/><table class=\"wandb\"><tr><td>train_accuracy</td><td>0.67319</td></tr><tr><td>train_batch_loss</td><td>0.88583</td></tr><tr><td>train_epoch_loss</td><td>1.5962</td></tr><tr><td>train_score</td><td>-0.8537</td></tr><tr><td>valid_accuracy</td><td>0.65599</td></tr><tr><td>valid_epoch_loss</td><td>1.69412</td></tr><tr><td>valid_score</td><td>-0.90367</td></tr></table>\n",
       "</div></div>\n",
       "Synced 6 W&B file(s), 0 media file(s), 0 artifact file(s) and 0 other file(s)\n",
       "<br/>Synced <strong style=\"color:#cdcd00\">peachy-yogurt-57</strong>: <a href=\"https://wandb.ai/2djagpal/Lithology-LSTM_search_new/runs/nexhodtf\" target=\"_blank\">https://wandb.ai/2djagpal/Lithology-LSTM_search_new/runs/nexhodtf</a><br/>\n",
       "Find logs at: <code>./wandb/run-20211205_205735-nexhodtf/logs</code><br/>\n"
      ],
      "text/plain": [
       "<IPython.core.display.HTML object>"
      ]
     },
     "metadata": {},
     "output_type": "display_data"
    },
    {
     "data": {
      "text/html": [
       "Successfully finished last run (ID:nexhodtf). Initializing new run:<br/>"
      ],
      "text/plain": [
       "<IPython.core.display.HTML object>"
      ]
     },
     "metadata": {},
     "output_type": "display_data"
    },
    {
     "data": {
      "text/html": [
       "\n",
       "                    Syncing run <strong><a href=\"https://wandb.ai/2djagpal/Lithology-LSTM_search_new/runs/1fyny8jj\" target=\"_blank\">royal-wind-58</a></strong> to <a href=\"https://wandb.ai/2djagpal/Lithology-LSTM_search_new\" target=\"_blank\">Weights & Biases</a> (<a href=\"https://docs.wandb.com/integrations/jupyter.html\" target=\"_blank\">docs</a>).<br/>\n",
       "\n",
       "                "
      ],
      "text/plain": [
       "<IPython.core.display.HTML object>"
      ]
     },
     "metadata": {},
     "output_type": "display_data"
    },
    {
     "name": "stdout",
     "output_type": "stream",
     "text": [
      "Loading Data ...                                                                   \n",
      "\n",
      "Starting training...                                                               \n",
      "\n",
      "Training:                                                                          \n",
      "Epoch: 1 ... Accuracy: 0.6657027004225717 ... Score: -0.9101930887037608           \n",
      "\n",
      "Validation:                                                                        \n",
      "Epoch: 1 ... Accuracy: 0.6520362918727735 ... Score: -0.9521207635987732           \n",
      "\n",
      "Training:                                                                          \n",
      "Epoch: 2 ... Accuracy: 0.6756598879335846 ... Score: -0.871302363603938            \n",
      "\n",
      "Validation:                                                                        \n",
      "Epoch: 2 ... Accuracy: 0.6594860360014011 ... Score: -0.9204022178366695           \n",
      "\n",
      "Training:                                                                          \n",
      "Epoch: 3 ... Accuracy: 0.6967703215154917 ... Score: -0.835179926720055            \n",
      "\n",
      "Validation:                                                                        \n",
      "Epoch: 3 ... Accuracy: 0.6817412922572212 ... Score: -0.8823595056855559           \n",
      "\n",
      "Training:                                                                          \n",
      "Epoch: 4 ... Accuracy: 0.6954290272733389 ... Score: -0.8117937781460879           \n",
      "\n",
      "Validation:                                                                        \n",
      "Epoch: 4 ... Accuracy: 0.6801693278998043 ... Score: -0.8589840112429624           \n",
      "\n",
      "Training:                                                                          \n",
      "Epoch: 5 ... Accuracy: 0.7181295779942312 ... Score: -0.7368041101698083           \n",
      "\n",
      "Validation:                                                                        \n",
      "Epoch: 5 ... Accuracy: 0.6981743000914131 ... Score: -0.7924425036949706           \n",
      "\n",
      "Class F1 Scores                                                                    \n",
      "Training:                                                                          \n",
      "[0.63483973 0.36378773 0.84621091 0.28815129 0.         0.58983315\n",
      " 0.41722099 0.66705664 0.59250302 0.5174604  0.42081926 0.15555556]\n",
      "\n",
      "Validation:                                                                        \n",
      "[0.58494313 0.3411805  0.83412737 0.27711782 0.         0.57544989\n",
      " 0.44042014 0.66115702 0.58536585 0.50794285 0.33665158 0.        ]\n",
      "\n",
      "Training Runtime: 385.2145426273346                                                \n",
      "\n",
      "Model Fitting Complete                                                             \n",
      "Fold 2 Validation Score: 0.3887839590565086                                        \n",
      "--------------------------------                                                   \n",
      "FOLD 3                                                                             \n",
      "--------------------------------                                                   \n",
      "Device is cuda:0.                                                                  \n",
      "\n",
      " 40%|████      | 20/50 [5:47:32<4:38:35, 557.19s/it, best loss: -0.352691566326805]"
     ]
    },
    {
     "data": {
      "text/html": [
       "Finishing last run (ID:1fyny8jj) before initializing another..."
      ],
      "text/plain": [
       "<IPython.core.display.HTML object>"
      ]
     },
     "metadata": {},
     "output_type": "display_data"
    },
    {
     "data": {
      "text/html": [
       "<br/>Waiting for W&B process to finish, PID 149945... <strong style=\"color:green\">(success).</strong>"
      ],
      "text/plain": [
       "<IPython.core.display.HTML object>"
      ]
     },
     "metadata": {},
     "output_type": "display_data"
    },
    {
     "data": {
      "application/vnd.jupyter.widget-view+json": {
       "model_id": "",
       "version_major": 2,
       "version_minor": 0
      },
      "text/plain": [
       "VBox(children=(Label(value=' 0.00MB of 0.00MB uploaded (0.00MB deduped)\\r'), FloatProgress(value=1.0, max=1.0)…"
      ]
     },
     "metadata": {},
     "output_type": "display_data"
    },
    {
     "data": {
      "text/html": [
       "<style>\n",
       "    table.wandb td:nth-child(1) { padding: 0 10px; text-align: right }\n",
       "    .wandb-row { display: flex; flex-direction: row; flex-wrap: wrap; width: 100% }\n",
       "    .wandb-col { display: flex; flex-direction: column; flex-basis: 100%; flex: 1; padding: 10px; }\n",
       "    </style>\n",
       "<div class=\"wandb-row\"><div class=\"wandb-col\">\n",
       "</div><div class=\"wandb-col\">\n",
       "<h3>Run summary:</h3><br/><table class=\"wandb\"><tr><td>train_accuracy</td><td>0.71813</td></tr><tr><td>train_batch_loss</td><td>1.09062</td></tr><tr><td>train_epoch_loss</td><td>1.33607</td></tr><tr><td>train_score</td><td>-0.7368</td></tr><tr><td>valid_accuracy</td><td>0.69817</td></tr><tr><td>valid_epoch_loss</td><td>1.42817</td></tr><tr><td>valid_score</td><td>-0.79244</td></tr></table>\n",
       "</div></div>\n",
       "Synced 6 W&B file(s), 0 media file(s), 0 artifact file(s) and 0 other file(s)\n",
       "<br/>Synced <strong style=\"color:#cdcd00\">royal-wind-58</strong>: <a href=\"https://wandb.ai/2djagpal/Lithology-LSTM_search_new/runs/1fyny8jj\" target=\"_blank\">https://wandb.ai/2djagpal/Lithology-LSTM_search_new/runs/1fyny8jj</a><br/>\n",
       "Find logs at: <code>./wandb/run-20211205_210406-1fyny8jj/logs</code><br/>\n"
      ],
      "text/plain": [
       "<IPython.core.display.HTML object>"
      ]
     },
     "metadata": {},
     "output_type": "display_data"
    },
    {
     "data": {
      "text/html": [
       "Successfully finished last run (ID:1fyny8jj). Initializing new run:<br/>"
      ],
      "text/plain": [
       "<IPython.core.display.HTML object>"
      ]
     },
     "metadata": {},
     "output_type": "display_data"
    },
    {
     "data": {
      "text/html": [
       "\n",
       "                    Syncing run <strong><a href=\"https://wandb.ai/2djagpal/Lithology-LSTM_search_new/runs/2oem5g6n\" target=\"_blank\">lemon-firefly-59</a></strong> to <a href=\"https://wandb.ai/2djagpal/Lithology-LSTM_search_new\" target=\"_blank\">Weights & Biases</a> (<a href=\"https://docs.wandb.com/integrations/jupyter.html\" target=\"_blank\">docs</a>).<br/>\n",
       "\n",
       "                "
      ],
      "text/plain": [
       "<IPython.core.display.HTML object>"
      ]
     },
     "metadata": {},
     "output_type": "display_data"
    },
    {
     "name": "stdout",
     "output_type": "stream",
     "text": [
      "Loading Data ...                                                                   \n",
      "\n",
      "Starting training...                                                               \n",
      "\n",
      "Training:                                                                          \n",
      "Epoch: 1 ... Accuracy: 0.6159626829729317 ... Score: -1.0761909325946248           \n",
      "\n",
      "Validation:                                                                        \n",
      "Epoch: 1 ... Accuracy: 0.604386122288575 ... Score: -1.112530008286986             \n",
      "\n",
      "Training:                                                                          \n",
      "Epoch: 2 ... Accuracy: 0.6810976827433312 ... Score: -0.8536053690214426           \n",
      "\n",
      "Validation:                                                                        \n",
      "Epoch: 2 ... Accuracy: 0.663022955805589 ... Score: -0.9059672706768844            \n",
      "\n",
      "Training:                                                                          \n",
      "Epoch: 3 ... Accuracy: 0.6947039167714107 ... Score: -0.8508556357318223           \n",
      "\n",
      "Validation:                                                                        \n",
      "Epoch: 3 ... Accuracy: 0.6797293487454187 ... Score: -0.901411030234684            \n",
      "\n",
      "Training:                                                                          \n",
      "Epoch: 4 ... Accuracy: 0.7033379645005547 ... Score: -0.8068528281979349           \n",
      "\n",
      "Validation:                                                                        \n",
      "Epoch: 4 ... Accuracy: 0.6891910363858489 ... Score: -0.8493429146269574           \n",
      "\n",
      "Training:                                                                          \n",
      "Epoch: 5 ... Accuracy: 0.7225208215640815 ... Score: -0.7631550422945529           \n",
      "\n",
      "Validation:                                                                        \n",
      "Epoch: 5 ... Accuracy: 0.7072088235042845 ... Score: -0.8111010371547445           \n",
      "\n",
      "Class F1 Scores                                                                    \n",
      "Training:                                                                          \n",
      "[6.44073429e-01 1.90971821e-01 8.57730906e-01 2.34452026e-01\n",
      " 0.00000000e+00 5.89669687e-01 2.37501484e-04 6.75956858e-01\n",
      " 5.98107256e-01 4.67806586e-01 1.29363286e-01 9.30232558e-02]\n",
      "\n",
      "Validation:                                                                        \n",
      "[0.60069546 0.1796462  0.84840165 0.22390935 0.         0.56833333\n",
      " 0.00190024 0.67956011 0.61538462 0.44471545 0.11859893 0.17391304]\n",
      "\n",
      "Training Runtime: 385.88317131996155                                               \n",
      "\n",
      "Model Fitting Complete                                                             \n",
      "Fold 3 Validation Score: 0.3007279193199124                                        \n",
      "********************************                                                   \n",
      "F1 Score too low ... stopped early.                                                \n",
      "********************************                                                   \n",
      "{'hidden_dim': 161, 'n_layers': 1, 'window_size': 7}                               \n",
      "--------------------------------                                                   \n",
      "FOLD 0                                                                             \n",
      "--------------------------------                                                   \n",
      "Device is cuda:0.                                                                  \n",
      "\n",
      " 42%|████▏     | 21/50 [5:54:01<6:54:38, 857.89s/it, best loss: -0.352691566326805]"
     ]
    },
    {
     "data": {
      "text/html": [
       "Finishing last run (ID:2oem5g6n) before initializing another..."
      ],
      "text/plain": [
       "<IPython.core.display.HTML object>"
      ]
     },
     "metadata": {},
     "output_type": "display_data"
    },
    {
     "data": {
      "text/html": [
       "<br/>Waiting for W&B process to finish, PID 151663... <strong style=\"color:green\">(success).</strong>"
      ],
      "text/plain": [
       "<IPython.core.display.HTML object>"
      ]
     },
     "metadata": {},
     "output_type": "display_data"
    },
    {
     "data": {
      "application/vnd.jupyter.widget-view+json": {
       "model_id": "",
       "version_major": 2,
       "version_minor": 0
      },
      "text/plain": [
       "VBox(children=(Label(value=' 0.00MB of 0.00MB uploaded (0.00MB deduped)\\r'), FloatProgress(value=1.0, max=1.0)…"
      ]
     },
     "metadata": {},
     "output_type": "display_data"
    },
    {
     "data": {
      "text/html": [
       "<style>\n",
       "    table.wandb td:nth-child(1) { padding: 0 10px; text-align: right }\n",
       "    .wandb-row { display: flex; flex-direction: row; flex-wrap: wrap; width: 100% }\n",
       "    .wandb-col { display: flex; flex-direction: column; flex-basis: 100%; flex: 1; padding: 10px; }\n",
       "    </style>\n",
       "<div class=\"wandb-row\"><div class=\"wandb-col\">\n",
       "</div><div class=\"wandb-col\">\n",
       "<h3>Run summary:</h3><br/><table class=\"wandb\"><tr><td>train_accuracy</td><td>0.72252</td></tr><tr><td>train_batch_loss</td><td>1.75221</td></tr><tr><td>train_epoch_loss</td><td>1.4704</td></tr><tr><td>train_score</td><td>-0.76316</td></tr><tr><td>valid_accuracy</td><td>0.70721</td></tr><tr><td>valid_epoch_loss</td><td>1.54876</td></tr><tr><td>valid_score</td><td>-0.8111</td></tr></table>\n",
       "</div></div>\n",
       "Synced 6 W&B file(s), 0 media file(s), 0 artifact file(s) and 0 other file(s)\n",
       "<br/>Synced <strong style=\"color:#cdcd00\">lemon-firefly-59</strong>: <a href=\"https://wandb.ai/2djagpal/Lithology-LSTM_search_new/runs/2oem5g6n\" target=\"_blank\">https://wandb.ai/2djagpal/Lithology-LSTM_search_new/runs/2oem5g6n</a><br/>\n",
       "Find logs at: <code>./wandb/run-20211205_211034-2oem5g6n/logs</code><br/>\n"
      ],
      "text/plain": [
       "<IPython.core.display.HTML object>"
      ]
     },
     "metadata": {},
     "output_type": "display_data"
    },
    {
     "data": {
      "text/html": [
       "Successfully finished last run (ID:2oem5g6n). Initializing new run:<br/>"
      ],
      "text/plain": [
       "<IPython.core.display.HTML object>"
      ]
     },
     "metadata": {},
     "output_type": "display_data"
    },
    {
     "data": {
      "text/html": [
       "\n",
       "                    Syncing run <strong><a href=\"https://wandb.ai/2djagpal/Lithology-LSTM_search_new/runs/skjb1j4n\" target=\"_blank\">dashing-water-60</a></strong> to <a href=\"https://wandb.ai/2djagpal/Lithology-LSTM_search_new\" target=\"_blank\">Weights & Biases</a> (<a href=\"https://docs.wandb.com/integrations/jupyter.html\" target=\"_blank\">docs</a>).<br/>\n",
       "\n",
       "                "
      ],
      "text/plain": [
       "<IPython.core.display.HTML object>"
      ]
     },
     "metadata": {},
     "output_type": "display_data"
    },
    {
     "name": "stdout",
     "output_type": "stream",
     "text": [
      "Loading Data ...                                                                   \n",
      "\n",
      "Starting training...                                                               \n",
      "\n",
      "Training:                                                                          \n",
      "Epoch: 1 ... Accuracy: 0.21317417194214489 ... Score: -1.893477789595988           \n",
      "\n",
      "Validation:                                                                        \n",
      "Epoch: 1 ... Accuracy: 0.20908318133471165 ... Score: -1.904370084962602           \n",
      "\n",
      "Training:                                                                          \n",
      "Epoch: 2 ... Accuracy: 0.63767716636338 ... Score: -1.0052000570264243             \n",
      "\n",
      "Validation:                                                                        \n",
      "Epoch: 2 ... Accuracy: 0.6209873431780029 ... Score: -1.0582574764099564           \n",
      "\n",
      "Training:                                                                          \n",
      "Epoch: 3 ... Accuracy: 0.6128920299698422 ... Score: -1.020619884708375            \n",
      "\n",
      "Validation:                                                                        \n",
      "Epoch: 3 ... Accuracy: 0.5971901257138952 ... Score: -1.0657349542722647           \n",
      "\n",
      "Training:                                                                          \n",
      "Epoch: 4 ... Accuracy: 0.696938727563199 ... Score: -0.8035654597141417            \n",
      "\n",
      "Validation:                                                                        \n",
      "Epoch: 4 ... Accuracy: 0.6781587591786521 ... Score: -0.857832343028496            \n",
      "\n",
      "Training:                                                                          \n",
      "Epoch: 5 ... Accuracy: 0.5847301603574511 ... Score: -1.0685830855780813           \n",
      "\n",
      "Validation:                                                                        \n",
      "Epoch: 5 ... Accuracy: 0.5734057231218737 ... Score: -1.103514265088444            \n",
      "\n",
      "Class F1 Scores                                                                    \n",
      "Training:                                                                          \n",
      "[0.5859683  0.2732753  0.73647927 0.24578183 0.         0.42191236\n",
      " 0.45647126 0.78016805 0.63736264 0.37116535 0.23192248 0.11494253]\n",
      "\n",
      "Validation:                                                                        \n",
      "[0.56463091 0.2706579  0.72659485 0.23566861 0.         0.39602907\n",
      " 0.46236559 0.79853301 0.58715596 0.36101968 0.20461538 0.09090909]\n",
      "\n",
      "Training Runtime: 385.54336380958557                                               \n",
      "\n",
      "Model Fitting Complete                                                             \n",
      "Fold 0 Validation Score: 0.2886312435008755                                        \n",
      "********************************                                                   \n",
      "F1 Score too low ... stopped early.                                                \n",
      "********************************                                                   \n",
      "{'hidden_dim': 389, 'n_layers': 1, 'window_size': 3}                               \n",
      "--------------------------------                                                   \n",
      "FOLD 0                                                                             \n",
      "--------------------------------                                                   \n",
      "Device is cuda:0.                                                                  \n",
      "\n",
      " 44%|████▍     | 22/50 [6:00:30<5:34:39, 717.12s/it, best loss: -0.352691566326805]"
     ]
    },
    {
     "data": {
      "text/html": [
       "Finishing last run (ID:skjb1j4n) before initializing another..."
      ],
      "text/plain": [
       "<IPython.core.display.HTML object>"
      ]
     },
     "metadata": {},
     "output_type": "display_data"
    },
    {
     "data": {
      "text/html": [
       "<br/>Waiting for W&B process to finish, PID 153422... <strong style=\"color:green\">(success).</strong>"
      ],
      "text/plain": [
       "<IPython.core.display.HTML object>"
      ]
     },
     "metadata": {},
     "output_type": "display_data"
    },
    {
     "data": {
      "application/vnd.jupyter.widget-view+json": {
       "model_id": "",
       "version_major": 2,
       "version_minor": 0
      },
      "text/plain": [
       "VBox(children=(Label(value=' 0.00MB of 0.00MB uploaded (0.00MB deduped)\\r'), FloatProgress(value=1.0, max=1.0)…"
      ]
     },
     "metadata": {},
     "output_type": "display_data"
    },
    {
     "data": {
      "text/html": [
       "<style>\n",
       "    table.wandb td:nth-child(1) { padding: 0 10px; text-align: right }\n",
       "    .wandb-row { display: flex; flex-direction: row; flex-wrap: wrap; width: 100% }\n",
       "    .wandb-col { display: flex; flex-direction: column; flex-basis: 100%; flex: 1; padding: 10px; }\n",
       "    </style>\n",
       "<div class=\"wandb-row\"><div class=\"wandb-col\">\n",
       "</div><div class=\"wandb-col\">\n",
       "<h3>Run summary:</h3><br/><table class=\"wandb\"><tr><td>train_accuracy</td><td>0.58473</td></tr><tr><td>train_batch_loss</td><td>0.61456</td></tr><tr><td>train_epoch_loss</td><td>1.27655</td></tr><tr><td>train_score</td><td>-1.06858</td></tr><tr><td>valid_accuracy</td><td>0.57341</td></tr><tr><td>valid_epoch_loss</td><td>1.33605</td></tr><tr><td>valid_score</td><td>-1.10351</td></tr></table>\n",
       "</div></div>\n",
       "Synced 6 W&B file(s), 0 media file(s), 0 artifact file(s) and 0 other file(s)\n",
       "<br/>Synced <strong style=\"color:#cdcd00\">dashing-water-60</strong>: <a href=\"https://wandb.ai/2djagpal/Lithology-LSTM_search_new/runs/skjb1j4n\" target=\"_blank\">https://wandb.ai/2djagpal/Lithology-LSTM_search_new/runs/skjb1j4n</a><br/>\n",
       "Find logs at: <code>./wandb/run-20211205_211704-skjb1j4n/logs</code><br/>\n"
      ],
      "text/plain": [
       "<IPython.core.display.HTML object>"
      ]
     },
     "metadata": {},
     "output_type": "display_data"
    },
    {
     "data": {
      "text/html": [
       "Successfully finished last run (ID:skjb1j4n). Initializing new run:<br/>"
      ],
      "text/plain": [
       "<IPython.core.display.HTML object>"
      ]
     },
     "metadata": {},
     "output_type": "display_data"
    },
    {
     "data": {
      "text/html": [
       "\n",
       "                    Syncing run <strong><a href=\"https://wandb.ai/2djagpal/Lithology-LSTM_search_new/runs/2hxou7j8\" target=\"_blank\">charmed-dew-61</a></strong> to <a href=\"https://wandb.ai/2djagpal/Lithology-LSTM_search_new\" target=\"_blank\">Weights & Biases</a> (<a href=\"https://docs.wandb.com/integrations/jupyter.html\" target=\"_blank\">docs</a>).<br/>\n",
       "\n",
       "                "
      ],
      "text/plain": [
       "<IPython.core.display.HTML object>"
      ]
     },
     "metadata": {},
     "output_type": "display_data"
    },
    {
     "name": "stdout",
     "output_type": "stream",
     "text": [
      "Loading Data ...                                                                   \n",
      "\n",
      "Starting training...                                                               \n",
      "\n",
      "Training:                                                                          \n",
      "Epoch: 1 ... Accuracy: 0.5933300441687811 ... Score: -1.2014470455186201           \n",
      "\n",
      "Validation:                                                                        \n",
      "Epoch: 1 ... Accuracy: 0.5846272794453723 ... Score: -1.2313960094488323           \n",
      "\n",
      "Training:                                                                          \n",
      "Epoch: 2 ... Accuracy: 0.6581094992780925 ... Score: -0.9084771274914354           \n",
      "\n",
      "Validation:                                                                        \n",
      "Epoch: 2 ... Accuracy: 0.6484581573068264 ... Score: -0.9380016488468751           \n",
      "\n",
      "Training:                                                                          \n",
      "Epoch: 3 ... Accuracy: 0.7028432050986322 ... Score: -0.8035255465566291           \n",
      "\n",
      "Validation:                                                                        \n",
      "Epoch: 3 ... Accuracy: 0.689982614490203 ... Score: -0.8434930351170211            \n",
      "\n",
      "Training:                                                                          \n",
      "Epoch: 4 ... Accuracy: 0.6793961606479227 ... Score: -0.8779175316742275           \n",
      "\n",
      "Validation:                                                                        \n",
      "Epoch: 4 ... Accuracy: 0.666928659607096 ... Score: -0.9147560048354784            \n",
      "\n",
      "Training:                                                                          \n",
      "Epoch: 5 ... Accuracy: 0.5484457629580268 ... Score: -1.1318179415383038           \n",
      "\n",
      "Validation:                                                                        \n",
      "Epoch: 5 ... Accuracy: 0.5360290128704032 ... Score: -1.1683831475888817           \n",
      "\n",
      "Class F1 Scores                                                                    \n",
      "Training:                                                                          \n",
      "[0.63324988 0.34779023 0.64283042 0.3005656  0.         0.57389122\n",
      " 0.42293181 0.93232735 0.70197905 0.47040839 0.40061752 0.11363636]\n",
      "\n",
      "Validation:                                                                        \n",
      "[0.60538775 0.34032221 0.63504229 0.29713618 0.         0.54803038\n",
      " 0.43475073 0.93619632 0.69117647 0.44794953 0.32051801 0.17391304]\n",
      "\n",
      "Training Runtime: 386.41141176223755                                               \n",
      "\n",
      "Model Fitting Complete                                                             \n",
      "Fold 0 Validation Score: 0.3179203820951665                                        \n",
      "********************************                                                   \n",
      "F1 Score too low ... stopped early.                                                \n",
      "********************************                                                   \n",
      "{'hidden_dim': 395, 'n_layers': 1, 'window_size': 7}                               \n",
      "--------------------------------                                                   \n",
      "FOLD 0                                                                             \n",
      "--------------------------------                                                   \n",
      "Device is cuda:0.                                                                  \n",
      "\n",
      " 46%|████▌     | 23/50 [6:06:59<4:38:29, 618.89s/it, best loss: -0.352691566326805]"
     ]
    },
    {
     "data": {
      "text/html": [
       "Finishing last run (ID:2hxou7j8) before initializing another..."
      ],
      "text/plain": [
       "<IPython.core.display.HTML object>"
      ]
     },
     "metadata": {},
     "output_type": "display_data"
    },
    {
     "data": {
      "text/html": [
       "<br/>Waiting for W&B process to finish, PID 155151... <strong style=\"color:green\">(success).</strong>"
      ],
      "text/plain": [
       "<IPython.core.display.HTML object>"
      ]
     },
     "metadata": {},
     "output_type": "display_data"
    },
    {
     "data": {
      "application/vnd.jupyter.widget-view+json": {
       "model_id": "",
       "version_major": 2,
       "version_minor": 0
      },
      "text/plain": [
       "VBox(children=(Label(value=' 0.00MB of 0.00MB uploaded (0.00MB deduped)\\r'), FloatProgress(value=1.0, max=1.0)…"
      ]
     },
     "metadata": {},
     "output_type": "display_data"
    },
    {
     "data": {
      "text/html": [
       "<style>\n",
       "    table.wandb td:nth-child(1) { padding: 0 10px; text-align: right }\n",
       "    .wandb-row { display: flex; flex-direction: row; flex-wrap: wrap; width: 100% }\n",
       "    .wandb-col { display: flex; flex-direction: column; flex-basis: 100%; flex: 1; padding: 10px; }\n",
       "    </style>\n",
       "<div class=\"wandb-row\"><div class=\"wandb-col\">\n",
       "</div><div class=\"wandb-col\">\n",
       "<h3>Run summary:</h3><br/><table class=\"wandb\"><tr><td>train_accuracy</td><td>0.54845</td></tr><tr><td>train_batch_loss</td><td>1.40412</td></tr><tr><td>train_epoch_loss</td><td>1.34733</td></tr><tr><td>train_score</td><td>-1.13182</td></tr><tr><td>valid_accuracy</td><td>0.53603</td></tr><tr><td>valid_epoch_loss</td><td>1.44585</td></tr><tr><td>valid_score</td><td>-1.16838</td></tr></table>\n",
       "</div></div>\n",
       "Synced 6 W&B file(s), 0 media file(s), 0 artifact file(s) and 0 other file(s)\n",
       "<br/>Synced <strong style=\"color:#cdcd00\">charmed-dew-61</strong>: <a href=\"https://wandb.ai/2djagpal/Lithology-LSTM_search_new/runs/2hxou7j8\" target=\"_blank\">https://wandb.ai/2djagpal/Lithology-LSTM_search_new/runs/2hxou7j8</a><br/>\n",
       "Find logs at: <code>./wandb/run-20211205_212333-2hxou7j8/logs</code><br/>\n"
      ],
      "text/plain": [
       "<IPython.core.display.HTML object>"
      ]
     },
     "metadata": {},
     "output_type": "display_data"
    },
    {
     "data": {
      "text/html": [
       "Successfully finished last run (ID:2hxou7j8). Initializing new run:<br/>"
      ],
      "text/plain": [
       "<IPython.core.display.HTML object>"
      ]
     },
     "metadata": {},
     "output_type": "display_data"
    },
    {
     "data": {
      "text/html": [
       "\n",
       "                    Syncing run <strong><a href=\"https://wandb.ai/2djagpal/Lithology-LSTM_search_new/runs/5mwcvmza\" target=\"_blank\">hearty-firebrand-62</a></strong> to <a href=\"https://wandb.ai/2djagpal/Lithology-LSTM_search_new\" target=\"_blank\">Weights & Biases</a> (<a href=\"https://docs.wandb.com/integrations/jupyter.html\" target=\"_blank\">docs</a>).<br/>\n",
       "\n",
       "                "
      ],
      "text/plain": [
       "<IPython.core.display.HTML object>"
      ]
     },
     "metadata": {},
     "output_type": "display_data"
    },
    {
     "name": "stdout",
     "output_type": "stream",
     "text": [
      "Loading Data ...                                                                   \n",
      "\n",
      "Starting training...                                                               \n",
      "\n",
      "Training:                                                                          \n",
      "Epoch: 1 ... Accuracy: 0.6537374734090269 ... Score: -0.9676798201211437           \n",
      "\n",
      "Validation:                                                                        \n",
      "Epoch: 1 ... Accuracy: 0.6388683613623063 ... Score: -1.0126573559501586           \n",
      "\n",
      "Training:                                                                          \n",
      "Epoch: 2 ... Accuracy: 0.6798521584608419 ... Score: -0.8867366041298238           \n",
      "\n",
      "Validation:                                                                        \n",
      "Epoch: 2 ... Accuracy: 0.662157255566994 ... Score: -0.9426491757901436            \n",
      "\n",
      "Training:                                                                          \n",
      "Epoch: 3 ... Accuracy: 0.6392416553468147 ... Score: -1.0178421158298518           \n",
      "\n",
      "Validation:                                                                        \n",
      "Epoch: 3 ... Accuracy: 0.6238920475175457 ... Score: -1.0637363681798182           \n",
      "\n",
      "Training:                                                                          \n",
      "Epoch: 4 ... Accuracy: 0.670292223048073 ... Score: -0.9151367512879002            \n",
      "\n",
      "Validation:                                                                        \n",
      "Epoch: 4 ... Accuracy: 0.654844235229792 ... Score: -0.9551965374215623            \n",
      "\n",
      "Training:                                                                          \n",
      "Epoch: 5 ... Accuracy: 0.6932843375964324 ... Score: -0.8289071110028962           \n",
      "\n",
      "Validation:                                                                        \n",
      "Epoch: 5 ... Accuracy: 0.6760400336603973 ... Score: -0.8817566413074587           \n",
      "\n",
      "Class F1 Scores                                                                    \n",
      "Training:                                                                          \n",
      "[0.66097655 0.33050446 0.83167826 0.29967521 0.         0.34406308\n",
      " 0.50176521 0.9521503  0.52858262 0.46448949 0.51862107 0.13636364]\n",
      "\n",
      "Validation:                                                                        \n",
      "[0.61636889 0.31568569 0.82128674 0.27466183 0.         0.32056876\n",
      " 0.50376036 0.95921986 0.52698413 0.45435917 0.43943662 0.        ]\n",
      "\n",
      "Training Runtime: 395.3389024734497                                                \n",
      "\n",
      "Model Fitting Complete                                                             \n",
      "Fold 0 Validation Score: 0.38020171718929563                                       \n",
      "--------------------------------                                                   \n",
      "FOLD 1                                                                             \n",
      "--------------------------------                                                   \n",
      "Device is cuda:0.                                                                  \n",
      "\n",
      " 46%|████▌     | 23/50 [6:13:38<4:38:29, 618.89s/it, best loss: -0.352691566326805]"
     ]
    },
    {
     "data": {
      "text/html": [
       "Finishing last run (ID:5mwcvmza) before initializing another..."
      ],
      "text/plain": [
       "<IPython.core.display.HTML object>"
      ]
     },
     "metadata": {},
     "output_type": "display_data"
    },
    {
     "data": {
      "text/html": [
       "<br/>Waiting for W&B process to finish, PID 156908... <strong style=\"color:green\">(success).</strong>"
      ],
      "text/plain": [
       "<IPython.core.display.HTML object>"
      ]
     },
     "metadata": {},
     "output_type": "display_data"
    },
    {
     "data": {
      "application/vnd.jupyter.widget-view+json": {
       "model_id": "",
       "version_major": 2,
       "version_minor": 0
      },
      "text/plain": [
       "VBox(children=(Label(value=' 0.00MB of 0.00MB uploaded (0.00MB deduped)\\r'), FloatProgress(value=1.0, max=1.0)…"
      ]
     },
     "metadata": {},
     "output_type": "display_data"
    },
    {
     "data": {
      "text/html": [
       "<style>\n",
       "    table.wandb td:nth-child(1) { padding: 0 10px; text-align: right }\n",
       "    .wandb-row { display: flex; flex-direction: row; flex-wrap: wrap; width: 100% }\n",
       "    .wandb-col { display: flex; flex-direction: column; flex-basis: 100%; flex: 1; padding: 10px; }\n",
       "    </style>\n",
       "<div class=\"wandb-row\"><div class=\"wandb-col\">\n",
       "</div><div class=\"wandb-col\">\n",
       "<h3>Run summary:</h3><br/><table class=\"wandb\"><tr><td>train_accuracy</td><td>0.69328</td></tr><tr><td>train_batch_loss</td><td>1.66387</td></tr><tr><td>train_epoch_loss</td><td>1.2801</td></tr><tr><td>train_score</td><td>-0.82891</td></tr><tr><td>valid_accuracy</td><td>0.67604</td></tr><tr><td>valid_epoch_loss</td><td>1.37673</td></tr><tr><td>valid_score</td><td>-0.88176</td></tr></table>\n",
       "</div></div>\n",
       "Synced 6 W&B file(s), 0 media file(s), 0 artifact file(s) and 0 other file(s)\n",
       "<br/>Synced <strong style=\"color:#cdcd00\">hearty-firebrand-62</strong>: <a href=\"https://wandb.ai/2djagpal/Lithology-LSTM_search_new/runs/5mwcvmza\" target=\"_blank\">https://wandb.ai/2djagpal/Lithology-LSTM_search_new/runs/5mwcvmza</a><br/>\n",
       "Find logs at: <code>./wandb/run-20211205_213002-5mwcvmza/logs</code><br/>\n"
      ],
      "text/plain": [
       "<IPython.core.display.HTML object>"
      ]
     },
     "metadata": {},
     "output_type": "display_data"
    },
    {
     "data": {
      "text/html": [
       "Successfully finished last run (ID:5mwcvmza). Initializing new run:<br/>"
      ],
      "text/plain": [
       "<IPython.core.display.HTML object>"
      ]
     },
     "metadata": {},
     "output_type": "display_data"
    },
    {
     "data": {
      "text/html": [
       "\n",
       "                    Syncing run <strong><a href=\"https://wandb.ai/2djagpal/Lithology-LSTM_search_new/runs/zx74brii\" target=\"_blank\">deep-disco-63</a></strong> to <a href=\"https://wandb.ai/2djagpal/Lithology-LSTM_search_new\" target=\"_blank\">Weights & Biases</a> (<a href=\"https://docs.wandb.com/integrations/jupyter.html\" target=\"_blank\">docs</a>).<br/>\n",
       "\n",
       "                "
      ],
      "text/plain": [
       "<IPython.core.display.HTML object>"
      ]
     },
     "metadata": {},
     "output_type": "display_data"
    },
    {
     "name": "stdout",
     "output_type": "stream",
     "text": [
      "Loading Data ...                                                                   \n",
      "\n",
      "Starting training...                                                               \n",
      "\n",
      "Training:                                                                          \n",
      "Epoch: 1 ... Accuracy: 0.664347523357849 ... Score: -0.9083737715036913            \n",
      "\n",
      "Validation:                                                                        \n",
      "Epoch: 1 ... Accuracy: 0.6517885366207893 ... Score: -0.9486767520140793           \n",
      "\n",
      "Training:                                                                          \n",
      "Epoch: 2 ... Accuracy: 0.5480639336016634 ... Score: -1.1436741317095414           \n",
      "\n",
      "Validation:                                                                        \n",
      "Epoch: 2 ... Accuracy: 0.5274837464011414 ... Score: -1.198606269916532            \n",
      "\n",
      "Training:                                                                          \n",
      "Epoch: 3 ... Accuracy: 0.655217965653897 ... Score: -0.9711430849126824            \n",
      "\n",
      "Validation:                                                                        \n",
      "Epoch: 3 ... Accuracy: 0.6402038427693911 ... Score: -1.021491166243774            \n",
      "\n",
      "Training:                                                                          \n",
      "Epoch: 4 ... Accuracy: 0.6441544239749938 ... Score: -0.8799571020782585           \n",
      "\n",
      "Validation:                                                                        \n",
      "Epoch: 4 ... Accuracy: 0.6250565992601516 ... Score: -0.934390244423371            \n",
      "\n",
      "Training:                                                                          \n",
      "Epoch: 5 ... Accuracy: 0.6838187159670615 ... Score: -0.8239856996248435           \n",
      "\n",
      "Validation:                                                                        \n",
      "Epoch: 5 ... Accuracy: 0.6679438877070678 ... Score: -0.8711982383747255           \n",
      "\n",
      "Class F1 Scores                                                                    \n",
      "Training:                                                                          \n",
      "[0.66065056 0.35504857 0.81321217 0.32497257 0.         0.50804721\n",
      " 0.01156342 0.91733083 0.5789909  0.51180113 0.54223293 0.11235955]\n",
      "\n",
      "Validation:                                                                        \n",
      "[0.61701243 0.34210686 0.80462703 0.31351432 0.         0.48412622\n",
      " 0.01229314 0.91591122 0.53716216 0.49990725 0.40123457 0.26086957]\n",
      "\n",
      "Training Runtime: 395.1310758590698                                                \n",
      "\n",
      "Model Fitting Complete                                                             \n",
      "Fold 1 Validation Score: 0.39691120281593556                                       \n",
      "--------------------------------                                                   \n",
      "FOLD 2                                                                             \n",
      "--------------------------------                                                   \n",
      "Device is cuda:0.                                                                  \n",
      "\n",
      " 46%|████▌     | 23/50 [6:20:17<4:38:29, 618.89s/it, best loss: -0.352691566326805]"
     ]
    },
    {
     "data": {
      "text/html": [
       "Finishing last run (ID:zx74brii) before initializing another..."
      ],
      "text/plain": [
       "<IPython.core.display.HTML object>"
      ]
     },
     "metadata": {},
     "output_type": "display_data"
    },
    {
     "data": {
      "text/html": [
       "<br/>Waiting for W&B process to finish, PID 158660... <strong style=\"color:green\">(success).</strong>"
      ],
      "text/plain": [
       "<IPython.core.display.HTML object>"
      ]
     },
     "metadata": {},
     "output_type": "display_data"
    },
    {
     "data": {
      "application/vnd.jupyter.widget-view+json": {
       "model_id": "",
       "version_major": 2,
       "version_minor": 0
      },
      "text/plain": [
       "VBox(children=(Label(value=' 0.00MB of 0.00MB uploaded (0.00MB deduped)\\r'), FloatProgress(value=1.0, max=1.0)…"
      ]
     },
     "metadata": {},
     "output_type": "display_data"
    },
    {
     "data": {
      "text/html": [
       "<style>\n",
       "    table.wandb td:nth-child(1) { padding: 0 10px; text-align: right }\n",
       "    .wandb-row { display: flex; flex-direction: row; flex-wrap: wrap; width: 100% }\n",
       "    .wandb-col { display: flex; flex-direction: column; flex-basis: 100%; flex: 1; padding: 10px; }\n",
       "    </style>\n",
       "<div class=\"wandb-row\"><div class=\"wandb-col\">\n",
       "</div><div class=\"wandb-col\">\n",
       "<h3>Run summary:</h3><br/><table class=\"wandb\"><tr><td>train_accuracy</td><td>0.68382</td></tr><tr><td>train_batch_loss</td><td>1.07513</td></tr><tr><td>train_epoch_loss</td><td>1.29752</td></tr><tr><td>train_score</td><td>-0.82399</td></tr><tr><td>valid_accuracy</td><td>0.66794</td></tr><tr><td>valid_epoch_loss</td><td>1.39327</td></tr><tr><td>valid_score</td><td>-0.8712</td></tr></table>\n",
       "</div></div>\n",
       "Synced 6 W&B file(s), 0 media file(s), 0 artifact file(s) and 0 other file(s)\n",
       "<br/>Synced <strong style=\"color:#cdcd00\">deep-disco-63</strong>: <a href=\"https://wandb.ai/2djagpal/Lithology-LSTM_search_new/runs/zx74brii\" target=\"_blank\">https://wandb.ai/2djagpal/Lithology-LSTM_search_new/runs/zx74brii</a><br/>\n",
       "Find logs at: <code>./wandb/run-20211205_213641-zx74brii/logs</code><br/>\n"
      ],
      "text/plain": [
       "<IPython.core.display.HTML object>"
      ]
     },
     "metadata": {},
     "output_type": "display_data"
    },
    {
     "data": {
      "text/html": [
       "Successfully finished last run (ID:zx74brii). Initializing new run:<br/>"
      ],
      "text/plain": [
       "<IPython.core.display.HTML object>"
      ]
     },
     "metadata": {},
     "output_type": "display_data"
    },
    {
     "data": {
      "text/html": [
       "\n",
       "                    Syncing run <strong><a href=\"https://wandb.ai/2djagpal/Lithology-LSTM_search_new/runs/20aqxyhw\" target=\"_blank\">winter-glitter-64</a></strong> to <a href=\"https://wandb.ai/2djagpal/Lithology-LSTM_search_new\" target=\"_blank\">Weights & Biases</a> (<a href=\"https://docs.wandb.com/integrations/jupyter.html\" target=\"_blank\">docs</a>).<br/>\n",
       "\n",
       "                "
      ],
      "text/plain": [
       "<IPython.core.display.HTML object>"
      ]
     },
     "metadata": {},
     "output_type": "display_data"
    },
    {
     "name": "stdout",
     "output_type": "stream",
     "text": [
      "Loading Data ...                                                                   \n",
      "\n",
      "Starting training...                                                               \n",
      "\n",
      "Training:                                                                          \n",
      "Epoch: 1 ... Accuracy: 0.6655638721968712 ... Score: -0.8997805713101861           \n",
      "\n",
      "Validation:                                                                        \n",
      "Epoch: 1 ... Accuracy: 0.6517372769134822 ... Score: -0.9397474177922444           \n",
      "\n",
      "Training:                                                                          \n",
      "Epoch: 2 ... Accuracy: 0.6833947559239606 ... Score: -0.8686249811780963           \n",
      "\n",
      "Validation:                                                                        \n",
      "Epoch: 2 ... Accuracy: 0.6659404874798165 ... Score: -0.9256445908193864           \n",
      "\n",
      "Training:                                                                          \n",
      "Epoch: 3 ... Accuracy: 0.6643571345427052 ... Score: -0.8785776300740381           \n",
      "\n",
      "Validation:                                                                        \n",
      "Epoch: 3 ... Accuracy: 0.6491401184099239 ... Score: -0.919409061007595            \n",
      "\n",
      "Training:                                                                          \n",
      "Epoch: 4 ... Accuracy: 0.6295443550841566 ... Score: -0.967342528745452            \n",
      "\n",
      "Validation:                                                                        \n",
      "Epoch: 4 ... Accuracy: 0.6097384900598884 ... Score: -1.0216924673860113           \n",
      "\n",
      "Training:                                                                          \n",
      "Epoch: 5 ... Accuracy: 0.7008646862642286 ... Score: -0.7847525760645189           \n",
      "\n",
      "Validation:                                                                        \n",
      "Epoch: 5 ... Accuracy: 0.6850859881590076 ... Score: -0.8301002340859968           \n",
      "\n",
      "Class F1 Scores                                                                    \n",
      "Training:                                                                          \n",
      "[0.58100816 0.34747861 0.82589015 0.32317991 0.         0.6112226\n",
      " 0.08786232 0.62159719 0.64592408 0.55688673 0.47899953 0.17391304]\n",
      "\n",
      "Validation:                                                                        \n",
      "[0.53853004 0.32917706 0.81816224 0.31134078 0.         0.58368591\n",
      " 0.09041591 0.58421481 0.59183673 0.52910585 0.3951976  0.        ]\n",
      "\n",
      "Training Runtime: 394.3744647502899                                                \n",
      "\n",
      "Model Fitting Complete                                                             \n",
      "Fold 2 Validation Score: 0.39669680180412226                                       \n",
      "--------------------------------                                                   \n",
      "FOLD 3                                                                             \n",
      "--------------------------------                                                   \n",
      "Device is cuda:0.                                                                  \n",
      "\n",
      " 46%|████▌     | 23/50 [6:26:54<4:38:29, 618.89s/it, best loss: -0.352691566326805]"
     ]
    },
    {
     "data": {
      "text/html": [
       "Finishing last run (ID:20aqxyhw) before initializing another..."
      ],
      "text/plain": [
       "<IPython.core.display.HTML object>"
      ]
     },
     "metadata": {},
     "output_type": "display_data"
    },
    {
     "data": {
      "text/html": [
       "<br/>Waiting for W&B process to finish, PID 160442... <strong style=\"color:green\">(success).</strong>"
      ],
      "text/plain": [
       "<IPython.core.display.HTML object>"
      ]
     },
     "metadata": {},
     "output_type": "display_data"
    },
    {
     "data": {
      "application/vnd.jupyter.widget-view+json": {
       "model_id": "",
       "version_major": 2,
       "version_minor": 0
      },
      "text/plain": [
       "VBox(children=(Label(value=' 0.00MB of 0.00MB uploaded (0.00MB deduped)\\r'), FloatProgress(value=1.0, max=1.0)…"
      ]
     },
     "metadata": {},
     "output_type": "display_data"
    },
    {
     "data": {
      "text/html": [
       "<style>\n",
       "    table.wandb td:nth-child(1) { padding: 0 10px; text-align: right }\n",
       "    .wandb-row { display: flex; flex-direction: row; flex-wrap: wrap; width: 100% }\n",
       "    .wandb-col { display: flex; flex-direction: column; flex-basis: 100%; flex: 1; padding: 10px; }\n",
       "    </style>\n",
       "<div class=\"wandb-row\"><div class=\"wandb-col\">\n",
       "</div><div class=\"wandb-col\">\n",
       "<h3>Run summary:</h3><br/><table class=\"wandb\"><tr><td>train_accuracy</td><td>0.70086</td></tr><tr><td>train_batch_loss</td><td>0.7933</td></tr><tr><td>train_epoch_loss</td><td>1.39958</td></tr><tr><td>train_score</td><td>-0.78475</td></tr><tr><td>valid_accuracy</td><td>0.68509</td></tr><tr><td>valid_epoch_loss</td><td>1.49685</td></tr><tr><td>valid_score</td><td>-0.8301</td></tr></table>\n",
       "</div></div>\n",
       "Synced 6 W&B file(s), 0 media file(s), 0 artifact file(s) and 0 other file(s)\n",
       "<br/>Synced <strong style=\"color:#cdcd00\">winter-glitter-64</strong>: <a href=\"https://wandb.ai/2djagpal/Lithology-LSTM_search_new/runs/20aqxyhw\" target=\"_blank\">https://wandb.ai/2djagpal/Lithology-LSTM_search_new/runs/20aqxyhw</a><br/>\n",
       "Find logs at: <code>./wandb/run-20211205_214319-20aqxyhw/logs</code><br/>\n"
      ],
      "text/plain": [
       "<IPython.core.display.HTML object>"
      ]
     },
     "metadata": {},
     "output_type": "display_data"
    },
    {
     "data": {
      "text/html": [
       "Successfully finished last run (ID:20aqxyhw). Initializing new run:<br/>"
      ],
      "text/plain": [
       "<IPython.core.display.HTML object>"
      ]
     },
     "metadata": {},
     "output_type": "display_data"
    },
    {
     "data": {
      "text/html": [
       "\n",
       "                    Syncing run <strong><a href=\"https://wandb.ai/2djagpal/Lithology-LSTM_search_new/runs/frhl03g4\" target=\"_blank\">serene-paper-65</a></strong> to <a href=\"https://wandb.ai/2djagpal/Lithology-LSTM_search_new\" target=\"_blank\">Weights & Biases</a> (<a href=\"https://docs.wandb.com/integrations/jupyter.html\" target=\"_blank\">docs</a>).<br/>\n",
       "\n",
       "                "
      ],
      "text/plain": [
       "<IPython.core.display.HTML object>"
      ]
     },
     "metadata": {},
     "output_type": "display_data"
    },
    {
     "name": "stdout",
     "output_type": "stream",
     "text": [
      "Loading Data ...                                                                   \n",
      "\n",
      "Starting training...                                                               \n",
      "\n",
      "Training:                                                                          \n",
      "Epoch: 1 ... Accuracy: 0.6514866901108384 ... Score: -0.9274699944148337           \n",
      "\n",
      "Validation:                                                                        \n",
      "Epoch: 1 ... Accuracy: 0.6390035112899506 ... Score: -0.9694508163108388           \n",
      "\n",
      "Training:                                                                          \n",
      "Epoch: 2 ... Accuracy: 0.7160770560727203 ... Score: -0.7685514556139464           \n",
      "\n",
      "Validation:                                                                        \n",
      "Epoch: 2 ... Accuracy: 0.699413076351334 ... Score: -0.8210512938804453            \n",
      "\n",
      "Training:                                                                          \n",
      "Epoch: 3 ... Accuracy: 0.6658618189274131 ... Score: -0.8957546862535495           \n",
      "\n",
      "Validation:                                                                        \n",
      "Epoch: 3 ... Accuracy: 0.6502251155479235 ... Score: -0.9436858719703377           \n",
      "\n",
      "Training:                                                                          \n",
      "Epoch: 4 ... Accuracy: 0.7117498870685779 ... Score: -0.7568487701421067           \n",
      "\n",
      "Validation:                                                                        \n",
      "Epoch: 4 ... Accuracy: 0.6951713355716739 ... Score: -0.8059109917899036           \n",
      "\n",
      "Training:                                                                          \n",
      "Epoch: 5 ... Accuracy: 0.7172389415308909 ... Score: -0.772613916568508            \n",
      "\n",
      "Validation:                                                                        \n",
      "Epoch: 5 ... Accuracy: 0.6996480166764915 ... Score: -0.8279831013831578           \n",
      "\n",
      "Class F1 Scores                                                                    \n",
      "Training:                                                                          \n",
      "[0.64879277 0.23915949 0.85596672 0.30347297 0.         0.49080451\n",
      " 0.00757755 0.62157517 0.65474723 0.16298087 0.32819284 0.13483146]\n",
      "\n",
      "Validation:                                                                        \n",
      "[0.59489433 0.22966689 0.84611491 0.29480681 0.         0.47335375\n",
      " 0.01322626 0.64623955 0.63049096 0.17327293 0.2666294  0.17391304]\n",
      "\n",
      "Training Runtime: 395.30468797683716                                               \n",
      "\n",
      "Model Fitting Complete                                                             \n",
      "Fold 3 Validation Score: 0.3349710884260012                                        \n",
      "********************************                                                   \n",
      "F1 Score too low ... stopped early.                                                \n",
      "********************************                                                   \n",
      "{'hidden_dim': 86, 'n_layers': 1, 'window_size': 0}                                \n",
      "--------------------------------                                                   \n",
      "FOLD 0                                                                             \n",
      "--------------------------------                                                   \n",
      "Device is cuda:0.                                                                  \n",
      "\n",
      " 48%|████▊     | 24/50 [6:33:33<6:34:54, 911.34s/it, best loss: -0.352691566326805]"
     ]
    },
    {
     "data": {
      "text/html": [
       "Finishing last run (ID:frhl03g4) before initializing another..."
      ],
      "text/plain": [
       "<IPython.core.display.HTML object>"
      ]
     },
     "metadata": {},
     "output_type": "display_data"
    },
    {
     "data": {
      "text/html": [
       "<br/>Waiting for W&B process to finish, PID 162210... <strong style=\"color:green\">(success).</strong>"
      ],
      "text/plain": [
       "<IPython.core.display.HTML object>"
      ]
     },
     "metadata": {},
     "output_type": "display_data"
    },
    {
     "data": {
      "application/vnd.jupyter.widget-view+json": {
       "model_id": "",
       "version_major": 2,
       "version_minor": 0
      },
      "text/plain": [
       "VBox(children=(Label(value=' 0.00MB of 0.00MB uploaded (0.00MB deduped)\\r'), FloatProgress(value=1.0, max=1.0)…"
      ]
     },
     "metadata": {},
     "output_type": "display_data"
    },
    {
     "data": {
      "text/html": [
       "<style>\n",
       "    table.wandb td:nth-child(1) { padding: 0 10px; text-align: right }\n",
       "    .wandb-row { display: flex; flex-direction: row; flex-wrap: wrap; width: 100% }\n",
       "    .wandb-col { display: flex; flex-direction: column; flex-basis: 100%; flex: 1; padding: 10px; }\n",
       "    </style>\n",
       "<div class=\"wandb-row\"><div class=\"wandb-col\">\n",
       "</div><div class=\"wandb-col\">\n",
       "<h3>Run summary:</h3><br/><table class=\"wandb\"><tr><td>train_accuracy</td><td>0.71724</td></tr><tr><td>train_batch_loss</td><td>0.5882</td></tr><tr><td>train_epoch_loss</td><td>1.50583</td></tr><tr><td>train_score</td><td>-0.77261</td></tr><tr><td>valid_accuracy</td><td>0.69965</td></tr><tr><td>valid_epoch_loss</td><td>1.59743</td></tr><tr><td>valid_score</td><td>-0.82798</td></tr></table>\n",
       "</div></div>\n",
       "Synced 6 W&B file(s), 0 media file(s), 0 artifact file(s) and 0 other file(s)\n",
       "<br/>Synced <strong style=\"color:#cdcd00\">serene-paper-65</strong>: <a href=\"https://wandb.ai/2djagpal/Lithology-LSTM_search_new/runs/frhl03g4\" target=\"_blank\">https://wandb.ai/2djagpal/Lithology-LSTM_search_new/runs/frhl03g4</a><br/>\n",
       "Find logs at: <code>./wandb/run-20211205_214957-frhl03g4/logs</code><br/>\n"
      ],
      "text/plain": [
       "<IPython.core.display.HTML object>"
      ]
     },
     "metadata": {},
     "output_type": "display_data"
    },
    {
     "data": {
      "text/html": [
       "Successfully finished last run (ID:frhl03g4). Initializing new run:<br/>"
      ],
      "text/plain": [
       "<IPython.core.display.HTML object>"
      ]
     },
     "metadata": {},
     "output_type": "display_data"
    },
    {
     "data": {
      "text/html": [
       "\n",
       "                    Syncing run <strong><a href=\"https://wandb.ai/2djagpal/Lithology-LSTM_search_new/runs/lyslkei0\" target=\"_blank\">denim-snowball-66</a></strong> to <a href=\"https://wandb.ai/2djagpal/Lithology-LSTM_search_new\" target=\"_blank\">Weights & Biases</a> (<a href=\"https://docs.wandb.com/integrations/jupyter.html\" target=\"_blank\">docs</a>).<br/>\n",
       "\n",
       "                "
      ],
      "text/plain": [
       "<IPython.core.display.HTML object>"
      ]
     },
     "metadata": {},
     "output_type": "display_data"
    },
    {
     "name": "stdout",
     "output_type": "stream",
     "text": [
      "Loading Data ...                                                                   \n",
      "\n",
      "Starting training...                                                               \n",
      "\n",
      "{'hidden_dim': 280, 'n_layers': 1, 'window_size': 7}                               \n",
      "--------------------------------                                                   \n",
      "FOLD 0                                                                             \n",
      "--------------------------------                                                   \n",
      "Device is cuda:0.                                                                  \n",
      "\n",
      " 50%|█████     | 25/50 [6:33:43<4:27:05, 641.01s/it, best loss: -0.352691566326805]"
     ]
    },
    {
     "data": {
      "text/html": [
       "Finishing last run (ID:lyslkei0) before initializing another..."
      ],
      "text/plain": [
       "<IPython.core.display.HTML object>"
      ]
     },
     "metadata": {},
     "output_type": "display_data"
    },
    {
     "data": {
      "text/html": [
       "<br/>Waiting for W&B process to finish, PID 164081... <strong style=\"color:green\">(success).</strong>"
      ],
      "text/plain": [
       "<IPython.core.display.HTML object>"
      ]
     },
     "metadata": {},
     "output_type": "display_data"
    },
    {
     "data": {
      "application/vnd.jupyter.widget-view+json": {
       "model_id": "",
       "version_major": 2,
       "version_minor": 0
      },
      "text/plain": [
       "VBox(children=(Label(value=' 0.00MB of 0.00MB uploaded (0.00MB deduped)\\r'), FloatProgress(value=1.0, max=1.0)…"
      ]
     },
     "metadata": {},
     "output_type": "display_data"
    },
    {
     "data": {
      "text/html": [
       "<style>\n",
       "    table.wandb td:nth-child(1) { padding: 0 10px; text-align: right }\n",
       "    .wandb-row { display: flex; flex-direction: row; flex-wrap: wrap; width: 100% }\n",
       "    .wandb-col { display: flex; flex-direction: column; flex-basis: 100%; flex: 1; padding: 10px; }\n",
       "    </style>\n",
       "<div class=\"wandb-row\"><div class=\"wandb-col\">\n",
       "</div><div class=\"wandb-col\">\n",
       "</div></div>\n",
       "Synced 6 W&B file(s), 0 media file(s), 0 artifact file(s) and 0 other file(s)\n",
       "<br/>Synced <strong style=\"color:#cdcd00\">denim-snowball-66</strong>: <a href=\"https://wandb.ai/2djagpal/Lithology-LSTM_search_new/runs/lyslkei0\" target=\"_blank\">https://wandb.ai/2djagpal/Lithology-LSTM_search_new/runs/lyslkei0</a><br/>\n",
       "Find logs at: <code>./wandb/run-20211205_215636-lyslkei0/logs</code><br/>\n"
      ],
      "text/plain": [
       "<IPython.core.display.HTML object>"
      ]
     },
     "metadata": {},
     "output_type": "display_data"
    },
    {
     "data": {
      "text/html": [
       "Successfully finished last run (ID:lyslkei0). Initializing new run:<br/>"
      ],
      "text/plain": [
       "<IPython.core.display.HTML object>"
      ]
     },
     "metadata": {},
     "output_type": "display_data"
    },
    {
     "data": {
      "text/html": [
       "\n",
       "                    Syncing run <strong><a href=\"https://wandb.ai/2djagpal/Lithology-LSTM_search_new/runs/2pydxpam\" target=\"_blank\">major-tree-67</a></strong> to <a href=\"https://wandb.ai/2djagpal/Lithology-LSTM_search_new\" target=\"_blank\">Weights & Biases</a> (<a href=\"https://docs.wandb.com/integrations/jupyter.html\" target=\"_blank\">docs</a>).<br/>\n",
       "\n",
       "                "
      ],
      "text/plain": [
       "<IPython.core.display.HTML object>"
      ]
     },
     "metadata": {},
     "output_type": "display_data"
    },
    {
     "name": "stdout",
     "output_type": "stream",
     "text": [
      "Loading Data ...                                                                   \n",
      "\n",
      "Starting training...                                                               \n",
      "\n",
      "Training:                                                                          \n",
      "Epoch: 1 ... Accuracy: 0.5960169071601268 ... Score: -1.0531336233778439           \n",
      "\n",
      "Validation:                                                                        \n",
      "Epoch: 1 ... Accuracy: 0.5841488575541535 ... Score: -1.0905594973152843           \n",
      "\n",
      "Training:                                                                          \n",
      "Epoch: 2 ... Accuracy: 0.7084881803658234 ... Score: -0.7940583858745334           \n",
      "\n",
      "Validation:                                                                        \n",
      "Epoch: 2 ... Accuracy: 0.6920970683844291 ... Score: -0.8477737363468217           \n",
      "\n",
      "Training:                                                                          \n",
      "Epoch: 3 ... Accuracy: 0.6534128285960821 ... Score: -0.9347386502464737           \n",
      "\n",
      "Validation:                                                                        \n",
      "Epoch: 3 ... Accuracy: 0.6366855614836204 ... Score: -0.982000444248899            \n",
      "\n",
      "Training:                                                                          \n",
      "Epoch: 4 ... Accuracy: 0.7005012772210404 ... Score: -0.8163056328010867           \n",
      "\n",
      "Validation:                                                                        \n",
      "Epoch: 4 ... Accuracy: 0.6794744193795039 ... Score: -0.877980525666053            \n",
      "\n",
      "Training:                                                                          \n",
      "Epoch: 5 ... Accuracy: 0.7085276930568727 ... Score: -0.762321285166295            \n",
      "\n",
      "Validation:                                                                        \n",
      "Epoch: 5 ... Accuracy: 0.6908711122881809 ... Score: -0.8145367637322033           \n",
      "\n",
      "Class F1 Scores                                                                    \n",
      "Training:                                                                          \n",
      "[0.57905922 0.32648267 0.84515485 0.33332059 0.         0.44923388\n",
      " 0.57459251 0.61442259 0.73274336 0.47837947 0.44338876 0.13636364]\n",
      "\n",
      "Validation:                                                                        \n",
      "[0.52388546 0.31462892 0.83453759 0.31445569 0.         0.4318169\n",
      " 0.58129739 0.61211129 0.70093458 0.45560701 0.36908665 0.        ]\n",
      "\n",
      "Training Runtime: 390.13656282424927                                               \n",
      "\n",
      "Model Fitting Complete                                                             \n",
      "Fold 0 Validation Score: 0.4299586404566645                                        \n",
      "--------------------------------                                                   \n",
      "FOLD 1                                                                             \n",
      "--------------------------------                                                   \n",
      "Device is cuda:0.                                                                  \n",
      "\n",
      " 50%|█████     | 25/50 [6:40:17<4:27:05, 641.01s/it, best loss: -0.352691566326805]"
     ]
    },
    {
     "data": {
      "text/html": [
       "Finishing last run (ID:2pydxpam) before initializing another..."
      ],
      "text/plain": [
       "<IPython.core.display.HTML object>"
      ]
     },
     "metadata": {},
     "output_type": "display_data"
    },
    {
     "data": {
      "text/html": [
       "<br/>Waiting for W&B process to finish, PID 164201... <strong style=\"color:green\">(success).</strong>"
      ],
      "text/plain": [
       "<IPython.core.display.HTML object>"
      ]
     },
     "metadata": {},
     "output_type": "display_data"
    },
    {
     "data": {
      "application/vnd.jupyter.widget-view+json": {
       "model_id": "",
       "version_major": 2,
       "version_minor": 0
      },
      "text/plain": [
       "VBox(children=(Label(value=' 0.00MB of 0.00MB uploaded (0.00MB deduped)\\r'), FloatProgress(value=1.0, max=1.0)…"
      ]
     },
     "metadata": {},
     "output_type": "display_data"
    },
    {
     "data": {
      "text/html": [
       "<style>\n",
       "    table.wandb td:nth-child(1) { padding: 0 10px; text-align: right }\n",
       "    .wandb-row { display: flex; flex-direction: row; flex-wrap: wrap; width: 100% }\n",
       "    .wandb-col { display: flex; flex-direction: column; flex-basis: 100%; flex: 1; padding: 10px; }\n",
       "    </style>\n",
       "<div class=\"wandb-row\"><div class=\"wandb-col\">\n",
       "</div><div class=\"wandb-col\">\n",
       "<h3>Run summary:</h3><br/><table class=\"wandb\"><tr><td>train_accuracy</td><td>0.70853</td></tr><tr><td>train_batch_loss</td><td>0.50826</td></tr><tr><td>train_epoch_loss</td><td>1.38076</td></tr><tr><td>train_score</td><td>-0.76232</td></tr><tr><td>valid_accuracy</td><td>0.69087</td></tr><tr><td>valid_epoch_loss</td><td>1.46366</td></tr><tr><td>valid_score</td><td>-0.81454</td></tr></table>\n",
       "</div></div>\n",
       "Synced 6 W&B file(s), 0 media file(s), 0 artifact file(s) and 0 other file(s)\n",
       "<br/>Synced <strong style=\"color:#cdcd00\">major-tree-67</strong>: <a href=\"https://wandb.ai/2djagpal/Lithology-LSTM_search_new/runs/2pydxpam\" target=\"_blank\">https://wandb.ai/2djagpal/Lithology-LSTM_search_new/runs/2pydxpam</a><br/>\n",
       "Find logs at: <code>./wandb/run-20211205_215646-2pydxpam/logs</code><br/>\n"
      ],
      "text/plain": [
       "<IPython.core.display.HTML object>"
      ]
     },
     "metadata": {},
     "output_type": "display_data"
    },
    {
     "data": {
      "text/html": [
       "Successfully finished last run (ID:2pydxpam). Initializing new run:<br/>"
      ],
      "text/plain": [
       "<IPython.core.display.HTML object>"
      ]
     },
     "metadata": {},
     "output_type": "display_data"
    },
    {
     "data": {
      "text/html": [
       "\n",
       "                    Syncing run <strong><a href=\"https://wandb.ai/2djagpal/Lithology-LSTM_search_new/runs/3nsysgxq\" target=\"_blank\">volcanic-planet-68</a></strong> to <a href=\"https://wandb.ai/2djagpal/Lithology-LSTM_search_new\" target=\"_blank\">Weights & Biases</a> (<a href=\"https://docs.wandb.com/integrations/jupyter.html\" target=\"_blank\">docs</a>).<br/>\n",
       "\n",
       "                "
      ],
      "text/plain": [
       "<IPython.core.display.HTML object>"
      ]
     },
     "metadata": {},
     "output_type": "display_data"
    },
    {
     "name": "stdout",
     "output_type": "stream",
     "text": [
      "Loading Data ...                                                                   \n",
      "\n",
      "Starting training...                                                               \n",
      "\n",
      "Training:                                                                          \n",
      "Epoch: 1 ... Accuracy: 0.6521797633299125 ... Score: -0.983609325625875            \n",
      "\n",
      "Validation:                                                                        \n",
      "Epoch: 1 ... Accuracy: 0.6432922401346421 ... Score: -1.015323982708392            \n",
      "\n",
      "Training:                                                                          \n",
      "Epoch: 2 ... Accuracy: 0.7072753465633073 ... Score: -0.775503012038543            \n",
      "\n",
      "Validation:                                                                        \n",
      "Epoch: 2 ... Accuracy: 0.6921555561251078 ... Score: -0.8240889654936737           \n",
      "\n",
      "Training:                                                                          \n",
      "Epoch: 3 ... Accuracy: 0.6794509664046373 ... Score: -0.8433080523574634           \n",
      "\n",
      "Validation:                                                                        \n",
      "Epoch: 3 ... Accuracy: 0.6612117794807392 ... Score: -0.8963566095120931           \n",
      "\n",
      "Training:                                                                          \n",
      "Epoch: 4 ... Accuracy: 0.6694371796939158 ... Score: -0.9274551771715137           \n",
      "\n",
      "Validation:                                                                        \n",
      "Epoch: 4 ... Accuracy: 0.651967945596364 ... Score: -0.9804406839753612            \n",
      "\n",
      "Training:                                                                          \n",
      "Epoch: 5 ... Accuracy: 0.7203145206848717 ... Score: -0.7325878702575477           \n",
      "\n",
      "Validation:                                                                        \n",
      "Epoch: 5 ... Accuracy: 0.7040648947894508 ... Score: -0.7792425951081152           \n",
      "\n",
      "Class F1 Scores                                                                    \n",
      "Training:                                                                          \n",
      "[0.67255079 0.36381734 0.84150076 0.16214236 0.         0.59077091\n",
      " 0.50377791 0.92682234 0.67486819 0.58180238 0.36186966 0.13483146]\n",
      "\n",
      "Validation:                                                                        \n",
      "[0.63530714 0.34240201 0.83267027 0.16761261 0.         0.56544374\n",
      " 0.48950086 0.92042889 0.69647059 0.56650861 0.31042902 0.17391304]\n",
      "\n",
      "Training Runtime: 389.69017338752747                                               \n",
      "\n",
      "Model Fitting Complete                                                             \n",
      "Fold 1 Validation Score: 0.33247401570564405                                       \n",
      "********************************                                                   \n",
      "F1 Score too low ... stopped early.                                                \n",
      "********************************                                                   \n",
      "{'hidden_dim': 250, 'n_layers': 1, 'window_size': 7}                               \n",
      "--------------------------------                                                   \n",
      "FOLD 0                                                                             \n",
      "--------------------------------                                                   \n",
      "Device is cuda:0.                                                                  \n",
      "\n",
      " 52%|█████▏    | 26/50 [6:46:50<4:33:51, 684.65s/it, best loss: -0.352691566326805]"
     ]
    },
    {
     "data": {
      "text/html": [
       "Finishing last run (ID:3nsysgxq) before initializing another..."
      ],
      "text/plain": [
       "<IPython.core.display.HTML object>"
      ]
     },
     "metadata": {},
     "output_type": "display_data"
    },
    {
     "data": {
      "text/html": [
       "<br/>Waiting for W&B process to finish, PID 165948... <strong style=\"color:green\">(success).</strong>"
      ],
      "text/plain": [
       "<IPython.core.display.HTML object>"
      ]
     },
     "metadata": {},
     "output_type": "display_data"
    },
    {
     "data": {
      "application/vnd.jupyter.widget-view+json": {
       "model_id": "",
       "version_major": 2,
       "version_minor": 0
      },
      "text/plain": [
       "VBox(children=(Label(value=' 0.00MB of 0.00MB uploaded (0.00MB deduped)\\r'), FloatProgress(value=1.0, max=1.0)…"
      ]
     },
     "metadata": {},
     "output_type": "display_data"
    },
    {
     "data": {
      "text/html": [
       "<style>\n",
       "    table.wandb td:nth-child(1) { padding: 0 10px; text-align: right }\n",
       "    .wandb-row { display: flex; flex-direction: row; flex-wrap: wrap; width: 100% }\n",
       "    .wandb-col { display: flex; flex-direction: column; flex-basis: 100%; flex: 1; padding: 10px; }\n",
       "    </style>\n",
       "<div class=\"wandb-row\"><div class=\"wandb-col\">\n",
       "</div><div class=\"wandb-col\">\n",
       "<h3>Run summary:</h3><br/><table class=\"wandb\"><tr><td>train_accuracy</td><td>0.72031</td></tr><tr><td>train_batch_loss</td><td>1.25655</td></tr><tr><td>train_epoch_loss</td><td>1.35464</td></tr><tr><td>train_score</td><td>-0.73259</td></tr><tr><td>valid_accuracy</td><td>0.70406</td></tr><tr><td>valid_epoch_loss</td><td>1.44582</td></tr><tr><td>valid_score</td><td>-0.77924</td></tr></table>\n",
       "</div></div>\n",
       "Synced 6 W&B file(s), 0 media file(s), 0 artifact file(s) and 0 other file(s)\n",
       "<br/>Synced <strong style=\"color:#cdcd00\">volcanic-planet-68</strong>: <a href=\"https://wandb.ai/2djagpal/Lithology-LSTM_search_new/runs/3nsysgxq\" target=\"_blank\">https://wandb.ai/2djagpal/Lithology-LSTM_search_new/runs/3nsysgxq</a><br/>\n",
       "Find logs at: <code>./wandb/run-20211205_220320-3nsysgxq/logs</code><br/>\n"
      ],
      "text/plain": [
       "<IPython.core.display.HTML object>"
      ]
     },
     "metadata": {},
     "output_type": "display_data"
    },
    {
     "data": {
      "text/html": [
       "Successfully finished last run (ID:3nsysgxq). Initializing new run:<br/>"
      ],
      "text/plain": [
       "<IPython.core.display.HTML object>"
      ]
     },
     "metadata": {},
     "output_type": "display_data"
    },
    {
     "data": {
      "text/html": [
       "\n",
       "                    Syncing run <strong><a href=\"https://wandb.ai/2djagpal/Lithology-LSTM_search_new/runs/keyiedo8\" target=\"_blank\">rosy-waterfall-69</a></strong> to <a href=\"https://wandb.ai/2djagpal/Lithology-LSTM_search_new\" target=\"_blank\">Weights & Biases</a> (<a href=\"https://docs.wandb.com/integrations/jupyter.html\" target=\"_blank\">docs</a>).<br/>\n",
       "\n",
       "                "
      ],
      "text/plain": [
       "<IPython.core.display.HTML object>"
      ]
     },
     "metadata": {},
     "output_type": "display_data"
    },
    {
     "name": "stdout",
     "output_type": "stream",
     "text": [
      "Loading Data ...                                                                   \n",
      "\n",
      "Starting training...                                                               \n",
      "\n",
      "Training:                                                                          \n",
      "Epoch: 1 ... Accuracy: 0.6568632476441892 ... Score: -0.9797064954592443           \n",
      "\n",
      "Validation:                                                                        \n",
      "Epoch: 1 ... Accuracy: 0.6453056987736168 ... Score: -1.0202645843923401           \n",
      "\n",
      "Training:                                                                          \n",
      "Epoch: 2 ... Accuracy: 0.6582686179528582 ... Score: -0.9632961807246414           \n",
      "\n",
      "Validation:                                                                        \n",
      "Epoch: 2 ... Accuracy: 0.6409144692720725 ... Score: -1.0169188348718299           \n",
      "\n",
      "Training:                                                                          \n",
      "Epoch: 3 ... Accuracy: 0.6605603540337118 ... Score: -0.9532076295802684           \n",
      "\n",
      "Validation:                                                                        \n",
      "Epoch: 3 ... Accuracy: 0.6476550919894235 ... Score: -0.9967177908869173           \n",
      "\n",
      "Training:                                                                          \n",
      "Epoch: 4 ... Accuracy: 0.6646226858377972 ... Score: -0.9631817808049483           \n",
      "\n",
      "Validation:                                                                        \n",
      "Epoch: 4 ... Accuracy: 0.6488084304771832 ... Score: -1.0180540189574674           \n",
      "\n",
      "Training:                                                                          \n",
      "Epoch: 5 ... Accuracy: 0.7283619960530026 ... Score: -0.7134711845691194           \n",
      "\n",
      "Validation:                                                                        \n",
      "Epoch: 5 ... Accuracy: 0.7130365693733101 ... Score: -0.7611564140570604           \n",
      "\n",
      "Class F1 Scores                                                                    \n",
      "Training:                                                                          \n",
      "[0.60907363 0.27156323 0.8598697  0.31082188 0.         0.54772116\n",
      " 0.55840262 0.95083168 0.6116208  0.54890347 0.49431653 0.15555556]\n",
      "\n",
      "Validation:                                                                        \n",
      "[0.56250495 0.25874768 0.85002921 0.31045296 0.         0.53157348\n",
      " 0.57426836 0.94958968 0.64634146 0.54384384 0.39852851 0.09090909]\n",
      "\n",
      "Training Runtime: 388.67422127723694                                               \n",
      "\n",
      "Model Fitting Complete                                                             \n",
      "Fold 0 Validation Score: 0.3487786738253436                                        \n",
      "********************************                                                   \n",
      "F1 Score too low ... stopped early.                                                \n",
      "********************************                                                   \n",
      "{'hidden_dim': 78, 'n_layers': 1, 'window_size': 6}                                \n",
      "--------------------------------                                                   \n",
      "FOLD 0                                                                             \n",
      "--------------------------------                                                   \n",
      "Device is cuda:0.                                                                  \n",
      "\n",
      " 54%|█████▍    | 27/50 [6:53:22<3:48:47, 596.86s/it, best loss: -0.352691566326805]"
     ]
    },
    {
     "data": {
      "text/html": [
       "Finishing last run (ID:keyiedo8) before initializing another..."
      ],
      "text/plain": [
       "<IPython.core.display.HTML object>"
      ]
     },
     "metadata": {},
     "output_type": "display_data"
    },
    {
     "data": {
      "text/html": [
       "<br/>Waiting for W&B process to finish, PID 167655... <strong style=\"color:green\">(success).</strong>"
      ],
      "text/plain": [
       "<IPython.core.display.HTML object>"
      ]
     },
     "metadata": {},
     "output_type": "display_data"
    },
    {
     "data": {
      "application/vnd.jupyter.widget-view+json": {
       "model_id": "",
       "version_major": 2,
       "version_minor": 0
      },
      "text/plain": [
       "VBox(children=(Label(value=' 0.00MB of 0.00MB uploaded (0.00MB deduped)\\r'), FloatProgress(value=1.0, max=1.0)…"
      ]
     },
     "metadata": {},
     "output_type": "display_data"
    },
    {
     "data": {
      "text/html": [
       "<style>\n",
       "    table.wandb td:nth-child(1) { padding: 0 10px; text-align: right }\n",
       "    .wandb-row { display: flex; flex-direction: row; flex-wrap: wrap; width: 100% }\n",
       "    .wandb-col { display: flex; flex-direction: column; flex-basis: 100%; flex: 1; padding: 10px; }\n",
       "    </style>\n",
       "<div class=\"wandb-row\"><div class=\"wandb-col\">\n",
       "</div><div class=\"wandb-col\">\n",
       "<h3>Run summary:</h3><br/><table class=\"wandb\"><tr><td>train_accuracy</td><td>0.72836</td></tr><tr><td>train_batch_loss</td><td>3.15601</td></tr><tr><td>train_epoch_loss</td><td>1.35644</td></tr><tr><td>train_score</td><td>-0.71347</td></tr><tr><td>valid_accuracy</td><td>0.71304</td></tr><tr><td>valid_epoch_loss</td><td>1.44142</td></tr><tr><td>valid_score</td><td>-0.76116</td></tr></table>\n",
       "</div></div>\n",
       "Synced 6 W&B file(s), 0 media file(s), 0 artifact file(s) and 0 other file(s)\n",
       "<br/>Synced <strong style=\"color:#cdcd00\">rosy-waterfall-69</strong>: <a href=\"https://wandb.ai/2djagpal/Lithology-LSTM_search_new/runs/keyiedo8\" target=\"_blank\">https://wandb.ai/2djagpal/Lithology-LSTM_search_new/runs/keyiedo8</a><br/>\n",
       "Find logs at: <code>./wandb/run-20211205_220953-keyiedo8/logs</code><br/>\n"
      ],
      "text/plain": [
       "<IPython.core.display.HTML object>"
      ]
     },
     "metadata": {},
     "output_type": "display_data"
    },
    {
     "data": {
      "text/html": [
       "Successfully finished last run (ID:keyiedo8). Initializing new run:<br/>"
      ],
      "text/plain": [
       "<IPython.core.display.HTML object>"
      ]
     },
     "metadata": {},
     "output_type": "display_data"
    },
    {
     "data": {
      "text/html": [
       "\n",
       "                    Syncing run <strong><a href=\"https://wandb.ai/2djagpal/Lithology-LSTM_search_new/runs/2b6h8cu1\" target=\"_blank\">twilight-star-70</a></strong> to <a href=\"https://wandb.ai/2djagpal/Lithology-LSTM_search_new\" target=\"_blank\">Weights & Biases</a> (<a href=\"https://docs.wandb.com/integrations/jupyter.html\" target=\"_blank\">docs</a>).<br/>\n",
       "\n",
       "                "
      ],
      "text/plain": [
       "<IPython.core.display.HTML object>"
      ]
     },
     "metadata": {},
     "output_type": "display_data"
    },
    {
     "name": "stdout",
     "output_type": "stream",
     "text": [
      "Loading Data ...                                                                   \n",
      "\n",
      "Starting training...                                                               \n",
      "\n",
      "Training:                                                                          \n",
      "Epoch: 1 ... Accuracy: 0.6529183860026826 ... Score: -0.9510547218733715           \n",
      "\n",
      "Validation:                                                                        \n",
      "Epoch: 1 ... Accuracy: 0.6474884986523026 ... Score: -0.9708717957480254           \n",
      "\n",
      "Training:                                                                          \n",
      "Epoch: 2 ... Accuracy: 0.6922303098649307 ... Score: -0.8514934195350744           \n",
      "\n",
      "Validation:                                                                        \n",
      "Epoch: 2 ... Accuracy: 0.6768687287219728 ... Score: -0.8991837994387086           \n",
      "\n",
      "Training:                                                                          \n",
      "Epoch: 3 ... Accuracy: 0.7070817421465857 ... Score: -0.7814119219400091           \n",
      "\n",
      "Validation:                                                                        \n",
      "Epoch: 3 ... Accuracy: 0.6903158011644447 ... Score: -0.8319489711793526           \n",
      "\n",
      "Training:                                                                          \n",
      "Epoch: 4 ... Accuracy: 0.5796426344072242 ... Score: -1.056909888638286            \n",
      "\n",
      "Validation:                                                                        \n",
      "Epoch: 4 ... Accuracy: 0.5630897510924678 ... Score: -1.10065548070721             \n",
      "\n",
      "Training:                                                                          \n",
      "Epoch: 5 ... Accuracy: 0.664739088089807 ... Score: -0.8765192362730776            \n",
      "\n",
      "Validation:                                                                        \n",
      "Epoch: 5 ... Accuracy: 0.6481591436248147 ... Score: -0.9240905712442814           \n",
      "\n",
      "Class F1 Scores                                                                    \n",
      "Training:                                                                          \n",
      "[0.63817508 0.36257455 0.79422825 0.26713252 0.         0.500502\n",
      " 0.62804682 0.91925111 0.51054852 0.41011599 0.45963402 0.11494253]\n",
      "\n",
      "Validation:                                                                        \n",
      "[0.59660933 0.3507163  0.78415135 0.26076507 0.         0.48033396\n",
      " 0.63261381 0.92553495 0.56047198 0.39310467 0.27460317 0.        ]\n",
      "\n",
      "Training Runtime: 381.5337779521942                                                \n",
      "\n",
      "Model Fitting Complete                                                             \n",
      "Fold 0 Validation Score: 0.2945715028125339                                        \n",
      "********************************                                                   \n",
      "F1 Score too low ... stopped early.                                                \n",
      "********************************                                                   \n",
      "{'hidden_dim': 313, 'n_layers': 1, 'window_size': 3}                               \n",
      "--------------------------------                                                   \n",
      "FOLD 0                                                                             \n",
      "--------------------------------                                                   \n",
      "Device is cuda:0.                                                                  \n",
      "\n",
      " 56%|█████▌    | 28/50 [6:59:47<3:15:31, 533.26s/it, best loss: -0.352691566326805]"
     ]
    },
    {
     "data": {
      "text/html": [
       "Finishing last run (ID:2b6h8cu1) before initializing another..."
      ],
      "text/plain": [
       "<IPython.core.display.HTML object>"
      ]
     },
     "metadata": {},
     "output_type": "display_data"
    },
    {
     "data": {
      "text/html": [
       "<br/>Waiting for W&B process to finish, PID 169439... <strong style=\"color:green\">(success).</strong>"
      ],
      "text/plain": [
       "<IPython.core.display.HTML object>"
      ]
     },
     "metadata": {},
     "output_type": "display_data"
    },
    {
     "data": {
      "application/vnd.jupyter.widget-view+json": {
       "model_id": "",
       "version_major": 2,
       "version_minor": 0
      },
      "text/plain": [
       "VBox(children=(Label(value=' 0.00MB of 0.00MB uploaded (0.00MB deduped)\\r'), FloatProgress(value=1.0, max=1.0)…"
      ]
     },
     "metadata": {},
     "output_type": "display_data"
    },
    {
     "data": {
      "text/html": [
       "<style>\n",
       "    table.wandb td:nth-child(1) { padding: 0 10px; text-align: right }\n",
       "    .wandb-row { display: flex; flex-direction: row; flex-wrap: wrap; width: 100% }\n",
       "    .wandb-col { display: flex; flex-direction: column; flex-basis: 100%; flex: 1; padding: 10px; }\n",
       "    </style>\n",
       "<div class=\"wandb-row\"><div class=\"wandb-col\">\n",
       "</div><div class=\"wandb-col\">\n",
       "<h3>Run summary:</h3><br/><table class=\"wandb\"><tr><td>train_accuracy</td><td>0.66474</td></tr><tr><td>train_batch_loss</td><td>1.06105</td></tr><tr><td>train_epoch_loss</td><td>1.44401</td></tr><tr><td>train_score</td><td>-0.87652</td></tr><tr><td>valid_accuracy</td><td>0.64816</td></tr><tr><td>valid_epoch_loss</td><td>1.52705</td></tr><tr><td>valid_score</td><td>-0.92409</td></tr></table>\n",
       "</div></div>\n",
       "Synced 6 W&B file(s), 0 media file(s), 0 artifact file(s) and 0 other file(s)\n",
       "<br/>Synced <strong style=\"color:#cdcd00\">twilight-star-70</strong>: <a href=\"https://wandb.ai/2djagpal/Lithology-LSTM_search_new/runs/2b6h8cu1\" target=\"_blank\">https://wandb.ai/2djagpal/Lithology-LSTM_search_new/runs/2b6h8cu1</a><br/>\n",
       "Find logs at: <code>./wandb/run-20211205_221625-2b6h8cu1/logs</code><br/>\n"
      ],
      "text/plain": [
       "<IPython.core.display.HTML object>"
      ]
     },
     "metadata": {},
     "output_type": "display_data"
    },
    {
     "data": {
      "text/html": [
       "Successfully finished last run (ID:2b6h8cu1). Initializing new run:<br/>"
      ],
      "text/plain": [
       "<IPython.core.display.HTML object>"
      ]
     },
     "metadata": {},
     "output_type": "display_data"
    },
    {
     "data": {
      "text/html": [
       "\n",
       "                    Syncing run <strong><a href=\"https://wandb.ai/2djagpal/Lithology-LSTM_search_new/runs/28yajy3t\" target=\"_blank\">golden-hill-71</a></strong> to <a href=\"https://wandb.ai/2djagpal/Lithology-LSTM_search_new\" target=\"_blank\">Weights & Biases</a> (<a href=\"https://docs.wandb.com/integrations/jupyter.html\" target=\"_blank\">docs</a>).<br/>\n",
       "\n",
       "                "
      ],
      "text/plain": [
       "<IPython.core.display.HTML object>"
      ]
     },
     "metadata": {},
     "output_type": "display_data"
    },
    {
     "name": "stdout",
     "output_type": "stream",
     "text": [
      "Loading Data ...                                                                   \n",
      "\n",
      "Starting training...                                                               \n",
      "\n",
      "Training:                                                                          \n",
      "Epoch: 1 ... Accuracy: 0.26734713928116804 ... Score: -1.7844378465369797          \n",
      "\n",
      "Validation:                                                                        \n",
      "Epoch: 1 ... Accuracy: 0.2622392707483458 ... Score: -1.7973397393455017           \n",
      "\n",
      "Training:                                                                          \n",
      "Epoch: 2 ... Accuracy: 0.6984519568393265 ... Score: -0.819394430632801            \n",
      "\n",
      "Validation:                                                                        \n",
      "Epoch: 2 ... Accuracy: 0.6860356338876478 ... Score: -0.8603184282132224           \n",
      "\n",
      "Training:                                                                          \n",
      "Epoch: 3 ... Accuracy: 0.6991920188635723 ... Score: -0.7929111829458954           \n",
      "\n",
      "Validation:                                                                        \n",
      "Epoch: 3 ... Accuracy: 0.6850446171129801 ... Score: -0.8368533295173493           \n",
      "\n",
      "Training:                                                                          \n",
      "Epoch: 4 ... Accuracy: 0.733421756328438 ... Score: -0.7135826477347481            \n",
      "\n",
      "Validation:                                                                        \n",
      "Epoch: 4 ... Accuracy: 0.7197216609782874 ... Score: -0.7574561197421648           \n",
      "\n",
      "Training:                                                                          \n",
      "Epoch: 5 ... Accuracy: 0.6453073873781514 ... Score: -0.8841486563549222           \n",
      "\n",
      "Validation:                                                                        \n",
      "Epoch: 5 ... Accuracy: 0.6285694758290155 ... Score: -0.9309278394552825           \n",
      "\n",
      "Class F1 Scores                                                                    \n",
      "Training:                                                                          \n",
      "[0.61649203 0.36419292 0.79404485 0.27364309 0.         0.51093411\n",
      " 0.40074836 0.95496709 0.61115032 0.45368727 0.45557423 0.15555556]\n",
      "\n",
      "Validation:                                                                        \n",
      "[0.58229988 0.35032765 0.78286072 0.25895725 0.         0.48179837\n",
      " 0.39416604 0.95289207 0.67391304 0.44996793 0.35395034 0.09090909]\n",
      "\n",
      "Training Runtime: 387.34703373908997                                               \n",
      "\n",
      "Model Fitting Complete                                                             \n",
      "Fold 0 Validation Score: 0.320062611747826                                         \n",
      "********************************                                                   \n",
      "F1 Score too low ... stopped early.                                                \n",
      "********************************                                                   \n",
      "{'hidden_dim': 474, 'n_layers': 1, 'window_size': 7}                               \n",
      "--------------------------------                                                   \n",
      "FOLD 0                                                                             \n",
      "--------------------------------                                                   \n",
      "Device is cuda:0.                                                                  \n",
      "\n",
      " 58%|█████▊    | 29/50 [7:06:17<2:51:40, 490.49s/it, best loss: -0.352691566326805]"
     ]
    },
    {
     "data": {
      "text/html": [
       "Finishing last run (ID:28yajy3t) before initializing another..."
      ],
      "text/plain": [
       "<IPython.core.display.HTML object>"
      ]
     },
     "metadata": {},
     "output_type": "display_data"
    },
    {
     "data": {
      "text/html": [
       "<br/>Waiting for W&B process to finish, PID 171189... <strong style=\"color:green\">(success).</strong>"
      ],
      "text/plain": [
       "<IPython.core.display.HTML object>"
      ]
     },
     "metadata": {},
     "output_type": "display_data"
    },
    {
     "data": {
      "application/vnd.jupyter.widget-view+json": {
       "model_id": "",
       "version_major": 2,
       "version_minor": 0
      },
      "text/plain": [
       "VBox(children=(Label(value=' 0.00MB of 0.00MB uploaded (0.00MB deduped)\\r'), FloatProgress(value=1.0, max=1.0)…"
      ]
     },
     "metadata": {},
     "output_type": "display_data"
    },
    {
     "data": {
      "text/html": [
       "<style>\n",
       "    table.wandb td:nth-child(1) { padding: 0 10px; text-align: right }\n",
       "    .wandb-row { display: flex; flex-direction: row; flex-wrap: wrap; width: 100% }\n",
       "    .wandb-col { display: flex; flex-direction: column; flex-basis: 100%; flex: 1; padding: 10px; }\n",
       "    </style>\n",
       "<div class=\"wandb-row\"><div class=\"wandb-col\">\n",
       "</div><div class=\"wandb-col\">\n",
       "<h3>Run summary:</h3><br/><table class=\"wandb\"><tr><td>train_accuracy</td><td>0.64531</td></tr><tr><td>train_batch_loss</td><td>0.99002</td></tr><tr><td>train_epoch_loss</td><td>1.35858</td></tr><tr><td>train_score</td><td>-0.88415</td></tr><tr><td>valid_accuracy</td><td>0.62857</td></tr><tr><td>valid_epoch_loss</td><td>1.43787</td></tr><tr><td>valid_score</td><td>-0.93093</td></tr></table>\n",
       "</div></div>\n",
       "Synced 6 W&B file(s), 0 media file(s), 0 artifact file(s) and 0 other file(s)\n",
       "<br/>Synced <strong style=\"color:#cdcd00\">golden-hill-71</strong>: <a href=\"https://wandb.ai/2djagpal/Lithology-LSTM_search_new/runs/28yajy3t\" target=\"_blank\">https://wandb.ai/2djagpal/Lithology-LSTM_search_new/runs/28yajy3t</a><br/>\n",
       "Find logs at: <code>./wandb/run-20211205_222250-28yajy3t/logs</code><br/>\n"
      ],
      "text/plain": [
       "<IPython.core.display.HTML object>"
      ]
     },
     "metadata": {},
     "output_type": "display_data"
    },
    {
     "data": {
      "text/html": [
       "Successfully finished last run (ID:28yajy3t). Initializing new run:<br/>"
      ],
      "text/plain": [
       "<IPython.core.display.HTML object>"
      ]
     },
     "metadata": {},
     "output_type": "display_data"
    },
    {
     "data": {
      "text/html": [
       "\n",
       "                    Syncing run <strong><a href=\"https://wandb.ai/2djagpal/Lithology-LSTM_search_new/runs/1or2wsrq\" target=\"_blank\">flowing-haze-72</a></strong> to <a href=\"https://wandb.ai/2djagpal/Lithology-LSTM_search_new\" target=\"_blank\">Weights & Biases</a> (<a href=\"https://docs.wandb.com/integrations/jupyter.html\" target=\"_blank\">docs</a>).<br/>\n",
       "\n",
       "                "
      ],
      "text/plain": [
       "<IPython.core.display.HTML object>"
      ]
     },
     "metadata": {},
     "output_type": "display_data"
    },
    {
     "name": "stdout",
     "output_type": "stream",
     "text": [
      "Loading Data ...                                                                   \n",
      "\n",
      "Starting training...                                                               \n",
      "\n",
      "Training:                                                                          \n",
      "Epoch: 1 ... Accuracy: 0.6132657986689563 ... Score: -1.1153974816532963           \n",
      "\n",
      "Validation:                                                                        \n",
      "Epoch: 1 ... Accuracy: 0.600504905960197 ... Score: -1.1581675587241513            \n",
      "\n",
      "Training:                                                                          \n",
      "Epoch: 2 ... Accuracy: 0.6401141382816038 ... Score: -1.0170693490444336           \n",
      "\n",
      "Validation:                                                                        \n",
      "Epoch: 2 ... Accuracy: 0.6217348773830322 ... Score: -1.0710520582820382           \n",
      "\n",
      "Training:                                                                          \n",
      "Epoch: 3 ... Accuracy: 0.39776464959718416 ... Score: -1.4828967447950039          \n",
      "\n",
      "Validation:                                                                        \n",
      "Epoch: 3 ... Accuracy: 0.3818703732972239 ... Score: -1.5249361392207703           \n",
      "\n",
      "Training:                                                                          \n",
      "Epoch: 4 ... Accuracy: 0.6689744214060538 ... Score: -0.8504714291206397           \n",
      "\n",
      "Validation:                                                                        \n",
      "Epoch: 4 ... Accuracy: 0.6555063369542466 ... Score: -0.8917655903597989           \n",
      "\n",
      "Training:                                                                          \n",
      "Epoch: 5 ... Accuracy: 0.7067891346507078 ... Score: -0.780045663855926            \n",
      "\n",
      "Validation:                                                                        \n",
      "Epoch: 5 ... Accuracy: 0.6905550121100541 ... Score: -0.8261101950850694           \n",
      "\n",
      "Class F1 Scores                                                                    \n",
      "Training:                                                                          \n",
      "[0.62007057 0.32399534 0.83520362 0.20337578 0.         0.58778245\n",
      " 0.1784219  0.63403032 0.70855148 0.44291343 0.33271    0.15555556]\n",
      "\n",
      "Validation:                                                                        \n",
      "[0.57444985 0.30331096 0.82719068 0.19821958 0.         0.56591125\n",
      " 0.17462366 0.62243286 0.66515837 0.4216603  0.29826167 0.09090909]\n",
      "\n",
      "Training Runtime: 402.49957036972046                                               \n",
      "\n",
      "Model Fitting Complete                                                             \n",
      "Fold 0 Validation Score: 0.35015219498174577                                       \n",
      "********************************                                                   \n",
      "F1 Score too low ... stopped early.                                                \n",
      "********************************                                                   \n",
      "{'hidden_dim': 160, 'n_layers': 3, 'window_size': 0}                               \n",
      "--------------------------------                                                   \n",
      "FOLD 0                                                                             \n",
      "--------------------------------                                                   \n",
      "Device is cuda:0.                                                                  \n",
      "\n",
      " 60%|██████    | 30/50 [7:13:03<2:35:02, 465.13s/it, best loss: -0.352691566326805]"
     ]
    },
    {
     "data": {
      "text/html": [
       "Finishing last run (ID:1or2wsrq) before initializing another..."
      ],
      "text/plain": [
       "<IPython.core.display.HTML object>"
      ]
     },
     "metadata": {},
     "output_type": "display_data"
    },
    {
     "data": {
      "text/html": [
       "<br/>Waiting for W&B process to finish, PID 172950... <strong style=\"color:green\">(success).</strong>"
      ],
      "text/plain": [
       "<IPython.core.display.HTML object>"
      ]
     },
     "metadata": {},
     "output_type": "display_data"
    },
    {
     "data": {
      "application/vnd.jupyter.widget-view+json": {
       "model_id": "",
       "version_major": 2,
       "version_minor": 0
      },
      "text/plain": [
       "VBox(children=(Label(value=' 0.00MB of 0.00MB uploaded (0.00MB deduped)\\r'), FloatProgress(value=1.0, max=1.0)…"
      ]
     },
     "metadata": {},
     "output_type": "display_data"
    },
    {
     "data": {
      "text/html": [
       "<style>\n",
       "    table.wandb td:nth-child(1) { padding: 0 10px; text-align: right }\n",
       "    .wandb-row { display: flex; flex-direction: row; flex-wrap: wrap; width: 100% }\n",
       "    .wandb-col { display: flex; flex-direction: column; flex-basis: 100%; flex: 1; padding: 10px; }\n",
       "    </style>\n",
       "<div class=\"wandb-row\"><div class=\"wandb-col\">\n",
       "</div><div class=\"wandb-col\">\n",
       "<h3>Run summary:</h3><br/><table class=\"wandb\"><tr><td>train_accuracy</td><td>0.70679</td></tr><tr><td>train_batch_loss</td><td>1.10342</td></tr><tr><td>train_epoch_loss</td><td>1.35591</td></tr><tr><td>train_score</td><td>-0.78005</td></tr><tr><td>valid_accuracy</td><td>0.69056</td></tr><tr><td>valid_epoch_loss</td><td>1.41677</td></tr><tr><td>valid_score</td><td>-0.82611</td></tr></table>\n",
       "</div></div>\n",
       "Synced 6 W&B file(s), 0 media file(s), 0 artifact file(s) and 0 other file(s)\n",
       "<br/>Synced <strong style=\"color:#cdcd00\">flowing-haze-72</strong>: <a href=\"https://wandb.ai/2djagpal/Lithology-LSTM_search_new/runs/1or2wsrq\" target=\"_blank\">https://wandb.ai/2djagpal/Lithology-LSTM_search_new/runs/1or2wsrq</a><br/>\n",
       "Find logs at: <code>./wandb/run-20211205_222920-1or2wsrq/logs</code><br/>\n"
      ],
      "text/plain": [
       "<IPython.core.display.HTML object>"
      ]
     },
     "metadata": {},
     "output_type": "display_data"
    },
    {
     "data": {
      "text/html": [
       "Successfully finished last run (ID:1or2wsrq). Initializing new run:<br/>"
      ],
      "text/plain": [
       "<IPython.core.display.HTML object>"
      ]
     },
     "metadata": {},
     "output_type": "display_data"
    },
    {
     "data": {
      "text/html": [
       "\n",
       "                    Syncing run <strong><a href=\"https://wandb.ai/2djagpal/Lithology-LSTM_search_new/runs/hjm7q25n\" target=\"_blank\">sandy-oath-73</a></strong> to <a href=\"https://wandb.ai/2djagpal/Lithology-LSTM_search_new\" target=\"_blank\">Weights & Biases</a> (<a href=\"https://docs.wandb.com/integrations/jupyter.html\" target=\"_blank\">docs</a>).<br/>\n",
       "\n",
       "                "
      ],
      "text/plain": [
       "<IPython.core.display.HTML object>"
      ]
     },
     "metadata": {},
     "output_type": "display_data"
    },
    {
     "name": "stdout",
     "output_type": "stream",
     "text": [
      "Loading Data ...                                                                   \n",
      "\n",
      "Starting training...                                                               \n",
      "\n",
      "{'hidden_dim': 467, 'n_layers': 1, 'window_size': 9}                               \n",
      "--------------------------------                                                   \n",
      "FOLD 0                                                                             \n",
      "--------------------------------                                                   \n",
      "Device is cuda:0.                                                                  \n",
      "\n",
      " 62%|██████▏   | 31/50 [7:13:14<1:44:06, 328.75s/it, best loss: -0.352691566326805]"
     ]
    },
    {
     "data": {
      "text/html": [
       "Finishing last run (ID:hjm7q25n) before initializing another..."
      ],
      "text/plain": [
       "<IPython.core.display.HTML object>"
      ]
     },
     "metadata": {},
     "output_type": "display_data"
    },
    {
     "data": {
      "text/html": [
       "<br/>Waiting for W&B process to finish, PID 174784... <strong style=\"color:green\">(success).</strong>"
      ],
      "text/plain": [
       "<IPython.core.display.HTML object>"
      ]
     },
     "metadata": {},
     "output_type": "display_data"
    },
    {
     "data": {
      "application/vnd.jupyter.widget-view+json": {
       "model_id": "",
       "version_major": 2,
       "version_minor": 0
      },
      "text/plain": [
       "VBox(children=(Label(value=' 0.00MB of 0.00MB uploaded (0.00MB deduped)\\r'), FloatProgress(value=1.0, max=1.0)…"
      ]
     },
     "metadata": {},
     "output_type": "display_data"
    },
    {
     "data": {
      "text/html": [
       "<style>\n",
       "    table.wandb td:nth-child(1) { padding: 0 10px; text-align: right }\n",
       "    .wandb-row { display: flex; flex-direction: row; flex-wrap: wrap; width: 100% }\n",
       "    .wandb-col { display: flex; flex-direction: column; flex-basis: 100%; flex: 1; padding: 10px; }\n",
       "    </style>\n",
       "<div class=\"wandb-row\"><div class=\"wandb-col\">\n",
       "</div><div class=\"wandb-col\">\n",
       "</div></div>\n",
       "Synced 6 W&B file(s), 0 media file(s), 0 artifact file(s) and 0 other file(s)\n",
       "<br/>Synced <strong style=\"color:#cdcd00\">sandy-oath-73</strong>: <a href=\"https://wandb.ai/2djagpal/Lithology-LSTM_search_new/runs/hjm7q25n\" target=\"_blank\">https://wandb.ai/2djagpal/Lithology-LSTM_search_new/runs/hjm7q25n</a><br/>\n",
       "Find logs at: <code>./wandb/run-20211205_223606-hjm7q25n/logs</code><br/>\n"
      ],
      "text/plain": [
       "<IPython.core.display.HTML object>"
      ]
     },
     "metadata": {},
     "output_type": "display_data"
    },
    {
     "data": {
      "text/html": [
       "Successfully finished last run (ID:hjm7q25n). Initializing new run:<br/>"
      ],
      "text/plain": [
       "<IPython.core.display.HTML object>"
      ]
     },
     "metadata": {},
     "output_type": "display_data"
    },
    {
     "data": {
      "text/html": [
       "\n",
       "                    Syncing run <strong><a href=\"https://wandb.ai/2djagpal/Lithology-LSTM_search_new/runs/1u6z6fro\" target=\"_blank\">misunderstood-pine-74</a></strong> to <a href=\"https://wandb.ai/2djagpal/Lithology-LSTM_search_new\" target=\"_blank\">Weights & Biases</a> (<a href=\"https://docs.wandb.com/integrations/jupyter.html\" target=\"_blank\">docs</a>).<br/>\n",
       "\n",
       "                "
      ],
      "text/plain": [
       "<IPython.core.display.HTML object>"
      ]
     },
     "metadata": {},
     "output_type": "display_data"
    },
    {
     "name": "stdout",
     "output_type": "stream",
     "text": [
      "Loading Data ...                                                                   \n",
      "\n",
      "Starting training...                                                               \n",
      "\n",
      "Training:                                                                          \n",
      "Epoch: 1 ... Accuracy: 0.6288818549179418 ... Score: -0.9561471869099795           \n",
      "\n",
      "Validation:                                                                        \n",
      "Epoch: 1 ... Accuracy: 0.6162415688820733 ... Score: -0.9938467255866008           \n",
      "\n",
      "Training:                                                                          \n",
      "Epoch: 2 ... Accuracy: 0.6775849843230729 ... Score: -0.8686938546018402           \n",
      "\n",
      "Validation:                                                                        \n",
      "Epoch: 2 ... Accuracy: 0.6630970128533167 ... Score: -0.9082465837686831           \n",
      "\n",
      "Training:                                                                          \n",
      "Epoch: 3 ... Accuracy: 0.6880163347600619 ... Score: -0.8687357700916695           \n",
      "\n",
      "Validation:                                                                        \n",
      "Epoch: 3 ... Accuracy: 0.6748781519245802 ... Score: -0.9117290252581128           \n",
      "\n",
      "Training:                                                                          \n",
      "Epoch: 4 ... Accuracy: 0.6614755533912569 ... Score: -0.8850344881718225           \n",
      "\n",
      "Validation:                                                                        \n",
      "Epoch: 4 ... Accuracy: 0.6451775500527546 ... Score: -0.933925985570454            \n",
      "\n",
      "Training:                                                                          \n",
      "Epoch: 5 ... Accuracy: 0.7087476826340655 ... Score: -0.7667093296938942           \n",
      "\n",
      "Validation:                                                                        \n",
      "Epoch: 5 ... Accuracy: 0.6943994737359197 ... Score: -0.8093584875033639           \n",
      "\n",
      "Class F1 Scores                                                                    \n",
      "Training:                                                                          \n",
      "[0.58179137 0.39793994 0.84797102 0.27412803 0.00431344 0.52212785\n",
      " 0.5822702  0.96996348 0.6557377  0.49343479 0.22931633 0.15555556]\n",
      "\n",
      "Validation:                                                                        \n",
      "[0.54513748 0.38752369 0.83921146 0.27388823 0.0058651  0.49168572\n",
      " 0.57803973 0.96278654 0.66276803 0.48023214 0.21001676 0.09090909]\n",
      "\n",
      "Training Runtime: 407.81959319114685                                               \n",
      "\n",
      "Model Fitting Complete                                                             \n",
      "Fold 0 Validation Score: 0.40370294272987783                                       \n",
      "--------------------------------                                                   \n",
      "FOLD 1                                                                             \n",
      "--------------------------------                                                   \n",
      "Device is cuda:0.                                                                  \n",
      "\n",
      " 62%|██████▏   | 31/50 [7:20:05<1:44:06, 328.75s/it, best loss: -0.352691566326805]"
     ]
    },
    {
     "data": {
      "text/html": [
       "Finishing last run (ID:1u6z6fro) before initializing another..."
      ],
      "text/plain": [
       "<IPython.core.display.HTML object>"
      ]
     },
     "metadata": {},
     "output_type": "display_data"
    },
    {
     "data": {
      "text/html": [
       "<br/>Waiting for W&B process to finish, PID 174904... <strong style=\"color:green\">(success).</strong>"
      ],
      "text/plain": [
       "<IPython.core.display.HTML object>"
      ]
     },
     "metadata": {},
     "output_type": "display_data"
    },
    {
     "data": {
      "application/vnd.jupyter.widget-view+json": {
       "model_id": "",
       "version_major": 2,
       "version_minor": 0
      },
      "text/plain": [
       "VBox(children=(Label(value=' 0.00MB of 0.00MB uploaded (0.00MB deduped)\\r'), FloatProgress(value=1.0, max=1.0)…"
      ]
     },
     "metadata": {},
     "output_type": "display_data"
    },
    {
     "data": {
      "text/html": [
       "<style>\n",
       "    table.wandb td:nth-child(1) { padding: 0 10px; text-align: right }\n",
       "    .wandb-row { display: flex; flex-direction: row; flex-wrap: wrap; width: 100% }\n",
       "    .wandb-col { display: flex; flex-direction: column; flex-basis: 100%; flex: 1; padding: 10px; }\n",
       "    </style>\n",
       "<div class=\"wandb-row\"><div class=\"wandb-col\">\n",
       "</div><div class=\"wandb-col\">\n",
       "<h3>Run summary:</h3><br/><table class=\"wandb\"><tr><td>train_accuracy</td><td>0.70875</td></tr><tr><td>train_batch_loss</td><td>0.53457</td></tr><tr><td>train_epoch_loss</td><td>1.23358</td></tr><tr><td>train_score</td><td>-0.76671</td></tr><tr><td>valid_accuracy</td><td>0.6944</td></tr><tr><td>valid_epoch_loss</td><td>1.28214</td></tr><tr><td>valid_score</td><td>-0.80936</td></tr></table>\n",
       "</div></div>\n",
       "Synced 6 W&B file(s), 0 media file(s), 0 artifact file(s) and 0 other file(s)\n",
       "<br/>Synced <strong style=\"color:#cdcd00\">misunderstood-pine-74</strong>: <a href=\"https://wandb.ai/2djagpal/Lithology-LSTM_search_new/runs/1u6z6fro\" target=\"_blank\">https://wandb.ai/2djagpal/Lithology-LSTM_search_new/runs/1u6z6fro</a><br/>\n",
       "Find logs at: <code>./wandb/run-20211205_223617-1u6z6fro/logs</code><br/>\n"
      ],
      "text/plain": [
       "<IPython.core.display.HTML object>"
      ]
     },
     "metadata": {},
     "output_type": "display_data"
    },
    {
     "data": {
      "text/html": [
       "Successfully finished last run (ID:1u6z6fro). Initializing new run:<br/>"
      ],
      "text/plain": [
       "<IPython.core.display.HTML object>"
      ]
     },
     "metadata": {},
     "output_type": "display_data"
    },
    {
     "data": {
      "text/html": [
       "\n",
       "                    Syncing run <strong><a href=\"https://wandb.ai/2djagpal/Lithology-LSTM_search_new/runs/1xc45xgp\" target=\"_blank\">snowy-butterfly-75</a></strong> to <a href=\"https://wandb.ai/2djagpal/Lithology-LSTM_search_new\" target=\"_blank\">Weights & Biases</a> (<a href=\"https://docs.wandb.com/integrations/jupyter.html\" target=\"_blank\">docs</a>).<br/>\n",
       "\n",
       "                "
      ],
      "text/plain": [
       "<IPython.core.display.HTML object>"
      ]
     },
     "metadata": {},
     "output_type": "display_data"
    },
    {
     "name": "stdout",
     "output_type": "stream",
     "text": [
      "Loading Data ...                                                                   \n",
      "\n",
      "Starting training...                                                               \n",
      "\n",
      "Training:                                                                          \n",
      "Epoch: 1 ... Accuracy: 0.6904098529595508 ... Score: -0.8706893835919988           \n",
      "\n",
      "Validation:                                                                        \n",
      "Epoch: 1 ... Accuracy: 0.6784393127781907 ... Score: -0.9105176376109559           \n",
      "\n",
      "Training:                                                                          \n",
      "Epoch: 2 ... Accuracy: 0.6331570926806556 ... Score: -0.9937101469550165           \n",
      "\n",
      "Validation:                                                                        \n",
      "Epoch: 2 ... Accuracy: 0.618448368659815 ... Score: -1.0402313948620687            \n",
      "\n",
      "Training:                                                                          \n",
      "Epoch: 3 ... Accuracy: 0.6882783057403336 ... Score: -0.8184465869080711           \n",
      "\n",
      "Validation:                                                                        \n",
      "Epoch: 3 ... Accuracy: 0.6741548555757747 ... Score: -0.8581745350317384           \n",
      "\n",
      "Training:                                                                          \n",
      "Epoch: 4 ... Accuracy: 0.6564225674892061 ... Score: -0.8838175946621615           \n",
      "\n",
      "Validation:                                                                        \n",
      "Epoch: 4 ... Accuracy: 0.6413443712569734 ... Score: -0.929580909176342            \n",
      "\n",
      "Training:                                                                          \n",
      "Epoch: 5 ... Accuracy: 0.7238428934365219 ... Score: -0.728887430599236            \n",
      "\n",
      "Validation:                                                                        \n",
      "Epoch: 5 ... Accuracy: 0.7055642412281826 ... Score: -0.7849895558346361           \n",
      "\n",
      "Class F1 Scores                                                                    \n",
      "Training:                                                                          \n",
      "[0.63686701 0.37497041 0.84859864 0.28387657 0.         0.62157986\n",
      " 0.23105745 0.85894289 0.72727273 0.46621703 0.28751975 0.15555556]\n",
      "\n",
      "Validation:                                                                        \n",
      "[0.59320036 0.35296772 0.83773918 0.28562759 0.         0.59680837\n",
      " 0.2305141  0.84179104 0.72857143 0.46503441 0.25022502 0.        ]\n",
      "\n",
      "Training Runtime: 407.23199915885925                                               \n",
      "\n",
      "Model Fitting Complete                                                             \n",
      "Fold 1 Validation Score: 0.3505899444958209                                        \n",
      "********************************                                                   \n",
      "F1 Score too low ... stopped early.                                                \n",
      "********************************                                                   \n",
      "{'hidden_dim': 117, 'n_layers': 1, 'window_size': 9}                               \n",
      "--------------------------------                                                   \n",
      "FOLD 0                                                                             \n",
      "--------------------------------                                                   \n",
      "Device is cuda:0.                                                                  \n",
      "\n",
      " 64%|██████▍   | 32/50 [7:26:56<2:23:00, 476.72s/it, best loss: -0.352691566326805]"
     ]
    },
    {
     "data": {
      "text/html": [
       "Finishing last run (ID:1xc45xgp) before initializing another..."
      ],
      "text/plain": [
       "<IPython.core.display.HTML object>"
      ]
     },
     "metadata": {},
     "output_type": "display_data"
    },
    {
     "data": {
      "text/html": [
       "<br/>Waiting for W&B process to finish, PID 176743... <strong style=\"color:green\">(success).</strong>"
      ],
      "text/plain": [
       "<IPython.core.display.HTML object>"
      ]
     },
     "metadata": {},
     "output_type": "display_data"
    },
    {
     "data": {
      "application/vnd.jupyter.widget-view+json": {
       "model_id": "",
       "version_major": 2,
       "version_minor": 0
      },
      "text/plain": [
       "VBox(children=(Label(value=' 0.00MB of 0.00MB uploaded (0.00MB deduped)\\r'), FloatProgress(value=1.0, max=1.0)…"
      ]
     },
     "metadata": {},
     "output_type": "display_data"
    },
    {
     "data": {
      "text/html": [
       "<style>\n",
       "    table.wandb td:nth-child(1) { padding: 0 10px; text-align: right }\n",
       "    .wandb-row { display: flex; flex-direction: row; flex-wrap: wrap; width: 100% }\n",
       "    .wandb-col { display: flex; flex-direction: column; flex-basis: 100%; flex: 1; padding: 10px; }\n",
       "    </style>\n",
       "<div class=\"wandb-row\"><div class=\"wandb-col\">\n",
       "</div><div class=\"wandb-col\">\n",
       "<h3>Run summary:</h3><br/><table class=\"wandb\"><tr><td>train_accuracy</td><td>0.72384</td></tr><tr><td>train_batch_loss</td><td>0.77961</td></tr><tr><td>train_epoch_loss</td><td>1.35877</td></tr><tr><td>train_score</td><td>-0.72889</td></tr><tr><td>valid_accuracy</td><td>0.70556</td></tr><tr><td>valid_epoch_loss</td><td>1.42851</td></tr><tr><td>valid_score</td><td>-0.78499</td></tr></table>\n",
       "</div></div>\n",
       "Synced 6 W&B file(s), 0 media file(s), 0 artifact file(s) and 0 other file(s)\n",
       "<br/>Synced <strong style=\"color:#cdcd00\">snowy-butterfly-75</strong>: <a href=\"https://wandb.ai/2djagpal/Lithology-LSTM_search_new/runs/1xc45xgp\" target=\"_blank\">https://wandb.ai/2djagpal/Lithology-LSTM_search_new/runs/1xc45xgp</a><br/>\n",
       "Find logs at: <code>./wandb/run-20211205_224308-1xc45xgp/logs</code><br/>\n"
      ],
      "text/plain": [
       "<IPython.core.display.HTML object>"
      ]
     },
     "metadata": {},
     "output_type": "display_data"
    },
    {
     "data": {
      "text/html": [
       "Successfully finished last run (ID:1xc45xgp). Initializing new run:<br/>"
      ],
      "text/plain": [
       "<IPython.core.display.HTML object>"
      ]
     },
     "metadata": {},
     "output_type": "display_data"
    },
    {
     "data": {
      "text/html": [
       "\n",
       "                    Syncing run <strong><a href=\"https://wandb.ai/2djagpal/Lithology-LSTM_search_new/runs/2rdafss5\" target=\"_blank\">gallant-frost-76</a></strong> to <a href=\"https://wandb.ai/2djagpal/Lithology-LSTM_search_new\" target=\"_blank\">Weights & Biases</a> (<a href=\"https://docs.wandb.com/integrations/jupyter.html\" target=\"_blank\">docs</a>).<br/>\n",
       "\n",
       "                "
      ],
      "text/plain": [
       "<IPython.core.display.HTML object>"
      ]
     },
     "metadata": {},
     "output_type": "display_data"
    },
    {
     "name": "stdout",
     "output_type": "stream",
     "text": [
      "Loading Data ...                                                                   \n",
      "\n",
      "Starting training...                                                               \n",
      "\n",
      "Training:                                                                          \n",
      "Epoch: 1 ... Accuracy: 0.635005254119999 ... Score: -1.0756700070909262            \n",
      "\n",
      "Validation:                                                                        \n",
      "Epoch: 1 ... Accuracy: 0.6215640124218826 ... Score: -1.1179219189843788           \n",
      "\n",
      "Training:                                                                          \n",
      "Epoch: 2 ... Accuracy: 0.6296753124706325 ... Score: -1.0711893213214752           \n",
      "\n",
      "Validation:                                                                        \n",
      "Epoch: 2 ... Accuracy: 0.6148319329525892 ... Score: -1.12085759259813             \n",
      "\n",
      "Training:                                                                          \n",
      "Epoch: 3 ... Accuracy: 0.6887190199143963 ... Score: -0.8354682200493802           \n",
      "\n",
      "Validation:                                                                        \n",
      "Epoch: 3 ... Accuracy: 0.6740409136149472 ... Score: -0.8815067513017775           \n",
      "\n",
      "Training:                                                                          \n",
      "Epoch: 4 ... Accuracy: 0.694441952653117 ... Score: -0.8411752676183886            \n",
      "\n",
      "Validation:                                                                        \n",
      "Epoch: 4 ... Accuracy: 0.6793035544183543 ... Score: -0.8907366629218763           \n",
      "\n",
      "Training:                                                                          \n",
      "Epoch: 5 ... Accuracy: 0.6945530153522823 ... Score: -0.8143250591622455           \n",
      "\n",
      "Validation:                                                                        \n",
      "Epoch: 5 ... Accuracy: 0.679243751681952 ... Score: -0.8581762087628095            \n",
      "\n",
      "Class F1 Scores                                                                    \n",
      "Training:                                                                          \n",
      "[0.64193291 0.38402763 0.82826569 0.28871116 0.         0.39102589\n",
      " 0.53978833 0.61691729 0.53760446 0.563962   0.38479716 0.        ]\n",
      "\n",
      "Validation:                                                                        \n",
      "[0.60174105 0.36740119 0.81948669 0.28044204 0.         0.3794336\n",
      " 0.54649625 0.62325932 0.54037267 0.54881902 0.31866197 0.        ]\n",
      "\n",
      "Training Runtime: 384.77574491500854                                               \n",
      "\n",
      "Model Fitting Complete                                                             \n",
      "Fold 0 Validation Score: 0.3498757459151425                                        \n",
      "********************************                                                   \n",
      "F1 Score too low ... stopped early.                                                \n",
      "********************************                                                   \n",
      "{'hidden_dim': 467, 'n_layers': 3, 'window_size': 9}                               \n",
      "--------------------------------                                                   \n",
      "FOLD 0                                                                             \n",
      "--------------------------------                                                   \n",
      "Device is cuda:0.                                                                  \n",
      "\n",
      " 66%|██████▌   | 33/50 [7:33:24<2:07:32, 450.13s/it, best loss: -0.352691566326805]"
     ]
    },
    {
     "data": {
      "text/html": [
       "Finishing last run (ID:2rdafss5) before initializing another..."
      ],
      "text/plain": [
       "<IPython.core.display.HTML object>"
      ]
     },
     "metadata": {},
     "output_type": "display_data"
    },
    {
     "data": {
      "text/html": [
       "<br/>Waiting for W&B process to finish, PID 178515... <strong style=\"color:green\">(success).</strong>"
      ],
      "text/plain": [
       "<IPython.core.display.HTML object>"
      ]
     },
     "metadata": {},
     "output_type": "display_data"
    },
    {
     "data": {
      "application/vnd.jupyter.widget-view+json": {
       "model_id": "",
       "version_major": 2,
       "version_minor": 0
      },
      "text/plain": [
       "VBox(children=(Label(value=' 0.00MB of 0.00MB uploaded (0.00MB deduped)\\r'), FloatProgress(value=1.0, max=1.0)…"
      ]
     },
     "metadata": {},
     "output_type": "display_data"
    },
    {
     "data": {
      "text/html": [
       "<style>\n",
       "    table.wandb td:nth-child(1) { padding: 0 10px; text-align: right }\n",
       "    .wandb-row { display: flex; flex-direction: row; flex-wrap: wrap; width: 100% }\n",
       "    .wandb-col { display: flex; flex-direction: column; flex-basis: 100%; flex: 1; padding: 10px; }\n",
       "    </style>\n",
       "<div class=\"wandb-row\"><div class=\"wandb-col\">\n",
       "</div><div class=\"wandb-col\">\n",
       "<h3>Run summary:</h3><br/><table class=\"wandb\"><tr><td>train_accuracy</td><td>0.69455</td></tr><tr><td>train_batch_loss</td><td>1.77876</td></tr><tr><td>train_epoch_loss</td><td>1.3927</td></tr><tr><td>train_score</td><td>-0.81433</td></tr><tr><td>valid_accuracy</td><td>0.67924</td></tr><tr><td>valid_epoch_loss</td><td>1.47178</td></tr><tr><td>valid_score</td><td>-0.85818</td></tr></table>\n",
       "</div></div>\n",
       "Synced 6 W&B file(s), 0 media file(s), 0 artifact file(s) and 0 other file(s)\n",
       "<br/>Synced <strong style=\"color:#cdcd00\">gallant-frost-76</strong>: <a href=\"https://wandb.ai/2djagpal/Lithology-LSTM_search_new/runs/2rdafss5\" target=\"_blank\">https://wandb.ai/2djagpal/Lithology-LSTM_search_new/runs/2rdafss5</a><br/>\n",
       "Find logs at: <code>./wandb/run-20211205_224959-2rdafss5/logs</code><br/>\n"
      ],
      "text/plain": [
       "<IPython.core.display.HTML object>"
      ]
     },
     "metadata": {},
     "output_type": "display_data"
    },
    {
     "data": {
      "text/html": [
       "Successfully finished last run (ID:2rdafss5). Initializing new run:<br/>"
      ],
      "text/plain": [
       "<IPython.core.display.HTML object>"
      ]
     },
     "metadata": {},
     "output_type": "display_data"
    },
    {
     "data": {
      "text/html": [
       "\n",
       "                    Syncing run <strong><a href=\"https://wandb.ai/2djagpal/Lithology-LSTM_search_new/runs/113ti34l\" target=\"_blank\">valiant-dew-77</a></strong> to <a href=\"https://wandb.ai/2djagpal/Lithology-LSTM_search_new\" target=\"_blank\">Weights & Biases</a> (<a href=\"https://docs.wandb.com/integrations/jupyter.html\" target=\"_blank\">docs</a>).<br/>\n",
       "\n",
       "                "
      ],
      "text/plain": [
       "<IPython.core.display.HTML object>"
      ]
     },
     "metadata": {},
     "output_type": "display_data"
    },
    {
     "name": "stdout",
     "output_type": "stream",
     "text": [
      "Loading Data ...                                                                   \n",
      "\n",
      "Starting training...                                                               \n",
      "\n",
      "Training:                                                                          \n",
      "Epoch: 1 ... Accuracy: 0.4384317519713629 ... Score: -1.467727742607923            \n",
      "\n",
      "Validation:                                                                        \n",
      "Epoch: 1 ... Accuracy: 0.4393408029798849 ... Score: -1.4660363173474924           \n",
      "\n",
      "Training:                                                                          \n",
      "Epoch: 2 ... Accuracy: 0.671437023177931 ... Score: -0.9258143885998411            \n",
      "\n",
      "Validation:                                                                        \n",
      "Epoch: 2 ... Accuracy: 0.6576250624725014 ... Score: -0.974984835734698            \n",
      "\n",
      "Training:                                                                          \n",
      "Epoch: 3 ... Accuracy: 0.21685739549427172 ... Score: -1.921142012883273           \n",
      "\n",
      "Validation:                                                                        \n",
      "Epoch: 3 ... Accuracy: 0.20544802928625433 ... Score: -1.9477131860762142          \n",
      "\n",
      "Training:                                                                          \n",
      "Epoch: 4 ... Accuracy: 0.506073207405319 ... Score: -1.4591271913524875            \n",
      "\n",
      "Validation:                                                                        \n",
      "Epoch: 4 ... Accuracy: 0.5013562406291248 ... Score: -1.4794401395966732           \n",
      "\n",
      "Training:                                                                          \n",
      "Epoch: 5 ... Accuracy: 0.568953917523131 ... Score: -1.1844940987261963            \n",
      "\n",
      "Validation:                                                                        \n",
      "Epoch: 5 ... Accuracy: 0.5593093638270334 ... Score: -1.2221901257138952           \n",
      "\n",
      "Class F1 Scores                                                                    \n",
      "Training:                                                                          \n",
      "[0.51942129 0.2134187  0.71632263 0.03913059 0.         0.51655579\n",
      " 0.         0.60640147 0.56529736 0.17012369 0.48421547 0.        ]\n",
      "\n",
      "Validation:                                                                        \n",
      "[0.50140908 0.21151227 0.7103667  0.03147836 0.         0.48772358\n",
      " 0.         0.58377933 0.57364341 0.15314169 0.35534725 0.        ]\n",
      "\n",
      "Training Runtime: 502.4317624568939                                                \n",
      "\n",
      "Model Fitting Complete                                                             \n",
      "Fold 0 Validation Score: 0.29878112439220733                                       \n",
      "********************************                                                   \n",
      "F1 Score too low ... stopped early.                                                \n",
      "********************************                                                   \n",
      "{'hidden_dim': 317, 'n_layers': 1, 'window_size': 9}                               \n",
      "--------------------------------                                                   \n",
      "FOLD 0                                                                             \n",
      "--------------------------------                                                   \n",
      "Device is cuda:0.                                                                  \n",
      "\n",
      " 68%|██████▊   | 34/50 [7:41:50<2:04:32, 467.04s/it, best loss: -0.352691566326805]"
     ]
    },
    {
     "data": {
      "text/html": [
       "Finishing last run (ID:113ti34l) before initializing another..."
      ],
      "text/plain": [
       "<IPython.core.display.HTML object>"
      ]
     },
     "metadata": {},
     "output_type": "display_data"
    },
    {
     "data": {
      "text/html": [
       "<br/>Waiting for W&B process to finish, PID 180315... <strong style=\"color:green\">(success).</strong>"
      ],
      "text/plain": [
       "<IPython.core.display.HTML object>"
      ]
     },
     "metadata": {},
     "output_type": "display_data"
    },
    {
     "data": {
      "application/vnd.jupyter.widget-view+json": {
       "model_id": "",
       "version_major": 2,
       "version_minor": 0
      },
      "text/plain": [
       "VBox(children=(Label(value=' 0.00MB of 0.00MB uploaded (0.00MB deduped)\\r'), FloatProgress(value=1.0, max=1.0)…"
      ]
     },
     "metadata": {},
     "output_type": "display_data"
    },
    {
     "data": {
      "text/html": [
       "<style>\n",
       "    table.wandb td:nth-child(1) { padding: 0 10px; text-align: right }\n",
       "    .wandb-row { display: flex; flex-direction: row; flex-wrap: wrap; width: 100% }\n",
       "    .wandb-col { display: flex; flex-direction: column; flex-basis: 100%; flex: 1; padding: 10px; }\n",
       "    </style>\n",
       "<div class=\"wandb-row\"><div class=\"wandb-col\">\n",
       "</div><div class=\"wandb-col\">\n",
       "<h3>Run summary:</h3><br/><table class=\"wandb\"><tr><td>train_accuracy</td><td>0.56895</td></tr><tr><td>train_batch_loss</td><td>0.59024</td></tr><tr><td>train_epoch_loss</td><td>1.6096</td></tr><tr><td>train_score</td><td>-1.18449</td></tr><tr><td>valid_accuracy</td><td>0.55931</td></tr><tr><td>valid_epoch_loss</td><td>1.68193</td></tr><tr><td>valid_score</td><td>-1.22219</td></tr></table>\n",
       "</div></div>\n",
       "Synced 6 W&B file(s), 0 media file(s), 0 artifact file(s) and 0 other file(s)\n",
       "<br/>Synced <strong style=\"color:#cdcd00\">valiant-dew-77</strong>: <a href=\"https://wandb.ai/2djagpal/Lithology-LSTM_search_new/runs/113ti34l\" target=\"_blank\">https://wandb.ai/2djagpal/Lithology-LSTM_search_new/runs/113ti34l</a><br/>\n",
       "Find logs at: <code>./wandb/run-20211205_225627-113ti34l/logs</code><br/>\n"
      ],
      "text/plain": [
       "<IPython.core.display.HTML object>"
      ]
     },
     "metadata": {},
     "output_type": "display_data"
    },
    {
     "data": {
      "text/html": [
       "Successfully finished last run (ID:113ti34l). Initializing new run:<br/>"
      ],
      "text/plain": [
       "<IPython.core.display.HTML object>"
      ]
     },
     "metadata": {},
     "output_type": "display_data"
    },
    {
     "data": {
      "text/html": [
       "\n",
       "                    Syncing run <strong><a href=\"https://wandb.ai/2djagpal/Lithology-LSTM_search_new/runs/318qw33o\" target=\"_blank\">cerulean-shape-78</a></strong> to <a href=\"https://wandb.ai/2djagpal/Lithology-LSTM_search_new\" target=\"_blank\">Weights & Biases</a> (<a href=\"https://docs.wandb.com/integrations/jupyter.html\" target=\"_blank\">docs</a>).<br/>\n",
       "\n",
       "                "
      ],
      "text/plain": [
       "<IPython.core.display.HTML object>"
      ]
     },
     "metadata": {},
     "output_type": "display_data"
    },
    {
     "name": "stdout",
     "output_type": "stream",
     "text": [
      "Loading Data ...                                                                   \n",
      "\n",
      "Starting training...                                                               \n",
      "\n",
      "Training:                                                                          \n",
      "Epoch: 1 ... Accuracy: 0.6946459235717765 ... Score: -0.8573685295298631           \n",
      "\n",
      "Validation:                                                                        \n",
      "Epoch: 1 ... Accuracy: 0.6808840553089879 ... Score: -0.9056505042652165           \n",
      "\n",
      "Training:                                                                          \n",
      "Epoch: 2 ... Accuracy: 0.653653108474084 ... Score: -0.9706141713868314            \n",
      "\n",
      "Validation:                                                                        \n",
      "Epoch: 2 ... Accuracy: 0.6409870868805612 ... Score: -1.0155166742843962           \n",
      "\n",
      "Training:                                                                          \n",
      "Epoch: 3 ... Accuracy: 0.6925186457185329 ... Score: -0.8506934210301492           \n",
      "\n",
      "Validation:                                                                        \n",
      "Epoch: 3 ... Accuracy: 0.6763945784547827 ... Score: -0.9050610201492505           \n",
      "\n",
      "Training:                                                                          \n",
      "Epoch: 4 ... Accuracy: 0.6885225243697192 ... Score: -0.8148276445737328           \n",
      "\n",
      "Validation:                                                                        \n",
      "Epoch: 4 ... Accuracy: 0.6730071805999923 ... Score: -0.8623880300551466           \n",
      "\n",
      "Training:                                                                          \n",
      "Epoch: 5 ... Accuracy: 0.7396861197255897 ... Score: -0.6853890077829322           \n",
      "\n",
      "Validation:                                                                        \n",
      "Epoch: 5 ... Accuracy: 0.7222974502676173 ... Score: -0.7388638761570762           \n",
      "\n",
      "Class F1 Scores                                                                    \n",
      "Training:                                                                          \n",
      "[0.67127775 0.29706398 0.86074262 0.15357425 0.         0.57247869\n",
      " 0.00615895 0.96925968 0.64221159 0.51857435 0.35423756 0.11494253]\n",
      "\n",
      "Validation:                                                                        \n",
      "[0.62905776 0.28225717 0.85032442 0.15317012 0.         0.5410847\n",
      " 0.01041174 0.96009601 0.65178571 0.47812228 0.29374202 0.25      ]\n",
      "\n",
      "Training Runtime: 394.4078617095947                                                \n",
      "\n",
      "Model Fitting Complete                                                             \n",
      "Fold 0 Validation Score: 0.3872137744242528                                        \n",
      "--------------------------------                                                   \n",
      "FOLD 1                                                                             \n",
      "--------------------------------                                                   \n",
      "Device is cuda:0.                                                                  \n",
      "\n",
      " 68%|██████▊   | 34/50 [7:48:28<2:04:32, 467.04s/it, best loss: -0.352691566326805]"
     ]
    },
    {
     "data": {
      "text/html": [
       "Finishing last run (ID:318qw33o) before initializing another..."
      ],
      "text/plain": [
       "<IPython.core.display.HTML object>"
      ]
     },
     "metadata": {},
     "output_type": "display_data"
    },
    {
     "data": {
      "text/html": [
       "<br/>Waiting for W&B process to finish, PID 182696... <strong style=\"color:green\">(success).</strong>"
      ],
      "text/plain": [
       "<IPython.core.display.HTML object>"
      ]
     },
     "metadata": {},
     "output_type": "display_data"
    },
    {
     "data": {
      "application/vnd.jupyter.widget-view+json": {
       "model_id": "",
       "version_major": 2,
       "version_minor": 0
      },
      "text/plain": [
       "VBox(children=(Label(value=' 0.00MB of 0.00MB uploaded (0.00MB deduped)\\r'), FloatProgress(value=1.0, max=1.0)…"
      ]
     },
     "metadata": {},
     "output_type": "display_data"
    },
    {
     "data": {
      "text/html": [
       "<style>\n",
       "    table.wandb td:nth-child(1) { padding: 0 10px; text-align: right }\n",
       "    .wandb-row { display: flex; flex-direction: row; flex-wrap: wrap; width: 100% }\n",
       "    .wandb-col { display: flex; flex-direction: column; flex-basis: 100%; flex: 1; padding: 10px; }\n",
       "    </style>\n",
       "<div class=\"wandb-row\"><div class=\"wandb-col\">\n",
       "</div><div class=\"wandb-col\">\n",
       "<h3>Run summary:</h3><br/><table class=\"wandb\"><tr><td>train_accuracy</td><td>0.73969</td></tr><tr><td>train_batch_loss</td><td>0.38048</td></tr><tr><td>train_epoch_loss</td><td>1.40681</td></tr><tr><td>train_score</td><td>-0.68539</td></tr><tr><td>valid_accuracy</td><td>0.7223</td></tr><tr><td>valid_epoch_loss</td><td>1.5084</td></tr><tr><td>valid_score</td><td>-0.73886</td></tr></table>\n",
       "</div></div>\n",
       "Synced 6 W&B file(s), 0 media file(s), 0 artifact file(s) and 0 other file(s)\n",
       "<br/>Synced <strong style=\"color:#cdcd00\">cerulean-shape-78</strong>: <a href=\"https://wandb.ai/2djagpal/Lithology-LSTM_search_new/runs/318qw33o\" target=\"_blank\">https://wandb.ai/2djagpal/Lithology-LSTM_search_new/runs/318qw33o</a><br/>\n",
       "Find logs at: <code>./wandb/run-20211205_230453-318qw33o/logs</code><br/>\n"
      ],
      "text/plain": [
       "<IPython.core.display.HTML object>"
      ]
     },
     "metadata": {},
     "output_type": "display_data"
    },
    {
     "data": {
      "text/html": [
       "Successfully finished last run (ID:318qw33o). Initializing new run:<br/>"
      ],
      "text/plain": [
       "<IPython.core.display.HTML object>"
      ]
     },
     "metadata": {},
     "output_type": "display_data"
    },
    {
     "data": {
      "text/html": [
       "\n",
       "                    Syncing run <strong><a href=\"https://wandb.ai/2djagpal/Lithology-LSTM_search_new/runs/300yjbk6\" target=\"_blank\">denim-wildflower-79</a></strong> to <a href=\"https://wandb.ai/2djagpal/Lithology-LSTM_search_new\" target=\"_blank\">Weights & Biases</a> (<a href=\"https://docs.wandb.com/integrations/jupyter.html\" target=\"_blank\">docs</a>).<br/>\n",
       "\n",
       "                "
      ],
      "text/plain": [
       "<IPython.core.display.HTML object>"
      ]
     },
     "metadata": {},
     "output_type": "display_data"
    },
    {
     "name": "stdout",
     "output_type": "stream",
     "text": [
      "Loading Data ...                                                                   \n",
      "\n",
      "Starting training...                                                               \n",
      "\n",
      "Training:                                                                          \n",
      "Epoch: 1 ... Accuracy: 0.6789714750712562 ... Score: -0.891755365443946            \n",
      "\n",
      "Validation:                                                                        \n",
      "Epoch: 1 ... Accuracy: 0.668576090763855 ... Score: -0.9265149379330377            \n",
      "\n",
      "Training:                                                                          \n",
      "Epoch: 2 ... Accuracy: 0.6552233052010393 ... Score: -0.987874689371845            \n",
      "\n",
      "Validation:                                                                        \n",
      "Epoch: 2 ... Accuracy: 0.6366797378920299 ... Score: -1.048906566368506            \n",
      "\n",
      "Training:                                                                          \n",
      "Epoch: 3 ... Accuracy: 0.514052086214464 ... Score: -1.1979299376661268            \n",
      "\n",
      "Validation:                                                                        \n",
      "Epoch: 3 ... Accuracy: 0.4985604565531264 ... Score: -1.2395109823922905           \n",
      "\n",
      "Training:                                                                          \n",
      "Epoch: 4 ... Accuracy: 0.7127451786559078 ... Score: -0.7588547045148006           \n",
      "\n",
      "Validation:                                                                        \n",
      "Epoch: 4 ... Accuracy: 0.6957693654902564 ... Score: -0.8082336972772552           \n",
      "\n",
      "Training:                                                                          \n",
      "Epoch: 5 ... Accuracy: 0.6984650937784664 ... Score: -0.7926653844634128           \n",
      "\n",
      "Validation:                                                                        \n",
      "Epoch: 5 ... Accuracy: 0.6826853252001265 ... Score: -0.835801274658055            \n",
      "\n",
      "Class F1 Scores                                                                    \n",
      "Training:                                                                          \n",
      "[0.49252539 0.36654219 0.84004822 0.15275691 0.         0.60648023\n",
      " 0.35382685 0.6493653  0.72087068 0.40835639 0.2890775  0.13483146]\n",
      "\n",
      "Validation:                                                                        \n",
      "[0.43887662 0.35082379 0.83173387 0.1533876  0.         0.58523288\n",
      " 0.33437014 0.669346   0.7037037  0.36697541 0.24351201 0.18181818]\n",
      "\n",
      "Training Runtime: 396.0736973285675                                                \n",
      "\n",
      "Model Fitting Complete                                                             \n",
      "Fold 1 Validation Score: 0.3180293142765903                                        \n",
      "********************************                                                   \n",
      "F1 Score too low ... stopped early.                                                \n",
      "********************************                                                   \n",
      "{'hidden_dim': 210, 'n_layers': 2, 'window_size': 2}                               \n",
      "--------------------------------                                                   \n",
      "FOLD 0                                                                             \n",
      "--------------------------------                                                   \n",
      "Device is cuda:0.                                                                  \n",
      "\n",
      " 70%|███████   | 35/50 [7:55:08<2:21:31, 566.09s/it, best loss: -0.352691566326805]"
     ]
    },
    {
     "data": {
      "text/html": [
       "Finishing last run (ID:300yjbk6) before initializing another..."
      ],
      "text/plain": [
       "<IPython.core.display.HTML object>"
      ]
     },
     "metadata": {},
     "output_type": "display_data"
    },
    {
     "data": {
      "text/html": [
       "<br/>Waiting for W&B process to finish, PID 184454... <strong style=\"color:green\">(success).</strong>"
      ],
      "text/plain": [
       "<IPython.core.display.HTML object>"
      ]
     },
     "metadata": {},
     "output_type": "display_data"
    },
    {
     "data": {
      "application/vnd.jupyter.widget-view+json": {
       "model_id": "",
       "version_major": 2,
       "version_minor": 0
      },
      "text/plain": [
       "VBox(children=(Label(value=' 0.00MB of 0.00MB uploaded (0.00MB deduped)\\r'), FloatProgress(value=1.0, max=1.0)…"
      ]
     },
     "metadata": {},
     "output_type": "display_data"
    },
    {
     "data": {
      "text/html": [
       "<style>\n",
       "    table.wandb td:nth-child(1) { padding: 0 10px; text-align: right }\n",
       "    .wandb-row { display: flex; flex-direction: row; flex-wrap: wrap; width: 100% }\n",
       "    .wandb-col { display: flex; flex-direction: column; flex-basis: 100%; flex: 1; padding: 10px; }\n",
       "    </style>\n",
       "<div class=\"wandb-row\"><div class=\"wandb-col\">\n",
       "</div><div class=\"wandb-col\">\n",
       "<h3>Run summary:</h3><br/><table class=\"wandb\"><tr><td>train_accuracy</td><td>0.69847</td></tr><tr><td>train_batch_loss</td><td>1.74108</td></tr><tr><td>train_epoch_loss</td><td>1.53237</td></tr><tr><td>train_score</td><td>-0.79267</td></tr><tr><td>valid_accuracy</td><td>0.68269</td></tr><tr><td>valid_epoch_loss</td><td>1.62699</td></tr><tr><td>valid_score</td><td>-0.8358</td></tr></table>\n",
       "</div></div>\n",
       "Synced 6 W&B file(s), 0 media file(s), 0 artifact file(s) and 0 other file(s)\n",
       "<br/>Synced <strong style=\"color:#cdcd00\">denim-wildflower-79</strong>: <a href=\"https://wandb.ai/2djagpal/Lithology-LSTM_search_new/runs/300yjbk6\" target=\"_blank\">https://wandb.ai/2djagpal/Lithology-LSTM_search_new/runs/300yjbk6</a><br/>\n",
       "Find logs at: <code>./wandb/run-20211205_231131-300yjbk6/logs</code><br/>\n"
      ],
      "text/plain": [
       "<IPython.core.display.HTML object>"
      ]
     },
     "metadata": {},
     "output_type": "display_data"
    },
    {
     "data": {
      "text/html": [
       "Successfully finished last run (ID:300yjbk6). Initializing new run:<br/>"
      ],
      "text/plain": [
       "<IPython.core.display.HTML object>"
      ]
     },
     "metadata": {},
     "output_type": "display_data"
    },
    {
     "data": {
      "text/html": [
       "\n",
       "                    Syncing run <strong><a href=\"https://wandb.ai/2djagpal/Lithology-LSTM_search_new/runs/2wk8m1qy\" target=\"_blank\">spring-forest-80</a></strong> to <a href=\"https://wandb.ai/2djagpal/Lithology-LSTM_search_new\" target=\"_blank\">Weights & Biases</a> (<a href=\"https://docs.wandb.com/integrations/jupyter.html\" target=\"_blank\">docs</a>).<br/>\n",
       "\n",
       "                "
      ],
      "text/plain": [
       "<IPython.core.display.HTML object>"
      ]
     },
     "metadata": {},
     "output_type": "display_data"
    },
    {
     "name": "stdout",
     "output_type": "stream",
     "text": [
      "Loading Data ...                                                                   \n",
      "\n",
      "Starting training...                                                               \n",
      "\n",
      "Training:                                                                          \n",
      "Epoch: 1 ... Accuracy: 0.6700316528692621 ... Score: -0.9324401062357434           \n",
      "\n",
      "Validation:                                                                        \n",
      "Epoch: 1 ... Accuracy: 0.6633703967911561 ... Score: -0.9527606438191736           \n",
      "\n",
      "Training:                                                                          \n",
      "Epoch: 2 ... Accuracy: 0.6708464686333308 ... Score: -0.891547274265064            \n",
      "\n",
      "Validation:                                                                        \n",
      "Epoch: 2 ... Accuracy: 0.6641136593721567 ... Score: -0.910704369444219            \n",
      "\n",
      "Training:                                                                          \n",
      "Epoch: 3 ... Accuracy: 0.6203300270822121 ... Score: -0.981198500012815            \n",
      "\n",
      "Validation:                                                                        \n",
      "Epoch: 3 ... Accuracy: 0.6115769554426898 ... Score: -1.006965950884867            \n",
      "\n",
      "Training:                                                                          \n",
      "Epoch: 4 ... Accuracy: 0.7003741958633416 ... Score: -0.8048465519303551           \n",
      "\n",
      "Validation:                                                                        \n",
      "Epoch: 4 ... Accuracy: 0.6935665070503154 ... Score: -0.8262410135709496           \n",
      "\n",
      "Training:                                                                          \n",
      "Epoch: 5 ... Accuracy: 0.688222441499859 ... Score: -0.7928300217426592            \n",
      "\n",
      "Validation:                                                                        \n",
      "Epoch: 5 ... Accuracy: 0.6802518549527344 ... Score: -0.8170815837473249           \n",
      "\n",
      "Class F1 Scores                                                                    \n",
      "Training:                                                                          \n",
      "[0.61909314 0.36643485 0.82705419 0.31303225 0.         0.59080467\n",
      " 0.42437052 0.61951268 0.67122351 0.23079746 0.42236274 0.13483146]\n",
      "\n",
      "Validation:                                                                        \n",
      "[0.60244851 0.3548014  0.82219651 0.31281361 0.         0.56858847\n",
      " 0.44749188 0.62771417 0.71544715 0.22614668 0.36764083 0.        ]\n",
      "\n",
      "Training Runtime: 394.2326707839966                                                \n",
      "\n",
      "Model Fitting Complete                                                             \n",
      "Fold 0 Validation Score: 0.3340523886749299                                        \n",
      "********************************                                                   \n",
      "F1 Score too low ... stopped early.                                                \n",
      "********************************                                                   \n",
      "{'hidden_dim': 156, 'n_layers': 1, 'window_size': 8}                               \n",
      "--------------------------------                                                   \n",
      "FOLD 0                                                                             \n",
      "--------------------------------                                                   \n",
      "Device is cuda:0.                                                                  \n",
      "\n",
      " 72%|███████▏  | 36/50 [8:01:45<2:00:17, 515.53s/it, best loss: -0.352691566326805]"
     ]
    },
    {
     "data": {
      "text/html": [
       "Finishing last run (ID:2wk8m1qy) before initializing another..."
      ],
      "text/plain": [
       "<IPython.core.display.HTML object>"
      ]
     },
     "metadata": {},
     "output_type": "display_data"
    },
    {
     "data": {
      "text/html": [
       "<br/>Waiting for W&B process to finish, PID 186194... <strong style=\"color:green\">(success).</strong>"
      ],
      "text/plain": [
       "<IPython.core.display.HTML object>"
      ]
     },
     "metadata": {},
     "output_type": "display_data"
    },
    {
     "data": {
      "application/vnd.jupyter.widget-view+json": {
       "model_id": "",
       "version_major": 2,
       "version_minor": 0
      },
      "text/plain": [
       "VBox(children=(Label(value=' 0.00MB of 0.00MB uploaded (0.00MB deduped)\\r'), FloatProgress(value=1.0, max=1.0)…"
      ]
     },
     "metadata": {},
     "output_type": "display_data"
    },
    {
     "data": {
      "text/html": [
       "<style>\n",
       "    table.wandb td:nth-child(1) { padding: 0 10px; text-align: right }\n",
       "    .wandb-row { display: flex; flex-direction: row; flex-wrap: wrap; width: 100% }\n",
       "    .wandb-col { display: flex; flex-direction: column; flex-basis: 100%; flex: 1; padding: 10px; }\n",
       "    </style>\n",
       "<div class=\"wandb-row\"><div class=\"wandb-col\">\n",
       "</div><div class=\"wandb-col\">\n",
       "<h3>Run summary:</h3><br/><table class=\"wandb\"><tr><td>train_accuracy</td><td>0.68822</td></tr><tr><td>train_batch_loss</td><td>1.08401</td></tr><tr><td>train_epoch_loss</td><td>1.39267</td></tr><tr><td>train_score</td><td>-0.79283</td></tr><tr><td>valid_accuracy</td><td>0.68025</td></tr><tr><td>valid_epoch_loss</td><td>1.44513</td></tr><tr><td>valid_score</td><td>-0.81708</td></tr></table>\n",
       "</div></div>\n",
       "Synced 6 W&B file(s), 0 media file(s), 0 artifact file(s) and 0 other file(s)\n",
       "<br/>Synced <strong style=\"color:#cdcd00\">spring-forest-80</strong>: <a href=\"https://wandb.ai/2djagpal/Lithology-LSTM_search_new/runs/2wk8m1qy\" target=\"_blank\">https://wandb.ai/2djagpal/Lithology-LSTM_search_new/runs/2wk8m1qy</a><br/>\n",
       "Find logs at: <code>./wandb/run-20211205_231811-2wk8m1qy/logs</code><br/>\n"
      ],
      "text/plain": [
       "<IPython.core.display.HTML object>"
      ]
     },
     "metadata": {},
     "output_type": "display_data"
    },
    {
     "data": {
      "text/html": [
       "Successfully finished last run (ID:2wk8m1qy). Initializing new run:<br/>"
      ],
      "text/plain": [
       "<IPython.core.display.HTML object>"
      ]
     },
     "metadata": {},
     "output_type": "display_data"
    },
    {
     "data": {
      "text/html": [
       "\n",
       "                    Syncing run <strong><a href=\"https://wandb.ai/2djagpal/Lithology-LSTM_search_new/runs/1hgg290j\" target=\"_blank\">pleasant-leaf-81</a></strong> to <a href=\"https://wandb.ai/2djagpal/Lithology-LSTM_search_new\" target=\"_blank\">Weights & Biases</a> (<a href=\"https://docs.wandb.com/integrations/jupyter.html\" target=\"_blank\">docs</a>).<br/>\n",
       "\n",
       "                "
      ],
      "text/plain": [
       "<IPython.core.display.HTML object>"
      ]
     },
     "metadata": {},
     "output_type": "display_data"
    },
    {
     "name": "stdout",
     "output_type": "stream",
     "text": [
      "Loading Data ...                                                                   \n",
      "\n",
      "Starting training...                                                               \n",
      "\n",
      "Training:                                                                          \n",
      "Epoch: 1 ... Accuracy: 0.6750166594048748 ... Score: -0.9081769111327541           \n",
      "\n",
      "Validation:                                                                        \n",
      "Epoch: 1 ... Accuracy: 0.6626314058341841 ... Score: -0.947619210347582            \n",
      "\n",
      "Training:                                                                          \n",
      "Epoch: 2 ... Accuracy: 0.6858335255572358 ... Score: -0.8617006422414162           \n",
      "\n",
      "Validation:                                                                        \n",
      "Epoch: 2 ... Accuracy: 0.6712173701319505 ... Score: -0.9076362754855769           \n",
      "\n",
      "Training:                                                                          \n",
      "Epoch: 3 ... Accuracy: 0.6514094283688306 ... Score: -0.9404091218784975           \n",
      "\n",
      "Validation:                                                                        \n",
      "Epoch: 3 ... Accuracy: 0.6361729666001718 ... Score: -0.9884538002503171           \n",
      "\n",
      "Training:                                                                          \n",
      "Epoch: 4 ... Accuracy: 0.6511531298322953 ... Score: -0.9077723065159631           \n",
      "\n",
      "Validation:                                                                        \n",
      "Epoch: 4 ... Accuracy: 0.6329948783227896 ... Score: -0.9532246489792955           \n",
      "\n",
      "Training:                                                                          \n",
      "Epoch: 5 ... Accuracy: 0.6922078837429838 ... Score: -0.8183924635415332           \n",
      "\n",
      "Validation:                                                                        \n",
      "Epoch: 5 ... Accuracy: 0.6778042143842667 ... Score: -0.8572439268185371           \n",
      "\n",
      "Class F1 Scores                                                                    \n",
      "Training:                                                                          \n",
      "[0.58642368 0.34157027 0.82376419 0.20681136 0.         0.46025646\n",
      " 0.55206364 0.61504469 0.62906504 0.38449111 0.4502381  0.13636364]\n",
      "\n",
      "Validation:                                                                        \n",
      "[0.54761946 0.31948766 0.8153367  0.20462046 0.         0.45773381\n",
      " 0.55154965 0.61925689 0.62242563 0.36929761 0.38784067 0.        ]\n",
      "\n",
      "Training Runtime: 384.82934951782227                                               \n",
      "\n",
      "Model Fitting Complete                                                             \n",
      "Fold 0 Validation Score: 0.4055272670704029                                        \n",
      "--------------------------------                                                   \n",
      "FOLD 1                                                                             \n",
      "--------------------------------                                                   \n",
      "Device is cuda:0.                                                                  \n",
      "\n",
      " 72%|███████▏  | 36/50 [8:08:13<2:00:17, 515.53s/it, best loss: -0.352691566326805]"
     ]
    },
    {
     "data": {
      "text/html": [
       "Finishing last run (ID:1hgg290j) before initializing another..."
      ],
      "text/plain": [
       "<IPython.core.display.HTML object>"
      ]
     },
     "metadata": {},
     "output_type": "display_data"
    },
    {
     "data": {
      "text/html": [
       "<br/>Waiting for W&B process to finish, PID 187950... <strong style=\"color:green\">(success).</strong>"
      ],
      "text/plain": [
       "<IPython.core.display.HTML object>"
      ]
     },
     "metadata": {},
     "output_type": "display_data"
    },
    {
     "data": {
      "application/vnd.jupyter.widget-view+json": {
       "model_id": "",
       "version_major": 2,
       "version_minor": 0
      },
      "text/plain": [
       "VBox(children=(Label(value=' 0.00MB of 0.00MB uploaded (0.00MB deduped)\\r'), FloatProgress(value=1.0, max=1.0)…"
      ]
     },
     "metadata": {},
     "output_type": "display_data"
    },
    {
     "data": {
      "text/html": [
       "<style>\n",
       "    table.wandb td:nth-child(1) { padding: 0 10px; text-align: right }\n",
       "    .wandb-row { display: flex; flex-direction: row; flex-wrap: wrap; width: 100% }\n",
       "    .wandb-col { display: flex; flex-direction: column; flex-basis: 100%; flex: 1; padding: 10px; }\n",
       "    </style>\n",
       "<div class=\"wandb-row\"><div class=\"wandb-col\">\n",
       "</div><div class=\"wandb-col\">\n",
       "<h3>Run summary:</h3><br/><table class=\"wandb\"><tr><td>train_accuracy</td><td>0.69221</td></tr><tr><td>train_batch_loss</td><td>1.52006</td></tr><tr><td>train_epoch_loss</td><td>1.40572</td></tr><tr><td>train_score</td><td>-0.81839</td></tr><tr><td>valid_accuracy</td><td>0.6778</td></tr><tr><td>valid_epoch_loss</td><td>1.4852</td></tr><tr><td>valid_score</td><td>-0.85724</td></tr></table>\n",
       "</div></div>\n",
       "Synced 6 W&B file(s), 0 media file(s), 0 artifact file(s) and 0 other file(s)\n",
       "<br/>Synced <strong style=\"color:#cdcd00\">pleasant-leaf-81</strong>: <a href=\"https://wandb.ai/2djagpal/Lithology-LSTM_search_new/runs/1hgg290j\" target=\"_blank\">https://wandb.ai/2djagpal/Lithology-LSTM_search_new/runs/1hgg290j</a><br/>\n",
       "Find logs at: <code>./wandb/run-20211205_232448-1hgg290j/logs</code><br/>\n"
      ],
      "text/plain": [
       "<IPython.core.display.HTML object>"
      ]
     },
     "metadata": {},
     "output_type": "display_data"
    },
    {
     "data": {
      "text/html": [
       "Successfully finished last run (ID:1hgg290j). Initializing new run:<br/>"
      ],
      "text/plain": [
       "<IPython.core.display.HTML object>"
      ]
     },
     "metadata": {},
     "output_type": "display_data"
    },
    {
     "data": {
      "text/html": [
       "\n",
       "                    Syncing run <strong><a href=\"https://wandb.ai/2djagpal/Lithology-LSTM_search_new/runs/3u95cawm\" target=\"_blank\">elated-shape-82</a></strong> to <a href=\"https://wandb.ai/2djagpal/Lithology-LSTM_search_new\" target=\"_blank\">Weights & Biases</a> (<a href=\"https://docs.wandb.com/integrations/jupyter.html\" target=\"_blank\">docs</a>).<br/>\n",
       "\n",
       "                "
      ],
      "text/plain": [
       "<IPython.core.display.HTML object>"
      ]
     },
     "metadata": {},
     "output_type": "display_data"
    },
    {
     "name": "stdout",
     "output_type": "stream",
     "text": [
      "Loading Data ...                                                                   \n",
      "\n",
      "Starting training...                                                               \n",
      "\n",
      "Training:                                                                          \n",
      "Epoch: 1 ... Accuracy: 0.6840034642981859 ... Score: -0.9168605812203855           \n",
      "\n",
      "Validation:                                                                        \n",
      "Epoch: 1 ... Accuracy: 0.6705965775602089 ... Score: -0.9637038555843179           \n",
      "\n",
      "Training:                                                                          \n",
      "Epoch: 2 ... Accuracy: 0.6429904026979664 ... Score: -0.9672767188269229           \n",
      "\n",
      "Validation:                                                                        \n",
      "Epoch: 2 ... Accuracy: 0.6266242919752928 ... Score: -1.01605710331394             \n",
      "\n",
      "Training:                                                                          \n",
      "Epoch: 3 ... Accuracy: 0.6071919428369441 ... Score: -1.1125613914432688           \n",
      "\n",
      "Validation:                                                                        \n",
      "Epoch: 3 ... Accuracy: 0.5917933208601379 ... Score: -1.163539290565651            \n",
      "\n",
      "Training:                                                                          \n",
      "Epoch: 4 ... Accuracy: 0.7047283825764169 ... Score: -0.7735939904464822           \n",
      "\n",
      "Validation:                                                                        \n",
      "Epoch: 4 ... Accuracy: 0.6864144689067159 ... Score: -0.8242438125261639           \n",
      "\n",
      "Training:                                                                          \n",
      "Epoch: 5 ... Accuracy: 0.7120403584331205 ... Score: -0.7530081673713089           \n",
      "\n",
      "Validation:                                                                        \n",
      "Epoch: 5 ... Accuracy: 0.6938428548239656 ... Score: -0.8063669896028227           \n",
      "\n",
      "Class F1 Scores                                                                    \n",
      "Training:                                                                          \n",
      "[0.61029449 0.35733423 0.84638022 0.30890012 0.         0.53476136\n",
      " 0.11661289 0.76905654 0.55652174 0.44108783 0.48707483 0.09195402]\n",
      "\n",
      "Validation:                                                                        \n",
      "[0.56498551 0.33809786 0.8352493  0.29704654 0.         0.51687091\n",
      " 0.11649622 0.76728677 0.5382263  0.41367373 0.38118215 0.        ]\n",
      "\n",
      "Training Runtime: 384.13034677505493                                               \n",
      "\n",
      "Model Fitting Complete                                                             \n",
      "Fold 1 Validation Score: 0.3289877320978827                                        \n",
      "********************************                                                   \n",
      "F1 Score too low ... stopped early.                                                \n",
      "********************************                                                   \n",
      "{'hidden_dim': 412, 'n_layers': 3, 'window_size': 9}                               \n",
      "--------------------------------                                                   \n",
      "FOLD 0                                                                             \n",
      "--------------------------------                                                   \n",
      "Device is cuda:0.                                                                  \n",
      "\n",
      " 74%|███████▍  | 37/50 [8:14:41<2:08:35, 593.53s/it, best loss: -0.352691566326805]"
     ]
    },
    {
     "data": {
      "text/html": [
       "Finishing last run (ID:3u95cawm) before initializing another..."
      ],
      "text/plain": [
       "<IPython.core.display.HTML object>"
      ]
     },
     "metadata": {},
     "output_type": "display_data"
    },
    {
     "data": {
      "text/html": [
       "<br/>Waiting for W&B process to finish, PID 189727... <strong style=\"color:green\">(success).</strong>"
      ],
      "text/plain": [
       "<IPython.core.display.HTML object>"
      ]
     },
     "metadata": {},
     "output_type": "display_data"
    },
    {
     "data": {
      "application/vnd.jupyter.widget-view+json": {
       "model_id": "",
       "version_major": 2,
       "version_minor": 0
      },
      "text/plain": [
       "VBox(children=(Label(value=' 0.00MB of 0.00MB uploaded (0.00MB deduped)\\r'), FloatProgress(value=1.0, max=1.0)…"
      ]
     },
     "metadata": {},
     "output_type": "display_data"
    },
    {
     "data": {
      "text/html": [
       "<style>\n",
       "    table.wandb td:nth-child(1) { padding: 0 10px; text-align: right }\n",
       "    .wandb-row { display: flex; flex-direction: row; flex-wrap: wrap; width: 100% }\n",
       "    .wandb-col { display: flex; flex-direction: column; flex-basis: 100%; flex: 1; padding: 10px; }\n",
       "    </style>\n",
       "<div class=\"wandb-row\"><div class=\"wandb-col\">\n",
       "</div><div class=\"wandb-col\">\n",
       "<h3>Run summary:</h3><br/><table class=\"wandb\"><tr><td>train_accuracy</td><td>0.71204</td></tr><tr><td>train_batch_loss</td><td>1.42462</td></tr><tr><td>train_epoch_loss</td><td>1.47985</td></tr><tr><td>train_score</td><td>-0.75301</td></tr><tr><td>valid_accuracy</td><td>0.69384</td></tr><tr><td>valid_epoch_loss</td><td>1.58526</td></tr><tr><td>valid_score</td><td>-0.80637</td></tr></table>\n",
       "</div></div>\n",
       "Synced 6 W&B file(s), 0 media file(s), 0 artifact file(s) and 0 other file(s)\n",
       "<br/>Synced <strong style=\"color:#cdcd00\">elated-shape-82</strong>: <a href=\"https://wandb.ai/2djagpal/Lithology-LSTM_search_new/runs/3u95cawm\" target=\"_blank\">https://wandb.ai/2djagpal/Lithology-LSTM_search_new/runs/3u95cawm</a><br/>\n",
       "Find logs at: <code>./wandb/run-20211205_233116-3u95cawm/logs</code><br/>\n"
      ],
      "text/plain": [
       "<IPython.core.display.HTML object>"
      ]
     },
     "metadata": {},
     "output_type": "display_data"
    },
    {
     "data": {
      "text/html": [
       "Successfully finished last run (ID:3u95cawm). Initializing new run:<br/>"
      ],
      "text/plain": [
       "<IPython.core.display.HTML object>"
      ]
     },
     "metadata": {},
     "output_type": "display_data"
    },
    {
     "data": {
      "text/html": [
       "\n",
       "                    Syncing run <strong><a href=\"https://wandb.ai/2djagpal/Lithology-LSTM_search_new/runs/3eyic5vg\" target=\"_blank\">sage-energy-83</a></strong> to <a href=\"https://wandb.ai/2djagpal/Lithology-LSTM_search_new\" target=\"_blank\">Weights & Biases</a> (<a href=\"https://docs.wandb.com/integrations/jupyter.html\" target=\"_blank\">docs</a>).<br/>\n",
       "\n",
       "                "
      ],
      "text/plain": [
       "<IPython.core.display.HTML object>"
      ]
     },
     "metadata": {},
     "output_type": "display_data"
    },
    {
     "name": "stdout",
     "output_type": "stream",
     "text": [
      "Loading Data ...                                                                   \n",
      "\n",
      "Starting training...                                                               \n",
      "\n",
      "Training:                                                                          \n",
      "Epoch: 1 ... Accuracy: 0.5253724872064314 ... Score: -1.2695174005348095           \n",
      "\n",
      "Validation:                                                                        \n",
      "Epoch: 1 ... Accuracy: 0.5199719781463714 ... Score: -1.2870483291542612           \n",
      "\n",
      "Training:                                                                          \n",
      "Epoch: 2 ... Accuracy: 0.4619375315033618 ... Score: -1.379959109704317            \n",
      "\n",
      "Validation:                                                                        \n",
      "Epoch: 2 ... Accuracy: 0.4430827456290607 ... Score: -1.4311713220249207           \n",
      "\n",
      "Training:                                                                          \n",
      "Epoch: 3 ... Accuracy: 0.6467971226217631 ... Score: -0.9962103858574467           \n",
      "\n",
      "Validation:                                                                        \n",
      "Epoch: 3 ... Accuracy: 0.6381891731417367 ... Score: -1.0265705693647669           \n",
      "\n",
      "Training:                                                                          \n",
      "Epoch: 4 ... Accuracy: 0.6626972430820753 ... Score: -0.9494113409966596           \n",
      "\n",
      "Validation:                                                                        \n",
      "Epoch: 4 ... Accuracy: 0.64905618467085 ... Score: -0.9906045629487875             \n",
      "\n",
      "Training:                                                                          \n",
      "Epoch: 5 ... Accuracy: 0.6820157452734278 ... Score: -0.8706059484754509           \n",
      "\n",
      "Validation:                                                                        \n",
      "Epoch: 5 ... Accuracy: 0.664109387748128 ... Score: -0.9329547250569193            \n",
      "\n",
      "Class F1 Scores                                                                    \n",
      "Training:                                                                          \n",
      "[0.63061424 0.2134184  0.8273539  0.16211594 0.         0.47534703\n",
      " 0.37921881 0.58872415 0.30626058 0.35285191 0.5176834  0.        ]\n",
      "\n",
      "Validation:                                                                        \n",
      "[0.60342116 0.20724077 0.81630971 0.15581036 0.         0.42817328\n",
      " 0.40601504 0.60442445 0.17712177 0.33690412 0.35424354 0.        ]\n",
      "\n",
      "Training Runtime: 472.9922478199005                                                \n",
      "\n",
      "Model Fitting Complete                                                             \n",
      "Fold 0 Validation Score: 0.319128341961452                                         \n",
      "********************************                                                   \n",
      "F1 Score too low ... stopped early.                                                \n",
      "********************************                                                   \n",
      "{'hidden_dim': 200, 'n_layers': 1, 'window_size': 3}                               \n",
      "--------------------------------                                                   \n",
      "FOLD 0                                                                             \n",
      "--------------------------------                                                   \n",
      "Device is cuda:0.                                                                  \n",
      "\n",
      " 76%|███████▌  | 38/50 [8:22:38<1:51:42, 558.53s/it, best loss: -0.352691566326805]"
     ]
    },
    {
     "data": {
      "text/html": [
       "Finishing last run (ID:3eyic5vg) before initializing another..."
      ],
      "text/plain": [
       "<IPython.core.display.HTML object>"
      ]
     },
     "metadata": {},
     "output_type": "display_data"
    },
    {
     "data": {
      "text/html": [
       "<br/>Waiting for W&B process to finish, PID 191522... <strong style=\"color:green\">(success).</strong>"
      ],
      "text/plain": [
       "<IPython.core.display.HTML object>"
      ]
     },
     "metadata": {},
     "output_type": "display_data"
    },
    {
     "data": {
      "application/vnd.jupyter.widget-view+json": {
       "model_id": "",
       "version_major": 2,
       "version_minor": 0
      },
      "text/plain": [
       "VBox(children=(Label(value=' 0.00MB of 0.00MB uploaded (0.00MB deduped)\\r'), FloatProgress(value=1.0, max=1.0)…"
      ]
     },
     "metadata": {},
     "output_type": "display_data"
    },
    {
     "data": {
      "text/html": [
       "<style>\n",
       "    table.wandb td:nth-child(1) { padding: 0 10px; text-align: right }\n",
       "    .wandb-row { display: flex; flex-direction: row; flex-wrap: wrap; width: 100% }\n",
       "    .wandb-col { display: flex; flex-direction: column; flex-basis: 100%; flex: 1; padding: 10px; }\n",
       "    </style>\n",
       "<div class=\"wandb-row\"><div class=\"wandb-col\">\n",
       "</div><div class=\"wandb-col\">\n",
       "<h3>Run summary:</h3><br/><table class=\"wandb\"><tr><td>train_accuracy</td><td>0.68202</td></tr><tr><td>train_batch_loss</td><td>0.46677</td></tr><tr><td>train_epoch_loss</td><td>1.58001</td></tr><tr><td>train_score</td><td>-0.87061</td></tr><tr><td>valid_accuracy</td><td>0.66411</td></tr><tr><td>valid_epoch_loss</td><td>1.71527</td></tr><tr><td>valid_score</td><td>-0.93295</td></tr></table>\n",
       "</div></div>\n",
       "Synced 6 W&B file(s), 0 media file(s), 0 artifact file(s) and 0 other file(s)\n",
       "<br/>Synced <strong style=\"color:#cdcd00\">sage-energy-83</strong>: <a href=\"https://wandb.ai/2djagpal/Lithology-LSTM_search_new/runs/3eyic5vg\" target=\"_blank\">https://wandb.ai/2djagpal/Lithology-LSTM_search_new/runs/3eyic5vg</a><br/>\n",
       "Find logs at: <code>./wandb/run-20211205_233744-3eyic5vg/logs</code><br/>\n"
      ],
      "text/plain": [
       "<IPython.core.display.HTML object>"
      ]
     },
     "metadata": {},
     "output_type": "display_data"
    },
    {
     "data": {
      "text/html": [
       "Successfully finished last run (ID:3eyic5vg). Initializing new run:<br/>"
      ],
      "text/plain": [
       "<IPython.core.display.HTML object>"
      ]
     },
     "metadata": {},
     "output_type": "display_data"
    },
    {
     "data": {
      "text/html": [
       "\n",
       "                    Syncing run <strong><a href=\"https://wandb.ai/2djagpal/Lithology-LSTM_search_new/runs/mi5d40yx\" target=\"_blank\">trim-donkey-84</a></strong> to <a href=\"https://wandb.ai/2djagpal/Lithology-LSTM_search_new\" target=\"_blank\">Weights & Biases</a> (<a href=\"https://docs.wandb.com/integrations/jupyter.html\" target=\"_blank\">docs</a>).<br/>\n",
       "\n",
       "                "
      ],
      "text/plain": [
       "<IPython.core.display.HTML object>"
      ]
     },
     "metadata": {},
     "output_type": "display_data"
    },
    {
     "name": "stdout",
     "output_type": "stream",
     "text": [
      "Loading Data ...                                                                   \n",
      "\n",
      "Starting training...                                                               \n",
      "\n",
      "Training:                                                                          \n",
      "Epoch: 1 ... Accuracy: 0.6418964810210934 ... Score: -1.0091656094352035           \n",
      "\n",
      "Validation:                                                                        \n",
      "Epoch: 1 ... Accuracy: 0.6341567600586067 ... Score: -1.0342958014207422           \n",
      "\n",
      "Training:                                                                          \n",
      "Epoch: 2 ... Accuracy: 0.7037082126594391 ... Score: -0.7930605569367198           \n",
      "\n",
      "Validation:                                                                        \n",
      "Epoch: 2 ... Accuracy: 0.6923704523222683 ... Score: -0.827661862513509            \n",
      "\n",
      "Training:                                                                          \n",
      "Epoch: 3 ... Accuracy: 0.6725465822590153 ... Score: -0.8941158661609042           \n",
      "\n",
      "Validation:                                                                        \n",
      "Epoch: 3 ... Accuracy: 0.6622127866793677 ... Score: -0.9275553922845927           \n",
      "\n",
      "Training:                                                                          \n",
      "Epoch: 4 ... Accuracy: 0.7120998539098342 ... Score: -0.7723091857395494           \n",
      "\n",
      "Validation:                                                                        \n",
      "Epoch: 4 ... Accuracy: 0.7001576229266605 ... Score: -0.8096938099896199           \n",
      "\n",
      "Training:                                                                          \n",
      "Epoch: 5 ... Accuracy: 0.6463368531665684 ... Score: -0.9736738686555433           \n",
      "\n",
      "Validation:                                                                        \n",
      "Epoch: 5 ... Accuracy: 0.6340243397137157 ... Score: -1.0107084274870464           \n",
      "\n",
      "Class F1 Scores                                                                    \n",
      "Training:                                                                          \n",
      "[0.6276811  0.32749679 0.78211332 0.28588767 0.         0.45349462\n",
      " 0.46332863 0.62517539 0.60066445 0.41857173 0.29438424 0.13483146]\n",
      "\n",
      "Validation:                                                                        \n",
      "[0.6039238  0.31837607 0.77388621 0.27176539 0.         0.43795871\n",
      " 0.46398305 0.61802233 0.51428571 0.40294265 0.24250681 0.        ]\n",
      "\n",
      "Training Runtime: 384.19155192375183                                               \n",
      "\n",
      "Model Fitting Complete                                                             \n",
      "Fold 0 Validation Score: 0.3005456768377338                                        \n",
      "********************************                                                   \n",
      "F1 Score too low ... stopped early.                                                \n",
      "********************************                                                   \n",
      "{'hidden_dim': 275, 'n_layers': 2, 'window_size': 2}                               \n",
      "--------------------------------                                                   \n",
      "FOLD 0                                                                             \n",
      "--------------------------------                                                   \n",
      "Device is cuda:0.                                                                  \n",
      "\n",
      " 78%|███████▊  | 39/50 [8:29:05<1:32:59, 507.22s/it, best loss: -0.352691566326805]"
     ]
    },
    {
     "data": {
      "text/html": [
       "Finishing last run (ID:mi5d40yx) before initializing another..."
      ],
      "text/plain": [
       "<IPython.core.display.HTML object>"
      ]
     },
     "metadata": {},
     "output_type": "display_data"
    },
    {
     "data": {
      "text/html": [
       "<br/>Waiting for W&B process to finish, PID 193740... <strong style=\"color:green\">(success).</strong>"
      ],
      "text/plain": [
       "<IPython.core.display.HTML object>"
      ]
     },
     "metadata": {},
     "output_type": "display_data"
    },
    {
     "data": {
      "application/vnd.jupyter.widget-view+json": {
       "model_id": "",
       "version_major": 2,
       "version_minor": 0
      },
      "text/plain": [
       "VBox(children=(Label(value=' 0.00MB of 0.00MB uploaded (0.00MB deduped)\\r'), FloatProgress(value=1.0, max=1.0)…"
      ]
     },
     "metadata": {},
     "output_type": "display_data"
    },
    {
     "data": {
      "text/html": [
       "<style>\n",
       "    table.wandb td:nth-child(1) { padding: 0 10px; text-align: right }\n",
       "    .wandb-row { display: flex; flex-direction: row; flex-wrap: wrap; width: 100% }\n",
       "    .wandb-col { display: flex; flex-direction: column; flex-basis: 100%; flex: 1; padding: 10px; }\n",
       "    </style>\n",
       "<div class=\"wandb-row\"><div class=\"wandb-col\">\n",
       "</div><div class=\"wandb-col\">\n",
       "<h3>Run summary:</h3><br/><table class=\"wandb\"><tr><td>train_accuracy</td><td>0.64634</td></tr><tr><td>train_batch_loss</td><td>1.18513</td></tr><tr><td>train_epoch_loss</td><td>1.35269</td></tr><tr><td>train_score</td><td>-0.97367</td></tr><tr><td>valid_accuracy</td><td>0.63402</td></tr><tr><td>valid_epoch_loss</td><td>1.43442</td></tr><tr><td>valid_score</td><td>-1.01071</td></tr></table>\n",
       "</div></div>\n",
       "Synced 6 W&B file(s), 0 media file(s), 0 artifact file(s) and 0 other file(s)\n",
       "<br/>Synced <strong style=\"color:#cdcd00\">trim-donkey-84</strong>: <a href=\"https://wandb.ai/2djagpal/Lithology-LSTM_search_new/runs/mi5d40yx\" target=\"_blank\">https://wandb.ai/2djagpal/Lithology-LSTM_search_new/runs/mi5d40yx</a><br/>\n",
       "Find logs at: <code>./wandb/run-20211205_234540-mi5d40yx/logs</code><br/>\n"
      ],
      "text/plain": [
       "<IPython.core.display.HTML object>"
      ]
     },
     "metadata": {},
     "output_type": "display_data"
    },
    {
     "data": {
      "text/html": [
       "Successfully finished last run (ID:mi5d40yx). Initializing new run:<br/>"
      ],
      "text/plain": [
       "<IPython.core.display.HTML object>"
      ]
     },
     "metadata": {},
     "output_type": "display_data"
    },
    {
     "data": {
      "text/html": [
       "\n",
       "                    Syncing run <strong><a href=\"https://wandb.ai/2djagpal/Lithology-LSTM_search_new/runs/2801ivd0\" target=\"_blank\">neat-hill-85</a></strong> to <a href=\"https://wandb.ai/2djagpal/Lithology-LSTM_search_new\" target=\"_blank\">Weights & Biases</a> (<a href=\"https://docs.wandb.com/integrations/jupyter.html\" target=\"_blank\">docs</a>).<br/>\n",
       "\n",
       "                "
      ],
      "text/plain": [
       "<IPython.core.display.HTML object>"
      ]
     },
     "metadata": {},
     "output_type": "display_data"
    },
    {
     "name": "stdout",
     "output_type": "stream",
     "text": [
      "Loading Data ...                                                                   \n",
      "\n",
      "Starting training...                                                               \n",
      "\n",
      "Training:                                                                          \n",
      "Epoch: 1 ... Accuracy: 0.6675978846827452 ... Score: -0.947135223107876            \n",
      "\n",
      "Validation:                                                                        \n",
      "Epoch: 1 ... Accuracy: 0.6643101540774787 ... Score: -0.9589593042378782           \n",
      "\n",
      "Training:                                                                          \n",
      "Epoch: 2 ... Accuracy: 0.5191006484352975 ... Score: -1.3163468808468104           \n",
      "\n",
      "Validation:                                                                        \n",
      "Epoch: 2 ... Accuracy: 0.5128041930261467 ... Score: -1.3365334916681972           \n",
      "\n",
      "Training:                                                                          \n",
      "Epoch: 3 ... Accuracy: 0.7038929611878583 ... Score: -0.7682671442362731           \n",
      "\n",
      "Validation:                                                                        \n",
      "Epoch: 3 ... Accuracy: 0.6959885178746108 ... Score: -0.793314801604422            \n",
      "\n",
      "Training:                                                                          \n",
      "Epoch: 4 ... Accuracy: 0.6814668392410146 ... Score: -0.8737537483660969           \n",
      "\n",
      "Validation:                                                                        \n",
      "Epoch: 4 ... Accuracy: 0.6738102459173954 ... Score: -0.897516798161493            \n",
      "\n",
      "Training:                                                                          \n",
      "Epoch: 5 ... Accuracy: 0.6430669110046048 ... Score: -0.9529230314136573           \n",
      "\n",
      "Validation:                                                                        \n",
      "Epoch: 5 ... Accuracy: 0.6357030879570104 ... Score: -0.9751626420848942           \n",
      "\n",
      "Class F1 Scores                                                                    \n",
      "Training:                                                                          \n",
      "[0.60332355 0.3075243  0.78742532 0.26182164 0.         0.42990417\n",
      " 0.5050754  0.91498146 0.67540984 0.30284886 0.26783715 0.09302326]\n",
      "\n",
      "Validation:                                                                        \n",
      "[0.58845318 0.29958029 0.78295343 0.25214773 0.         0.41598228\n",
      " 0.50403331 0.91010609 0.63978495 0.29990467 0.24255524 0.17391304]\n",
      "\n",
      "Training Runtime: 397.1120219230652                                                \n",
      "\n",
      "Model Fitting Complete                                                             \n",
      "Fold 0 Validation Score: 0.2700788637565799                                        \n",
      "********************************                                                   \n",
      "F1 Score too low ... stopped early.                                                \n",
      "********************************                                                   \n",
      "{'hidden_dim': 321, 'n_layers': 1, 'window_size': 9}                               \n",
      "--------------------------------                                                   \n",
      "FOLD 0                                                                             \n",
      "--------------------------------                                                   \n",
      "Device is cuda:0.                                                                  \n",
      "\n",
      " 80%|████████  | 40/50 [8:35:46<1:19:12, 475.21s/it, best loss: -0.352691566326805]"
     ]
    },
    {
     "data": {
      "text/html": [
       "Finishing last run (ID:2801ivd0) before initializing another..."
      ],
      "text/plain": [
       "<IPython.core.display.HTML object>"
      ]
     },
     "metadata": {},
     "output_type": "display_data"
    },
    {
     "data": {
      "text/html": [
       "<br/>Waiting for W&B process to finish, PID 195496... <strong style=\"color:green\">(success).</strong>"
      ],
      "text/plain": [
       "<IPython.core.display.HTML object>"
      ]
     },
     "metadata": {},
     "output_type": "display_data"
    },
    {
     "data": {
      "application/vnd.jupyter.widget-view+json": {
       "model_id": "",
       "version_major": 2,
       "version_minor": 0
      },
      "text/plain": [
       "VBox(children=(Label(value=' 0.00MB of 0.00MB uploaded (0.00MB deduped)\\r'), FloatProgress(value=1.0, max=1.0)…"
      ]
     },
     "metadata": {},
     "output_type": "display_data"
    },
    {
     "data": {
      "text/html": [
       "<style>\n",
       "    table.wandb td:nth-child(1) { padding: 0 10px; text-align: right }\n",
       "    .wandb-row { display: flex; flex-direction: row; flex-wrap: wrap; width: 100% }\n",
       "    .wandb-col { display: flex; flex-direction: column; flex-basis: 100%; flex: 1; padding: 10px; }\n",
       "    </style>\n",
       "<div class=\"wandb-row\"><div class=\"wandb-col\">\n",
       "</div><div class=\"wandb-col\">\n",
       "<h3>Run summary:</h3><br/><table class=\"wandb\"><tr><td>train_accuracy</td><td>0.64307</td></tr><tr><td>train_batch_loss</td><td>1.36945</td></tr><tr><td>train_epoch_loss</td><td>1.33477</td></tr><tr><td>train_score</td><td>-0.95292</td></tr><tr><td>valid_accuracy</td><td>0.6357</td></tr><tr><td>valid_epoch_loss</td><td>1.36599</td></tr><tr><td>valid_score</td><td>-0.97516</td></tr></table>\n",
       "</div></div>\n",
       "Synced 6 W&B file(s), 0 media file(s), 0 artifact file(s) and 0 other file(s)\n",
       "<br/>Synced <strong style=\"color:#cdcd00\">neat-hill-85</strong>: <a href=\"https://wandb.ai/2djagpal/Lithology-LSTM_search_new/runs/2801ivd0\" target=\"_blank\">https://wandb.ai/2djagpal/Lithology-LSTM_search_new/runs/2801ivd0</a><br/>\n",
       "Find logs at: <code>./wandb/run-20211205_235208-2801ivd0/logs</code><br/>\n"
      ],
      "text/plain": [
       "<IPython.core.display.HTML object>"
      ]
     },
     "metadata": {},
     "output_type": "display_data"
    },
    {
     "data": {
      "text/html": [
       "Successfully finished last run (ID:2801ivd0). Initializing new run:<br/>"
      ],
      "text/plain": [
       "<IPython.core.display.HTML object>"
      ]
     },
     "metadata": {},
     "output_type": "display_data"
    },
    {
     "data": {
      "text/html": [
       "\n",
       "                    Syncing run <strong><a href=\"https://wandb.ai/2djagpal/Lithology-LSTM_search_new/runs/5ljgukjt\" target=\"_blank\">proud-gorge-86</a></strong> to <a href=\"https://wandb.ai/2djagpal/Lithology-LSTM_search_new\" target=\"_blank\">Weights & Biases</a> (<a href=\"https://docs.wandb.com/integrations/jupyter.html\" target=\"_blank\">docs</a>).<br/>\n",
       "\n",
       "                "
      ],
      "text/plain": [
       "<IPython.core.display.HTML object>"
      ]
     },
     "metadata": {},
     "output_type": "display_data"
    },
    {
     "name": "stdout",
     "output_type": "stream",
     "text": [
      "Loading Data ...                                                                   \n",
      "\n",
      "Starting training...                                                               \n",
      "\n",
      "Training:                                                                          \n",
      "Epoch: 1 ... Accuracy: 0.6627346199519868 ... Score: -0.9409285268814448           \n",
      "\n",
      "Validation:                                                                        \n",
      "Epoch: 1 ... Accuracy: 0.6492227780079709 ... Score: -0.9847262743322384           \n",
      "\n",
      "Training:                                                                          \n",
      "Epoch: 2 ... Accuracy: 0.5558036667777294 ... Score: -1.3322591487898436           \n",
      "\n",
      "Validation:                                                                        \n",
      "Epoch: 2 ... Accuracy: 0.5464475038764988 ... Score: -1.3657417888707108           \n",
      "\n",
      "Training:                                                                          \n",
      "Epoch: 3 ... Accuracy: 0.6935961674825504 ... Score: -0.8230667081015968           \n",
      "\n",
      "Validation:                                                                        \n",
      "Epoch: 3 ... Accuracy: 0.6802304968325907 ... Score: -0.8630036778682888           \n",
      "\n",
      "Training:                                                                          \n",
      "Epoch: 4 ... Accuracy: 0.6434374759720122 ... Score: -1.000731919206158            \n",
      "\n",
      "Validation:                                                                        \n",
      "Epoch: 4 ... Accuracy: 0.6326446051524329 ... Score: -1.038046821270979            \n",
      "\n",
      "Training:                                                                          \n",
      "Epoch: 5 ... Accuracy: 0.6935619943443456 ... Score: -0.7990965209609486           \n",
      "\n",
      "Validation:                                                                        \n",
      "Epoch: 5 ... Accuracy: 0.6783039943956293 ... Score: -0.8477267484825055           \n",
      "\n",
      "Class F1 Scores                                                                    \n",
      "Training:                                                                          \n",
      "[0.65712132 0.37910094 0.82644331 0.22267984 0.         0.39018673\n",
      " 0.54732066 0.96595265 0.58996328 0.51990068 0.56825297 0.        ]\n",
      "\n",
      "Validation:                                                                        \n",
      "[0.62625348 0.36877632 0.81495547 0.22269334 0.         0.37108539\n",
      " 0.56269384 0.96129613 0.60777385 0.48816136 0.45091401 0.        ]\n",
      "\n",
      "Training Runtime: 396.92503571510315                                               \n",
      "\n",
      "Model Fitting Complete                                                             \n",
      "Fold 0 Validation Score: 0.4338068845079186                                        \n",
      "--------------------------------                                                   \n",
      "FOLD 1                                                                             \n",
      "--------------------------------                                                   \n",
      "Device is cuda:0.                                                                  \n",
      "\n",
      " 80%|████████  | 40/50 [8:42:26<1:19:12, 475.21s/it, best loss: -0.352691566326805]"
     ]
    },
    {
     "data": {
      "text/html": [
       "Finishing last run (ID:5ljgukjt) before initializing another..."
      ],
      "text/plain": [
       "<IPython.core.display.HTML object>"
      ]
     },
     "metadata": {},
     "output_type": "display_data"
    },
    {
     "data": {
      "text/html": [
       "<br/>Waiting for W&B process to finish, PID 197323... <strong style=\"color:green\">(success).</strong>"
      ],
      "text/plain": [
       "<IPython.core.display.HTML object>"
      ]
     },
     "metadata": {},
     "output_type": "display_data"
    },
    {
     "data": {
      "application/vnd.jupyter.widget-view+json": {
       "model_id": "",
       "version_major": 2,
       "version_minor": 0
      },
      "text/plain": [
       "VBox(children=(Label(value=' 0.00MB of 0.00MB uploaded (0.00MB deduped)\\r'), FloatProgress(value=1.0, max=1.0)…"
      ]
     },
     "metadata": {},
     "output_type": "display_data"
    },
    {
     "data": {
      "text/html": [
       "<style>\n",
       "    table.wandb td:nth-child(1) { padding: 0 10px; text-align: right }\n",
       "    .wandb-row { display: flex; flex-direction: row; flex-wrap: wrap; width: 100% }\n",
       "    .wandb-col { display: flex; flex-direction: column; flex-basis: 100%; flex: 1; padding: 10px; }\n",
       "    </style>\n",
       "<div class=\"wandb-row\"><div class=\"wandb-col\">\n",
       "</div><div class=\"wandb-col\">\n",
       "<h3>Run summary:</h3><br/><table class=\"wandb\"><tr><td>train_accuracy</td><td>0.69356</td></tr><tr><td>train_batch_loss</td><td>1.06088</td></tr><tr><td>train_epoch_loss</td><td>1.31656</td></tr><tr><td>train_score</td><td>-0.7991</td></tr><tr><td>valid_accuracy</td><td>0.6783</td></tr><tr><td>valid_epoch_loss</td><td>1.39297</td></tr><tr><td>valid_score</td><td>-0.84773</td></tr></table>\n",
       "</div></div>\n",
       "Synced 6 W&B file(s), 0 media file(s), 0 artifact file(s) and 0 other file(s)\n",
       "<br/>Synced <strong style=\"color:#cdcd00\">proud-gorge-86</strong>: <a href=\"https://wandb.ai/2djagpal/Lithology-LSTM_search_new/runs/5ljgukjt\" target=\"_blank\">https://wandb.ai/2djagpal/Lithology-LSTM_search_new/runs/5ljgukjt</a><br/>\n",
       "Find logs at: <code>./wandb/run-20211205_235848-5ljgukjt/logs</code><br/>\n"
      ],
      "text/plain": [
       "<IPython.core.display.HTML object>"
      ]
     },
     "metadata": {},
     "output_type": "display_data"
    },
    {
     "data": {
      "text/html": [
       "Successfully finished last run (ID:5ljgukjt). Initializing new run:<br/>"
      ],
      "text/plain": [
       "<IPython.core.display.HTML object>"
      ]
     },
     "metadata": {},
     "output_type": "display_data"
    },
    {
     "data": {
      "text/html": [
       "\n",
       "                    Syncing run <strong><a href=\"https://wandb.ai/2djagpal/Lithology-LSTM_search_new/runs/i1x3d6q3\" target=\"_blank\">gentle-bird-87</a></strong> to <a href=\"https://wandb.ai/2djagpal/Lithology-LSTM_search_new\" target=\"_blank\">Weights & Biases</a> (<a href=\"https://docs.wandb.com/integrations/jupyter.html\" target=\"_blank\">docs</a>).<br/>\n",
       "\n",
       "                "
      ],
      "text/plain": [
       "<IPython.core.display.HTML object>"
      ]
     },
     "metadata": {},
     "output_type": "display_data"
    },
    {
     "name": "stdout",
     "output_type": "stream",
     "text": [
      "Loading Data ...                                                                   \n",
      "\n",
      "Starting training...                                                               \n",
      "\n",
      "Training:                                                                          \n",
      "Epoch: 1 ... Accuracy: 0.6631365140659691 ... Score: -0.9440721148557949           \n",
      "\n",
      "Validation:                                                                        \n",
      "Epoch: 1 ... Accuracy: 0.649315255743223 ... Score: -0.9932518731151379            \n",
      "\n",
      "Training:                                                                          \n",
      "Epoch: 2 ... Accuracy: 0.7039883213424903 ... Score: -0.7769462916311142           \n",
      "\n",
      "Validation:                                                                        \n",
      "Epoch: 2 ... Accuracy: 0.6868373614919993 ... Score: -0.8289602395536988           \n",
      "\n",
      "Training:                                                                          \n",
      "Epoch: 3 ... Accuracy: 0.6814500928547248 ... Score: -0.8527338214391361           \n",
      "\n",
      "Validation:                                                                        \n",
      "Epoch: 3 ... Accuracy: 0.6655346814636355 ... Score: -0.9021398791979565           \n",
      "\n",
      "Training:                                                                          \n",
      "Epoch: 4 ... Accuracy: 0.6827785721837359 ... Score: -0.840643885310799            \n",
      "\n",
      "Validation:                                                                        \n",
      "Epoch: 4 ... Accuracy: 0.6672518816584224 ... Score: -0.8844835798070927           \n",
      "\n",
      "Training:                                                                          \n",
      "Epoch: 5 ... Accuracy: 0.7129683717264571 ... Score: -0.7560607864725777           \n",
      "\n",
      "Validation:                                                                        \n",
      "Epoch: 5 ... Accuracy: 0.698571562823043 ... Score: -0.8009382662258332            \n",
      "\n",
      "Class F1 Scores                                                                    \n",
      "Training:                                                                          \n",
      "[0.60929492 0.30340492 0.8410589  0.28925355 0.         0.47465028\n",
      " 0.53722028 0.96055094 0.65432836 0.40481704 0.55450592 0.13333333]\n",
      "\n",
      "Validation:                                                                        \n",
      "[0.57049394 0.29027819 0.83325653 0.2792762  0.         0.44494422\n",
      " 0.54098894 0.95371753 0.6142132  0.39728003 0.40710209 0.18181818]\n",
      "\n",
      "Training Runtime: 396.12106704711914                                               \n",
      "\n",
      "Model Fitting Complete                                                             \n",
      "Fold 1 Validation Score: 0.42427467495460036                                       \n",
      "--------------------------------                                                   \n",
      "FOLD 2                                                                             \n",
      "--------------------------------                                                   \n",
      "Device is cuda:0.                                                                  \n",
      "\n",
      " 80%|████████  | 40/50 [8:49:05<1:19:12, 475.21s/it, best loss: -0.352691566326805]"
     ]
    },
    {
     "data": {
      "text/html": [
       "Finishing last run (ID:i1x3d6q3) before initializing another..."
      ],
      "text/plain": [
       "<IPython.core.display.HTML object>"
      ]
     },
     "metadata": {},
     "output_type": "display_data"
    },
    {
     "data": {
      "text/html": [
       "<br/>Waiting for W&B process to finish, PID 199125... <strong style=\"color:green\">(success).</strong>"
      ],
      "text/plain": [
       "<IPython.core.display.HTML object>"
      ]
     },
     "metadata": {},
     "output_type": "display_data"
    },
    {
     "data": {
      "application/vnd.jupyter.widget-view+json": {
       "model_id": "",
       "version_major": 2,
       "version_minor": 0
      },
      "text/plain": [
       "VBox(children=(Label(value=' 0.00MB of 0.00MB uploaded (0.00MB deduped)\\r'), FloatProgress(value=1.0, max=1.0)…"
      ]
     },
     "metadata": {},
     "output_type": "display_data"
    },
    {
     "data": {
      "text/html": [
       "<style>\n",
       "    table.wandb td:nth-child(1) { padding: 0 10px; text-align: right }\n",
       "    .wandb-row { display: flex; flex-direction: row; flex-wrap: wrap; width: 100% }\n",
       "    .wandb-col { display: flex; flex-direction: column; flex-basis: 100%; flex: 1; padding: 10px; }\n",
       "    </style>\n",
       "<div class=\"wandb-row\"><div class=\"wandb-col\">\n",
       "</div><div class=\"wandb-col\">\n",
       "<h3>Run summary:</h3><br/><table class=\"wandb\"><tr><td>train_accuracy</td><td>0.71297</td></tr><tr><td>train_batch_loss</td><td>1.0719</td></tr><tr><td>train_epoch_loss</td><td>1.41107</td></tr><tr><td>train_score</td><td>-0.75606</td></tr><tr><td>valid_accuracy</td><td>0.69857</td></tr><tr><td>valid_epoch_loss</td><td>1.54569</td></tr><tr><td>valid_score</td><td>-0.80094</td></tr></table>\n",
       "</div></div>\n",
       "Synced 6 W&B file(s), 0 media file(s), 0 artifact file(s) and 0 other file(s)\n",
       "<br/>Synced <strong style=\"color:#cdcd00\">gentle-bird-87</strong>: <a href=\"https://wandb.ai/2djagpal/Lithology-LSTM_search_new/runs/i1x3d6q3\" target=\"_blank\">https://wandb.ai/2djagpal/Lithology-LSTM_search_new/runs/i1x3d6q3</a><br/>\n",
       "Find logs at: <code>./wandb/run-20211206_000529-i1x3d6q3/logs</code><br/>\n"
      ],
      "text/plain": [
       "<IPython.core.display.HTML object>"
      ]
     },
     "metadata": {},
     "output_type": "display_data"
    },
    {
     "data": {
      "text/html": [
       "Successfully finished last run (ID:i1x3d6q3). Initializing new run:<br/>"
      ],
      "text/plain": [
       "<IPython.core.display.HTML object>"
      ]
     },
     "metadata": {},
     "output_type": "display_data"
    },
    {
     "data": {
      "text/html": [
       "\n",
       "                    Syncing run <strong><a href=\"https://wandb.ai/2djagpal/Lithology-LSTM_search_new/runs/1kzs6u9p\" target=\"_blank\">grateful-plant-88</a></strong> to <a href=\"https://wandb.ai/2djagpal/Lithology-LSTM_search_new\" target=\"_blank\">Weights & Biases</a> (<a href=\"https://docs.wandb.com/integrations/jupyter.html\" target=\"_blank\">docs</a>).<br/>\n",
       "\n",
       "                "
      ],
      "text/plain": [
       "<IPython.core.display.HTML object>"
      ]
     },
     "metadata": {},
     "output_type": "display_data"
    },
    {
     "name": "stdout",
     "output_type": "stream",
     "text": [
      "Loading Data ...                                                                   \n",
      "\n",
      "Starting training...                                                               \n",
      "\n",
      "Training:                                                                          \n",
      "Epoch: 1 ... Accuracy: 0.6732699066326787 ... Score: -0.9173591614348003           \n",
      "\n",
      "Validation:                                                                        \n",
      "Epoch: 1 ... Accuracy: 0.6628435468300142 ... Score: -0.9494531229976677           \n",
      "\n",
      "Training:                                                                          \n",
      "Epoch: 2 ... Accuracy: 0.6842448118290192 ... Score: -0.8666739106522897           \n",
      "\n",
      "Validation:                                                                        \n",
      "Epoch: 2 ... Accuracy: 0.6704855148610435 ... Score: -0.9161161587684001           \n",
      "\n",
      "Training:                                                                          \n",
      "Epoch: 3 ... Accuracy: 0.5014486191397135 ... Score: -1.2700653507174748           \n",
      "\n",
      "Validation:                                                                        \n",
      "Epoch: 3 ... Accuracy: 0.48498944904357927 ... Score: -1.315460782052268           \n",
      "\n",
      "Training:                                                                          \n",
      "Epoch: 4 ... Accuracy: 0.6987160524941559 ... Score: -0.8046940492882918           \n",
      "\n",
      "Validation:                                                                        \n",
      "Epoch: 4 ... Accuracy: 0.6828220177529453 ... Score: -0.8523138418296298           \n",
      "\n",
      "Training:                                                                          \n",
      "Epoch: 5 ... Accuracy: 0.6596572651480282 ... Score: -0.9278556432071883           \n",
      "\n",
      "Validation:                                                                        \n",
      "Epoch: 5 ... Accuracy: 0.6436254282321381 ... Score: -0.9786999897480585           \n",
      "\n",
      "Class F1 Scores                                                                    \n",
      "Training:                                                                          \n",
      "[0.66994415 0.32159636 0.79768941 0.28983267 0.         0.41410109\n",
      " 0.13549597 0.84182261 0.5917454  0.47627195 0.4083303  0.15555556]\n",
      "\n",
      "Validation:                                                                        \n",
      "[0.63029379 0.30973536 0.78930505 0.27955373 0.         0.39117675\n",
      " 0.12062084 0.84115884 0.56596558 0.46507177 0.34473684 0.09090909]\n",
      "\n",
      "Training Runtime: 395.67777609825134                                               \n",
      "\n",
      "Model Fitting Complete                                                             \n",
      "Fold 2 Validation Score: 0.37178013841711804                                       \n",
      "--------------------------------                                                   \n",
      "FOLD 3                                                                             \n",
      "--------------------------------                                                   \n",
      "Device is cuda:0.                                                                  \n",
      "\n",
      " 80%|████████  | 40/50 [8:55:44<1:19:12, 475.21s/it, best loss: -0.352691566326805]"
     ]
    },
    {
     "data": {
      "text/html": [
       "Finishing last run (ID:1kzs6u9p) before initializing another..."
      ],
      "text/plain": [
       "<IPython.core.display.HTML object>"
      ]
     },
     "metadata": {},
     "output_type": "display_data"
    },
    {
     "data": {
      "text/html": [
       "<br/>Waiting for W&B process to finish, PID 200893... <strong style=\"color:green\">(success).</strong>"
      ],
      "text/plain": [
       "<IPython.core.display.HTML object>"
      ]
     },
     "metadata": {},
     "output_type": "display_data"
    },
    {
     "data": {
      "application/vnd.jupyter.widget-view+json": {
       "model_id": "",
       "version_major": 2,
       "version_minor": 0
      },
      "text/plain": [
       "VBox(children=(Label(value=' 0.00MB of 0.00MB uploaded (0.00MB deduped)\\r'), FloatProgress(value=1.0, max=1.0)…"
      ]
     },
     "metadata": {},
     "output_type": "display_data"
    },
    {
     "data": {
      "text/html": [
       "<style>\n",
       "    table.wandb td:nth-child(1) { padding: 0 10px; text-align: right }\n",
       "    .wandb-row { display: flex; flex-direction: row; flex-wrap: wrap; width: 100% }\n",
       "    .wandb-col { display: flex; flex-direction: column; flex-basis: 100%; flex: 1; padding: 10px; }\n",
       "    </style>\n",
       "<div class=\"wandb-row\"><div class=\"wandb-col\">\n",
       "</div><div class=\"wandb-col\">\n",
       "<h3>Run summary:</h3><br/><table class=\"wandb\"><tr><td>train_accuracy</td><td>0.65966</td></tr><tr><td>train_batch_loss</td><td>1.89471</td></tr><tr><td>train_epoch_loss</td><td>1.21611</td></tr><tr><td>train_score</td><td>-0.92786</td></tr><tr><td>valid_accuracy</td><td>0.64363</td></tr><tr><td>valid_epoch_loss</td><td>1.2836</td></tr><tr><td>valid_score</td><td>-0.9787</td></tr></table>\n",
       "</div></div>\n",
       "Synced 6 W&B file(s), 0 media file(s), 0 artifact file(s) and 0 other file(s)\n",
       "<br/>Synced <strong style=\"color:#cdcd00\">grateful-plant-88</strong>: <a href=\"https://wandb.ai/2djagpal/Lithology-LSTM_search_new/runs/1kzs6u9p\" target=\"_blank\">https://wandb.ai/2djagpal/Lithology-LSTM_search_new/runs/1kzs6u9p</a><br/>\n",
       "Find logs at: <code>./wandb/run-20211206_001208-1kzs6u9p/logs</code><br/>\n"
      ],
      "text/plain": [
       "<IPython.core.display.HTML object>"
      ]
     },
     "metadata": {},
     "output_type": "display_data"
    },
    {
     "data": {
      "text/html": [
       "Successfully finished last run (ID:1kzs6u9p). Initializing new run:<br/>"
      ],
      "text/plain": [
       "<IPython.core.display.HTML object>"
      ]
     },
     "metadata": {},
     "output_type": "display_data"
    },
    {
     "data": {
      "text/html": [
       "\n",
       "                    Syncing run <strong><a href=\"https://wandb.ai/2djagpal/Lithology-LSTM_search_new/runs/1jas22pg\" target=\"_blank\">dark-snowball-89</a></strong> to <a href=\"https://wandb.ai/2djagpal/Lithology-LSTM_search_new\" target=\"_blank\">Weights & Biases</a> (<a href=\"https://docs.wandb.com/integrations/jupyter.html\" target=\"_blank\">docs</a>).<br/>\n",
       "\n",
       "                "
      ],
      "text/plain": [
       "<IPython.core.display.HTML object>"
      ]
     },
     "metadata": {},
     "output_type": "display_data"
    },
    {
     "name": "stdout",
     "output_type": "stream",
     "text": [
      "Loading Data ...                                                                   \n",
      "\n",
      "Starting training...                                                               \n",
      "\n",
      "Training:                                                                          \n",
      "Epoch: 1 ... Accuracy: 0.6360383123186556 ... Score: -1.0205832867902807           \n",
      "\n",
      "Validation:                                                                        \n",
      "Epoch: 1 ... Accuracy: 0.6195034643018855 ... Score: -1.0666365515886238           \n",
      "\n",
      "Training:                                                                          \n",
      "Epoch: 2 ... Accuracy: 0.6688274034102619 ... Score: -0.9348615295239581           \n",
      "\n",
      "Validation:                                                                        \n",
      "Epoch: 2 ... Accuracy: 0.6524848143117102 ... Score: -0.9839247422063887           \n",
      "\n",
      "Training:                                                                          \n",
      "Epoch: 3 ... Accuracy: 0.6839062845401955 ... Score: -0.8576833146627169           \n",
      "\n",
      "Validation:                                                                        \n",
      "Epoch: 3 ... Accuracy: 0.6669998547641627 ... Score: -0.9045656380552067           \n",
      "\n",
      "Training:                                                                          \n",
      "Epoch: 4 ... Accuracy: 0.6441618993409931 ... Score: -0.9397338662913322           \n",
      "\n",
      "Validation:                                                                        \n",
      "Epoch: 4 ... Accuracy: 0.6247618559431359 ... Score: -0.9944265747409249           \n",
      "\n",
      "Training:                                                                          \n",
      "Epoch: 5 ... Accuracy: 0.6701238454564191 ... Score: -0.8415812428116347           \n",
      "\n",
      "Validation:                                                                        \n",
      "Epoch: 5 ... Accuracy: 0.6521089097914584 ... Score: -0.8932521934883085           \n",
      "\n",
      "Class F1 Scores                                                                    \n",
      "Training:                                                                          \n",
      "[0.66167474 0.3884406  0.80034663 0.18145111 0.         0.4452122\n",
      " 0.53857971 0.92320795 0.43       0.38315386 0.51915364 0.17582418]\n",
      "\n",
      "Validation:                                                                        \n",
      "[0.61255625 0.37652056 0.78932828 0.1797725  0.         0.42838767\n",
      " 0.54634831 0.93444508 0.45406824 0.37755331 0.43533487 0.        ]\n",
      "\n",
      "Training Runtime: 395.48487639427185                                               \n",
      "\n",
      "Model Fitting Complete                                                             \n",
      "Fold 3 Validation Score: 0.32172234668904576                                       \n",
      "********************************                                                   \n",
      "F1 Score too low ... stopped early.                                                \n",
      "********************************                                                   \n",
      "{'hidden_dim': 319, 'n_layers': 1, 'window_size': 8}                               \n",
      "--------------------------------                                                   \n",
      "FOLD 0                                                                             \n",
      "--------------------------------                                                   \n",
      "Device is cuda:0.                                                                  \n",
      "\n",
      " 82%|████████▏ | 41/50 [9:02:23<2:01:47, 811.92s/it, best loss: -0.352691566326805]"
     ]
    },
    {
     "data": {
      "text/html": [
       "Finishing last run (ID:1jas22pg) before initializing another..."
      ],
      "text/plain": [
       "<IPython.core.display.HTML object>"
      ]
     },
     "metadata": {},
     "output_type": "display_data"
    },
    {
     "data": {
      "text/html": [
       "<br/>Waiting for W&B process to finish, PID 202639... <strong style=\"color:green\">(success).</strong>"
      ],
      "text/plain": [
       "<IPython.core.display.HTML object>"
      ]
     },
     "metadata": {},
     "output_type": "display_data"
    },
    {
     "data": {
      "application/vnd.jupyter.widget-view+json": {
       "model_id": "",
       "version_major": 2,
       "version_minor": 0
      },
      "text/plain": [
       "VBox(children=(Label(value=' 0.00MB of 0.00MB uploaded (0.00MB deduped)\\r'), FloatProgress(value=1.0, max=1.0)…"
      ]
     },
     "metadata": {},
     "output_type": "display_data"
    },
    {
     "data": {
      "text/html": [
       "<style>\n",
       "    table.wandb td:nth-child(1) { padding: 0 10px; text-align: right }\n",
       "    .wandb-row { display: flex; flex-direction: row; flex-wrap: wrap; width: 100% }\n",
       "    .wandb-col { display: flex; flex-direction: column; flex-basis: 100%; flex: 1; padding: 10px; }\n",
       "    </style>\n",
       "<div class=\"wandb-row\"><div class=\"wandb-col\">\n",
       "</div><div class=\"wandb-col\">\n",
       "<h3>Run summary:</h3><br/><table class=\"wandb\"><tr><td>train_accuracy</td><td>0.67012</td></tr><tr><td>train_batch_loss</td><td>0.95227</td></tr><tr><td>train_epoch_loss</td><td>1.39334</td></tr><tr><td>train_score</td><td>-0.84158</td></tr><tr><td>valid_accuracy</td><td>0.65211</td></tr><tr><td>valid_epoch_loss</td><td>1.47669</td></tr><tr><td>valid_score</td><td>-0.89325</td></tr></table>\n",
       "</div></div>\n",
       "Synced 6 W&B file(s), 0 media file(s), 0 artifact file(s) and 0 other file(s)\n",
       "<br/>Synced <strong style=\"color:#cdcd00\">dark-snowball-89</strong>: <a href=\"https://wandb.ai/2djagpal/Lithology-LSTM_search_new/runs/1jas22pg\" target=\"_blank\">https://wandb.ai/2djagpal/Lithology-LSTM_search_new/runs/1jas22pg</a><br/>\n",
       "Find logs at: <code>./wandb/run-20211206_001847-1jas22pg/logs</code><br/>\n"
      ],
      "text/plain": [
       "<IPython.core.display.HTML object>"
      ]
     },
     "metadata": {},
     "output_type": "display_data"
    },
    {
     "data": {
      "text/html": [
       "Successfully finished last run (ID:1jas22pg). Initializing new run:<br/>"
      ],
      "text/plain": [
       "<IPython.core.display.HTML object>"
      ]
     },
     "metadata": {},
     "output_type": "display_data"
    },
    {
     "data": {
      "text/html": [
       "\n",
       "                    Syncing run <strong><a href=\"https://wandb.ai/2djagpal/Lithology-LSTM_search_new/runs/3d5iqpbt\" target=\"_blank\">revived-sea-90</a></strong> to <a href=\"https://wandb.ai/2djagpal/Lithology-LSTM_search_new\" target=\"_blank\">Weights & Biases</a> (<a href=\"https://docs.wandb.com/integrations/jupyter.html\" target=\"_blank\">docs</a>).<br/>\n",
       "\n",
       "                "
      ],
      "text/plain": [
       "<IPython.core.display.HTML object>"
      ]
     },
     "metadata": {},
     "output_type": "display_data"
    },
    {
     "name": "stdout",
     "output_type": "stream",
     "text": [
      "Loading Data ...                                                                   \n",
      "\n",
      "Starting training...                                                               \n",
      "\n",
      "Training:                                                                          \n",
      "Epoch: 1 ... Accuracy: 0.5690318749946605 ... Score: -1.1891258938411462           \n",
      "\n",
      "Validation:                                                                        \n",
      "Epoch: 1 ... Accuracy: 0.5516802433117047 ... Score: -1.240243610718359            \n",
      "\n",
      "Training:                                                                          \n",
      "Epoch: 2 ... Accuracy: 0.49723197580541817 ... Score: -1.2696637042827486          \n",
      "\n",
      "Validation:                                                                        \n",
      "Epoch: 2 ... Accuracy: 0.478413347970765 ... Score: -1.3216185824188498            \n",
      "\n",
      "Training:                                                                          \n",
      "Epoch: 3 ... Accuracy: 0.6687127833166739 ... Score: -0.8596418441534032           \n",
      "\n",
      "Validation:                                                                        \n",
      "Epoch: 3 ... Accuracy: 0.6565443415932304 ... Score: -0.8980075009717945           \n",
      "\n",
      "Training:                                                                          \n",
      "Epoch: 4 ... Accuracy: 0.6233949304149473 ... Score: -1.0375219722599551           \n",
      "\n",
      "Validation:                                                                        \n",
      "Epoch: 4 ... Accuracy: 0.6103723574665852 ... Score: -1.0799813543611145           \n",
      "\n",
      "Training:                                                                          \n",
      "Epoch: 5 ... Accuracy: 0.7322577338083399 ... Score: -0.6832243530597774           \n",
      "\n",
      "Validation:                                                                        \n",
      "Epoch: 5 ... Accuracy: 0.7146213418879724 ... Score: -0.7372903166554893           \n",
      "\n",
      "Class F1 Scores                                                                    \n",
      "Training:                                                                          \n",
      "[0.64914653 0.32503359 0.85997813 0.30811816 0.         0.44078066\n",
      " 0.53012857 0.95754543 0.69392146 0.58265291 0.48130081 0.        ]\n",
      "\n",
      "Validation:                                                                        \n",
      "[0.60257513 0.31280092 0.8493926  0.30712401 0.         0.4119798\n",
      " 0.53196378 0.95703355 0.67549669 0.5657864  0.38041431 0.        ]\n",
      "\n",
      "Training Runtime: 390.66952443122864                                               \n",
      "\n",
      "Model Fitting Complete                                                             \n",
      "Fold 0 Validation Score: 0.4413721281003814                                        \n",
      "--------------------------------                                                   \n",
      "FOLD 1                                                                             \n",
      "--------------------------------                                                   \n",
      "Device is cuda:0.                                                                  \n",
      "\n",
      " 82%|████████▏ | 41/50 [9:08:57<2:01:47, 811.92s/it, best loss: -0.352691566326805]"
     ]
    },
    {
     "data": {
      "text/html": [
       "Finishing last run (ID:3d5iqpbt) before initializing another..."
      ],
      "text/plain": [
       "<IPython.core.display.HTML object>"
      ]
     },
     "metadata": {},
     "output_type": "display_data"
    },
    {
     "data": {
      "text/html": [
       "<br/>Waiting for W&B process to finish, PID 204369... <strong style=\"color:green\">(success).</strong>"
      ],
      "text/plain": [
       "<IPython.core.display.HTML object>"
      ]
     },
     "metadata": {},
     "output_type": "display_data"
    },
    {
     "data": {
      "application/vnd.jupyter.widget-view+json": {
       "model_id": "",
       "version_major": 2,
       "version_minor": 0
      },
      "text/plain": [
       "VBox(children=(Label(value=' 0.00MB of 0.00MB uploaded (0.00MB deduped)\\r'), FloatProgress(value=1.0, max=1.0)…"
      ]
     },
     "metadata": {},
     "output_type": "display_data"
    },
    {
     "data": {
      "text/html": [
       "<style>\n",
       "    table.wandb td:nth-child(1) { padding: 0 10px; text-align: right }\n",
       "    .wandb-row { display: flex; flex-direction: row; flex-wrap: wrap; width: 100% }\n",
       "    .wandb-col { display: flex; flex-direction: column; flex-basis: 100%; flex: 1; padding: 10px; }\n",
       "    </style>\n",
       "<div class=\"wandb-row\"><div class=\"wandb-col\">\n",
       "</div><div class=\"wandb-col\">\n",
       "<h3>Run summary:</h3><br/><table class=\"wandb\"><tr><td>train_accuracy</td><td>0.73226</td></tr><tr><td>train_batch_loss</td><td>2.30277</td></tr><tr><td>train_epoch_loss</td><td>1.29334</td></tr><tr><td>train_score</td><td>-0.68322</td></tr><tr><td>valid_accuracy</td><td>0.71462</td></tr><tr><td>valid_epoch_loss</td><td>1.37562</td></tr><tr><td>valid_score</td><td>-0.73729</td></tr></table>\n",
       "</div></div>\n",
       "Synced 6 W&B file(s), 0 media file(s), 0 artifact file(s) and 0 other file(s)\n",
       "<br/>Synced <strong style=\"color:#cdcd00\">revived-sea-90</strong>: <a href=\"https://wandb.ai/2djagpal/Lithology-LSTM_search_new/runs/3d5iqpbt\" target=\"_blank\">https://wandb.ai/2djagpal/Lithology-LSTM_search_new/runs/3d5iqpbt</a><br/>\n",
       "Find logs at: <code>./wandb/run-20211206_002526-3d5iqpbt/logs</code><br/>\n"
      ],
      "text/plain": [
       "<IPython.core.display.HTML object>"
      ]
     },
     "metadata": {},
     "output_type": "display_data"
    },
    {
     "data": {
      "text/html": [
       "Successfully finished last run (ID:3d5iqpbt). Initializing new run:<br/>"
      ],
      "text/plain": [
       "<IPython.core.display.HTML object>"
      ]
     },
     "metadata": {},
     "output_type": "display_data"
    },
    {
     "data": {
      "text/html": [
       "\n",
       "                    Syncing run <strong><a href=\"https://wandb.ai/2djagpal/Lithology-LSTM_search_new/runs/37u97yb1\" target=\"_blank\">lemon-pyramid-91</a></strong> to <a href=\"https://wandb.ai/2djagpal/Lithology-LSTM_search_new\" target=\"_blank\">Weights & Biases</a> (<a href=\"https://docs.wandb.com/integrations/jupyter.html\" target=\"_blank\">docs</a>).<br/>\n",
       "\n",
       "                "
      ],
      "text/plain": [
       "<IPython.core.display.HTML object>"
      ]
     },
     "metadata": {},
     "output_type": "display_data"
    },
    {
     "name": "stdout",
     "output_type": "stream",
     "text": [
      "Loading Data ...                                                                   \n",
      "\n",
      "Starting training...                                                               \n",
      "\n",
      "Training:                                                                          \n",
      "Epoch: 1 ... Accuracy: 0.19531636282863576 ... Score: -1.9459328135462175          \n",
      "\n",
      "Validation:                                                                        \n",
      "Epoch: 1 ... Accuracy: 0.1908655201578799 ... Score: -1.9582404251138392           \n",
      "\n",
      "Training:                                                                          \n",
      "Epoch: 2 ... Accuracy: 0.5866378900672676 ... Score: -1.0822605293199874           \n",
      "\n",
      "Validation:                                                                        \n",
      "Epoch: 2 ... Accuracy: 0.5674236016779011 ... Score: -1.1364186337579345           \n",
      "\n",
      "Training:                                                                          \n",
      "Epoch: 3 ... Accuracy: 0.6774208705811243 ... Score: -0.8588294484568175           \n",
      "\n",
      "Validation:                                                                        \n",
      "Epoch: 3 ... Accuracy: 0.658072122408181 ... Score: -0.9138153454477108            \n",
      "\n",
      "Training:                                                                          \n",
      "Epoch: 4 ... Accuracy: 0.6844637332618546 ... Score: -0.8323000419688406           \n",
      "\n",
      "Validation:                                                                        \n",
      "Epoch: 4 ... Accuracy: 0.6677815653005955 ... Score: -0.8794339646820617           \n",
      "\n",
      "Training:                                                                          \n",
      "Epoch: 5 ... Accuracy: 0.7006457648313931 ... Score: -0.7913382400211874           \n",
      "\n",
      "Validation:                                                                        \n",
      "Epoch: 5 ... Accuracy: 0.6821769997693313 ... Score: -0.8485499910295512           \n",
      "\n",
      "Class F1 Scores                                                                    \n",
      "Training:                                                                          \n",
      "[0.6657681  0.3334771  0.82678384 0.28334807 0.         0.58465273\n",
      " 0.19531331 0.72442949 0.61965423 0.38295168 0.28905859 0.        ]\n",
      "\n",
      "Validation:                                                                        \n",
      "[0.61800384 0.31558071 0.81590228 0.28027352 0.         0.54899248\n",
      " 0.21220811 0.70069776 0.60437376 0.36867227 0.26958637 0.        ]\n",
      "\n",
      "Training Runtime: 392.06820702552795                                               \n",
      "\n",
      "Model Fitting Complete                                                             \n",
      "Fold 1 Validation Score: 0.3729089756593367                                        \n",
      "--------------------------------                                                   \n",
      "FOLD 2                                                                             \n",
      "--------------------------------                                                   \n",
      "Device is cuda:0.                                                                  \n",
      "\n",
      " 82%|████████▏ | 41/50 [9:15:33<2:01:47, 811.92s/it, best loss: -0.352691566326805]"
     ]
    },
    {
     "data": {
      "text/html": [
       "Finishing last run (ID:37u97yb1) before initializing another..."
      ],
      "text/plain": [
       "<IPython.core.display.HTML object>"
      ]
     },
     "metadata": {},
     "output_type": "display_data"
    },
    {
     "data": {
      "text/html": [
       "<br/>Waiting for W&B process to finish, PID 206177... <strong style=\"color:green\">(success).</strong>"
      ],
      "text/plain": [
       "<IPython.core.display.HTML object>"
      ]
     },
     "metadata": {},
     "output_type": "display_data"
    },
    {
     "data": {
      "application/vnd.jupyter.widget-view+json": {
       "model_id": "",
       "version_major": 2,
       "version_minor": 0
      },
      "text/plain": [
       "VBox(children=(Label(value=' 0.00MB of 0.00MB uploaded (0.00MB deduped)\\r'), FloatProgress(value=1.0, max=1.0)…"
      ]
     },
     "metadata": {},
     "output_type": "display_data"
    },
    {
     "data": {
      "text/html": [
       "<style>\n",
       "    table.wandb td:nth-child(1) { padding: 0 10px; text-align: right }\n",
       "    .wandb-row { display: flex; flex-direction: row; flex-wrap: wrap; width: 100% }\n",
       "    .wandb-col { display: flex; flex-direction: column; flex-basis: 100%; flex: 1; padding: 10px; }\n",
       "    </style>\n",
       "<div class=\"wandb-row\"><div class=\"wandb-col\">\n",
       "</div><div class=\"wandb-col\">\n",
       "<h3>Run summary:</h3><br/><table class=\"wandb\"><tr><td>train_accuracy</td><td>0.70065</td></tr><tr><td>train_batch_loss</td><td>2.45319</td></tr><tr><td>train_epoch_loss</td><td>1.28288</td></tr><tr><td>train_score</td><td>-0.79134</td></tr><tr><td>valid_accuracy</td><td>0.68218</td></tr><tr><td>valid_epoch_loss</td><td>1.34706</td></tr><tr><td>valid_score</td><td>-0.84855</td></tr></table>\n",
       "</div></div>\n",
       "Synced 6 W&B file(s), 0 media file(s), 0 artifact file(s) and 0 other file(s)\n",
       "<br/>Synced <strong style=\"color:#cdcd00\">lemon-pyramid-91</strong>: <a href=\"https://wandb.ai/2djagpal/Lithology-LSTM_search_new/runs/37u97yb1\" target=\"_blank\">https://wandb.ai/2djagpal/Lithology-LSTM_search_new/runs/37u97yb1</a><br/>\n",
       "Find logs at: <code>./wandb/run-20211206_003200-37u97yb1/logs</code><br/>\n"
      ],
      "text/plain": [
       "<IPython.core.display.HTML object>"
      ]
     },
     "metadata": {},
     "output_type": "display_data"
    },
    {
     "data": {
      "text/html": [
       "Successfully finished last run (ID:37u97yb1). Initializing new run:<br/>"
      ],
      "text/plain": [
       "<IPython.core.display.HTML object>"
      ]
     },
     "metadata": {},
     "output_type": "display_data"
    },
    {
     "data": {
      "text/html": [
       "\n",
       "                    Syncing run <strong><a href=\"https://wandb.ai/2djagpal/Lithology-LSTM_search_new/runs/24ol0q0v\" target=\"_blank\">peach-thunder-92</a></strong> to <a href=\"https://wandb.ai/2djagpal/Lithology-LSTM_search_new\" target=\"_blank\">Weights & Biases</a> (<a href=\"https://docs.wandb.com/integrations/jupyter.html\" target=\"_blank\">docs</a>).<br/>\n",
       "\n",
       "                "
      ],
      "text/plain": [
       "<IPython.core.display.HTML object>"
      ]
     },
     "metadata": {},
     "output_type": "display_data"
    },
    {
     "name": "stdout",
     "output_type": "stream",
     "text": [
      "Loading Data ...                                                                   \n",
      "\n",
      "Starting training...                                                               \n",
      "\n",
      "Training:                                                                          \n",
      "Epoch: 1 ... Accuracy: 0.5646944871311574 ... Score: -1.1442418590594494           \n",
      "\n",
      "Validation:                                                                        \n",
      "Epoch: 1 ... Accuracy: 0.5510375819087406 ... Score: -1.1865367446668547           \n",
      "\n",
      "Training:                                                                          \n",
      "Epoch: 2 ... Accuracy: 0.6752572860790531 ... Score: -0.9418194934051253           \n",
      "\n",
      "Validation:                                                                        \n",
      "Epoch: 2 ... Accuracy: 0.6594006031558893 ... Score: -0.9948387882205193           \n",
      "\n",
      "Training:                                                                          \n",
      "Epoch: 3 ... Accuracy: 0.564927291386563 ... Score: -1.2077903458851849            \n",
      "\n",
      "Validation:                                                                        \n",
      "Epoch: 3 ... Accuracy: 0.551511734201331 ... Score: -1.2523189678003606            \n",
      "\n",
      "Training:                                                                          \n",
      "Epoch: 4 ... Accuracy: 0.7041613226699017 ... Score: -0.7935683018851805           \n",
      "\n",
      "Validation:                                                                        \n",
      "Epoch: 4 ... Accuracy: 0.6862179733620388 ... Score: -0.8433257725265055           \n",
      "\n",
      "Training:                                                                          \n",
      "Epoch: 5 ... Accuracy: 0.6215393060083788 ... Score: -1.001017584196649            \n",
      "\n",
      "Validation:                                                                        \n",
      "Epoch: 5 ... Accuracy: 0.6030918146790715 ... Score: -1.0554987783103091           \n",
      "\n",
      "Class F1 Scores                                                                    \n",
      "Training:                                                                          \n",
      "[0.64377764 0.37425725 0.75074853 0.30532982 0.         0.35630643\n",
      " 0.4910861  0.95941899 0.58946522 0.3417654  0.37037665 0.13333333]\n",
      "\n",
      "Validation:                                                                        \n",
      "[0.60980946 0.361901   0.73674277 0.2913322  0.         0.33814837\n",
      " 0.49356065 0.94717995 0.57191201 0.33394879 0.31653155 0.18181818]\n",
      "\n",
      "Training Runtime: 391.5244576931                                                   \n",
      "\n",
      "Model Fitting Complete                                                             \n",
      "Fold 2 Validation Score: 0.3583608321259787                                        \n",
      "--------------------------------                                                   \n",
      "FOLD 3                                                                             \n",
      "--------------------------------                                                   \n",
      "Device is cuda:0.                                                                  \n",
      "\n",
      " 82%|████████▏ | 41/50 [9:22:07<2:01:47, 811.92s/it, best loss: -0.352691566326805]"
     ]
    },
    {
     "data": {
      "text/html": [
       "Finishing last run (ID:24ol0q0v) before initializing another..."
      ],
      "text/plain": [
       "<IPython.core.display.HTML object>"
      ]
     },
     "metadata": {},
     "output_type": "display_data"
    },
    {
     "data": {
      "text/html": [
       "<br/>Waiting for W&B process to finish, PID 207890... <strong style=\"color:green\">(success).</strong>"
      ],
      "text/plain": [
       "<IPython.core.display.HTML object>"
      ]
     },
     "metadata": {},
     "output_type": "display_data"
    },
    {
     "data": {
      "application/vnd.jupyter.widget-view+json": {
       "model_id": "",
       "version_major": 2,
       "version_minor": 0
      },
      "text/plain": [
       "VBox(children=(Label(value=' 0.00MB of 0.00MB uploaded (0.00MB deduped)\\r'), FloatProgress(value=1.0, max=1.0)…"
      ]
     },
     "metadata": {},
     "output_type": "display_data"
    },
    {
     "data": {
      "text/html": [
       "<style>\n",
       "    table.wandb td:nth-child(1) { padding: 0 10px; text-align: right }\n",
       "    .wandb-row { display: flex; flex-direction: row; flex-wrap: wrap; width: 100% }\n",
       "    .wandb-col { display: flex; flex-direction: column; flex-basis: 100%; flex: 1; padding: 10px; }\n",
       "    </style>\n",
       "<div class=\"wandb-row\"><div class=\"wandb-col\">\n",
       "</div><div class=\"wandb-col\">\n",
       "<h3>Run summary:</h3><br/><table class=\"wandb\"><tr><td>train_accuracy</td><td>0.62154</td></tr><tr><td>train_batch_loss</td><td>1.16412</td></tr><tr><td>train_epoch_loss</td><td>1.20923</td></tr><tr><td>train_score</td><td>-1.00102</td></tr><tr><td>valid_accuracy</td><td>0.60309</td></tr><tr><td>valid_epoch_loss</td><td>1.2905</td></tr><tr><td>valid_score</td><td>-1.0555</td></tr></table>\n",
       "</div></div>\n",
       "Synced 6 W&B file(s), 0 media file(s), 0 artifact file(s) and 0 other file(s)\n",
       "<br/>Synced <strong style=\"color:#cdcd00\">peach-thunder-92</strong>: <a href=\"https://wandb.ai/2djagpal/Lithology-LSTM_search_new/runs/24ol0q0v\" target=\"_blank\">https://wandb.ai/2djagpal/Lithology-LSTM_search_new/runs/24ol0q0v</a><br/>\n",
       "Find logs at: <code>./wandb/run-20211206_003835-24ol0q0v/logs</code><br/>\n"
      ],
      "text/plain": [
       "<IPython.core.display.HTML object>"
      ]
     },
     "metadata": {},
     "output_type": "display_data"
    },
    {
     "data": {
      "text/html": [
       "Successfully finished last run (ID:24ol0q0v). Initializing new run:<br/>"
      ],
      "text/plain": [
       "<IPython.core.display.HTML object>"
      ]
     },
     "metadata": {},
     "output_type": "display_data"
    },
    {
     "data": {
      "text/html": [
       "\n",
       "                    Syncing run <strong><a href=\"https://wandb.ai/2djagpal/Lithology-LSTM_search_new/runs/1zkjta3u\" target=\"_blank\">peach-bee-93</a></strong> to <a href=\"https://wandb.ai/2djagpal/Lithology-LSTM_search_new\" target=\"_blank\">Weights & Biases</a> (<a href=\"https://docs.wandb.com/integrations/jupyter.html\" target=\"_blank\">docs</a>).<br/>\n",
       "\n",
       "                "
      ],
      "text/plain": [
       "<IPython.core.display.HTML object>"
      ]
     },
     "metadata": {},
     "output_type": "display_data"
    },
    {
     "name": "stdout",
     "output_type": "stream",
     "text": [
      "Loading Data ...                                                                   \n",
      "\n",
      "Starting training...                                                               \n",
      "\n",
      "Training:                                                                          \n",
      "Epoch: 1 ... Accuracy: 0.689520284405639 ... Score: -0.8643161001229164            \n",
      "\n",
      "Validation:                                                                        \n",
      "Epoch: 1 ... Accuracy: 0.6761838856566795 ... Score: -0.9074265704692827           \n",
      "\n",
      "Training:                                                                          \n",
      "Epoch: 2 ... Accuracy: 0.704198699499898 ... Score: -0.7953499752778967            \n",
      "\n",
      "Validation:                                                                        \n",
      "Epoch: 2 ... Accuracy: 0.6864101972644403 ... Score: -0.8452736414041743           \n",
      "\n",
      "Training:                                                                          \n",
      "Epoch: 3 ... Accuracy: 0.6558822053184026 ... Score: -0.9820866202695617           \n",
      "\n",
      "Validation:                                                                        \n",
      "Epoch: 3 ... Accuracy: 0.6426087773705479 ... Score: -1.0257830988201724           \n",
      "\n",
      "Training:                                                                          \n",
      "Epoch: 4 ... Accuracy: 0.7308857561172521 ... Score: -0.7121657043022868           \n",
      "\n",
      "Validation:                                                                        \n",
      "Epoch: 4 ... Accuracy: 0.7173112574860531 ... Score: -0.7553310095599354           \n",
      "\n",
      "Training:                                                                          \n",
      "Epoch: 5 ... Accuracy: 0.7247014926170081 ... Score: -0.7133083673907449           \n",
      "\n",
      "Validation:                                                                        \n",
      "Epoch: 5 ... Accuracy: 0.708981555048654 ... Score: -0.7578251146935951            \n",
      "\n",
      "Class F1 Scores                                                                    \n",
      "Training:                                                                          \n",
      "[0.66467707 0.37517174 0.84543071 0.27121277 0.         0.58642948\n",
      " 0.11198033 0.62768924 0.68708709 0.17852301 0.4701817  0.13636364]\n",
      "\n",
      "Validation:                                                                        \n",
      "[0.61963171 0.35566527 0.83746995 0.26490999 0.         0.56843497\n",
      " 0.1242236  0.63398955 0.69711538 0.19446015 0.38024231 0.09090909]\n",
      "\n",
      "Training Runtime: 388.7127089500427                                                \n",
      "\n",
      "Model Fitting Complete                                                             \n",
      "Fold 3 Validation Score: 0.35075124980565703                                       \n",
      "********************************                                                   \n",
      "F1 Score too low ... stopped early.                                                \n",
      "********************************                                                   \n",
      "{'hidden_dim': 281, 'n_layers': 2, 'window_size': 8}                                \n",
      "--------------------------------                                                    \n",
      "FOLD 0                                                                              \n",
      "--------------------------------                                                    \n",
      "Device is cuda:0.                                                                   \n",
      "\n",
      " 84%|████████▍ | 42/50 [9:28:39<2:18:49, 1041.20s/it, best loss: -0.352691566326805]"
     ]
    },
    {
     "data": {
      "text/html": [
       "Finishing last run (ID:1zkjta3u) before initializing another..."
      ],
      "text/plain": [
       "<IPython.core.display.HTML object>"
      ]
     },
     "metadata": {},
     "output_type": "display_data"
    },
    {
     "data": {
      "text/html": [
       "<br/>Waiting for W&B process to finish, PID 209608... <strong style=\"color:green\">(success).</strong>"
      ],
      "text/plain": [
       "<IPython.core.display.HTML object>"
      ]
     },
     "metadata": {},
     "output_type": "display_data"
    },
    {
     "data": {
      "application/vnd.jupyter.widget-view+json": {
       "model_id": "",
       "version_major": 2,
       "version_minor": 0
      },
      "text/plain": [
       "VBox(children=(Label(value=' 0.00MB of 0.00MB uploaded (0.00MB deduped)\\r'), FloatProgress(value=1.0, max=1.0)…"
      ]
     },
     "metadata": {},
     "output_type": "display_data"
    },
    {
     "data": {
      "text/html": [
       "<style>\n",
       "    table.wandb td:nth-child(1) { padding: 0 10px; text-align: right }\n",
       "    .wandb-row { display: flex; flex-direction: row; flex-wrap: wrap; width: 100% }\n",
       "    .wandb-col { display: flex; flex-direction: column; flex-basis: 100%; flex: 1; padding: 10px; }\n",
       "    </style>\n",
       "<div class=\"wandb-row\"><div class=\"wandb-col\">\n",
       "</div><div class=\"wandb-col\">\n",
       "<h3>Run summary:</h3><br/><table class=\"wandb\"><tr><td>train_accuracy</td><td>0.7247</td></tr><tr><td>train_batch_loss</td><td>1.07714</td></tr><tr><td>train_epoch_loss</td><td>1.48374</td></tr><tr><td>train_score</td><td>-0.71331</td></tr><tr><td>valid_accuracy</td><td>0.70898</td></tr><tr><td>valid_epoch_loss</td><td>1.57696</td></tr><tr><td>valid_score</td><td>-0.75783</td></tr></table>\n",
       "</div></div>\n",
       "Synced 6 W&B file(s), 0 media file(s), 0 artifact file(s) and 0 other file(s)\n",
       "<br/>Synced <strong style=\"color:#cdcd00\">peach-bee-93</strong>: <a href=\"https://wandb.ai/2djagpal/Lithology-LSTM_search_new/runs/1zkjta3u\" target=\"_blank\">https://wandb.ai/2djagpal/Lithology-LSTM_search_new/runs/1zkjta3u</a><br/>\n",
       "Find logs at: <code>./wandb/run-20211206_004510-1zkjta3u/logs</code><br/>\n"
      ],
      "text/plain": [
       "<IPython.core.display.HTML object>"
      ]
     },
     "metadata": {},
     "output_type": "display_data"
    },
    {
     "data": {
      "text/html": [
       "Successfully finished last run (ID:1zkjta3u). Initializing new run:<br/>"
      ],
      "text/plain": [
       "<IPython.core.display.HTML object>"
      ]
     },
     "metadata": {},
     "output_type": "display_data"
    },
    {
     "data": {
      "text/html": [
       "\n",
       "                    Syncing run <strong><a href=\"https://wandb.ai/2djagpal/Lithology-LSTM_search_new/runs/1y4qr3wj\" target=\"_blank\">royal-cloud-94</a></strong> to <a href=\"https://wandb.ai/2djagpal/Lithology-LSTM_search_new\" target=\"_blank\">Weights & Biases</a> (<a href=\"https://docs.wandb.com/integrations/jupyter.html\" target=\"_blank\">docs</a>).<br/>\n",
       "\n",
       "                "
      ],
      "text/plain": [
       "<IPython.core.display.HTML object>"
      ]
     },
     "metadata": {},
     "output_type": "display_data"
    },
    {
     "name": "stdout",
     "output_type": "stream",
     "text": [
      "Loading Data ...                                                                    \n",
      "\n",
      "Starting training...                                                                \n",
      "\n",
      "Training:                                                                           \n",
      "Epoch: 1 ... Accuracy: 0.5956132369650836 ... Score: -1.1172027844700174            \n",
      "\n",
      "Validation:                                                                         \n",
      "Epoch: 1 ... Accuracy: 0.5871987971106735 ... Score: -1.1461311901171707            \n",
      "\n",
      "Training:                                                                           \n",
      "Epoch: 2 ... Accuracy: 0.5742454143920172 ... Score: -1.1982928381645608            \n",
      "\n",
      "Validation:                                                                         \n",
      "Epoch: 2 ... Accuracy: 0.5631153808366403 ... Score: -1.237268424582342             \n",
      "\n",
      "Training:                                                                           \n",
      "Epoch: 3 ... Accuracy: 0.673682839104322 ... Score: -0.8791692563497963             \n",
      "\n",
      "Validation:                                                                         \n",
      "Epoch: 3 ... Accuracy: 0.6574072096470357 ... Score: -0.9296997475470199            \n",
      "\n",
      "Training:                                                                           \n",
      "Epoch: 4 ... Accuracy: 0.6952642437911679 ... Score: -0.8098613264730758            \n",
      "\n",
      "Validation:                                                                         \n",
      "Epoch: 4 ... Accuracy: 0.6823791237190467 ... Score: -0.851579219403425             \n",
      "\n",
      "Training:                                                                           \n",
      "Epoch: 5 ... Accuracy: 0.6992528897659994 ... Score: -0.8023948962418092            \n",
      "\n",
      "Validation:                                                                         \n",
      "Epoch: 5 ... Accuracy: 0.6852795564345608 ... Score: -0.8513336010217725            \n",
      "\n",
      "Class F1 Scores                                                                     \n",
      "Training:                                                                           \n",
      "[0.56127403 0.11085476 0.84476834 0.27736737 0.         0.46252778\n",
      " 0.5335261  0.95508239 0.54207436 0.26076953 0.48148148 0.09302326]\n",
      "\n",
      "Validation:                                                                         \n",
      "[0.52497501 0.11471677 0.83603353 0.25845686 0.         0.42240773\n",
      " 0.53907596 0.94844125 0.5256917  0.25554705 0.38522674 0.        ]\n",
      "\n",
      "Training Runtime: 411.16437125205994                                                \n",
      "\n",
      "Model Fitting Complete                                                              \n",
      "Fold 0 Validation Score: 0.33586217647747                                           \n",
      "********************************                                                    \n",
      "F1 Score too low ... stopped early.                                                 \n",
      "********************************                                                    \n",
      "{'hidden_dim': 254, 'n_layers': 3, 'window_size': 8}                                \n",
      "--------------------------------                                                   \n",
      "FOLD 0                                                                             \n",
      "--------------------------------                                                   \n",
      "Device is cuda:0.                                                                  \n",
      "\n",
      " 86%|████████▌ | 43/50 [9:35:34<1:39:32, 853.24s/it, best loss: -0.352691566326805]"
     ]
    },
    {
     "data": {
      "text/html": [
       "Finishing last run (ID:1y4qr3wj) before initializing another..."
      ],
      "text/plain": [
       "<IPython.core.display.HTML object>"
      ]
     },
     "metadata": {},
     "output_type": "display_data"
    },
    {
     "data": {
      "text/html": [
       "<br/>Waiting for W&B process to finish, PID 211489... <strong style=\"color:green\">(success).</strong>"
      ],
      "text/plain": [
       "<IPython.core.display.HTML object>"
      ]
     },
     "metadata": {},
     "output_type": "display_data"
    },
    {
     "data": {
      "application/vnd.jupyter.widget-view+json": {
       "model_id": "",
       "version_major": 2,
       "version_minor": 0
      },
      "text/plain": [
       "VBox(children=(Label(value=' 0.00MB of 0.00MB uploaded (0.00MB deduped)\\r'), FloatProgress(value=1.0, max=1.0)…"
      ]
     },
     "metadata": {},
     "output_type": "display_data"
    },
    {
     "data": {
      "text/html": [
       "<style>\n",
       "    table.wandb td:nth-child(1) { padding: 0 10px; text-align: right }\n",
       "    .wandb-row { display: flex; flex-direction: row; flex-wrap: wrap; width: 100% }\n",
       "    .wandb-col { display: flex; flex-direction: column; flex-basis: 100%; flex: 1; padding: 10px; }\n",
       "    </style>\n",
       "<div class=\"wandb-row\"><div class=\"wandb-col\">\n",
       "</div><div class=\"wandb-col\">\n",
       "<h3>Run summary:</h3><br/><table class=\"wandb\"><tr><td>train_accuracy</td><td>0.69925</td></tr><tr><td>train_batch_loss</td><td>1.41835</td></tr><tr><td>train_epoch_loss</td><td>1.48054</td></tr><tr><td>train_score</td><td>-0.80239</td></tr><tr><td>valid_accuracy</td><td>0.68528</td></tr><tr><td>valid_epoch_loss</td><td>1.57965</td></tr><tr><td>valid_score</td><td>-0.85133</td></tr></table>\n",
       "</div></div>\n",
       "Synced 6 W&B file(s), 0 media file(s), 0 artifact file(s) and 0 other file(s)\n",
       "<br/>Synced <strong style=\"color:#cdcd00\">royal-cloud-94</strong>: <a href=\"https://wandb.ai/2djagpal/Lithology-LSTM_search_new/runs/1y4qr3wj\" target=\"_blank\">https://wandb.ai/2djagpal/Lithology-LSTM_search_new/runs/1y4qr3wj</a><br/>\n",
       "Find logs at: <code>./wandb/run-20211206_005142-1y4qr3wj/logs</code><br/>\n"
      ],
      "text/plain": [
       "<IPython.core.display.HTML object>"
      ]
     },
     "metadata": {},
     "output_type": "display_data"
    },
    {
     "data": {
      "text/html": [
       "Successfully finished last run (ID:1y4qr3wj). Initializing new run:<br/>"
      ],
      "text/plain": [
       "<IPython.core.display.HTML object>"
      ]
     },
     "metadata": {},
     "output_type": "display_data"
    },
    {
     "data": {
      "text/html": [
       "\n",
       "                    Syncing run <strong><a href=\"https://wandb.ai/2djagpal/Lithology-LSTM_search_new/runs/13i290zy\" target=\"_blank\">icy-energy-95</a></strong> to <a href=\"https://wandb.ai/2djagpal/Lithology-LSTM_search_new\" target=\"_blank\">Weights & Biases</a> (<a href=\"https://docs.wandb.com/integrations/jupyter.html\" target=\"_blank\">docs</a>).<br/>\n",
       "\n",
       "                "
      ],
      "text/plain": [
       "<IPython.core.display.HTML object>"
      ]
     },
     "metadata": {},
     "output_type": "display_data"
    },
    {
     "name": "stdout",
     "output_type": "stream",
     "text": [
      "Loading Data ...                                                                   \n",
      "\n",
      "Starting training...                                                               \n",
      "\n",
      "Training:                                                                          \n",
      "Epoch: 1 ... Accuracy: 0.6523438501166159 ... Score: -0.9944348510478338           \n",
      "\n",
      "Validation:                                                                        \n",
      "Epoch: 1 ... Accuracy: 0.6446564119212483 ... Score: -1.0212993853133023           \n",
      "\n",
      "Training:                                                                          \n",
      "Epoch: 2 ... Accuracy: 0.6443217059230592 ... Score: -0.9672893653193907           \n",
      "\n",
      "Validation:                                                                        \n",
      "Epoch: 2 ... Accuracy: 0.6316450451297079 ... Score: -1.0111927228613047           \n",
      "\n",
      "Training:                                                                          \n",
      "Epoch: 3 ... Accuracy: 0.632269267242484 ... Score: -1.0615986834798508            \n",
      "\n",
      "Validation:                                                                        \n",
      "Epoch: 3 ... Accuracy: 0.6136316066005134 ... Score: -1.122745116465829            \n",
      "\n",
      "Training:                                                                          \n",
      "Epoch: 4 ... Accuracy: 0.6527250941897121 ... Score: -0.8925401641164963           \n",
      "\n",
      "Validation:                                                                        \n",
      "Epoch: 4 ... Accuracy: 0.6322131711255302 ... Score: -0.9493807213064335           \n",
      "\n",
      "Training:                                                                          \n",
      "Epoch: 5 ... Accuracy: 0.6372051498919274 ... Score: -0.9696772133514451           \n",
      "\n",
      "Validation:                                                                        \n",
      "Epoch: 5 ... Accuracy: 0.622166311409935 ... Score: -1.0161141676954162            \n",
      "\n",
      "Class F1 Scores                                                                    \n",
      "Training:                                                                          \n",
      "[0.54318605 0.17037587 0.79701497 0.20559478 0.         0.56634279\n",
      " 0.         0.89920675 0.         0.39668709 0.44962731 0.        ]\n",
      "\n",
      "Validation:                                                                        \n",
      "[0.51525063 0.16365087 0.78682296 0.20194826 0.         0.53756312\n",
      " 0.         0.9026087  0.         0.39030023 0.31578947 0.        ]\n",
      "\n",
      "Training Runtime: 430.5105435848236                                                \n",
      "\n",
      "Model Fitting Complete                                                             \n",
      "Fold 0 Validation Score: 0.24300805073127607                                       \n",
      "********************************                                                   \n",
      "F1 Score too low ... stopped early.                                                \n",
      "********************************                                                   \n",
      "{'hidden_dim': 492, 'n_layers': 1, 'window_size': 8}                               \n",
      "--------------------------------                                                   \n",
      "FOLD 0                                                                             \n",
      "--------------------------------                                                   \n",
      "Device is cuda:0.                                                                  \n",
      "\n",
      " 88%|████████▊ | 44/50 [9:42:48<1:12:44, 727.50s/it, best loss: -0.352691566326805]"
     ]
    },
    {
     "data": {
      "text/html": [
       "Finishing last run (ID:13i290zy) before initializing another..."
      ],
      "text/plain": [
       "<IPython.core.display.HTML object>"
      ]
     },
     "metadata": {},
     "output_type": "display_data"
    },
    {
     "data": {
      "text/html": [
       "<br/>Waiting for W&B process to finish, PID 213376... <strong style=\"color:green\">(success).</strong>"
      ],
      "text/plain": [
       "<IPython.core.display.HTML object>"
      ]
     },
     "metadata": {},
     "output_type": "display_data"
    },
    {
     "data": {
      "application/vnd.jupyter.widget-view+json": {
       "model_id": "",
       "version_major": 2,
       "version_minor": 0
      },
      "text/plain": [
       "VBox(children=(Label(value=' 0.00MB of 0.00MB uploaded (0.00MB deduped)\\r'), FloatProgress(value=1.0, max=1.0)…"
      ]
     },
     "metadata": {},
     "output_type": "display_data"
    },
    {
     "data": {
      "text/html": [
       "<style>\n",
       "    table.wandb td:nth-child(1) { padding: 0 10px; text-align: right }\n",
       "    .wandb-row { display: flex; flex-direction: row; flex-wrap: wrap; width: 100% }\n",
       "    .wandb-col { display: flex; flex-direction: column; flex-basis: 100%; flex: 1; padding: 10px; }\n",
       "    </style>\n",
       "<div class=\"wandb-row\"><div class=\"wandb-col\">\n",
       "</div><div class=\"wandb-col\">\n",
       "<h3>Run summary:</h3><br/><table class=\"wandb\"><tr><td>train_accuracy</td><td>0.63721</td></tr><tr><td>train_batch_loss</td><td>2.04031</td></tr><tr><td>train_epoch_loss</td><td>1.51365</td></tr><tr><td>train_score</td><td>-0.96968</td></tr><tr><td>valid_accuracy</td><td>0.62217</td></tr><tr><td>valid_epoch_loss</td><td>1.59594</td></tr><tr><td>valid_score</td><td>-1.01611</td></tr></table>\n",
       "</div></div>\n",
       "Synced 6 W&B file(s), 0 media file(s), 0 artifact file(s) and 0 other file(s)\n",
       "<br/>Synced <strong style=\"color:#cdcd00\">icy-energy-95</strong>: <a href=\"https://wandb.ai/2djagpal/Lithology-LSTM_search_new/runs/13i290zy\" target=\"_blank\">https://wandb.ai/2djagpal/Lithology-LSTM_search_new/runs/13i290zy</a><br/>\n",
       "Find logs at: <code>./wandb/run-20211206_005837-13i290zy/logs</code><br/>\n"
      ],
      "text/plain": [
       "<IPython.core.display.HTML object>"
      ]
     },
     "metadata": {},
     "output_type": "display_data"
    },
    {
     "data": {
      "text/html": [
       "Successfully finished last run (ID:13i290zy). Initializing new run:<br/>"
      ],
      "text/plain": [
       "<IPython.core.display.HTML object>"
      ]
     },
     "metadata": {},
     "output_type": "display_data"
    },
    {
     "data": {
      "text/html": [
       "\n",
       "                    Syncing run <strong><a href=\"https://wandb.ai/2djagpal/Lithology-LSTM_search_new/runs/nlwf2yru\" target=\"_blank\">stellar-eon-96</a></strong> to <a href=\"https://wandb.ai/2djagpal/Lithology-LSTM_search_new\" target=\"_blank\">Weights & Biases</a> (<a href=\"https://docs.wandb.com/integrations/jupyter.html\" target=\"_blank\">docs</a>).<br/>\n",
       "\n",
       "                "
      ],
      "text/plain": [
       "<IPython.core.display.HTML object>"
      ]
     },
     "metadata": {},
     "output_type": "display_data"
    },
    {
     "name": "stdout",
     "output_type": "stream",
     "text": [
      "Loading Data ...                                                                   \n",
      "\n",
      "Starting training...                                                               \n",
      "\n",
      "Training:                                                                          \n",
      "Epoch: 1 ... Accuracy: 0.6556757310915755 ... Score: -0.9675380549931226           \n",
      "\n",
      "Validation:                                                                        \n",
      "Epoch: 1 ... Accuracy: 0.6409785436325036 ... Score: -1.010071955506764            \n",
      "\n",
      "Training:                                                                          \n",
      "Epoch: 2 ... Accuracy: 0.6271379569589325 ... Score: -1.0367466691869356           \n",
      "\n",
      "Validation:                                                                        \n",
      "Epoch: 2 ... Accuracy: 0.6124013788802365 ... Score: -1.0807064625399931           \n",
      "\n",
      "Training:                                                                          \n",
      "Epoch: 3 ... Accuracy: 0.6478714406540739 ... Score: -0.9087471753765453           \n",
      "\n",
      "Validation:                                                                        \n",
      "Epoch: 3 ... Accuracy: 0.6323626779665361 ... Score: -0.9545045343289065           \n",
      "\n",
      "Training:                                                                          \n",
      "Epoch: 4 ... Accuracy: 0.6553275922461149 ... Score: -0.9186469733278656           \n",
      "\n",
      "Validation:                                                                        \n",
      "Epoch: 4 ... Accuracy: 0.6407222461907792 ... Score: -0.9634290248309505           \n",
      "\n",
      "Training:                                                                          \n",
      "Epoch: 5 ... Accuracy: 0.6952460893114967 ... Score: -0.803728850031183            \n",
      "\n",
      "Validation:                                                                        \n",
      "Epoch: 5 ... Accuracy: 0.6753095859514829 ... Score: -0.8637816473945229           \n",
      "\n",
      "Class F1 Scores                                                                    \n",
      "Training:                                                                          \n",
      "[0.63363542 0.29506579 0.83927517 0.29492916 0.         0.35684753\n",
      " 0.50156101 0.94266392 0.57004831 0.52218007 0.44657737 0.13483146]\n",
      "\n",
      "Validation:                                                                        \n",
      "[0.58846773 0.27592008 0.82670296 0.28580232 0.         0.33348841\n",
      " 0.50669413 0.94262295 0.58671587 0.49844237 0.37587413 0.17391304]\n",
      "\n",
      "Training Runtime: 401.65080165863037                                               \n",
      "\n",
      "Model Fitting Complete                                                             \n",
      "Fold 0 Validation Score: 0.3947434227709582                                        \n",
      "--------------------------------                                                   \n",
      "FOLD 1                                                                             \n",
      "--------------------------------                                                   \n",
      "Device is cuda:0.                                                                  \n",
      "\n",
      " 88%|████████▊ | 44/50 [9:49:33<1:12:44, 727.50s/it, best loss: -0.352691566326805]"
     ]
    },
    {
     "data": {
      "text/html": [
       "Finishing last run (ID:nlwf2yru) before initializing another..."
      ],
      "text/plain": [
       "<IPython.core.display.HTML object>"
      ]
     },
     "metadata": {},
     "output_type": "display_data"
    },
    {
     "data": {
      "text/html": [
       "<br/>Waiting for W&B process to finish, PID 215356... <strong style=\"color:green\">(success).</strong>"
      ],
      "text/plain": [
       "<IPython.core.display.HTML object>"
      ]
     },
     "metadata": {},
     "output_type": "display_data"
    },
    {
     "data": {
      "application/vnd.jupyter.widget-view+json": {
       "model_id": "",
       "version_major": 2,
       "version_minor": 0
      },
      "text/plain": [
       "VBox(children=(Label(value=' 0.00MB of 0.00MB uploaded (0.00MB deduped)\\r'), FloatProgress(value=1.0, max=1.0)…"
      ]
     },
     "metadata": {},
     "output_type": "display_data"
    },
    {
     "data": {
      "text/html": [
       "<style>\n",
       "    table.wandb td:nth-child(1) { padding: 0 10px; text-align: right }\n",
       "    .wandb-row { display: flex; flex-direction: row; flex-wrap: wrap; width: 100% }\n",
       "    .wandb-col { display: flex; flex-direction: column; flex-basis: 100%; flex: 1; padding: 10px; }\n",
       "    </style>\n",
       "<div class=\"wandb-row\"><div class=\"wandb-col\">\n",
       "</div><div class=\"wandb-col\">\n",
       "<h3>Run summary:</h3><br/><table class=\"wandb\"><tr><td>train_accuracy</td><td>0.69525</td></tr><tr><td>train_batch_loss</td><td>0.60595</td></tr><tr><td>train_epoch_loss</td><td>1.30122</td></tr><tr><td>train_score</td><td>-0.80373</td></tr><tr><td>valid_accuracy</td><td>0.67531</td></tr><tr><td>valid_epoch_loss</td><td>1.43399</td></tr><tr><td>valid_score</td><td>-0.86378</td></tr></table>\n",
       "</div></div>\n",
       "Synced 6 W&B file(s), 0 media file(s), 0 artifact file(s) and 0 other file(s)\n",
       "<br/>Synced <strong style=\"color:#cdcd00\">stellar-eon-96</strong>: <a href=\"https://wandb.ai/2djagpal/Lithology-LSTM_search_new/runs/nlwf2yru\" target=\"_blank\">https://wandb.ai/2djagpal/Lithology-LSTM_search_new/runs/nlwf2yru</a><br/>\n",
       "Find logs at: <code>./wandb/run-20211206_010551-nlwf2yru/logs</code><br/>\n"
      ],
      "text/plain": [
       "<IPython.core.display.HTML object>"
      ]
     },
     "metadata": {},
     "output_type": "display_data"
    },
    {
     "data": {
      "text/html": [
       "Successfully finished last run (ID:nlwf2yru). Initializing new run:<br/>"
      ],
      "text/plain": [
       "<IPython.core.display.HTML object>"
      ]
     },
     "metadata": {},
     "output_type": "display_data"
    },
    {
     "data": {
      "text/html": [
       "\n",
       "                    Syncing run <strong><a href=\"https://wandb.ai/2djagpal/Lithology-LSTM_search_new/runs/390lyr1j\" target=\"_blank\">super-oath-97</a></strong> to <a href=\"https://wandb.ai/2djagpal/Lithology-LSTM_search_new\" target=\"_blank\">Weights & Biases</a> (<a href=\"https://docs.wandb.com/integrations/jupyter.html\" target=\"_blank\">docs</a>).<br/>\n",
       "\n",
       "                "
      ],
      "text/plain": [
       "<IPython.core.display.HTML object>"
      ]
     },
     "metadata": {},
     "output_type": "display_data"
    },
    {
     "name": "stdout",
     "output_type": "stream",
     "text": [
      "Loading Data ...                                                                   \n",
      "\n",
      "Starting training...                                                               \n",
      "\n",
      "Training:                                                                          \n",
      "Epoch: 1 ... Accuracy: 0.6242934444243915 ... Score: -0.9844624517705405           \n",
      "\n",
      "Validation:                                                                        \n",
      "Epoch: 1 ... Accuracy: 0.6166969953268233 ... Score: -1.0089373435511018           \n",
      "\n",
      "Training:                                                                          \n",
      "Epoch: 2 ... Accuracy: 0.5115980303478501 ... Score: -1.4583061461391336           \n",
      "\n",
      "Validation:                                                                        \n",
      "Epoch: 2 ... Accuracy: 0.501196059837165 ... Score: -1.4946487001392554            \n",
      "\n",
      "Training:                                                                          \n",
      "Epoch: 3 ... Accuracy: 0.5880806357051246 ... Score: -1.1404171414414002           \n",
      "\n",
      "Validation:                                                                        \n",
      "Epoch: 3 ... Accuracy: 0.5724769544899232 ... Score: -1.18792129071943             \n",
      "\n",
      "Training:                                                                          \n",
      "Epoch: 4 ... Accuracy: 0.6108324460785832 ... Score: -1.0985819230699405           \n",
      "\n",
      "Validation:                                                                        \n",
      "Epoch: 4 ... Accuracy: 0.6012336502891902 ... Score: -1.1316947313564172           \n",
      "\n",
      "Training:                                                                          \n",
      "Epoch: 5 ... Accuracy: 0.6670525379401522 ... Score: -0.838489911993584            \n",
      "\n",
      "Validation:                                                                        \n",
      "Epoch: 5 ... Accuracy: 0.6509854678729784 ... Score: -0.8843068406079402           \n",
      "\n",
      "Class F1 Scores                                                                    \n",
      "Training:                                                                          \n",
      "[0.61598291 0.42755765 0.80997914 0.20141805 0.05263158 0.45406428\n",
      " 0.58476889 0.66965155 0.59906661 0.45710569 0.43881347 0.13483146]\n",
      "\n",
      "Validation:                                                                        \n",
      "[0.56987851 0.41247546 0.80136228 0.19857573 0.06837607 0.42174432\n",
      " 0.59200277 0.66226708 0.64717349 0.441595   0.37633035 0.17391304]\n",
      "\n",
      "Training Runtime: 403.00133085250854                                               \n",
      "\n",
      "Model Fitting Complete                                                             \n",
      "Fold 1 Validation Score: 0.40415026683488825                                       \n",
      "--------------------------------                                                   \n",
      "FOLD 2                                                                             \n",
      "--------------------------------                                                   \n",
      "Device is cuda:0.                                                                  \n",
      "\n",
      " 88%|████████▊ | 44/50 [9:56:20<1:12:44, 727.50s/it, best loss: -0.352691566326805]"
     ]
    },
    {
     "data": {
      "text/html": [
       "Finishing last run (ID:390lyr1j) before initializing another..."
      ],
      "text/plain": [
       "<IPython.core.display.HTML object>"
      ]
     },
     "metadata": {},
     "output_type": "display_data"
    },
    {
     "data": {
      "text/html": [
       "<br/>Waiting for W&B process to finish, PID 217153... <strong style=\"color:green\">(success).</strong>"
      ],
      "text/plain": [
       "<IPython.core.display.HTML object>"
      ]
     },
     "metadata": {},
     "output_type": "display_data"
    },
    {
     "data": {
      "application/vnd.jupyter.widget-view+json": {
       "model_id": "",
       "version_major": 2,
       "version_minor": 0
      },
      "text/plain": [
       "VBox(children=(Label(value=' 0.00MB of 0.00MB uploaded (0.00MB deduped)\\r'), FloatProgress(value=1.0, max=1.0)…"
      ]
     },
     "metadata": {},
     "output_type": "display_data"
    },
    {
     "data": {
      "text/html": [
       "<style>\n",
       "    table.wandb td:nth-child(1) { padding: 0 10px; text-align: right }\n",
       "    .wandb-row { display: flex; flex-direction: row; flex-wrap: wrap; width: 100% }\n",
       "    .wandb-col { display: flex; flex-direction: column; flex-basis: 100%; flex: 1; padding: 10px; }\n",
       "    </style>\n",
       "<div class=\"wandb-row\"><div class=\"wandb-col\">\n",
       "</div><div class=\"wandb-col\">\n",
       "<h3>Run summary:</h3><br/><table class=\"wandb\"><tr><td>train_accuracy</td><td>0.66705</td></tr><tr><td>train_batch_loss</td><td>0.711</td></tr><tr><td>train_epoch_loss</td><td>1.32192</td></tr><tr><td>train_score</td><td>-0.83849</td></tr><tr><td>valid_accuracy</td><td>0.65099</td></tr><tr><td>valid_epoch_loss</td><td>1.39886</td></tr><tr><td>valid_score</td><td>-0.88431</td></tr></table>\n",
       "</div></div>\n",
       "Synced 6 W&B file(s), 0 media file(s), 0 artifact file(s) and 0 other file(s)\n",
       "<br/>Synced <strong style=\"color:#cdcd00\">super-oath-97</strong>: <a href=\"https://wandb.ai/2djagpal/Lithology-LSTM_search_new/runs/390lyr1j\" target=\"_blank\">https://wandb.ai/2djagpal/Lithology-LSTM_search_new/runs/390lyr1j</a><br/>\n",
       "Find logs at: <code>./wandb/run-20211206_011236-390lyr1j/logs</code><br/>\n"
      ],
      "text/plain": [
       "<IPython.core.display.HTML object>"
      ]
     },
     "metadata": {},
     "output_type": "display_data"
    },
    {
     "data": {
      "text/html": [
       "Successfully finished last run (ID:390lyr1j). Initializing new run:<br/>"
      ],
      "text/plain": [
       "<IPython.core.display.HTML object>"
      ]
     },
     "metadata": {},
     "output_type": "display_data"
    },
    {
     "data": {
      "text/html": [
       "\n",
       "                    Syncing run <strong><a href=\"https://wandb.ai/2djagpal/Lithology-LSTM_search_new/runs/3sfx6yhg\" target=\"_blank\">clear-totem-98</a></strong> to <a href=\"https://wandb.ai/2djagpal/Lithology-LSTM_search_new\" target=\"_blank\">Weights & Biases</a> (<a href=\"https://docs.wandb.com/integrations/jupyter.html\" target=\"_blank\">docs</a>).<br/>\n",
       "\n",
       "                "
      ],
      "text/plain": [
       "<IPython.core.display.HTML object>"
      ]
     },
     "metadata": {},
     "output_type": "display_data"
    },
    {
     "name": "stdout",
     "output_type": "stream",
     "text": [
      "Loading Data ...                                                                   \n",
      "\n",
      "Starting training...                                                               \n",
      "\n",
      "Training:                                                                          \n",
      "Epoch: 1 ... Accuracy: 0.6088835113716335 ... Score: -1.1352802301131237           \n",
      "\n",
      "Validation:                                                                        \n",
      "Epoch: 1 ... Accuracy: 0.5960222467129712 ... Score: -1.1734799360962316           \n",
      "\n",
      "Training:                                                                          \n",
      "Epoch: 2 ... Accuracy: 0.7007386729516696 ... Score: -0.8302285646549745           \n",
      "\n",
      "Validation:                                                                        \n",
      "Epoch: 2 ... Accuracy: 0.6877942093617312 ... Score: -0.8740399483985614           \n",
      "\n",
      "Training:                                                                          \n",
      "Epoch: 3 ... Accuracy: 0.555857536610605 ... Score: -1.2511307825960665             \n",
      "\n",
      "Validation:                                                                         \n",
      "Epoch: 3 ... Accuracy: 0.5462148977796003 ... Score: -1.2801369702095668            \n",
      "\n",
      "Training:                                                                           \n",
      "Epoch: 4 ... Accuracy: 0.7012160284661937 ... Score: -0.8227829666310341            \n",
      "\n",
      "Validation:                                                                         \n",
      "Epoch: 4 ... Accuracy: 0.6890244423371009 ... Score: -0.8621888108602234            \n",
      "\n",
      "Training:                                                                           \n",
      "Epoch: 5 ... Accuracy: 0.7155099961662051 ... Score: -0.7531465951309737            \n",
      "\n",
      "Validation:                                                                         \n",
      "Epoch: 5 ... Accuracy: 0.699340458432649 ... Score: -0.8018208943110268             \n",
      "\n",
      "Class F1 Scores                                                                     \n",
      "Training:                                                                           \n",
      "[0.6375599  0.26920304 0.84623645 0.43979516 0.         0.5375613\n",
      " 0.         0.61946011 0.59286001 0.5497222  0.56291673 0.15384615]\n",
      "\n",
      "Validation:                                                                         \n",
      "[0.60169698 0.25369867 0.83638908 0.4395995  0.         0.51146116\n",
      " 0.         0.61724416 0.55333333 0.53203203 0.48461108 0.0952381 ]\n",
      "\n",
      "Training Runtime: 402.4208059310913                                                 \n",
      "\n",
      "Model Fitting Complete                                                              \n",
      "Fold 2 Validation Score: 0.408664226008043                                          \n",
      "--------------------------------                                                    \n",
      "FOLD 3                                                                              \n",
      "--------------------------------                                                    \n",
      "Device is cuda:0.                                                                   \n",
      "\n",
      " 88%|████████▊ | 44/50 [10:03:05<1:12:44, 727.50s/it, best loss: -0.352691566326805]"
     ]
    },
    {
     "data": {
      "text/html": [
       "Finishing last run (ID:3sfx6yhg) before initializing another..."
      ],
      "text/plain": [
       "<IPython.core.display.HTML object>"
      ]
     },
     "metadata": {},
     "output_type": "display_data"
    },
    {
     "data": {
      "text/html": [
       "<br/>Waiting for W&B process to finish, PID 218917... <strong style=\"color:green\">(success).</strong>"
      ],
      "text/plain": [
       "<IPython.core.display.HTML object>"
      ]
     },
     "metadata": {},
     "output_type": "display_data"
    },
    {
     "data": {
      "application/vnd.jupyter.widget-view+json": {
       "model_id": "",
       "version_major": 2,
       "version_minor": 0
      },
      "text/plain": [
       "VBox(children=(Label(value=' 0.00MB of 0.00MB uploaded (0.00MB deduped)\\r'), FloatProgress(value=1.0, max=1.0)…"
      ]
     },
     "metadata": {},
     "output_type": "display_data"
    },
    {
     "data": {
      "text/html": [
       "<style>\n",
       "    table.wandb td:nth-child(1) { padding: 0 10px; text-align: right }\n",
       "    .wandb-row { display: flex; flex-direction: row; flex-wrap: wrap; width: 100% }\n",
       "    .wandb-col { display: flex; flex-direction: column; flex-basis: 100%; flex: 1; padding: 10px; }\n",
       "    </style>\n",
       "<div class=\"wandb-row\"><div class=\"wandb-col\">\n",
       "</div><div class=\"wandb-col\">\n",
       "<h3>Run summary:</h3><br/><table class=\"wandb\"><tr><td>train_accuracy</td><td>0.71551</td></tr><tr><td>train_batch_loss</td><td>0.83857</td></tr><tr><td>train_epoch_loss</td><td>1.35803</td></tr><tr><td>train_score</td><td>-0.75315</td></tr><tr><td>valid_accuracy</td><td>0.69934</td></tr><tr><td>valid_epoch_loss</td><td>1.43764</td></tr><tr><td>valid_score</td><td>-0.80182</td></tr></table>\n",
       "</div></div>\n",
       "Synced 6 W&B file(s), 0 media file(s), 0 artifact file(s) and 0 other file(s)\n",
       "<br/>Synced <strong style=\"color:#cdcd00\">clear-totem-98</strong>: <a href=\"https://wandb.ai/2djagpal/Lithology-LSTM_search_new/runs/3sfx6yhg\" target=\"_blank\">https://wandb.ai/2djagpal/Lithology-LSTM_search_new/runs/3sfx6yhg</a><br/>\n",
       "Find logs at: <code>./wandb/run-20211206_011922-3sfx6yhg/logs</code><br/>\n"
      ],
      "text/plain": [
       "<IPython.core.display.HTML object>"
      ]
     },
     "metadata": {},
     "output_type": "display_data"
    },
    {
     "data": {
      "text/html": [
       "Successfully finished last run (ID:3sfx6yhg). Initializing new run:<br/>"
      ],
      "text/plain": [
       "<IPython.core.display.HTML object>"
      ]
     },
     "metadata": {},
     "output_type": "display_data"
    },
    {
     "data": {
      "text/html": [
       "\n",
       "                    Syncing run <strong><a href=\"https://wandb.ai/2djagpal/Lithology-LSTM_search_new/runs/cb2aza3y\" target=\"_blank\">skilled-donkey-99</a></strong> to <a href=\"https://wandb.ai/2djagpal/Lithology-LSTM_search_new\" target=\"_blank\">Weights & Biases</a> (<a href=\"https://docs.wandb.com/integrations/jupyter.html\" target=\"_blank\">docs</a>).<br/>\n",
       "\n",
       "                "
      ],
      "text/plain": [
       "<IPython.core.display.HTML object>"
      ]
     },
     "metadata": {},
     "output_type": "display_data"
    },
    {
     "name": "stdout",
     "output_type": "stream",
     "text": [
      "Loading Data ...                                                                    \n",
      "\n",
      "Starting training...                                                                \n",
      "\n",
      "Training:                                                                           \n",
      "Epoch: 1 ... Accuracy: 0.6337465786851686 ... Score: -1.0474568270915807            \n",
      "\n",
      "Validation:                                                                         \n",
      "Epoch: 1 ... Accuracy: 0.6245568171139076 ... Score: -1.0823743496424636            \n",
      "\n",
      "Training:                                                                           \n",
      "Epoch: 2 ... Accuracy: 0.6845662525669873 ... Score: -0.8832835064592501            \n",
      "\n",
      "Validation:                                                                         \n",
      "Epoch: 2 ... Accuracy: 0.669742249105091 ... Score: -0.9283816456074703             \n",
      "\n",
      "Training:                                                                           \n",
      "Epoch: 3 ... Accuracy: 0.56089272956582 ... Score: -1.2276234263019685              \n",
      "\n",
      "Validation:                                                                         \n",
      "Epoch: 3 ... Accuracy: 0.5482097547223005 ... Score: -1.2681090934720762            \n",
      "\n",
      "Training:                                                                           \n",
      "Epoch: 4 ... Accuracy: 0.6365274148368929 ... Score: -0.9360590564593035            \n",
      "\n",
      "Validation:                                                                         \n",
      "Epoch: 4 ... Accuracy: 0.6202809031960428 ... Score: -0.98155558260929              \n",
      "\n",
      "Training:                                                                           \n",
      "Epoch: 5 ... Accuracy: 0.7302717081958845 ... Score: -0.714171238208945             \n",
      "\n",
      "Validation:                                                                         \n",
      "Epoch: 5 ... Accuracy: 0.7128046748853064 ... Score: -0.7694242253376733            \n",
      "\n",
      "Class F1 Scores                                                                     \n",
      "Training:                                                                           \n",
      "[0.65692192 0.21308526 0.85457109 0.32484279 0.         0.59664985\n",
      " 0.17289014 0.61296859 0.72289157 0.49824824 0.49125729 0.13483146]\n",
      "\n",
      "Validation:                                                                         \n",
      "[0.61885229 0.20254126 0.84336755 0.30953324 0.         0.57025113\n",
      " 0.1888082  0.61158364 0.66831683 0.47010535 0.39613527 0.17391304]\n",
      "\n",
      "Training Runtime: 401.5179240703583                                                 \n",
      "\n",
      "Model Fitting Complete                                                              \n",
      "Fold 3 Validation Score: 0.4088337168335173                                         \n",
      "--------------------------------                                                    \n",
      "FOLD 4                                                                              \n",
      "--------------------------------                                                    \n",
      "Device is cuda:0.                                                                   \n",
      "\n",
      " 88%|████████▊ | 44/50 [10:09:50<1:12:44, 727.50s/it, best loss: -0.352691566326805]"
     ]
    },
    {
     "data": {
      "text/html": [
       "Finishing last run (ID:cb2aza3y) before initializing another..."
      ],
      "text/plain": [
       "<IPython.core.display.HTML object>"
      ]
     },
     "metadata": {},
     "output_type": "display_data"
    },
    {
     "data": {
      "text/html": [
       "<br/>Waiting for W&B process to finish, PID 219507... <strong style=\"color:green\">(success).</strong>"
      ],
      "text/plain": [
       "<IPython.core.display.HTML object>"
      ]
     },
     "metadata": {},
     "output_type": "display_data"
    },
    {
     "data": {
      "application/vnd.jupyter.widget-view+json": {
       "model_id": "",
       "version_major": 2,
       "version_minor": 0
      },
      "text/plain": [
       "VBox(children=(Label(value=' 0.00MB of 0.00MB uploaded (0.00MB deduped)\\r'), FloatProgress(value=1.0, max=1.0)…"
      ]
     },
     "metadata": {},
     "output_type": "display_data"
    },
    {
     "data": {
      "text/html": [
       "<style>\n",
       "    table.wandb td:nth-child(1) { padding: 0 10px; text-align: right }\n",
       "    .wandb-row { display: flex; flex-direction: row; flex-wrap: wrap; width: 100% }\n",
       "    .wandb-col { display: flex; flex-direction: column; flex-basis: 100%; flex: 1; padding: 10px; }\n",
       "    </style>\n",
       "<div class=\"wandb-row\"><div class=\"wandb-col\">\n",
       "</div><div class=\"wandb-col\">\n",
       "<h3>Run summary:</h3><br/><table class=\"wandb\"><tr><td>train_accuracy</td><td>0.73027</td></tr><tr><td>train_batch_loss</td><td>0.91096</td></tr><tr><td>train_epoch_loss</td><td>1.35962</td></tr><tr><td>train_score</td><td>-0.71417</td></tr><tr><td>valid_accuracy</td><td>0.7128</td></tr><tr><td>valid_epoch_loss</td><td>1.44524</td></tr><tr><td>valid_score</td><td>-0.76942</td></tr></table>\n",
       "</div></div>\n",
       "Synced 6 W&B file(s), 0 media file(s), 0 artifact file(s) and 0 other file(s)\n",
       "<br/>Synced <strong style=\"color:#cdcd00\">skilled-donkey-99</strong>: <a href=\"https://wandb.ai/2djagpal/Lithology-LSTM_search_new/runs/cb2aza3y\" target=\"_blank\">https://wandb.ai/2djagpal/Lithology-LSTM_search_new/runs/cb2aza3y</a><br/>\n",
       "Find logs at: <code>./wandb/run-20211206_012608-cb2aza3y/logs</code><br/>\n"
      ],
      "text/plain": [
       "<IPython.core.display.HTML object>"
      ]
     },
     "metadata": {},
     "output_type": "display_data"
    },
    {
     "data": {
      "text/html": [
       "Successfully finished last run (ID:cb2aza3y). Initializing new run:<br/>"
      ],
      "text/plain": [
       "<IPython.core.display.HTML object>"
      ]
     },
     "metadata": {},
     "output_type": "display_data"
    },
    {
     "data": {
      "text/html": [
       "\n",
       "                    Syncing run <strong><a href=\"https://wandb.ai/2djagpal/Lithology-LSTM_search_new/runs/3t14f21m\" target=\"_blank\">fine-donkey-100</a></strong> to <a href=\"https://wandb.ai/2djagpal/Lithology-LSTM_search_new\" target=\"_blank\">Weights & Biases</a> (<a href=\"https://docs.wandb.com/integrations/jupyter.html\" target=\"_blank\">docs</a>).<br/>\n",
       "\n",
       "                "
      ],
      "text/plain": [
       "<IPython.core.display.HTML object>"
      ]
     },
     "metadata": {},
     "output_type": "display_data"
    },
    {
     "name": "stdout",
     "output_type": "stream",
     "text": [
      "Loading Data ...                                                                    \n",
      "\n",
      "Starting training...                                                                \n",
      "\n",
      "Training:                                                                           \n",
      "Epoch: 1 ... Accuracy: 0.6858092991417212 ... Score: -0.8493807193224329            \n",
      "\n",
      "Validation:                                                                         \n",
      "Epoch: 1 ... Accuracy: 0.6700455357066578 ... Score: -0.8970753133249609            \n",
      "\n",
      "Training:                                                                           \n",
      "Epoch: 2 ... Accuracy: 0.6325409089404309 ... Score: -1.0208618776624316            \n",
      "\n",
      "Validation:                                                                         \n",
      "Epoch: 2 ... Accuracy: 0.6210497988056488 ... Score: -1.0615484916831124            \n",
      "\n",
      "Training:                                                                           \n",
      "Epoch: 3 ... Accuracy: 0.6867725534461971 ... Score: -0.8214460775152738            \n",
      "\n",
      "Validation:                                                                         \n",
      "Epoch: 3 ... Accuracy: 0.6669315084877532 ... Score: -0.880153202450214             \n",
      "\n",
      "Training:                                                                           \n",
      "Epoch: 4 ... Accuracy: 0.6960889953001306 ... Score: -0.808786812172886             \n",
      "\n",
      "Validation:                                                                         \n",
      "Epoch: 4 ... Accuracy: 0.6788921068594032 ... Score: -0.8604737464865743            \n",
      "\n",
      "Training:                                                                           \n",
      "Epoch: 5 ... Accuracy: 0.7042115144130396 ... Score: -0.8174423515792778            \n",
      "\n",
      "Validation:                                                                         \n",
      "Epoch: 5 ... Accuracy: 0.6860129345328105 ... Score: -0.875415417211301             \n",
      "\n",
      "Class F1 Scores                                                                     \n",
      "Training:                                                                           \n",
      "[0.63676996 0.28376212 0.8436745  0.11739313 0.         0.47100286\n",
      " 0.         0.7049149  0.69177403 0.41261883 0.39175258 0.15730337]\n",
      "\n",
      "Validation:                                                                         \n",
      "[0.60050202 0.27017869 0.83191558 0.10593111 0.         0.44428973\n",
      " 0.         0.7050744  0.66522678 0.4009901  0.30971129 0.09090909]\n",
      "\n",
      "Training Runtime: 403.13559007644653                                                \n",
      "\n",
      "Model Fitting Complete                                                              \n",
      "Fold 4 Validation Score: 0.3430602572513509                                         \n",
      "********************************                                                    \n",
      "F1 Score too low ... stopped early.                                                 \n",
      "********************************                                                    \n",
      "{'hidden_dim': 447, 'n_layers': 2, 'window_size': 5}                                 \n",
      "--------------------------------                                                     \n",
      "FOLD 0                                                                               \n",
      "--------------------------------                                                     \n",
      "Device is cuda:0.                                                                    \n",
      "\n",
      " 90%|█████████ | 45/50 [10:16:37<1:33:09, 1117.86s/it, best loss: -0.352691566326805]"
     ]
    },
    {
     "data": {
      "text/html": [
       "Finishing last run (ID:3t14f21m) before initializing another..."
      ],
      "text/plain": [
       "<IPython.core.display.HTML object>"
      ]
     },
     "metadata": {},
     "output_type": "display_data"
    },
    {
     "data": {
      "text/html": [
       "<br/>Waiting for W&B process to finish, PID 221369... <strong style=\"color:green\">(success).</strong>"
      ],
      "text/plain": [
       "<IPython.core.display.HTML object>"
      ]
     },
     "metadata": {},
     "output_type": "display_data"
    },
    {
     "data": {
      "application/vnd.jupyter.widget-view+json": {
       "model_id": "",
       "version_major": 2,
       "version_minor": 0
      },
      "text/plain": [
       "VBox(children=(Label(value=' 0.00MB of 0.00MB uploaded (0.00MB deduped)\\r'), FloatProgress(value=1.0, max=1.0)…"
      ]
     },
     "metadata": {},
     "output_type": "display_data"
    },
    {
     "data": {
      "text/html": [
       "<style>\n",
       "    table.wandb td:nth-child(1) { padding: 0 10px; text-align: right }\n",
       "    .wandb-row { display: flex; flex-direction: row; flex-wrap: wrap; width: 100% }\n",
       "    .wandb-col { display: flex; flex-direction: column; flex-basis: 100%; flex: 1; padding: 10px; }\n",
       "    </style>\n",
       "<div class=\"wandb-row\"><div class=\"wandb-col\">\n",
       "</div><div class=\"wandb-col\">\n",
       "<h3>Run summary:</h3><br/><table class=\"wandb\"><tr><td>train_accuracy</td><td>0.70421</td></tr><tr><td>train_batch_loss</td><td>0.99421</td></tr><tr><td>train_epoch_loss</td><td>1.406</td></tr><tr><td>train_score</td><td>-0.81744</td></tr><tr><td>valid_accuracy</td><td>0.68601</td></tr><tr><td>valid_epoch_loss</td><td>1.49441</td></tr><tr><td>valid_score</td><td>-0.87542</td></tr></table>\n",
       "</div></div>\n",
       "Synced 6 W&B file(s), 0 media file(s), 0 artifact file(s) and 0 other file(s)\n",
       "<br/>Synced <strong style=\"color:#cdcd00\">fine-donkey-100</strong>: <a href=\"https://wandb.ai/2djagpal/Lithology-LSTM_search_new/runs/3t14f21m\" target=\"_blank\">https://wandb.ai/2djagpal/Lithology-LSTM_search_new/runs/3t14f21m</a><br/>\n",
       "Find logs at: <code>./wandb/run-20211206_013253-3t14f21m/logs</code><br/>\n"
      ],
      "text/plain": [
       "<IPython.core.display.HTML object>"
      ]
     },
     "metadata": {},
     "output_type": "display_data"
    },
    {
     "data": {
      "text/html": [
       "Successfully finished last run (ID:3t14f21m). Initializing new run:<br/>"
      ],
      "text/plain": [
       "<IPython.core.display.HTML object>"
      ]
     },
     "metadata": {},
     "output_type": "display_data"
    },
    {
     "data": {
      "text/html": [
       "\n",
       "                    Syncing run <strong><a href=\"https://wandb.ai/2djagpal/Lithology-LSTM_search_new/runs/23gw2963\" target=\"_blank\">stellar-frog-101</a></strong> to <a href=\"https://wandb.ai/2djagpal/Lithology-LSTM_search_new\" target=\"_blank\">Weights & Biases</a> (<a href=\"https://docs.wandb.com/integrations/jupyter.html\" target=\"_blank\">docs</a>).<br/>\n",
       "\n",
       "                "
      ],
      "text/plain": [
       "<IPython.core.display.HTML object>"
      ]
     },
     "metadata": {},
     "output_type": "display_data"
    },
    {
     "name": "stdout",
     "output_type": "stream",
     "text": [
      "Loading Data ...                                                                     \n",
      "\n",
      "Starting training...                                                                 \n",
      "\n",
      "Training:                                                                            \n",
      "Epoch: 1 ... Accuracy: 0.6479333794670699 ... Score: -0.9704929635372616             \n",
      "\n",
      "Validation:                                                                          \n",
      "Epoch: 1 ... Accuracy: 0.6339559937292559 ... Score: -1.0144471664182004             \n",
      "\n",
      "Training:                                                                            \n",
      "Epoch: 2 ... Accuracy: 0.7106090507556535 ... Score: -0.782150916053686              \n",
      "\n",
      "Validation:                                                                          \n",
      "Epoch: 2 ... Accuracy: 0.6960739503551855 ... Score: -0.8336095650205252             \n",
      "\n",
      "Training:                                                                            \n",
      "Epoch: 3 ... Accuracy: 0.7109796157230609 ... Score: -0.7656092483191088             \n",
      "\n",
      "Validation:                                                                          \n",
      "Epoch: 3 ... Accuracy: 0.6934682596976545 ... Score: -0.818197545524833              \n",
      "\n",
      "Training:                                                                            \n",
      "Epoch: 4 ... Accuracy: 0.5854830373085236 ... Score: -1.0678331453810732             \n",
      "\n",
      "Validation:                                                                          \n",
      "Epoch: 4 ... Accuracy: 0.5705266485265033 ... Score: -1.1119090742109243             \n",
      "\n",
      "Training:                                                                            \n",
      "Epoch: 5 ... Accuracy: 0.5898208900393845 ... Score: -1.074937954395947              \n",
      "\n",
      "Validation:                                                                          \n",
      "Epoch: 5 ... Accuracy: 0.5758875366825713 ... Score: -1.1163750571329714             \n",
      "\n",
      "Class F1 Scores                                                                      \n",
      "Training:                                                                            \n",
      "[0.63389444 0.30972642 0.73423945 0.32876818 0.00295203 0.33529037\n",
      " 0.53427101 0.60794756 0.72451951 0.23323005 0.52481858 0.13636364]\n",
      "\n",
      "Validation:                                                                          \n",
      "[0.60014347 0.30050412 0.72523612 0.31558731 0.         0.31244387\n",
      " 0.54020275 0.60277325 0.68599034 0.2277315  0.38757764 0.        ]\n",
      "\n",
      "Training Runtime: 428.7272918224335                                                  \n",
      "\n",
      "Model Fitting Complete                                                               \n",
      "Fold 0 Validation Score: 0.33811503336666054                                         \n",
      "********************************                                                     \n",
      "F1 Score too low ... stopped early.                                                  \n",
      "********************************                                                     \n",
      "{'hidden_dim': 36, 'n_layers': 1, 'window_size': 8}                                  \n",
      "--------------------------------                                                    \n",
      "FOLD 0                                                                              \n",
      "--------------------------------                                                    \n",
      "Device is cuda:0.                                                                   \n",
      "\n",
      " 92%|█████████▏| 46/50 [10:23:49<1:00:48, 912.20s/it, best loss: -0.352691566326805]"
     ]
    },
    {
     "data": {
      "text/html": [
       "Finishing last run (ID:23gw2963) before initializing another..."
      ],
      "text/plain": [
       "<IPython.core.display.HTML object>"
      ]
     },
     "metadata": {},
     "output_type": "display_data"
    },
    {
     "data": {
      "text/html": [
       "<br/>Waiting for W&B process to finish, PID 223143... <strong style=\"color:green\">(success).</strong>"
      ],
      "text/plain": [
       "<IPython.core.display.HTML object>"
      ]
     },
     "metadata": {},
     "output_type": "display_data"
    },
    {
     "data": {
      "application/vnd.jupyter.widget-view+json": {
       "model_id": "",
       "version_major": 2,
       "version_minor": 0
      },
      "text/plain": [
       "VBox(children=(Label(value=' 0.00MB of 0.00MB uploaded (0.00MB deduped)\\r'), FloatProgress(value=1.0, max=1.0)…"
      ]
     },
     "metadata": {},
     "output_type": "display_data"
    },
    {
     "data": {
      "text/html": [
       "<style>\n",
       "    table.wandb td:nth-child(1) { padding: 0 10px; text-align: right }\n",
       "    .wandb-row { display: flex; flex-direction: row; flex-wrap: wrap; width: 100% }\n",
       "    .wandb-col { display: flex; flex-direction: column; flex-basis: 100%; flex: 1; padding: 10px; }\n",
       "    </style>\n",
       "<div class=\"wandb-row\"><div class=\"wandb-col\">\n",
       "</div><div class=\"wandb-col\">\n",
       "<h3>Run summary:</h3><br/><table class=\"wandb\"><tr><td>train_accuracy</td><td>0.58982</td></tr><tr><td>train_batch_loss</td><td>0.95496</td></tr><tr><td>train_epoch_loss</td><td>1.24984</td></tr><tr><td>train_score</td><td>-1.07494</td></tr><tr><td>valid_accuracy</td><td>0.57589</td></tr><tr><td>valid_epoch_loss</td><td>1.34505</td></tr><tr><td>valid_score</td><td>-1.11638</td></tr></table>\n",
       "</div></div>\n",
       "Synced 6 W&B file(s), 0 media file(s), 0 artifact file(s) and 0 other file(s)\n",
       "<br/>Synced <strong style=\"color:#cdcd00\">stellar-frog-101</strong>: <a href=\"https://wandb.ai/2djagpal/Lithology-LSTM_search_new/runs/23gw2963\" target=\"_blank\">https://wandb.ai/2djagpal/Lithology-LSTM_search_new/runs/23gw2963</a><br/>\n",
       "Find logs at: <code>./wandb/run-20211206_013940-23gw2963/logs</code><br/>\n"
      ],
      "text/plain": [
       "<IPython.core.display.HTML object>"
      ]
     },
     "metadata": {},
     "output_type": "display_data"
    },
    {
     "data": {
      "text/html": [
       "Successfully finished last run (ID:23gw2963). Initializing new run:<br/>"
      ],
      "text/plain": [
       "<IPython.core.display.HTML object>"
      ]
     },
     "metadata": {},
     "output_type": "display_data"
    },
    {
     "data": {
      "text/html": [
       "\n",
       "                    Syncing run <strong><a href=\"https://wandb.ai/2djagpal/Lithology-LSTM_search_new/runs/34psfd7j\" target=\"_blank\">robust-pyramid-102</a></strong> to <a href=\"https://wandb.ai/2djagpal/Lithology-LSTM_search_new\" target=\"_blank\">Weights & Biases</a> (<a href=\"https://docs.wandb.com/integrations/jupyter.html\" target=\"_blank\">docs</a>).<br/>\n",
       "\n",
       "                "
      ],
      "text/plain": [
       "<IPython.core.display.HTML object>"
      ]
     },
     "metadata": {},
     "output_type": "display_data"
    },
    {
     "name": "stdout",
     "output_type": "stream",
     "text": [
      "Loading Data ...                                                                    \n",
      "\n",
      "Starting training...                                                                \n",
      "\n",
      "Training:                                                                           \n",
      "Epoch: 1 ... Accuracy: 0.6308692364866597 ... Score: -1.0679871914806367            \n",
      "\n",
      "Validation:                                                                         \n",
      "Epoch: 1 ... Accuracy: 0.6264379354386744 ... Score: -1.082412442386471             \n",
      "\n",
      "Training:                                                                           \n",
      "Epoch: 2 ... Accuracy: 0.6411873884033455 ... Score: -0.9832555627461533            \n",
      "\n",
      "Validation:                                                                         \n",
      "Epoch: 2 ... Accuracy: 0.6281551282982277 ... Score: -1.021895810818315             \n",
      "\n",
      "Training:                                                                           \n",
      "Epoch: 3 ... Accuracy: 0.6849247336631041 ... Score: -0.875608175068987             \n",
      "\n",
      "Validation:                                                                         \n",
      "Epoch: 3 ... Accuracy: 0.6710294186746859 ... Score: -0.9218666569843189            \n",
      "\n",
      "Training:                                                                           \n",
      "Epoch: 4 ... Accuracy: 0.7088854430974533 ... Score: -0.7894297944912901            \n",
      "\n",
      "Validation:                                                                         \n",
      "Epoch: 4 ... Accuracy: 0.6928574174615447 ... Score: -0.8388919620850651            \n",
      "\n",
      "Training:                                                                           \n",
      "Epoch: 5 ... Accuracy: 0.6754747930389318 ... Score: -0.9022128975831049            \n",
      "\n",
      "Validation:                                                                         \n",
      "Epoch: 5 ... Accuracy: 0.6587826725842898 ... Score: -0.954943977650863             \n",
      "\n",
      "Class F1 Scores                                                                     \n",
      "Training:                                                                           \n",
      "[0.57371837 0.23733985 0.82721641 0.00779308 0.         0.47787981\n",
      " 0.00944669 0.58806525 0.         0.26315169 0.0058651  0.02409639]\n",
      "\n",
      "Validation:                                                                         \n",
      "[0.54277357 0.22558129 0.81443234 0.00801663 0.         0.46435579\n",
      " 0.01175938 0.59639048 0.         0.22988506 0.00522193 0.        ]\n",
      "\n",
      "Training Runtime: 379.70085740089417                                                \n",
      "\n",
      "Model Fitting Complete                                                              \n",
      "Fold 0 Validation Score: 0.2156458454156288                                         \n",
      "********************************                                                    \n",
      "F1 Score too low ... stopped early.                                                 \n",
      "********************************                                                    \n",
      "{'hidden_dim': 360, 'n_layers': 1, 'window_size': 4}                                \n",
      "--------------------------------                                                  \n",
      "FOLD 0                                                                            \n",
      "--------------------------------                                                  \n",
      "Device is cuda:0.                                                                 \n",
      "\n",
      " 94%|█████████▍| 47/50 [10:30:12<37:40, 753.43s/it, best loss: -0.352691566326805]"
     ]
    },
    {
     "data": {
      "text/html": [
       "Finishing last run (ID:34psfd7j) before initializing another..."
      ],
      "text/plain": [
       "<IPython.core.display.HTML object>"
      ]
     },
     "metadata": {},
     "output_type": "display_data"
    },
    {
     "data": {
      "text/html": [
       "<br/>Waiting for W&B process to finish, PID 225157... <strong style=\"color:green\">(success).</strong>"
      ],
      "text/plain": [
       "<IPython.core.display.HTML object>"
      ]
     },
     "metadata": {},
     "output_type": "display_data"
    },
    {
     "data": {
      "application/vnd.jupyter.widget-view+json": {
       "model_id": "",
       "version_major": 2,
       "version_minor": 0
      },
      "text/plain": [
       "VBox(children=(Label(value=' 0.00MB of 0.00MB uploaded (0.00MB deduped)\\r'), FloatProgress(value=1.0, max=1.0)…"
      ]
     },
     "metadata": {},
     "output_type": "display_data"
    },
    {
     "data": {
      "text/html": [
       "<style>\n",
       "    table.wandb td:nth-child(1) { padding: 0 10px; text-align: right }\n",
       "    .wandb-row { display: flex; flex-direction: row; flex-wrap: wrap; width: 100% }\n",
       "    .wandb-col { display: flex; flex-direction: column; flex-basis: 100%; flex: 1; padding: 10px; }\n",
       "    </style>\n",
       "<div class=\"wandb-row\"><div class=\"wandb-col\">\n",
       "</div><div class=\"wandb-col\">\n",
       "<h3>Run summary:</h3><br/><table class=\"wandb\"><tr><td>train_accuracy</td><td>0.67547</td></tr><tr><td>train_batch_loss</td><td>1.19022</td></tr><tr><td>train_epoch_loss</td><td>1.73287</td></tr><tr><td>train_score</td><td>-0.90221</td></tr><tr><td>valid_accuracy</td><td>0.65878</td></tr><tr><td>valid_epoch_loss</td><td>1.77727</td></tr><tr><td>valid_score</td><td>-0.95494</td></tr></table>\n",
       "</div></div>\n",
       "Synced 6 W&B file(s), 0 media file(s), 0 artifact file(s) and 0 other file(s)\n",
       "<br/>Synced <strong style=\"color:#cdcd00\">robust-pyramid-102</strong>: <a href=\"https://wandb.ai/2djagpal/Lithology-LSTM_search_new/runs/34psfd7j\" target=\"_blank\">https://wandb.ai/2djagpal/Lithology-LSTM_search_new/runs/34psfd7j</a><br/>\n",
       "Find logs at: <code>./wandb/run-20211206_014652-34psfd7j/logs</code><br/>\n"
      ],
      "text/plain": [
       "<IPython.core.display.HTML object>"
      ]
     },
     "metadata": {},
     "output_type": "display_data"
    },
    {
     "data": {
      "text/html": [
       "Successfully finished last run (ID:34psfd7j). Initializing new run:<br/>"
      ],
      "text/plain": [
       "<IPython.core.display.HTML object>"
      ]
     },
     "metadata": {},
     "output_type": "display_data"
    },
    {
     "data": {
      "text/html": [
       "\n",
       "                    Syncing run <strong><a href=\"https://wandb.ai/2djagpal/Lithology-LSTM_search_new/runs/xp6e42wi\" target=\"_blank\">logical-leaf-103</a></strong> to <a href=\"https://wandb.ai/2djagpal/Lithology-LSTM_search_new\" target=\"_blank\">Weights & Biases</a> (<a href=\"https://docs.wandb.com/integrations/jupyter.html\" target=\"_blank\">docs</a>).<br/>\n",
       "\n",
       "                "
      ],
      "text/plain": [
       "<IPython.core.display.HTML object>"
      ]
     },
     "metadata": {},
     "output_type": "display_data"
    },
    {
     "name": "stdout",
     "output_type": "stream",
     "text": [
      "Loading Data ...                                                                  \n",
      "\n",
      "Starting training...                                                              \n",
      "\n",
      "Training:                                                                         \n",
      "Epoch: 1 ... Accuracy: 0.6717926373973738 ... Score: -0.8892743601079871          \n",
      "\n",
      "Validation:                                                                       \n",
      "Epoch: 1 ... Accuracy: 0.6557669060199998 ... Score: -0.9356784193282444          \n",
      "\n",
      "Training:                                                                         \n",
      "Epoch: 2 ... Accuracy: 0.6414981503788947 ... Score: -0.9713602404080273          \n",
      "\n",
      "Validation:                                                                       \n",
      "Epoch: 2 ... Accuracy: 0.62214922491382 ... Score: -1.0286412391126982            \n",
      "\n",
      "Training:                                                                         \n",
      "Epoch: 3 ... Accuracy: 0.7190028278271864 ... Score: -0.7473479775909646          \n",
      "\n",
      "Validation:                                                                       \n",
      "Epoch: 3 ... Accuracy: 0.7015202709918283 ... Score: -0.8023503543312132          \n",
      "\n",
      "Training:                                                                         \n",
      "Epoch: 4 ... Accuracy: 0.6658326285123579 ... Score: -0.8857988451615108          \n",
      "\n",
      "Validation:                                                                       \n",
      "Epoch: 4 ... Accuracy: 0.6515251833594614 ... Score: -0.931288791685711           \n",
      "\n",
      "Training:                                                                         \n",
      "Epoch: 5 ... Accuracy: 0.71832150088423 ... Score: -0.7200130712253633            \n",
      "\n",
      "Validation:                                                                       \n",
      "Epoch: 5 ... Accuracy: 0.7025796337509558 ... Score: -0.7700168301986733          \n",
      "\n",
      "Class F1 Scores                                                                   \n",
      "Training:                                                                         \n",
      "[0.58412239 0.36447041 0.85464964 0.16532271 0.         0.46002007\n",
      " 0.56341409 0.96347305 0.66100094 0.48916409 0.503981   0.11494253]\n",
      "\n",
      "Validation:                                                                       \n",
      "[0.54153444 0.35423156 0.84292175 0.16559406 0.         0.43336817\n",
      " 0.56941529 0.9600477  0.60348162 0.48001003 0.35280236 0.24      ]\n",
      "\n",
      "Training Runtime: 387.317999124527                                                \n",
      "\n",
      "Model Fitting Complete                                                            \n",
      "Fold 0 Validation Score: 0.42600135733093003                                      \n",
      "--------------------------------                                                  \n",
      "FOLD 1                                                                            \n",
      "--------------------------------                                                  \n",
      "Device is cuda:0.                                                                 \n",
      "\n",
      " 94%|█████████▍| 47/50 [10:36:43<37:40, 753.43s/it, best loss: -0.352691566326805]"
     ]
    },
    {
     "data": {
      "text/html": [
       "Finishing last run (ID:xp6e42wi) before initializing another..."
      ],
      "text/plain": [
       "<IPython.core.display.HTML object>"
      ]
     },
     "metadata": {},
     "output_type": "display_data"
    },
    {
     "data": {
      "text/html": [
       "<br/>Waiting for W&B process to finish, PID 226862... <strong style=\"color:green\">(success).</strong>"
      ],
      "text/plain": [
       "<IPython.core.display.HTML object>"
      ]
     },
     "metadata": {},
     "output_type": "display_data"
    },
    {
     "data": {
      "application/vnd.jupyter.widget-view+json": {
       "model_id": "",
       "version_major": 2,
       "version_minor": 0
      },
      "text/plain": [
       "VBox(children=(Label(value=' 0.00MB of 0.00MB uploaded (0.00MB deduped)\\r'), FloatProgress(value=1.0, max=1.0)…"
      ]
     },
     "metadata": {},
     "output_type": "display_data"
    },
    {
     "data": {
      "text/html": [
       "<style>\n",
       "    table.wandb td:nth-child(1) { padding: 0 10px; text-align: right }\n",
       "    .wandb-row { display: flex; flex-direction: row; flex-wrap: wrap; width: 100% }\n",
       "    .wandb-col { display: flex; flex-direction: column; flex-basis: 100%; flex: 1; padding: 10px; }\n",
       "    </style>\n",
       "<div class=\"wandb-row\"><div class=\"wandb-col\">\n",
       "</div><div class=\"wandb-col\">\n",
       "<h3>Run summary:</h3><br/><table class=\"wandb\"><tr><td>train_accuracy</td><td>0.71832</td></tr><tr><td>train_batch_loss</td><td>0.95148</td></tr><tr><td>train_epoch_loss</td><td>1.39632</td></tr><tr><td>train_score</td><td>-0.72001</td></tr><tr><td>valid_accuracy</td><td>0.70258</td></tr><tr><td>valid_epoch_loss</td><td>1.49732</td></tr><tr><td>valid_score</td><td>-0.77002</td></tr></table>\n",
       "</div></div>\n",
       "Synced 6 W&B file(s), 0 media file(s), 0 artifact file(s) and 0 other file(s)\n",
       "<br/>Synced <strong style=\"color:#cdcd00\">logical-leaf-103</strong>: <a href=\"https://wandb.ai/2djagpal/Lithology-LSTM_search_new/runs/xp6e42wi\" target=\"_blank\">https://wandb.ai/2djagpal/Lithology-LSTM_search_new/runs/xp6e42wi</a><br/>\n",
       "Find logs at: <code>./wandb/run-20211206_015315-xp6e42wi/logs</code><br/>\n"
      ],
      "text/plain": [
       "<IPython.core.display.HTML object>"
      ]
     },
     "metadata": {},
     "output_type": "display_data"
    },
    {
     "data": {
      "text/html": [
       "Successfully finished last run (ID:xp6e42wi). Initializing new run:<br/>"
      ],
      "text/plain": [
       "<IPython.core.display.HTML object>"
      ]
     },
     "metadata": {},
     "output_type": "display_data"
    },
    {
     "data": {
      "text/html": [
       "\n",
       "                    Syncing run <strong><a href=\"https://wandb.ai/2djagpal/Lithology-LSTM_search_new/runs/3at5oyyw\" target=\"_blank\">bumbling-water-104</a></strong> to <a href=\"https://wandb.ai/2djagpal/Lithology-LSTM_search_new\" target=\"_blank\">Weights & Biases</a> (<a href=\"https://docs.wandb.com/integrations/jupyter.html\" target=\"_blank\">docs</a>).<br/>\n",
       "\n",
       "                "
      ],
      "text/plain": [
       "<IPython.core.display.HTML object>"
      ]
     },
     "metadata": {},
     "output_type": "display_data"
    },
    {
     "name": "stdout",
     "output_type": "stream",
     "text": [
      "Loading Data ...                                                                  \n",
      "\n",
      "Starting training...                                                              \n",
      "\n",
      "Training:                                                                         \n",
      "Epoch: 1 ... Accuracy: 0.5317323947121396 ... Score: -1.402432190421066           \n",
      "\n",
      "Validation:                                                                       \n",
      "Epoch: 1 ... Accuracy: 0.523515390727119 ... Score: -1.4325699908586855           \n",
      "\n",
      "Training:                                                                         \n",
      "Epoch: 2 ... Accuracy: 0.6504796515197953 ... Score: -0.9529070630461689          \n",
      "\n",
      "Validation:                                                                       \n",
      "Epoch: 2 ... Accuracy: 0.6361415109653057 ... Score: -0.9956439927894678          \n",
      "\n",
      "Training:                                                                         \n",
      "Epoch: 3 ... Accuracy: 0.6493455317067649 ... Score: -0.9222312312248173          \n",
      "\n",
      "Validation:                                                                       \n",
      "Epoch: 3 ... Accuracy: 0.6311436895028663 ... Score: -0.9763425771672177          \n",
      "\n",
      "Training:                                                                         \n",
      "Epoch: 4 ... Accuracy: 0.7273264139921765 ... Score: -0.7306921975333428          \n",
      "\n",
      "Validation:                                                                       \n",
      "Epoch: 4 ... Accuracy: 0.710416826853252 ... Score: -0.7848122826801992           \n",
      "\n",
      "Training:                                                                         \n",
      "Epoch: 5 ... Accuracy: 0.7185845074107575 ... Score: -0.7343768855275846          \n",
      "\n",
      "Validation:                                                                       \n",
      "Epoch: 5 ... Accuracy: 0.7030781454237897 ... Score: -0.7827618943879163          \n",
      "\n",
      "Class F1 Scores                                                                   \n",
      "Training:                                                                         \n",
      "[0.65038563 0.32020004 0.84250485 0.41123776 0.         0.5665052\n",
      " 0.59099578 0.95730502 0.67673378 0.57120253 0.45897149 0.15384615]\n",
      "\n",
      "Validation:                                                                       \n",
      "[0.62201256 0.30985972 0.83185703 0.40127464 0.         0.53057325\n",
      " 0.5834684  0.94831591 0.66075388 0.56757207 0.32695292 0.0952381 ]\n",
      "\n",
      "Training Runtime: 388.9455680847168                                               \n",
      "\n",
      "Model Fitting Complete                                                            \n",
      "Fold 1 Validation Score: 0.35179168158042634                                      \n",
      "********************************                                                  \n",
      "F1 Score too low ... stopped early.                                               \n",
      "********************************                                                  \n",
      "{'hidden_dim': 449, 'n_layers': 3, 'window_size': 4}                              \n",
      "--------------------------------                                                  \n",
      "FOLD 0                                                                            \n",
      "--------------------------------                                                  \n",
      "Device is cuda:0.                                                                 \n",
      "\n",
      " 96%|█████████▌| 48/50 [10:43:15<25:24, 762.28s/it, best loss: -0.352691566326805]"
     ]
    },
    {
     "data": {
      "text/html": [
       "Finishing last run (ID:3at5oyyw) before initializing another..."
      ],
      "text/plain": [
       "<IPython.core.display.HTML object>"
      ]
     },
     "metadata": {},
     "output_type": "display_data"
    },
    {
     "data": {
      "text/html": [
       "<br/>Waiting for W&B process to finish, PID 228665... <strong style=\"color:green\">(success).</strong>"
      ],
      "text/plain": [
       "<IPython.core.display.HTML object>"
      ]
     },
     "metadata": {},
     "output_type": "display_data"
    },
    {
     "data": {
      "application/vnd.jupyter.widget-view+json": {
       "model_id": "",
       "version_major": 2,
       "version_minor": 0
      },
      "text/plain": [
       "VBox(children=(Label(value=' 0.00MB of 0.00MB uploaded (0.00MB deduped)\\r'), FloatProgress(value=1.0, max=1.0)…"
      ]
     },
     "metadata": {},
     "output_type": "display_data"
    },
    {
     "data": {
      "text/html": [
       "<style>\n",
       "    table.wandb td:nth-child(1) { padding: 0 10px; text-align: right }\n",
       "    .wandb-row { display: flex; flex-direction: row; flex-wrap: wrap; width: 100% }\n",
       "    .wandb-col { display: flex; flex-direction: column; flex-basis: 100%; flex: 1; padding: 10px; }\n",
       "    </style>\n",
       "<div class=\"wandb-row\"><div class=\"wandb-col\">\n",
       "</div><div class=\"wandb-col\">\n",
       "<h3>Run summary:</h3><br/><table class=\"wandb\"><tr><td>train_accuracy</td><td>0.71858</td></tr><tr><td>train_batch_loss</td><td>3.62973</td></tr><tr><td>train_epoch_loss</td><td>1.31624</td></tr><tr><td>train_score</td><td>-0.73438</td></tr><tr><td>valid_accuracy</td><td>0.70308</td></tr><tr><td>valid_epoch_loss</td><td>1.4306</td></tr><tr><td>valid_score</td><td>-0.78276</td></tr></table>\n",
       "</div></div>\n",
       "Synced 6 W&B file(s), 0 media file(s), 0 artifact file(s) and 0 other file(s)\n",
       "<br/>Synced <strong style=\"color:#cdcd00\">bumbling-water-104</strong>: <a href=\"https://wandb.ai/2djagpal/Lithology-LSTM_search_new/runs/3at5oyyw\" target=\"_blank\">https://wandb.ai/2djagpal/Lithology-LSTM_search_new/runs/3at5oyyw</a><br/>\n",
       "Find logs at: <code>./wandb/run-20211206_015946-3at5oyyw/logs</code><br/>\n"
      ],
      "text/plain": [
       "<IPython.core.display.HTML object>"
      ]
     },
     "metadata": {},
     "output_type": "display_data"
    },
    {
     "data": {
      "text/html": [
       "Successfully finished last run (ID:3at5oyyw). Initializing new run:<br/>"
      ],
      "text/plain": [
       "<IPython.core.display.HTML object>"
      ]
     },
     "metadata": {},
     "output_type": "display_data"
    },
    {
     "data": {
      "text/html": [
       "\n",
       "                    Syncing run <strong><a href=\"https://wandb.ai/2djagpal/Lithology-LSTM_search_new/runs/982y95kg\" target=\"_blank\">drawn-firebrand-105</a></strong> to <a href=\"https://wandb.ai/2djagpal/Lithology-LSTM_search_new\" target=\"_blank\">Weights & Biases</a> (<a href=\"https://docs.wandb.com/integrations/jupyter.html\" target=\"_blank\">docs</a>).<br/>\n",
       "\n",
       "                "
      ],
      "text/plain": [
       "<IPython.core.display.HTML object>"
      ]
     },
     "metadata": {},
     "output_type": "display_data"
    },
    {
     "name": "stdout",
     "output_type": "stream",
     "text": [
      "Loading Data ...                                                                  \n",
      "\n",
      "Starting training...                                                              \n",
      "\n",
      "Training:                                                                         \n",
      "Epoch: 1 ... Accuracy: 0.5018015651297297 ... Score: -1.518196795627547           \n",
      "\n",
      "Validation:                                                                       \n",
      "Epoch: 1 ... Accuracy: 0.4943123326057334 ... Score: -1.5443389234653122          \n",
      "\n",
      "Training:                                                                         \n",
      "Epoch: 2 ... Accuracy: 0.6543622010918317 ... Score: -0.9653472364610298          \n",
      "\n",
      "Validation:                                                                       \n",
      "Epoch: 2 ... Accuracy: 0.6377790972349777 ... Score: -1.0123748948112583          \n",
      "\n",
      "Training:                                                                         \n",
      "Epoch: 3 ... Accuracy: 0.5431830996745008 ... Score: -1.191760829681079           \n",
      "\n",
      "Validation:                                                                       \n",
      "Epoch: 3 ... Accuracy: 0.5272978133556597 ... Score: -1.2422106935835935          \n",
      "\n",
      "Training:                                                                         \n",
      "Epoch: 4 ... Accuracy: 0.6574036103920513 ... Score: -0.8820309896967988          \n",
      "\n",
      "Validation:                                                                       \n",
      "Epoch: 4 ... Accuracy: 0.6393937711178413 ... Score: -0.9353505721840386          \n",
      "\n",
      "Training:                                                                         \n",
      "Epoch: 5 ... Accuracy: 0.7121767434707947 ... Score: -0.7713468648281518          \n",
      "\n",
      "Validation:                                                                       \n",
      "Epoch: 5 ... Accuracy: 0.6936476679068615 ... Score: -0.8299391720738307          \n",
      "\n",
      "Class F1 Scores                                                                   \n",
      "Training:                                                                         \n",
      "[0.64763628 0.26040842 0.85031583 0.11457716 0.         0.57894104\n",
      " 0.18550539 0.60793899 0.6317388  0.33416505 0.18870437 0.        ]\n",
      "\n",
      "Validation:                                                                       \n",
      "[0.60345701 0.24543324 0.83790238 0.10997747 0.         0.54906975\n",
      " 0.17971759 0.59786477 0.61261261 0.28780488 0.14989004 0.        ]\n",
      "\n",
      "Training Runtime: 448.14414048194885                                              \n",
      "\n",
      "Model Fitting Complete                                                            \n",
      "Fold 0 Validation Score: 0.2628276983493983                                       \n",
      "********************************                                                  \n",
      "F1 Score too low ... stopped early.                                               \n",
      "********************************                                                  \n",
      "{'hidden_dim': 282, 'n_layers': 2, 'window_size': 4}                              \n",
      "--------------------------------                                                  \n",
      "FOLD 0                                                                            \n",
      "--------------------------------                                                  \n",
      "Device is cuda:0.                                                                 \n",
      "\n",
      " 98%|█████████▊| 49/50 [10:50:47<11:09, 669.17s/it, best loss: -0.352691566326805]"
     ]
    },
    {
     "data": {
      "text/html": [
       "Finishing last run (ID:982y95kg) before initializing another..."
      ],
      "text/plain": [
       "<IPython.core.display.HTML object>"
      ]
     },
     "metadata": {},
     "output_type": "display_data"
    },
    {
     "data": {
      "text/html": [
       "<br/>Waiting for W&B process to finish, PID 230406... <strong style=\"color:green\">(success).</strong>"
      ],
      "text/plain": [
       "<IPython.core.display.HTML object>"
      ]
     },
     "metadata": {},
     "output_type": "display_data"
    },
    {
     "data": {
      "application/vnd.jupyter.widget-view+json": {
       "model_id": "",
       "version_major": 2,
       "version_minor": 0
      },
      "text/plain": [
       "VBox(children=(Label(value=' 0.00MB of 0.00MB uploaded (0.00MB deduped)\\r'), FloatProgress(value=1.0, max=1.0)…"
      ]
     },
     "metadata": {},
     "output_type": "display_data"
    },
    {
     "data": {
      "text/html": [
       "<style>\n",
       "    table.wandb td:nth-child(1) { padding: 0 10px; text-align: right }\n",
       "    .wandb-row { display: flex; flex-direction: row; flex-wrap: wrap; width: 100% }\n",
       "    .wandb-col { display: flex; flex-direction: column; flex-basis: 100%; flex: 1; padding: 10px; }\n",
       "    </style>\n",
       "<div class=\"wandb-row\"><div class=\"wandb-col\">\n",
       "</div><div class=\"wandb-col\">\n",
       "<h3>Run summary:</h3><br/><table class=\"wandb\"><tr><td>train_accuracy</td><td>0.71218</td></tr><tr><td>train_batch_loss</td><td>1.50358</td></tr><tr><td>train_epoch_loss</td><td>1.58317</td></tr><tr><td>train_score</td><td>-0.77135</td></tr><tr><td>valid_accuracy</td><td>0.69365</td></tr><tr><td>valid_epoch_loss</td><td>1.68856</td></tr><tr><td>valid_score</td><td>-0.82994</td></tr></table>\n",
       "</div></div>\n",
       "Synced 6 W&B file(s), 0 media file(s), 0 artifact file(s) and 0 other file(s)\n",
       "<br/>Synced <strong style=\"color:#cdcd00\">drawn-firebrand-105</strong>: <a href=\"https://wandb.ai/2djagpal/Lithology-LSTM_search_new/runs/982y95kg\" target=\"_blank\">https://wandb.ai/2djagpal/Lithology-LSTM_search_new/runs/982y95kg</a><br/>\n",
       "Find logs at: <code>./wandb/run-20211206_020618-982y95kg/logs</code><br/>\n"
      ],
      "text/plain": [
       "<IPython.core.display.HTML object>"
      ]
     },
     "metadata": {},
     "output_type": "display_data"
    },
    {
     "data": {
      "text/html": [
       "Successfully finished last run (ID:982y95kg). Initializing new run:<br/>"
      ],
      "text/plain": [
       "<IPython.core.display.HTML object>"
      ]
     },
     "metadata": {},
     "output_type": "display_data"
    },
    {
     "data": {
      "text/html": [
       "\n",
       "                    Syncing run <strong><a href=\"https://wandb.ai/2djagpal/Lithology-LSTM_search_new/runs/3iqvbo5f\" target=\"_blank\">good-hill-106</a></strong> to <a href=\"https://wandb.ai/2djagpal/Lithology-LSTM_search_new\" target=\"_blank\">Weights & Biases</a> (<a href=\"https://docs.wandb.com/integrations/jupyter.html\" target=\"_blank\">docs</a>).<br/>\n",
       "\n",
       "                "
      ],
      "text/plain": [
       "<IPython.core.display.HTML object>"
      ]
     },
     "metadata": {},
     "output_type": "display_data"
    },
    {
     "name": "stdout",
     "output_type": "stream",
     "text": [
      "Loading Data ...                                                                  \n",
      "\n",
      "Starting training...                                                              \n",
      "\n",
      "Training:                                                                         \n",
      "Epoch: 1 ... Accuracy: 0.6275341517799934 ... Score: -1.0496666517159188          \n",
      "\n",
      "Validation:                                                                       \n",
      "Epoch: 1 ... Accuracy: 0.6176298466914136 ... Score: -1.0850539078952426          \n",
      "\n",
      "Training:                                                                         \n",
      "Epoch: 2 ... Accuracy: 0.6547028645633101 ... Score: -0.9469536783111635          \n",
      "\n",
      "Validation:                                                                       \n",
      "Epoch: 2 ... Accuracy: 0.6385522611841796 ... Score: -0.9977419127478075          \n",
      "\n",
      "Training:                                                                         \n",
      "Epoch: 3 ... Accuracy: 0.6885855310932841 ... Score: -0.8079082515313838          \n",
      "\n",
      "Validation:                                                                       \n",
      "Epoch: 3 ... Accuracy: 0.6727380682861818 ... Score: -0.8591079567540784          \n",
      "\n",
      "Training:                                                                         \n",
      "Epoch: 4 ... Accuracy: 0.6918373187755764 ... Score: -0.8104788457595408          \n",
      "\n",
      "Validation:                                                                       \n",
      "Epoch: 4 ... Accuracy: 0.6756641307458683 ... Score: -0.8593039175063968          \n",
      "\n",
      "Training:                                                                         \n",
      "Epoch: 5 ... Accuracy: 0.7078346190976583 ... Score: -0.8039200060230156          \n",
      "\n",
      "Validation:                                                                       \n",
      "Epoch: 5 ... Accuracy: 0.693737372011465 ... Score: -0.8525531496819776           \n",
      "\n",
      "Class F1 Scores                                                                   \n",
      "Training:                                                                         \n",
      "[0.58782304 0.04501024 0.8447529  0.21857526 0.         0.5496692\n",
      " 0.50705936 0.61044913 0.67039801 0.08142649 0.36163817 0.07058824]\n",
      "\n",
      "Validation:                                                                       \n",
      "[0.55090934 0.04342122 0.83483096 0.2071211  0.         0.5259301\n",
      " 0.50781969 0.6307021  0.62376238 0.08178212 0.26061493 0.        ]\n",
      "\n",
      "Training Runtime: 404.19773030281067                                              \n",
      "\n",
      "Model Fitting Complete                                                            \n",
      "Fold 0 Validation Score: 0.2869990709762867                                       \n",
      "********************************                                                  \n",
      "F1 Score too low ... stopped early.                                               \n",
      "********************************                                                  \n",
      "100%|██████████| 50/50 [10:57:35<00:00, 789.10s/it, best loss: -0.352691566326805]\n"
     ]
    },
    {
     "data": {
      "text/plain": [
       "{'hidden_dim': 474, 'n_layers': 1, 'window_size': 7}"
      ]
     },
     "execution_count": 6,
     "metadata": {},
     "output_type": "execute_result"
    }
   ],
   "source": [
    "search_reg(space, 50, '1_LSTM.csv')"
   ]
  },
  {
   "cell_type": "code",
   "execution_count": null,
   "id": "0553cd51",
   "metadata": {},
   "outputs": [],
   "source": []
  },
  {
   "cell_type": "code",
   "execution_count": null,
   "id": "c752e095",
   "metadata": {},
   "outputs": [],
   "source": []
  },
  {
   "cell_type": "code",
   "execution_count": null,
   "id": "43d5d7bf",
   "metadata": {},
   "outputs": [],
   "source": []
  }
 ],
 "metadata": {
  "kernelspec": {
   "display_name": "Python 3 (ipykernel)",
   "language": "python",
   "name": "python3"
  },
  "language_info": {
   "codemirror_mode": {
    "name": "ipython",
    "version": 3
   },
   "file_extension": ".py",
   "mimetype": "text/x-python",
   "name": "python",
   "nbconvert_exporter": "python",
   "pygments_lexer": "ipython3",
   "version": "3.9.12"
  }
 },
 "nbformat": 4,
 "nbformat_minor": 5
}
