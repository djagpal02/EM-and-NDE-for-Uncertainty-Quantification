{
 "cells": [
  {
   "cell_type": "code",
   "execution_count": 1,
   "id": "f13664ae",
   "metadata": {},
   "outputs": [],
   "source": [
    "import sys\n",
    "sys.path.insert(0, '../../Models/LSTM')\n",
    "\n",
    "from LSTM import LSTM\n",
    "import pandas as pd"
   ]
  },
  {
   "cell_type": "code",
   "execution_count": 2,
   "id": "b91b7649",
   "metadata": {},
   "outputs": [],
   "source": [
    "x = pd.read_csv('../../Data/Missing_0_Mask/X_train_0_WELL.csv')\n",
    "y = pd.read_csv('../../Data/Y_train.csv')\n",
    "xt = pd.read_csv('../../Data/Missing_0_Mask/X_test_0_WELL.csv')\n",
    "yt = pd.read_csv('../../Data/Y_test.csv')"
   ]
  },
  {
   "cell_type": "code",
   "execution_count": 3,
   "id": "07cb4a97",
   "metadata": {
    "scrolled": true
   },
   "outputs": [
    {
     "name": "stdout",
     "output_type": "stream",
     "text": [
      "Device is cuda:0.\n",
      "\n"
     ]
    },
    {
     "name": "stderr",
     "output_type": "stream",
     "text": [
      "\u001b[34m\u001b[1mwandb\u001b[0m: Currently logged in as: \u001b[33m2djagpal\u001b[0m (use `wandb login --relogin` to force relogin)\n"
     ]
    },
    {
     "data": {
      "text/html": [
       "\n",
       "                    Syncing run <strong><a href=\"https://wandb.ai/2djagpal/Lithology-Selection_LSTM_new/runs/2n6jernf\" target=\"_blank\">faithful-paper-8</a></strong> to <a href=\"https://wandb.ai/2djagpal/Lithology-Selection_LSTM_new\" target=\"_blank\">Weights & Biases</a> (<a href=\"https://docs.wandb.com/integrations/jupyter.html\" target=\"_blank\">docs</a>).<br/>\n",
       "\n",
       "                "
      ],
      "text/plain": [
       "<IPython.core.display.HTML object>"
      ]
     },
     "metadata": {},
     "output_type": "display_data"
    },
    {
     "name": "stdout",
     "output_type": "stream",
     "text": [
      "Loading Data ...\n",
      "\n",
      "Starting training...\n",
      "\n",
      "Training:\n",
      "Epoch: 1 ... Accuracy: 0.6064436814348605 ... Score: -1.1274986950143997\n",
      "\n",
      "Validation:\n",
      "Epoch: 1 ... Accuracy: 0.5808562279765473 ... Score: -1.2288300703288348\n",
      "\n",
      "Training:\n",
      "Epoch: 2 ... Accuracy: 0.67305561417193 ... Score: -0.930822734685962\n",
      "\n",
      "Validation:\n",
      "Epoch: 2 ... Accuracy: 0.6701928559940344 ... Score: -0.935151440936938\n",
      "\n",
      "Training:\n",
      "Epoch: 3 ... Accuracy: 0.632184575796383 ... Score: -1.0323435661860503\n",
      "\n",
      "Validation:\n",
      "Epoch: 3 ... Accuracy: 0.5721126431067507 ... Score: -1.2332164841431141\n",
      "\n",
      "Training:\n",
      "Epoch: 4 ... Accuracy: 0.6906402417405731 ... Score: -0.8400213667364083\n",
      "\n",
      "Validation:\n",
      "Epoch: 4 ... Accuracy: 0.6637302063076631 ... Score: -0.9432370637345927\n",
      "\n",
      "Training:\n",
      "Epoch: 5 ... Accuracy: 0.647365979473922 ... Score: -0.955254692181449\n",
      "\n",
      "Validation:\n",
      "Epoch: 5 ... Accuracy: 0.5718713903469653 ... Score: -1.1846278127878584\n",
      "\n",
      "Training:\n",
      "Epoch: 6 ... Accuracy: 0.6444288007545422 ... Score: -0.9181086294789199\n",
      "\n",
      "Validation:\n",
      "Epoch: 6 ... Accuracy: 0.5387320339800857 ... Score: -1.1887345927214774\n",
      "\n",
      "Training:\n",
      "Epoch: 7 ... Accuracy: 0.5830615859227295 ... Score: -1.1010198750802\n",
      "\n",
      "Validation:\n",
      "Epoch: 7 ... Accuracy: 0.46479171845071865 ... Score: -1.431655103592473\n",
      "\n",
      "Training:\n",
      "Epoch: 8 ... Accuracy: 0.7097207971561139 ... Score: -0.7638885922473176\n",
      "\n",
      "Validation:\n",
      "Epoch: 8 ... Accuracy: 0.6980538944043981 ... Score: -0.8041813489684617\n",
      "\n",
      "Training:\n",
      "Epoch: 9 ... Accuracy: 0.7021659770818044 ... Score: -0.770202821673611\n",
      "\n",
      "Validation:\n",
      "Epoch: 9 ... Accuracy: 0.6560759142017458 ... Score: -0.8993985130057169\n",
      "\n",
      "Training:\n",
      "Epoch: 10 ... Accuracy: 0.7371165243214288 ... Score: -0.6899892440139392\n",
      "\n",
      "Validation:\n",
      "Epoch: 10 ... Accuracy: 0.7103212317049991 ... Score: -0.7525231017794218\n",
      "\n",
      "Training:\n",
      "Epoch: 11 ... Accuracy: 0.715989854003935 ... Score: -0.7550435237259624\n",
      "\n",
      "Validation:\n",
      "Epoch: 11 ... Accuracy: 0.6544017662626292 ... Score: -0.93241450148407\n",
      "\n",
      "Training:\n",
      "Epoch: 12 ... Accuracy: 0.7301879264697213 ... Score: -0.7225517316795826\n",
      "\n",
      "Validation:\n",
      "Epoch: 12 ... Accuracy: 0.6987264778559209 ... Score: -0.8244100273419794\n",
      "\n",
      "Training:\n",
      "Epoch: 13 ... Accuracy: 0.7354300813918024 ... Score: -0.6877846513189538\n",
      "\n",
      "Validation:\n",
      "Epoch: 13 ... Accuracy: 0.7061687599608147 ... Score: -0.7686440863831094\n",
      "\n",
      "Training:\n",
      "Epoch: 14 ... Accuracy: 0.729758199623925 ... Score: -0.7025711420055002\n",
      "\n",
      "Validation:\n",
      "Epoch: 14 ... Accuracy: 0.689931718158291 ... Score: -0.8152159212200079\n",
      "\n",
      "Training:\n",
      "Epoch: 15 ... Accuracy: 0.7099429223646766 ... Score: -0.7755639417314318\n",
      "\n",
      "Validation:\n",
      "Epoch: 15 ... Accuracy: 0.6396049303291272 ... Score: -1.0035630473878905\n",
      "\n",
      "Training:\n",
      "Epoch: 16 ... Accuracy: 0.7540715123565691 ... Score: -0.6433514934930129\n",
      "\n",
      "Validation:\n",
      "Epoch: 16 ... Accuracy: 0.7135744886172561 ... Score: -0.7629271270451654\n",
      "\n",
      "Training:\n",
      "Epoch: 17 ... Accuracy: 0.7482091155059628 ... Score: -0.6727395129135907\n",
      "\n",
      "Validation:\n",
      "Epoch: 17 ... Accuracy: 0.7089760648019534 ... Score: -0.8095007895544866\n",
      "\n",
      "Training:\n",
      "Epoch: 18 ... Accuracy: 0.6442169274786824 ... Score: -0.9820254786157498\n",
      "\n",
      "Validation:\n",
      "Epoch: 18 ... Accuracy: 0.5090067696986533 ... Score: -1.4255698682613718\n",
      "\n",
      "Training:\n",
      "Epoch: 19 ... Accuracy: 0.6835168571675106 ... Score: -0.8547209295769113\n",
      "\n",
      "Validation:\n",
      "Epoch: 19 ... Accuracy: 0.5491936309271417 ... Score: -1.2619319594110507\n",
      "\n",
      "Training:\n",
      "Epoch: 20 ... Accuracy: 0.7414377139556997 ... Score: -0.6769813568603797\n",
      "\n",
      "Validation:\n",
      "Epoch: 20 ... Accuracy: 0.6564633807553405 ... Score: -0.9401665740645972\n",
      "\n",
      "Class F1 Scores\n",
      "Training: \n",
      "[0.67710532 0.40971622 0.8601309  0.43011686 0.         0.53165928\n",
      " 0.62913248 0.96045933 0.66299357 0.59522795 0.47197203 0.12727273]\n",
      "\n",
      "Validation: \n",
      "[0.69502687 0.32460305 0.78550858 0.19289864 0.         0.3005223\n",
      " 0.05997392 0.15602837 0.72030651 0.44642857]\n",
      "\n",
      "Training Runtime: 1973.6647255420685\n",
      "\n",
      "Model Fitting Complete\n"
     ]
    }
   ],
   "source": [
    "# Top F1\n",
    "Model = LSTM(7, 26, 12, 474, 1)\n",
    "Model.fit( x=x, y=y, xt = xt, yt = yt, optim = 'adamw', lr = 0.00001, weight_decay = 0.1, n_epoch = 20, batchsize = 256, momentum = None, run_name = 'Selection_LSTM_new')"
   ]
  },
  {
   "cell_type": "code",
   "execution_count": 4,
   "id": "de47da08",
   "metadata": {},
   "outputs": [
    {
     "name": "stdout",
     "output_type": "stream",
     "text": [
      "Device is cuda:0.\n",
      "\n"
     ]
    },
    {
     "data": {
      "text/html": [
       "Finishing last run (ID:2n6jernf) before initializing another..."
      ],
      "text/plain": [
       "<IPython.core.display.HTML object>"
      ]
     },
     "metadata": {},
     "output_type": "display_data"
    },
    {
     "data": {
      "text/html": [
       "<br/>Waiting for W&B process to finish, PID 65456... <strong style=\"color:green\">(success).</strong>"
      ],
      "text/plain": [
       "<IPython.core.display.HTML object>"
      ]
     },
     "metadata": {},
     "output_type": "display_data"
    },
    {
     "data": {
      "application/vnd.jupyter.widget-view+json": {
       "model_id": "",
       "version_major": 2,
       "version_minor": 0
      },
      "text/plain": [
       "VBox(children=(Label(value=' 0.00MB of 0.00MB uploaded (0.00MB deduped)\\r'), FloatProgress(value=1.0, max=1.0)…"
      ]
     },
     "metadata": {},
     "output_type": "display_data"
    },
    {
     "data": {
      "text/html": [
       "<style>\n",
       "    table.wandb td:nth-child(1) { padding: 0 10px; text-align: right }\n",
       "    .wandb-row { display: flex; flex-direction: row; flex-wrap: wrap; width: 100% }\n",
       "    .wandb-col { display: flex; flex-direction: column; flex-basis: 100%; flex: 1; padding: 10px; }\n",
       "    </style>\n",
       "<div class=\"wandb-row\"><div class=\"wandb-col\">\n",
       "<h3>Run history:</h3><br/><table class=\"wandb\"><tr><td>train_accuracy</td><td>▂▅▃▅▄▄▁▆▆▇▆▇▇▇▆██▄▅▇</td></tr><tr><td>train_batch_loss</td><td>▄▅▄▆▅▁▆▂▂█▃▅▅▃▄▆▃▁▇▅▄▄▃▂▂▄▃▂▄▁▃▅▃▁▄▄▄▂▃▄</td></tr><tr><td>train_epoch_loss</td><td>██▆▅▄▄▄▄▄▃▃▃▂▂▁▂▂▁▁▁</td></tr><tr><td>train_score</td><td>▁▄▂▅▃▄▁▆▆▇▆▇▇▇▆██▃▅█</td></tr><tr><td>valid_accuracy</td><td>▄▇▄▇▄▃▁█▆█▆██▇▆██▂▃▆</td></tr><tr><td>valid_epoch_loss</td><td>▇█▅▄▄▄▅▅▄▃▂▃▂▂▁▃▂▂▁▁</td></tr><tr><td>valid_score</td><td>▃▆▃▆▄▄▁▇▆█▆▇█▇▅█▇▁▃▆</td></tr></table><br/></div><div class=\"wandb-col\">\n",
       "<h3>Run summary:</h3><br/><table class=\"wandb\"><tr><td>train_accuracy</td><td>0.74144</td></tr><tr><td>train_batch_loss</td><td>0.30667</td></tr><tr><td>train_epoch_loss</td><td>1.23882</td></tr><tr><td>train_score</td><td>-0.67698</td></tr><tr><td>valid_accuracy</td><td>0.65646</td></tr><tr><td>valid_epoch_loss</td><td>1.84416</td></tr><tr><td>valid_score</td><td>-0.94017</td></tr></table>\n",
       "</div></div>\n",
       "Synced 6 W&B file(s), 0 media file(s), 0 artifact file(s) and 0 other file(s)\n",
       "<br/>Synced <strong style=\"color:#cdcd00\">faithful-paper-8</strong>: <a href=\"https://wandb.ai/2djagpal/Lithology-Selection_LSTM_new/runs/2n6jernf\" target=\"_blank\">https://wandb.ai/2djagpal/Lithology-Selection_LSTM_new/runs/2n6jernf</a><br/>\n",
       "Find logs at: <code>./wandb/run-20211206_094459-2n6jernf/logs</code><br/>\n"
      ],
      "text/plain": [
       "<IPython.core.display.HTML object>"
      ]
     },
     "metadata": {},
     "output_type": "display_data"
    },
    {
     "data": {
      "text/html": [
       "Successfully finished last run (ID:2n6jernf). Initializing new run:<br/>"
      ],
      "text/plain": [
       "<IPython.core.display.HTML object>"
      ]
     },
     "metadata": {},
     "output_type": "display_data"
    },
    {
     "data": {
      "text/html": [
       "\n",
       "                    Syncing run <strong><a href=\"https://wandb.ai/2djagpal/Lithology-Selection_LSTM_new/runs/3kie1wwq\" target=\"_blank\">lively-shadow-9</a></strong> to <a href=\"https://wandb.ai/2djagpal/Lithology-Selection_LSTM_new\" target=\"_blank\">Weights & Biases</a> (<a href=\"https://docs.wandb.com/integrations/jupyter.html\" target=\"_blank\">docs</a>).<br/>\n",
       "\n",
       "                "
      ],
      "text/plain": [
       "<IPython.core.display.HTML object>"
      ]
     },
     "metadata": {},
     "output_type": "display_data"
    },
    {
     "name": "stdout",
     "output_type": "stream",
     "text": [
      "Loading Data ...\n",
      "\n",
      "Starting training...\n",
      "\n",
      "Training:\n",
      "Epoch: 1 ... Accuracy: 0.6227314395165872 ... Score: -1.1268568813108122\n",
      "\n",
      "Validation:\n",
      "Epoch: 1 ... Accuracy: 0.6247715409471729 ... Score: -1.1239189317620224\n",
      "\n",
      "Training:\n",
      "Epoch: 2 ... Accuracy: 0.6898072722084628 ... Score: -0.8790251650774747\n",
      "\n",
      "Validation:\n",
      "Epoch: 2 ... Accuracy: 0.666808006667349 ... Score: -0.9663872764756627\n",
      "\n",
      "Training:\n",
      "Epoch: 3 ... Accuracy: 0.708499962836744 ... Score: -0.8043917357461826\n",
      "\n",
      "Validation:\n",
      "Epoch: 3 ... Accuracy: 0.6830523591595631 ... Score: -0.9045141681166201\n",
      "\n",
      "Training:\n",
      "Epoch: 4 ... Accuracy: 0.7143785919141298 ... Score: -0.781101800837412\n",
      "\n",
      "Validation:\n",
      "Epoch: 4 ... Accuracy: 0.714970830348135 ... Score: -0.7852119368941266\n",
      "\n",
      "Training:\n",
      "Epoch: 5 ... Accuracy: 0.6184307537477222 ... Score: -0.990622792096785\n",
      "\n",
      "Validation:\n",
      "Epoch: 5 ... Accuracy: 0.5297398856608132 ... Score: -1.2236020133639407\n",
      "\n",
      "Training:\n",
      "Epoch: 6 ... Accuracy: 0.722123927071168 ... Score: -0.7500946167955704\n",
      "\n",
      "Validation:\n",
      "Epoch: 6 ... Accuracy: 0.7256883014343574 ... Score: -0.7477053572734051\n",
      "\n",
      "Training:\n",
      "Epoch: 7 ... Accuracy: 0.719012465495839 ... Score: -0.765962793173238\n",
      "\n",
      "Validation:\n",
      "Epoch: 7 ... Accuracy: 0.7238313862529792 ... Score: -0.7628311742429781\n",
      "\n",
      "Training:\n",
      "Epoch: 8 ... Accuracy: 0.7299376084462256 ... Score: -0.7272009831603462\n",
      "\n",
      "Validation:\n",
      "Epoch: 8 ... Accuracy: 0.7332036904361557 ... Score: -0.7322596976298744\n",
      "\n",
      "Training:\n",
      "Epoch: 9 ... Accuracy: 0.7138232788927229 ... Score: -0.7444384332996443\n",
      "\n",
      "Validation:\n",
      "Epoch: 9 ... Accuracy: 0.626986679923384 ... Score: -0.9655008553506937\n",
      "\n",
      "Training:\n",
      "Epoch: 10 ... Accuracy: 0.740366386988247 ... Score: -0.693490385822944\n",
      "\n",
      "Validation:\n",
      "Epoch: 10 ... Accuracy: 0.7274355562703786 ... Score: -0.7180934086821751\n",
      "\n",
      "Training:\n",
      "Epoch: 11 ... Accuracy: 0.7430523933564058 ... Score: -0.6847847863027344\n",
      "\n",
      "Validation:\n",
      "Epoch: 11 ... Accuracy: 0.719401108300557 ... Score: -0.7511907285833346\n",
      "\n",
      "Training:\n",
      "Epoch: 12 ... Accuracy: 0.7447226040592527 ... Score: -0.6808398212404668\n",
      "\n",
      "Validation:\n",
      "Epoch: 12 ... Accuracy: 0.7246940476364541 ... Score: -0.7532861550158642\n",
      "\n",
      "Training:\n",
      "Epoch: 13 ... Accuracy: 0.7275847898909109 ... Score: -0.7202146113962192\n",
      "\n",
      "Validation:\n",
      "Epoch: 13 ... Accuracy: 0.6371631599725118 ... Score: -0.9599090915736991\n",
      "\n",
      "Training:\n",
      "Epoch: 14 ... Accuracy: 0.7412036281589836 ... Score: -0.6679297546114474\n",
      "\n",
      "Validation:\n",
      "Epoch: 14 ... Accuracy: 0.6695860687497258 ... Score: -0.8495067112131358\n",
      "\n",
      "Training:\n",
      "Epoch: 15 ... Accuracy: 0.7549796627285006 ... Score: -0.643702942560984\n",
      "\n",
      "Validation:\n",
      "Epoch: 15 ... Accuracy: 0.7288684514497098 ... Score: -0.7217597195619435\n",
      "\n",
      "Training:\n",
      "Epoch: 16 ... Accuracy: 0.72720974001953 ... Score: -0.736476632855223\n",
      "\n",
      "Validation:\n",
      "Epoch: 16 ... Accuracy: 0.6517406752152998 ... Score: -0.9570551810857836\n",
      "\n",
      "Training:\n",
      "Epoch: 17 ... Accuracy: 0.7548002539062 ... Score: -0.6383490842888278\n",
      "\n",
      "Validation:\n",
      "Epoch: 17 ... Accuracy: 0.6996987995847528 ... Score: -0.7751898951647098\n",
      "\n",
      "Training:\n",
      "Epoch: 18 ... Accuracy: 0.758456776570233 ... Score: -0.6359597432232589\n",
      "\n",
      "Validation:\n",
      "Epoch: 18 ... Accuracy: 0.7271869928209027 ... Score: -0.7211766920591288\n",
      "\n",
      "Training:\n",
      "Epoch: 19 ... Accuracy: 0.7502603563742674 ... Score: -0.6638043128172225\n",
      "\n",
      "Validation:\n",
      "Epoch: 19 ... Accuracy: 0.6992236047548726 ... Score: -0.7981454607927712\n",
      "\n",
      "Training:\n",
      "Epoch: 20 ... Accuracy: 0.752489297409422 ... Score: -0.6599415767985094\n",
      "\n",
      "Validation:\n",
      "Epoch: 20 ... Accuracy: 0.7063807699618382 ... Score: -0.7988070782097583\n",
      "\n",
      "Class F1 Scores\n",
      "Training: \n",
      "[0.66845049 0.24103867 0.86510754 0.46143656 0.         0.61367856\n",
      " 0.64078116 0.96750254 0.63296703 0.14146061 0.03239075 0.07476636]\n",
      "\n",
      "Validation: \n",
      "[0.68687949 0.20215633 0.8352186  0.1036344  0.         0.40930304\n",
      " 0.         0.         0.01368821 0.01719198]\n",
      "\n",
      "Training Runtime: 1887.5399329662323\n",
      "\n",
      "Model Fitting Complete\n"
     ]
    }
   ],
   "source": [
    "# Top F1 unbalanced\n",
    "Model = LSTM(7, 26, 12, 474, 1)\n",
    "Model.fit( x=x, y=y, xt = xt, yt = yt, optim = 'adamw',class_weights = 'unbal', lr = 0.00001, weight_decay = 0.1, n_epoch = 20, batchsize = 256, momentum = None, run_name = 'Selection_LSTM_new')"
   ]
  },
  {
   "cell_type": "code",
   "execution_count": 5,
   "id": "dcfaa8fe",
   "metadata": {},
   "outputs": [
    {
     "name": "stdout",
     "output_type": "stream",
     "text": [
      "Device is cuda:0.\n",
      "\n"
     ]
    },
    {
     "data": {
      "text/html": [
       "Finishing last run (ID:3kie1wwq) before initializing another..."
      ],
      "text/plain": [
       "<IPython.core.display.HTML object>"
      ]
     },
     "metadata": {},
     "output_type": "display_data"
    },
    {
     "data": {
      "text/html": [
       "<br/>Waiting for W&B process to finish, PID 75457... <strong style=\"color:green\">(success).</strong>"
      ],
      "text/plain": [
       "<IPython.core.display.HTML object>"
      ]
     },
     "metadata": {},
     "output_type": "display_data"
    },
    {
     "data": {
      "application/vnd.jupyter.widget-view+json": {
       "model_id": "",
       "version_major": 2,
       "version_minor": 0
      },
      "text/plain": [
       "VBox(children=(Label(value=' 0.00MB of 0.00MB uploaded (0.00MB deduped)\\r'), FloatProgress(value=1.0, max=1.0)…"
      ]
     },
     "metadata": {},
     "output_type": "display_data"
    },
    {
     "data": {
      "text/html": [
       "<style>\n",
       "    table.wandb td:nth-child(1) { padding: 0 10px; text-align: right }\n",
       "    .wandb-row { display: flex; flex-direction: row; flex-wrap: wrap; width: 100% }\n",
       "    .wandb-col { display: flex; flex-direction: column; flex-basis: 100%; flex: 1; padding: 10px; }\n",
       "    </style>\n",
       "<div class=\"wandb-row\"><div class=\"wandb-col\">\n",
       "<h3>Run history:</h3><br/><table class=\"wandb\"><tr><td>train_accuracy</td><td>▁▅▆▆▁▆▆▇▆▇▇▇▆▇█▆████</td></tr><tr><td>train_batch_loss</td><td>▃▅█▆▃▆▄▄▂▄▁▄▃▇▂▃▄▅▄▄▅▂▆▅▃▂▂▄▁▃▂▁▇▃▃▁▄▂▂▁</td></tr><tr><td>train_epoch_loss</td><td>█▅▄▄▆▄▄▃▃▃▂▂▂▂▁▂▁▁▁▁</td></tr><tr><td>train_score</td><td>▁▅▆▆▃▆▆▇▆▇▇▇▇██▇████</td></tr><tr><td>valid_accuracy</td><td>▄▆▆▇▁███▄███▅▆█▅▇█▇▇</td></tr><tr><td>valid_epoch_loss</td><td>▇▆▅▄█▃▄▄▅▃▃▂▄▃▂▄▂▁▂▂</td></tr><tr><td>valid_score</td><td>▂▅▅▇▁█▇█▅███▅▆█▅▇█▇▇</td></tr></table><br/></div><div class=\"wandb-col\">\n",
       "<h3>Run summary:</h3><br/><table class=\"wandb\"><tr><td>train_accuracy</td><td>0.75249</td></tr><tr><td>train_batch_loss</td><td>3.22235</td></tr><tr><td>train_epoch_loss</td><td>0.70731</td></tr><tr><td>train_score</td><td>-0.65994</td></tr><tr><td>valid_accuracy</td><td>0.70638</td></tr><tr><td>valid_epoch_loss</td><td>0.87617</td></tr><tr><td>valid_score</td><td>-0.79881</td></tr></table>\n",
       "</div></div>\n",
       "Synced 6 W&B file(s), 0 media file(s), 0 artifact file(s) and 0 other file(s)\n",
       "<br/>Synced <strong style=\"color:#cdcd00\">lively-shadow-9</strong>: <a href=\"https://wandb.ai/2djagpal/Lithology-Selection_LSTM_new/runs/3kie1wwq\" target=\"_blank\">https://wandb.ai/2djagpal/Lithology-Selection_LSTM_new/runs/3kie1wwq</a><br/>\n",
       "Find logs at: <code>./wandb/run-20211206_101752-3kie1wwq/logs</code><br/>\n"
      ],
      "text/plain": [
       "<IPython.core.display.HTML object>"
      ]
     },
     "metadata": {},
     "output_type": "display_data"
    },
    {
     "data": {
      "text/html": [
       "Successfully finished last run (ID:3kie1wwq). Initializing new run:<br/>"
      ],
      "text/plain": [
       "<IPython.core.display.HTML object>"
      ]
     },
     "metadata": {},
     "output_type": "display_data"
    },
    {
     "data": {
      "text/html": [
       "\n",
       "                    Syncing run <strong><a href=\"https://wandb.ai/2djagpal/Lithology-Selection_LSTM_new/runs/9xlj7fls\" target=\"_blank\">gentle-darkness-10</a></strong> to <a href=\"https://wandb.ai/2djagpal/Lithology-Selection_LSTM_new\" target=\"_blank\">Weights & Biases</a> (<a href=\"https://docs.wandb.com/integrations/jupyter.html\" target=\"_blank\">docs</a>).<br/>\n",
       "\n",
       "                "
      ],
      "text/plain": [
       "<IPython.core.display.HTML object>"
      ]
     },
     "metadata": {},
     "output_type": "display_data"
    },
    {
     "name": "stdout",
     "output_type": "stream",
     "text": [
      "Loading Data ...\n",
      "\n",
      "Starting training...\n",
      "\n",
      "Training:\n",
      "Epoch: 1 ... Accuracy: 0.6157413300686623 ... Score: -1.1528973243309972\n",
      "\n",
      "Validation:\n",
      "Epoch: 1 ... Accuracy: 0.613037883993976 ... Score: -1.164488690363049\n",
      "\n",
      "Training:\n",
      "Epoch: 2 ... Accuracy: 0.6628968031910849 ... Score: -0.9724044669379442\n",
      "\n",
      "Validation:\n",
      "Epoch: 2 ... Accuracy: 0.6553813986811515 ... Score: -0.9990797669352127\n",
      "\n",
      "Training:\n",
      "Epoch: 3 ... Accuracy: 0.7014184403222182 ... Score: -0.814960196871281\n",
      "\n",
      "Validation:\n",
      "Epoch: 3 ... Accuracy: 0.691518137821122 ... Score: -0.8566008217215212\n",
      "\n",
      "Training:\n",
      "Epoch: 4 ... Accuracy: 0.7017353959082828 ... Score: -0.8015188451881272\n",
      "\n",
      "Validation:\n",
      "Epoch: 4 ... Accuracy: 0.7032664161536999 ... Score: -0.7962931147924496\n",
      "\n",
      "Training:\n",
      "Epoch: 5 ... Accuracy: 0.7155028872005474 ... Score: -0.7742927020762727\n",
      "\n",
      "Validation:\n",
      "Epoch: 5 ... Accuracy: 0.7169447165645607 ... Score: -0.7772533373298437\n",
      "\n",
      "Training:\n",
      "Epoch: 6 ... Accuracy: 0.7161991642966191 ... Score: -0.7749953866302837\n",
      "\n",
      "Validation:\n",
      "Epoch: 6 ... Accuracy: 0.6985363999239689 ... Score: -0.8451139005453775\n",
      "\n",
      "Training:\n",
      "Epoch: 7 ... Accuracy: 0.7175780492451588 ... Score: -0.7608690776934176\n",
      "\n",
      "Validation:\n",
      "Epoch: 7 ... Accuracy: 0.6939160440395947 ... Score: -0.8444431447662772\n",
      "\n",
      "Training:\n",
      "Epoch: 8 ... Accuracy: 0.7270422917853826 ... Score: -0.7321558703848149\n",
      "\n",
      "Validation:\n",
      "Epoch: 8 ... Accuracy: 0.7179243489830831 ... Score: -0.7702268507010951\n",
      "\n",
      "Training:\n",
      "Epoch: 9 ... Accuracy: 0.7295454720203398 ... Score: -0.7247525866907701\n",
      "\n",
      "Validation:\n",
      "Epoch: 9 ... Accuracy: 0.7219525390025295 ... Score: -0.7551284488178615\n",
      "\n",
      "Training:\n",
      "Epoch: 10 ... Accuracy: 0.7192807244015648 ... Score: -0.7516852682290043\n",
      "\n",
      "Validation:\n",
      "Epoch: 10 ... Accuracy: 0.6470983872618543 ... Score: -0.96171209041861\n",
      "\n",
      "Training:\n",
      "Epoch: 11 ... Accuracy: 0.7114234723125199 ... Score: -0.791608750366293\n",
      "\n",
      "Validation:\n",
      "Epoch: 11 ... Accuracy: 0.7045092334010791 ... Score: -0.7925070913689998\n",
      "\n",
      "Training:\n",
      "Epoch: 12 ... Accuracy: 0.7348175284128043 ... Score: -0.7040251010028953\n",
      "\n",
      "Validation:\n",
      "Epoch: 12 ... Accuracy: 0.7151755296594681 ... Score: -0.7547437237729008\n",
      "\n",
      "Training:\n",
      "Epoch: 13 ... Accuracy: 0.6949187149885819 ... Score: -0.7873398883051932\n",
      "\n",
      "Validation:\n",
      "Epoch: 13 ... Accuracy: 0.6001856915181378 ... Score: -1.0303146886377261\n",
      "\n",
      "Training:\n",
      "Epoch: 14 ... Accuracy: 0.7443466998601466 ... Score: -0.678878177992347\n",
      "\n",
      "Validation:\n",
      "Epoch: 14 ... Accuracy: 0.7285029169651865 ... Score: -0.736403944848157\n",
      "\n",
      "Training:\n",
      "Epoch: 15 ... Accuracy: 0.7482270563881929 ... Score: -0.661851853592149\n",
      "\n",
      "Validation:\n",
      "Epoch: 15 ... Accuracy: 0.6740163467021478 ... Score: -0.858921965698244\n",
      "\n",
      "Training:\n",
      "Epoch: 16 ... Accuracy: 0.7327782481326531 ... Score: -0.7177897089390873\n",
      "\n",
      "Validation:\n",
      "Epoch: 16 ... Accuracy: 0.7270992645446172 ... Score: -0.7209884417995994\n",
      "\n",
      "Training:\n",
      "Epoch: 17 ... Accuracy: 0.7445320889765239 ... Score: -0.6725668319221263\n",
      "\n",
      "Validation:\n",
      "Epoch: 17 ... Accuracy: 0.6351965844457766 ... Score: -0.960641074378957\n",
      "\n",
      "Training:\n",
      "Epoch: 18 ... Accuracy: 0.7495888547822276 ... Score: -0.6566658707180026\n",
      "\n",
      "Validation:\n",
      "Epoch: 18 ... Accuracy: 0.6660988697673739 ... Score: -0.8706062754960303\n",
      "\n",
      "Training:\n",
      "Epoch: 19 ... Accuracy: 0.7592829114805414 ... Score: -0.6306797842993359\n",
      "\n",
      "Validation:\n",
      "Epoch: 19 ... Accuracy: 0.7027473571856769 ... Score: -0.7864346497448569\n",
      "\n",
      "Training:\n",
      "Epoch: 20 ... Accuracy: 0.7502483957861139 ... Score: -0.659560760214983\n",
      "\n",
      "Validation:\n",
      "Epoch: 20 ... Accuracy: 0.7052403023701256 ... Score: -0.774469792230199\n",
      "\n",
      "Class F1 Scores\n",
      "Training: \n",
      "[6.87300388e-01 2.97967673e-01 8.57654458e-01 3.37755420e-01\n",
      " 0.00000000e+00 6.05511872e-01 6.19529859e-01 9.60646646e-01\n",
      " 5.82035928e-01 5.24212044e-04 0.00000000e+00 5.66037736e-02]\n",
      "\n",
      "Validation: \n",
      "[0.72642337 0.20586779 0.83452537 0.01424096 0.         0.41214058\n",
      " 0.         0.         0.         0.        ]\n",
      "\n",
      "Training Runtime: 1849.280650138855\n",
      "\n",
      "Model Fitting Complete\n"
     ]
    }
   ],
   "source": [
    "# 2 Accuracy  unbalanced\n",
    "Model = LSTM(9, 26, 12, 317, 1)\n",
    "Model.fit( x=x, y=y, xt = xt, yt = yt, optim = 'adamw',class_weights = 'unbal', lr = 0.00001, weight_decay = 0.1, n_epoch = 20, batchsize = 256, momentum = None, run_name = 'Selection_LSTM_new')"
   ]
  },
  {
   "cell_type": "code",
   "execution_count": null,
   "id": "f2af2d40",
   "metadata": {},
   "outputs": [],
   "source": []
  },
  {
   "cell_type": "code",
   "execution_count": null,
   "id": "bd2602f7",
   "metadata": {},
   "outputs": [],
   "source": []
  }
 ],
 "metadata": {
  "kernelspec": {
   "display_name": "Python 3 (ipykernel)",
   "language": "python",
   "name": "python3"
  },
  "language_info": {
   "codemirror_mode": {
    "name": "ipython",
    "version": 3
   },
   "file_extension": ".py",
   "mimetype": "text/x-python",
   "name": "python",
   "nbconvert_exporter": "python",
   "pygments_lexer": "ipython3",
   "version": "3.9.12"
  }
 },
 "nbformat": 4,
 "nbformat_minor": 5
}
