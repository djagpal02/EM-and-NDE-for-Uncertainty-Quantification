{
 "cells": [
  {
   "cell_type": "code",
   "execution_count": 1,
   "id": "f13664ae",
   "metadata": {},
   "outputs": [],
   "source": [
    "import sys\n",
    "sys.path.insert(0, '../../Models/LSTM')\n",
    "\n",
    "from LSTM import LSTM\n",
    "import pandas as pd"
   ]
  },
  {
   "cell_type": "code",
   "execution_count": 2,
   "id": "b91b7649",
   "metadata": {},
   "outputs": [],
   "source": [
    "x = pd.read_csv('../../Data/Missing_0_Mask/X_train_0_WELL.csv')\n",
    "y = pd.read_csv('../../Data/Y_train.csv')\n",
    "xt = pd.read_csv('../../Data/Missing_0_Mask/X_test_0_WELL.csv')\n",
    "yt = pd.read_csv('../../Data/Y_test.csv')"
   ]
  },
  {
   "cell_type": "code",
   "execution_count": 3,
   "id": "de47da08",
   "metadata": {
    "scrolled": true
   },
   "outputs": [
    {
     "name": "stdout",
     "output_type": "stream",
     "text": [
      "Device is cuda:0.\n",
      "\n"
     ]
    },
    {
     "name": "stderr",
     "output_type": "stream",
     "text": [
      "\u001b[34m\u001b[1mwandb\u001b[0m: Currently logged in as: \u001b[33m2djagpal\u001b[0m (use `wandb login --relogin` to force relogin)\n"
     ]
    },
    {
     "data": {
      "text/html": [
       "\n",
       "                    Syncing run <strong><a href=\"https://wandb.ai/2djagpal/Lithology-Selection_LSTM_new/runs/3t95a1v5\" target=\"_blank\">wobbly-disco-12</a></strong> to <a href=\"https://wandb.ai/2djagpal/Lithology-Selection_LSTM_new\" target=\"_blank\">Weights & Biases</a> (<a href=\"https://docs.wandb.com/integrations/jupyter.html\" target=\"_blank\">docs</a>).<br/>\n",
       "\n",
       "                "
      ],
      "text/plain": [
       "<IPython.core.display.HTML object>"
      ]
     },
     "metadata": {},
     "output_type": "display_data"
    },
    {
     "name": "stdout",
     "output_type": "stream",
     "text": [
      "Loading Data ...\n",
      "\n",
      "Starting training...\n",
      "\n",
      "Training:\n",
      "Epoch: 1 ... Accuracy: 0.6824207546960259 ... Score: -0.9066692880289036\n",
      "\n",
      "Validation:\n",
      "Epoch: 1 ... Accuracy: 0.6743745704969807 ... Score: -0.9489896626847777\n",
      "\n",
      "Training:\n",
      "Epoch: 2 ... Accuracy: 0.7072714395678469 ... Score: -0.8117860489991123\n",
      "\n",
      "Validation:\n",
      "Epoch: 2 ... Accuracy: 0.6851724591697981 ... Score: -0.9090266913280599\n",
      "\n",
      "Training:\n",
      "Epoch: 3 ... Accuracy: 0.7159625155167273 ... Score: -0.7786884318045708\n",
      "\n",
      "Validation:\n",
      "Epoch: 3 ... Accuracy: 0.7138888482739462 ... Score: -0.7998643867062418\n",
      "\n",
      "Training:\n",
      "Epoch: 4 ... Accuracy: 0.7239453537813827 ... Score: -0.7476855194013555\n",
      "\n",
      "Validation:\n",
      "Epoch: 4 ... Accuracy: 0.727333206614712 ... Score: -0.749816318921527\n",
      "\n",
      "Training:\n",
      "Epoch: 5 ... Accuracy: 0.724728772305429 ... Score: -0.7388445089366952\n",
      "\n",
      "Validation:\n",
      "Epoch: 5 ... Accuracy: 0.7160528124223239 ... Score: -0.7675886055590484\n",
      "\n",
      "Training:\n",
      "Epoch: 6 ... Accuracy: 0.7314489141921776 ... Score: -0.7190470657687112\n",
      "\n",
      "Validation:\n",
      "Epoch: 6 ... Accuracy: 0.7293363355898995 ... Score: -0.7295392072288099\n",
      "\n",
      "Training:\n",
      "Epoch: 7 ... Accuracy: 0.727719773671499 ... Score: -0.7289265115834025\n",
      "\n",
      "Validation:\n",
      "Epoch: 7 ... Accuracy: 0.6772622929247145 ... Score: -0.8995602620151185\n",
      "\n",
      "Training:\n",
      "Epoch: 8 ... Accuracy: 0.7324954656555983 ... Score: -0.6973471415475805\n",
      "\n",
      "Validation:\n",
      "Epoch: 8 ... Accuracy: 0.6992016726858011 ... Score: -0.7771363662947962\n",
      "\n",
      "Training:\n",
      "Epoch: 9 ... Accuracy: 0.7324723988070168 ... Score: -0.7010417885863525\n",
      "\n",
      "Validation:\n",
      "Epoch: 9 ... Accuracy: 0.6941938502478324 ... Score: -0.8044335677627827\n",
      "\n",
      "Training:\n",
      "Epoch: 10 ... Accuracy: 0.7091859880001128 ... Score: -0.7603601119511051\n",
      "\n",
      "Validation:\n",
      "Epoch: 10 ... Accuracy: 0.6582398783501235 ... Score: -0.9106688549997807\n",
      "\n",
      "Training:\n",
      "Epoch: 11 ... Accuracy: 0.7481681077751512 ... Score: -0.67429438937353\n",
      "\n",
      "Validation:\n",
      "Epoch: 11 ... Accuracy: 0.7374146476978638 ... Score: -0.7136055590484406\n",
      "\n",
      "Training:\n",
      "Epoch: 12 ... Accuracy: 0.7027067665318822 ... Score: -0.8093196048563405\n",
      "\n",
      "Validation:\n",
      "Epoch: 12 ... Accuracy: 0.6033877736025617 ... Score: -1.1076608717266387\n",
      "\n",
      "Training:\n",
      "Epoch: 13 ... Accuracy: 0.7529873704732377 ... Score: -0.6564963934555079\n",
      "\n",
      "Validation:\n",
      "Epoch: 13 ... Accuracy: 0.7454344742883043 ... Score: -0.6810537993654321\n",
      "\n",
      "Training:\n",
      "Epoch: 14 ... Accuracy: 0.7621389290660233 ... Score: -0.6311263841177058\n",
      "\n",
      "Validation:\n",
      "Epoch: 14 ... Accuracy: 0.7490532656850847 ... Score: -0.6759253505475706\n",
      "\n",
      "Training:\n",
      "Epoch: 15 ... Accuracy: 0.7585567329140862 ... Score: -0.6260601139160589\n",
      "\n",
      "Validation:\n",
      "Epoch: 15 ... Accuracy: 0.7458511836006609 ... Score: -0.6584994078341351\n",
      "\n",
      "Training:\n",
      "Epoch: 16 ... Accuracy: 0.7528797251798574 ... Score: -0.6585702740085313\n",
      "\n",
      "Validation:\n",
      "Epoch: 16 ... Accuracy: 0.7526281929437223 ... Score: -0.6497622198178176\n",
      "\n",
      "Training:\n",
      "Epoch: 17 ... Accuracy: 0.7581551988832228 ... Score: -0.6367074935647764\n",
      "\n",
      "Validation:\n",
      "Epoch: 17 ... Accuracy: 0.753958738467387 ... Score: -0.6550195195414735\n",
      "\n",
      "Training:\n",
      "Epoch: 18 ... Accuracy: 0.7397692119083032 ... Score: -0.6949062204456002\n",
      "\n",
      "Validation:\n",
      "Epoch: 18 ... Accuracy: 0.7383577266679339 ... Score: -0.7068047899638852\n",
      "\n",
      "Training:\n",
      "Epoch: 19 ... Accuracy: 0.7390541396022763 ... Score: -0.6747253977109143\n",
      "\n",
      "Validation:\n",
      "Epoch: 19 ... Accuracy: 0.6210138464462738 ... Score: -0.9673998069977922\n",
      "\n",
      "Training:\n",
      "Epoch: 20 ... Accuracy: 0.7701653380446659 ... Score: -0.6050905331090438\n",
      "\n",
      "Validation:\n",
      "Epoch: 20 ... Accuracy: 0.7399733890895267 ... Score: -0.6873245434474289\n",
      "\n",
      "Class F1 Scores\n",
      "Training: \n",
      "[0.70098571 0.36025368 0.8679188  0.3846965  0.         0.64012873\n",
      " 0.66352969 0.96785291 0.7434555  0.6990667  0.42030075 0.        ]\n",
      "\n",
      "Validation: \n",
      "[0.74347722 0.3002149  0.85348228 0.03084967 0.         0.43057157\n",
      " 0.         0.         0.71288744 0.39373164]\n",
      "\n",
      "Training Runtime: 2032.5795369148254\n",
      "\n",
      "Model Fitting Complete\n"
     ]
    }
   ],
   "source": [
    "# Top F1 unbalanced\n",
    "Model = LSTM(7, 26, 12, 474, 1)\n",
    "Model.fit( x=x, y=y, xt = xt, yt = yt, optim = 'adamw',class_weights = 'unbal', lr = 0.00001, weight_decay = 0.1, n_epoch = 20, batchsize = 128, momentum = None, run_name = 'Selection_LSTM_new')"
   ]
  },
  {
   "cell_type": "code",
   "execution_count": 4,
   "id": "dcfaa8fe",
   "metadata": {},
   "outputs": [
    {
     "name": "stdout",
     "output_type": "stream",
     "text": [
      "Device is cuda:0.\n",
      "\n"
     ]
    },
    {
     "data": {
      "text/html": [
       "Finishing last run (ID:3t95a1v5) before initializing another..."
      ],
      "text/plain": [
       "<IPython.core.display.HTML object>"
      ]
     },
     "metadata": {},
     "output_type": "display_data"
    },
    {
     "data": {
      "text/html": [
       "<br/>Waiting for W&B process to finish, PID 95139... <strong style=\"color:green\">(success).</strong>"
      ],
      "text/plain": [
       "<IPython.core.display.HTML object>"
      ]
     },
     "metadata": {},
     "output_type": "display_data"
    },
    {
     "data": {
      "application/vnd.jupyter.widget-view+json": {
       "model_id": "",
       "version_major": 2,
       "version_minor": 0
      },
      "text/plain": [
       "VBox(children=(Label(value=' 0.00MB of 0.00MB uploaded (0.00MB deduped)\\r'), FloatProgress(value=1.0, max=1.0)…"
      ]
     },
     "metadata": {},
     "output_type": "display_data"
    },
    {
     "data": {
      "text/html": [
       "<style>\n",
       "    table.wandb td:nth-child(1) { padding: 0 10px; text-align: right }\n",
       "    .wandb-row { display: flex; flex-direction: row; flex-wrap: wrap; width: 100% }\n",
       "    .wandb-col { display: flex; flex-direction: column; flex-basis: 100%; flex: 1; padding: 10px; }\n",
       "    </style>\n",
       "<div class=\"wandb-row\"><div class=\"wandb-col\">\n",
       "<h3>Run history:</h3><br/><table class=\"wandb\"><tr><td>train_accuracy</td><td>▁▃▄▄▄▅▅▅▅▃▆▃▇▇▇▇▇▆▆█</td></tr><tr><td>train_batch_loss</td><td>▂▇▃▂▄▂▄▃▃▁▄▂▄▂▆▁▂▃▃▁█▃▂▁▂▁▂▅▃▂▄▂▁▄▁▁▂▂▂▄</td></tr><tr><td>train_epoch_loss</td><td>█▇▇▅▅▄▄▃▃▄▂▄▂▂▂▂▂▃▂▁</td></tr><tr><td>train_score</td><td>▁▃▄▅▅▅▅▆▆▄▆▃▇▇█▇▇▆▆█</td></tr><tr><td>valid_accuracy</td><td>▄▅▆▇▆▇▄▅▅▄▇▁█████▇▂▇</td></tr><tr><td>valid_epoch_loss</td><td>██▇▆▆▅▇▆▄▅▄█▃▂▂▂▃▄▆▁</td></tr><tr><td>valid_score</td><td>▃▄▆▆▆▇▄▆▆▄▇▁█████▇▃▇</td></tr></table><br/></div><div class=\"wandb-col\">\n",
       "<h3>Run summary:</h3><br/><table class=\"wandb\"><tr><td>train_accuracy</td><td>0.77017</td></tr><tr><td>train_batch_loss</td><td>0.30382</td></tr><tr><td>train_epoch_loss</td><td>0.66669</td></tr><tr><td>train_score</td><td>-0.60509</td></tr><tr><td>valid_accuracy</td><td>0.73997</td></tr><tr><td>valid_epoch_loss</td><td>0.76927</td></tr><tr><td>valid_score</td><td>-0.68732</td></tr></table>\n",
       "</div></div>\n",
       "Synced 6 W&B file(s), 0 media file(s), 0 artifact file(s) and 0 other file(s)\n",
       "<br/>Synced <strong style=\"color:#cdcd00\">wobbly-disco-12</strong>: <a href=\"https://wandb.ai/2djagpal/Lithology-Selection_LSTM_new/runs/3t95a1v5\" target=\"_blank\">https://wandb.ai/2djagpal/Lithology-Selection_LSTM_new/runs/3t95a1v5</a><br/>\n",
       "Find logs at: <code>./wandb/run-20211206_112502-3t95a1v5/logs</code><br/>\n"
      ],
      "text/plain": [
       "<IPython.core.display.HTML object>"
      ]
     },
     "metadata": {},
     "output_type": "display_data"
    },
    {
     "data": {
      "text/html": [
       "Successfully finished last run (ID:3t95a1v5). Initializing new run:<br/>"
      ],
      "text/plain": [
       "<IPython.core.display.HTML object>"
      ]
     },
     "metadata": {},
     "output_type": "display_data"
    },
    {
     "data": {
      "text/html": [
       "\n",
       "                    Syncing run <strong><a href=\"https://wandb.ai/2djagpal/Lithology-Selection_LSTM_new/runs/1o6cn9hu\" target=\"_blank\">colorful-gorge-13</a></strong> to <a href=\"https://wandb.ai/2djagpal/Lithology-Selection_LSTM_new\" target=\"_blank\">Weights & Biases</a> (<a href=\"https://docs.wandb.com/integrations/jupyter.html\" target=\"_blank\">docs</a>).<br/>\n",
       "\n",
       "                "
      ],
      "text/plain": [
       "<IPython.core.display.HTML object>"
      ]
     },
     "metadata": {},
     "output_type": "display_data"
    },
    {
     "name": "stdout",
     "output_type": "stream",
     "text": [
      "Loading Data ...\n",
      "\n",
      "Starting training...\n",
      "\n",
      "Training:\n",
      "Epoch: 1 ... Accuracy: 0.660238989637859 ... Score: -0.9881284755119772\n",
      "\n",
      "Validation:\n",
      "Epoch: 1 ... Accuracy: 0.6542336203997485 ... Score: -1.0045810609272878\n",
      "\n",
      "Training:\n",
      "Epoch: 2 ... Accuracy: 0.7032347410660814 ... Score: -0.8215528303450373\n",
      "\n",
      "Validation:\n",
      "Epoch: 2 ... Accuracy: 0.6990189054435395 ... Score: -0.8525241983828754\n",
      "\n",
      "Training:\n",
      "Epoch: 3 ... Accuracy: 0.7027349593468152 ... Score: -0.8114720835600862\n",
      "\n",
      "Validation:\n",
      "Epoch: 3 ... Accuracy: 0.6780737794803562 ... Score: -0.9046676926001199\n",
      "\n",
      "Training:\n",
      "Epoch: 4 ... Accuracy: 0.6918627847153935 ... Score: -0.8475589934652472\n",
      "\n",
      "Validation:\n",
      "Epoch: 4 ... Accuracy: 0.6440571403506207 ... Score: -1.0082693038761277\n",
      "\n",
      "Training:\n",
      "Epoch: 5 ... Accuracy: 0.6508653058365107 ... Score: -0.9943864260993702\n",
      "\n",
      "Validation:\n",
      "Epoch: 5 ... Accuracy: 0.5463132191890983 ... Score: -1.3689056263067858\n",
      "\n",
      "Training:\n",
      "Epoch: 6 ... Accuracy: 0.7271362678351592 ... Score: -0.7302197501774866\n",
      "\n",
      "Validation:\n",
      "Epoch: 6 ... Accuracy: 0.7099703185998567 ... Score: -0.7836008436535903\n",
      "\n",
      "Training:\n",
      "Epoch: 7 ... Accuracy: 0.72722768090176 ... Score: -0.7362366735553959\n",
      "\n",
      "Validation:\n",
      "Epoch: 7 ... Accuracy: 0.7168131241501323 ... Score: -0.7779259207813665\n",
      "\n",
      "Training:\n",
      "Epoch: 8 ... Accuracy: 0.7248048074729755 ... Score: -0.73370519371454\n",
      "\n",
      "Validation:\n",
      "Epoch: 8 ... Accuracy: 0.6834398257131578 ... Score: -0.8374970757241238\n",
      "\n",
      "Training:\n",
      "Epoch: 9 ... Accuracy: 0.7480869466412533 ... Score: -0.660279570204808\n",
      "\n",
      "Validation:\n",
      "Epoch: 9 ... Accuracy: 0.7162575117336569 ... Score: -0.7355568186802743\n",
      "\n",
      "Training:\n",
      "Epoch: 10 ... Accuracy: 0.7114209093293442 ... Score: -0.7726068998924401\n",
      "\n",
      "Validation:\n",
      "Epoch: 10 ... Accuracy: 0.6011141491088269 ... Score: -1.090913909318205\n",
      "\n",
      "Training:\n",
      "Epoch: 11 ... Accuracy: 0.7457614665731462 ... Score: -0.6790064339420988\n",
      "\n",
      "Validation:\n",
      "Epoch: 11 ... Accuracy: 0.6828257277791587 ... Score: -0.8585363268170719\n",
      "\n",
      "Training:\n",
      "Epoch: 12 ... Accuracy: 0.7395265828343347 ... Score: -0.6972576507183614\n",
      "\n",
      "Validation:\n",
      "Epoch: 12 ... Accuracy: 0.6750690860175749 ... Score: -0.8968617036831255\n",
      "\n",
      "Training:\n",
      "Epoch: 13 ... Accuracy: 0.7523910497210193 ... Score: -0.6599180827860652\n",
      "\n",
      "Validation:\n",
      "Epoch: 13 ... Accuracy: 0.6766335736113345 ... Score: -0.8801119997660579\n",
      "\n",
      "Training:\n",
      "Epoch: 14 ... Accuracy: 0.7554008462970446 ... Score: -0.6499727469455648\n",
      "\n",
      "Validation:\n",
      "Epoch: 14 ... Accuracy: 0.7105186203266416 ... Score: -0.7686376895296302\n",
      "\n",
      "Training:\n",
      "Epoch: 15 ... Accuracy: 0.750719130362722 ... Score: -0.6660328266885147\n",
      "\n",
      "Validation:\n",
      "Epoch: 15 ... Accuracy: 0.7285321597239484 ... Score: -0.7301651850335561\n",
      "\n",
      "Training:\n",
      "Epoch: 16 ... Accuracy: 0.7636715930051063 ... Score: -0.6213971931916915\n",
      "\n",
      "Validation:\n",
      "Epoch: 16 ... Accuracy: 0.72934364627959 ... Score: -0.7212059348178907\n",
      "\n",
      "Training:\n",
      "Epoch: 17 ... Accuracy: 0.7589582669449497 ... Score: -0.6274644151144244\n",
      "\n",
      "Validation:\n",
      "Epoch: 17 ... Accuracy: 0.6700978170280584 ... Score: -0.8524748512274648\n",
      "\n",
      "Training:\n",
      "Epoch: 18 ... Accuracy: 0.7554256218010766 ... Score: -0.6427247373155827\n",
      "\n",
      "Validation:\n",
      "Epoch: 18 ... Accuracy: 0.7359817525185326 ... Score: -0.6949285745617242\n",
      "\n",
      "Training:\n",
      "Epoch: 19 ... Accuracy: 0.7466200659370138 ... Score: -0.6835380017787103\n",
      "\n",
      "Validation:\n",
      "Epoch: 19 ... Accuracy: 0.7180193879490591 ... Score: -0.7739141798137237\n",
      "\n",
      "Training:\n",
      "Epoch: 20 ... Accuracy: 0.7805420025954476 ... Score: -0.5784422359123494\n",
      "\n",
      "Validation:\n",
      "Epoch: 20 ... Accuracy: 0.7463921746377553 ... Score: -0.6740931089438977\n",
      "\n",
      "Class F1 Scores\n",
      "Training: \n",
      "[0.72531166 0.35231284 0.87564078 0.43166198 0.         0.62661281\n",
      " 0.75375599 0.95645522 0.6851749  0.60391915 0.34323833 0.        ]\n",
      "\n",
      "Validation: \n",
      "[0.74496253 0.2916634  0.86224161 0.1        0.         0.41285635\n",
      " 0.00601504 0.         0.01587302 0.56108597 0.25858124]\n",
      "\n",
      "Training Runtime: 2056.2378764152527\n",
      "\n",
      "Model Fitting Complete\n"
     ]
    }
   ],
   "source": [
    "# 2 Accuracy  unbalanced\n",
    "Model = LSTM(9, 26, 12, 317, 1)\n",
    "Model.fit( x=x, y=y, xt = xt, yt = yt, optim = 'adamw',class_weights = 'unbal', lr = 0.00001, weight_decay = 0.1, n_epoch = 20, batchsize = 128, momentum = None, run_name = 'Selection_LSTM_new')"
   ]
  },
  {
   "cell_type": "code",
   "execution_count": null,
   "id": "f2af2d40",
   "metadata": {},
   "outputs": [],
   "source": []
  },
  {
   "cell_type": "code",
   "execution_count": null,
   "id": "bd2602f7",
   "metadata": {},
   "outputs": [],
   "source": []
  }
 ],
 "metadata": {
  "kernelspec": {
   "display_name": "Python 3 (ipykernel)",
   "language": "python",
   "name": "python3"
  },
  "language_info": {
   "codemirror_mode": {
    "name": "ipython",
    "version": 3
   },
   "file_extension": ".py",
   "mimetype": "text/x-python",
   "name": "python",
   "nbconvert_exporter": "python",
   "pygments_lexer": "ipython3",
   "version": "3.9.12"
  }
 },
 "nbformat": 4,
 "nbformat_minor": 5
}
