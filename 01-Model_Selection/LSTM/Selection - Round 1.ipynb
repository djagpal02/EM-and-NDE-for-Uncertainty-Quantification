{
 "cells": [
  {
   "cell_type": "code",
   "execution_count": 1,
   "id": "f13664ae",
   "metadata": {},
   "outputs": [],
   "source": [
    "import sys\n",
    "sys.path.insert(0, '../../Models/LSTM')\n",
    "\n",
    "from LSTM import LSTM\n",
    "import pandas as pd"
   ]
  },
  {
   "cell_type": "code",
   "execution_count": 3,
   "id": "b91b7649",
   "metadata": {},
   "outputs": [],
   "source": [
    "x = pd.read_csv('../../Data/Missing_0_Mask/X_train_0_WELL.csv')\n",
    "y = pd.read_csv('../../Data/Y_train.csv')\n",
    "xt = pd.read_csv('../../Data/Missing_0_Mask/X_test_0_WELL.csv')\n",
    "yt = pd.read_csv('../../Data/Y_test.csv')"
   ]
  },
  {
   "cell_type": "code",
   "execution_count": 4,
   "id": "07cb4a97",
   "metadata": {},
   "outputs": [
    {
     "name": "stdout",
     "output_type": "stream",
     "text": [
      "Device is cuda:0.\n",
      "\n"
     ]
    },
    {
     "name": "stderr",
     "output_type": "stream",
     "text": [
      "\u001b[34m\u001b[1mwandb\u001b[0m: Currently logged in as: \u001b[33m2djagpal\u001b[0m (use `wandb login --relogin` to force relogin)\n"
     ]
    },
    {
     "data": {
      "text/html": [
       "\n",
       "                    Syncing run <strong><a href=\"https://wandb.ai/2djagpal/Lithology-Selection_LSTM_new/runs/1rb49rnm\" target=\"_blank\">rosy-pond-1</a></strong> to <a href=\"https://wandb.ai/2djagpal/Lithology-Selection_LSTM_new\" target=\"_blank\">Weights & Biases</a> (<a href=\"https://docs.wandb.com/integrations/jupyter.html\" target=\"_blank\">docs</a>).<br/>\n",
       "\n",
       "                "
      ],
      "text/plain": [
       "<IPython.core.display.HTML object>"
      ]
     },
     "metadata": {},
     "output_type": "display_data"
    },
    {
     "name": "stdout",
     "output_type": "stream",
     "text": [
      "Loading Data ...\n",
      "\n",
      "Starting training...\n",
      "\n",
      "Training:\n",
      "Epoch: 1 ... Accuracy: 0.6110425275798348 ... Score: -1.023411569818652\n",
      "\n",
      "Validation:\n",
      "Epoch: 1 ... Accuracy: 0.5355811267234951 ... Score: -1.2485186715014696\n",
      "\n",
      "Training:\n",
      "Epoch: 2 ... Accuracy: 0.7076900601532151 ... Score: -0.7752891685768011\n",
      "\n",
      "Validation:\n",
      "Epoch: 2 ... Accuracy: 0.7076162765195269 ... Score: -0.7974911540654746\n",
      "\n",
      "Training:\n",
      "Epoch: 3 ... Accuracy: 0.7134670242312973 ... Score: -0.7280887364578377\n",
      "\n",
      "Validation:\n",
      "Epoch: 3 ... Accuracy: 0.7057228078896963 ... Score: -0.7360941543725235\n",
      "\n",
      "Training:\n",
      "Epoch: 4 ... Accuracy: 0.7112415005070435 ... Score: -0.7655659579448634\n",
      "\n",
      "Validation:\n",
      "Epoch: 4 ... Accuracy: 0.6218838185194391 ... Score: -1.0572079745003145\n",
      "\n",
      "Training:\n",
      "Epoch: 5 ... Accuracy: 0.7157574768626693 ... Score: -0.7658555750437203\n",
      "\n",
      "Validation:\n",
      "Epoch: 5 ... Accuracy: 0.6853186729636074 ... Score: -0.8858682540610882\n",
      "\n",
      "Training:\n",
      "Epoch: 6 ... Accuracy: 0.6796185597572343 ... Score: -0.8592704382957529\n",
      "\n",
      "Validation:\n",
      "Epoch: 6 ... Accuracy: 0.5666808006667349 ... Score: -1.2371103402394983\n",
      "\n",
      "Training:\n",
      "Epoch: 7 ... Accuracy: 0.6167451651458209 ... Score: -0.9501415407458793\n",
      "\n",
      "Validation:\n",
      "Epoch: 7 ... Accuracy: 0.5016083517319024 ... Score: -1.2119122205488866\n",
      "\n",
      "Training:\n",
      "Epoch: 8 ... Accuracy: 0.6636571548665497 ... Score: -0.8585369979436331\n",
      "\n",
      "Validation:\n",
      "Epoch: 8 ... Accuracy: 0.5747225593262468 ... Score: -1.0959719927477958\n",
      "\n",
      "Training:\n",
      "Epoch: 9 ... Accuracy: 0.6513966976816109 ... Score: -0.911651193367683\n",
      "\n",
      "Validation:\n",
      "Epoch: 9 ... Accuracy: 0.5794306434869065 ... Score: -1.0974542350825376\n",
      "\n",
      "Training:\n",
      "Epoch: 10 ... Accuracy: 0.6782405291364199 ... Score: -0.8533415106735435\n",
      "\n",
      "Validation:\n",
      "Epoch: 10 ... Accuracy: 0.5804833828023336 ... Score: -1.1163852660359979\n",
      "\n",
      "Training:\n",
      "Epoch: 11 ... Accuracy: 0.7269970124159448 ... Score: -0.7191752149274975\n",
      "\n",
      "Validation:\n",
      "Epoch: 11 ... Accuracy: 0.7194230403696285 ... Score: -0.7397522407263901\n",
      "\n",
      "Training:\n",
      "Epoch: 12 ... Accuracy: 0.6968836687566371 ... Score: -0.8178200589315265\n",
      "\n",
      "Validation:\n",
      "Epoch: 12 ... Accuracy: 0.538863626394514 ... Score: -1.2933542175368824\n",
      "\n",
      "Training:\n",
      "Epoch: 13 ... Accuracy: 0.7354471679463072 ... Score: -0.7037940053532176\n",
      "\n",
      "Validation:\n",
      "Epoch: 13 ... Accuracy: 0.6964089892240434 ... Score: -0.8161224467416256\n",
      "\n",
      "Training:\n",
      "Epoch: 14 ... Accuracy: 0.7093679598055892 ... Score: -0.7557227142675293\n",
      "\n",
      "Validation:\n",
      "Epoch: 14 ... Accuracy: 0.682028862602898 ... Score: -0.823433136432091\n",
      "\n",
      "Training:\n",
      "Epoch: 15 ... Accuracy: 0.7429652519284312 ... Score: -0.6727735792316347\n",
      "\n",
      "Validation:\n",
      "Epoch: 15 ... Accuracy: 0.6756027663649788 ... Score: -0.8564582632725571\n",
      "\n",
      "Training:\n",
      "Epoch: 16 ... Accuracy: 0.679985920679088 ... Score: -0.8532755138567686\n",
      "\n",
      "Validation:\n",
      "Epoch: 16 ... Accuracy: 0.5854838945506119 ... Score: -1.1055636176216865\n",
      "\n",
      "Training:\n",
      "Epoch: 17 ... Accuracy: 0.719876190826058 ... Score: -0.7237068895550747\n",
      "\n",
      "Validation:\n",
      "Epoch: 17 ... Accuracy: 0.6481438158875908 ... Score: -0.9261199976605793\n",
      "\n",
      "Training:\n",
      "Epoch: 18 ... Accuracy: 0.7534376011844399 ... Score: -0.6444890308591718\n",
      "\n",
      "Validation:\n",
      "Epoch: 18 ... Accuracy: 0.6824017077771117 ... Score: -0.8511443057038001\n",
      "\n",
      "Training:\n",
      "Epoch: 19 ... Accuracy: 0.6705729378023786 ... Score: -0.8848369430103604\n",
      "\n",
      "Validation:\n",
      "Epoch: 19 ... Accuracy: 0.5738379658737005 ... Score: -1.128442421007998\n",
      "\n",
      "Training:\n",
      "Epoch: 20 ... Accuracy: 0.7462125516120737 ... Score: -0.6774854102182722\n",
      "\n",
      "Validation:\n",
      "Epoch: 20 ... Accuracy: 0.6868173643501528 ... Score: -0.8458321758074657\n",
      "\n",
      "Class F1 Scores\n",
      "Training: \n",
      "[0.71891253 0.44925247 0.85990559 0.46201187 0.09464995 0.57096347\n",
      " 0.66588264 0.94570298 0.62626884 0.69823196 0.35392891 0.14414414]\n",
      "\n",
      "Validation: \n",
      "[0.71770859 0.29501253 0.81692119 0.20880128 0.03179191 0.36538811\n",
      " 0.         0.58757062 0.68328141 0.40012702]\n",
      "\n",
      "Training Runtime: 1855.1595935821533\n",
      "\n",
      "Model Fitting Complete\n"
     ]
    }
   ],
   "source": [
    "# Top F1\n",
    "Model = LSTM(7, 26, 12, 474, 1)\n",
    "Model.fit( x=x, y=y, xt = xt, yt = yt, optim = 'adamw', lr = 0.0001, weight_decay = 0.1, n_epoch = 20, batchsize = 256, momentum = None, run_name = 'Selection_LSTM_new')"
   ]
  },
  {
   "cell_type": "code",
   "execution_count": 5,
   "id": "de47da08",
   "metadata": {},
   "outputs": [
    {
     "name": "stdout",
     "output_type": "stream",
     "text": [
      "Device is cuda:0.\n",
      "\n"
     ]
    },
    {
     "data": {
      "text/html": [
       "Finishing last run (ID:1rb49rnm) before initializing another..."
      ],
      "text/plain": [
       "<IPython.core.display.HTML object>"
      ]
     },
     "metadata": {},
     "output_type": "display_data"
    },
    {
     "data": {
      "text/html": [
       "<br/>Waiting for W&B process to finish, PID 3337... <strong style=\"color:green\">(success).</strong>"
      ],
      "text/plain": [
       "<IPython.core.display.HTML object>"
      ]
     },
     "metadata": {},
     "output_type": "display_data"
    },
    {
     "data": {
      "application/vnd.jupyter.widget-view+json": {
       "model_id": "",
       "version_major": 2,
       "version_minor": 0
      },
      "text/plain": [
       "VBox(children=(Label(value=' 0.00MB of 0.00MB uploaded (0.00MB deduped)\\r'), FloatProgress(value=1.0, max=1.0)…"
      ]
     },
     "metadata": {},
     "output_type": "display_data"
    },
    {
     "data": {
      "text/html": [
       "<style>\n",
       "    table.wandb td:nth-child(1) { padding: 0 10px; text-align: right }\n",
       "    .wandb-row { display: flex; flex-direction: row; flex-wrap: wrap; width: 100% }\n",
       "    .wandb-col { display: flex; flex-direction: column; flex-basis: 100%; flex: 1; padding: 10px; }\n",
       "    </style>\n",
       "<div class=\"wandb-row\"><div class=\"wandb-col\">\n",
       "<h3>Run history:</h3><br/><table class=\"wandb\"><tr><td>train_accuracy</td><td>▁▆▆▆▆▄▁▄▃▄▇▅▇▆▇▄▆█▄█</td></tr><tr><td>train_batch_loss</td><td>▄▅▆▆▃▄▁▆█▂▆▃▃▅▇▃▁▃▃▂▃▂▃▄▃▄▅▄▂▃▂▃▂▂▁▅▃▂▃▂</td></tr><tr><td>train_epoch_loss</td><td>█▇▆▄▆▅▄▄▂▂▅▂▂▃▂▂▂▂▁▁</td></tr><tr><td>train_score</td><td>▁▆▆▆▆▄▂▄▃▄▇▅▇▆▇▄▇█▄▇</td></tr><tr><td>valid_accuracy</td><td>▂██▅▇▃▁▃▄▄█▂▇▇▇▄▆▇▃▇</td></tr><tr><td>valid_epoch_loss</td><td>▇▅▄▃▆▄▄▄▃▁█▂▄▄▂▂▃▅▁▃</td></tr><tr><td>valid_score</td><td>▂▇█▄▆▂▂▃▃▃█▁▇▇▆▃▆▇▃▇</td></tr></table><br/></div><div class=\"wandb-col\">\n",
       "<h3>Run summary:</h3><br/><table class=\"wandb\"><tr><td>train_accuracy</td><td>0.74621</td></tr><tr><td>train_batch_loss</td><td>0.7332</td></tr><tr><td>train_epoch_loss</td><td>0.89852</td></tr><tr><td>train_score</td><td>-0.67749</td></tr><tr><td>valid_accuracy</td><td>0.68682</td></tr><tr><td>valid_epoch_loss</td><td>1.7285</td></tr><tr><td>valid_score</td><td>-0.84583</td></tr></table>\n",
       "</div></div>\n",
       "Synced 6 W&B file(s), 0 media file(s), 0 artifact file(s) and 0 other file(s)\n",
       "<br/>Synced <strong style=\"color:#cdcd00\">rosy-pond-1</strong>: <a href=\"https://wandb.ai/2djagpal/Lithology-Selection_LSTM_new/runs/1rb49rnm\" target=\"_blank\">https://wandb.ai/2djagpal/Lithology-Selection_LSTM_new/runs/1rb49rnm</a><br/>\n",
       "Find logs at: <code>./wandb/run-20211206_061715-1rb49rnm/logs</code><br/>\n"
      ],
      "text/plain": [
       "<IPython.core.display.HTML object>"
      ]
     },
     "metadata": {},
     "output_type": "display_data"
    },
    {
     "data": {
      "text/html": [
       "Successfully finished last run (ID:1rb49rnm). Initializing new run:<br/>"
      ],
      "text/plain": [
       "<IPython.core.display.HTML object>"
      ]
     },
     "metadata": {},
     "output_type": "display_data"
    },
    {
     "data": {
      "text/html": [
       "\n",
       "                    Syncing run <strong><a href=\"https://wandb.ai/2djagpal/Lithology-Selection_LSTM_new/runs/1abx8yt3\" target=\"_blank\">soft-dawn-2</a></strong> to <a href=\"https://wandb.ai/2djagpal/Lithology-Selection_LSTM_new\" target=\"_blank\">Weights & Biases</a> (<a href=\"https://docs.wandb.com/integrations/jupyter.html\" target=\"_blank\">docs</a>).<br/>\n",
       "\n",
       "                "
      ],
      "text/plain": [
       "<IPython.core.display.HTML object>"
      ]
     },
     "metadata": {},
     "output_type": "display_data"
    },
    {
     "name": "stdout",
     "output_type": "stream",
     "text": [
      "Loading Data ...\n",
      "\n",
      "Starting training...\n",
      "\n",
      "Training:\n",
      "Epoch: 1 ... Accuracy: 0.7026683217842463 ... Score: -0.8104759374324547\n",
      "\n",
      "Validation:\n",
      "Epoch: 1 ... Accuracy: 0.7155703069027533 ... Score: -0.773565094381004\n",
      "\n",
      "Training:\n",
      "Epoch: 2 ... Accuracy: 0.635196935355584 ... Score: -0.9723891958298555\n",
      "\n",
      "Validation:\n",
      "Epoch: 2 ... Accuracy: 0.5262599973681518 ... Score: -1.30661123945433\n",
      "\n",
      "Training:\n",
      "Epoch: 3 ... Accuracy: 0.72177707001472 ... Score: -0.7529884383828943\n",
      "\n",
      "Validation:\n",
      "Epoch: 3 ... Accuracy: 0.7309885514599447 ... Score: -0.7252268141476467\n",
      "\n",
      "Training:\n",
      "Epoch: 4 ... Accuracy: 0.718839036967615 ... Score: -0.7561937692170343\n",
      "\n",
      "Validation:\n",
      "Epoch: 4 ... Accuracy: 0.6812100653575658 ... Score: -0.8916647171494159\n",
      "\n",
      "Training:\n",
      "Epoch: 5 ... Accuracy: 0.7241008414273766 ... Score: -0.7056786523151\n",
      "\n",
      "Validation:\n",
      "Epoch: 5 ... Accuracy: 0.700517596830085 ... Score: -0.773526713260129\n",
      "\n",
      "Training:\n",
      "Epoch: 6 ... Accuracy: 0.7271875274986737 ... Score: -0.7397849101802546\n",
      "\n",
      "Validation:\n",
      "Epoch: 6 ... Accuracy: 0.7091661427339055 ... Score: -0.8105060093869255\n",
      "\n",
      "Training:\n",
      "Epoch: 7 ... Accuracy: 0.7497323818400682 ... Score: -0.6473902210231258\n",
      "\n",
      "Validation:\n",
      "Epoch: 7 ... Accuracy: 0.724708669015835 ... Score: -0.7174884491102891\n",
      "\n",
      "Training:\n",
      "Epoch: 8 ... Accuracy: 0.7517981462797018 ... Score: -0.6576962967456094\n",
      "\n",
      "Validation:\n",
      "Epoch: 8 ... Accuracy: 0.7394397087421227 ... Score: -0.7005066307955492\n",
      "\n",
      "Training:\n",
      "Epoch: 9 ... Accuracy: 0.7118702857128212 ... Score: -0.749498296043352\n",
      "\n",
      "Validation:\n",
      "Epoch: 9 ... Accuracy: 0.6429605368970509 ... Score: -0.9304671165177723\n",
      "\n",
      "Training:\n",
      "Epoch: 10 ... Accuracy: 0.7301964697469737 ... Score: -0.6969274530525557\n",
      "\n",
      "Validation:\n",
      "Epoch: 10 ... Accuracy: 0.6146900998640211 ... Score: -0.9291256049595719\n",
      "\n",
      "Training:\n",
      "Epoch: 11 ... Accuracy: 0.7339913935024959 ... Score: -0.7037925102796984\n",
      "\n",
      "Validation:\n",
      "Epoch: 11 ... Accuracy: 0.7117321948152588 ... Score: -0.7799729138946968\n",
      "\n",
      "Training:\n",
      "Epoch: 12 ... Accuracy: 0.7490907817184119 ... Score: -0.6734597111859693\n",
      "\n",
      "Validation:\n",
      "Epoch: 12 ... Accuracy: 0.7346073428567251 ... Score: -0.722891048791543\n",
      "\n",
      "Training:\n",
      "Epoch: 13 ... Accuracy: 0.7627044940201331 ... Score: -0.6273850694269426\n",
      "\n",
      "Validation:\n",
      "Epoch: 13 ... Accuracy: 0.7486146243036568 ... Score: -0.6776470179696753\n",
      "\n",
      "Training:\n",
      "Epoch: 14 ... Accuracy: 0.771181133709978 ... Score: -0.586703691806399\n",
      "\n",
      "Validation:\n",
      "Epoch: 14 ... Accuracy: 0.7321509511207287 ... Score: -0.7004088503209392\n",
      "\n",
      "Training:\n",
      "Epoch: 15 ... Accuracy: 0.7593504033708355 ... Score: -0.6178853722861212\n",
      "\n",
      "Validation:\n",
      "Epoch: 15 ... Accuracy: 0.7044507478835553 ... Score: -0.7630523226061147\n",
      "\n",
      "Training:\n",
      "Epoch: 16 ... Accuracy: 0.7791024603784159 ... Score: -0.5715327536434942\n",
      "\n",
      "Validation:\n",
      "Epoch: 16 ... Accuracy: 0.7467723305016595 ... Score: -0.6689070884447239\n",
      "\n",
      "Training:\n",
      "Epoch: 17 ... Accuracy: 0.7675271740291206 ... Score: -0.6152466743157475\n",
      "\n",
      "Validation:\n",
      "Epoch: 17 ... Accuracy: 0.7507639670726536 ... Score: -0.6806032781132572\n",
      "\n",
      "Training:\n",
      "Epoch: 18 ... Accuracy: 0.7696587217035978 ... Score: -0.6024728729589043\n",
      "\n",
      "Validation:\n",
      "Epoch: 18 ... Accuracy: 0.7307107452517071 ... Score: -0.7062025719006331\n",
      "\n",
      "Training:\n",
      "Epoch: 19 ... Accuracy: 0.7759662232990548 ... Score: -0.5896447150005425\n",
      "\n",
      "Validation:\n",
      "Epoch: 19 ... Accuracy: 0.742744140482213 ... Score: -0.6824391750617753\n",
      "\n",
      "Training:\n",
      "Epoch: 20 ... Accuracy: 0.7841711867722729 ... Score: -0.5712720768963299\n",
      "\n",
      "Validation:\n",
      "Epoch: 20 ... Accuracy: 0.7127630020616145 ... Score: -0.7755828447355724\n",
      "\n",
      "Class F1 Scores\n",
      "Training: \n",
      "[0.71519852 0.41850327 0.88154778 0.40385655 0.0531856  0.65744655\n",
      " 0.67344254 0.9741951  0.8154077  0.4173265  0.58096774 0.12727273]\n",
      "\n",
      "Validation: \n",
      "[0.70831857 0.21557632 0.83401138 0.01849894 0.         0.42850582\n",
      " 0.         0.28767123 0.57746479 0.50698975]\n",
      "\n",
      "Training Runtime: 1869.2111599445343\n",
      "\n",
      "Model Fitting Complete\n"
     ]
    }
   ],
   "source": [
    "# Top F1 unbalanced\n",
    "Model = LSTM(7, 26, 12, 474, 1)\n",
    "Model.fit( x=x, y=y, xt = xt, yt = yt, optim = 'adamw',class_weights = 'unbal', lr = 0.0001, weight_decay = 0.1, n_epoch = 20, batchsize = 256, momentum = None, run_name = 'Selection_LSTM_new')"
   ]
  },
  {
   "cell_type": "code",
   "execution_count": 6,
   "id": "c299355b",
   "metadata": {
    "scrolled": true
   },
   "outputs": [
    {
     "name": "stdout",
     "output_type": "stream",
     "text": [
      "Device is cuda:0.\n",
      "\n"
     ]
    },
    {
     "data": {
      "text/html": [
       "Finishing last run (ID:1abx8yt3) before initializing another..."
      ],
      "text/plain": [
       "<IPython.core.display.HTML object>"
      ]
     },
     "metadata": {},
     "output_type": "display_data"
    },
    {
     "data": {
      "text/html": [
       "<br/>Waiting for W&B process to finish, PID 12464... <strong style=\"color:green\">(success).</strong>"
      ],
      "text/plain": [
       "<IPython.core.display.HTML object>"
      ]
     },
     "metadata": {},
     "output_type": "display_data"
    },
    {
     "data": {
      "application/vnd.jupyter.widget-view+json": {
       "model_id": "",
       "version_major": 2,
       "version_minor": 0
      },
      "text/plain": [
       "VBox(children=(Label(value=' 0.00MB of 0.00MB uploaded (0.00MB deduped)\\r'), FloatProgress(value=1.0, max=1.0)…"
      ]
     },
     "metadata": {},
     "output_type": "display_data"
    },
    {
     "data": {
      "text/html": [
       "<style>\n",
       "    table.wandb td:nth-child(1) { padding: 0 10px; text-align: right }\n",
       "    .wandb-row { display: flex; flex-direction: row; flex-wrap: wrap; width: 100% }\n",
       "    .wandb-col { display: flex; flex-direction: column; flex-basis: 100%; flex: 1; padding: 10px; }\n",
       "    </style>\n",
       "<div class=\"wandb-row\"><div class=\"wandb-col\">\n",
       "<h3>Run history:</h3><br/><table class=\"wandb\"><tr><td>train_accuracy</td><td>▄▁▅▅▅▅▆▆▅▅▆▆▇▇▇█▇▇██</td></tr><tr><td>train_batch_loss</td><td>█▃▁▃▄▂▇▇▃▇▂▄▅▃▃▄▇▁▁▂▃▁▄▇▁▄▃▁█▂▅▂▄▂▁▃▃▂▂▃</td></tr><tr><td>train_epoch_loss</td><td>▆█▆▄▄▃▃▂▄▄▃▃▂▁▂▁▁▂▁▁</td></tr><tr><td>train_score</td><td>▄▁▅▅▆▅▇▆▅▆▆▆▇█▇█▇▇██</td></tr><tr><td>valid_accuracy</td><td>▇▁▇▆▆▇▇█▅▄▇▇█▇▇██▇█▇</td></tr><tr><td>valid_epoch_loss</td><td>▄█▄▄▃▃▂▂▄▄▂▂▂▁▃▁▂▁▁▂</td></tr><tr><td>valid_score</td><td>▇▁▇▆▇▆▇█▅▅▇▇██▇████▇</td></tr></table><br/></div><div class=\"wandb-col\">\n",
       "<h3>Run summary:</h3><br/><table class=\"wandb\"><tr><td>train_accuracy</td><td>0.78417</td></tr><tr><td>train_batch_loss</td><td>0.90088</td></tr><tr><td>train_epoch_loss</td><td>0.62472</td></tr><tr><td>train_score</td><td>-0.57127</td></tr><tr><td>valid_accuracy</td><td>0.71276</td></tr><tr><td>valid_epoch_loss</td><td>0.86519</td></tr><tr><td>valid_score</td><td>-0.77558</td></tr></table>\n",
       "</div></div>\n",
       "Synced 6 W&B file(s), 0 media file(s), 0 artifact file(s) and 0 other file(s)\n",
       "<br/>Synced <strong style=\"color:#cdcd00\">soft-dawn-2</strong>: <a href=\"https://wandb.ai/2djagpal/Lithology-Selection_LSTM_new/runs/1abx8yt3\" target=\"_blank\">https://wandb.ai/2djagpal/Lithology-Selection_LSTM_new/runs/1abx8yt3</a><br/>\n",
       "Find logs at: <code>./wandb/run-20211206_064809-1abx8yt3/logs</code><br/>\n"
      ],
      "text/plain": [
       "<IPython.core.display.HTML object>"
      ]
     },
     "metadata": {},
     "output_type": "display_data"
    },
    {
     "data": {
      "text/html": [
       "Successfully finished last run (ID:1abx8yt3). Initializing new run:<br/>"
      ],
      "text/plain": [
       "<IPython.core.display.HTML object>"
      ]
     },
     "metadata": {},
     "output_type": "display_data"
    },
    {
     "data": {
      "text/html": [
       "\n",
       "                    Syncing run <strong><a href=\"https://wandb.ai/2djagpal/Lithology-Selection_LSTM_new/runs/19r4s2tu\" target=\"_blank\">stilted-surf-3</a></strong> to <a href=\"https://wandb.ai/2djagpal/Lithology-Selection_LSTM_new\" target=\"_blank\">Weights & Biases</a> (<a href=\"https://docs.wandb.com/integrations/jupyter.html\" target=\"_blank\">docs</a>).<br/>\n",
       "\n",
       "                "
      ],
      "text/plain": [
       "<IPython.core.display.HTML object>"
      ]
     },
     "metadata": {},
     "output_type": "display_data"
    },
    {
     "name": "stdout",
     "output_type": "stream",
     "text": [
      "Loading Data ...\n",
      "\n",
      "Starting training...\n",
      "\n",
      "Training:\n",
      "Epoch: 1 ... Accuracy: 0.5895997560040017 ... Score: -1.1007638971355245\n",
      "\n",
      "Validation:\n",
      "Epoch: 1 ... Accuracy: 0.5076250493471555 ... Score: -1.357009306507976\n",
      "\n",
      "Training:\n",
      "Epoch: 2 ... Accuracy: 0.5754845533275638 ... Score: -1.2513101115666576\n",
      "\n",
      "Validation:\n",
      "Epoch: 2 ... Accuracy: 0.48323658853976287 ... Score: -1.5830695392803358\n",
      "\n",
      "Training:\n",
      "Epoch: 3 ... Accuracy: 0.6870691518490643 ... Score: -0.8424846071502105\n",
      "\n",
      "Validation:\n",
      "Epoch: 3 ... Accuracy: 0.6511485093503722 ... Score: -0.9747616715160908\n",
      "\n",
      "Training:\n",
      "Epoch: 4 ... Accuracy: 0.6652906294772112 ... Score: -0.9211285711966825\n",
      "\n",
      "Validation:\n",
      "Epoch: 4 ... Accuracy: 0.6088854122497916 ... Score: -1.110817262000497\n",
      "\n",
      "Training:\n",
      "Epoch: 5 ... Accuracy: 0.7140735969162186 ... Score: -0.7790744811454142\n",
      "\n",
      "Validation:\n",
      "Epoch: 5 ... Accuracy: 0.6909844574737181 ... Score: -0.8655920562045823\n",
      "\n",
      "Training:\n",
      "Epoch: 6 ... Accuracy: 0.474276619356845 ... Score: -1.3236028965127196\n",
      "\n",
      "Validation:\n",
      "Epoch: 6 ... Accuracy: 0.3552556548184756 ... Score: -1.6356608132411212\n",
      "\n",
      "Training:\n",
      "Epoch: 7 ... Accuracy: 0.743590619823308 ... Score: -0.6672892223994478\n",
      "\n",
      "Validation:\n",
      "Epoch: 7 ... Accuracy: 0.708530112730835 ... Score: -0.7888252452736391\n",
      "\n",
      "Training:\n",
      "Epoch: 8 ... Accuracy: 0.7387944239738029 ... Score: -0.691622611833635\n",
      "\n",
      "Validation:\n",
      "Epoch: 8 ... Accuracy: 0.7312371149094206 ... Score: -0.7229851739213078\n",
      "\n",
      "Training:\n",
      "Epoch: 9 ... Accuracy: 0.6227263135502358 ... Score: -1.0099613544853487\n",
      "\n",
      "Validation:\n",
      "Epoch: 9 ... Accuracy: 0.4928501454827248 ... Score: -1.4485126401824748\n",
      "\n",
      "Training:\n",
      "Epoch: 10 ... Accuracy: 0.6925872546263983 ... Score: -0.7931035035125684\n",
      "\n",
      "Validation:\n",
      "Epoch: 10 ... Accuracy: 0.6520111707338471 ... Score: -0.9416415057096487\n",
      "\n",
      "Training:\n",
      "Epoch: 11 ... Accuracy: 0.49330420645342077 ... Score: -1.2396829248080539\n",
      "\n",
      "Validation:\n",
      "Epoch: 11 ... Accuracy: 0.3610384103636337 ... Score: -1.5888513809892826\n",
      "\n",
      "Training:\n",
      "Epoch: 12 ... Accuracy: 0.7249064724722792 ... Score: -0.7168740831995598\n",
      "\n",
      "Validation:\n",
      "Epoch: 12 ... Accuracy: 0.6703171377187724 ... Score: -0.8773704911321334\n",
      "\n",
      "Training:\n",
      "Epoch: 13 ... Accuracy: 0.721734353628458 ... Score: -0.7072707988220529\n",
      "\n",
      "Validation:\n",
      "Epoch: 13 ... Accuracy: 0.6522597341833228 ... Score: -0.9010872823242144\n",
      "\n",
      "Training:\n",
      "Epoch: 14 ... Accuracy: 0.7409097394215005 ... Score: -0.7001179399424696\n",
      "\n",
      "Validation:\n",
      "Epoch: 14 ... Accuracy: 0.6745646484289328 ... Score: -0.9098683344786748\n",
      "\n",
      "Training:\n",
      "Epoch: 15 ... Accuracy: 0.7513872146438607 ... Score: -0.6534062900733099\n",
      "\n",
      "Validation:\n",
      "Epoch: 15 ... Accuracy: 0.690779758162385 ... Score: -0.8383222698229351\n",
      "\n",
      "Training:\n",
      "Epoch: 16 ... Accuracy: 0.7319768887263768 ... Score: -0.7246549797481613\n",
      "\n",
      "Validation:\n",
      "Epoch: 16 ... Accuracy: 0.6832351264018247 ... Score: -0.8733395596040531\n",
      "\n",
      "Training:\n",
      "Epoch: 17 ... Accuracy: 0.718138488232917 ... Score: -0.7136478213361515\n",
      "\n",
      "Validation:\n",
      "Epoch: 17 ... Accuracy: 0.6779714298246896 ... Score: -0.8454008451157282\n",
      "\n",
      "Training:\n",
      "Epoch: 18 ... Accuracy: 0.7437298752425223 ... Score: -0.6791451554064849\n",
      "\n",
      "Validation:\n",
      "Epoch: 18 ... Accuracy: 0.6846387788223941 ... Score: -0.8618535522641206\n",
      "\n",
      "Training:\n",
      "Epoch: 19 ... Accuracy: 0.7109809305508449 ... Score: -0.7297822275911974\n",
      "\n",
      "Validation:\n",
      "Epoch: 19 ... Accuracy: 0.5978828242656412 ... Score: -1.0120562411357887\n",
      "\n",
      "Training:\n",
      "Epoch: 20 ... Accuracy: 0.7104896921088311 ... Score: -0.7442627621611416\n",
      "\n",
      "Validation:\n",
      "Epoch: 20 ... Accuracy: 0.6539631248812013 ... Score: -0.9071670346380477\n",
      "\n",
      "Class F1 Scores\n",
      "Training: \n",
      "[0.67917098 0.26265831 0.84798523 0.35366512 0.         0.42441971\n",
      " 0.61228826 0.92046448 0.69645325 0.52774347 0.41958233 0.14285714]\n",
      "\n",
      "Validation: \n",
      "[0.67415568 0.19248632 0.79607607 0.19246267 0.         0.31306003\n",
      " 0.51739927 0.046875   0.55975328 0.46031042]\n",
      "\n",
      "Training Runtime: 1822.5223550796509\n",
      "\n",
      "Model Fitting Complete\n"
     ]
    }
   ],
   "source": [
    "# Top Accuracy \n",
    "Model = LSTM(2, 26, 12, 183, 2)\n",
    "Model.fit( x=x, y=y, xt = xt, yt = yt, optim = 'adamw', lr = 0.0001, weight_decay = 0.1, n_epoch = 20, batchsize = 256, momentum = None, run_name = 'Selection_LSTM_new')"
   ]
  },
  {
   "cell_type": "code",
   "execution_count": 7,
   "id": "a0660d78",
   "metadata": {
    "scrolled": true
   },
   "outputs": [
    {
     "name": "stdout",
     "output_type": "stream",
     "text": [
      "Device is cuda:0.\n",
      "\n"
     ]
    },
    {
     "data": {
      "text/html": [
       "Finishing last run (ID:19r4s2tu) before initializing another..."
      ],
      "text/plain": [
       "<IPython.core.display.HTML object>"
      ]
     },
     "metadata": {},
     "output_type": "display_data"
    },
    {
     "data": {
      "text/html": [
       "<br/>Waiting for W&B process to finish, PID 21325... <strong style=\"color:green\">(success).</strong>"
      ],
      "text/plain": [
       "<IPython.core.display.HTML object>"
      ]
     },
     "metadata": {},
     "output_type": "display_data"
    },
    {
     "data": {
      "application/vnd.jupyter.widget-view+json": {
       "model_id": "",
       "version_major": 2,
       "version_minor": 0
      },
      "text/plain": [
       "VBox(children=(Label(value=' 0.00MB of 0.00MB uploaded (0.00MB deduped)\\r'), FloatProgress(value=1.0, max=1.0)…"
      ]
     },
     "metadata": {},
     "output_type": "display_data"
    },
    {
     "data": {
      "text/html": [
       "<style>\n",
       "    table.wandb td:nth-child(1) { padding: 0 10px; text-align: right }\n",
       "    .wandb-row { display: flex; flex-direction: row; flex-wrap: wrap; width: 100% }\n",
       "    .wandb-col { display: flex; flex-direction: column; flex-basis: 100%; flex: 1; padding: 10px; }\n",
       "    </style>\n",
       "<div class=\"wandb-row\"><div class=\"wandb-col\">\n",
       "<h3>Run history:</h3><br/><table class=\"wandb\"><tr><td>train_accuracy</td><td>▄▄▆▆▇▁██▅▇▁▇▇███▇█▇▇</td></tr><tr><td>train_batch_loss</td><td>▆▄▅▄▃▃▁▁▅▂▆▅▃▄▄▄▃▅▂▇▄▄▃▅█▃▂▄▁▆▃▂▄▅▁▃▅▅▄▂</td></tr><tr><td>train_epoch_loss</td><td>█▆▇▄▄▅▄▄▂▂▃▂▂▂▃▁▁▂▁▂</td></tr><tr><td>train_score</td><td>▃▂▆▅▇▁██▄▇▂▇▇██▇▇█▇▇</td></tr><tr><td>valid_accuracy</td><td>▄▃▇▆▇▁██▄▇▁▇▇▇▇▇▇▇▆▇</td></tr><tr><td>valid_epoch_loss</td><td>█▅█▄▅█▅▅▁▁▅▃▅▃▆▁▄▃▂▃</td></tr><tr><td>valid_score</td><td>▃▁▆▅▇▁▇█▂▆▁▇▇▇▇▇▇▇▆▇</td></tr></table><br/></div><div class=\"wandb-col\">\n",
       "<h3>Run summary:</h3><br/><table class=\"wandb\"><tr><td>train_accuracy</td><td>0.71049</td></tr><tr><td>train_batch_loss</td><td>0.51444</td></tr><tr><td>train_epoch_loss</td><td>1.15897</td></tr><tr><td>train_score</td><td>-0.74426</td></tr><tr><td>valid_accuracy</td><td>0.65396</td></tr><tr><td>valid_epoch_loss</td><td>1.74198</td></tr><tr><td>valid_score</td><td>-0.90717</td></tr></table>\n",
       "</div></div>\n",
       "Synced 6 W&B file(s), 0 media file(s), 0 artifact file(s) and 0 other file(s)\n",
       "<br/>Synced <strong style=\"color:#cdcd00\">stilted-surf-3</strong>: <a href=\"https://wandb.ai/2djagpal/Lithology-Selection_LSTM_new/runs/19r4s2tu\" target=\"_blank\">https://wandb.ai/2djagpal/Lithology-Selection_LSTM_new/runs/19r4s2tu</a><br/>\n",
       "Find logs at: <code>./wandb/run-20211206_071918-19r4s2tu/logs</code><br/>\n"
      ],
      "text/plain": [
       "<IPython.core.display.HTML object>"
      ]
     },
     "metadata": {},
     "output_type": "display_data"
    },
    {
     "data": {
      "text/html": [
       "Successfully finished last run (ID:19r4s2tu). Initializing new run:<br/>"
      ],
      "text/plain": [
       "<IPython.core.display.HTML object>"
      ]
     },
     "metadata": {},
     "output_type": "display_data"
    },
    {
     "data": {
      "text/html": [
       "\n",
       "                    Syncing run <strong><a href=\"https://wandb.ai/2djagpal/Lithology-Selection_LSTM_new/runs/5mdu4zdj\" target=\"_blank\">vivid-grass-4</a></strong> to <a href=\"https://wandb.ai/2djagpal/Lithology-Selection_LSTM_new\" target=\"_blank\">Weights & Biases</a> (<a href=\"https://docs.wandb.com/integrations/jupyter.html\" target=\"_blank\">docs</a>).<br/>\n",
       "\n",
       "                "
      ],
      "text/plain": [
       "<IPython.core.display.HTML object>"
      ]
     },
     "metadata": {},
     "output_type": "display_data"
    },
    {
     "name": "stdout",
     "output_type": "stream",
     "text": [
      "Loading Data ...\n",
      "\n",
      "Starting training...\n",
      "\n",
      "Training:\n",
      "Epoch: 1 ... Accuracy: 0.5985428586318283 ... Score: -1.1876862968395854\n",
      "\n",
      "Validation:\n",
      "Epoch: 1 ... Accuracy: 0.5054464638193967 ... Score: -1.5129709911833082\n",
      "\n",
      "Training:\n",
      "Epoch: 2 ... Accuracy: 0.7143743202755036 ... Score: -0.783275530943323\n",
      "\n",
      "Validation:\n",
      "Epoch: 2 ... Accuracy: 0.7190282631263434 ... Score: -0.7843638968900326\n",
      "\n",
      "Training:\n",
      "Epoch: 3 ... Accuracy: 0.7286971245891751 ... Score: -0.7149513118629385\n",
      "\n",
      "Validation:\n",
      "Epoch: 3 ... Accuracy: 0.7425613732399514 ... Score: -0.6887437310835904\n",
      "\n",
      "Training:\n",
      "Epoch: 4 ... Accuracy: 0.5855399906536547 ... Score: -1.039119773329768\n",
      "\n",
      "Validation:\n",
      "Epoch: 4 ... Accuracy: 0.4547980056438524 ... Score: -1.3606591683359408\n",
      "\n",
      "Training:\n",
      "Epoch: 5 ... Accuracy: 0.7153764466972117 ... Score: -0.7768415888445303\n",
      "\n",
      "Validation:\n",
      "Epoch: 5 ... Accuracy: 0.6867442574532482 ... Score: -0.8963673182928077\n",
      "\n",
      "Training:\n",
      "Epoch: 6 ... Accuracy: 0.7233635566004933 ... Score: -0.7394820510016565\n",
      "\n",
      "Validation:\n",
      "Epoch: 6 ... Accuracy: 0.6935358881756905 ... Score: -0.8337585717836621\n",
      "\n",
      "Training:\n",
      "Epoch: 7 ... Accuracy: 0.7301400841171078 ... Score: -0.7145636606576102\n",
      "\n",
      "Validation:\n",
      "Epoch: 7 ... Accuracy: 0.6843097977863232 ... Score: -0.8493705496176509\n",
      "\n",
      "Training:\n",
      "Epoch: 8 ... Accuracy: 0.7143051197297591 ... Score: -0.7701193111384685\n",
      "\n",
      "Validation:\n",
      "Epoch: 8 ... Accuracy: 0.6256853771584812 ... Score: -1.0648202301405114\n",
      "\n",
      "Training:\n",
      "Epoch: 9 ... Accuracy: 0.7355223487861284 ... Score: -0.6878637834245044\n",
      "\n",
      "Validation:\n",
      "Epoch: 9 ... Accuracy: 0.7350094307897007 ... Score: -0.7061943473747313\n",
      "\n",
      "Training:\n",
      "Epoch: 10 ... Accuracy: 0.7574016818295599 ... Score: -0.6382478464533866\n",
      "\n",
      "Validation:\n",
      "Epoch: 10 ... Accuracy: 0.7231807348705277 ... Score: -0.7393501527934145\n",
      "\n",
      "Training:\n",
      "Epoch: 11 ... Accuracy: 0.7585584415695368 ... Score: -0.6363929941709219\n",
      "\n",
      "Validation:\n",
      "Epoch: 11 ... Accuracy: 0.7129165265451143 ... Score: -0.7720134004942026\n",
      "\n",
      "Training:\n",
      "Epoch: 12 ... Accuracy: 0.7388661875027231 ... Score: -0.7064961371571903\n",
      "\n",
      "Validation:\n",
      "Epoch: 12 ... Accuracy: 0.7508370739695582 ... Score: -0.6783314812919451\n",
      "\n",
      "Training:\n",
      "Epoch: 13 ... Accuracy: 0.76203897272217 ... Score: -0.6229825050768425\n",
      "\n",
      "Validation:\n",
      "Epoch: 13 ... Accuracy: 0.7488120129252994 ... Score: -0.6733510739403156\n",
      "\n",
      "Training:\n",
      "Epoch: 14 ... Accuracy: 0.7451463506109725 ... Score: -0.6629011816206768\n",
      "\n",
      "Validation:\n",
      "Epoch: 14 ... Accuracy: 0.6941865395581419 ... Score: -0.7923681882648809\n",
      "\n",
      "Training:\n",
      "Epoch: 15 ... Accuracy: 0.7491992813395175 ... Score: -0.6740843315440863\n",
      "\n",
      "Validation:\n",
      "Epoch: 15 ... Accuracy: 0.721835567967482 ... Score: -0.7658267293436463\n",
      "\n",
      "Training:\n",
      "Epoch: 16 ... Accuracy: 0.7510668417468952 ... Score: -0.6607388781480908\n",
      "\n",
      "Validation:\n",
      "Epoch: 16 ... Accuracy: 0.7062564882371003 ... Score: -0.8063544514789526\n",
      "\n",
      "Training:\n",
      "Epoch: 17 ... Accuracy: 0.7519664488415744 ... Score: -0.6471759983460216\n",
      "\n",
      "Validation:\n",
      "Epoch: 17 ... Accuracy: 0.7245112803941924 ... Score: -0.7062382115128741\n",
      "\n",
      "Training:\n",
      "Epoch: 18 ... Accuracy: 0.7643029411940597 ... Score: -0.6218133575848497\n",
      "\n",
      "Validation:\n",
      "Epoch: 18 ... Accuracy: 0.743701840831664 ... Score: -0.6916744038132557\n",
      "\n",
      "Training:\n",
      "Epoch: 19 ... Accuracy: 0.7625054356601518 ... Score: -0.6095438231678301\n",
      "\n",
      "Validation:\n",
      "Epoch: 19 ... Accuracy: 0.7017457926980831 ... Score: -0.7881681970377086\n",
      "\n",
      "Training:\n",
      "Epoch: 20 ... Accuracy: 0.7607472292016051 ... Score: -0.6244909274667217\n",
      "\n",
      "Validation:\n",
      "Epoch: 20 ... Accuracy: 0.6986533709590163 ... Score: -0.7852302136183528\n",
      "\n",
      "Class F1 Scores\n",
      "Training: \n",
      "[0.69917596 0.38911555 0.86817972 0.44983874 0.         0.63826662\n",
      " 0.66647449 0.95177635 0.77892841 0.50657404 0.56779779 0.12727273]\n",
      "\n",
      "Validation: \n",
      "[0.75212495 0.24773626 0.82309302 0.03803004 0.         0.36303325\n",
      " 0.45085344 0.         0.1884058  0.63808941 0.58593183]\n",
      "\n",
      "Training Runtime: 1895.3267583847046\n",
      "\n",
      "Model Fitting Complete\n"
     ]
    }
   ],
   "source": [
    "# Top Accuracy unbalanced\n",
    "Model = LSTM(2, 26, 12, 183, 2)\n",
    "Model.fit( x=x, y=y, xt = xt, yt = yt, optim = 'adamw',class_weights = 'unbal', lr = 0.0001, weight_decay = 0.1, n_epoch = 20, batchsize = 256, momentum = None, run_name = 'Selection_LSTM_new')"
   ]
  },
  {
   "cell_type": "code",
   "execution_count": 8,
   "id": "f7b4795c",
   "metadata": {
    "scrolled": true
   },
   "outputs": [
    {
     "name": "stdout",
     "output_type": "stream",
     "text": [
      "Device is cuda:0.\n",
      "\n"
     ]
    },
    {
     "data": {
      "text/html": [
       "Finishing last run (ID:5mdu4zdj) before initializing another..."
      ],
      "text/plain": [
       "<IPython.core.display.HTML object>"
      ]
     },
     "metadata": {},
     "output_type": "display_data"
    },
    {
     "data": {
      "text/html": [
       "<br/>Waiting for W&B process to finish, PID 30756... <strong style=\"color:green\">(success).</strong>"
      ],
      "text/plain": [
       "<IPython.core.display.HTML object>"
      ]
     },
     "metadata": {},
     "output_type": "display_data"
    },
    {
     "data": {
      "application/vnd.jupyter.widget-view+json": {
       "model_id": "",
       "version_major": 2,
       "version_minor": 0
      },
      "text/plain": [
       "VBox(children=(Label(value=' 0.00MB of 0.00MB uploaded (0.00MB deduped)\\r'), FloatProgress(value=1.0, max=1.0)…"
      ]
     },
     "metadata": {},
     "output_type": "display_data"
    },
    {
     "data": {
      "text/html": [
       "<style>\n",
       "    table.wandb td:nth-child(1) { padding: 0 10px; text-align: right }\n",
       "    .wandb-row { display: flex; flex-direction: row; flex-wrap: wrap; width: 100% }\n",
       "    .wandb-col { display: flex; flex-direction: column; flex-basis: 100%; flex: 1; padding: 10px; }\n",
       "    </style>\n",
       "<div class=\"wandb-row\"><div class=\"wandb-col\">\n",
       "<h3>Run history:</h3><br/><table class=\"wandb\"><tr><td>train_accuracy</td><td>▂▆▇▁▆▆▇▆▇██▇█▇▇▇████</td></tr><tr><td>train_batch_loss</td><td>▂▂▄▁█▂▄▃▄▆▆▅▅▄▃▂▃▅▂▆▆▅▃▄▄▂▄▂▁▃▁▄▄▄▆▃▄▁▂▂</td></tr><tr><td>train_epoch_loss</td><td>█▄▃▆▃▂▂▃▂▁▁▂▁▁▁▁▁▁▁▁</td></tr><tr><td>train_score</td><td>▁▆▇▃▆▆▇▆▇██▇█▇▇▇████</td></tr><tr><td>valid_accuracy</td><td>▂▇█▁▆▇▆▅█▇▇██▇▇▇▇█▇▇</td></tr><tr><td>valid_epoch_loss</td><td>█▃▂▆▃▃▂▄▁▂▂▂▁▃▂▂▁▁▁▂</td></tr><tr><td>valid_score</td><td>▁▇█▂▆▇▇▅█▇▇██▇▇▇██▇▇</td></tr></table><br/></div><div class=\"wandb-col\">\n",
       "<h3>Run summary:</h3><br/><table class=\"wandb\"><tr><td>train_accuracy</td><td>0.76075</td></tr><tr><td>train_batch_loss</td><td>0.37525</td></tr><tr><td>train_epoch_loss</td><td>0.68959</td></tr><tr><td>train_score</td><td>-0.62449</td></tr><tr><td>valid_accuracy</td><td>0.69865</td></tr><tr><td>valid_epoch_loss</td><td>0.86641</td></tr><tr><td>valid_score</td><td>-0.78523</td></tr></table>\n",
       "</div></div>\n",
       "Synced 6 W&B file(s), 0 media file(s), 0 artifact file(s) and 0 other file(s)\n",
       "<br/>Synced <strong style=\"color:#cdcd00\">vivid-grass-4</strong>: <a href=\"https://wandb.ai/2djagpal/Lithology-Selection_LSTM_new/runs/5mdu4zdj\" target=\"_blank\">https://wandb.ai/2djagpal/Lithology-Selection_LSTM_new/runs/5mdu4zdj</a><br/>\n",
       "Find logs at: <code>./wandb/run-20211206_074941-5mdu4zdj/logs</code><br/>\n"
      ],
      "text/plain": [
       "<IPython.core.display.HTML object>"
      ]
     },
     "metadata": {},
     "output_type": "display_data"
    },
    {
     "data": {
      "text/html": [
       "Successfully finished last run (ID:5mdu4zdj). Initializing new run:<br/>"
      ],
      "text/plain": [
       "<IPython.core.display.HTML object>"
      ]
     },
     "metadata": {},
     "output_type": "display_data"
    },
    {
     "data": {
      "text/html": [
       "\n",
       "                    Syncing run <strong><a href=\"https://wandb.ai/2djagpal/Lithology-Selection_LSTM_new/runs/1c3u8ta3\" target=\"_blank\">snowy-frost-5</a></strong> to <a href=\"https://wandb.ai/2djagpal/Lithology-Selection_LSTM_new\" target=\"_blank\">Weights & Biases</a> (<a href=\"https://docs.wandb.com/integrations/jupyter.html\" target=\"_blank\">docs</a>).<br/>\n",
       "\n",
       "                "
      ],
      "text/plain": [
       "<IPython.core.display.HTML object>"
      ]
     },
     "metadata": {},
     "output_type": "display_data"
    },
    {
     "name": "stdout",
     "output_type": "stream",
     "text": [
      "Loading Data ...\n",
      "\n",
      "Starting training...\n",
      "\n",
      "Training:\n",
      "Epoch: 1 ... Accuracy: 0.6576059515886651 ... Score: -0.9685779330565881\n",
      "\n",
      "Validation:\n",
      "Epoch: 1 ... Accuracy: 0.5882619566329887 ... Score: -1.2045786849531386\n",
      "\n",
      "Training:\n",
      "Epoch: 2 ... Accuracy: 0.6041463941816865 ... Score: -1.0684977543995742\n",
      "\n",
      "Validation:\n",
      "Epoch: 2 ... Accuracy: 0.6017794218706592 ... Score: -1.1121679119208105\n",
      "\n",
      "Training:\n",
      "Epoch: 3 ... Accuracy: 0.6589310138905144 ... Score: -0.8735251099733364\n",
      "\n",
      "Validation:\n",
      "Epoch: 3 ... Accuracy: 0.6139590308949746 ... Score: -1.001770100741304\n",
      "\n",
      "Training:\n",
      "Epoch: 4 ... Accuracy: 0.7002873104139987 ... Score: -0.7961394638751793\n",
      "\n",
      "Validation:\n",
      "Epoch: 4 ... Accuracy: 0.6416299913733862 ... Score: -0.9973708932200663\n",
      "\n",
      "Training:\n",
      "Epoch: 5 ... Accuracy: 0.6654905421649178 ... Score: -0.8709380988303399\n",
      "\n",
      "Validation:\n",
      "Epoch: 5 ... Accuracy: 0.6194420481628237 ... Score: -0.9896416665448219\n",
      "\n",
      "Training:\n",
      "Epoch: 6 ... Accuracy: 0.5271125175243975 ... Score: -1.179017540202527\n",
      "\n",
      "Validation:\n",
      "Epoch: 6 ... Accuracy: 0.4081411840393023 ... Score: -1.4726927463336892\n",
      "\n",
      "Training:\n",
      "Epoch: 7 ... Accuracy: 0.6510703444905687 ... Score: -0.9191057367252422\n",
      "\n",
      "Validation:\n",
      "Epoch: 7 ... Accuracy: 0.5458599564282894 ... Score: -1.2170114266079861\n",
      "\n",
      "Training:\n",
      "Epoch: 8 ... Accuracy: 0.7139360501524548 ... Score: -0.7504399787784993\n",
      "\n",
      "Validation:\n",
      "Epoch: 8 ... Accuracy: 0.6907358940242423 ... Score: -0.8352216235579665\n",
      "\n",
      "Training:\n",
      "Epoch: 9 ... Accuracy: 0.6760338006221215 ... Score: -0.8429464780766691\n",
      "\n",
      "Validation:\n",
      "Epoch: 9 ... Accuracy: 0.5831737166084249 ... Score: -1.1149788721067946\n",
      "\n",
      "Training:\n",
      "Epoch: 10 ... Accuracy: 0.735396762610518 ... Score: -0.7205445954800938\n",
      "\n",
      "Validation:\n",
      "Epoch: 10 ... Accuracy: 0.7061248958226719 ... Score: -0.821313036421856\n",
      "\n",
      "Training:\n",
      "Epoch: 11 ... Accuracy: 0.727924812325557 ... Score: -0.7229737695758519\n",
      "\n",
      "Validation:\n",
      "Epoch: 11 ... Accuracy: 0.6697907680610589 ... Score: -0.8613143888994488\n",
      "\n",
      "Training:\n",
      "Epoch: 12 ... Accuracy: 0.7449917172927037 ... Score: -0.6743016511591946\n",
      "\n",
      "Validation:\n",
      "Epoch: 12 ... Accuracy: 0.7148026844852543 ... Score: -0.7789402789759186\n",
      "\n",
      "Training:\n",
      "Epoch: 13 ... Accuracy: 0.7072389751142877 ... Score: -0.8232393800656295\n",
      "\n",
      "Validation:\n",
      "Epoch: 13 ... Accuracy: 0.5995715935841387 ... Score: -1.1936747912798094\n",
      "\n",
      "Training:\n",
      "Epoch: 14 ... Accuracy: 0.746896868119992 ... Score: -0.6599885648233976\n",
      "\n",
      "Validation:\n",
      "Epoch: 14 ... Accuracy: 0.7024914830465107 ... Score: -0.7572969821472958\n",
      "\n",
      "Training:\n",
      "Epoch: 15 ... Accuracy: 0.7496025240258315 ... Score: -0.65291323618488\n",
      "\n",
      "Validation:\n",
      "Epoch: 15 ... Accuracy: 0.7070606641030515 ... Score: -0.7662534908543271\n",
      "\n",
      "Training:\n",
      "Epoch: 16 ... Accuracy: 0.735489030004844 ... Score: -0.6744035297404296\n",
      "\n",
      "Validation:\n",
      "Epoch: 16 ... Accuracy: 0.6669395990817774 ... Score: -0.8564244513327387\n",
      "\n",
      "Training:\n",
      "Epoch: 17 ... Accuracy: 0.7405671540036788 ... Score: -0.6830006296395335\n",
      "\n",
      "Validation:\n",
      "Epoch: 17 ... Accuracy: 0.6738993756671005 ... Score: -0.8996050399894726\n",
      "\n",
      "Training:\n",
      "Epoch: 18 ... Accuracy: 0.6583475080541746 ... Score: -0.9291502813728363\n",
      "\n",
      "Validation:\n",
      "Epoch: 18 ... Accuracy: 0.5153378269705964 ... Score: -1.3201798795198338\n",
      "\n",
      "Training:\n",
      "Epoch: 19 ... Accuracy: 0.7576870272897905 ... Score: -0.6404913110598704\n",
      "\n",
      "Validation:\n",
      "Epoch: 19 ... Accuracy: 0.7300674045589461 ... Score: -0.7287642741216206\n",
      "\n",
      "Training:\n",
      "Epoch: 20 ... Accuracy: 0.7539202963492013 ... Score: -0.6666312832600463\n",
      "\n",
      "Validation:\n",
      "Epoch: 20 ... Accuracy: 0.68127586156478 ... Score: -0.9064204304534089\n",
      "\n",
      "Class F1 Scores\n",
      "Training: \n",
      "[0.6902695  0.37596603 0.86201837 0.56544737 0.15557664 0.62753721\n",
      " 0.60266532 0.96308167 0.80469102 0.72282729 0.3963111  0.14414414]\n",
      "\n",
      "Validation: \n",
      "[0.67991297 0.2978363  0.80752567 0.14781359 0.01633987 0.36207187\n",
      " 0.         0.45679012 0.72444926 0.3875674 ]\n",
      "\n",
      "Training Runtime: 1836.0247917175293\n",
      "\n",
      "Model Fitting Complete\n"
     ]
    }
   ],
   "source": [
    "# 2 Accuracy \n",
    "Model = LSTM(9, 26, 12, 317, 1)\n",
    "Model.fit( x=x, y=y, xt = xt, yt = yt, optim = 'adamw', lr = 0.0001, weight_decay = 0.1, n_epoch = 20, batchsize = 256, momentum = None, run_name = 'Selection_LSTM_new')"
   ]
  },
  {
   "cell_type": "code",
   "execution_count": 9,
   "id": "dcfaa8fe",
   "metadata": {},
   "outputs": [
    {
     "name": "stdout",
     "output_type": "stream",
     "text": [
      "Device is cuda:0.\n",
      "\n"
     ]
    },
    {
     "data": {
      "text/html": [
       "Finishing last run (ID:1c3u8ta3) before initializing another..."
      ],
      "text/plain": [
       "<IPython.core.display.HTML object>"
      ]
     },
     "metadata": {},
     "output_type": "display_data"
    },
    {
     "data": {
      "text/html": [
       "<br/>Waiting for W&B process to finish, PID 41532... <strong style=\"color:green\">(success).</strong>"
      ],
      "text/plain": [
       "<IPython.core.display.HTML object>"
      ]
     },
     "metadata": {},
     "output_type": "display_data"
    },
    {
     "data": {
      "application/vnd.jupyter.widget-view+json": {
       "model_id": "",
       "version_major": 2,
       "version_minor": 0
      },
      "text/plain": [
       "VBox(children=(Label(value=' 0.00MB of 0.00MB uploaded (0.00MB deduped)\\r'), FloatProgress(value=1.0, max=1.0)…"
      ]
     },
     "metadata": {},
     "output_type": "display_data"
    },
    {
     "data": {
      "text/html": [
       "<style>\n",
       "    table.wandb td:nth-child(1) { padding: 0 10px; text-align: right }\n",
       "    .wandb-row { display: flex; flex-direction: row; flex-wrap: wrap; width: 100% }\n",
       "    .wandb-col { display: flex; flex-direction: column; flex-basis: 100%; flex: 1; padding: 10px; }\n",
       "    </style>\n",
       "<div class=\"wandb-row\"><div class=\"wandb-col\">\n",
       "<h3>Run history:</h3><br/><table class=\"wandb\"><tr><td>train_accuracy</td><td>▅▃▅▆▅▁▅▇▆▇▇█▆██▇▇▅██</td></tr><tr><td>train_batch_loss</td><td>▄▅▆▂▃▄▂▄▄▄▅▄▁▃▄██▅▃▄▂▃▃▁▂▃▂▄▅▄▄▁▂▃▄▁▄▆▅▄</td></tr><tr><td>train_epoch_loss</td><td>█▆▅▅▃▆▃▃▂▃▁▂▂▃▁▂▁▁▁▁</td></tr><tr><td>train_score</td><td>▄▂▅▆▅▁▄▇▅▇▇█▆███▇▄██</td></tr><tr><td>valid_accuracy</td><td>▅▅▅▆▆▁▄▇▅▇▇█▅▇▇▇▇▃█▇</td></tr><tr><td>valid_epoch_loss</td><td>▇▄▄▆▁█▆▃▅▄▁▅▄▅▂▃▂▄▃▅</td></tr><tr><td>valid_score</td><td>▄▄▅▅▆▁▃▇▄▇▇█▄██▇▆▂█▆</td></tr></table><br/></div><div class=\"wandb-col\">\n",
       "<h3>Run summary:</h3><br/><table class=\"wandb\"><tr><td>train_accuracy</td><td>0.75392</td></tr><tr><td>train_batch_loss</td><td>0.36966</td></tr><tr><td>train_epoch_loss</td><td>1.02342</td></tr><tr><td>train_score</td><td>-0.66663</td></tr><tr><td>valid_accuracy</td><td>0.68128</td></tr><tr><td>valid_epoch_loss</td><td>1.81691</td></tr><tr><td>valid_score</td><td>-0.90642</td></tr></table>\n",
       "</div></div>\n",
       "Synced 6 W&B file(s), 0 media file(s), 0 artifact file(s) and 0 other file(s)\n",
       "<br/>Synced <strong style=\"color:#cdcd00\">snowy-frost-5</strong>: <a href=\"https://wandb.ai/2djagpal/Lithology-Selection_LSTM_new/runs/1c3u8ta3\" target=\"_blank\">https://wandb.ai/2djagpal/Lithology-Selection_LSTM_new/runs/1c3u8ta3</a><br/>\n",
       "Find logs at: <code>./wandb/run-20211206_082116-1c3u8ta3/logs</code><br/>\n"
      ],
      "text/plain": [
       "<IPython.core.display.HTML object>"
      ]
     },
     "metadata": {},
     "output_type": "display_data"
    },
    {
     "data": {
      "text/html": [
       "Successfully finished last run (ID:1c3u8ta3). Initializing new run:<br/>"
      ],
      "text/plain": [
       "<IPython.core.display.HTML object>"
      ]
     },
     "metadata": {},
     "output_type": "display_data"
    },
    {
     "data": {
      "text/html": [
       "\n",
       "                    Syncing run <strong><a href=\"https://wandb.ai/2djagpal/Lithology-Selection_LSTM_new/runs/1dbpnpa8\" target=\"_blank\">comfy-rain-6</a></strong> to <a href=\"https://wandb.ai/2djagpal/Lithology-Selection_LSTM_new\" target=\"_blank\">Weights & Biases</a> (<a href=\"https://docs.wandb.com/integrations/jupyter.html\" target=\"_blank\">docs</a>).<br/>\n",
       "\n",
       "                "
      ],
      "text/plain": [
       "<IPython.core.display.HTML object>"
      ]
     },
     "metadata": {},
     "output_type": "display_data"
    },
    {
     "name": "stdout",
     "output_type": "stream",
     "text": [
      "Loading Data ...\n",
      "\n",
      "Starting training...\n",
      "\n",
      "Training:\n",
      "Epoch: 1 ... Accuracy: 0.6572983936075782 ... Score: -0.9550678079915524\n",
      "\n",
      "Validation:\n",
      "Epoch: 1 ... Accuracy: 0.6056467767169155 ... Score: -1.1485276270963403\n",
      "\n",
      "Training:\n",
      "Epoch: 2 ... Accuracy: 0.5461375416377975 ... Score: -1.1731614440188942\n",
      "\n",
      "Validation:\n",
      "Epoch: 2 ... Accuracy: 0.4538183732253301 ... Score: -1.419299124179375\n",
      "\n",
      "Training:\n",
      "Epoch: 3 ... Accuracy: 0.7188697927657237 ... Score: -0.7712147728641593\n",
      "\n",
      "Validation:\n",
      "Epoch: 3 ... Accuracy: 0.7126825844750194 ... Score: -0.7995655622651441\n",
      "\n",
      "Training:\n",
      "Epoch: 4 ... Accuracy: 0.7233140055924293 ... Score: -0.7309745487227374\n",
      "\n",
      "Validation:\n",
      "Epoch: 4 ... Accuracy: 0.7085666661792873 ... Score: -0.744576382085886\n",
      "\n",
      "Training:\n",
      "Epoch: 5 ... Accuracy: 0.7104734598820515 ... Score: -0.7896661159100598\n",
      "\n",
      "Validation:\n",
      "Epoch: 5 ... Accuracy: 0.7297091807641133 ... Score: -0.7377061614492711\n",
      "\n",
      "Training:\n",
      "Epoch: 6 ... Accuracy: 0.7427371464257918 ... Score: -0.6759935404280695\n",
      "\n",
      "Validation:\n",
      "Epoch: 6 ... Accuracy: 0.7361352770020324 ... Score: -0.6858231105522495\n",
      "\n",
      "Training:\n",
      "Epoch: 7 ... Accuracy: 0.7331746561971652 ... Score: -0.7170376869589435\n",
      "\n",
      "Validation:\n",
      "Epoch: 7 ... Accuracy: 0.7266313804044273 ... Score: -0.7247223765590046\n",
      "\n",
      "Training:\n",
      "Epoch: 8 ... Accuracy: 0.7248825512959725 ... Score: -0.7561621590912003\n",
      "\n",
      "Validation:\n",
      "Epoch: 8 ... Accuracy: 0.7124340210255435 ... Score: -0.8021444080534558\n",
      "\n",
      "Training:\n",
      "Epoch: 9 ... Accuracy: 0.7561270248634998 ... Score: -0.6452067729393401\n",
      "\n",
      "Validation:\n",
      "Epoch: 9 ... Accuracy: 0.7411942742678345 ... Score: -0.68645914055532\n",
      "\n",
      "Training:\n",
      "Epoch: 10 ... Accuracy: 0.7550497176019704 ... Score: -0.6504981584965882\n",
      "\n",
      "Validation:\n",
      "Epoch: 10 ... Accuracy: 0.7415598087523577 ... Score: -0.6927079525682452\n",
      "\n",
      "Training:\n",
      "Epoch: 11 ... Accuracy: 0.7565635863310981 ... Score: -0.6224255901909508\n",
      "\n",
      "Validation:\n",
      "Epoch: 11 ... Accuracy: 0.7182898834676064 ... Score: -0.7155328396180896\n",
      "\n",
      "Training:\n",
      "Epoch: 12 ... Accuracy: 0.7378896909127722 ... Score: -0.666906376787574\n",
      "\n",
      "Validation:\n",
      "Epoch: 12 ... Accuracy: 0.6725834515228166 ... Score: -0.8322808986299768\n",
      "\n",
      "Training:\n",
      "Epoch: 13 ... Accuracy: 0.7602944355072272 ... Score: -0.6321669552870498\n",
      "\n",
      "Validation:\n",
      "Epoch: 13 ... Accuracy: 0.7470574473995877 ... Score: -0.6772440162004884\n",
      "\n",
      "Training:\n",
      "Epoch: 14 ... Accuracy: 0.6910964527458521 ... Score: -0.7824575121464045\n",
      "\n",
      "Validation:\n",
      "Epoch: 14 ... Accuracy: 0.5674338017048528 ... Score: -1.0934516324770078\n",
      "\n",
      "Training:\n",
      "Epoch: 15 ... Accuracy: 0.7698483824586014 ... Score: -0.6097841028405543\n",
      "\n",
      "Validation:\n",
      "Epoch: 15 ... Accuracy: 0.7571973740002632 ... Score: -0.6418483982278889\n",
      "\n",
      "Training:\n",
      "Epoch: 16 ... Accuracy: 0.7688001223397303 ... Score: -0.6107980830594502\n",
      "\n",
      "Validation:\n",
      "Epoch: 16 ... Accuracy: 0.7657655023174886 ... Score: -0.614855504218268\n",
      "\n",
      "Training:\n",
      "Epoch: 17 ... Accuracy: 0.7693383488066323 ... Score: -0.6093346196661117\n",
      "\n",
      "Validation:\n",
      "Epoch: 17 ... Accuracy: 0.7405582442647639 ... Score: -0.6940138245142047\n",
      "\n",
      "Training:\n",
      "Epoch: 18 ... Accuracy: 0.7608728153772156 ... Score: -0.6452135007701765\n",
      "\n",
      "Validation:\n",
      "Epoch: 18 ... Accuracy: 0.7220621993478865 ... Score: -0.7631400508824002\n",
      "\n",
      "Training:\n",
      "Epoch: 19 ... Accuracy: 0.7682140535202147 ... Score: -0.6146335873819212\n",
      "\n",
      "Validation:\n",
      "Epoch: 19 ... Accuracy: 0.750895559487082 ... Score: -0.6598144181422075\n",
      "\n",
      "Training:\n",
      "Epoch: 20 ... Accuracy: 0.7512266010315153 ... Score: -0.644632985080875\n",
      "\n",
      "Validation:\n",
      "Epoch: 20 ... Accuracy: 0.7084716272133113 ... Score: -0.7563977673153686\n",
      "\n",
      "Class F1 Scores\n",
      "Training: \n",
      "[0.69238041 0.23236154 0.87132168 0.48159285 0.0536105  0.30499049\n",
      " 0.59957916 0.97546495 0.80443975 0.52061369 0.42737764 0.14414414]\n",
      "\n",
      "Validation: \n",
      "[0.66104473 0.16031514 0.84808236 0.21893874 0.         0.25331504\n",
      " 0.52347745 0.046875   0.69274725 0.30512515]\n",
      "\n",
      "Training Runtime: 1833.1117038726807\n",
      "\n",
      "Model Fitting Complete\n"
     ]
    }
   ],
   "source": [
    "# 2 Accuracy  unbalanced\n",
    "Model = LSTM(9, 26, 12, 317, 1)\n",
    "Model.fit( x=x, y=y, xt = xt, yt = yt, optim = 'adamw',class_weights = 'unbal', lr = 0.0001, weight_decay = 0.1, n_epoch = 20, batchsize = 256, momentum = None, run_name = 'Selection_LSTM_new')"
   ]
  },
  {
   "cell_type": "code",
   "execution_count": null,
   "id": "f2af2d40",
   "metadata": {},
   "outputs": [],
   "source": []
  },
  {
   "cell_type": "code",
   "execution_count": null,
   "id": "bd2602f7",
   "metadata": {},
   "outputs": [],
   "source": []
  }
 ],
 "metadata": {
  "kernelspec": {
   "display_name": "Python 3 (ipykernel)",
   "language": "python",
   "name": "python3"
  },
  "language_info": {
   "codemirror_mode": {
    "name": "ipython",
    "version": 3
   },
   "file_extension": ".py",
   "mimetype": "text/x-python",
   "name": "python",
   "nbconvert_exporter": "python",
   "pygments_lexer": "ipython3",
   "version": "3.9.12"
  }
 },
 "nbformat": 4,
 "nbformat_minor": 5
}
