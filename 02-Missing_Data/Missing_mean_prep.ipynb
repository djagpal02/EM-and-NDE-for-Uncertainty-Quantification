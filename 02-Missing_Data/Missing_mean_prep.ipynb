{
 "cells": [
  {
   "cell_type": "code",
   "execution_count": 8,
   "id": "9e574b42",
   "metadata": {},
   "outputs": [],
   "source": [
    "import pandas as pd\n",
    "import numpy as np\n",
    "import utils2"
   ]
  },
  {
   "cell_type": "code",
   "execution_count": 5,
   "id": "af106ab5",
   "metadata": {},
   "outputs": [],
   "source": [
    "# Get datasets\n",
    "data = pd.read_csv(\"../../Data/Original/train.csv\", sep=';')\n",
    "X_test = pd.read_csv(\"../../Data/Original/test.csv\", sep=';')\n",
    "y_test = pd.read_csv(\"../../Data/Original/test_labels.csv\", sep=';')"
   ]
  },
  {
   "cell_type": "code",
   "execution_count": 6,
   "id": "e79b8ee2",
   "metadata": {},
   "outputs": [],
   "source": [
    "# encode categorical data\n",
    "for feature in [\"GROUP\", \"FORMATION\"]:\n",
    "    if feature in data.columns:\n",
    "        unique_list = data[feature].unique().tolist()\n",
    "        feature_enc = {x:unique_list.index(x)+1 for x in unique_list}\n",
    "        \n",
    "        data[feature] = data[feature].map(feature_enc)\n",
    "        \n",
    "        \n",
    "        for df in [X_test, hidden_data]:\n",
    "            updated_list = unique_list\n",
    "            df_list = df[feature].unique().tolist()\n",
    "\n",
    "            for i in df_list:\n",
    "                if i not in updated_list:\n",
    "                    updated_list.append(i)\n",
    "                    \n",
    "            enc = {x:updated_list.index(x)+1 for x in updated_list}\n",
    "            df[feature] = df[feature].map(enc)"
   ]
  },
  {
   "cell_type": "code",
   "execution_count": 10,
   "id": "8f0c8505",
   "metadata": {},
   "outputs": [],
   "source": [
    "# Get standardising values to ensure same values are applied to all datasets\n",
    "    \n",
    "for feature in utils2.Numerical:\n",
    "    mean = data[feature].mean()\n",
    "    std = data[feature].std()\n",
    "    \n",
    "    for d in [data,X_test]:\n",
    "        d[feature] =  (d[feature] - mean)/std\n",
    "        "
   ]
  },
  {
   "cell_type": "code",
   "execution_count": 12,
   "id": "61d48837",
   "metadata": {},
   "outputs": [],
   "source": [
    "# Set missing values to mean of given dataset\n",
    "\n",
    "for d in [data,X_test]:\n",
    "    for feature in utils2.Numerical:\n",
    "        d[feature].fillna(value = d[feature].mean(), inplace=True)"
   ]
  },
  {
   "cell_type": "code",
   "execution_count": 16,
   "id": "229a4998",
   "metadata": {},
   "outputs": [],
   "source": [
    "# Any cols with no data at all set to 0, i.e mean of training data\n",
    "data = data.fillna(0)\n",
    "X_test = X_test.fillna(0)"
   ]
  },
  {
   "cell_type": "code",
   "execution_count": 18,
   "id": "a031dae2",
   "metadata": {},
   "outputs": [],
   "source": [
    "features = utils2.Numerical + [\"GROUP\", \"FORMATION\"]"
   ]
  },
  {
   "cell_type": "code",
   "execution_count": 20,
   "id": "be293dc4",
   "metadata": {},
   "outputs": [],
   "source": [
    "# Push to CSV\n",
    "\n",
    "data[features].to_csv(\"../../Data/Missing_mean/X_train.csv\", index = False)\n",
    "\n",
    "X_test[features].to_csv(\"../../data/Missing_mean/X_test.csv\", index = False)"
   ]
  },
  {
   "cell_type": "code",
   "execution_count": null,
   "id": "e7066228",
   "metadata": {},
   "outputs": [],
   "source": []
  },
  {
   "cell_type": "code",
   "execution_count": null,
   "id": "fe3fc332",
   "metadata": {},
   "outputs": [],
   "source": []
  },
  {
   "cell_type": "code",
   "execution_count": null,
   "id": "c4aff09a",
   "metadata": {},
   "outputs": [],
   "source": []
  }
 ],
 "metadata": {
  "kernelspec": {
   "display_name": "Python 3 (ipykernel)",
   "language": "python",
   "name": "python3"
  },
  "language_info": {
   "codemirror_mode": {
    "name": "ipython",
    "version": 3
   },
   "file_extension": ".py",
   "mimetype": "text/x-python",
   "name": "python",
   "nbconvert_exporter": "python",
   "pygments_lexer": "ipython3",
   "version": "3.9.12"
  }
 },
 "nbformat": 4,
 "nbformat_minor": 5
}
