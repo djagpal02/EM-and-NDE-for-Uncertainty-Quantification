{
 "cells": [
  {
   "cell_type": "code",
   "execution_count": 2,
   "id": "9e574b42",
   "metadata": {},
   "outputs": [],
   "source": [
    "import pandas as pd\n",
    "import numpy as np\n",
    "import utils2"
   ]
  },
  {
   "cell_type": "code",
   "execution_count": 3,
   "id": "af106ab5",
   "metadata": {},
   "outputs": [],
   "source": [
    "# Get datasets\n",
    "data = pd.read_csv(\"../../Data/Original/train.csv\", sep=';')\n",
    "X_test = pd.read_csv(\"../../Data/Original/test.csv\", sep=';')\n",
    "y_test = pd.read_csv(\"../../Data/Original/test_labels.csv\", sep=';')"
   ]
  },
  {
   "cell_type": "code",
   "execution_count": 4,
   "id": "e79b8ee2",
   "metadata": {},
   "outputs": [],
   "source": [
    "# encode categorical data\n",
    "for feature in [\"GROUP\", \"FORMATION\"]:\n",
    "    if feature in data.columns:\n",
    "        unique_list = data[feature].unique().tolist()\n",
    "        feature_enc = {x:unique_list.index(x)+1 for x in unique_list}\n",
    "        \n",
    "        data[feature] = data[feature].map(feature_enc)\n",
    "        \n",
    "        \n",
    "        for df in [X_test]:\n",
    "            updated_list = unique_list\n",
    "            df_list = df[feature].unique().tolist()\n",
    "\n",
    "            for i in df_list:\n",
    "                if i not in updated_list:\n",
    "                    updated_list.append(i)\n",
    "                    \n",
    "            enc = {x:updated_list.index(x)+1 for x in updated_list}\n",
    "            df[feature] = df[feature].map(enc)"
   ]
  },
  {
   "cell_type": "code",
   "execution_count": 5,
   "id": "8f0c8505",
   "metadata": {},
   "outputs": [],
   "source": [
    "# Get standardising values to ensure same values are applied to all datasets\n",
    "    \n",
    "for feature in utils2.Numerical:\n",
    "    mean = data[feature].mean()\n",
    "    std = data[feature].std()\n",
    "    \n",
    "    for d in [data,X_test]:\n",
    "        d[feature] =  (d[feature] - mean)/std\n",
    "        "
   ]
  },
  {
   "cell_type": "code",
   "execution_count": 6,
   "id": "a91e31d8",
   "metadata": {},
   "outputs": [],
   "source": [
    "features = utils2.Numerical + [\"GROUP\", \"FORMATION\"]\n",
    "\n",
    "data = data[features]\n",
    "X_test = X_test[features]"
   ]
  },
  {
   "cell_type": "code",
   "execution_count": 7,
   "id": "81ae9b76",
   "metadata": {},
   "outputs": [],
   "source": [
    "from sklearn.experimental import enable_iterative_imputer\n",
    "from sklearn.impute import IterativeImputer"
   ]
  },
  {
   "cell_type": "code",
   "execution_count": 8,
   "id": "a09326c1",
   "metadata": {},
   "outputs": [],
   "source": [
    "imp = IterativeImputer(random_state=0, max_iter=100)"
   ]
  },
  {
   "cell_type": "code",
   "execution_count": null,
   "id": "7dcf6d2a",
   "metadata": {},
   "outputs": [],
   "source": [
    "data = pd.DataFrame(imp.fit_transform(data),columns = data.columns)"
   ]
  },
  {
   "cell_type": "code",
   "execution_count": null,
   "id": "e31c268a",
   "metadata": {},
   "outputs": [],
   "source": [
    "X_test = pd.DataFrame(imp.fit_transform(X_test),columns = X_test.columns)"
   ]
  },
  {
   "cell_type": "code",
   "execution_count": 20,
   "id": "be293dc4",
   "metadata": {},
   "outputs": [],
   "source": [
    "# Push to CSV\n",
    "\n",
    "data.to_csv(\"../../Data/Missing_MICE/X_train.csv\", index = False)\n",
    "\n",
    "X_test.to_csv(\"../../Data/Missing_MICE/X_test.csv\", index = False)"
   ]
  }
 ],
 "metadata": {
  "kernelspec": {
   "display_name": "Python 3 (ipykernel)",
   "language": "python",
   "name": "python3"
  },
  "language_info": {
   "codemirror_mode": {
    "name": "ipython",
    "version": 3
   },
   "file_extension": ".py",
   "mimetype": "text/x-python",
   "name": "python",
   "nbconvert_exporter": "python",
   "pygments_lexer": "ipython3",
   "version": "3.9.12"
  }
 },
 "nbformat": 4,
 "nbformat_minor": 5
}
