{
 "cells": [
  {
   "cell_type": "code",
   "execution_count": 1,
   "id": "9e574b42",
   "metadata": {},
   "outputs": [],
   "source": [
    "import pandas as pd\n",
    "import numpy as np\n",
    "import utils2"
   ]
  },
  {
   "cell_type": "code",
   "execution_count": 2,
   "id": "af106ab5",
   "metadata": {},
   "outputs": [],
   "source": [
    "# Get datasets\n",
    "data = pd.read_csv(\"../../Data/Original/train.csv\", sep=';')\n",
    "X_test = pd.read_csv(\"../../Data/Original/test.csv\", sep=';')\n",
    "y_test = pd.read_csv(\"../../Data/Original/test_labels.csv\", sep=';')"
   ]
  },
  {
   "cell_type": "code",
   "execution_count": 3,
   "id": "e79b8ee2",
   "metadata": {},
   "outputs": [],
   "source": [
    "# encode categorical data\n",
    "for feature in [\"GROUP\", \"FORMATION\"]:\n",
    "    if feature in data.columns:\n",
    "        unique_list = data[feature].unique().tolist()\n",
    "        feature_enc = {x:unique_list.index(x)+1 for x in unique_list}\n",
    "        \n",
    "        data[feature] = data[feature].map(feature_enc)\n",
    "        \n",
    "        \n",
    "        for df in [X_test]:\n",
    "            updated_list = unique_list\n",
    "            df_list = df[feature].unique().tolist()\n",
    "\n",
    "            for i in df_list:\n",
    "                if i not in updated_list:\n",
    "                    updated_list.append(i)\n",
    "                    \n",
    "            enc = {x:updated_list.index(x)+1 for x in updated_list}\n",
    "            df[feature] = df[feature].map(enc)"
   ]
  },
  {
   "cell_type": "code",
   "execution_count": 4,
   "id": "8f0c8505",
   "metadata": {},
   "outputs": [],
   "source": [
    "# Get standardising values to ensure same values are applied to all datasets\n",
    "    \n",
    "for feature in utils2.Numerical:\n",
    "    mean = data[feature].mean()\n",
    "    std = data[feature].std()\n",
    "    \n",
    "    for d in [data,X_test]:\n",
    "        d[feature] =  (d[feature] - mean)/std\n",
    "        "
   ]
  },
  {
   "cell_type": "code",
   "execution_count": 5,
   "id": "84e687b4",
   "metadata": {},
   "outputs": [],
   "source": [
    "features = utils2.Numerical + [\"GROUP\", \"FORMATION\"]\n",
    "\n",
    "data = data[features]\n",
    "X_test = X_test[features]"
   ]
  },
  {
   "cell_type": "code",
   "execution_count": 6,
   "id": "cd89e1df",
   "metadata": {},
   "outputs": [],
   "source": [
    "from sklearn.impute import KNNImputer"
   ]
  },
  {
   "cell_type": "code",
   "execution_count": 7,
   "id": "horizontal-dealer",
   "metadata": {},
   "outputs": [],
   "source": [
    "def KNN_impute(data, X_test, n):\n",
    "    imputer = KNNImputer(n_neighbors=n)\n",
    "    print('Imputing Training Data')\n",
    "    \n",
    "    data = pd.DataFrame(imputer.fit_transform(data),columns = data.columns)\n",
    "    data.to_csv(f'../../Data/Missing_KNN/X_train_{n}.csv', index = False)\n",
    "    \n",
    "    print('Training Data Imputed and Saved')\n",
    "    \n",
    "    print('Imputing Testing Data')\n",
    "    X_test = pd.DataFrame(imputer.fit_transform(X_test),columns = X_test.columns)\n",
    "    X_test.to_csv(f'../../Data/Missing_KNN/X_test_{n}.csv', index = False)\n",
    "    \n",
    "    print('Test Data Imputed and Saved')"
   ]
  },
  {
   "cell_type": "code",
   "execution_count": 9,
   "id": "b5ac0087",
   "metadata": {},
   "outputs": [
    {
     "name": "stdout",
     "output_type": "stream",
     "text": [
      "Imputing Training Data\n",
      "Training Data Imputed and Saved\n",
      "Imputing Testing Data\n"
     ]
    },
    {
     "ename": "ValueError",
     "evalue": "Shape of passed values is (136786, 25), indices imply (136786, 26)",
     "output_type": "error",
     "traceback": [
      "\u001b[0;31m---------------------------------------------------------------------------\u001b[0m",
      "\u001b[0;31mValueError\u001b[0m                                Traceback (most recent call last)",
      "\u001b[0;32m<ipython-input-9-813fefca2205>\u001b[0m in \u001b[0;36m<module>\u001b[0;34m\u001b[0m\n\u001b[1;32m      1\u001b[0m \u001b[0;31m# 50 Neighbours\u001b[0m\u001b[0;34m\u001b[0m\u001b[0;34m\u001b[0m\u001b[0;34m\u001b[0m\u001b[0m\n\u001b[0;32m----> 2\u001b[0;31m \u001b[0mKNN_impute\u001b[0m\u001b[0;34m(\u001b[0m\u001b[0mdata\u001b[0m\u001b[0;34m,\u001b[0m \u001b[0mX_test\u001b[0m\u001b[0;34m,\u001b[0m \u001b[0;36m50\u001b[0m\u001b[0;34m)\u001b[0m\u001b[0;34m\u001b[0m\u001b[0;34m\u001b[0m\u001b[0m\n\u001b[0m",
      "\u001b[0;32m<ipython-input-7-93b00ae507e6>\u001b[0m in \u001b[0;36mKNN_impute\u001b[0;34m(data, X_test, n)\u001b[0m\n\u001b[1;32m      9\u001b[0m \u001b[0;34m\u001b[0m\u001b[0m\n\u001b[1;32m     10\u001b[0m     \u001b[0mprint\u001b[0m\u001b[0;34m(\u001b[0m\u001b[0;34m'Imputing Testing Data'\u001b[0m\u001b[0;34m)\u001b[0m\u001b[0;34m\u001b[0m\u001b[0;34m\u001b[0m\u001b[0m\n\u001b[0;32m---> 11\u001b[0;31m     \u001b[0mX_test\u001b[0m \u001b[0;34m=\u001b[0m \u001b[0mpd\u001b[0m\u001b[0;34m.\u001b[0m\u001b[0mDataFrame\u001b[0m\u001b[0;34m(\u001b[0m\u001b[0mimputer\u001b[0m\u001b[0;34m.\u001b[0m\u001b[0mfit_transform\u001b[0m\u001b[0;34m(\u001b[0m\u001b[0mX_test\u001b[0m\u001b[0;34m)\u001b[0m\u001b[0;34m,\u001b[0m\u001b[0mcolumns\u001b[0m \u001b[0;34m=\u001b[0m \u001b[0mX_test\u001b[0m\u001b[0;34m.\u001b[0m\u001b[0mcolumns\u001b[0m\u001b[0;34m)\u001b[0m\u001b[0;34m\u001b[0m\u001b[0;34m\u001b[0m\u001b[0m\n\u001b[0m\u001b[1;32m     12\u001b[0m     \u001b[0mX_test\u001b[0m\u001b[0;34m.\u001b[0m\u001b[0mto_csv\u001b[0m\u001b[0;34m(\u001b[0m\u001b[0;34mf'./data/Missing_KNN/X_test_{n}.csv'\u001b[0m\u001b[0;34m,\u001b[0m \u001b[0mindex\u001b[0m \u001b[0;34m=\u001b[0m \u001b[0;32mFalse\u001b[0m\u001b[0;34m)\u001b[0m\u001b[0;34m\u001b[0m\u001b[0;34m\u001b[0m\u001b[0m\n\u001b[1;32m     13\u001b[0m \u001b[0;34m\u001b[0m\u001b[0m\n",
      "\u001b[0;32m/usr/local/lib/python3.8/dist-packages/pandas/core/frame.py\u001b[0m in \u001b[0;36m__init__\u001b[0;34m(self, data, index, columns, dtype, copy)\u001b[0m\n\u001b[1;32m    670\u001b[0m                 )\n\u001b[1;32m    671\u001b[0m             \u001b[0;32melse\u001b[0m\u001b[0;34m:\u001b[0m\u001b[0;34m\u001b[0m\u001b[0;34m\u001b[0m\u001b[0m\n\u001b[0;32m--> 672\u001b[0;31m                 mgr = ndarray_to_mgr(\n\u001b[0m\u001b[1;32m    673\u001b[0m                     \u001b[0mdata\u001b[0m\u001b[0;34m,\u001b[0m\u001b[0;34m\u001b[0m\u001b[0;34m\u001b[0m\u001b[0m\n\u001b[1;32m    674\u001b[0m                     \u001b[0mindex\u001b[0m\u001b[0;34m,\u001b[0m\u001b[0;34m\u001b[0m\u001b[0;34m\u001b[0m\u001b[0m\n",
      "\u001b[0;32m/usr/local/lib/python3.8/dist-packages/pandas/core/internals/construction.py\u001b[0m in \u001b[0;36mndarray_to_mgr\u001b[0;34m(values, index, columns, dtype, copy, typ)\u001b[0m\n\u001b[1;32m    322\u001b[0m     )\n\u001b[1;32m    323\u001b[0m \u001b[0;34m\u001b[0m\u001b[0m\n\u001b[0;32m--> 324\u001b[0;31m     \u001b[0m_check_values_indices_shape_match\u001b[0m\u001b[0;34m(\u001b[0m\u001b[0mvalues\u001b[0m\u001b[0;34m,\u001b[0m \u001b[0mindex\u001b[0m\u001b[0;34m,\u001b[0m \u001b[0mcolumns\u001b[0m\u001b[0;34m)\u001b[0m\u001b[0;34m\u001b[0m\u001b[0;34m\u001b[0m\u001b[0m\n\u001b[0m\u001b[1;32m    325\u001b[0m \u001b[0;34m\u001b[0m\u001b[0m\n\u001b[1;32m    326\u001b[0m     \u001b[0;32mif\u001b[0m \u001b[0mtyp\u001b[0m \u001b[0;34m==\u001b[0m \u001b[0;34m\"array\"\u001b[0m\u001b[0;34m:\u001b[0m\u001b[0;34m\u001b[0m\u001b[0;34m\u001b[0m\u001b[0m\n",
      "\u001b[0;32m/usr/local/lib/python3.8/dist-packages/pandas/core/internals/construction.py\u001b[0m in \u001b[0;36m_check_values_indices_shape_match\u001b[0;34m(values, index, columns)\u001b[0m\n\u001b[1;32m    391\u001b[0m         \u001b[0mpassed\u001b[0m \u001b[0;34m=\u001b[0m \u001b[0mvalues\u001b[0m\u001b[0;34m.\u001b[0m\u001b[0mshape\u001b[0m\u001b[0;34m\u001b[0m\u001b[0;34m\u001b[0m\u001b[0m\n\u001b[1;32m    392\u001b[0m         \u001b[0mimplied\u001b[0m \u001b[0;34m=\u001b[0m \u001b[0;34m(\u001b[0m\u001b[0mlen\u001b[0m\u001b[0;34m(\u001b[0m\u001b[0mindex\u001b[0m\u001b[0;34m)\u001b[0m\u001b[0;34m,\u001b[0m \u001b[0mlen\u001b[0m\u001b[0;34m(\u001b[0m\u001b[0mcolumns\u001b[0m\u001b[0;34m)\u001b[0m\u001b[0;34m)\u001b[0m\u001b[0;34m\u001b[0m\u001b[0;34m\u001b[0m\u001b[0m\n\u001b[0;32m--> 393\u001b[0;31m         \u001b[0;32mraise\u001b[0m \u001b[0mValueError\u001b[0m\u001b[0;34m(\u001b[0m\u001b[0;34mf\"Shape of passed values is {passed}, indices imply {implied}\"\u001b[0m\u001b[0;34m)\u001b[0m\u001b[0;34m\u001b[0m\u001b[0;34m\u001b[0m\u001b[0m\n\u001b[0m\u001b[1;32m    394\u001b[0m \u001b[0;34m\u001b[0m\u001b[0m\n\u001b[1;32m    395\u001b[0m \u001b[0;34m\u001b[0m\u001b[0m\n",
      "\u001b[0;31mValueError\u001b[0m: Shape of passed values is (136786, 25), indices imply (136786, 26)"
     ]
    }
   ],
   "source": [
    "# 50 Neighbours\n",
    "KNN_impute(data, X_test, 50)"
   ]
  },
  {
   "cell_type": "code",
   "execution_count": null,
   "id": "ambient-uganda",
   "metadata": {},
   "outputs": [],
   "source": []
  },
  {
   "cell_type": "code",
   "execution_count": 10,
   "id": "quick-czech",
   "metadata": {},
   "outputs": [],
   "source": [
    "data = pd.read_csv(\"./data/Missing_KNN/X_train_50.csv\")\n",
    "\n",
    "# Concat Train and test data, for better inference of missing values\n",
    "combined_data = pd.concat([data,X_test])\n",
    "\n",
    "imputer = KNNImputer(n_neighbors=50)\n",
    "combined_data = pd.DataFrame(imputer.fit_transform(combined_data),columns = combined_data.columns)\n",
    "\n",
    "combined_data[1170511:].to_csv(\"../../Data/Missing_KNN/X_test_50_C.csv\", index = False)"
   ]
  },
  {
   "cell_type": "code",
   "execution_count": null,
   "id": "eligible-responsibility",
   "metadata": {},
   "outputs": [],
   "source": []
  }
 ],
 "metadata": {
  "kernelspec": {
   "display_name": "Python 3 (ipykernel)",
   "language": "python",
   "name": "python3"
  },
  "language_info": {
   "codemirror_mode": {
    "name": "ipython",
    "version": 3
   },
   "file_extension": ".py",
   "mimetype": "text/x-python",
   "name": "python",
   "nbconvert_exporter": "python",
   "pygments_lexer": "ipython3",
   "version": "3.9.12"
  }
 },
 "nbformat": 4,
 "nbformat_minor": 5
}
