{
 "cells": [
  {
   "cell_type": "code",
   "execution_count": 1,
   "id": "d064b4e4",
   "metadata": {},
   "outputs": [],
   "source": [
    "from pytorch_tabnet.tab_model import TabNetClassifier\n",
    "import pandas as pd\n",
    "from matplotlib import pyplot as plt\n",
    "import torch\n",
    "import numpy as np"
   ]
  },
  {
   "cell_type": "code",
   "execution_count": 2,
   "id": "ce366be8",
   "metadata": {},
   "outputs": [],
   "source": [
    "A = np.load('../penalty_matrix.npy')"
   ]
  },
  {
   "cell_type": "code",
   "execution_count": 3,
   "id": "9d21128a",
   "metadata": {},
   "outputs": [],
   "source": [
    "def score(y_test, y_pred):\n",
    "    S = 0.0\n",
    "    for i in range(0, y_test.shape[0]):\n",
    "        S -= A[y_test[i], y_pred[i]]\n",
    "    return S/y_test.shape[0]"
   ]
  },
  {
   "cell_type": "code",
   "execution_count": 4,
   "id": "01000007",
   "metadata": {},
   "outputs": [],
   "source": [
    "n_d = 8+47\n",
    "n_a = n_d\n",
    "n_steps=3+1\n",
    "lr=0.01\n",
    "gamma=1+0.7399990400995684\n",
    "n_independent=1+1\n",
    "n_shared =1+1\n",
    "momentum=0.34076354946098486\n",
    "\n",
    "y = pd.read_csv('../../Data/Y_train.csv').to_numpy().reshape(-1)"
   ]
  },
  {
   "cell_type": "code",
   "execution_count": null,
   "id": "db4ca52a",
   "metadata": {
    "scrolled": true
   },
   "outputs": [
    {
     "name": "stdout",
     "output_type": "stream",
     "text": [
      "Device used : cuda\n",
      "epoch 0  | loss: 0.80085 | val_0_accuracy: 0.76186 |  0:00:54s\n",
      "epoch 1  | loss: 0.61073 | val_0_accuracy: 0.81261 |  0:01:48s\n",
      "epoch 2  | loss: 0.53523 | val_0_accuracy: 0.83831 |  0:02:43s\n",
      "epoch 3  | loss: 0.47977 | val_0_accuracy: 0.84204 |  0:03:37s\n",
      "epoch 4  | loss: 0.47289 | val_0_accuracy: 0.84648 |  0:04:32s\n",
      "epoch 5  | loss: 0.43873 | val_0_accuracy: 0.85307 |  0:05:25s\n",
      "epoch 6  | loss: 0.42401 | val_0_accuracy: 0.85612 |  0:06:19s\n",
      "epoch 7  | loss: 0.40928 | val_0_accuracy: 0.86112 |  0:07:12s\n",
      "epoch 8  | loss: 0.4011  | val_0_accuracy: 0.86818 |  0:08:05s\n",
      "epoch 9  | loss: 0.37921 | val_0_accuracy: 0.87543 |  0:08:58s\n",
      "epoch 10 | loss: 0.36902 | val_0_accuracy: 0.87322 |  0:09:52s\n",
      "epoch 11 | loss: 0.36514 | val_0_accuracy: 0.87436 |  0:10:47s\n",
      "epoch 12 | loss: 0.36412 | val_0_accuracy: 0.87565 |  0:11:42s\n",
      "epoch 13 | loss: 0.34863 | val_0_accuracy: 0.8784  |  0:12:36s\n",
      "epoch 14 | loss: 0.33596 | val_0_accuracy: 0.88091 |  0:13:30s\n",
      "epoch 15 | loss: 0.33203 | val_0_accuracy: 0.88529 |  0:14:25s\n",
      "epoch 16 | loss: 0.32371 | val_0_accuracy: 0.88687 |  0:15:19s\n",
      "epoch 17 | loss: 0.3196  | val_0_accuracy: 0.89032 |  0:16:14s\n",
      "epoch 18 | loss: 0.31347 | val_0_accuracy: 0.89357 |  0:17:08s\n",
      "epoch 19 | loss: 0.31121 | val_0_accuracy: 0.89725 |  0:18:02s\n",
      "epoch 20 | loss: 0.30318 | val_0_accuracy: 0.88557 |  0:18:56s\n",
      "epoch 21 | loss: 0.30379 | val_0_accuracy: 0.89792 |  0:19:51s\n",
      "epoch 22 | loss: 0.29829 | val_0_accuracy: 0.89789 |  0:20:45s\n",
      "epoch 23 | loss: 0.29718 | val_0_accuracy: 0.8968  |  0:21:39s\n",
      "epoch 24 | loss: 0.29864 | val_0_accuracy: 0.8984  |  0:22:32s\n",
      "epoch 25 | loss: 0.29101 | val_0_accuracy: 0.90383 |  0:23:26s\n",
      "epoch 26 | loss: 0.28923 | val_0_accuracy: 0.90197 |  0:24:19s\n",
      "epoch 27 | loss: 0.28609 | val_0_accuracy: 0.90125 |  0:25:12s\n",
      "epoch 28 | loss: 0.29131 | val_0_accuracy: 0.90315 |  0:26:05s\n",
      "epoch 29 | loss: 0.28787 | val_0_accuracy: 0.89713 |  0:26:59s\n",
      "epoch 30 | loss: 0.283   | val_0_accuracy: 0.90436 |  0:27:52s\n",
      "epoch 31 | loss: 0.28177 | val_0_accuracy: 0.90438 |  0:28:45s\n",
      "epoch 32 | loss: 0.28079 | val_0_accuracy: 0.90603 |  0:29:38s\n",
      "epoch 33 | loss: 0.27985 | val_0_accuracy: 0.90273 |  0:30:32s\n",
      "epoch 34 | loss: 0.27851 | val_0_accuracy: 0.907   |  0:31:27s\n",
      "epoch 35 | loss: 0.27973 | val_0_accuracy: 0.90535 |  0:32:21s\n",
      "epoch 36 | loss: 0.27908 | val_0_accuracy: 0.90085 |  0:33:16s\n",
      "epoch 37 | loss: 0.27853 | val_0_accuracy: 0.90824 |  0:34:10s\n",
      "epoch 38 | loss: 0.27494 | val_0_accuracy: 0.90408 |  0:35:05s\n",
      "epoch 39 | loss: 0.27137 | val_0_accuracy: 0.90558 |  0:35:59s\n",
      "epoch 40 | loss: 0.26739 | val_0_accuracy: 0.90724 |  0:36:54s\n",
      "epoch 41 | loss: 0.26806 | val_0_accuracy: 0.90893 |  0:37:48s\n",
      "epoch 42 | loss: 0.26636 | val_0_accuracy: 0.9106  |  0:38:43s\n",
      "epoch 43 | loss: 0.26403 | val_0_accuracy: 0.91153 |  0:39:37s\n",
      "epoch 44 | loss: 0.26348 | val_0_accuracy: 0.90841 |  0:40:32s\n",
      "epoch 45 | loss: 0.26378 | val_0_accuracy: 0.90649 |  0:41:26s\n",
      "epoch 46 | loss: 0.26124 | val_0_accuracy: 0.91076 |  0:42:19s\n",
      "epoch 47 | loss: 0.26075 | val_0_accuracy: 0.90601 |  0:43:13s\n",
      "epoch 48 | loss: 0.2614  | val_0_accuracy: 0.91131 |  0:44:07s\n",
      "epoch 49 | loss: 0.25886 | val_0_accuracy: 0.91018 |  0:45:01s\n",
      "epoch 50 | loss: 0.26147 | val_0_accuracy: 0.91066 |  0:45:56s\n",
      "epoch 51 | loss: 0.25874 | val_0_accuracy: 0.91113 |  0:46:50s\n",
      "epoch 52 | loss: 0.26051 | val_0_accuracy: 0.9095  |  0:47:44s\n",
      "epoch 53 | loss: 0.25834 | val_0_accuracy: 0.91382 |  0:48:39s\n",
      "epoch 54 | loss: 0.2546  | val_0_accuracy: 0.91453 |  0:49:33s\n",
      "epoch 55 | loss: 0.2564  | val_0_accuracy: 0.91348 |  0:50:28s\n"
     ]
    }
   ],
   "source": [
    "# KNN - k = 5\n",
    "x = pd.read_csv('../../Data/Missing_KNN/X_train_5.csv').to_numpy()\n",
    "xt = pd.read_csv('../../Data/Missing_KNN/X_test_5_C.csv').to_numpy()\n",
    "\n",
    "clf = TabNetClassifier(n_d =n_d, n_a = n_d, n_steps=n_steps,  cat_idxs = [24,25], optimizer_params=dict(lr=lr), gamma=1+gamma, n_independent=n_independent, n_shared = n_shared, momentum= momentum)\n",
    "clf.fit(x,y, eval_set=[(x,y)], max_epochs = 100)\n",
    "\n",
    "# Train Accuracy\n",
    "pred = clf.predict(x)\n",
    "np.mean(y == pred)"
   ]
  },
  {
   "cell_type": "code",
   "execution_count": 5,
   "id": "9b9c92fb",
   "metadata": {},
   "outputs": [
    {
     "name": "stdout",
     "output_type": "stream",
     "text": [
      "Device used : cuda\n",
      "epoch 0  | loss: 0.75491 | val_0_accuracy: 0.78959 |  0:00:59s\n",
      "epoch 1  | loss: 0.57493 | val_0_accuracy: 0.81521 |  0:01:58s\n",
      "epoch 2  | loss: 0.49343 | val_0_accuracy: 0.846   |  0:02:57s\n",
      "epoch 3  | loss: 0.44363 | val_0_accuracy: 0.85574 |  0:03:56s\n",
      "epoch 4  | loss: 0.41246 | val_0_accuracy: 0.86777 |  0:04:55s\n",
      "epoch 5  | loss: 0.38603 | val_0_accuracy: 0.8785  |  0:05:54s\n",
      "epoch 6  | loss: 0.36463 | val_0_accuracy: 0.87878 |  0:06:52s\n",
      "epoch 7  | loss: 0.35455 | val_0_accuracy: 0.88373 |  0:07:50s\n",
      "epoch 8  | loss: 0.34538 | val_0_accuracy: 0.88631 |  0:08:48s\n",
      "epoch 9  | loss: 0.33075 | val_0_accuracy: 0.88865 |  0:09:46s\n",
      "epoch 10 | loss: 0.32829 | val_0_accuracy: 0.88944 |  0:10:44s\n",
      "epoch 11 | loss: 0.31728 | val_0_accuracy: 0.89519 |  0:11:42s\n",
      "epoch 12 | loss: 0.31448 | val_0_accuracy: 0.89034 |  0:12:40s\n",
      "epoch 13 | loss: 0.31307 | val_0_accuracy: 0.89643 |  0:13:38s\n",
      "epoch 14 | loss: 0.30891 | val_0_accuracy: 0.89497 |  0:14:36s\n",
      "epoch 15 | loss: 0.29922 | val_0_accuracy: 0.90014 |  0:15:34s\n",
      "epoch 16 | loss: 0.29631 | val_0_accuracy: 0.89993 |  0:16:32s\n",
      "epoch 17 | loss: 0.29963 | val_0_accuracy: 0.89374 |  0:17:30s\n",
      "epoch 18 | loss: 0.2953  | val_0_accuracy: 0.90225 |  0:18:28s\n",
      "epoch 19 | loss: 0.28918 | val_0_accuracy: 0.9015  |  0:19:26s\n",
      "epoch 20 | loss: 0.29085 | val_0_accuracy: 0.89631 |  0:20:24s\n",
      "epoch 21 | loss: 0.28367 | val_0_accuracy: 0.90752 |  0:21:22s\n",
      "epoch 22 | loss: 0.28003 | val_0_accuracy: 0.90554 |  0:22:20s\n",
      "epoch 23 | loss: 0.27759 | val_0_accuracy: 0.90712 |  0:23:18s\n",
      "epoch 24 | loss: 0.27503 | val_0_accuracy: 0.8999  |  0:24:16s\n",
      "epoch 25 | loss: 0.27651 | val_0_accuracy: 0.90706 |  0:25:15s\n",
      "epoch 26 | loss: 0.27164 | val_0_accuracy: 0.90718 |  0:26:14s\n",
      "epoch 27 | loss: 0.27253 | val_0_accuracy: 0.90542 |  0:27:12s\n",
      "epoch 28 | loss: 0.27029 | val_0_accuracy: 0.9103  |  0:28:12s\n",
      "epoch 29 | loss: 0.27108 | val_0_accuracy: 0.90449 |  0:29:10s\n",
      "epoch 30 | loss: 0.2676  | val_0_accuracy: 0.9074  |  0:30:09s\n",
      "epoch 31 | loss: 0.26529 | val_0_accuracy: 0.91201 |  0:31:08s\n",
      "epoch 32 | loss: 0.26501 | val_0_accuracy: 0.91234 |  0:32:07s\n",
      "epoch 33 | loss: 0.26309 | val_0_accuracy: 0.90922 |  0:33:06s\n",
      "epoch 34 | loss: 0.26113 | val_0_accuracy: 0.91425 |  0:34:04s\n",
      "epoch 35 | loss: 0.26268 | val_0_accuracy: 0.91034 |  0:35:02s\n",
      "epoch 36 | loss: 0.26266 | val_0_accuracy: 0.90995 |  0:36:00s\n",
      "epoch 37 | loss: 0.25992 | val_0_accuracy: 0.91234 |  0:36:58s\n",
      "epoch 38 | loss: 0.25863 | val_0_accuracy: 0.90828 |  0:37:56s\n",
      "epoch 39 | loss: 0.2576  | val_0_accuracy: 0.91371 |  0:38:54s\n",
      "epoch 40 | loss: 0.25785 | val_0_accuracy: 0.91227 |  0:39:53s\n",
      "epoch 41 | loss: 0.25623 | val_0_accuracy: 0.91483 |  0:40:51s\n",
      "epoch 42 | loss: 0.2562  | val_0_accuracy: 0.91531 |  0:41:49s\n",
      "epoch 43 | loss: 0.25566 | val_0_accuracy: 0.91535 |  0:42:47s\n",
      "epoch 44 | loss: 0.25612 | val_0_accuracy: 0.91026 |  0:43:45s\n",
      "epoch 45 | loss: 0.25516 | val_0_accuracy: 0.90917 |  0:44:43s\n",
      "epoch 46 | loss: 0.2529  | val_0_accuracy: 0.91787 |  0:45:41s\n",
      "epoch 47 | loss: 0.25364 | val_0_accuracy: 0.9061  |  0:46:39s\n",
      "epoch 48 | loss: 0.25297 | val_0_accuracy: 0.91283 |  0:47:37s\n",
      "epoch 49 | loss: 0.25379 | val_0_accuracy: 0.91212 |  0:48:35s\n",
      "epoch 50 | loss: 0.2525  | val_0_accuracy: 0.91544 |  0:49:33s\n",
      "epoch 51 | loss: 0.25364 | val_0_accuracy: 0.91298 |  0:50:32s\n",
      "epoch 52 | loss: 0.25237 | val_0_accuracy: 0.91501 |  0:51:31s\n",
      "epoch 53 | loss: 0.24869 | val_0_accuracy: 0.91036 |  0:52:30s\n",
      "epoch 54 | loss: 0.24986 | val_0_accuracy: 0.91633 |  0:53:29s\n",
      "epoch 55 | loss: 0.24862 | val_0_accuracy: 0.91432 |  0:54:28s\n",
      "epoch 56 | loss: 0.24904 | val_0_accuracy: 0.91578 |  0:55:27s\n",
      "\n",
      "Early stopping occurred at epoch 56 with best_epoch = 46 and best_val_0_accuracy = 0.91787\n",
      "Best weights from best epoch are automatically used!\n"
     ]
    },
    {
     "data": {
      "text/plain": [
       "0.9178683498061958"
      ]
     },
     "execution_count": 5,
     "metadata": {},
     "output_type": "execute_result"
    }
   ],
   "source": [
    "# KNN - k = 50\n",
    "x = pd.read_csv('../../Data/Missing_KNN/X_train_50.csv').to_numpy()\n",
    "xt = pd.read_csv('../../Data/Missing_KNN/X_test_50_C.csv').to_numpy()\n",
    "\n",
    "clf = TabNetClassifier(n_d =n_d, n_a = n_d, n_steps=n_steps,  cat_idxs = [24,25], optimizer_params=dict(lr=lr), gamma=1+gamma, n_independent=n_independent, n_shared = n_shared, momentum= momentum)\n",
    "clf.fit(x,y, eval_set=[(x,y)], max_epochs = 100)  \n",
    "\n",
    "# Train Accuracy\n",
    "pred = clf.predict(x)\n",
    "np.mean(y == pred)"
   ]
  },
  {
   "cell_type": "code",
   "execution_count": null,
   "id": "5c3c771f",
   "metadata": {},
   "outputs": [],
   "source": [
    "# KNN - k = 100\n",
    "x = pd.read_csv('../../Data/Missing_KNN/X_train_100.csv').to_numpy()\n",
    "xt = pd.read_csv('../../Data/Missing_KNN/X_test_100_C.csv').to_numpy()\n",
    "\n",
    "clf = TabNetClassifier(n_d =n_d, n_a = n_d, n_steps=n_steps,  cat_idxs = [24,25], optimizer_params=dict(lr=lr), gamma=1+gamma, n_independent=n_independent, n_shared = n_shared, momentum= momentum)\n",
    "clf.fit(x,y, eval_set=[(x,y)], max_epochs = 100)  \n",
    "\n",
    "# Train Accuracy\n",
    "pred = clf.predict(x)\n",
    "np.mean(y == pred)"
   ]
  },
  {
   "cell_type": "code",
   "execution_count": 6,
   "id": "c1b8293b",
   "metadata": {},
   "outputs": [
    {
     "name": "stdout",
     "output_type": "stream",
     "text": [
      "Device used : cuda\n",
      "epoch 0  | loss: 0.77011 | val_0_accuracy: 0.78105 |  0:00:59s\n",
      "epoch 1  | loss: 0.59841 | val_0_accuracy: 0.80857 |  0:01:58s\n",
      "epoch 2  | loss: 0.53282 | val_0_accuracy: 0.83562 |  0:02:57s\n",
      "epoch 3  | loss: 0.45021 | val_0_accuracy: 0.85886 |  0:03:56s\n",
      "epoch 4  | loss: 0.4131  | val_0_accuracy: 0.85805 |  0:04:55s\n",
      "epoch 5  | loss: 0.40107 | val_0_accuracy: 0.86682 |  0:05:54s\n",
      "epoch 6  | loss: 0.37359 | val_0_accuracy: 0.87488 |  0:06:53s\n",
      "epoch 7  | loss: 0.36366 | val_0_accuracy: 0.87528 |  0:07:52s\n",
      "epoch 8  | loss: 0.35762 | val_0_accuracy: 0.87244 |  0:08:51s\n",
      "epoch 9  | loss: 0.3469  | val_0_accuracy: 0.88247 |  0:09:50s\n",
      "epoch 10 | loss: 0.33277 | val_0_accuracy: 0.88335 |  0:10:48s\n",
      "epoch 11 | loss: 0.32939 | val_0_accuracy: 0.88597 |  0:11:47s\n",
      "epoch 12 | loss: 0.31887 | val_0_accuracy: 0.88646 |  0:12:46s\n",
      "epoch 13 | loss: 0.31415 | val_0_accuracy: 0.88302 |  0:13:44s\n",
      "epoch 14 | loss: 0.31413 | val_0_accuracy: 0.88702 |  0:14:43s\n",
      "epoch 15 | loss: 0.30476 | val_0_accuracy: 0.88728 |  0:15:42s\n",
      "epoch 16 | loss: 0.3002  | val_0_accuracy: 0.89509 |  0:16:41s\n",
      "epoch 17 | loss: 0.29717 | val_0_accuracy: 0.89614 |  0:17:40s\n",
      "epoch 18 | loss: 0.29324 | val_0_accuracy: 0.89652 |  0:18:39s\n",
      "epoch 19 | loss: 0.29048 | val_0_accuracy: 0.89949 |  0:19:38s\n",
      "epoch 20 | loss: 0.28748 | val_0_accuracy: 0.89272 |  0:20:37s\n",
      "epoch 21 | loss: 0.28687 | val_0_accuracy: 0.89914 |  0:21:35s\n",
      "epoch 22 | loss: 0.28606 | val_0_accuracy: 0.89966 |  0:22:34s\n",
      "epoch 23 | loss: 0.28054 | val_0_accuracy: 0.90095 |  0:23:31s\n",
      "epoch 24 | loss: 0.28055 | val_0_accuracy: 0.89995 |  0:24:30s\n",
      "epoch 25 | loss: 0.27772 | val_0_accuracy: 0.90275 |  0:25:28s\n",
      "epoch 26 | loss: 0.27715 | val_0_accuracy: 0.90038 |  0:26:26s\n",
      "epoch 27 | loss: 0.27475 | val_0_accuracy: 0.90406 |  0:27:24s\n",
      "epoch 28 | loss: 0.27535 | val_0_accuracy: 0.90324 |  0:28:22s\n",
      "epoch 29 | loss: 0.27165 | val_0_accuracy: 0.90294 |  0:29:20s\n",
      "epoch 30 | loss: 0.27057 | val_0_accuracy: 0.90415 |  0:30:18s\n",
      "epoch 31 | loss: 0.26716 | val_0_accuracy: 0.90623 |  0:31:17s\n",
      "epoch 32 | loss: 0.2671  | val_0_accuracy: 0.90513 |  0:32:15s\n",
      "epoch 33 | loss: 0.26598 | val_0_accuracy: 0.90564 |  0:33:13s\n",
      "epoch 34 | loss: 0.26628 | val_0_accuracy: 0.90571 |  0:34:11s\n",
      "epoch 35 | loss: 0.26564 | val_0_accuracy: 0.90643 |  0:35:09s\n",
      "epoch 36 | loss: 0.26206 | val_0_accuracy: 0.90418 |  0:36:07s\n",
      "epoch 37 | loss: 0.26075 | val_0_accuracy: 0.90765 |  0:37:05s\n",
      "epoch 38 | loss: 0.25984 | val_0_accuracy: 0.90443 |  0:38:04s\n",
      "epoch 39 | loss: 0.25931 | val_0_accuracy: 0.90601 |  0:39:02s\n",
      "epoch 40 | loss: 0.25859 | val_0_accuracy: 0.90366 |  0:40:00s\n",
      "epoch 41 | loss: 0.25832 | val_0_accuracy: 0.9091  |  0:40:58s\n",
      "epoch 42 | loss: 0.25684 | val_0_accuracy: 0.90982 |  0:41:56s\n",
      "epoch 43 | loss: 0.25471 | val_0_accuracy: 0.90728 |  0:42:54s\n",
      "epoch 44 | loss: 0.25525 | val_0_accuracy: 0.90779 |  0:43:52s\n",
      "epoch 45 | loss: 0.25533 | val_0_accuracy: 0.90521 |  0:44:49s\n",
      "epoch 46 | loss: 0.25362 | val_0_accuracy: 0.91141 |  0:45:43s\n",
      "epoch 47 | loss: 0.25346 | val_0_accuracy: 0.90329 |  0:46:39s\n",
      "epoch 48 | loss: 0.25282 | val_0_accuracy: 0.9088  |  0:47:34s\n",
      "epoch 49 | loss: 0.25201 | val_0_accuracy: 0.90633 |  0:48:30s\n",
      "epoch 50 | loss: 0.25148 | val_0_accuracy: 0.90941 |  0:49:25s\n",
      "epoch 51 | loss: 0.2513  | val_0_accuracy: 0.9051  |  0:50:21s\n",
      "epoch 52 | loss: 0.25088 | val_0_accuracy: 0.90941 |  0:51:17s\n",
      "epoch 53 | loss: 0.24893 | val_0_accuracy: 0.90952 |  0:52:12s\n",
      "epoch 54 | loss: 0.24949 | val_0_accuracy: 0.90979 |  0:53:08s\n",
      "epoch 55 | loss: 0.24949 | val_0_accuracy: 0.91199 |  0:54:04s\n",
      "epoch 56 | loss: 0.24832 | val_0_accuracy: 0.91037 |  0:54:58s\n",
      "epoch 57 | loss: 0.24767 | val_0_accuracy: 0.91186 |  0:55:53s\n",
      "epoch 58 | loss: 0.24762 | val_0_accuracy: 0.9105  |  0:56:48s\n",
      "epoch 59 | loss: 0.24774 | val_0_accuracy: 0.91194 |  0:57:44s\n",
      "epoch 60 | loss: 0.24686 | val_0_accuracy: 0.90927 |  0:58:39s\n",
      "epoch 61 | loss: 0.24611 | val_0_accuracy: 0.9113  |  0:59:35s\n",
      "epoch 62 | loss: 0.24528 | val_0_accuracy: 0.90938 |  1:00:30s\n",
      "epoch 63 | loss: 0.2445  | val_0_accuracy: 0.91259 |  1:01:26s\n",
      "epoch 64 | loss: 0.24408 | val_0_accuracy: 0.90868 |  1:02:21s\n",
      "epoch 65 | loss: 0.24434 | val_0_accuracy: 0.91296 |  1:03:17s\n",
      "epoch 66 | loss: 0.24341 | val_0_accuracy: 0.91026 |  1:04:12s\n",
      "epoch 67 | loss: 0.24263 | val_0_accuracy: 0.91116 |  1:05:08s\n",
      "epoch 68 | loss: 0.24259 | val_0_accuracy: 0.91259 |  1:06:03s\n",
      "epoch 69 | loss: 0.24225 | val_0_accuracy: 0.91333 |  1:06:58s\n",
      "epoch 70 | loss: 0.24232 | val_0_accuracy: 0.91162 |  1:07:53s\n",
      "epoch 71 | loss: 0.24097 | val_0_accuracy: 0.90842 |  1:08:49s\n",
      "epoch 72 | loss: 0.24193 | val_0_accuracy: 0.91492 |  1:09:45s\n",
      "epoch 73 | loss: 0.24132 | val_0_accuracy: 0.91361 |  1:10:41s\n",
      "epoch 74 | loss: 0.2409  | val_0_accuracy: 0.91155 |  1:11:36s\n",
      "epoch 75 | loss: 0.24047 | val_0_accuracy: 0.91506 |  1:12:31s\n",
      "epoch 76 | loss: 0.23995 | val_0_accuracy: 0.91137 |  1:13:27s\n",
      "epoch 77 | loss: 0.24004 | val_0_accuracy: 0.91367 |  1:14:22s\n",
      "epoch 78 | loss: 0.2394  | val_0_accuracy: 0.91382 |  1:15:18s\n",
      "epoch 79 | loss: 0.23906 | val_0_accuracy: 0.91278 |  1:16:14s\n",
      "epoch 80 | loss: 0.23948 | val_0_accuracy: 0.91299 |  1:17:09s\n",
      "epoch 81 | loss: 0.23885 | val_0_accuracy: 0.91082 |  1:18:05s\n",
      "epoch 82 | loss: 0.23886 | val_0_accuracy: 0.91347 |  1:19:01s\n",
      "epoch 83 | loss: 0.23862 | val_0_accuracy: 0.90362 |  1:19:56s\n",
      "epoch 84 | loss: 0.23809 | val_0_accuracy: 0.9118  |  1:20:52s\n",
      "epoch 85 | loss: 0.23766 | val_0_accuracy: 0.91328 |  1:21:47s\n",
      "\n",
      "Early stopping occurred at epoch 85 with best_epoch = 75 and best_val_0_accuracy = 0.91506\n",
      "Best weights from best epoch are automatically used!\n"
     ]
    },
    {
     "data": {
      "text/plain": [
       "0.9150644462119536"
      ]
     },
     "execution_count": 6,
     "metadata": {},
     "output_type": "execute_result"
    }
   ],
   "source": [
    "# Missing Mean\n",
    "x = pd.read_csv('../../Data/Missing_mean/X_train.csv').to_numpy()\n",
    "xt = pd.read_csv('../../Data/Missing_mean/X_test.csv').to_numpy()\n",
    "\n",
    "clf = TabNetClassifier(n_d =n_d, n_a = n_d, n_steps=n_steps,  cat_idxs = [24,25], optimizer_params=dict(lr=lr), gamma=1+gamma, n_independent=n_independent, n_shared = n_shared, momentum= momentum)\n",
    "clf.fit(x,y, eval_set=[(x,y)], max_epochs = 100)  \n",
    "\n",
    "# Train Accuracy\n",
    "pred = clf.predict(x)\n",
    "np.mean(y == pred)"
   ]
  },
  {
   "cell_type": "code",
   "execution_count": 7,
   "id": "17ba43a6",
   "metadata": {},
   "outputs": [
    {
     "name": "stdout",
     "output_type": "stream",
     "text": [
      "Device used : cuda\n",
      "epoch 0  | loss: 0.78615 | val_0_accuracy: 0.76427 |  0:00:55s\n",
      "epoch 1  | loss: 0.63901 | val_0_accuracy: 0.7832  |  0:01:51s\n",
      "epoch 2  | loss: 0.59099 | val_0_accuracy: 0.79859 |  0:02:46s\n",
      "epoch 3  | loss: 0.52966 | val_0_accuracy: 0.78367 |  0:03:42s\n",
      "epoch 4  | loss: 0.47055 | val_0_accuracy: 0.82771 |  0:04:38s\n",
      "epoch 5  | loss: 0.42531 | val_0_accuracy: 0.86059 |  0:05:33s\n",
      "epoch 6  | loss: 0.41291 | val_0_accuracy: 0.83734 |  0:06:29s\n",
      "epoch 7  | loss: 0.39263 | val_0_accuracy: 0.85731 |  0:07:24s\n",
      "epoch 8  | loss: 0.38359 | val_0_accuracy: 0.8494  |  0:08:20s\n",
      "epoch 9  | loss: 0.36005 | val_0_accuracy: 0.85367 |  0:09:15s\n",
      "epoch 10 | loss: 0.34496 | val_0_accuracy: 0.886   |  0:10:11s\n",
      "epoch 11 | loss: 0.33126 | val_0_accuracy: 0.86021 |  0:11:07s\n",
      "epoch 12 | loss: 0.32308 | val_0_accuracy: 0.85321 |  0:12:02s\n",
      "epoch 13 | loss: 0.31333 | val_0_accuracy: 0.86703 |  0:12:58s\n",
      "epoch 14 | loss: 0.31437 | val_0_accuracy: 0.86605 |  0:13:53s\n",
      "epoch 15 | loss: 0.30854 | val_0_accuracy: 0.8694  |  0:14:49s\n",
      "epoch 16 | loss: 0.30614 | val_0_accuracy: 0.87814 |  0:15:44s\n",
      "epoch 17 | loss: 0.29571 | val_0_accuracy: 0.88578 |  0:16:40s\n",
      "epoch 18 | loss: 0.29295 | val_0_accuracy: 0.87328 |  0:17:36s\n",
      "epoch 19 | loss: 0.29402 | val_0_accuracy: 0.87305 |  0:18:31s\n",
      "epoch 20 | loss: 0.28724 | val_0_accuracy: 0.88384 |  0:19:27s\n",
      "\n",
      "Early stopping occurred at epoch 20 with best_epoch = 10 and best_val_0_accuracy = 0.886\n",
      "Best weights from best epoch are automatically used!\n"
     ]
    },
    {
     "data": {
      "text/plain": [
       "0.8860044886378684"
      ]
     },
     "execution_count": 7,
     "metadata": {},
     "output_type": "execute_result"
    }
   ],
   "source": [
    "# Missing MICE\n",
    "x = pd.read_csv('../../Data/Missing_MICE/X_train_preTrain.csv').to_numpy()\n",
    "xt = pd.read_csv('../../Data/Missing_MICE/X_test_preTrain.csv').to_numpy()\n",
    "\n",
    "clf = TabNetClassifier(n_d =n_d, n_a = n_d, n_steps=n_steps,  cat_idxs = [24,25], optimizer_params=dict(lr=lr), gamma=1+gamma, n_independent=n_independent, n_shared = n_shared, momentum= momentum)\n",
    "clf.fit(x,y, eval_set=[(x,y)], max_epochs = 100)  \n",
    "\n",
    "# Train Accuracy\n",
    "pred = clf.predict(x)\n",
    "np.mean(y == pred)"
   ]
  },
  {
   "cell_type": "code",
   "execution_count": null,
   "id": "21a8ea2b",
   "metadata": {},
   "outputs": [],
   "source": []
  }
 ],
 "metadata": {
  "kernelspec": {
   "display_name": "Python 3 (ipykernel)",
   "language": "python",
   "name": "python3"
  },
  "language_info": {
   "codemirror_mode": {
    "name": "ipython",
    "version": 3
   },
   "file_extension": ".py",
   "mimetype": "text/x-python",
   "name": "python",
   "nbconvert_exporter": "python",
   "pygments_lexer": "ipython3",
   "version": "3.9.12"
  }
 },
 "nbformat": 4,
 "nbformat_minor": 5
}
