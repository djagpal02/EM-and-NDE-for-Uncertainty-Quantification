{
 "cells": [
  {
   "cell_type": "code",
   "execution_count": 1,
   "id": "42770c14",
   "metadata": {},
   "outputs": [],
   "source": [
    "import pandas as pd\n",
    "import numpy as np"
   ]
  },
  {
   "cell_type": "code",
   "execution_count": 2,
   "id": "76c2863b",
   "metadata": {},
   "outputs": [],
   "source": [
    "def augment_features_window(X, N_neig):\n",
    "    \n",
    "    # Parameters\n",
    "    N_row = X.shape[0]\n",
    "    N_feat = X.shape[1]\n",
    " \n",
    "    # Zero padding\n",
    "    X = np.vstack((np.zeros((N_neig, N_feat)), X, (np.zeros((N_neig, N_feat)))))\n",
    " \n",
    "    # Loop over windows\n",
    "    X_aug = np.zeros((N_row, N_feat*(2*N_neig+1)))\n",
    "    for r in np.arange(N_row)+N_neig:\n",
    "        this_row = []\n",
    "        for c in np.arange(-N_neig,N_neig+1):\n",
    "            this_row = np.hstack((this_row, X[r+c]))\n",
    "        X_aug[r-N_neig] = this_row\n",
    " \n",
    "    return X_aug\n",
    " \n",
    "# Feature gradient computation function\n",
    "def augment_features_gradient(X, depth):\n",
    "    \n",
    "    # Compute features gradient\n",
    "    d_diff = np.diff(depth).reshape((-1, 1))\n",
    "    d_diff[d_diff==0] = 0.001\n",
    "    X_diff = np.diff(X, axis=0)\n",
    "    X_grad = X_diff / d_diff\n",
    "        \n",
    "    # Compensate for last missing value\n",
    "    X_grad = np.concatenate((X_grad, np.zeros((1, X_grad.shape[1]))))\n",
    "    \n",
    "    return X_grad\n",
    " \n",
    "# Feature augmentation function\n",
    "def augment_features(X, well, depth, N_neig=1):\n",
    "    \n",
    "    # Augment features\n",
    "    X_aug = np.zeros((X.shape[0], X.shape[1]*(N_neig*2+2)))\n",
    "    for w in np.unique(well):\n",
    "        w_idx = np.where(well == w)[0]\n",
    "        X_aug_win = augment_features_window(X[w_idx, :], N_neig)\n",
    "        X_aug_grad = augment_features_gradient(X[w_idx, :], depth[w_idx])\n",
    "        X_aug[w_idx, :] = np.concatenate((X_aug_win, X_aug_grad), axis=1)\n",
    "    \n",
    "    # Find padded rows\n",
    "    padded_rows = np.unique(np.where(X_aug[:, 0:7] == np.zeros((1, 7)))[0])\n",
    "    \n",
    "    return X_aug, padded_rows\n",
    "\n",
    "# Custom function to transform data from df input\n",
    "def augment_data(df, df_0):\n",
    "    well = df_0.WELL.values\n",
    "    depth = df.DEPTH_MD.values  \n",
    "    \n",
    "    df = df.drop(['SGR', 'DTS', 'RXO', 'ROPA'], axis = 1)\n",
    "    print(f'Shape before augmentation {df.shape}')\n",
    "    df1, padded_rows = augment_features(pd.DataFrame(df).values, well, depth)        \n",
    "    print(f'Shape after augmentation {df1.shape}')\n",
    "    \n",
    "    return df1"
   ]
  },
  {
   "cell_type": "code",
   "execution_count": 3,
   "id": "673383f3",
   "metadata": {},
   "outputs": [],
   "source": [
    "train = pd.read_csv('X_train.csv')\n",
    "train_0 = pd.read_csv('Original/train.csv', sep=';')\n",
    "\n",
    "test = pd.read_csv( 'X_test.csv')\n",
    "test_0 = pd.read_csv('Original/test.csv', sep=';')\n",
    "\n",
    "hidden_test = pd.read_csv( 'X_hidden.csv')\n",
    "hidden_0 = pd.read_csv('Original/hidden_test.csv', sep=';')"
   ]
  },
  {
   "cell_type": "code",
   "execution_count": 4,
   "id": "15ada0d7",
   "metadata": {},
   "outputs": [
    {
     "name": "stdout",
     "output_type": "stream",
     "text": [
      "Shape before augmentation (1170511, 22)\n",
      "Shape after augmentation (1170511, 88)\n",
      "Shape before augmentation (136786, 22)\n",
      "Shape after augmentation (136786, 88)\n",
      "Shape before augmentation (122397, 22)\n",
      "Shape after augmentation (122397, 88)\n"
     ]
    }
   ],
   "source": [
    "np.save('train_aug', augment_data(train, train_0))\n",
    "np.save('test_aug', augment_data(test, test_0))\n",
    "np.save('hidden_aug', augment_data(hidden_test, hidden_0))"
   ]
  },
  {
   "cell_type": "code",
   "execution_count": null,
   "id": "c48d6d29",
   "metadata": {},
   "outputs": [],
   "source": []
  }
 ],
 "metadata": {
  "kernelspec": {
   "display_name": "Python 3 (ipykernel)",
   "language": "python",
   "name": "python3"
  },
  "language_info": {
   "codemirror_mode": {
    "name": "ipython",
    "version": 3
   },
   "file_extension": ".py",
   "mimetype": "text/x-python",
   "name": "python",
   "nbconvert_exporter": "python",
   "pygments_lexer": "ipython3",
   "version": "3.9.12"
  }
 },
 "nbformat": 4,
 "nbformat_minor": 5
}
